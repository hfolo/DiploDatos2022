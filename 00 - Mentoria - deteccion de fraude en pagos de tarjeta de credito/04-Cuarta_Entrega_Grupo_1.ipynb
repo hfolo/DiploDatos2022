{
  "cells": [
    {
      "cell_type": "markdown",
      "metadata": {
        "id": "4c45e7fc"
      },
      "source": [
        "# Mentoria de  Detección de Fraude de Tarjeta de Crédito  \n",
        "## Trabajo: Aprendizaje  no supervisado."
      ],
      "id": "4c45e7fc"
    },
    {
      "cell_type": "markdown",
      "metadata": {
        "id": "5110104c"
      },
      "source": [
        "Para el siguiente práctico vamos a suponer la siguiente situación hipotética: nuestros clientes, representados por el área de negocio de la empresa, están interesados en contar con un producto que además de poder detectar fraude en tiempo real, también pueda ayudarles a inferirlo a partir de pagos sobre los cuales no existen todavía etiquetas (es decir, no tenemos confirmación de que sean o no fraudes).\n",
        "Así que, en orden de obtener este producto y ofrecerlo, deben ponerse manos a la obra con la información que les dieron de los pagos que conocemos (es decir, el que venimos trabajando en los tres últimos prácticos)\n",
        "El objetivo es estudiar la viabilidad de dicho producto dada la información que podemos utilizar para estudiarlo (en este caso, los componentes del PCA). "
      ],
      "id": "5110104c"
    },
    {
      "cell_type": "markdown",
      "metadata": {
        "id": "462fe7cf"
      },
      "source": [
        "La idea es que vamos a usar al menos dos técnicas de aprendizaje no supervisado que se especializan en el encontrar **anomalías**. Hipotéticamente hablando,  esa anomalía debería ser considerada por defecto candidato a un pago fraudulento. "
      ],
      "id": "462fe7cf"
    },
    {
      "cell_type": "markdown",
      "metadata": {
        "id": "acae1ec8"
      },
      "source": [
        "Para consultar sobre las técnicas que pueden utilizar y cómo armar el código para nuestro caso particular, dejamos el siguiente recurso:\n",
        "\n",
        "[Artículo: Fraud Detection applying Unsupervised Learning techniques](https://medium.com/southworks/fraud-detection-applying-unsupervised-learning-techniques-4ae6f71b266f)\n",
        "\n",
        "[Repo con el notebook](https://github.com/southworks/machine-learning-unsupervised/blob/main/anomaly-detection/fraud_detection.ipynb)"
      ],
      "id": "acae1ec8"
    },
    {
      "cell_type": "markdown",
      "metadata": {
        "id": "74789ee4"
      },
      "source": [
        "1. Preparamos los datos para comenzar el entrenamiento del modelo. La particularidad aquí es que no vamos a utilizar la etiqueta en la etapa de entrenamiento, si no que la recuperaremos en la estapa de evaluación y medición de performance. Dicho de otra forma, los datos serán analizados de forma agnóstica al target. Para esto debemos considerar la cantidad de registros en el train y en el test. \n",
        "\n"
      ],
      "id": "74789ee4"
    },
    {
      "cell_type": "markdown",
      "metadata": {
        "id": "90add3f2"
      },
      "source": [
        "2. Ahora vamos a elegir dos tipos de modelos entre los siguientes: Isolation Forest, LOF Novelty Detection y Gaussian Mixture. Como en el práctico anterior, la idea es aproximarnos a la resolución del problema teniendo en cuenta una variedad de estrategias para solucionarlo. \n",
        "- Entrenar ambos modelos con los datasets.\n",
        "- Comparar los modelos entrenados con la instancia de test usando marcando falsos positivos y negativos; verdaderos positivos y verdaderos negativos; y precission y recall y F1.\n",
        "- ¿Qué modelo dio mejor resultado? ¿Hay una mejoría en general con el dataset balanceado? Graficar si es posible los resultados y desarrollar una respuesta."
      ],
      "id": "90add3f2"
    },
    {
      "cell_type": "markdown",
      "metadata": {
        "id": "d2L8b1HKhD8R"
      },
      "source": [
        "# Presentación : Equipo de trabajo <a class=\"anchor\" id=\"presentacion\"></a>"
      ],
      "id": "d2L8b1HKhD8R"
    },
    {
      "cell_type": "markdown",
      "metadata": {
        "id": "n5YiWVulgz6a"
      },
      "source": [
        "\n",
        "Integrantes:\n",
        "\n",
        "* Baulina,David\n",
        "\n",
        "* Carabajal,Javier\n",
        "\n",
        "* Folonier,Hugo\n",
        "\n",
        "* Tula,Melani"
      ],
      "id": "n5YiWVulgz6a"
    },
    {
      "cell_type": "markdown",
      "metadata": {
        "id": "juY6fK-d8B8u"
      },
      "source": [
        "# 1.-Inicialización del entorno"
      ],
      "id": "juY6fK-d8B8u"
    },
    {
      "cell_type": "code",
      "execution_count": null,
      "metadata": {
        "id": "dd10af4b"
      },
      "outputs": [],
      "source": [
        "import io\n",
        "import plotly.graph_objs as go\n",
        "import matplotlib.pyplot as plt\n",
        "import numpy as np\n",
        "import pandas as pd\n",
        "from sklearn.ensemble import IsolationForest\n",
        "from tensorflow.keras.layers import Input, Dense\n",
        "from tensorflow.keras.models import Model, Sequential\n",
        "from tensorflow.keras.optimizers import Adam\n",
        "from sklearn.metrics import classification_report, confusion_matrix, accuracy_score, precision_recall_fscore_support, mean_squared_error, recall_score\n",
        "from sklearn.mixture import GaussianMixture\n",
        "from sklearn.cluster import KMeans,MeanShift,DBSCAN\n",
        "from sklearn.preprocessing import StandardScaler\n",
        "from sklearn.neighbors import LocalOutlierFactor\n",
        "from sklearn.model_selection import train_test_split\n",
        "from google.colab import files\n",
        "\n",
        "import warnings\n",
        "warnings.filterwarnings('ignore')"
      ],
      "id": "dd10af4b"
    },
    {
      "cell_type": "markdown",
      "metadata": {
        "id": "NkDHkWqI6MDU"
      },
      "source": [
        "\n",
        "# 2.-Preparación de datos"
      ],
      "id": "NkDHkWqI6MDU"
    },
    {
      "cell_type": "code",
      "execution_count": null,
      "metadata": {
        "id": "jTieYimMmbSB"
      },
      "outputs": [],
      "source": [
        "df_1 = pd.read_csv('https://raw.githubusercontent.com/p-eleuterio/card-fraud-detection-2022/main/dataset/fraud_data_pt1.csv', index_col=0)\n",
        "df_2 = pd.read_csv('https://raw.githubusercontent.com/p-eleuterio/card-fraud-detection-2022/main/dataset/fraud_data_pt2.csv', index_col=0)\n",
        "df_unidos=pd.concat([df_1,df_2], ignore_index=True)"
      ],
      "id": "jTieYimMmbSB"
    },
    {
      "cell_type": "code",
      "execution_count": null,
      "metadata": {
        "id": "_8rUSF3PmbjP"
      },
      "outputs": [],
      "source": [
        "def acc_hour_1(df):\n",
        "    df_time = df.Time.to_numpy()\n",
        "    df_filtered = df[['Time', 'Class']]\n",
        "    response = [] \n",
        "    for t in df_time:\n",
        "        df_t = df_filtered[(df_filtered.Time > (t -3600)) & (df_filtered.Time <= t)]\n",
        "        if df_t.Class.value_counts()[0] == df_t.shape[0]:\n",
        "            response.append(0)\n",
        "        else:\n",
        "            response.append(df_t.Class.value_counts()[1])\n",
        "    return response"
      ],
      "id": "_8rUSF3PmbjP"
    },
    {
      "cell_type": "code",
      "execution_count": null,
      "metadata": {
        "colab": {
          "base_uri": "https://localhost:8080/",
          "height": 299
        },
        "id": "NLmy7uaqmtEi",
        "outputId": "997775c4-ba87-4958-c40d-383103e68114"
      },
      "outputs": [
        {
          "output_type": "execute_result",
          "data": {
            "text/plain": [
              "   Time        V1        V2        V3        V4        V5        V6        V7  \\\n",
              "0   0.0 -1.359807 -0.072781  2.536347  1.378155 -0.338321  0.462388  0.239599   \n",
              "1   0.0  1.191857  0.266151  0.166480  0.448154  0.060018 -0.082361 -0.078803   \n",
              "2   1.0 -1.358354 -1.340163  1.773209  0.379780 -0.503198  1.800499  0.791461   \n",
              "3   1.0 -0.966272 -0.185226  1.792993 -0.863291 -0.010309  1.247203  0.237609   \n",
              "4   2.0 -1.158233  0.877737  1.548718  0.403034 -0.407193  0.095921  0.592941   \n",
              "\n",
              "         V8        V9  ...       V22       V23       V24       V25       V26  \\\n",
              "0  0.098698  0.363787  ...  0.277838 -0.110474  0.066928  0.128539 -0.189115   \n",
              "1  0.085102 -0.255425  ... -0.638672  0.101288 -0.339846  0.167170  0.125895   \n",
              "2  0.247676 -1.514654  ...  0.771679  0.909412 -0.689281 -0.327642 -0.139097   \n",
              "3  0.377436 -1.387024  ...  0.005274 -0.190321 -1.175575  0.647376 -0.221929   \n",
              "4 -0.270533  0.817739  ...  0.798278 -0.137458  0.141267 -0.206010  0.502292   \n",
              "\n",
              "        V27       V28  Amount  Class  last_hour_fraud  \n",
              "0  0.133558 -0.021053  149.62      0                0  \n",
              "1 -0.008983  0.014724    2.69      0                0  \n",
              "2 -0.055353 -0.059752  378.66      0                0  \n",
              "3  0.062723  0.061458  123.50      0                0  \n",
              "4  0.219422  0.215153   69.99      0                0  \n",
              "\n",
              "[5 rows x 32 columns]"
            ],
            "text/html": [
              "\n",
              "  <div id=\"df-0fecb1c6-f851-4cf7-b059-9a4b2968194f\">\n",
              "    <div class=\"colab-df-container\">\n",
              "      <div>\n",
              "<style scoped>\n",
              "    .dataframe tbody tr th:only-of-type {\n",
              "        vertical-align: middle;\n",
              "    }\n",
              "\n",
              "    .dataframe tbody tr th {\n",
              "        vertical-align: top;\n",
              "    }\n",
              "\n",
              "    .dataframe thead th {\n",
              "        text-align: right;\n",
              "    }\n",
              "</style>\n",
              "<table border=\"1\" class=\"dataframe\">\n",
              "  <thead>\n",
              "    <tr style=\"text-align: right;\">\n",
              "      <th></th>\n",
              "      <th>Time</th>\n",
              "      <th>V1</th>\n",
              "      <th>V2</th>\n",
              "      <th>V3</th>\n",
              "      <th>V4</th>\n",
              "      <th>V5</th>\n",
              "      <th>V6</th>\n",
              "      <th>V7</th>\n",
              "      <th>V8</th>\n",
              "      <th>V9</th>\n",
              "      <th>...</th>\n",
              "      <th>V22</th>\n",
              "      <th>V23</th>\n",
              "      <th>V24</th>\n",
              "      <th>V25</th>\n",
              "      <th>V26</th>\n",
              "      <th>V27</th>\n",
              "      <th>V28</th>\n",
              "      <th>Amount</th>\n",
              "      <th>Class</th>\n",
              "      <th>last_hour_fraud</th>\n",
              "    </tr>\n",
              "  </thead>\n",
              "  <tbody>\n",
              "    <tr>\n",
              "      <th>0</th>\n",
              "      <td>0.0</td>\n",
              "      <td>-1.359807</td>\n",
              "      <td>-0.072781</td>\n",
              "      <td>2.536347</td>\n",
              "      <td>1.378155</td>\n",
              "      <td>-0.338321</td>\n",
              "      <td>0.462388</td>\n",
              "      <td>0.239599</td>\n",
              "      <td>0.098698</td>\n",
              "      <td>0.363787</td>\n",
              "      <td>...</td>\n",
              "      <td>0.277838</td>\n",
              "      <td>-0.110474</td>\n",
              "      <td>0.066928</td>\n",
              "      <td>0.128539</td>\n",
              "      <td>-0.189115</td>\n",
              "      <td>0.133558</td>\n",
              "      <td>-0.021053</td>\n",
              "      <td>149.62</td>\n",
              "      <td>0</td>\n",
              "      <td>0</td>\n",
              "    </tr>\n",
              "    <tr>\n",
              "      <th>1</th>\n",
              "      <td>0.0</td>\n",
              "      <td>1.191857</td>\n",
              "      <td>0.266151</td>\n",
              "      <td>0.166480</td>\n",
              "      <td>0.448154</td>\n",
              "      <td>0.060018</td>\n",
              "      <td>-0.082361</td>\n",
              "      <td>-0.078803</td>\n",
              "      <td>0.085102</td>\n",
              "      <td>-0.255425</td>\n",
              "      <td>...</td>\n",
              "      <td>-0.638672</td>\n",
              "      <td>0.101288</td>\n",
              "      <td>-0.339846</td>\n",
              "      <td>0.167170</td>\n",
              "      <td>0.125895</td>\n",
              "      <td>-0.008983</td>\n",
              "      <td>0.014724</td>\n",
              "      <td>2.69</td>\n",
              "      <td>0</td>\n",
              "      <td>0</td>\n",
              "    </tr>\n",
              "    <tr>\n",
              "      <th>2</th>\n",
              "      <td>1.0</td>\n",
              "      <td>-1.358354</td>\n",
              "      <td>-1.340163</td>\n",
              "      <td>1.773209</td>\n",
              "      <td>0.379780</td>\n",
              "      <td>-0.503198</td>\n",
              "      <td>1.800499</td>\n",
              "      <td>0.791461</td>\n",
              "      <td>0.247676</td>\n",
              "      <td>-1.514654</td>\n",
              "      <td>...</td>\n",
              "      <td>0.771679</td>\n",
              "      <td>0.909412</td>\n",
              "      <td>-0.689281</td>\n",
              "      <td>-0.327642</td>\n",
              "      <td>-0.139097</td>\n",
              "      <td>-0.055353</td>\n",
              "      <td>-0.059752</td>\n",
              "      <td>378.66</td>\n",
              "      <td>0</td>\n",
              "      <td>0</td>\n",
              "    </tr>\n",
              "    <tr>\n",
              "      <th>3</th>\n",
              "      <td>1.0</td>\n",
              "      <td>-0.966272</td>\n",
              "      <td>-0.185226</td>\n",
              "      <td>1.792993</td>\n",
              "      <td>-0.863291</td>\n",
              "      <td>-0.010309</td>\n",
              "      <td>1.247203</td>\n",
              "      <td>0.237609</td>\n",
              "      <td>0.377436</td>\n",
              "      <td>-1.387024</td>\n",
              "      <td>...</td>\n",
              "      <td>0.005274</td>\n",
              "      <td>-0.190321</td>\n",
              "      <td>-1.175575</td>\n",
              "      <td>0.647376</td>\n",
              "      <td>-0.221929</td>\n",
              "      <td>0.062723</td>\n",
              "      <td>0.061458</td>\n",
              "      <td>123.50</td>\n",
              "      <td>0</td>\n",
              "      <td>0</td>\n",
              "    </tr>\n",
              "    <tr>\n",
              "      <th>4</th>\n",
              "      <td>2.0</td>\n",
              "      <td>-1.158233</td>\n",
              "      <td>0.877737</td>\n",
              "      <td>1.548718</td>\n",
              "      <td>0.403034</td>\n",
              "      <td>-0.407193</td>\n",
              "      <td>0.095921</td>\n",
              "      <td>0.592941</td>\n",
              "      <td>-0.270533</td>\n",
              "      <td>0.817739</td>\n",
              "      <td>...</td>\n",
              "      <td>0.798278</td>\n",
              "      <td>-0.137458</td>\n",
              "      <td>0.141267</td>\n",
              "      <td>-0.206010</td>\n",
              "      <td>0.502292</td>\n",
              "      <td>0.219422</td>\n",
              "      <td>0.215153</td>\n",
              "      <td>69.99</td>\n",
              "      <td>0</td>\n",
              "      <td>0</td>\n",
              "    </tr>\n",
              "  </tbody>\n",
              "</table>\n",
              "<p>5 rows × 32 columns</p>\n",
              "</div>\n",
              "      <button class=\"colab-df-convert\" onclick=\"convertToInteractive('df-0fecb1c6-f851-4cf7-b059-9a4b2968194f')\"\n",
              "              title=\"Convert this dataframe to an interactive table.\"\n",
              "              style=\"display:none;\">\n",
              "        \n",
              "  <svg xmlns=\"http://www.w3.org/2000/svg\" height=\"24px\"viewBox=\"0 0 24 24\"\n",
              "       width=\"24px\">\n",
              "    <path d=\"M0 0h24v24H0V0z\" fill=\"none\"/>\n",
              "    <path d=\"M18.56 5.44l.94 2.06.94-2.06 2.06-.94-2.06-.94-.94-2.06-.94 2.06-2.06.94zm-11 1L8.5 8.5l.94-2.06 2.06-.94-2.06-.94L8.5 2.5l-.94 2.06-2.06.94zm10 10l.94 2.06.94-2.06 2.06-.94-2.06-.94-.94-2.06-.94 2.06-2.06.94z\"/><path d=\"M17.41 7.96l-1.37-1.37c-.4-.4-.92-.59-1.43-.59-.52 0-1.04.2-1.43.59L10.3 9.45l-7.72 7.72c-.78.78-.78 2.05 0 2.83L4 21.41c.39.39.9.59 1.41.59.51 0 1.02-.2 1.41-.59l7.78-7.78 2.81-2.81c.8-.78.8-2.07 0-2.86zM5.41 20L4 18.59l7.72-7.72 1.47 1.35L5.41 20z\"/>\n",
              "  </svg>\n",
              "      </button>\n",
              "      \n",
              "  <style>\n",
              "    .colab-df-container {\n",
              "      display:flex;\n",
              "      flex-wrap:wrap;\n",
              "      gap: 12px;\n",
              "    }\n",
              "\n",
              "    .colab-df-convert {\n",
              "      background-color: #E8F0FE;\n",
              "      border: none;\n",
              "      border-radius: 50%;\n",
              "      cursor: pointer;\n",
              "      display: none;\n",
              "      fill: #1967D2;\n",
              "      height: 32px;\n",
              "      padding: 0 0 0 0;\n",
              "      width: 32px;\n",
              "    }\n",
              "\n",
              "    .colab-df-convert:hover {\n",
              "      background-color: #E2EBFA;\n",
              "      box-shadow: 0px 1px 2px rgba(60, 64, 67, 0.3), 0px 1px 3px 1px rgba(60, 64, 67, 0.15);\n",
              "      fill: #174EA6;\n",
              "    }\n",
              "\n",
              "    [theme=dark] .colab-df-convert {\n",
              "      background-color: #3B4455;\n",
              "      fill: #D2E3FC;\n",
              "    }\n",
              "\n",
              "    [theme=dark] .colab-df-convert:hover {\n",
              "      background-color: #434B5C;\n",
              "      box-shadow: 0px 1px 3px 1px rgba(0, 0, 0, 0.15);\n",
              "      filter: drop-shadow(0px 1px 2px rgba(0, 0, 0, 0.3));\n",
              "      fill: #FFFFFF;\n",
              "    }\n",
              "  </style>\n",
              "\n",
              "      <script>\n",
              "        const buttonEl =\n",
              "          document.querySelector('#df-0fecb1c6-f851-4cf7-b059-9a4b2968194f button.colab-df-convert');\n",
              "        buttonEl.style.display =\n",
              "          google.colab.kernel.accessAllowed ? 'block' : 'none';\n",
              "\n",
              "        async function convertToInteractive(key) {\n",
              "          const element = document.querySelector('#df-0fecb1c6-f851-4cf7-b059-9a4b2968194f');\n",
              "          const dataTable =\n",
              "            await google.colab.kernel.invokeFunction('convertToInteractive',\n",
              "                                                     [key], {});\n",
              "          if (!dataTable) return;\n",
              "\n",
              "          const docLinkHtml = 'Like what you see? Visit the ' +\n",
              "            '<a target=\"_blank\" href=https://colab.research.google.com/notebooks/data_table.ipynb>data table notebook</a>'\n",
              "            + ' to learn more about interactive tables.';\n",
              "          element.innerHTML = '';\n",
              "          dataTable['output_type'] = 'display_data';\n",
              "          await google.colab.output.renderOutput(dataTable, element);\n",
              "          const docLink = document.createElement('div');\n",
              "          docLink.innerHTML = docLinkHtml;\n",
              "          element.appendChild(docLink);\n",
              "        }\n",
              "      </script>\n",
              "    </div>\n",
              "  </div>\n",
              "  "
            ]
          },
          "metadata": {},
          "execution_count": 4
        }
      ],
      "source": [
        "df_unidos[\"last_hour_fraud\"] = acc_hour_1(df_unidos)\n",
        "df_unidos.head()"
      ],
      "id": "NLmy7uaqmtEi"
    },
    {
      "cell_type": "code",
      "execution_count": null,
      "metadata": {
        "colab": {
          "base_uri": "https://localhost:8080/",
          "height": 237
        },
        "id": "GjFQK4-IE-So",
        "outputId": "c20c729f-c71c-405b-e582-c157eb378e64"
      },
      "outputs": [
        {
          "output_type": "execute_result",
          "data": {
            "text/plain": [
              "              V1        V2        V3        V4        V5        V6        V7  \\\n",
              "284804  1.919565 -0.301254 -3.249640 -0.557828  2.630515  3.031260 -0.296827   \n",
              "284805 -0.240440  0.530483  0.702510  0.689799 -0.377961  0.623708 -0.686180   \n",
              "284806 -0.533413 -0.189733  0.703337 -0.506271 -0.012546 -0.649617  1.577006   \n",
              "\n",
              "              V8        V9       V10  ...       V22       V23       V24  \\\n",
              "284804  0.708417  0.432454 -0.484782  ...  0.578229 -0.037501  0.640134   \n",
              "284805  0.679145  0.392087 -0.399126  ...  0.800049 -0.163298  0.123205   \n",
              "284806 -0.414650  0.486180 -0.915427  ...  0.643078  0.376777  0.008797   \n",
              "\n",
              "             V25       V26       V27       V28  Amount  Class  last_hour_fraud  \n",
              "284804  0.265745 -0.087371  0.004455 -0.026561   67.88      0                4  \n",
              "284805 -0.569159  0.546668  0.108821  0.104533   10.00      0                4  \n",
              "284806 -0.473649 -0.818267 -0.002415  0.013649  217.00      0                4  \n",
              "\n",
              "[3 rows x 31 columns]"
            ],
            "text/html": [
              "\n",
              "  <div id=\"df-82d1d0b0-580e-43e5-a16a-9e7fdbe10bd7\">\n",
              "    <div class=\"colab-df-container\">\n",
              "      <div>\n",
              "<style scoped>\n",
              "    .dataframe tbody tr th:only-of-type {\n",
              "        vertical-align: middle;\n",
              "    }\n",
              "\n",
              "    .dataframe tbody tr th {\n",
              "        vertical-align: top;\n",
              "    }\n",
              "\n",
              "    .dataframe thead th {\n",
              "        text-align: right;\n",
              "    }\n",
              "</style>\n",
              "<table border=\"1\" class=\"dataframe\">\n",
              "  <thead>\n",
              "    <tr style=\"text-align: right;\">\n",
              "      <th></th>\n",
              "      <th>V1</th>\n",
              "      <th>V2</th>\n",
              "      <th>V3</th>\n",
              "      <th>V4</th>\n",
              "      <th>V5</th>\n",
              "      <th>V6</th>\n",
              "      <th>V7</th>\n",
              "      <th>V8</th>\n",
              "      <th>V9</th>\n",
              "      <th>V10</th>\n",
              "      <th>...</th>\n",
              "      <th>V22</th>\n",
              "      <th>V23</th>\n",
              "      <th>V24</th>\n",
              "      <th>V25</th>\n",
              "      <th>V26</th>\n",
              "      <th>V27</th>\n",
              "      <th>V28</th>\n",
              "      <th>Amount</th>\n",
              "      <th>Class</th>\n",
              "      <th>last_hour_fraud</th>\n",
              "    </tr>\n",
              "  </thead>\n",
              "  <tbody>\n",
              "    <tr>\n",
              "      <th>284804</th>\n",
              "      <td>1.919565</td>\n",
              "      <td>-0.301254</td>\n",
              "      <td>-3.249640</td>\n",
              "      <td>-0.557828</td>\n",
              "      <td>2.630515</td>\n",
              "      <td>3.031260</td>\n",
              "      <td>-0.296827</td>\n",
              "      <td>0.708417</td>\n",
              "      <td>0.432454</td>\n",
              "      <td>-0.484782</td>\n",
              "      <td>...</td>\n",
              "      <td>0.578229</td>\n",
              "      <td>-0.037501</td>\n",
              "      <td>0.640134</td>\n",
              "      <td>0.265745</td>\n",
              "      <td>-0.087371</td>\n",
              "      <td>0.004455</td>\n",
              "      <td>-0.026561</td>\n",
              "      <td>67.88</td>\n",
              "      <td>0</td>\n",
              "      <td>4</td>\n",
              "    </tr>\n",
              "    <tr>\n",
              "      <th>284805</th>\n",
              "      <td>-0.240440</td>\n",
              "      <td>0.530483</td>\n",
              "      <td>0.702510</td>\n",
              "      <td>0.689799</td>\n",
              "      <td>-0.377961</td>\n",
              "      <td>0.623708</td>\n",
              "      <td>-0.686180</td>\n",
              "      <td>0.679145</td>\n",
              "      <td>0.392087</td>\n",
              "      <td>-0.399126</td>\n",
              "      <td>...</td>\n",
              "      <td>0.800049</td>\n",
              "      <td>-0.163298</td>\n",
              "      <td>0.123205</td>\n",
              "      <td>-0.569159</td>\n",
              "      <td>0.546668</td>\n",
              "      <td>0.108821</td>\n",
              "      <td>0.104533</td>\n",
              "      <td>10.00</td>\n",
              "      <td>0</td>\n",
              "      <td>4</td>\n",
              "    </tr>\n",
              "    <tr>\n",
              "      <th>284806</th>\n",
              "      <td>-0.533413</td>\n",
              "      <td>-0.189733</td>\n",
              "      <td>0.703337</td>\n",
              "      <td>-0.506271</td>\n",
              "      <td>-0.012546</td>\n",
              "      <td>-0.649617</td>\n",
              "      <td>1.577006</td>\n",
              "      <td>-0.414650</td>\n",
              "      <td>0.486180</td>\n",
              "      <td>-0.915427</td>\n",
              "      <td>...</td>\n",
              "      <td>0.643078</td>\n",
              "      <td>0.376777</td>\n",
              "      <td>0.008797</td>\n",
              "      <td>-0.473649</td>\n",
              "      <td>-0.818267</td>\n",
              "      <td>-0.002415</td>\n",
              "      <td>0.013649</td>\n",
              "      <td>217.00</td>\n",
              "      <td>0</td>\n",
              "      <td>4</td>\n",
              "    </tr>\n",
              "  </tbody>\n",
              "</table>\n",
              "<p>3 rows × 31 columns</p>\n",
              "</div>\n",
              "      <button class=\"colab-df-convert\" onclick=\"convertToInteractive('df-82d1d0b0-580e-43e5-a16a-9e7fdbe10bd7')\"\n",
              "              title=\"Convert this dataframe to an interactive table.\"\n",
              "              style=\"display:none;\">\n",
              "        \n",
              "  <svg xmlns=\"http://www.w3.org/2000/svg\" height=\"24px\"viewBox=\"0 0 24 24\"\n",
              "       width=\"24px\">\n",
              "    <path d=\"M0 0h24v24H0V0z\" fill=\"none\"/>\n",
              "    <path d=\"M18.56 5.44l.94 2.06.94-2.06 2.06-.94-2.06-.94-.94-2.06-.94 2.06-2.06.94zm-11 1L8.5 8.5l.94-2.06 2.06-.94-2.06-.94L8.5 2.5l-.94 2.06-2.06.94zm10 10l.94 2.06.94-2.06 2.06-.94-2.06-.94-.94-2.06-.94 2.06-2.06.94z\"/><path d=\"M17.41 7.96l-1.37-1.37c-.4-.4-.92-.59-1.43-.59-.52 0-1.04.2-1.43.59L10.3 9.45l-7.72 7.72c-.78.78-.78 2.05 0 2.83L4 21.41c.39.39.9.59 1.41.59.51 0 1.02-.2 1.41-.59l7.78-7.78 2.81-2.81c.8-.78.8-2.07 0-2.86zM5.41 20L4 18.59l7.72-7.72 1.47 1.35L5.41 20z\"/>\n",
              "  </svg>\n",
              "      </button>\n",
              "      \n",
              "  <style>\n",
              "    .colab-df-container {\n",
              "      display:flex;\n",
              "      flex-wrap:wrap;\n",
              "      gap: 12px;\n",
              "    }\n",
              "\n",
              "    .colab-df-convert {\n",
              "      background-color: #E8F0FE;\n",
              "      border: none;\n",
              "      border-radius: 50%;\n",
              "      cursor: pointer;\n",
              "      display: none;\n",
              "      fill: #1967D2;\n",
              "      height: 32px;\n",
              "      padding: 0 0 0 0;\n",
              "      width: 32px;\n",
              "    }\n",
              "\n",
              "    .colab-df-convert:hover {\n",
              "      background-color: #E2EBFA;\n",
              "      box-shadow: 0px 1px 2px rgba(60, 64, 67, 0.3), 0px 1px 3px 1px rgba(60, 64, 67, 0.15);\n",
              "      fill: #174EA6;\n",
              "    }\n",
              "\n",
              "    [theme=dark] .colab-df-convert {\n",
              "      background-color: #3B4455;\n",
              "      fill: #D2E3FC;\n",
              "    }\n",
              "\n",
              "    [theme=dark] .colab-df-convert:hover {\n",
              "      background-color: #434B5C;\n",
              "      box-shadow: 0px 1px 3px 1px rgba(0, 0, 0, 0.15);\n",
              "      filter: drop-shadow(0px 1px 2px rgba(0, 0, 0, 0.3));\n",
              "      fill: #FFFFFF;\n",
              "    }\n",
              "  </style>\n",
              "\n",
              "      <script>\n",
              "        const buttonEl =\n",
              "          document.querySelector('#df-82d1d0b0-580e-43e5-a16a-9e7fdbe10bd7 button.colab-df-convert');\n",
              "        buttonEl.style.display =\n",
              "          google.colab.kernel.accessAllowed ? 'block' : 'none';\n",
              "\n",
              "        async function convertToInteractive(key) {\n",
              "          const element = document.querySelector('#df-82d1d0b0-580e-43e5-a16a-9e7fdbe10bd7');\n",
              "          const dataTable =\n",
              "            await google.colab.kernel.invokeFunction('convertToInteractive',\n",
              "                                                     [key], {});\n",
              "          if (!dataTable) return;\n",
              "\n",
              "          const docLinkHtml = 'Like what you see? Visit the ' +\n",
              "            '<a target=\"_blank\" href=https://colab.research.google.com/notebooks/data_table.ipynb>data table notebook</a>'\n",
              "            + ' to learn more about interactive tables.';\n",
              "          element.innerHTML = '';\n",
              "          dataTable['output_type'] = 'display_data';\n",
              "          await google.colab.output.renderOutput(dataTable, element);\n",
              "          const docLink = document.createElement('div');\n",
              "          docLink.innerHTML = docLinkHtml;\n",
              "          element.appendChild(docLink);\n",
              "        }\n",
              "      </script>\n",
              "    </div>\n",
              "  </div>\n",
              "  "
            ]
          },
          "metadata": {},
          "execution_count": 5
        }
      ],
      "source": [
        "df=df_unidos.copy()\n",
        "df=df.drop(['Time'], axis=1)\n",
        "df.tail(3)"
      ],
      "id": "GjFQK4-IE-So"
    },
    {
      "cell_type": "code",
      "execution_count": null,
      "metadata": {
        "id": "7B1zPMMgMW55"
      },
      "outputs": [],
      "source": [
        "df_data = df.drop(['Class'], axis=1)\n",
        "df_target = df.drop(['V1','V2','V3','V4','V5','V6','V7','V8','V9','V10',\n",
        "             'V11','V12','V13','V14','V15','V16','V17','V18','V19','V20',\n",
        "             'V21','V22','V23','V24','V25','V26','V27','V28','Amount','last_hour_fraud'], axis=1)\n",
        "\n",
        "X_train, X_test, y_train, y_test = train_test_split(df_data,df_target, test_size = 0.2, random_state = 100)"
      ],
      "id": "7B1zPMMgMW55"
    },
    {
      "cell_type": "code",
      "source": [
        "# separa conjuntos no reducidos de datos para grafico de rendimientos posterior\n",
        "X_train_full = X_train\n",
        "X_test_full = X_test\n",
        "y_train_full = y_train\n",
        "y_test_full = y_test"
      ],
      "metadata": {
        "id": "haQ9zZRJKfsA"
      },
      "id": "haQ9zZRJKfsA",
      "execution_count": null,
      "outputs": []
    },
    {
      "cell_type": "code",
      "execution_count": null,
      "metadata": {
        "id": "lvJb0oL5yZQ1"
      },
      "outputs": [],
      "source": [
        "df_train = X_train.copy()\n",
        "df_train['Class'] = y_train['Class']\n",
        "df_train = df_train.sort_index(ascending=True)"
      ],
      "id": "lvJb0oL5yZQ1"
    },
    {
      "cell_type": "code",
      "execution_count": null,
      "metadata": {
        "id": "B5okdKmk3gyO"
      },
      "outputs": [],
      "source": [
        "df_test = X_test.copy()\n",
        "df_test['Class'] = y_test['Class']\n",
        "df_test = df_test.sort_index(ascending=True)"
      ],
      "id": "B5okdKmk3gyO"
    },
    {
      "cell_type": "markdown",
      "metadata": {
        "id": "oYQxrOYiWh_h"
      },
      "source": [
        "# 3.-Algoritmos"
      ],
      "id": "oYQxrOYiWh_h"
    },
    {
      "cell_type": "code",
      "execution_count": null,
      "metadata": {
        "id": "oJpGqe3eVJ5d"
      },
      "outputs": [],
      "source": [
        "# Create a results dataframe to store and later compare results\n",
        "results = pd.DataFrame()\n",
        "results['Metrics'] = ['True Negatives', 'False Negatives', 'False Positives', 'True Positives', 'Accuracy', 'Precision', 'Recall', 'F1-Score', 'Support', 'Total de perdida', 'Total salvado']\n",
        "\n",
        "def get_metrics(labels, pred_labels,pierde,gana):\n",
        "    conf_matrix = np.asarray(confusion_matrix(labels, pred_labels))\n",
        "    metrics = np.concatenate(([accuracy_score(labels, pred_labels)], precision_recall_fscore_support(labels, pred_labels, average='binary')))\n",
        "    valores = np.asarray([pierde,gana])\n",
        "    return np.concatenate((conf_matrix.reshape(-1),metrics,valores))\n",
        "\n",
        "def fit_model(input_data, model_fn, model_args=None, threshold=None, labels=None):\n",
        "    return model_fn(input_data, model_args, threshold, labels)\n",
        "\n",
        "def predict_model(input_data, model, predict_fn, threshold=None):\n",
        "    return predict_fn(input_data, model, threshold)"
      ],
      "id": "oJpGqe3eVJ5d"
    },
    {
      "cell_type": "markdown",
      "metadata": {
        "id": "cTBFROssWsFf"
      },
      "source": [
        "## 3.1 Isolation Forest"
      ],
      "id": "cTBFROssWsFf"
    },
    {
      "cell_type": "code",
      "execution_count": null,
      "metadata": {
        "id": "XWGurln7We1q"
      },
      "outputs": [],
      "source": [
        "def fit_isolation_forest(input_data, args=None, threshold=None, labels=None):\n",
        "    if threshold == None:\n",
        "        model = IsolationForest()\n",
        "    else:\n",
        "        model = IsolationForest(contamination=threshold)\n",
        "    \n",
        "    model.fit(input_data)\n",
        "\n",
        "    return model\n",
        "\n",
        "def predict_isolation_forest(input_data, model, threshold=None):\n",
        "    y_pred = model.predict(input_data)\n",
        "    y_pred = [1 if pred == -1 else 0 for pred in y_pred]\n",
        "\n",
        "    return y_pred"
      ],
      "id": "XWGurln7We1q"
    },
    {
      "cell_type": "markdown",
      "metadata": {
        "id": "RlWmeqE8YBXa"
      },
      "source": [
        "## 3.2 Gaussian Mixture"
      ],
      "id": "RlWmeqE8YBXa"
    },
    {
      "cell_type": "code",
      "execution_count": null,
      "metadata": {
        "id": "KgVrY2sQX9xU"
      },
      "outputs": [],
      "source": [
        "def fit_gaussian_mixture(input_data, args=None, threshold=None, labels=None):\n",
        "    if threshold == None:\n",
        "        model = GaussianMixture(n_components=2)\n",
        "    else:\n",
        "        model = GaussianMixture(n_components=2, reg_covar=threshold)\n",
        "    \n",
        "    model.fit(input_data)\n",
        "\n",
        "    return model\n",
        "\n",
        "def predict_gaussian_mixture(input_data, model, threshold=None):\n",
        "    return model.predict(input_data)"
      ],
      "id": "KgVrY2sQX9xU"
    },
    {
      "cell_type": "markdown",
      "metadata": {
        "id": "JytyQG9XRQGR"
      },
      "source": [
        "## 3.3 Kmeans"
      ],
      "id": "JytyQG9XRQGR"
    },
    {
      "cell_type": "code",
      "execution_count": null,
      "metadata": {
        "id": "BmlXOsXsRQGT"
      },
      "outputs": [],
      "source": [
        "def fit_kmeans(input_data, args=None, threshold=None, labels=None):\n",
        "    if threshold == None:\n",
        "        model = KMeans(n_clusters=2)\n",
        "    else:\n",
        "        model = KMeans(n_clusters=2)   # hay que arreglar esto para cuando hagamos el grafico\n",
        "    \n",
        "    model.fit(input_data)\n",
        "\n",
        "    return model\n",
        "\n",
        "def predict_kmeans(input_data, model, threshold=None):\n",
        "    return model.predict(input_data)"
      ],
      "id": "BmlXOsXsRQGT"
    },
    {
      "cell_type": "markdown",
      "metadata": {
        "id": "VOuTigDKbh_e"
      },
      "source": [
        "# 4.-Entrenamiento y resultados del entrenamiento con el dataframe completo\n",
        "\n",
        "**Datos de entrada usando el dataframe completo y las variables time y amount redefinidas:**"
      ],
      "id": "VOuTigDKbh_e"
    },
    {
      "cell_type": "markdown",
      "metadata": {
        "id": "tZG8oEZ5Ur5d"
      },
      "source": [
        "## 4.1 Isolation Forest"
      ],
      "id": "tZG8oEZ5Ur5d"
    },
    {
      "cell_type": "code",
      "execution_count": null,
      "metadata": {
        "id": "NTudRs_TUBY-",
        "colab": {
          "base_uri": "https://localhost:8080/"
        },
        "outputId": "ad255476-70d8-4e4d-b233-d68e8f1cadbf"
      },
      "outputs": [
        {
          "output_type": "stream",
          "name": "stdout",
          "text": [
            "CONFUSION MATRIX:\n",
            " [[55102  1764]\n",
            " [   20    76]]\n",
            "Classification Report:\n",
            "               precision    recall  f1-score   support\n",
            "\n",
            "           0       1.00      0.97      0.98     56866\n",
            "           1       0.04      0.79      0.08        96\n",
            "\n",
            "    accuracy                           0.97     56962\n",
            "   macro avg       0.52      0.88      0.53     56962\n",
            "weighted avg       1.00      0.97      0.98     56962\n",
            "\n"
          ]
        }
      ],
      "source": [
        "if_model = fit_model(X_train, fit_isolation_forest, None)\n",
        "\n",
        "y_pred_test = predict_model(X_test, if_model, predict_isolation_forest)\n",
        "print('CONFUSION MATRIX:\\n', confusion_matrix(y_test,y_pred_test))\n",
        "print(\"Classification Report:\\n\", classification_report(y_test, y_pred_test))"
      ],
      "id": "NTudRs_TUBY-"
    },
    {
      "cell_type": "code",
      "execution_count": null,
      "metadata": {
        "id": "x2YsOHKcGI4G"
      },
      "outputs": [],
      "source": [
        "i_index = 0\n",
        "pierde = 0\n",
        "gana = 0\n",
        "for pred in y_pred_test:\n",
        "  etiqueta = y_test['Class'].iloc[i_index]\n",
        "  cantidad = X_test['Amount'].iloc[i_index]\n",
        "  if etiqueta == 1:\n",
        "    if pred == 0:\n",
        "      pierde = pierde + cantidad\n",
        "    else:\n",
        "      gana = gana + cantidad\n",
        "  i_index += 1"
      ],
      "id": "x2YsOHKcGI4G"
    },
    {
      "cell_type": "code",
      "execution_count": null,
      "metadata": {
        "id": "Kw_mnxsoWy5g"
      },
      "outputs": [],
      "source": [
        "results['Isolation Forest-Full'] = get_metrics(y_test, y_pred_test,pierde,gana)"
      ],
      "id": "Kw_mnxsoWy5g"
    },
    {
      "cell_type": "code",
      "source": [
        "results['Isolation Forest-Full']"
      ],
      "metadata": {
        "colab": {
          "base_uri": "https://localhost:8080/"
        },
        "id": "C52sZy_dCVO2",
        "outputId": "b770a702-9cf9-4af0-94e6-502550aaf408"
      },
      "id": "C52sZy_dCVO2",
      "execution_count": null,
      "outputs": [
        {
          "output_type": "execute_result",
          "data": {
            "text/plain": [
              "0        55102\n",
              "1         1764\n",
              "2           20\n",
              "3           76\n",
              "4     0.968681\n",
              "5     0.041304\n",
              "6     0.791667\n",
              "7     0.078512\n",
              "8         None\n",
              "9      2054.99\n",
              "10     9350.84\n",
              "Name: Isolation Forest-Full, dtype: object"
            ]
          },
          "metadata": {},
          "execution_count": 26
        }
      ]
    },
    {
      "cell_type": "code",
      "execution_count": null,
      "metadata": {
        "id": "obvcyNx1dIp4"
      },
      "outputs": [],
      "source": [
        "y_pred_test_if_Full = y_pred_test"
      ],
      "id": "obvcyNx1dIp4"
    },
    {
      "cell_type": "markdown",
      "metadata": {
        "id": "b2jovn4zU83I"
      },
      "source": [
        "## 4.2 Gaussian Mixture"
      ],
      "id": "b2jovn4zU83I"
    },
    {
      "cell_type": "code",
      "execution_count": null,
      "metadata": {
        "id": "Bw8rz1YzYHlp",
        "colab": {
          "base_uri": "https://localhost:8080/"
        },
        "outputId": "75176755-aa96-4610-b599-5f7823303a97"
      },
      "outputs": [
        {
          "output_type": "stream",
          "name": "stdout",
          "text": [
            "CONFUSION MATRIX:\n",
            " [[35864 21002]\n",
            " [   10    86]]\n",
            "Classification Report:\n",
            "               precision    recall  f1-score   support\n",
            "\n",
            "           0       1.00      0.63      0.77     56866\n",
            "           1       0.00      0.90      0.01        96\n",
            "\n",
            "    accuracy                           0.63     56962\n",
            "   macro avg       0.50      0.76      0.39     56962\n",
            "weighted avg       1.00      0.63      0.77     56962\n",
            "\n"
          ]
        }
      ],
      "source": [
        "gm_model = fit_model(X_train, fit_gaussian_mixture, None)\n",
        "\n",
        "y_pred_test = predict_model(X_test, gm_model, predict_gaussian_mixture)\n",
        "print('CONFUSION MATRIX:\\n', confusion_matrix(y_test,y_pred_test))\n",
        "print(\"Classification Report:\\n\", classification_report(y_test, y_pred_test))"
      ],
      "id": "Bw8rz1YzYHlp"
    },
    {
      "cell_type": "code",
      "execution_count": null,
      "metadata": {
        "id": "nm1OW4YmGZJD"
      },
      "outputs": [],
      "source": [
        "i_index = 0\n",
        "pierde = 0\n",
        "gana = 0\n",
        "for pred in y_pred_test:\n",
        "  etiqueta = y_test['Class'].iloc[i_index]\n",
        "  cantidad = X_test['Amount'].iloc[i_index]\n",
        "  if etiqueta == 1:\n",
        "    if pred == 0:\n",
        "      pierde = pierde + cantidad\n",
        "    else:\n",
        "      gana = gana + cantidad\n",
        "  i_index += 1"
      ],
      "id": "nm1OW4YmGZJD"
    },
    {
      "cell_type": "code",
      "execution_count": null,
      "metadata": {
        "id": "Fp8p-D2qYKd5"
      },
      "outputs": [],
      "source": [
        "results['Gaussian Mixture-Full'] = get_metrics(y_test, y_pred_test,pierde,gana)"
      ],
      "id": "Fp8p-D2qYKd5"
    },
    {
      "cell_type": "code",
      "source": [
        "results['Gaussian Mixture-Full']"
      ],
      "metadata": {
        "colab": {
          "base_uri": "https://localhost:8080/"
        },
        "id": "AIMynkjuCM9f",
        "outputId": "c884e330-2e22-413c-ebd3-b8f47d51bb3d"
      },
      "id": "AIMynkjuCM9f",
      "execution_count": null,
      "outputs": [
        {
          "output_type": "execute_result",
          "data": {
            "text/plain": [
              "0        35864\n",
              "1        21002\n",
              "2           10\n",
              "3           86\n",
              "4     0.631123\n",
              "5     0.004078\n",
              "6     0.895833\n",
              "7     0.008119\n",
              "8         None\n",
              "9       232.83\n",
              "10     11173.0\n",
              "Name: Gaussian Mixture-Full, dtype: object"
            ]
          },
          "metadata": {},
          "execution_count": 25
        }
      ]
    },
    {
      "cell_type": "code",
      "execution_count": null,
      "metadata": {
        "id": "Uwf_fQGvdMLn"
      },
      "outputs": [],
      "source": [
        "y_pred_test_gm_Full = y_pred_test"
      ],
      "id": "Uwf_fQGvdMLn"
    },
    {
      "cell_type": "markdown",
      "metadata": {
        "id": "7A07MExBP8wE"
      },
      "source": [
        "## 4.3 Kmeans"
      ],
      "id": "7A07MExBP8wE"
    },
    {
      "cell_type": "code",
      "execution_count": null,
      "metadata": {
        "id": "oMz6q75HP8CK",
        "colab": {
          "base_uri": "https://localhost:8080/"
        },
        "outputId": "f561f634-9840-4391-b0ea-ccf2874266a0"
      },
      "outputs": [
        {
          "output_type": "stream",
          "name": "stdout",
          "text": [
            "CONFUSION MATRIX:\n",
            " [[55873   993]\n",
            " [   93     3]]\n",
            "Classification Report:\n",
            "               precision    recall  f1-score   support\n",
            "\n",
            "           0       1.00      0.98      0.99     56866\n",
            "           1       0.00      0.03      0.01        96\n",
            "\n",
            "    accuracy                           0.98     56962\n",
            "   macro avg       0.50      0.51      0.50     56962\n",
            "weighted avg       1.00      0.98      0.99     56962\n",
            "\n"
          ]
        }
      ],
      "source": [
        "km_model = fit_model(X_train, fit_kmeans, None)\n",
        "\n",
        "y_pred_test = predict_model(X_test, km_model, predict_kmeans)\n",
        "print('CONFUSION MATRIX:\\n', confusion_matrix(y_test,y_pred_test))\n",
        "print(\"Classification Report:\\n\", classification_report(y_test, y_pred_test))"
      ],
      "id": "oMz6q75HP8CK"
    },
    {
      "cell_type": "code",
      "execution_count": null,
      "metadata": {
        "id": "9BWflaBjGaoa"
      },
      "outputs": [],
      "source": [
        "i_index = 0\n",
        "pierde = 0\n",
        "gana = 0\n",
        "for pred in y_pred_test:\n",
        "  etiqueta = y_test['Class'].iloc[i_index]\n",
        "  cantidad = X_test['Amount'].iloc[i_index]\n",
        "  if etiqueta == 1:\n",
        "    if pred == 0:\n",
        "      pierde = pierde + cantidad\n",
        "    else:\n",
        "      gana = gana + cantidad\n",
        "  i_index += 1"
      ],
      "id": "9BWflaBjGaoa"
    },
    {
      "cell_type": "code",
      "execution_count": null,
      "metadata": {
        "id": "USt3lbbZULWG"
      },
      "outputs": [],
      "source": [
        "results['KMeans-Full'] = get_metrics(y_test, y_pred_test,pierde,gana)"
      ],
      "id": "USt3lbbZULWG"
    },
    {
      "cell_type": "code",
      "execution_count": null,
      "metadata": {
        "id": "Hfw1-7vjdRVZ"
      },
      "outputs": [],
      "source": [
        "y_pred_test_km_Full = y_pred_test"
      ],
      "id": "Hfw1-7vjdRVZ"
    },
    {
      "cell_type": "markdown",
      "metadata": {
        "id": "N0TtTgzZVV8d"
      },
      "source": [
        "# 5.-Entrenamiento y resultados del entrenamiento con el dataframe reducido\n",
        "\n",
        "**Datos de entrada usando un dataframe reducido para dejar el dataframe balanceado:**"
      ],
      "id": "N0TtTgzZVV8d"
    },
    {
      "cell_type": "code",
      "execution_count": null,
      "metadata": {
        "id": "JBLfN_bDmYbu"
      },
      "outputs": [],
      "source": [
        "df_fraude = df_train[(df_train['Class']>0)]\n",
        "df_data_fraude = df_fraude.drop(['Class'], axis=1)\n",
        "df_target_fraude = df_fraude.drop(['V1','V2','V3','V4','V5','V6','V7','V8','V9','V10',\n",
        "             'V11','V12','V13','V14','V15','V16','V17','V18','V19','V20',\n",
        "             'V21','V22','V23','V24','V25','V26','V27','V28','Amount','last_hour_fraud'], axis=1)\n",
        "df_no_fraude = df_train[(df_train['Class']<1)]\n",
        "df_no_fraude_reducido = df_no_fraude.sample(frac=0.0053, random_state=100) # Me quedo con 1507 filas aleatorias negativas de fraude (relación aproximada de 3 a 1)\n",
        "df_data_no_fraude = df_no_fraude_reducido.drop(['Class'], axis=1)\n",
        "df_target_no_fraude = df_no_fraude.drop(['V1','V2','V3','V4','V5','V6','V7','V8','V9','V10',\n",
        "             'V11','V12','V13','V14','V15','V16','V17','V18','V19','V20',\n",
        "             'V21','V22','V23','V24','V25','V26','V27','V28','Amount','last_hour_fraud'], axis=1)"
      ],
      "id": "JBLfN_bDmYbu"
    },
    {
      "cell_type": "code",
      "execution_count": null,
      "metadata": {
        "id": "8R9VKPZm0o_B"
      },
      "outputs": [],
      "source": [
        "X_train_f  = df_data_fraude.copy()\n",
        "X_train_nf = df_data_no_fraude.copy()\n",
        "y_train_f  = df_target_fraude.copy()\n",
        "y_train_nf = df_target_no_fraude.copy()"
      ],
      "id": "8R9VKPZm0o_B"
    },
    {
      "cell_type": "code",
      "execution_count": null,
      "metadata": {
        "id": "ldFLLlAInfE7"
      },
      "outputs": [],
      "source": [
        "X_train = pd.concat([X_train_f,X_train_nf]).sort_index(ascending=True)\n",
        "y_train = pd.concat([y_train_f,y_train_nf]).sort_index(ascending=True)"
      ],
      "id": "ldFLLlAInfE7"
    },
    {
      "cell_type": "code",
      "source": [
        "# separa conjuntos reducidos de datos para grafico de rendimientos posterior\n",
        "X_train_reduced = pd.concat([X_train_f,X_train_nf]).sort_index(ascending=True)\n",
        "y_train_reduced = pd.concat([y_train_f,y_train_nf]).sort_index(ascending=True)\n"
      ],
      "metadata": {
        "id": "srNcfipxLJQH"
      },
      "id": "srNcfipxLJQH",
      "execution_count": null,
      "outputs": []
    },
    {
      "cell_type": "markdown",
      "metadata": {
        "id": "BpjaQMcHV2IT"
      },
      "source": [
        "## 5.1 Isolation Forest"
      ],
      "id": "BpjaQMcHV2IT"
    },
    {
      "cell_type": "code",
      "execution_count": null,
      "metadata": {
        "id": "AxQX4BGlV2Ig",
        "colab": {
          "base_uri": "https://localhost:8080/"
        },
        "outputId": "be7a70c7-b884-43b3-dd88-9049f433b361"
      },
      "outputs": [
        {
          "output_type": "stream",
          "name": "stdout",
          "text": [
            "CONFUSION MATRIX:\n",
            " [[56266   600]\n",
            " [   71    25]]\n",
            "Classification Report:\n",
            "               precision    recall  f1-score   support\n",
            "\n",
            "           0       1.00      0.99      0.99     56866\n",
            "           1       0.04      0.26      0.07        96\n",
            "\n",
            "    accuracy                           0.99     56962\n",
            "   macro avg       0.52      0.62      0.53     56962\n",
            "weighted avg       1.00      0.99      0.99     56962\n",
            "\n"
          ]
        }
      ],
      "source": [
        "if_model = fit_model(X_train, fit_isolation_forest, None)\n",
        "\n",
        "y_pred_test = predict_model(X_test, if_model, predict_isolation_forest)\n",
        "print('CONFUSION MATRIX:\\n', confusion_matrix(y_test,y_pred_test))\n",
        "print(\"Classification Report:\\n\", classification_report(y_test, y_pred_test))"
      ],
      "id": "AxQX4BGlV2Ig"
    },
    {
      "cell_type": "code",
      "execution_count": null,
      "metadata": {
        "id": "LBTPcNjkGcRj"
      },
      "outputs": [],
      "source": [
        "i_index = 0\n",
        "pierde = 0\n",
        "gana = 0\n",
        "for pred in y_pred_test:\n",
        "  etiqueta = y_test['Class'].iloc[i_index]\n",
        "  cantidad = X_test['Amount'].iloc[i_index]\n",
        "  if etiqueta == 1:\n",
        "    if pred == 0:\n",
        "      pierde = pierde + cantidad\n",
        "    else:\n",
        "      gana = gana + cantidad\n",
        "  i_index += 1"
      ],
      "id": "LBTPcNjkGcRj"
    },
    {
      "cell_type": "code",
      "execution_count": null,
      "metadata": {
        "id": "3lc_xYUJV2Il"
      },
      "outputs": [],
      "source": [
        "results['Isolation Forest-Red'] = get_metrics(y_test, y_pred_test,pierde,gana)"
      ],
      "id": "3lc_xYUJV2Il"
    },
    {
      "cell_type": "code",
      "execution_count": null,
      "metadata": {
        "id": "kBzvUIQndVFO"
      },
      "outputs": [],
      "source": [
        "y_pred_test_if_Red = y_pred_test"
      ],
      "id": "kBzvUIQndVFO"
    },
    {
      "cell_type": "markdown",
      "metadata": {
        "id": "0_0bVwLSV2Im"
      },
      "source": [
        "## 5.2 Gaussian Mixture"
      ],
      "id": "0_0bVwLSV2Im"
    },
    {
      "cell_type": "code",
      "execution_count": null,
      "metadata": {
        "id": "qduV-44zV2In",
        "colab": {
          "base_uri": "https://localhost:8080/"
        },
        "outputId": "963210aa-de9d-477f-dd5b-52b2fdef3d44"
      },
      "outputs": [
        {
          "output_type": "stream",
          "name": "stdout",
          "text": [
            "CONFUSION MATRIX:\n",
            " [[23326 33540]\n",
            " [   73    23]]\n",
            "Classification Report:\n",
            "               precision    recall  f1-score   support\n",
            "\n",
            "           0       1.00      0.41      0.58     56866\n",
            "           1       0.00      0.24      0.00        96\n",
            "\n",
            "    accuracy                           0.41     56962\n",
            "   macro avg       0.50      0.32      0.29     56962\n",
            "weighted avg       1.00      0.41      0.58     56962\n",
            "\n"
          ]
        }
      ],
      "source": [
        "gm_model = fit_model(X_train, fit_gaussian_mixture, None)\n",
        "\n",
        "y_pred_test = predict_model(X_test, gm_model, predict_gaussian_mixture)\n",
        "print('CONFUSION MATRIX:\\n', confusion_matrix(y_test,y_pred_test))\n",
        "print(\"Classification Report:\\n\", classification_report(y_test, y_pred_test))"
      ],
      "id": "qduV-44zV2In"
    },
    {
      "cell_type": "code",
      "execution_count": null,
      "metadata": {
        "id": "cfZf8HgIGd_c"
      },
      "outputs": [],
      "source": [
        "i_index = 0\n",
        "pierde = 0\n",
        "gana = 0\n",
        "for pred in y_pred_test:\n",
        "  etiqueta = y_test['Class'].iloc[i_index]\n",
        "  cantidad = X_test['Amount'].iloc[i_index]\n",
        "  if etiqueta == 1:\n",
        "    if pred == 0:\n",
        "      pierde = pierde + cantidad\n",
        "    else:\n",
        "      gana = gana + cantidad\n",
        "  i_index += 1"
      ],
      "id": "cfZf8HgIGd_c"
    },
    {
      "cell_type": "code",
      "execution_count": null,
      "metadata": {
        "id": "aRLDB8csV2Ip"
      },
      "outputs": [],
      "source": [
        "results['Gaussian Mixture-Red'] = get_metrics(y_test, y_pred_test,pierde,gana)"
      ],
      "id": "aRLDB8csV2Ip"
    },
    {
      "cell_type": "code",
      "execution_count": null,
      "metadata": {
        "id": "RIbZ0w1edcRP"
      },
      "outputs": [],
      "source": [
        "y_pred_test_gm_Red = y_pred_test"
      ],
      "id": "RIbZ0w1edcRP"
    },
    {
      "cell_type": "markdown",
      "metadata": {
        "id": "L6lq4EsJV5p4"
      },
      "source": [
        "## 5.3 Kmeans"
      ],
      "id": "L6lq4EsJV5p4"
    },
    {
      "cell_type": "code",
      "execution_count": null,
      "metadata": {
        "id": "V7Ycrx_vV5qb",
        "colab": {
          "base_uri": "https://localhost:8080/"
        },
        "outputId": "61aba54d-c0ca-4405-b7f1-017288d70f53"
      },
      "outputs": [
        {
          "output_type": "stream",
          "name": "stdout",
          "text": [
            "CONFUSION MATRIX:\n",
            " [[ 1515 55351]\n",
            " [    8    88]]\n",
            "Classification Report:\n",
            "               precision    recall  f1-score   support\n",
            "\n",
            "           0       0.99      0.03      0.05     56866\n",
            "           1       0.00      0.92      0.00        96\n",
            "\n",
            "    accuracy                           0.03     56962\n",
            "   macro avg       0.50      0.47      0.03     56962\n",
            "weighted avg       0.99      0.03      0.05     56962\n",
            "\n"
          ]
        }
      ],
      "source": [
        "km_model = fit_model(X_train, fit_kmeans, None)\n",
        "\n",
        "y_pred_test = predict_model(X_test, km_model, predict_kmeans)\n",
        "print('CONFUSION MATRIX:\\n', confusion_matrix(y_test,y_pred_test))\n",
        "print(\"Classification Report:\\n\", classification_report(y_test, y_pred_test))"
      ],
      "id": "V7Ycrx_vV5qb"
    },
    {
      "cell_type": "code",
      "execution_count": null,
      "metadata": {
        "id": "gcZWHdNIGe67"
      },
      "outputs": [],
      "source": [
        "i_index = 0\n",
        "pierde = 0\n",
        "gana = 0\n",
        "for pred in y_pred_test:\n",
        "  etiqueta = y_test['Class'].iloc[i_index]\n",
        "  cantidad = X_test['Amount'].iloc[i_index]\n",
        "  if etiqueta == 1:\n",
        "    if pred == 0:\n",
        "      pierde = pierde + cantidad\n",
        "    else:\n",
        "      gana = gana + cantidad\n",
        "  i_index += 1"
      ],
      "id": "gcZWHdNIGe67"
    },
    {
      "cell_type": "code",
      "execution_count": null,
      "metadata": {
        "id": "V5o_-yFWV5qe"
      },
      "outputs": [],
      "source": [
        "results['KMeans-Red'] = get_metrics(y_test, y_pred_test,pierde,gana)"
      ],
      "id": "V5o_-yFWV5qe"
    },
    {
      "cell_type": "code",
      "execution_count": null,
      "metadata": {
        "id": "xfz2ZJ2qdjNC"
      },
      "outputs": [],
      "source": [
        "y_pred_test_km_Red = y_pred_test"
      ],
      "id": "xfz2ZJ2qdjNC"
    },
    {
      "cell_type": "markdown",
      "metadata": {
        "id": "JgaFmQ4iV5qf"
      },
      "source": [
        "# 6.-Resultados"
      ],
      "id": "JgaFmQ4iV5qf"
    },
    {
      "cell_type": "markdown",
      "metadata": {
        "id": "224ChDhf5moR"
      },
      "source": [
        "**Resumen y discusión:**\n",
        "\n",
        "Partimos del DataFrame original, al cual se le agregó la feature 'last_hour_fraud' y se le dropeo la columna 'Time'. De este DataFrame reservamos un 20% de los datos como conjunto de testeo y el 80% restante para entrenamiento. Esta división en las muestras fueron escojidas al azar y definimos una semilla para poder ser reproducida por terceros.\n",
        "\n",
        "Partiendo de este conjunto de entrenamiento analizamos dos casos: en el primer caso utilizamos el dataframe de entrenamiento completo y en el segundo caso utilizamos un dataframe reducido y balanceado de tal forma que por cada transacción fraudulenta consideramos aproximandamente tres transacciones que no fueron fraude. Esta submuestra de transacciones no fraudulentas fueron escojidas al azar y tambien definimos una semilla para poder ser reproducida por terceros.\n",
        "\n",
        "En cada caso, definimos el conjunto de entrenamiento X_train como el conjunto de todas las features que le dimos de input a nuestros modelos. En este trabajo utilizamos todas las features menos 'Class', la cual fue dropeada.\n",
        "\n",
        "Por otra parte escojimos tres modelos: Isolation Forest (de aquí en más IS), Gaussian Mixture (GM) y Kmeans (KM). Para cada modelo usamos el dataframe no balanceado (Full) y el balanceado (Red).\n",
        "\n",
        "Finalmente, para evaluar nuestro modelos utilizamos las metricas Accuracy, Precision, Recall y F1-Score. Para calcular estos valores procedimos de la siguiente manera: Primero entrenamos cada modelo, para cada uno de los dos dataframe (no balanceado y balanceado), usando el conjunto de entrenamiento X_train. Estos modelos generaron dos labels que asociamos a transacciones no fraudulentas y transacciones fraudulentas. Despues le pasamos al modelo todas las features X_test del conjunto de entrenamiento (menos la feature 'Class' que fue reservada en y_test). Por ultimo comparamos las etiquetas que cada modelo asignó a los datos de X_test (las cuales denotamos por y_pred_test) y las comparamos con y_test, construyendo la matriz de confución correspondiente y todas mas métricas mencionadas.\n",
        "\n",
        "Los resultados para cada modelo y cada dataframe estan resumidos en la siguiente tabla:\n",
        "\n"
      ],
      "id": "224ChDhf5moR"
    },
    {
      "cell_type": "code",
      "execution_count": null,
      "metadata": {
        "id": "PRDxT9SXn1rd",
        "colab": {
          "base_uri": "https://localhost:8080/",
          "height": 394
        },
        "outputId": "1b2ca9d6-2749-4fa8-a47a-27805bd286d8"
      },
      "outputs": [
        {
          "output_type": "execute_result",
          "data": {
            "text/plain": [
              "             Metrics Isolation Forest-Full Gaussian Mixture-Full KMeans-Full  \\\n",
              "0     True Negatives                 55102                 35864       55873   \n",
              "1    False Negatives                  1764                 21002         993   \n",
              "2    False Positives                    20                    10          93   \n",
              "3     True Positives                    76                    86           3   \n",
              "4           Accuracy              0.968681              0.631123    0.980935   \n",
              "5          Precision              0.041304              0.004078    0.003012   \n",
              "6             Recall              0.791667              0.895833     0.03125   \n",
              "7           F1-Score              0.078512              0.008119    0.005495   \n",
              "8            Support                  None                  None        None   \n",
              "9   Total de perdida               2054.99                232.83     7883.06   \n",
              "10     Total salvado               9350.84               11173.0     3522.77   \n",
              "\n",
              "   Isolation Forest-Red Gaussian Mixture-Red KMeans-Red  \n",
              "0                 56266                23326       1515  \n",
              "1                   600                33540      55351  \n",
              "2                    71                   73          8  \n",
              "3                    25                   23         88  \n",
              "4               0.98822             0.409905   0.028142  \n",
              "5                  0.04             0.000685   0.001587  \n",
              "6              0.260417             0.239583   0.916667  \n",
              "7              0.069348             0.001367   0.003169  \n",
              "8                  None                 None       None  \n",
              "9               8422.66              10857.0    6933.72  \n",
              "10              2983.17               548.83    4472.11  "
            ],
            "text/html": [
              "\n",
              "  <div id=\"df-353ae003-f2c3-40a0-ae2f-494bcd121d45\">\n",
              "    <div class=\"colab-df-container\">\n",
              "      <div>\n",
              "<style scoped>\n",
              "    .dataframe tbody tr th:only-of-type {\n",
              "        vertical-align: middle;\n",
              "    }\n",
              "\n",
              "    .dataframe tbody tr th {\n",
              "        vertical-align: top;\n",
              "    }\n",
              "\n",
              "    .dataframe thead th {\n",
              "        text-align: right;\n",
              "    }\n",
              "</style>\n",
              "<table border=\"1\" class=\"dataframe\">\n",
              "  <thead>\n",
              "    <tr style=\"text-align: right;\">\n",
              "      <th></th>\n",
              "      <th>Metrics</th>\n",
              "      <th>Isolation Forest-Full</th>\n",
              "      <th>Gaussian Mixture-Full</th>\n",
              "      <th>KMeans-Full</th>\n",
              "      <th>Isolation Forest-Red</th>\n",
              "      <th>Gaussian Mixture-Red</th>\n",
              "      <th>KMeans-Red</th>\n",
              "    </tr>\n",
              "  </thead>\n",
              "  <tbody>\n",
              "    <tr>\n",
              "      <th>0</th>\n",
              "      <td>True Negatives</td>\n",
              "      <td>55102</td>\n",
              "      <td>35864</td>\n",
              "      <td>55873</td>\n",
              "      <td>56266</td>\n",
              "      <td>23326</td>\n",
              "      <td>1515</td>\n",
              "    </tr>\n",
              "    <tr>\n",
              "      <th>1</th>\n",
              "      <td>False Negatives</td>\n",
              "      <td>1764</td>\n",
              "      <td>21002</td>\n",
              "      <td>993</td>\n",
              "      <td>600</td>\n",
              "      <td>33540</td>\n",
              "      <td>55351</td>\n",
              "    </tr>\n",
              "    <tr>\n",
              "      <th>2</th>\n",
              "      <td>False Positives</td>\n",
              "      <td>20</td>\n",
              "      <td>10</td>\n",
              "      <td>93</td>\n",
              "      <td>71</td>\n",
              "      <td>73</td>\n",
              "      <td>8</td>\n",
              "    </tr>\n",
              "    <tr>\n",
              "      <th>3</th>\n",
              "      <td>True Positives</td>\n",
              "      <td>76</td>\n",
              "      <td>86</td>\n",
              "      <td>3</td>\n",
              "      <td>25</td>\n",
              "      <td>23</td>\n",
              "      <td>88</td>\n",
              "    </tr>\n",
              "    <tr>\n",
              "      <th>4</th>\n",
              "      <td>Accuracy</td>\n",
              "      <td>0.968681</td>\n",
              "      <td>0.631123</td>\n",
              "      <td>0.980935</td>\n",
              "      <td>0.98822</td>\n",
              "      <td>0.409905</td>\n",
              "      <td>0.028142</td>\n",
              "    </tr>\n",
              "    <tr>\n",
              "      <th>5</th>\n",
              "      <td>Precision</td>\n",
              "      <td>0.041304</td>\n",
              "      <td>0.004078</td>\n",
              "      <td>0.003012</td>\n",
              "      <td>0.04</td>\n",
              "      <td>0.000685</td>\n",
              "      <td>0.001587</td>\n",
              "    </tr>\n",
              "    <tr>\n",
              "      <th>6</th>\n",
              "      <td>Recall</td>\n",
              "      <td>0.791667</td>\n",
              "      <td>0.895833</td>\n",
              "      <td>0.03125</td>\n",
              "      <td>0.260417</td>\n",
              "      <td>0.239583</td>\n",
              "      <td>0.916667</td>\n",
              "    </tr>\n",
              "    <tr>\n",
              "      <th>7</th>\n",
              "      <td>F1-Score</td>\n",
              "      <td>0.078512</td>\n",
              "      <td>0.008119</td>\n",
              "      <td>0.005495</td>\n",
              "      <td>0.069348</td>\n",
              "      <td>0.001367</td>\n",
              "      <td>0.003169</td>\n",
              "    </tr>\n",
              "    <tr>\n",
              "      <th>8</th>\n",
              "      <td>Support</td>\n",
              "      <td>None</td>\n",
              "      <td>None</td>\n",
              "      <td>None</td>\n",
              "      <td>None</td>\n",
              "      <td>None</td>\n",
              "      <td>None</td>\n",
              "    </tr>\n",
              "    <tr>\n",
              "      <th>9</th>\n",
              "      <td>Total de perdida</td>\n",
              "      <td>2054.99</td>\n",
              "      <td>232.83</td>\n",
              "      <td>7883.06</td>\n",
              "      <td>8422.66</td>\n",
              "      <td>10857.0</td>\n",
              "      <td>6933.72</td>\n",
              "    </tr>\n",
              "    <tr>\n",
              "      <th>10</th>\n",
              "      <td>Total salvado</td>\n",
              "      <td>9350.84</td>\n",
              "      <td>11173.0</td>\n",
              "      <td>3522.77</td>\n",
              "      <td>2983.17</td>\n",
              "      <td>548.83</td>\n",
              "      <td>4472.11</td>\n",
              "    </tr>\n",
              "  </tbody>\n",
              "</table>\n",
              "</div>\n",
              "      <button class=\"colab-df-convert\" onclick=\"convertToInteractive('df-353ae003-f2c3-40a0-ae2f-494bcd121d45')\"\n",
              "              title=\"Convert this dataframe to an interactive table.\"\n",
              "              style=\"display:none;\">\n",
              "        \n",
              "  <svg xmlns=\"http://www.w3.org/2000/svg\" height=\"24px\"viewBox=\"0 0 24 24\"\n",
              "       width=\"24px\">\n",
              "    <path d=\"M0 0h24v24H0V0z\" fill=\"none\"/>\n",
              "    <path d=\"M18.56 5.44l.94 2.06.94-2.06 2.06-.94-2.06-.94-.94-2.06-.94 2.06-2.06.94zm-11 1L8.5 8.5l.94-2.06 2.06-.94-2.06-.94L8.5 2.5l-.94 2.06-2.06.94zm10 10l.94 2.06.94-2.06 2.06-.94-2.06-.94-.94-2.06-.94 2.06-2.06.94z\"/><path d=\"M17.41 7.96l-1.37-1.37c-.4-.4-.92-.59-1.43-.59-.52 0-1.04.2-1.43.59L10.3 9.45l-7.72 7.72c-.78.78-.78 2.05 0 2.83L4 21.41c.39.39.9.59 1.41.59.51 0 1.02-.2 1.41-.59l7.78-7.78 2.81-2.81c.8-.78.8-2.07 0-2.86zM5.41 20L4 18.59l7.72-7.72 1.47 1.35L5.41 20z\"/>\n",
              "  </svg>\n",
              "      </button>\n",
              "      \n",
              "  <style>\n",
              "    .colab-df-container {\n",
              "      display:flex;\n",
              "      flex-wrap:wrap;\n",
              "      gap: 12px;\n",
              "    }\n",
              "\n",
              "    .colab-df-convert {\n",
              "      background-color: #E8F0FE;\n",
              "      border: none;\n",
              "      border-radius: 50%;\n",
              "      cursor: pointer;\n",
              "      display: none;\n",
              "      fill: #1967D2;\n",
              "      height: 32px;\n",
              "      padding: 0 0 0 0;\n",
              "      width: 32px;\n",
              "    }\n",
              "\n",
              "    .colab-df-convert:hover {\n",
              "      background-color: #E2EBFA;\n",
              "      box-shadow: 0px 1px 2px rgba(60, 64, 67, 0.3), 0px 1px 3px 1px rgba(60, 64, 67, 0.15);\n",
              "      fill: #174EA6;\n",
              "    }\n",
              "\n",
              "    [theme=dark] .colab-df-convert {\n",
              "      background-color: #3B4455;\n",
              "      fill: #D2E3FC;\n",
              "    }\n",
              "\n",
              "    [theme=dark] .colab-df-convert:hover {\n",
              "      background-color: #434B5C;\n",
              "      box-shadow: 0px 1px 3px 1px rgba(0, 0, 0, 0.15);\n",
              "      filter: drop-shadow(0px 1px 2px rgba(0, 0, 0, 0.3));\n",
              "      fill: #FFFFFF;\n",
              "    }\n",
              "  </style>\n",
              "\n",
              "      <script>\n",
              "        const buttonEl =\n",
              "          document.querySelector('#df-353ae003-f2c3-40a0-ae2f-494bcd121d45 button.colab-df-convert');\n",
              "        buttonEl.style.display =\n",
              "          google.colab.kernel.accessAllowed ? 'block' : 'none';\n",
              "\n",
              "        async function convertToInteractive(key) {\n",
              "          const element = document.querySelector('#df-353ae003-f2c3-40a0-ae2f-494bcd121d45');\n",
              "          const dataTable =\n",
              "            await google.colab.kernel.invokeFunction('convertToInteractive',\n",
              "                                                     [key], {});\n",
              "          if (!dataTable) return;\n",
              "\n",
              "          const docLinkHtml = 'Like what you see? Visit the ' +\n",
              "            '<a target=\"_blank\" href=https://colab.research.google.com/notebooks/data_table.ipynb>data table notebook</a>'\n",
              "            + ' to learn more about interactive tables.';\n",
              "          element.innerHTML = '';\n",
              "          dataTable['output_type'] = 'display_data';\n",
              "          await google.colab.output.renderOutput(dataTable, element);\n",
              "          const docLink = document.createElement('div');\n",
              "          docLink.innerHTML = docLinkHtml;\n",
              "          element.appendChild(docLink);\n",
              "        }\n",
              "      </script>\n",
              "    </div>\n",
              "  </div>\n",
              "  "
            ]
          },
          "metadata": {},
          "execution_count": 46
        }
      ],
      "source": [
        "results"
      ],
      "id": "PRDxT9SXn1rd"
    },
    {
      "cell_type": "markdown",
      "metadata": {
        "id": "xdo-3smRBW3q"
      },
      "source": [
        "Para nuestro problema estamos interesados en analizar lo que ocurre con los Verdaderos Positivos TP (cuando el modelo predice un fraude y este ocurrió) y con los Falsos Positivos FP (cuando el modelo predice una transacción no fraudulenta cuando en realidad esta fue fraudulenta). Esta información está bien reflejada en la métrica Precision\n",
        "\n",
        "$Precision=\\frac{TP}{TP+FP}$\n",
        "\n",
        "y en la métrica F1. Ambas métricas arrojan valores muy bajos lo que sugieren que considerar modelos no supervisados para plantear el problema de detección de fraude no resulte viable.\n",
        "\n",
        "Sin embargo, en este trabajo tambien consideramos un punto extra, que es el hecho de que puede existir la posibilidad del modelo no detectar correctamente la mayoria de los fraudes, pero que los fraudes que detecte sean de transacciones con montos elevados, lo cual podria derivar en un modelo *vendible*.\n",
        "\n",
        "Para ver la calidad de nuestros modelos a la hora de detectar fraudes valiosos (de montos elevados), calculamos el monto acumulado transacciones fraudulentas no detectadas por el modelo (esto es, el monto total que perderia la empresa inferido de nuestro conjunto de testeo) y el monto acumulado de transacciones fraudulentas detectadas (esto es, el monto total que la empresa recupera de transacciones fraudulentas inferido de nuestro conjunto de testeo). Estos valores se encuentran en las dos ultimas columnas de la tabla, respectivamente.\n",
        "\n",
        "Lo que obtenemos es que tanto IF como GM, entrenados con el dataframe no balanceado (Full), tienen los mejores resultados, llegado a recuperar bastante más dinero en pocas transacciones de alto valor que las que pierde por no detectar una gran cantidad de transacciones de bajo monto.\n",
        "\n",
        "Para una mejor visualización, presentamos esto en los siguientes graficos."
      ],
      "id": "xdo-3smRBW3q"
    },
    {
      "cell_type": "code",
      "execution_count": null,
      "metadata": {
        "id": "KB0fBOBBmTkU"
      },
      "outputs": [],
      "source": [
        "Isolation_Forest_Full = results['Isolation Forest-Full'].iloc[9]\n",
        "Gaussian_Mixture_Full = results['Gaussian Mixture-Full'].iloc[9]\n",
        "KMeans_Full = results['KMeans-Full'].iloc[9]\n",
        "\n",
        "Isolation_Forest_Red = results['Isolation Forest-Red'].iloc[9]\n",
        "Gaussian_Mixture_Red = results['Gaussian Mixture-Red'].iloc[9]\n",
        "KMeans_Red = results['KMeans-Red'].iloc[9]"
      ],
      "id": "KB0fBOBBmTkU"
    },
    {
      "cell_type": "code",
      "execution_count": null,
      "metadata": {
        "id": "aYvwr9S-rxeG",
        "colab": {
          "base_uri": "https://localhost:8080/",
          "height": 542
        },
        "outputId": "2b801578-da81-478c-8d4d-83222a2c7ed8"
      },
      "outputs": [
        {
          "output_type": "display_data",
          "data": {
            "text/html": [
              "<html>\n",
              "<head><meta charset=\"utf-8\" /></head>\n",
              "<body>\n",
              "    <div>            <script src=\"https://cdnjs.cloudflare.com/ajax/libs/mathjax/2.7.5/MathJax.js?config=TeX-AMS-MML_SVG\"></script><script type=\"text/javascript\">if (window.MathJax) {MathJax.Hub.Config({SVG: {font: \"STIX-Web\"}});}</script>                <script type=\"text/javascript\">window.PlotlyConfig = {MathJaxConfig: 'local'};</script>\n",
              "        <script src=\"https://cdn.plot.ly/plotly-2.8.3.min.js\"></script>                <div id=\"4b008562-826e-43cd-aabb-f9ecc277d1f5\" class=\"plotly-graph-div\" style=\"height:525px; width:100%;\"></div>            <script type=\"text/javascript\">                                    window.PLOTLYENV=window.PLOTLYENV || {};                                    if (document.getElementById(\"4b008562-826e-43cd-aabb-f9ecc277d1f5\")) {                    Plotly.newPlot(                        \"4b008562-826e-43cd-aabb-f9ecc277d1f5\",                        [{\"x\":[\"Isolation Forest-Full\",\"Gaussian Mixture-Full\",\"KMeans-Full\",\"Isolation Forest-Red\",\"Gaussian Mixture-Red\",\"KMeans-Red\"],\"y\":[2054.99,232.83,7883.06,8422.659999999998,10856.999999999998,6933.719999999999],\"type\":\"bar\"}],                        {\"title\":{\"text\":\"Monto de fraude perdido segmentado en grupos por modelos\"},\"template\":{\"data\":{\"bar\":[{\"error_x\":{\"color\":\"#2a3f5f\"},\"error_y\":{\"color\":\"#2a3f5f\"},\"marker\":{\"line\":{\"color\":\"#E5ECF6\",\"width\":0.5},\"pattern\":{\"fillmode\":\"overlay\",\"size\":10,\"solidity\":0.2}},\"type\":\"bar\"}],\"barpolar\":[{\"marker\":{\"line\":{\"color\":\"#E5ECF6\",\"width\":0.5},\"pattern\":{\"fillmode\":\"overlay\",\"size\":10,\"solidity\":0.2}},\"type\":\"barpolar\"}],\"carpet\":[{\"aaxis\":{\"endlinecolor\":\"#2a3f5f\",\"gridcolor\":\"white\",\"linecolor\":\"white\",\"minorgridcolor\":\"white\",\"startlinecolor\":\"#2a3f5f\"},\"baxis\":{\"endlinecolor\":\"#2a3f5f\",\"gridcolor\":\"white\",\"linecolor\":\"white\",\"minorgridcolor\":\"white\",\"startlinecolor\":\"#2a3f5f\"},\"type\":\"carpet\"}],\"choropleth\":[{\"colorbar\":{\"outlinewidth\":0,\"ticks\":\"\"},\"type\":\"choropleth\"}],\"contour\":[{\"colorbar\":{\"outlinewidth\":0,\"ticks\":\"\"},\"colorscale\":[[0.0,\"#0d0887\"],[0.1111111111111111,\"#46039f\"],[0.2222222222222222,\"#7201a8\"],[0.3333333333333333,\"#9c179e\"],[0.4444444444444444,\"#bd3786\"],[0.5555555555555556,\"#d8576b\"],[0.6666666666666666,\"#ed7953\"],[0.7777777777777778,\"#fb9f3a\"],[0.8888888888888888,\"#fdca26\"],[1.0,\"#f0f921\"]],\"type\":\"contour\"}],\"contourcarpet\":[{\"colorbar\":{\"outlinewidth\":0,\"ticks\":\"\"},\"type\":\"contourcarpet\"}],\"heatmap\":[{\"colorbar\":{\"outlinewidth\":0,\"ticks\":\"\"},\"colorscale\":[[0.0,\"#0d0887\"],[0.1111111111111111,\"#46039f\"],[0.2222222222222222,\"#7201a8\"],[0.3333333333333333,\"#9c179e\"],[0.4444444444444444,\"#bd3786\"],[0.5555555555555556,\"#d8576b\"],[0.6666666666666666,\"#ed7953\"],[0.7777777777777778,\"#fb9f3a\"],[0.8888888888888888,\"#fdca26\"],[1.0,\"#f0f921\"]],\"type\":\"heatmap\"}],\"heatmapgl\":[{\"colorbar\":{\"outlinewidth\":0,\"ticks\":\"\"},\"colorscale\":[[0.0,\"#0d0887\"],[0.1111111111111111,\"#46039f\"],[0.2222222222222222,\"#7201a8\"],[0.3333333333333333,\"#9c179e\"],[0.4444444444444444,\"#bd3786\"],[0.5555555555555556,\"#d8576b\"],[0.6666666666666666,\"#ed7953\"],[0.7777777777777778,\"#fb9f3a\"],[0.8888888888888888,\"#fdca26\"],[1.0,\"#f0f921\"]],\"type\":\"heatmapgl\"}],\"histogram\":[{\"marker\":{\"pattern\":{\"fillmode\":\"overlay\",\"size\":10,\"solidity\":0.2}},\"type\":\"histogram\"}],\"histogram2d\":[{\"colorbar\":{\"outlinewidth\":0,\"ticks\":\"\"},\"colorscale\":[[0.0,\"#0d0887\"],[0.1111111111111111,\"#46039f\"],[0.2222222222222222,\"#7201a8\"],[0.3333333333333333,\"#9c179e\"],[0.4444444444444444,\"#bd3786\"],[0.5555555555555556,\"#d8576b\"],[0.6666666666666666,\"#ed7953\"],[0.7777777777777778,\"#fb9f3a\"],[0.8888888888888888,\"#fdca26\"],[1.0,\"#f0f921\"]],\"type\":\"histogram2d\"}],\"histogram2dcontour\":[{\"colorbar\":{\"outlinewidth\":0,\"ticks\":\"\"},\"colorscale\":[[0.0,\"#0d0887\"],[0.1111111111111111,\"#46039f\"],[0.2222222222222222,\"#7201a8\"],[0.3333333333333333,\"#9c179e\"],[0.4444444444444444,\"#bd3786\"],[0.5555555555555556,\"#d8576b\"],[0.6666666666666666,\"#ed7953\"],[0.7777777777777778,\"#fb9f3a\"],[0.8888888888888888,\"#fdca26\"],[1.0,\"#f0f921\"]],\"type\":\"histogram2dcontour\"}],\"mesh3d\":[{\"colorbar\":{\"outlinewidth\":0,\"ticks\":\"\"},\"type\":\"mesh3d\"}],\"parcoords\":[{\"line\":{\"colorbar\":{\"outlinewidth\":0,\"ticks\":\"\"}},\"type\":\"parcoords\"}],\"pie\":[{\"automargin\":true,\"type\":\"pie\"}],\"scatter\":[{\"marker\":{\"colorbar\":{\"outlinewidth\":0,\"ticks\":\"\"}},\"type\":\"scatter\"}],\"scatter3d\":[{\"line\":{\"colorbar\":{\"outlinewidth\":0,\"ticks\":\"\"}},\"marker\":{\"colorbar\":{\"outlinewidth\":0,\"ticks\":\"\"}},\"type\":\"scatter3d\"}],\"scattercarpet\":[{\"marker\":{\"colorbar\":{\"outlinewidth\":0,\"ticks\":\"\"}},\"type\":\"scattercarpet\"}],\"scattergeo\":[{\"marker\":{\"colorbar\":{\"outlinewidth\":0,\"ticks\":\"\"}},\"type\":\"scattergeo\"}],\"scattergl\":[{\"marker\":{\"colorbar\":{\"outlinewidth\":0,\"ticks\":\"\"}},\"type\":\"scattergl\"}],\"scattermapbox\":[{\"marker\":{\"colorbar\":{\"outlinewidth\":0,\"ticks\":\"\"}},\"type\":\"scattermapbox\"}],\"scatterpolar\":[{\"marker\":{\"colorbar\":{\"outlinewidth\":0,\"ticks\":\"\"}},\"type\":\"scatterpolar\"}],\"scatterpolargl\":[{\"marker\":{\"colorbar\":{\"outlinewidth\":0,\"ticks\":\"\"}},\"type\":\"scatterpolargl\"}],\"scatterternary\":[{\"marker\":{\"colorbar\":{\"outlinewidth\":0,\"ticks\":\"\"}},\"type\":\"scatterternary\"}],\"surface\":[{\"colorbar\":{\"outlinewidth\":0,\"ticks\":\"\"},\"colorscale\":[[0.0,\"#0d0887\"],[0.1111111111111111,\"#46039f\"],[0.2222222222222222,\"#7201a8\"],[0.3333333333333333,\"#9c179e\"],[0.4444444444444444,\"#bd3786\"],[0.5555555555555556,\"#d8576b\"],[0.6666666666666666,\"#ed7953\"],[0.7777777777777778,\"#fb9f3a\"],[0.8888888888888888,\"#fdca26\"],[1.0,\"#f0f921\"]],\"type\":\"surface\"}],\"table\":[{\"cells\":{\"fill\":{\"color\":\"#EBF0F8\"},\"line\":{\"color\":\"white\"}},\"header\":{\"fill\":{\"color\":\"#C8D4E3\"},\"line\":{\"color\":\"white\"}},\"type\":\"table\"}]},\"layout\":{\"annotationdefaults\":{\"arrowcolor\":\"#2a3f5f\",\"arrowhead\":0,\"arrowwidth\":1},\"autotypenumbers\":\"strict\",\"coloraxis\":{\"colorbar\":{\"outlinewidth\":0,\"ticks\":\"\"}},\"colorscale\":{\"diverging\":[[0,\"#8e0152\"],[0.1,\"#c51b7d\"],[0.2,\"#de77ae\"],[0.3,\"#f1b6da\"],[0.4,\"#fde0ef\"],[0.5,\"#f7f7f7\"],[0.6,\"#e6f5d0\"],[0.7,\"#b8e186\"],[0.8,\"#7fbc41\"],[0.9,\"#4d9221\"],[1,\"#276419\"]],\"sequential\":[[0.0,\"#0d0887\"],[0.1111111111111111,\"#46039f\"],[0.2222222222222222,\"#7201a8\"],[0.3333333333333333,\"#9c179e\"],[0.4444444444444444,\"#bd3786\"],[0.5555555555555556,\"#d8576b\"],[0.6666666666666666,\"#ed7953\"],[0.7777777777777778,\"#fb9f3a\"],[0.8888888888888888,\"#fdca26\"],[1.0,\"#f0f921\"]],\"sequentialminus\":[[0.0,\"#0d0887\"],[0.1111111111111111,\"#46039f\"],[0.2222222222222222,\"#7201a8\"],[0.3333333333333333,\"#9c179e\"],[0.4444444444444444,\"#bd3786\"],[0.5555555555555556,\"#d8576b\"],[0.6666666666666666,\"#ed7953\"],[0.7777777777777778,\"#fb9f3a\"],[0.8888888888888888,\"#fdca26\"],[1.0,\"#f0f921\"]]},\"colorway\":[\"#636efa\",\"#EF553B\",\"#00cc96\",\"#ab63fa\",\"#FFA15A\",\"#19d3f3\",\"#FF6692\",\"#B6E880\",\"#FF97FF\",\"#FECB52\"],\"font\":{\"color\":\"#2a3f5f\"},\"geo\":{\"bgcolor\":\"white\",\"lakecolor\":\"white\",\"landcolor\":\"#E5ECF6\",\"showlakes\":true,\"showland\":true,\"subunitcolor\":\"white\"},\"hoverlabel\":{\"align\":\"left\"},\"hovermode\":\"closest\",\"mapbox\":{\"style\":\"light\"},\"paper_bgcolor\":\"white\",\"plot_bgcolor\":\"#E5ECF6\",\"polar\":{\"angularaxis\":{\"gridcolor\":\"white\",\"linecolor\":\"white\",\"ticks\":\"\"},\"bgcolor\":\"#E5ECF6\",\"radialaxis\":{\"gridcolor\":\"white\",\"linecolor\":\"white\",\"ticks\":\"\"}},\"scene\":{\"xaxis\":{\"backgroundcolor\":\"#E5ECF6\",\"gridcolor\":\"white\",\"gridwidth\":2,\"linecolor\":\"white\",\"showbackground\":true,\"ticks\":\"\",\"zerolinecolor\":\"white\"},\"yaxis\":{\"backgroundcolor\":\"#E5ECF6\",\"gridcolor\":\"white\",\"gridwidth\":2,\"linecolor\":\"white\",\"showbackground\":true,\"ticks\":\"\",\"zerolinecolor\":\"white\"},\"zaxis\":{\"backgroundcolor\":\"#E5ECF6\",\"gridcolor\":\"white\",\"gridwidth\":2,\"linecolor\":\"white\",\"showbackground\":true,\"ticks\":\"\",\"zerolinecolor\":\"white\"}},\"shapedefaults\":{\"line\":{\"color\":\"#2a3f5f\"}},\"ternary\":{\"aaxis\":{\"gridcolor\":\"white\",\"linecolor\":\"white\",\"ticks\":\"\"},\"baxis\":{\"gridcolor\":\"white\",\"linecolor\":\"white\",\"ticks\":\"\"},\"bgcolor\":\"#E5ECF6\",\"caxis\":{\"gridcolor\":\"white\",\"linecolor\":\"white\",\"ticks\":\"\"}},\"title\":{\"x\":0.05},\"xaxis\":{\"automargin\":true,\"gridcolor\":\"white\",\"linecolor\":\"white\",\"ticks\":\"\",\"title\":{\"standoff\":15},\"zerolinecolor\":\"white\",\"zerolinewidth\":2},\"yaxis\":{\"automargin\":true,\"gridcolor\":\"white\",\"linecolor\":\"white\",\"ticks\":\"\",\"title\":{\"standoff\":15},\"zerolinecolor\":\"white\",\"zerolinewidth\":2}}}},                        {\"responsive\": true}                    ).then(function(){\n",
              "                            \n",
              "var gd = document.getElementById('4b008562-826e-43cd-aabb-f9ecc277d1f5');\n",
              "var x = new MutationObserver(function (mutations, observer) {{\n",
              "        var display = window.getComputedStyle(gd).display;\n",
              "        if (!display || display === 'none') {{\n",
              "            console.log([gd, 'removed!']);\n",
              "            Plotly.purge(gd);\n",
              "            observer.disconnect();\n",
              "        }}\n",
              "}});\n",
              "\n",
              "// Listen for the removal of the full notebook cells\n",
              "var notebookContainer = gd.closest('#notebook-container');\n",
              "if (notebookContainer) {{\n",
              "    x.observe(notebookContainer, {childList: true});\n",
              "}}\n",
              "\n",
              "// Listen for the clearing of the current output cell\n",
              "var outputEl = gd.closest('.output');\n",
              "if (outputEl) {{\n",
              "    x.observe(outputEl, {childList: true});\n",
              "}}\n",
              "\n",
              "                        })                };                            </script>        </div>\n",
              "</body>\n",
              "</html>"
            ]
          },
          "metadata": {}
        }
      ],
      "source": [
        "title = {'title': 'Monto de fraude perdido segmentado en grupos por modelos'}\n",
        "tags = ['Isolation Forest-Full', 'Gaussian Mixture-Full', 'KMeans-Full','Isolation Forest-Red', 'Gaussian Mixture-Red', 'KMeans-Red']\n",
        "amounts = [Isolation_Forest_Full,\n",
        "           Gaussian_Mixture_Full,\n",
        "           KMeans_Full,\n",
        "           Isolation_Forest_Red,\n",
        "           Gaussian_Mixture_Red,\n",
        "           KMeans_Red\n",
        "          ]\n",
        "data = [go.Bar(\n",
        "   x = tags,\n",
        "   y = amounts\n",
        ")]\n",
        "fig = go.Figure(data=data, layout=title)\n",
        "fig.show()"
      ],
      "id": "aYvwr9S-rxeG"
    },
    {
      "cell_type": "code",
      "execution_count": null,
      "metadata": {
        "id": "1JlTROhEr58M"
      },
      "outputs": [],
      "source": [
        "Isolation_Forest_Full2 = results['Isolation Forest-Full'].iloc[10]\n",
        "Gaussian_Mixture_Full2 = results['Gaussian Mixture-Full'].iloc[10]\n",
        "KMeans_Full2 = results['KMeans-Full'].iloc[10]\n",
        "\n",
        "Isolation_Forest_Red2 = results['Isolation Forest-Red'].iloc[10]\n",
        "Gaussian_Mixture_Red2 = results['Gaussian Mixture-Red'].iloc[10]\n",
        "KMeans_Red2 = results['KMeans-Red'].iloc[10]"
      ],
      "id": "1JlTROhEr58M"
    },
    {
      "cell_type": "code",
      "execution_count": null,
      "metadata": {
        "id": "kWMQOK55tV_W",
        "colab": {
          "base_uri": "https://localhost:8080/",
          "height": 542
        },
        "outputId": "23e0f83b-214f-4c3c-a421-aa9d80bf0cf8"
      },
      "outputs": [
        {
          "output_type": "display_data",
          "data": {
            "text/html": [
              "<html>\n",
              "<head><meta charset=\"utf-8\" /></head>\n",
              "<body>\n",
              "    <div>            <script src=\"https://cdnjs.cloudflare.com/ajax/libs/mathjax/2.7.5/MathJax.js?config=TeX-AMS-MML_SVG\"></script><script type=\"text/javascript\">if (window.MathJax) {MathJax.Hub.Config({SVG: {font: \"STIX-Web\"}});}</script>                <script type=\"text/javascript\">window.PlotlyConfig = {MathJaxConfig: 'local'};</script>\n",
              "        <script src=\"https://cdn.plot.ly/plotly-2.8.3.min.js\"></script>                <div id=\"e3b15412-0467-440b-9555-aaf49e60b4e2\" class=\"plotly-graph-div\" style=\"height:525px; width:100%;\"></div>            <script type=\"text/javascript\">                                    window.PLOTLYENV=window.PLOTLYENV || {};                                    if (document.getElementById(\"e3b15412-0467-440b-9555-aaf49e60b4e2\")) {                    Plotly.newPlot(                        \"e3b15412-0467-440b-9555-aaf49e60b4e2\",                        [{\"x\":[\"Isolation Forest-Full\",\"Gaussian Mixture-Full\",\"KMeans-Full\",\"Isolation Forest-Red\",\"Gaussian Mixture-Red\",\"KMeans-Red\"],\"y\":[8920.459999999997,11172.999999999998,3522.7700000000004,4234.02,548.83,6933.719999999999],\"type\":\"bar\"}],                        {\"title\":{\"text\":\"Montos de fraude prevenidos segmentados en grupos por modelos\"},\"template\":{\"data\":{\"bar\":[{\"error_x\":{\"color\":\"#2a3f5f\"},\"error_y\":{\"color\":\"#2a3f5f\"},\"marker\":{\"line\":{\"color\":\"#E5ECF6\",\"width\":0.5},\"pattern\":{\"fillmode\":\"overlay\",\"size\":10,\"solidity\":0.2}},\"type\":\"bar\"}],\"barpolar\":[{\"marker\":{\"line\":{\"color\":\"#E5ECF6\",\"width\":0.5},\"pattern\":{\"fillmode\":\"overlay\",\"size\":10,\"solidity\":0.2}},\"type\":\"barpolar\"}],\"carpet\":[{\"aaxis\":{\"endlinecolor\":\"#2a3f5f\",\"gridcolor\":\"white\",\"linecolor\":\"white\",\"minorgridcolor\":\"white\",\"startlinecolor\":\"#2a3f5f\"},\"baxis\":{\"endlinecolor\":\"#2a3f5f\",\"gridcolor\":\"white\",\"linecolor\":\"white\",\"minorgridcolor\":\"white\",\"startlinecolor\":\"#2a3f5f\"},\"type\":\"carpet\"}],\"choropleth\":[{\"colorbar\":{\"outlinewidth\":0,\"ticks\":\"\"},\"type\":\"choropleth\"}],\"contour\":[{\"colorbar\":{\"outlinewidth\":0,\"ticks\":\"\"},\"colorscale\":[[0.0,\"#0d0887\"],[0.1111111111111111,\"#46039f\"],[0.2222222222222222,\"#7201a8\"],[0.3333333333333333,\"#9c179e\"],[0.4444444444444444,\"#bd3786\"],[0.5555555555555556,\"#d8576b\"],[0.6666666666666666,\"#ed7953\"],[0.7777777777777778,\"#fb9f3a\"],[0.8888888888888888,\"#fdca26\"],[1.0,\"#f0f921\"]],\"type\":\"contour\"}],\"contourcarpet\":[{\"colorbar\":{\"outlinewidth\":0,\"ticks\":\"\"},\"type\":\"contourcarpet\"}],\"heatmap\":[{\"colorbar\":{\"outlinewidth\":0,\"ticks\":\"\"},\"colorscale\":[[0.0,\"#0d0887\"],[0.1111111111111111,\"#46039f\"],[0.2222222222222222,\"#7201a8\"],[0.3333333333333333,\"#9c179e\"],[0.4444444444444444,\"#bd3786\"],[0.5555555555555556,\"#d8576b\"],[0.6666666666666666,\"#ed7953\"],[0.7777777777777778,\"#fb9f3a\"],[0.8888888888888888,\"#fdca26\"],[1.0,\"#f0f921\"]],\"type\":\"heatmap\"}],\"heatmapgl\":[{\"colorbar\":{\"outlinewidth\":0,\"ticks\":\"\"},\"colorscale\":[[0.0,\"#0d0887\"],[0.1111111111111111,\"#46039f\"],[0.2222222222222222,\"#7201a8\"],[0.3333333333333333,\"#9c179e\"],[0.4444444444444444,\"#bd3786\"],[0.5555555555555556,\"#d8576b\"],[0.6666666666666666,\"#ed7953\"],[0.7777777777777778,\"#fb9f3a\"],[0.8888888888888888,\"#fdca26\"],[1.0,\"#f0f921\"]],\"type\":\"heatmapgl\"}],\"histogram\":[{\"marker\":{\"pattern\":{\"fillmode\":\"overlay\",\"size\":10,\"solidity\":0.2}},\"type\":\"histogram\"}],\"histogram2d\":[{\"colorbar\":{\"outlinewidth\":0,\"ticks\":\"\"},\"colorscale\":[[0.0,\"#0d0887\"],[0.1111111111111111,\"#46039f\"],[0.2222222222222222,\"#7201a8\"],[0.3333333333333333,\"#9c179e\"],[0.4444444444444444,\"#bd3786\"],[0.5555555555555556,\"#d8576b\"],[0.6666666666666666,\"#ed7953\"],[0.7777777777777778,\"#fb9f3a\"],[0.8888888888888888,\"#fdca26\"],[1.0,\"#f0f921\"]],\"type\":\"histogram2d\"}],\"histogram2dcontour\":[{\"colorbar\":{\"outlinewidth\":0,\"ticks\":\"\"},\"colorscale\":[[0.0,\"#0d0887\"],[0.1111111111111111,\"#46039f\"],[0.2222222222222222,\"#7201a8\"],[0.3333333333333333,\"#9c179e\"],[0.4444444444444444,\"#bd3786\"],[0.5555555555555556,\"#d8576b\"],[0.6666666666666666,\"#ed7953\"],[0.7777777777777778,\"#fb9f3a\"],[0.8888888888888888,\"#fdca26\"],[1.0,\"#f0f921\"]],\"type\":\"histogram2dcontour\"}],\"mesh3d\":[{\"colorbar\":{\"outlinewidth\":0,\"ticks\":\"\"},\"type\":\"mesh3d\"}],\"parcoords\":[{\"line\":{\"colorbar\":{\"outlinewidth\":0,\"ticks\":\"\"}},\"type\":\"parcoords\"}],\"pie\":[{\"automargin\":true,\"type\":\"pie\"}],\"scatter\":[{\"marker\":{\"colorbar\":{\"outlinewidth\":0,\"ticks\":\"\"}},\"type\":\"scatter\"}],\"scatter3d\":[{\"line\":{\"colorbar\":{\"outlinewidth\":0,\"ticks\":\"\"}},\"marker\":{\"colorbar\":{\"outlinewidth\":0,\"ticks\":\"\"}},\"type\":\"scatter3d\"}],\"scattercarpet\":[{\"marker\":{\"colorbar\":{\"outlinewidth\":0,\"ticks\":\"\"}},\"type\":\"scattercarpet\"}],\"scattergeo\":[{\"marker\":{\"colorbar\":{\"outlinewidth\":0,\"ticks\":\"\"}},\"type\":\"scattergeo\"}],\"scattergl\":[{\"marker\":{\"colorbar\":{\"outlinewidth\":0,\"ticks\":\"\"}},\"type\":\"scattergl\"}],\"scattermapbox\":[{\"marker\":{\"colorbar\":{\"outlinewidth\":0,\"ticks\":\"\"}},\"type\":\"scattermapbox\"}],\"scatterpolar\":[{\"marker\":{\"colorbar\":{\"outlinewidth\":0,\"ticks\":\"\"}},\"type\":\"scatterpolar\"}],\"scatterpolargl\":[{\"marker\":{\"colorbar\":{\"outlinewidth\":0,\"ticks\":\"\"}},\"type\":\"scatterpolargl\"}],\"scatterternary\":[{\"marker\":{\"colorbar\":{\"outlinewidth\":0,\"ticks\":\"\"}},\"type\":\"scatterternary\"}],\"surface\":[{\"colorbar\":{\"outlinewidth\":0,\"ticks\":\"\"},\"colorscale\":[[0.0,\"#0d0887\"],[0.1111111111111111,\"#46039f\"],[0.2222222222222222,\"#7201a8\"],[0.3333333333333333,\"#9c179e\"],[0.4444444444444444,\"#bd3786\"],[0.5555555555555556,\"#d8576b\"],[0.6666666666666666,\"#ed7953\"],[0.7777777777777778,\"#fb9f3a\"],[0.8888888888888888,\"#fdca26\"],[1.0,\"#f0f921\"]],\"type\":\"surface\"}],\"table\":[{\"cells\":{\"fill\":{\"color\":\"#EBF0F8\"},\"line\":{\"color\":\"white\"}},\"header\":{\"fill\":{\"color\":\"#C8D4E3\"},\"line\":{\"color\":\"white\"}},\"type\":\"table\"}]},\"layout\":{\"annotationdefaults\":{\"arrowcolor\":\"#2a3f5f\",\"arrowhead\":0,\"arrowwidth\":1},\"autotypenumbers\":\"strict\",\"coloraxis\":{\"colorbar\":{\"outlinewidth\":0,\"ticks\":\"\"}},\"colorscale\":{\"diverging\":[[0,\"#8e0152\"],[0.1,\"#c51b7d\"],[0.2,\"#de77ae\"],[0.3,\"#f1b6da\"],[0.4,\"#fde0ef\"],[0.5,\"#f7f7f7\"],[0.6,\"#e6f5d0\"],[0.7,\"#b8e186\"],[0.8,\"#7fbc41\"],[0.9,\"#4d9221\"],[1,\"#276419\"]],\"sequential\":[[0.0,\"#0d0887\"],[0.1111111111111111,\"#46039f\"],[0.2222222222222222,\"#7201a8\"],[0.3333333333333333,\"#9c179e\"],[0.4444444444444444,\"#bd3786\"],[0.5555555555555556,\"#d8576b\"],[0.6666666666666666,\"#ed7953\"],[0.7777777777777778,\"#fb9f3a\"],[0.8888888888888888,\"#fdca26\"],[1.0,\"#f0f921\"]],\"sequentialminus\":[[0.0,\"#0d0887\"],[0.1111111111111111,\"#46039f\"],[0.2222222222222222,\"#7201a8\"],[0.3333333333333333,\"#9c179e\"],[0.4444444444444444,\"#bd3786\"],[0.5555555555555556,\"#d8576b\"],[0.6666666666666666,\"#ed7953\"],[0.7777777777777778,\"#fb9f3a\"],[0.8888888888888888,\"#fdca26\"],[1.0,\"#f0f921\"]]},\"colorway\":[\"#636efa\",\"#EF553B\",\"#00cc96\",\"#ab63fa\",\"#FFA15A\",\"#19d3f3\",\"#FF6692\",\"#B6E880\",\"#FF97FF\",\"#FECB52\"],\"font\":{\"color\":\"#2a3f5f\"},\"geo\":{\"bgcolor\":\"white\",\"lakecolor\":\"white\",\"landcolor\":\"#E5ECF6\",\"showlakes\":true,\"showland\":true,\"subunitcolor\":\"white\"},\"hoverlabel\":{\"align\":\"left\"},\"hovermode\":\"closest\",\"mapbox\":{\"style\":\"light\"},\"paper_bgcolor\":\"white\",\"plot_bgcolor\":\"#E5ECF6\",\"polar\":{\"angularaxis\":{\"gridcolor\":\"white\",\"linecolor\":\"white\",\"ticks\":\"\"},\"bgcolor\":\"#E5ECF6\",\"radialaxis\":{\"gridcolor\":\"white\",\"linecolor\":\"white\",\"ticks\":\"\"}},\"scene\":{\"xaxis\":{\"backgroundcolor\":\"#E5ECF6\",\"gridcolor\":\"white\",\"gridwidth\":2,\"linecolor\":\"white\",\"showbackground\":true,\"ticks\":\"\",\"zerolinecolor\":\"white\"},\"yaxis\":{\"backgroundcolor\":\"#E5ECF6\",\"gridcolor\":\"white\",\"gridwidth\":2,\"linecolor\":\"white\",\"showbackground\":true,\"ticks\":\"\",\"zerolinecolor\":\"white\"},\"zaxis\":{\"backgroundcolor\":\"#E5ECF6\",\"gridcolor\":\"white\",\"gridwidth\":2,\"linecolor\":\"white\",\"showbackground\":true,\"ticks\":\"\",\"zerolinecolor\":\"white\"}},\"shapedefaults\":{\"line\":{\"color\":\"#2a3f5f\"}},\"ternary\":{\"aaxis\":{\"gridcolor\":\"white\",\"linecolor\":\"white\",\"ticks\":\"\"},\"baxis\":{\"gridcolor\":\"white\",\"linecolor\":\"white\",\"ticks\":\"\"},\"bgcolor\":\"#E5ECF6\",\"caxis\":{\"gridcolor\":\"white\",\"linecolor\":\"white\",\"ticks\":\"\"}},\"title\":{\"x\":0.05},\"xaxis\":{\"automargin\":true,\"gridcolor\":\"white\",\"linecolor\":\"white\",\"ticks\":\"\",\"title\":{\"standoff\":15},\"zerolinecolor\":\"white\",\"zerolinewidth\":2},\"yaxis\":{\"automargin\":true,\"gridcolor\":\"white\",\"linecolor\":\"white\",\"ticks\":\"\",\"title\":{\"standoff\":15},\"zerolinecolor\":\"white\",\"zerolinewidth\":2}}}},                        {\"responsive\": true}                    ).then(function(){\n",
              "                            \n",
              "var gd = document.getElementById('e3b15412-0467-440b-9555-aaf49e60b4e2');\n",
              "var x = new MutationObserver(function (mutations, observer) {{\n",
              "        var display = window.getComputedStyle(gd).display;\n",
              "        if (!display || display === 'none') {{\n",
              "            console.log([gd, 'removed!']);\n",
              "            Plotly.purge(gd);\n",
              "            observer.disconnect();\n",
              "        }}\n",
              "}});\n",
              "\n",
              "// Listen for the removal of the full notebook cells\n",
              "var notebookContainer = gd.closest('#notebook-container');\n",
              "if (notebookContainer) {{\n",
              "    x.observe(notebookContainer, {childList: true});\n",
              "}}\n",
              "\n",
              "// Listen for the clearing of the current output cell\n",
              "var outputEl = gd.closest('.output');\n",
              "if (outputEl) {{\n",
              "    x.observe(outputEl, {childList: true});\n",
              "}}\n",
              "\n",
              "                        })                };                            </script>        </div>\n",
              "</body>\n",
              "</html>"
            ]
          },
          "metadata": {}
        }
      ],
      "source": [
        "title = {'title': 'Montos de fraude prevenidos segmentados en grupos por modelos'}\n",
        "tags = ['Isolation Forest-Full', 'Gaussian Mixture-Full', 'KMeans-Full','Isolation Forest-Red', 'Gaussian Mixture-Red', 'KMeans-Red']\n",
        "amounts = [Isolation_Forest_Full2,\n",
        "           Gaussian_Mixture_Full2,\n",
        "           KMeans_Full2,\n",
        "           Isolation_Forest_Red2,\n",
        "           Gaussian_Mixture_Red2,\n",
        "           KMeans_Red2\n",
        "          ]\n",
        "data = [go.Bar(\n",
        "   x = tags,\n",
        "   y = amounts\n",
        ")]\n",
        "fig = go.Figure(data=data, layout=title)\n",
        "fig.show()"
      ],
      "id": "kWMQOK55tV_W"
    },
    {
      "cell_type": "code",
      "source": [
        "modelos = ['Isolation Forest-Full','Gaussian Mixture-Full','KMeans-Full','Isolation Forest-Red','Gaussian Mixture-Red','KMeans-Red']\n",
        "Total_perdidas = results[modelos].iloc[9]\n",
        "Total_salvado = results[modelos].iloc[10]\n",
        "Total_perdidas"
      ],
      "metadata": {
        "colab": {
          "base_uri": "https://localhost:8080/"
        },
        "id": "GxlyDsv4W1M8",
        "outputId": "4fcc86f8-2bc7-49d9-87b3-71a1c727222a"
      },
      "id": "GxlyDsv4W1M8",
      "execution_count": null,
      "outputs": [
        {
          "output_type": "execute_result",
          "data": {
            "text/plain": [
              "Isolation Forest-Full    2485.37\n",
              "Gaussian Mixture-Full     232.83\n",
              "KMeans-Full              7883.06\n",
              "Isolation Forest-Red     7171.81\n",
              "Gaussian Mixture-Red     10857.0\n",
              "KMeans-Red               4472.11\n",
              "Name: 9, dtype: object"
            ]
          },
          "metadata": {},
          "execution_count": 45
        }
      ]
    },
    {
      "cell_type": "code",
      "source": [
        "\n",
        "df_sk = pd.DataFrame()\n",
        "#df_sk['Modelos'] = modelos\n",
        "df_sk['Total de perdidas'] = Total_perdidas\n",
        "df_sk['Total recuperado'] = Total_salvado\n",
        "df_sk"
      ],
      "metadata": {
        "colab": {
          "base_uri": "https://localhost:8080/",
          "height": 237
        },
        "id": "MEBVEcF4STxi",
        "outputId": "fe6befb0-a0fa-4939-ed9a-dbe8fa954aa1"
      },
      "id": "MEBVEcF4STxi",
      "execution_count": null,
      "outputs": [
        {
          "output_type": "execute_result",
          "data": {
            "text/plain": [
              "                      Total de perdidas Total recuperado\n",
              "Isolation Forest-Full           2485.37          8920.46\n",
              "Gaussian Mixture-Full            232.83          11173.0\n",
              "KMeans-Full                     7883.06          3522.77\n",
              "Isolation Forest-Red            7171.81          4234.02\n",
              "Gaussian Mixture-Red            10857.0           548.83\n",
              "KMeans-Red                      4472.11          6933.72"
            ],
            "text/html": [
              "\n",
              "  <div id=\"df-b16fa23a-8a27-4134-8629-e40ca07f6f08\">\n",
              "    <div class=\"colab-df-container\">\n",
              "      <div>\n",
              "<style scoped>\n",
              "    .dataframe tbody tr th:only-of-type {\n",
              "        vertical-align: middle;\n",
              "    }\n",
              "\n",
              "    .dataframe tbody tr th {\n",
              "        vertical-align: top;\n",
              "    }\n",
              "\n",
              "    .dataframe thead th {\n",
              "        text-align: right;\n",
              "    }\n",
              "</style>\n",
              "<table border=\"1\" class=\"dataframe\">\n",
              "  <thead>\n",
              "    <tr style=\"text-align: right;\">\n",
              "      <th></th>\n",
              "      <th>Total de perdidas</th>\n",
              "      <th>Total recuperado</th>\n",
              "    </tr>\n",
              "  </thead>\n",
              "  <tbody>\n",
              "    <tr>\n",
              "      <th>Isolation Forest-Full</th>\n",
              "      <td>2485.37</td>\n",
              "      <td>8920.46</td>\n",
              "    </tr>\n",
              "    <tr>\n",
              "      <th>Gaussian Mixture-Full</th>\n",
              "      <td>232.83</td>\n",
              "      <td>11173.0</td>\n",
              "    </tr>\n",
              "    <tr>\n",
              "      <th>KMeans-Full</th>\n",
              "      <td>7883.06</td>\n",
              "      <td>3522.77</td>\n",
              "    </tr>\n",
              "    <tr>\n",
              "      <th>Isolation Forest-Red</th>\n",
              "      <td>7171.81</td>\n",
              "      <td>4234.02</td>\n",
              "    </tr>\n",
              "    <tr>\n",
              "      <th>Gaussian Mixture-Red</th>\n",
              "      <td>10857.0</td>\n",
              "      <td>548.83</td>\n",
              "    </tr>\n",
              "    <tr>\n",
              "      <th>KMeans-Red</th>\n",
              "      <td>4472.11</td>\n",
              "      <td>6933.72</td>\n",
              "    </tr>\n",
              "  </tbody>\n",
              "</table>\n",
              "</div>\n",
              "      <button class=\"colab-df-convert\" onclick=\"convertToInteractive('df-b16fa23a-8a27-4134-8629-e40ca07f6f08')\"\n",
              "              title=\"Convert this dataframe to an interactive table.\"\n",
              "              style=\"display:none;\">\n",
              "        \n",
              "  <svg xmlns=\"http://www.w3.org/2000/svg\" height=\"24px\"viewBox=\"0 0 24 24\"\n",
              "       width=\"24px\">\n",
              "    <path d=\"M0 0h24v24H0V0z\" fill=\"none\"/>\n",
              "    <path d=\"M18.56 5.44l.94 2.06.94-2.06 2.06-.94-2.06-.94-.94-2.06-.94 2.06-2.06.94zm-11 1L8.5 8.5l.94-2.06 2.06-.94-2.06-.94L8.5 2.5l-.94 2.06-2.06.94zm10 10l.94 2.06.94-2.06 2.06-.94-2.06-.94-.94-2.06-.94 2.06-2.06.94z\"/><path d=\"M17.41 7.96l-1.37-1.37c-.4-.4-.92-.59-1.43-.59-.52 0-1.04.2-1.43.59L10.3 9.45l-7.72 7.72c-.78.78-.78 2.05 0 2.83L4 21.41c.39.39.9.59 1.41.59.51 0 1.02-.2 1.41-.59l7.78-7.78 2.81-2.81c.8-.78.8-2.07 0-2.86zM5.41 20L4 18.59l7.72-7.72 1.47 1.35L5.41 20z\"/>\n",
              "  </svg>\n",
              "      </button>\n",
              "      \n",
              "  <style>\n",
              "    .colab-df-container {\n",
              "      display:flex;\n",
              "      flex-wrap:wrap;\n",
              "      gap: 12px;\n",
              "    }\n",
              "\n",
              "    .colab-df-convert {\n",
              "      background-color: #E8F0FE;\n",
              "      border: none;\n",
              "      border-radius: 50%;\n",
              "      cursor: pointer;\n",
              "      display: none;\n",
              "      fill: #1967D2;\n",
              "      height: 32px;\n",
              "      padding: 0 0 0 0;\n",
              "      width: 32px;\n",
              "    }\n",
              "\n",
              "    .colab-df-convert:hover {\n",
              "      background-color: #E2EBFA;\n",
              "      box-shadow: 0px 1px 2px rgba(60, 64, 67, 0.3), 0px 1px 3px 1px rgba(60, 64, 67, 0.15);\n",
              "      fill: #174EA6;\n",
              "    }\n",
              "\n",
              "    [theme=dark] .colab-df-convert {\n",
              "      background-color: #3B4455;\n",
              "      fill: #D2E3FC;\n",
              "    }\n",
              "\n",
              "    [theme=dark] .colab-df-convert:hover {\n",
              "      background-color: #434B5C;\n",
              "      box-shadow: 0px 1px 3px 1px rgba(0, 0, 0, 0.15);\n",
              "      filter: drop-shadow(0px 1px 2px rgba(0, 0, 0, 0.3));\n",
              "      fill: #FFFFFF;\n",
              "    }\n",
              "  </style>\n",
              "\n",
              "      <script>\n",
              "        const buttonEl =\n",
              "          document.querySelector('#df-b16fa23a-8a27-4134-8629-e40ca07f6f08 button.colab-df-convert');\n",
              "        buttonEl.style.display =\n",
              "          google.colab.kernel.accessAllowed ? 'block' : 'none';\n",
              "\n",
              "        async function convertToInteractive(key) {\n",
              "          const element = document.querySelector('#df-b16fa23a-8a27-4134-8629-e40ca07f6f08');\n",
              "          const dataTable =\n",
              "            await google.colab.kernel.invokeFunction('convertToInteractive',\n",
              "                                                     [key], {});\n",
              "          if (!dataTable) return;\n",
              "\n",
              "          const docLinkHtml = 'Like what you see? Visit the ' +\n",
              "            '<a target=\"_blank\" href=https://colab.research.google.com/notebooks/data_table.ipynb>data table notebook</a>'\n",
              "            + ' to learn more about interactive tables.';\n",
              "          element.innerHTML = '';\n",
              "          dataTable['output_type'] = 'display_data';\n",
              "          await google.colab.output.renderOutput(dataTable, element);\n",
              "          const docLink = document.createElement('div');\n",
              "          docLink.innerHTML = docLinkHtml;\n",
              "          element.appendChild(docLink);\n",
              "        }\n",
              "      </script>\n",
              "    </div>\n",
              "  </div>\n",
              "  "
            ]
          },
          "metadata": {},
          "execution_count": 46
        }
      ]
    },
    {
      "cell_type": "code",
      "source": [
        "df_sk.plot(kind='bar',figsize=(20,5))"
      ],
      "metadata": {
        "id": "Gz-GnkEss01E",
        "colab": {
          "base_uri": "https://localhost:8080/",
          "height": 436
        },
        "outputId": "00ccb725-a201-4adc-d470-7b70e822263f"
      },
      "id": "Gz-GnkEss01E",
      "execution_count": null,
      "outputs": [
        {
          "output_type": "execute_result",
          "data": {
            "text/plain": [
              "<matplotlib.axes._subplots.AxesSubplot at 0x7f1a15e4a450>"
            ]
          },
          "metadata": {},
          "execution_count": 47
        },
        {
          "output_type": "display_data",
          "data": {
            "text/plain": [
              "<Figure size 1440x360 with 1 Axes>"
            ],
            "image/png": "[encoded data removed]"
          },
          "metadata": {
            "needs_background": "light"
          }
        }
      ]
    },
    {
      "cell_type": "code",
      "source": [
        "def get_performance_curve(fit_data, predict_data, labels, threshold_range, predict_fn, model=None, model_fn=None, model_args=None):\n",
        "    recall_list = []\n",
        "    audit_ratio_list = []\n",
        "\n",
        "    for i in threshold_range:\n",
        "        if model == None:\n",
        "            new_model = fit_model(fit_data, model_fn, model_args, i, labels)\n",
        "        else:\n",
        "            new_model = model\n",
        "        \n",
        "        y_pred = predict_model(predict_data, new_model, predict_fn, i)\n",
        "\n",
        "        audit_ratio = sum(pred == 1 for pred in y_pred)/len(y_pred)\n",
        "\n",
        "        recall_list.append(recall_score(labels, y_pred))\n",
        "        audit_ratio_list.append(audit_ratio)\n",
        "    \n",
        "    performance_curve = pd.DataFrame()\n",
        "    performance_curve['Audit ratio'] = audit_ratio_list\n",
        "    performance_curve['Detected frauds ratio'] = recall_list\n",
        "\n",
        "    return performance_curve.sort_values('Audit ratio')\n",
        "\n",
        "ideal_curve = pd.DataFrame()\n",
        "ideal_curve['Audit ratio'] = [0, 0.15, 1]\n",
        "ideal_curve['Detected frauds ratio'] = [0, 1, 1]\n",
        "\n",
        "def plot_all_performance_curves(\n",
        "    isolation_forest_full_performance_curve,\n",
        "    isolation_forest_reduced_performance_curve, \n",
        "    gm_full_performance_curve,\n",
        "    gm_reduced_performance_curve,\n",
        "    kmeans_full_performance_curve,\n",
        "    kmeans_reduced_performance_curve,\n",
        "    title\n",
        "    ):\n",
        "    fig = plt.figure(figsize=(12, 8))\n",
        "    ax = fig.add_subplot(1, 1, 1)\n",
        "    plt.title(title)\n",
        "    plt.xlabel('Audit ratio')\n",
        "    plt.ylabel('Detected frauds ratio')\n",
        "\n",
        "    plt.xlim(right=0.5)\n",
        "\n",
        "    x_ticks = np.arange(0, 0.55, 0.05)\n",
        "    y_ticks = np.arange(0, 1.1, 0.1)\n",
        "\n",
        "    ax.set_xticks(x_ticks)\n",
        "    ax.set_yticks(y_ticks)\n",
        "\n",
        "    # Isolation Forest\n",
        "    plt.plot(isolation_forest_full_performance_curve['Audit ratio'], isolation_forest_full_performance_curve['Detected frauds ratio'], label='Isolation Forest full')\n",
        "    plt.plot(isolation_forest_reduced_performance_curve['Audit ratio'], isolation_forest_reduced_performance_curve['Detected frauds ratio'], label='Isolation Forest df reducido')\n",
        "  \n",
        "    # Gaussian Mixture\n",
        "    plt.plot(gm_full_performance_curve['Audit ratio'], gm_full_performance_curve['Detected frauds ratio'], label='Gaussian Mixture full')\n",
        "    plt.plot(gm_reduced_performance_curve['Audit ratio'], gm_reduced_performance_curve['Detected frauds ratio'], label='Gaussian Mixture df reducido')\n",
        "\n",
        "    # Kmeans\n",
        "    plt.plot(kmeans_full_performance_curve['Audit ratio'], kmeans_full_performance_curve['Detected frauds ratio'], label='Kmeans full')\n",
        "    plt.plot(kmeans_reduced_performance_curve['Audit ratio'], kmeans_reduced_performance_curve['Detected frauds ratio'], label='Kmeans df reducido')\n",
        "\n",
        "    plt.plot(ideal_curve['Audit ratio'], ideal_curve['Detected frauds ratio'], label='Ideal curve', linestyle='--')\n",
        "    plt.axvline(0.15, linestyle='--')\n",
        "\n",
        "    plt.grid(linestyle='--')\n",
        "    plt.legend()"
      ],
      "metadata": {
        "id": "FzP_vB1OFvDP"
      },
      "id": "FzP_vB1OFvDP",
      "execution_count": null,
      "outputs": []
    },
    {
      "cell_type": "code",
      "source": [
        "# Get performance curves with minimal preprocessing\n",
        "threshold_range = np.logspace(np.log10(0.001), np.log10(0.5))\n",
        "\n",
        "if_performance_full_curve_test = get_performance_curve(X_train_full, X_test, y_test, threshold_range, predict_isolation_forest, model_fn=fit_isolation_forest)\n",
        "if_performance_reduced_curve_test = get_performance_curve(X_train_reduced, X_test, y_test, threshold_range, predict_isolation_forest, model_fn=fit_isolation_forest)\n",
        "\n",
        "gm_full_curve_test = get_performance_curve(X_train_full, X_test, y_test, threshold_range, predict_gaussian_mixture, model_fn=fit_gaussian_mixture)\n",
        "gm_reduced_curve_test = get_performance_curve(X_train_reduced, X_test, y_test, threshold_range, predict_gaussian_mixture, model_fn=fit_gaussian_mixture)\n",
        "\n",
        "kmeans_full_curve_test = get_performance_curve(X_train_full, X_test, y_test, threshold_range, predict_isolation_forest, model_fn=fit_kmeans)\n",
        "kmeans_reduced_curve_test = get_performance_curve(X_train_reduced, X_test, y_test, threshold_range, predict_isolation_forest, model_fn=fit_kmeans)\n",
        "\n",
        "# Plot performance curves\n",
        "plot_all_performance_curves(if_performance_full_curve_test, if_performance_reduced_curve_test, gm_full_curve_test, gm_reduced_curve_test, kmeans_full_curve_test, kmeans_reduced_curve_test,'Performance curve with minimal preprocessing')"
      ],
      "metadata": {
        "colab": {
          "base_uri": "https://localhost:8080/",
          "height": 513
        },
        "id": "EG_S9hxGF_r2",
        "outputId": "9c92dc4c-e243-4775-c361-61bc0d82a2ff"
      },
      "id": "EG_S9hxGF_r2",
      "execution_count": null,
      "outputs": [
        {
          "output_type": "display_data",
          "data": {
            "text/plain": [
              "<Figure size 864x576 with 1 Axes>"
            ],
            "image/png": "[encoded data removed]"
          },
          "metadata": {
            "needs_background": "light"
          }
        }
      ]
    }
  ],
  "metadata": {
    "colab": {
      "collapsed_sections": [],
      "provenance": []
    },
    "kernelspec": {
      "display_name": "Python 3 (ipykernel)",
      "language": "python",
      "name": "python3"
    },
    "language_info": {
      "codemirror_mode": {
        "name": "ipython",
        "version": 3
      },
      "file_extension": ".py",
      "mimetype": "text/x-python",
      "name": "python",
      "nbconvert_exporter": "python",
      "pygments_lexer": "ipython3",
      "version": "3.7.4"
    }
  },
  "nbformat": 4,
  "nbformat_minor": 5
}