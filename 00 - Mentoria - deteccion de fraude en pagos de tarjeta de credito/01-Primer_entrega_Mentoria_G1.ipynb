{
  "cells": [
    {
      "cell_type": "markdown",
      "id": "947bf7be",
      "metadata": {
        "id": "947bf7be"
      },
      "source": [
        "# Mentoria de  Detección de Fraude de Tarjeta de Crédito  \n",
        "## Trabajo: Análisis y visualización de datos."
      ]
    },
    {
      "cell_type": "markdown",
      "id": "c49ab5ff",
      "metadata": {
        "id": "c49ab5ff"
      },
      "source": [
        "En el siguiente práctico vamos a empezar a trabajar nuestro dataset haciendo uso de algunos conceptos fundamentales y otras 'herramientas' que han ido viendo a lo largo de la primer materia.  \n",
        "La idea aquí es empezar a pensar en este problema como una situación que se les puede plantear en el mundo real:  \n",
        ">Supongan que como científicos de datos son contradados por una consultora externa a una plataforma de compras online para que analicen los fraudes realizados con tarjeta de crédito en las transacciones dentro de la plataforma.  \n",
        "Esta consultora tiene acceso a los datos de forma parcial, dado que por su caracter externo y por acuerdos de confidencialidad no pueden distribuir el detalle de las variables originales con personas ajenas a la empresa. La consultora los contrata con el objetivo de que puedan realizar su mejor trabajo con esta información parcial y dispersa.  \n",
        "\n",
        "Así planteado, nuestro problema se subdivide entonces en una serie de problemas menores que van a marcar los objetivos de cada etapa del ciclo de vida de este proyecto. La etapa que nos compete ahora es la de la **exploración y análisis de los datos**."
      ]
    },
    {
      "cell_type": "markdown",
      "id": "dd8f5559",
      "metadata": {
        "id": "dd8f5559"
      },
      "source": [
        "### Introducción: algunos conceptos teóricos.  \n",
        "Antes de empezar explorar el dataset, siempre es interesante que como científicos de datos nos adentremos en las particularidades conceptuales de los problemas que vamos a estar abordando. Dicho de otra forma, debemos conocer de qué va cada término relevante del problema, al menos, y entender las conexiones entre cada término. Es deseable que como científicos e investigadores incorporemos como buen hábito o práctica meetodológica el explicitar en lenguaje común todo cuanto sabemos de un problema específico, para ir contruyendo de forma robusta y progresiva nuestros problemas a partir de este 'marco teórico'.  \n"
      ]
    },
    {
      "cell_type": "markdown",
      "id": "5457c8d4",
      "metadata": {
        "id": "5457c8d4"
      },
      "source": [
        "**Fraude de tarjeta de crédito**:\n",
        "> Vamos a llamar fraude de tarjerta a aquellas transacciones o compras con tarjetas de crédito que han sido determinadas como fraudulentas por la paltaforma de compra (en este caso, Vesta). Las caraccterísticas que nos van a interesar aquí especialemnte son el monto de dinero y al frecuencia en el tiempo en el que pueden ocurrir. Asumimos que los pagos fraudulentos como tales son una clase homogénea (conceptualment hablando, son pagos realizados por un defraudador con una tarjeta robada) en los cuales quien recibe el pago acusa de no recibir su parte el mismo, o quien emite acusa de no haber realizado dicho pago. El fraude tiene entonces al menos tres actores:  un defraudador, un vendedor y un titular legitimo de la tarjeta."
      ]
    },
    {
      "cell_type": "markdown",
      "id": "c1e699c8",
      "metadata": {
        "id": "c1e699c8"
      },
      "source": [
        "**Monto total de transacciones**:  \n",
        "> Es el total de dinero procesado en el período de tiempo analizado. Este es un concepto que interesa especialmente desde el punto de vista de negocios, dado que no toma en cuenta la cantidad de pagos sino más bien la masa total de dinero que representan."
      ]
    },
    {
      "cell_type": "markdown",
      "id": "8865263f",
      "metadata": {
        "id": "8865263f"
      },
      "source": [
        "**Monto total de fraude**:  \n",
        "> Es el total de dinero procesado en el período de tiempo analizado que se perdió en fraude. Nuevamente es un concepto que interesa especialmente desde el punto de vista de negocios, dado que nos permite estimar el impacto que ha tenido en moneda."
      ]
    },
    {
      "cell_type": "markdown",
      "id": "126d22fb",
      "metadata": {
        "id": "126d22fb"
      },
      "source": [
        "**Porcentaje de fraude**:  \n",
        "> Es el porcentaje que representa el total de dinero defraudado del total de dinero transaccionado. Esta es una de las métricas más esenciales de negocio: nos perrmite entender rápida e intuitivamente qué tan severo ha sido el impacto del fraude para el negocio. Piensen lo siguiente: como plataforma de ventas, mi ganancia está principalmente en un porcentaje quee me llevo de cada transaccción (el fee o tarifa). Si mi fee es del 3% y el total de fraude representa el 5%, desde el punto de vista de negocios el modelo no está siendo rentable."
      ]
    },
    {
      "cell_type": "markdown",
      "id": "dd938e14",
      "metadata": {
        "id": "dd938e14"
      },
      "source": [
        "Vamos entonces a hacer las siguientes asunciones para darle sentido a la tarea:   \n",
        "  - La plataforma se hace cargo al 100% de las transacciones fraudulentas, así que un pago fraudulento es dinero que pierde la empresa;  \n",
        "  - La mayor parte del fraude que vemos es de robo de tarjeta, quiere decir que ni el titular de la tarjeta ni el vendedor participan del fraude (aunque este podría ser eel caso)"
      ]
    },
    {
      "cell_type": "markdown",
      "id": "55cac3e7",
      "metadata": {
        "id": "55cac3e7"
      },
      "source": [
        "### 1. Carga de datos y exploración de los tipos de datos."
      ]
    },
    {
      "cell_type": "markdown",
      "id": "68f17fd1",
      "metadata": {
        "id": "68f17fd1"
      },
      "source": [
        "Como vieron en el primer práctico, la ciencia de datos utiliza conocimientos y metodologías de distintas disciplinas. es hora de poner a prueba estos conocimientos. En el primer punto necesitamos levantar la información y disponibilizarla de manera tal de que podamos manipularla con las herramientas que tenemos. Como vieron utilizamos principalmente herramientas desarrolladas sobre un lenguaje de programación expecífico, **python**.  \n",
        "La idea es que sentemos algunos conocimientos básicos de estas herramientas, que vienen en paquetes de código llamados librerías.  \n",
        "Python es un lenguaje orientado a **objetos**, lo que significa que toda nuestra información quedará persistida dentro del noteboook \"dentro\" de una variable a la que trataremos como un objeto. La idea es explorar algunas proriedades de ese objeto, a través de lo que llamamos   **métodos y atributos**.\n",
        "   1. Cargen las librerías que vamos a usar para este práctico y creen una variable para asignarle el dataset usando la librería pandas. (Recuerden que el dataset está dividido en dos partes, exploren qué métodos les da pandas para unir los dos dataset)\n",
        "   2. Chequen que la información está completa y que el dataset contiene los registros y columnas que debería contener (utilicen atributos del panda dataframe para esto)\n",
        "   3. Analicen los tipos de datos que posee cada columna (nuevamente utilicen herramientas de la librería pandas)\n",
        "   4. El dataset ¿posee valores del tipo null?"
      ]
    },
    {
      "cell_type": "markdown",
      "id": "5db78975-bbc0-4109-9f4b-e449ad91fa89",
      "metadata": {
        "id": "5db78975-bbc0-4109-9f4b-e449ad91fa89"
      },
      "source": [
        "**Diplomatura en Ciencia de Datos, Mentoria de Fraude de Tarjeta**\n",
        "\n",
        "**Edición 2022**\n",
        "\n",
        "**Entregable 1**\n",
        "\n",
        "**Grupo 1:**\n",
        "\n",
        "**Melani Tula**\n",
        "\n",
        "**David Baulina**\n",
        "\n",
        "**Hugo Folonier**\n",
        "\n",
        "**Javier Carabajal**"
      ]
    },
    {
      "cell_type": "code",
      "execution_count": null,
      "id": "c55ae42b",
      "metadata": {
        "id": "c55ae42b"
      },
      "outputs": [],
      "source": [
        "import pandas as pd\n",
        "import matplotlib\n",
        "import matplotlib.pyplot as plt\n",
        "import seaborn as sns\n",
        "import numpy as np\n",
        "import plotly "
      ]
    },
    {
      "cell_type": "markdown",
      "id": "05daadc1-535e-47fe-b349-2da8a211533e",
      "metadata": {
        "id": "05daadc1-535e-47fe-b349-2da8a211533e"
      },
      "source": [
        "* Cargamos los dos DataSet "
      ]
    },
    {
      "cell_type": "code",
      "execution_count": null,
      "id": "b35e57a0",
      "metadata": {
        "id": "b35e57a0"
      },
      "outputs": [],
      "source": [
        "#1.1\n",
        "df_1 = pd.read_csv('https://raw.githubusercontent.com/p-eleuterio/card-fraud-detection-2022/main/dataset/fraud_data_pt1.csv')\n",
        "df_2 = pd.read_csv('https://raw.githubusercontent.com/p-eleuterio/card-fraud-detection-2022/main/dataset/fraud_data_pt12.csv')\n"
      ]
    },
    {
      "cell_type": "code",
      "execution_count": null,
      "id": "1b7c8f6d-115e-4976-9cb3-c48b3fb8affb",
      "metadata": {
        "colab": {
          "base_uri": "https://localhost:8080/",
          "height": 574
        },
        "id": "1b7c8f6d-115e-4976-9cb3-c48b3fb8affb",
        "outputId": "710c9ee1-cb99-4296-d554-0591401e3429"
      },
      "outputs": [
        {
          "output_type": "execute_result",
          "data": {
            "text/plain": [
              "        Unnamed: 0     Time        V1        V2        V3        V4        V5  \\\n",
              "0                0      0.0 -1.359807 -0.072781  2.536347  1.378155 -0.338321   \n",
              "1                1      0.0  1.191857  0.266151  0.166480  0.448154  0.060018   \n",
              "2                2      1.0 -1.358354 -1.340163  1.773209  0.379780 -0.503198   \n",
              "3                3      1.0 -0.966272 -0.185226  1.792993 -0.863291 -0.010309   \n",
              "4                4      2.0 -1.158233  0.877737  1.548718  0.403034 -0.407193   \n",
              "...            ...      ...       ...       ...       ...       ...       ...   \n",
              "142398      142398  84689.0 -0.958424  0.158677  0.355967 -1.285726  2.624957   \n",
              "142399      142399  84690.0  0.984968  0.128543  0.184937  1.111150 -0.219888   \n",
              "142400      142400  84690.0 -2.220505  1.004012  1.817520  0.468496 -1.543388   \n",
              "142401      142401  84691.0 -2.280315  2.241435 -0.082290 -0.417547 -0.700328   \n",
              "142402      142402  84691.0 -0.879062  0.476433  2.418721 -1.032235 -0.008689   \n",
              "\n",
              "              V6        V7        V8  ...       V21       V22       V23  \\\n",
              "0       0.462388  0.239599  0.098698  ... -0.018307  0.277838 -0.110474   \n",
              "1      -0.082361 -0.078803  0.085102  ... -0.225775 -0.638672  0.101288   \n",
              "2       1.800499  0.791461  0.247676  ...  0.247998  0.771679  0.909412   \n",
              "3       1.247203  0.237609  0.377436  ... -0.108300  0.005274 -0.190321   \n",
              "4       0.095921  0.592941 -0.270533  ... -0.009431  0.798278 -0.137458   \n",
              "...          ...       ...       ...  ...       ...       ...       ...   \n",
              "142398  3.568378  0.253679  0.967816  ... -0.177771 -0.769466 -0.134086   \n",
              "142399 -0.848688  0.516601 -0.198159  ... -0.253419 -1.015941  0.056629   \n",
              "142400  0.783308 -1.443050  1.759537  ...  0.326262  0.815443 -0.316988   \n",
              "142401 -0.393024 -0.347291  1.247646  ... -0.276048 -0.745789  0.016664   \n",
              "142402 -1.090413  0.919090 -0.466605  ... -0.067034 -0.057123  0.021552   \n",
              "\n",
              "             V24       V25       V26       V27       V28  Amount  Class  \n",
              "0       0.066928  0.128539 -0.189115  0.133558 -0.021053  149.62      0  \n",
              "1      -0.339846  0.167170  0.125895 -0.008983  0.014724    2.69      0  \n",
              "2      -0.689281 -0.327642 -0.139097 -0.055353 -0.059752  378.66      0  \n",
              "3      -1.175575  0.647376 -0.221929  0.062723  0.061458  123.50      0  \n",
              "4       0.141267 -0.206010  0.502292  0.219422  0.215153   69.99      0  \n",
              "...          ...       ...       ...       ...       ...     ...    ...  \n",
              "142398  1.014527  0.637807  0.220354 -0.031313  0.057888   67.61      0  \n",
              "142399  0.487439  0.322926 -0.784093 -0.017026  0.035475  111.91      0  \n",
              "142400  0.325663  0.346348  0.596696 -0.532298 -0.181901    8.99      0  \n",
              "142401 -0.401850  0.096932  0.093746  0.150113 -0.074114    9.99      0  \n",
              "142402  0.671743 -0.419799 -0.230648 -0.534309 -0.311789    5.99      0  \n",
              "\n",
              "[142403 rows x 32 columns]"
            ],
            "text/html": [
              "\n",
              "  <div id=\"df-c2d362a0-a639-4150-bde3-55b40ba29e8a\">\n",
              "    <div class=\"colab-df-container\">\n",
              "      <div>\n",
              "<style scoped>\n",
              "    .dataframe tbody tr th:only-of-type {\n",
              "        vertical-align: middle;\n",
              "    }\n",
              "\n",
              "    .dataframe tbody tr th {\n",
              "        vertical-align: top;\n",
              "    }\n",
              "\n",
              "    .dataframe thead th {\n",
              "        text-align: right;\n",
              "    }\n",
              "</style>\n",
              "<table border=\"1\" class=\"dataframe\">\n",
              "  <thead>\n",
              "    <tr style=\"text-align: right;\">\n",
              "      <th></th>\n",
              "      <th>Unnamed: 0</th>\n",
              "      <th>Time</th>\n",
              "      <th>V1</th>\n",
              "      <th>V2</th>\n",
              "      <th>V3</th>\n",
              "      <th>V4</th>\n",
              "      <th>V5</th>\n",
              "      <th>V6</th>\n",
              "      <th>V7</th>\n",
              "      <th>V8</th>\n",
              "      <th>...</th>\n",
              "      <th>V21</th>\n",
              "      <th>V22</th>\n",
              "      <th>V23</th>\n",
              "      <th>V24</th>\n",
              "      <th>V25</th>\n",
              "      <th>V26</th>\n",
              "      <th>V27</th>\n",
              "      <th>V28</th>\n",
              "      <th>Amount</th>\n",
              "      <th>Class</th>\n",
              "    </tr>\n",
              "  </thead>\n",
              "  <tbody>\n",
              "    <tr>\n",
              "      <th>0</th>\n",
              "      <td>0</td>\n",
              "      <td>0.0</td>\n",
              "      <td>-1.359807</td>\n",
              "      <td>-0.072781</td>\n",
              "      <td>2.536347</td>\n",
              "      <td>1.378155</td>\n",
              "      <td>-0.338321</td>\n",
              "      <td>0.462388</td>\n",
              "      <td>0.239599</td>\n",
              "      <td>0.098698</td>\n",
              "      <td>...</td>\n",
              "      <td>-0.018307</td>\n",
              "      <td>0.277838</td>\n",
              "      <td>-0.110474</td>\n",
              "      <td>0.066928</td>\n",
              "      <td>0.128539</td>\n",
              "      <td>-0.189115</td>\n",
              "      <td>0.133558</td>\n",
              "      <td>-0.021053</td>\n",
              "      <td>149.62</td>\n",
              "      <td>0</td>\n",
              "    </tr>\n",
              "    <tr>\n",
              "      <th>1</th>\n",
              "      <td>1</td>\n",
              "      <td>0.0</td>\n",
              "      <td>1.191857</td>\n",
              "      <td>0.266151</td>\n",
              "      <td>0.166480</td>\n",
              "      <td>0.448154</td>\n",
              "      <td>0.060018</td>\n",
              "      <td>-0.082361</td>\n",
              "      <td>-0.078803</td>\n",
              "      <td>0.085102</td>\n",
              "      <td>...</td>\n",
              "      <td>-0.225775</td>\n",
              "      <td>-0.638672</td>\n",
              "      <td>0.101288</td>\n",
              "      <td>-0.339846</td>\n",
              "      <td>0.167170</td>\n",
              "      <td>0.125895</td>\n",
              "      <td>-0.008983</td>\n",
              "      <td>0.014724</td>\n",
              "      <td>2.69</td>\n",
              "      <td>0</td>\n",
              "    </tr>\n",
              "    <tr>\n",
              "      <th>2</th>\n",
              "      <td>2</td>\n",
              "      <td>1.0</td>\n",
              "      <td>-1.358354</td>\n",
              "      <td>-1.340163</td>\n",
              "      <td>1.773209</td>\n",
              "      <td>0.379780</td>\n",
              "      <td>-0.503198</td>\n",
              "      <td>1.800499</td>\n",
              "      <td>0.791461</td>\n",
              "      <td>0.247676</td>\n",
              "      <td>...</td>\n",
              "      <td>0.247998</td>\n",
              "      <td>0.771679</td>\n",
              "      <td>0.909412</td>\n",
              "      <td>-0.689281</td>\n",
              "      <td>-0.327642</td>\n",
              "      <td>-0.139097</td>\n",
              "      <td>-0.055353</td>\n",
              "      <td>-0.059752</td>\n",
              "      <td>378.66</td>\n",
              "      <td>0</td>\n",
              "    </tr>\n",
              "    <tr>\n",
              "      <th>3</th>\n",
              "      <td>3</td>\n",
              "      <td>1.0</td>\n",
              "      <td>-0.966272</td>\n",
              "      <td>-0.185226</td>\n",
              "      <td>1.792993</td>\n",
              "      <td>-0.863291</td>\n",
              "      <td>-0.010309</td>\n",
              "      <td>1.247203</td>\n",
              "      <td>0.237609</td>\n",
              "      <td>0.377436</td>\n",
              "      <td>...</td>\n",
              "      <td>-0.108300</td>\n",
              "      <td>0.005274</td>\n",
              "      <td>-0.190321</td>\n",
              "      <td>-1.175575</td>\n",
              "      <td>0.647376</td>\n",
              "      <td>-0.221929</td>\n",
              "      <td>0.062723</td>\n",
              "      <td>0.061458</td>\n",
              "      <td>123.50</td>\n",
              "      <td>0</td>\n",
              "    </tr>\n",
              "    <tr>\n",
              "      <th>4</th>\n",
              "      <td>4</td>\n",
              "      <td>2.0</td>\n",
              "      <td>-1.158233</td>\n",
              "      <td>0.877737</td>\n",
              "      <td>1.548718</td>\n",
              "      <td>0.403034</td>\n",
              "      <td>-0.407193</td>\n",
              "      <td>0.095921</td>\n",
              "      <td>0.592941</td>\n",
              "      <td>-0.270533</td>\n",
              "      <td>...</td>\n",
              "      <td>-0.009431</td>\n",
              "      <td>0.798278</td>\n",
              "      <td>-0.137458</td>\n",
              "      <td>0.141267</td>\n",
              "      <td>-0.206010</td>\n",
              "      <td>0.502292</td>\n",
              "      <td>0.219422</td>\n",
              "      <td>0.215153</td>\n",
              "      <td>69.99</td>\n",
              "      <td>0</td>\n",
              "    </tr>\n",
              "    <tr>\n",
              "      <th>...</th>\n",
              "      <td>...</td>\n",
              "      <td>...</td>\n",
              "      <td>...</td>\n",
              "      <td>...</td>\n",
              "      <td>...</td>\n",
              "      <td>...</td>\n",
              "      <td>...</td>\n",
              "      <td>...</td>\n",
              "      <td>...</td>\n",
              "      <td>...</td>\n",
              "      <td>...</td>\n",
              "      <td>...</td>\n",
              "      <td>...</td>\n",
              "      <td>...</td>\n",
              "      <td>...</td>\n",
              "      <td>...</td>\n",
              "      <td>...</td>\n",
              "      <td>...</td>\n",
              "      <td>...</td>\n",
              "      <td>...</td>\n",
              "      <td>...</td>\n",
              "    </tr>\n",
              "    <tr>\n",
              "      <th>142398</th>\n",
              "      <td>142398</td>\n",
              "      <td>84689.0</td>\n",
              "      <td>-0.958424</td>\n",
              "      <td>0.158677</td>\n",
              "      <td>0.355967</td>\n",
              "      <td>-1.285726</td>\n",
              "      <td>2.624957</td>\n",
              "      <td>3.568378</td>\n",
              "      <td>0.253679</td>\n",
              "      <td>0.967816</td>\n",
              "      <td>...</td>\n",
              "      <td>-0.177771</td>\n",
              "      <td>-0.769466</td>\n",
              "      <td>-0.134086</td>\n",
              "      <td>1.014527</td>\n",
              "      <td>0.637807</td>\n",
              "      <td>0.220354</td>\n",
              "      <td>-0.031313</td>\n",
              "      <td>0.057888</td>\n",
              "      <td>67.61</td>\n",
              "      <td>0</td>\n",
              "    </tr>\n",
              "    <tr>\n",
              "      <th>142399</th>\n",
              "      <td>142399</td>\n",
              "      <td>84690.0</td>\n",
              "      <td>0.984968</td>\n",
              "      <td>0.128543</td>\n",
              "      <td>0.184937</td>\n",
              "      <td>1.111150</td>\n",
              "      <td>-0.219888</td>\n",
              "      <td>-0.848688</td>\n",
              "      <td>0.516601</td>\n",
              "      <td>-0.198159</td>\n",
              "      <td>...</td>\n",
              "      <td>-0.253419</td>\n",
              "      <td>-1.015941</td>\n",
              "      <td>0.056629</td>\n",
              "      <td>0.487439</td>\n",
              "      <td>0.322926</td>\n",
              "      <td>-0.784093</td>\n",
              "      <td>-0.017026</td>\n",
              "      <td>0.035475</td>\n",
              "      <td>111.91</td>\n",
              "      <td>0</td>\n",
              "    </tr>\n",
              "    <tr>\n",
              "      <th>142400</th>\n",
              "      <td>142400</td>\n",
              "      <td>84690.0</td>\n",
              "      <td>-2.220505</td>\n",
              "      <td>1.004012</td>\n",
              "      <td>1.817520</td>\n",
              "      <td>0.468496</td>\n",
              "      <td>-1.543388</td>\n",
              "      <td>0.783308</td>\n",
              "      <td>-1.443050</td>\n",
              "      <td>1.759537</td>\n",
              "      <td>...</td>\n",
              "      <td>0.326262</td>\n",
              "      <td>0.815443</td>\n",
              "      <td>-0.316988</td>\n",
              "      <td>0.325663</td>\n",
              "      <td>0.346348</td>\n",
              "      <td>0.596696</td>\n",
              "      <td>-0.532298</td>\n",
              "      <td>-0.181901</td>\n",
              "      <td>8.99</td>\n",
              "      <td>0</td>\n",
              "    </tr>\n",
              "    <tr>\n",
              "      <th>142401</th>\n",
              "      <td>142401</td>\n",
              "      <td>84691.0</td>\n",
              "      <td>-2.280315</td>\n",
              "      <td>2.241435</td>\n",
              "      <td>-0.082290</td>\n",
              "      <td>-0.417547</td>\n",
              "      <td>-0.700328</td>\n",
              "      <td>-0.393024</td>\n",
              "      <td>-0.347291</td>\n",
              "      <td>1.247646</td>\n",
              "      <td>...</td>\n",
              "      <td>-0.276048</td>\n",
              "      <td>-0.745789</td>\n",
              "      <td>0.016664</td>\n",
              "      <td>-0.401850</td>\n",
              "      <td>0.096932</td>\n",
              "      <td>0.093746</td>\n",
              "      <td>0.150113</td>\n",
              "      <td>-0.074114</td>\n",
              "      <td>9.99</td>\n",
              "      <td>0</td>\n",
              "    </tr>\n",
              "    <tr>\n",
              "      <th>142402</th>\n",
              "      <td>142402</td>\n",
              "      <td>84691.0</td>\n",
              "      <td>-0.879062</td>\n",
              "      <td>0.476433</td>\n",
              "      <td>2.418721</td>\n",
              "      <td>-1.032235</td>\n",
              "      <td>-0.008689</td>\n",
              "      <td>-1.090413</td>\n",
              "      <td>0.919090</td>\n",
              "      <td>-0.466605</td>\n",
              "      <td>...</td>\n",
              "      <td>-0.067034</td>\n",
              "      <td>-0.057123</td>\n",
              "      <td>0.021552</td>\n",
              "      <td>0.671743</td>\n",
              "      <td>-0.419799</td>\n",
              "      <td>-0.230648</td>\n",
              "      <td>-0.534309</td>\n",
              "      <td>-0.311789</td>\n",
              "      <td>5.99</td>\n",
              "      <td>0</td>\n",
              "    </tr>\n",
              "  </tbody>\n",
              "</table>\n",
              "<p>142403 rows × 32 columns</p>\n",
              "</div>\n",
              "      <button class=\"colab-df-convert\" onclick=\"convertToInteractive('df-c2d362a0-a639-4150-bde3-55b40ba29e8a')\"\n",
              "              title=\"Convert this dataframe to an interactive table.\"\n",
              "              style=\"display:none;\">\n",
              "        \n",
              "  <svg xmlns=\"http://www.w3.org/2000/svg\" height=\"24px\"viewBox=\"0 0 24 24\"\n",
              "       width=\"24px\">\n",
              "    <path d=\"M0 0h24v24H0V0z\" fill=\"none\"/>\n",
              "    <path d=\"M18.56 5.44l.94 2.06.94-2.06 2.06-.94-2.06-.94-.94-2.06-.94 2.06-2.06.94zm-11 1L8.5 8.5l.94-2.06 2.06-.94-2.06-.94L8.5 2.5l-.94 2.06-2.06.94zm10 10l.94 2.06.94-2.06 2.06-.94-2.06-.94-.94-2.06-.94 2.06-2.06.94z\"/><path d=\"M17.41 7.96l-1.37-1.37c-.4-.4-.92-.59-1.43-.59-.52 0-1.04.2-1.43.59L10.3 9.45l-7.72 7.72c-.78.78-.78 2.05 0 2.83L4 21.41c.39.39.9.59 1.41.59.51 0 1.02-.2 1.41-.59l7.78-7.78 2.81-2.81c.8-.78.8-2.07 0-2.86zM5.41 20L4 18.59l7.72-7.72 1.47 1.35L5.41 20z\"/>\n",
              "  </svg>\n",
              "      </button>\n",
              "      \n",
              "  <style>\n",
              "    .colab-df-container {\n",
              "      display:flex;\n",
              "      flex-wrap:wrap;\n",
              "      gap: 12px;\n",
              "    }\n",
              "\n",
              "    .colab-df-convert {\n",
              "      background-color: #E8F0FE;\n",
              "      border: none;\n",
              "      border-radius: 50%;\n",
              "      cursor: pointer;\n",
              "      display: none;\n",
              "      fill: #1967D2;\n",
              "      height: 32px;\n",
              "      padding: 0 0 0 0;\n",
              "      width: 32px;\n",
              "    }\n",
              "\n",
              "    .colab-df-convert:hover {\n",
              "      background-color: #E2EBFA;\n",
              "      box-shadow: 0px 1px 2px rgba(60, 64, 67, 0.3), 0px 1px 3px 1px rgba(60, 64, 67, 0.15);\n",
              "      fill: #174EA6;\n",
              "    }\n",
              "\n",
              "    [theme=dark] .colab-df-convert {\n",
              "      background-color: #3B4455;\n",
              "      fill: #D2E3FC;\n",
              "    }\n",
              "\n",
              "    [theme=dark] .colab-df-convert:hover {\n",
              "      background-color: #434B5C;\n",
              "      box-shadow: 0px 1px 3px 1px rgba(0, 0, 0, 0.15);\n",
              "      filter: drop-shadow(0px 1px 2px rgba(0, 0, 0, 0.3));\n",
              "      fill: #FFFFFF;\n",
              "    }\n",
              "  </style>\n",
              "\n",
              "      <script>\n",
              "        const buttonEl =\n",
              "          document.querySelector('#df-c2d362a0-a639-4150-bde3-55b40ba29e8a button.colab-df-convert');\n",
              "        buttonEl.style.display =\n",
              "          google.colab.kernel.accessAllowed ? 'block' : 'none';\n",
              "\n",
              "        async function convertToInteractive(key) {\n",
              "          const element = document.querySelector('#df-c2d362a0-a639-4150-bde3-55b40ba29e8a');\n",
              "          const dataTable =\n",
              "            await google.colab.kernel.invokeFunction('convertToInteractive',\n",
              "                                                     [key], {});\n",
              "          if (!dataTable) return;\n",
              "\n",
              "          const docLinkHtml = 'Like what you see? Visit the ' +\n",
              "            '<a target=\"_blank\" href=https://colab.research.google.com/notebooks/data_table.ipynb>data table notebook</a>'\n",
              "            + ' to learn more about interactive tables.';\n",
              "          element.innerHTML = '';\n",
              "          dataTable['output_type'] = 'display_data';\n",
              "          await google.colab.output.renderOutput(dataTable, element);\n",
              "          const docLink = document.createElement('div');\n",
              "          docLink.innerHTML = docLinkHtml;\n",
              "          element.appendChild(docLink);\n",
              "        }\n",
              "      </script>\n",
              "    </div>\n",
              "  </div>\n",
              "  "
            ]
          },
          "metadata": {},
          "execution_count": 3
        }
      ],
      "source": [
        "df_1"
      ]
    },
    {
      "cell_type": "markdown",
      "id": "Yjrx36HLPcKl",
      "metadata": {
        "id": "Yjrx36HLPcKl"
      },
      "source": [
        "De las variables que figuran en el dataframe solo nos son conocidas time, medido en milisegundos y amount. Class es ambigua. revisemos que valores puede tomar:"
      ]
    },
    {
      "cell_type": "code",
      "execution_count": null,
      "id": "NZdDTgTmPzWh",
      "metadata": {
        "colab": {
          "base_uri": "https://localhost:8080/"
        },
        "id": "NZdDTgTmPzWh",
        "outputId": "1bdfe067-5638-4d3e-8fa8-825c7b564db0"
      },
      "outputs": [
        {
          "output_type": "execute_result",
          "data": {
            "text/plain": [
              "0    142134\n",
              "1       269\n",
              "Name: Class, dtype: int64"
            ]
          },
          "metadata": {},
          "execution_count": 4
        }
      ],
      "source": [
        "df_1['Class'].value_counts()"
      ]
    },
    {
      "cell_type": "markdown",
      "id": "lg-Cy_CjURYj",
      "metadata": {
        "id": "lg-Cy_CjURYj"
      },
      "source": [
        "Pareciera corresponderse con la variable pagos fraudulentos donde se supone que el valor 1 corresponde a los pagos fraudulentos"
      ]
    },
    {
      "cell_type": "code",
      "execution_count": null,
      "id": "d41dce20-69ef-43b5-bc30-705222a051af",
      "metadata": {
        "colab": {
          "base_uri": "https://localhost:8080/",
          "height": 443
        },
        "id": "d41dce20-69ef-43b5-bc30-705222a051af",
        "outputId": "417b7b41-a054-41dc-a50f-2d091cb8cb49"
      },
      "outputs": [
        {
          "output_type": "execute_result",
          "data": {
            "text/plain": [
              "          Unnamed: 0           Time             V1             V2  \\\n",
              "count  142403.000000  142403.000000  142403.000000  142403.000000   \n",
              "mean    71201.000000   52402.922424      -0.249369       0.020786   \n",
              "std     41108.349529   21104.546393       1.814061       1.610309   \n",
              "min         0.000000       0.000000     -56.407510     -72.715728   \n",
              "25%     35600.500000   38190.500000      -1.021159      -0.560007   \n",
              "50%     71201.000000   54201.000000      -0.271756       0.106016   \n",
              "75%    106801.500000   70131.000000       1.158507       0.777726   \n",
              "max    142402.000000   84691.000000       1.960497      18.902453   \n",
              "\n",
              "                  V3             V4             V5             V6  \\\n",
              "count  142403.000000  142403.000000  142403.000000  142403.000000   \n",
              "mean        0.673759       0.137167      -0.282933       0.078243   \n",
              "std         1.266018       1.322356       1.305022       1.282544   \n",
              "min       -33.680984      -5.519697     -42.147898     -26.160506   \n",
              "25%         0.171462      -0.718089      -0.903787      -0.662023   \n",
              "50%         0.750692       0.164312      -0.315374      -0.177339   \n",
              "75%         1.363765       0.991350       0.236510       0.463246   \n",
              "max         9.382558      16.715537      34.801666      22.529298   \n",
              "\n",
              "                  V7             V8  ...            V21            V22  \\\n",
              "count  142403.000000  142403.000000  ...  142403.000000  142403.000000   \n",
              "mean       -0.118221       0.064969  ...      -0.039749      -0.117939   \n",
              "std         1.165530       1.233597  ...       0.721186       0.634611   \n",
              "min       -31.764946     -73.216718  ...     -34.830382     -10.933144   \n",
              "25%        -0.604821      -0.130534  ...      -0.225799      -0.547094   \n",
              "50%        -0.064749       0.081070  ...      -0.059512      -0.094206   \n",
              "75%         0.409101       0.375334  ...       0.113082       0.300538   \n",
              "max        36.677268      20.007208  ...      27.202839      10.503090   \n",
              "\n",
              "                 V23            V24            V25            V26  \\\n",
              "count  142403.000000  142403.000000  142403.000000  142403.000000   \n",
              "mean       -0.033259       0.011263       0.130894       0.021567   \n",
              "std         0.589846       0.595726       0.437316       0.492375   \n",
              "min       -44.807735      -2.836627     -10.295397      -2.534330   \n",
              "25%        -0.171829      -0.325901      -0.135876      -0.327178   \n",
              "50%        -0.045135       0.068268       0.167488      -0.066460   \n",
              "75%         0.083055       0.408259       0.420209       0.284527   \n",
              "max        19.002942       4.022866       5.541598       3.517346   \n",
              "\n",
              "                 V27            V28         Amount          Class  \n",
              "count  142403.000000  142403.000000  142403.000000  142403.000000  \n",
              "mean        0.000700       0.002263      90.687055       0.001889  \n",
              "std         0.388678       0.306209     246.459558       0.043422  \n",
              "min       -22.565679     -11.710896       0.000000       0.000000  \n",
              "25%        -0.060092      -0.004181       5.990000       0.000000  \n",
              "50%         0.012140       0.023615      23.560000       0.000000  \n",
              "75%         0.087769       0.077020      80.100000       0.000000  \n",
              "max        12.152401      33.847808   19656.530000       1.000000  \n",
              "\n",
              "[8 rows x 32 columns]"
            ],
            "text/html": [
              "\n",
              "  <div id=\"df-0d3a9368-042a-48f0-8154-295b3ef3c537\">\n",
              "    <div class=\"colab-df-container\">\n",
              "      <div>\n",
              "<style scoped>\n",
              "    .dataframe tbody tr th:only-of-type {\n",
              "        vertical-align: middle;\n",
              "    }\n",
              "\n",
              "    .dataframe tbody tr th {\n",
              "        vertical-align: top;\n",
              "    }\n",
              "\n",
              "    .dataframe thead th {\n",
              "        text-align: right;\n",
              "    }\n",
              "</style>\n",
              "<table border=\"1\" class=\"dataframe\">\n",
              "  <thead>\n",
              "    <tr style=\"text-align: right;\">\n",
              "      <th></th>\n",
              "      <th>Unnamed: 0</th>\n",
              "      <th>Time</th>\n",
              "      <th>V1</th>\n",
              "      <th>V2</th>\n",
              "      <th>V3</th>\n",
              "      <th>V4</th>\n",
              "      <th>V5</th>\n",
              "      <th>V6</th>\n",
              "      <th>V7</th>\n",
              "      <th>V8</th>\n",
              "      <th>...</th>\n",
              "      <th>V21</th>\n",
              "      <th>V22</th>\n",
              "      <th>V23</th>\n",
              "      <th>V24</th>\n",
              "      <th>V25</th>\n",
              "      <th>V26</th>\n",
              "      <th>V27</th>\n",
              "      <th>V28</th>\n",
              "      <th>Amount</th>\n",
              "      <th>Class</th>\n",
              "    </tr>\n",
              "  </thead>\n",
              "  <tbody>\n",
              "    <tr>\n",
              "      <th>count</th>\n",
              "      <td>142403.000000</td>\n",
              "      <td>142403.000000</td>\n",
              "      <td>142403.000000</td>\n",
              "      <td>142403.000000</td>\n",
              "      <td>142403.000000</td>\n",
              "      <td>142403.000000</td>\n",
              "      <td>142403.000000</td>\n",
              "      <td>142403.000000</td>\n",
              "      <td>142403.000000</td>\n",
              "      <td>142403.000000</td>\n",
              "      <td>...</td>\n",
              "      <td>142403.000000</td>\n",
              "      <td>142403.000000</td>\n",
              "      <td>142403.000000</td>\n",
              "      <td>142403.000000</td>\n",
              "      <td>142403.000000</td>\n",
              "      <td>142403.000000</td>\n",
              "      <td>142403.000000</td>\n",
              "      <td>142403.000000</td>\n",
              "      <td>142403.000000</td>\n",
              "      <td>142403.000000</td>\n",
              "    </tr>\n",
              "    <tr>\n",
              "      <th>mean</th>\n",
              "      <td>71201.000000</td>\n",
              "      <td>52402.922424</td>\n",
              "      <td>-0.249369</td>\n",
              "      <td>0.020786</td>\n",
              "      <td>0.673759</td>\n",
              "      <td>0.137167</td>\n",
              "      <td>-0.282933</td>\n",
              "      <td>0.078243</td>\n",
              "      <td>-0.118221</td>\n",
              "      <td>0.064969</td>\n",
              "      <td>...</td>\n",
              "      <td>-0.039749</td>\n",
              "      <td>-0.117939</td>\n",
              "      <td>-0.033259</td>\n",
              "      <td>0.011263</td>\n",
              "      <td>0.130894</td>\n",
              "      <td>0.021567</td>\n",
              "      <td>0.000700</td>\n",
              "      <td>0.002263</td>\n",
              "      <td>90.687055</td>\n",
              "      <td>0.001889</td>\n",
              "    </tr>\n",
              "    <tr>\n",
              "      <th>std</th>\n",
              "      <td>41108.349529</td>\n",
              "      <td>21104.546393</td>\n",
              "      <td>1.814061</td>\n",
              "      <td>1.610309</td>\n",
              "      <td>1.266018</td>\n",
              "      <td>1.322356</td>\n",
              "      <td>1.305022</td>\n",
              "      <td>1.282544</td>\n",
              "      <td>1.165530</td>\n",
              "      <td>1.233597</td>\n",
              "      <td>...</td>\n",
              "      <td>0.721186</td>\n",
              "      <td>0.634611</td>\n",
              "      <td>0.589846</td>\n",
              "      <td>0.595726</td>\n",
              "      <td>0.437316</td>\n",
              "      <td>0.492375</td>\n",
              "      <td>0.388678</td>\n",
              "      <td>0.306209</td>\n",
              "      <td>246.459558</td>\n",
              "      <td>0.043422</td>\n",
              "    </tr>\n",
              "    <tr>\n",
              "      <th>min</th>\n",
              "      <td>0.000000</td>\n",
              "      <td>0.000000</td>\n",
              "      <td>-56.407510</td>\n",
              "      <td>-72.715728</td>\n",
              "      <td>-33.680984</td>\n",
              "      <td>-5.519697</td>\n",
              "      <td>-42.147898</td>\n",
              "      <td>-26.160506</td>\n",
              "      <td>-31.764946</td>\n",
              "      <td>-73.216718</td>\n",
              "      <td>...</td>\n",
              "      <td>-34.830382</td>\n",
              "      <td>-10.933144</td>\n",
              "      <td>-44.807735</td>\n",
              "      <td>-2.836627</td>\n",
              "      <td>-10.295397</td>\n",
              "      <td>-2.534330</td>\n",
              "      <td>-22.565679</td>\n",
              "      <td>-11.710896</td>\n",
              "      <td>0.000000</td>\n",
              "      <td>0.000000</td>\n",
              "    </tr>\n",
              "    <tr>\n",
              "      <th>25%</th>\n",
              "      <td>35600.500000</td>\n",
              "      <td>38190.500000</td>\n",
              "      <td>-1.021159</td>\n",
              "      <td>-0.560007</td>\n",
              "      <td>0.171462</td>\n",
              "      <td>-0.718089</td>\n",
              "      <td>-0.903787</td>\n",
              "      <td>-0.662023</td>\n",
              "      <td>-0.604821</td>\n",
              "      <td>-0.130534</td>\n",
              "      <td>...</td>\n",
              "      <td>-0.225799</td>\n",
              "      <td>-0.547094</td>\n",
              "      <td>-0.171829</td>\n",
              "      <td>-0.325901</td>\n",
              "      <td>-0.135876</td>\n",
              "      <td>-0.327178</td>\n",
              "      <td>-0.060092</td>\n",
              "      <td>-0.004181</td>\n",
              "      <td>5.990000</td>\n",
              "      <td>0.000000</td>\n",
              "    </tr>\n",
              "    <tr>\n",
              "      <th>50%</th>\n",
              "      <td>71201.000000</td>\n",
              "      <td>54201.000000</td>\n",
              "      <td>-0.271756</td>\n",
              "      <td>0.106016</td>\n",
              "      <td>0.750692</td>\n",
              "      <td>0.164312</td>\n",
              "      <td>-0.315374</td>\n",
              "      <td>-0.177339</td>\n",
              "      <td>-0.064749</td>\n",
              "      <td>0.081070</td>\n",
              "      <td>...</td>\n",
              "      <td>-0.059512</td>\n",
              "      <td>-0.094206</td>\n",
              "      <td>-0.045135</td>\n",
              "      <td>0.068268</td>\n",
              "      <td>0.167488</td>\n",
              "      <td>-0.066460</td>\n",
              "      <td>0.012140</td>\n",
              "      <td>0.023615</td>\n",
              "      <td>23.560000</td>\n",
              "      <td>0.000000</td>\n",
              "    </tr>\n",
              "    <tr>\n",
              "      <th>75%</th>\n",
              "      <td>106801.500000</td>\n",
              "      <td>70131.000000</td>\n",
              "      <td>1.158507</td>\n",
              "      <td>0.777726</td>\n",
              "      <td>1.363765</td>\n",
              "      <td>0.991350</td>\n",
              "      <td>0.236510</td>\n",
              "      <td>0.463246</td>\n",
              "      <td>0.409101</td>\n",
              "      <td>0.375334</td>\n",
              "      <td>...</td>\n",
              "      <td>0.113082</td>\n",
              "      <td>0.300538</td>\n",
              "      <td>0.083055</td>\n",
              "      <td>0.408259</td>\n",
              "      <td>0.420209</td>\n",
              "      <td>0.284527</td>\n",
              "      <td>0.087769</td>\n",
              "      <td>0.077020</td>\n",
              "      <td>80.100000</td>\n",
              "      <td>0.000000</td>\n",
              "    </tr>\n",
              "    <tr>\n",
              "      <th>max</th>\n",
              "      <td>142402.000000</td>\n",
              "      <td>84691.000000</td>\n",
              "      <td>1.960497</td>\n",
              "      <td>18.902453</td>\n",
              "      <td>9.382558</td>\n",
              "      <td>16.715537</td>\n",
              "      <td>34.801666</td>\n",
              "      <td>22.529298</td>\n",
              "      <td>36.677268</td>\n",
              "      <td>20.007208</td>\n",
              "      <td>...</td>\n",
              "      <td>27.202839</td>\n",
              "      <td>10.503090</td>\n",
              "      <td>19.002942</td>\n",
              "      <td>4.022866</td>\n",
              "      <td>5.541598</td>\n",
              "      <td>3.517346</td>\n",
              "      <td>12.152401</td>\n",
              "      <td>33.847808</td>\n",
              "      <td>19656.530000</td>\n",
              "      <td>1.000000</td>\n",
              "    </tr>\n",
              "  </tbody>\n",
              "</table>\n",
              "<p>8 rows × 32 columns</p>\n",
              "</div>\n",
              "      <button class=\"colab-df-convert\" onclick=\"convertToInteractive('df-0d3a9368-042a-48f0-8154-295b3ef3c537')\"\n",
              "              title=\"Convert this dataframe to an interactive table.\"\n",
              "              style=\"display:none;\">\n",
              "        \n",
              "  <svg xmlns=\"http://www.w3.org/2000/svg\" height=\"24px\"viewBox=\"0 0 24 24\"\n",
              "       width=\"24px\">\n",
              "    <path d=\"M0 0h24v24H0V0z\" fill=\"none\"/>\n",
              "    <path d=\"M18.56 5.44l.94 2.06.94-2.06 2.06-.94-2.06-.94-.94-2.06-.94 2.06-2.06.94zm-11 1L8.5 8.5l.94-2.06 2.06-.94-2.06-.94L8.5 2.5l-.94 2.06-2.06.94zm10 10l.94 2.06.94-2.06 2.06-.94-2.06-.94-.94-2.06-.94 2.06-2.06.94z\"/><path d=\"M17.41 7.96l-1.37-1.37c-.4-.4-.92-.59-1.43-.59-.52 0-1.04.2-1.43.59L10.3 9.45l-7.72 7.72c-.78.78-.78 2.05 0 2.83L4 21.41c.39.39.9.59 1.41.59.51 0 1.02-.2 1.41-.59l7.78-7.78 2.81-2.81c.8-.78.8-2.07 0-2.86zM5.41 20L4 18.59l7.72-7.72 1.47 1.35L5.41 20z\"/>\n",
              "  </svg>\n",
              "      </button>\n",
              "      \n",
              "  <style>\n",
              "    .colab-df-container {\n",
              "      display:flex;\n",
              "      flex-wrap:wrap;\n",
              "      gap: 12px;\n",
              "    }\n",
              "\n",
              "    .colab-df-convert {\n",
              "      background-color: #E8F0FE;\n",
              "      border: none;\n",
              "      border-radius: 50%;\n",
              "      cursor: pointer;\n",
              "      display: none;\n",
              "      fill: #1967D2;\n",
              "      height: 32px;\n",
              "      padding: 0 0 0 0;\n",
              "      width: 32px;\n",
              "    }\n",
              "\n",
              "    .colab-df-convert:hover {\n",
              "      background-color: #E2EBFA;\n",
              "      box-shadow: 0px 1px 2px rgba(60, 64, 67, 0.3), 0px 1px 3px 1px rgba(60, 64, 67, 0.15);\n",
              "      fill: #174EA6;\n",
              "    }\n",
              "\n",
              "    [theme=dark] .colab-df-convert {\n",
              "      background-color: #3B4455;\n",
              "      fill: #D2E3FC;\n",
              "    }\n",
              "\n",
              "    [theme=dark] .colab-df-convert:hover {\n",
              "      background-color: #434B5C;\n",
              "      box-shadow: 0px 1px 3px 1px rgba(0, 0, 0, 0.15);\n",
              "      filter: drop-shadow(0px 1px 2px rgba(0, 0, 0, 0.3));\n",
              "      fill: #FFFFFF;\n",
              "    }\n",
              "  </style>\n",
              "\n",
              "      <script>\n",
              "        const buttonEl =\n",
              "          document.querySelector('#df-0d3a9368-042a-48f0-8154-295b3ef3c537 button.colab-df-convert');\n",
              "        buttonEl.style.display =\n",
              "          google.colab.kernel.accessAllowed ? 'block' : 'none';\n",
              "\n",
              "        async function convertToInteractive(key) {\n",
              "          const element = document.querySelector('#df-0d3a9368-042a-48f0-8154-295b3ef3c537');\n",
              "          const dataTable =\n",
              "            await google.colab.kernel.invokeFunction('convertToInteractive',\n",
              "                                                     [key], {});\n",
              "          if (!dataTable) return;\n",
              "\n",
              "          const docLinkHtml = 'Like what you see? Visit the ' +\n",
              "            '<a target=\"_blank\" href=https://colab.research.google.com/notebooks/data_table.ipynb>data table notebook</a>'\n",
              "            + ' to learn more about interactive tables.';\n",
              "          element.innerHTML = '';\n",
              "          dataTable['output_type'] = 'display_data';\n",
              "          await google.colab.output.renderOutput(dataTable, element);\n",
              "          const docLink = document.createElement('div');\n",
              "          docLink.innerHTML = docLinkHtml;\n",
              "          element.appendChild(docLink);\n",
              "        }\n",
              "      </script>\n",
              "    </div>\n",
              "  </div>\n",
              "  "
            ]
          },
          "metadata": {},
          "execution_count": 5
        }
      ],
      "source": [
        "df_1.describe()"
      ]
    },
    {
      "cell_type": "code",
      "execution_count": null,
      "id": "51be3c2e-e444-4902-a967-db580e77fa10",
      "metadata": {
        "colab": {
          "base_uri": "https://localhost:8080/",
          "height": 443
        },
        "id": "51be3c2e-e444-4902-a967-db580e77fa10",
        "outputId": "24c3b50e-8243-44c9-996f-d26af7cf8bc8"
      },
      "outputs": [
        {
          "output_type": "execute_result",
          "data": {
            "text/plain": [
              "          Unnamed: 0           Time             V1             V2  \\\n",
              "count  142404.000000  142404.000000  142404.000000  142404.000000   \n",
              "mean   213604.500000  137224.498905       0.249367      -0.020786   \n",
              "std     41108.638204   21621.441039       2.063447       1.691065   \n",
              "min    142403.000000   84692.000000     -46.855047     -60.464618   \n",
              "25%    178003.750000  123434.000000      -0.798739      -0.639538   \n",
              "50%    213604.500000  139320.500000       0.109049       0.021672   \n",
              "75%    249205.250000  154295.250000       1.974817       0.821889   \n",
              "max    284806.000000  172792.000000       2.454930      22.057729   \n",
              "\n",
              "                  V3             V4             V5             V6  \\\n",
              "count  142404.000000  142404.000000  142404.000000  142404.000000   \n",
              "mean       -0.673754      -0.137166       0.282931      -0.078242   \n",
              "std         1.444774       1.491015       1.395346       1.375770   \n",
              "min       -48.325589      -5.683171    -113.743307     -21.929312   \n",
              "25%        -1.545958      -0.951538      -0.415372      -0.868288   \n",
              "50%        -0.676007      -0.286962       0.263263      -0.380612   \n",
              "75%         0.195467       0.457005       0.896648       0.317112   \n",
              "max         4.187811      16.875344      32.911462      73.301626   \n",
              "\n",
              "                  V7             V8  ...            V21            V22  \\\n",
              "count  142404.000000  142404.000000  ...  142404.000000  142404.000000   \n",
              "mean        0.118220      -0.064968  ...       0.039748       0.117938   \n",
              "std         1.293986       1.150115  ...       0.745511       0.789137   \n",
              "min       -43.557242     -41.044261  ...     -22.797604      -9.499423   \n",
              "25%        -0.484315      -0.282218  ...      -0.232171      -0.536622   \n",
              "50%         0.152003      -0.046199  ...       0.024551       0.180473   \n",
              "75%         0.745342       0.268517  ...       0.246052       0.741408   \n",
              "max       120.589494      12.766112  ...      21.899724       8.361985   \n",
              "\n",
              "                 V23            V24            V25            V26  \\\n",
              "count  142404.000000  142404.000000  142404.000000  142404.000000   \n",
              "mean        0.033259      -0.011263      -0.130893      -0.021567   \n",
              "std         0.655571       0.615204       0.563871       0.470876   \n",
              "min       -36.666000      -2.807897      -8.696627      -2.604551   \n",
              "25%        -0.145448      -0.379894      -0.447183      -0.326453   \n",
              "50%         0.035542       0.016546      -0.184490      -0.035831   \n",
              "75%         0.222989       0.523342       0.233643       0.216871   \n",
              "max        22.528412       4.584549       7.519589       3.415636   \n",
              "\n",
              "                 V27            V28         Amount          Class  \n",
              "count  142404.000000  142404.000000  142404.000000  142404.000000  \n",
              "mean       -0.000700      -0.002263      86.012200       0.001566  \n",
              "std         0.418053       0.352330     253.707161       0.039541  \n",
              "min        -9.895244     -15.430084       0.000000       0.000000  \n",
              "25%        -0.075879      -0.062769       5.350000       0.000000  \n",
              "50%        -0.009497      -0.028602      20.150000       0.000000  \n",
              "75%         0.096491       0.080020      74.000000       0.000000  \n",
              "max        31.612198      22.620072   25691.160000       1.000000  \n",
              "\n",
              "[8 rows x 32 columns]"
            ],
            "text/html": [
              "\n",
              "  <div id=\"df-97389b87-4626-43b0-8370-2a04322da0e0\">\n",
              "    <div class=\"colab-df-container\">\n",
              "      <div>\n",
              "<style scoped>\n",
              "    .dataframe tbody tr th:only-of-type {\n",
              "        vertical-align: middle;\n",
              "    }\n",
              "\n",
              "    .dataframe tbody tr th {\n",
              "        vertical-align: top;\n",
              "    }\n",
              "\n",
              "    .dataframe thead th {\n",
              "        text-align: right;\n",
              "    }\n",
              "</style>\n",
              "<table border=\"1\" class=\"dataframe\">\n",
              "  <thead>\n",
              "    <tr style=\"text-align: right;\">\n",
              "      <th></th>\n",
              "      <th>Unnamed: 0</th>\n",
              "      <th>Time</th>\n",
              "      <th>V1</th>\n",
              "      <th>V2</th>\n",
              "      <th>V3</th>\n",
              "      <th>V4</th>\n",
              "      <th>V5</th>\n",
              "      <th>V6</th>\n",
              "      <th>V7</th>\n",
              "      <th>V8</th>\n",
              "      <th>...</th>\n",
              "      <th>V21</th>\n",
              "      <th>V22</th>\n",
              "      <th>V23</th>\n",
              "      <th>V24</th>\n",
              "      <th>V25</th>\n",
              "      <th>V26</th>\n",
              "      <th>V27</th>\n",
              "      <th>V28</th>\n",
              "      <th>Amount</th>\n",
              "      <th>Class</th>\n",
              "    </tr>\n",
              "  </thead>\n",
              "  <tbody>\n",
              "    <tr>\n",
              "      <th>count</th>\n",
              "      <td>142404.000000</td>\n",
              "      <td>142404.000000</td>\n",
              "      <td>142404.000000</td>\n",
              "      <td>142404.000000</td>\n",
              "      <td>142404.000000</td>\n",
              "      <td>142404.000000</td>\n",
              "      <td>142404.000000</td>\n",
              "      <td>142404.000000</td>\n",
              "      <td>142404.000000</td>\n",
              "      <td>142404.000000</td>\n",
              "      <td>...</td>\n",
              "      <td>142404.000000</td>\n",
              "      <td>142404.000000</td>\n",
              "      <td>142404.000000</td>\n",
              "      <td>142404.000000</td>\n",
              "      <td>142404.000000</td>\n",
              "      <td>142404.000000</td>\n",
              "      <td>142404.000000</td>\n",
              "      <td>142404.000000</td>\n",
              "      <td>142404.000000</td>\n",
              "      <td>142404.000000</td>\n",
              "    </tr>\n",
              "    <tr>\n",
              "      <th>mean</th>\n",
              "      <td>213604.500000</td>\n",
              "      <td>137224.498905</td>\n",
              "      <td>0.249367</td>\n",
              "      <td>-0.020786</td>\n",
              "      <td>-0.673754</td>\n",
              "      <td>-0.137166</td>\n",
              "      <td>0.282931</td>\n",
              "      <td>-0.078242</td>\n",
              "      <td>0.118220</td>\n",
              "      <td>-0.064968</td>\n",
              "      <td>...</td>\n",
              "      <td>0.039748</td>\n",
              "      <td>0.117938</td>\n",
              "      <td>0.033259</td>\n",
              "      <td>-0.011263</td>\n",
              "      <td>-0.130893</td>\n",
              "      <td>-0.021567</td>\n",
              "      <td>-0.000700</td>\n",
              "      <td>-0.002263</td>\n",
              "      <td>86.012200</td>\n",
              "      <td>0.001566</td>\n",
              "    </tr>\n",
              "    <tr>\n",
              "      <th>std</th>\n",
              "      <td>41108.638204</td>\n",
              "      <td>21621.441039</td>\n",
              "      <td>2.063447</td>\n",
              "      <td>1.691065</td>\n",
              "      <td>1.444774</td>\n",
              "      <td>1.491015</td>\n",
              "      <td>1.395346</td>\n",
              "      <td>1.375770</td>\n",
              "      <td>1.293986</td>\n",
              "      <td>1.150115</td>\n",
              "      <td>...</td>\n",
              "      <td>0.745511</td>\n",
              "      <td>0.789137</td>\n",
              "      <td>0.655571</td>\n",
              "      <td>0.615204</td>\n",
              "      <td>0.563871</td>\n",
              "      <td>0.470876</td>\n",
              "      <td>0.418053</td>\n",
              "      <td>0.352330</td>\n",
              "      <td>253.707161</td>\n",
              "      <td>0.039541</td>\n",
              "    </tr>\n",
              "    <tr>\n",
              "      <th>min</th>\n",
              "      <td>142403.000000</td>\n",
              "      <td>84692.000000</td>\n",
              "      <td>-46.855047</td>\n",
              "      <td>-60.464618</td>\n",
              "      <td>-48.325589</td>\n",
              "      <td>-5.683171</td>\n",
              "      <td>-113.743307</td>\n",
              "      <td>-21.929312</td>\n",
              "      <td>-43.557242</td>\n",
              "      <td>-41.044261</td>\n",
              "      <td>...</td>\n",
              "      <td>-22.797604</td>\n",
              "      <td>-9.499423</td>\n",
              "      <td>-36.666000</td>\n",
              "      <td>-2.807897</td>\n",
              "      <td>-8.696627</td>\n",
              "      <td>-2.604551</td>\n",
              "      <td>-9.895244</td>\n",
              "      <td>-15.430084</td>\n",
              "      <td>0.000000</td>\n",
              "      <td>0.000000</td>\n",
              "    </tr>\n",
              "    <tr>\n",
              "      <th>25%</th>\n",
              "      <td>178003.750000</td>\n",
              "      <td>123434.000000</td>\n",
              "      <td>-0.798739</td>\n",
              "      <td>-0.639538</td>\n",
              "      <td>-1.545958</td>\n",
              "      <td>-0.951538</td>\n",
              "      <td>-0.415372</td>\n",
              "      <td>-0.868288</td>\n",
              "      <td>-0.484315</td>\n",
              "      <td>-0.282218</td>\n",
              "      <td>...</td>\n",
              "      <td>-0.232171</td>\n",
              "      <td>-0.536622</td>\n",
              "      <td>-0.145448</td>\n",
              "      <td>-0.379894</td>\n",
              "      <td>-0.447183</td>\n",
              "      <td>-0.326453</td>\n",
              "      <td>-0.075879</td>\n",
              "      <td>-0.062769</td>\n",
              "      <td>5.350000</td>\n",
              "      <td>0.000000</td>\n",
              "    </tr>\n",
              "    <tr>\n",
              "      <th>50%</th>\n",
              "      <td>213604.500000</td>\n",
              "      <td>139320.500000</td>\n",
              "      <td>0.109049</td>\n",
              "      <td>0.021672</td>\n",
              "      <td>-0.676007</td>\n",
              "      <td>-0.286962</td>\n",
              "      <td>0.263263</td>\n",
              "      <td>-0.380612</td>\n",
              "      <td>0.152003</td>\n",
              "      <td>-0.046199</td>\n",
              "      <td>...</td>\n",
              "      <td>0.024551</td>\n",
              "      <td>0.180473</td>\n",
              "      <td>0.035542</td>\n",
              "      <td>0.016546</td>\n",
              "      <td>-0.184490</td>\n",
              "      <td>-0.035831</td>\n",
              "      <td>-0.009497</td>\n",
              "      <td>-0.028602</td>\n",
              "      <td>20.150000</td>\n",
              "      <td>0.000000</td>\n",
              "    </tr>\n",
              "    <tr>\n",
              "      <th>75%</th>\n",
              "      <td>249205.250000</td>\n",
              "      <td>154295.250000</td>\n",
              "      <td>1.974817</td>\n",
              "      <td>0.821889</td>\n",
              "      <td>0.195467</td>\n",
              "      <td>0.457005</td>\n",
              "      <td>0.896648</td>\n",
              "      <td>0.317112</td>\n",
              "      <td>0.745342</td>\n",
              "      <td>0.268517</td>\n",
              "      <td>...</td>\n",
              "      <td>0.246052</td>\n",
              "      <td>0.741408</td>\n",
              "      <td>0.222989</td>\n",
              "      <td>0.523342</td>\n",
              "      <td>0.233643</td>\n",
              "      <td>0.216871</td>\n",
              "      <td>0.096491</td>\n",
              "      <td>0.080020</td>\n",
              "      <td>74.000000</td>\n",
              "      <td>0.000000</td>\n",
              "    </tr>\n",
              "    <tr>\n",
              "      <th>max</th>\n",
              "      <td>284806.000000</td>\n",
              "      <td>172792.000000</td>\n",
              "      <td>2.454930</td>\n",
              "      <td>22.057729</td>\n",
              "      <td>4.187811</td>\n",
              "      <td>16.875344</td>\n",
              "      <td>32.911462</td>\n",
              "      <td>73.301626</td>\n",
              "      <td>120.589494</td>\n",
              "      <td>12.766112</td>\n",
              "      <td>...</td>\n",
              "      <td>21.899724</td>\n",
              "      <td>8.361985</td>\n",
              "      <td>22.528412</td>\n",
              "      <td>4.584549</td>\n",
              "      <td>7.519589</td>\n",
              "      <td>3.415636</td>\n",
              "      <td>31.612198</td>\n",
              "      <td>22.620072</td>\n",
              "      <td>25691.160000</td>\n",
              "      <td>1.000000</td>\n",
              "    </tr>\n",
              "  </tbody>\n",
              "</table>\n",
              "<p>8 rows × 32 columns</p>\n",
              "</div>\n",
              "      <button class=\"colab-df-convert\" onclick=\"convertToInteractive('df-97389b87-4626-43b0-8370-2a04322da0e0')\"\n",
              "              title=\"Convert this dataframe to an interactive table.\"\n",
              "              style=\"display:none;\">\n",
              "        \n",
              "  <svg xmlns=\"http://www.w3.org/2000/svg\" height=\"24px\"viewBox=\"0 0 24 24\"\n",
              "       width=\"24px\">\n",
              "    <path d=\"M0 0h24v24H0V0z\" fill=\"none\"/>\n",
              "    <path d=\"M18.56 5.44l.94 2.06.94-2.06 2.06-.94-2.06-.94-.94-2.06-.94 2.06-2.06.94zm-11 1L8.5 8.5l.94-2.06 2.06-.94-2.06-.94L8.5 2.5l-.94 2.06-2.06.94zm10 10l.94 2.06.94-2.06 2.06-.94-2.06-.94-.94-2.06-.94 2.06-2.06.94z\"/><path d=\"M17.41 7.96l-1.37-1.37c-.4-.4-.92-.59-1.43-.59-.52 0-1.04.2-1.43.59L10.3 9.45l-7.72 7.72c-.78.78-.78 2.05 0 2.83L4 21.41c.39.39.9.59 1.41.59.51 0 1.02-.2 1.41-.59l7.78-7.78 2.81-2.81c.8-.78.8-2.07 0-2.86zM5.41 20L4 18.59l7.72-7.72 1.47 1.35L5.41 20z\"/>\n",
              "  </svg>\n",
              "      </button>\n",
              "      \n",
              "  <style>\n",
              "    .colab-df-container {\n",
              "      display:flex;\n",
              "      flex-wrap:wrap;\n",
              "      gap: 12px;\n",
              "    }\n",
              "\n",
              "    .colab-df-convert {\n",
              "      background-color: #E8F0FE;\n",
              "      border: none;\n",
              "      border-radius: 50%;\n",
              "      cursor: pointer;\n",
              "      display: none;\n",
              "      fill: #1967D2;\n",
              "      height: 32px;\n",
              "      padding: 0 0 0 0;\n",
              "      width: 32px;\n",
              "    }\n",
              "\n",
              "    .colab-df-convert:hover {\n",
              "      background-color: #E2EBFA;\n",
              "      box-shadow: 0px 1px 2px rgba(60, 64, 67, 0.3), 0px 1px 3px 1px rgba(60, 64, 67, 0.15);\n",
              "      fill: #174EA6;\n",
              "    }\n",
              "\n",
              "    [theme=dark] .colab-df-convert {\n",
              "      background-color: #3B4455;\n",
              "      fill: #D2E3FC;\n",
              "    }\n",
              "\n",
              "    [theme=dark] .colab-df-convert:hover {\n",
              "      background-color: #434B5C;\n",
              "      box-shadow: 0px 1px 3px 1px rgba(0, 0, 0, 0.15);\n",
              "      filter: drop-shadow(0px 1px 2px rgba(0, 0, 0, 0.3));\n",
              "      fill: #FFFFFF;\n",
              "    }\n",
              "  </style>\n",
              "\n",
              "      <script>\n",
              "        const buttonEl =\n",
              "          document.querySelector('#df-97389b87-4626-43b0-8370-2a04322da0e0 button.colab-df-convert');\n",
              "        buttonEl.style.display =\n",
              "          google.colab.kernel.accessAllowed ? 'block' : 'none';\n",
              "\n",
              "        async function convertToInteractive(key) {\n",
              "          const element = document.querySelector('#df-97389b87-4626-43b0-8370-2a04322da0e0');\n",
              "          const dataTable =\n",
              "            await google.colab.kernel.invokeFunction('convertToInteractive',\n",
              "                                                     [key], {});\n",
              "          if (!dataTable) return;\n",
              "\n",
              "          const docLinkHtml = 'Like what you see? Visit the ' +\n",
              "            '<a target=\"_blank\" href=https://colab.research.google.com/notebooks/data_table.ipynb>data table notebook</a>'\n",
              "            + ' to learn more about interactive tables.';\n",
              "          element.innerHTML = '';\n",
              "          dataTable['output_type'] = 'display_data';\n",
              "          await google.colab.output.renderOutput(dataTable, element);\n",
              "          const docLink = document.createElement('div');\n",
              "          docLink.innerHTML = docLinkHtml;\n",
              "          element.appendChild(docLink);\n",
              "        }\n",
              "      </script>\n",
              "    </div>\n",
              "  </div>\n",
              "  "
            ]
          },
          "metadata": {},
          "execution_count": 6
        }
      ],
      "source": [
        "df_2.describe()"
      ]
    },
    {
      "cell_type": "code",
      "execution_count": null,
      "id": "2ea43aff-2ddd-49ff-a12d-c1462a7954bf",
      "metadata": {
        "colab": {
          "base_uri": "https://localhost:8080/"
        },
        "id": "2ea43aff-2ddd-49ff-a12d-c1462a7954bf",
        "outputId": "ea304883-1888-4232-830c-14486d910b97"
      },
      "outputs": [
        {
          "output_type": "stream",
          "name": "stdout",
          "text": [
            "142403\n",
            "142404\n"
          ]
        }
      ],
      "source": [
        "print(len(df_1))\n",
        "print(len(df_2))"
      ]
    },
    {
      "cell_type": "code",
      "execution_count": null,
      "id": "a0c68d1f-1e2e-48b5-a82a-2d93d3c3e0b0",
      "metadata": {
        "colab": {
          "base_uri": "https://localhost:8080/"
        },
        "id": "a0c68d1f-1e2e-48b5-a82a-2d93d3c3e0b0",
        "outputId": "6e2b1efc-af6d-45ab-ac66-9a4e32381af6"
      },
      "outputs": [
        {
          "output_type": "stream",
          "name": "stdout",
          "text": [
            "284807\n"
          ]
        }
      ],
      "source": [
        "#1.2\n",
        "df_unidos=pd.concat([df_1,df_2], ignore_index=True)\n",
        "print(len(df_unidos))"
      ]
    },
    {
      "cell_type": "code",
      "execution_count": null,
      "id": "6f400a41-92c4-49d3-b31c-7d25d876b530",
      "metadata": {
        "colab": {
          "base_uri": "https://localhost:8080/",
          "height": 538
        },
        "id": "6f400a41-92c4-49d3-b31c-7d25d876b530",
        "outputId": "f42a476c-338c-4816-cbe1-3161a1b3fdd5"
      },
      "outputs": [
        {
          "output_type": "execute_result",
          "data": {
            "text/plain": [
              "   Unnamed: 0  Time        V1        V2        V3        V4        V5  \\\n",
              "0           0   0.0 -1.359807 -0.072781  2.536347  1.378155 -0.338321   \n",
              "1           1   0.0  1.191857  0.266151  0.166480  0.448154  0.060018   \n",
              "2           2   1.0 -1.358354 -1.340163  1.773209  0.379780 -0.503198   \n",
              "3           3   1.0 -0.966272 -0.185226  1.792993 -0.863291 -0.010309   \n",
              "4           4   2.0 -1.158233  0.877737  1.548718  0.403034 -0.407193   \n",
              "5           5   2.0 -0.425966  0.960523  1.141109 -0.168252  0.420987   \n",
              "6           6   4.0  1.229658  0.141004  0.045371  1.202613  0.191881   \n",
              "7           7   7.0 -0.644269  1.417964  1.074380 -0.492199  0.948934   \n",
              "8           8   7.0 -0.894286  0.286157 -0.113192 -0.271526  2.669599   \n",
              "9           9   9.0 -0.338262  1.119593  1.044367 -0.222187  0.499361   \n",
              "\n",
              "         V6        V7        V8  ...       V21       V22       V23       V24  \\\n",
              "0  0.462388  0.239599  0.098698  ... -0.018307  0.277838 -0.110474  0.066928   \n",
              "1 -0.082361 -0.078803  0.085102  ... -0.225775 -0.638672  0.101288 -0.339846   \n",
              "2  1.800499  0.791461  0.247676  ...  0.247998  0.771679  0.909412 -0.689281   \n",
              "3  1.247203  0.237609  0.377436  ... -0.108300  0.005274 -0.190321 -1.175575   \n",
              "4  0.095921  0.592941 -0.270533  ... -0.009431  0.798278 -0.137458  0.141267   \n",
              "5 -0.029728  0.476201  0.260314  ... -0.208254 -0.559825 -0.026398 -0.371427   \n",
              "6  0.272708 -0.005159  0.081213  ... -0.167716 -0.270710 -0.154104 -0.780055   \n",
              "7  0.428118  1.120631 -3.807864  ...  1.943465 -1.015455  0.057504 -0.649709   \n",
              "8  3.721818  0.370145  0.851084  ... -0.073425 -0.268092 -0.204233  1.011592   \n",
              "9 -0.246761  0.651583  0.069539  ... -0.246914 -0.633753 -0.120794 -0.385050   \n",
              "\n",
              "        V25       V26       V27       V28  Amount  Class  \n",
              "0  0.128539 -0.189115  0.133558 -0.021053  149.62      0  \n",
              "1  0.167170  0.125895 -0.008983  0.014724    2.69      0  \n",
              "2 -0.327642 -0.139097 -0.055353 -0.059752  378.66      0  \n",
              "3  0.647376 -0.221929  0.062723  0.061458  123.50      0  \n",
              "4 -0.206010  0.502292  0.219422  0.215153   69.99      0  \n",
              "5 -0.232794  0.105915  0.253844  0.081080    3.67      0  \n",
              "6  0.750137 -0.257237  0.034507  0.005168    4.99      0  \n",
              "7 -0.415267 -0.051634 -1.206921 -1.085339   40.80      0  \n",
              "8  0.373205 -0.384157  0.011747  0.142404   93.20      0  \n",
              "9 -0.069733  0.094199  0.246219  0.083076    3.68      0  \n",
              "\n",
              "[10 rows x 32 columns]"
            ],
            "text/html": [
              "\n",
              "  <div id=\"df-2f24b73e-9b83-4c78-ab33-8a5b2d4f6ed8\">\n",
              "    <div class=\"colab-df-container\">\n",
              "      <div>\n",
              "<style scoped>\n",
              "    .dataframe tbody tr th:only-of-type {\n",
              "        vertical-align: middle;\n",
              "    }\n",
              "\n",
              "    .dataframe tbody tr th {\n",
              "        vertical-align: top;\n",
              "    }\n",
              "\n",
              "    .dataframe thead th {\n",
              "        text-align: right;\n",
              "    }\n",
              "</style>\n",
              "<table border=\"1\" class=\"dataframe\">\n",
              "  <thead>\n",
              "    <tr style=\"text-align: right;\">\n",
              "      <th></th>\n",
              "      <th>Unnamed: 0</th>\n",
              "      <th>Time</th>\n",
              "      <th>V1</th>\n",
              "      <th>V2</th>\n",
              "      <th>V3</th>\n",
              "      <th>V4</th>\n",
              "      <th>V5</th>\n",
              "      <th>V6</th>\n",
              "      <th>V7</th>\n",
              "      <th>V8</th>\n",
              "      <th>...</th>\n",
              "      <th>V21</th>\n",
              "      <th>V22</th>\n",
              "      <th>V23</th>\n",
              "      <th>V24</th>\n",
              "      <th>V25</th>\n",
              "      <th>V26</th>\n",
              "      <th>V27</th>\n",
              "      <th>V28</th>\n",
              "      <th>Amount</th>\n",
              "      <th>Class</th>\n",
              "    </tr>\n",
              "  </thead>\n",
              "  <tbody>\n",
              "    <tr>\n",
              "      <th>0</th>\n",
              "      <td>0</td>\n",
              "      <td>0.0</td>\n",
              "      <td>-1.359807</td>\n",
              "      <td>-0.072781</td>\n",
              "      <td>2.536347</td>\n",
              "      <td>1.378155</td>\n",
              "      <td>-0.338321</td>\n",
              "      <td>0.462388</td>\n",
              "      <td>0.239599</td>\n",
              "      <td>0.098698</td>\n",
              "      <td>...</td>\n",
              "      <td>-0.018307</td>\n",
              "      <td>0.277838</td>\n",
              "      <td>-0.110474</td>\n",
              "      <td>0.066928</td>\n",
              "      <td>0.128539</td>\n",
              "      <td>-0.189115</td>\n",
              "      <td>0.133558</td>\n",
              "      <td>-0.021053</td>\n",
              "      <td>149.62</td>\n",
              "      <td>0</td>\n",
              "    </tr>\n",
              "    <tr>\n",
              "      <th>1</th>\n",
              "      <td>1</td>\n",
              "      <td>0.0</td>\n",
              "      <td>1.191857</td>\n",
              "      <td>0.266151</td>\n",
              "      <td>0.166480</td>\n",
              "      <td>0.448154</td>\n",
              "      <td>0.060018</td>\n",
              "      <td>-0.082361</td>\n",
              "      <td>-0.078803</td>\n",
              "      <td>0.085102</td>\n",
              "      <td>...</td>\n",
              "      <td>-0.225775</td>\n",
              "      <td>-0.638672</td>\n",
              "      <td>0.101288</td>\n",
              "      <td>-0.339846</td>\n",
              "      <td>0.167170</td>\n",
              "      <td>0.125895</td>\n",
              "      <td>-0.008983</td>\n",
              "      <td>0.014724</td>\n",
              "      <td>2.69</td>\n",
              "      <td>0</td>\n",
              "    </tr>\n",
              "    <tr>\n",
              "      <th>2</th>\n",
              "      <td>2</td>\n",
              "      <td>1.0</td>\n",
              "      <td>-1.358354</td>\n",
              "      <td>-1.340163</td>\n",
              "      <td>1.773209</td>\n",
              "      <td>0.379780</td>\n",
              "      <td>-0.503198</td>\n",
              "      <td>1.800499</td>\n",
              "      <td>0.791461</td>\n",
              "      <td>0.247676</td>\n",
              "      <td>...</td>\n",
              "      <td>0.247998</td>\n",
              "      <td>0.771679</td>\n",
              "      <td>0.909412</td>\n",
              "      <td>-0.689281</td>\n",
              "      <td>-0.327642</td>\n",
              "      <td>-0.139097</td>\n",
              "      <td>-0.055353</td>\n",
              "      <td>-0.059752</td>\n",
              "      <td>378.66</td>\n",
              "      <td>0</td>\n",
              "    </tr>\n",
              "    <tr>\n",
              "      <th>3</th>\n",
              "      <td>3</td>\n",
              "      <td>1.0</td>\n",
              "      <td>-0.966272</td>\n",
              "      <td>-0.185226</td>\n",
              "      <td>1.792993</td>\n",
              "      <td>-0.863291</td>\n",
              "      <td>-0.010309</td>\n",
              "      <td>1.247203</td>\n",
              "      <td>0.237609</td>\n",
              "      <td>0.377436</td>\n",
              "      <td>...</td>\n",
              "      <td>-0.108300</td>\n",
              "      <td>0.005274</td>\n",
              "      <td>-0.190321</td>\n",
              "      <td>-1.175575</td>\n",
              "      <td>0.647376</td>\n",
              "      <td>-0.221929</td>\n",
              "      <td>0.062723</td>\n",
              "      <td>0.061458</td>\n",
              "      <td>123.50</td>\n",
              "      <td>0</td>\n",
              "    </tr>\n",
              "    <tr>\n",
              "      <th>4</th>\n",
              "      <td>4</td>\n",
              "      <td>2.0</td>\n",
              "      <td>-1.158233</td>\n",
              "      <td>0.877737</td>\n",
              "      <td>1.548718</td>\n",
              "      <td>0.403034</td>\n",
              "      <td>-0.407193</td>\n",
              "      <td>0.095921</td>\n",
              "      <td>0.592941</td>\n",
              "      <td>-0.270533</td>\n",
              "      <td>...</td>\n",
              "      <td>-0.009431</td>\n",
              "      <td>0.798278</td>\n",
              "      <td>-0.137458</td>\n",
              "      <td>0.141267</td>\n",
              "      <td>-0.206010</td>\n",
              "      <td>0.502292</td>\n",
              "      <td>0.219422</td>\n",
              "      <td>0.215153</td>\n",
              "      <td>69.99</td>\n",
              "      <td>0</td>\n",
              "    </tr>\n",
              "    <tr>\n",
              "      <th>5</th>\n",
              "      <td>5</td>\n",
              "      <td>2.0</td>\n",
              "      <td>-0.425966</td>\n",
              "      <td>0.960523</td>\n",
              "      <td>1.141109</td>\n",
              "      <td>-0.168252</td>\n",
              "      <td>0.420987</td>\n",
              "      <td>-0.029728</td>\n",
              "      <td>0.476201</td>\n",
              "      <td>0.260314</td>\n",
              "      <td>...</td>\n",
              "      <td>-0.208254</td>\n",
              "      <td>-0.559825</td>\n",
              "      <td>-0.026398</td>\n",
              "      <td>-0.371427</td>\n",
              "      <td>-0.232794</td>\n",
              "      <td>0.105915</td>\n",
              "      <td>0.253844</td>\n",
              "      <td>0.081080</td>\n",
              "      <td>3.67</td>\n",
              "      <td>0</td>\n",
              "    </tr>\n",
              "    <tr>\n",
              "      <th>6</th>\n",
              "      <td>6</td>\n",
              "      <td>4.0</td>\n",
              "      <td>1.229658</td>\n",
              "      <td>0.141004</td>\n",
              "      <td>0.045371</td>\n",
              "      <td>1.202613</td>\n",
              "      <td>0.191881</td>\n",
              "      <td>0.272708</td>\n",
              "      <td>-0.005159</td>\n",
              "      <td>0.081213</td>\n",
              "      <td>...</td>\n",
              "      <td>-0.167716</td>\n",
              "      <td>-0.270710</td>\n",
              "      <td>-0.154104</td>\n",
              "      <td>-0.780055</td>\n",
              "      <td>0.750137</td>\n",
              "      <td>-0.257237</td>\n",
              "      <td>0.034507</td>\n",
              "      <td>0.005168</td>\n",
              "      <td>4.99</td>\n",
              "      <td>0</td>\n",
              "    </tr>\n",
              "    <tr>\n",
              "      <th>7</th>\n",
              "      <td>7</td>\n",
              "      <td>7.0</td>\n",
              "      <td>-0.644269</td>\n",
              "      <td>1.417964</td>\n",
              "      <td>1.074380</td>\n",
              "      <td>-0.492199</td>\n",
              "      <td>0.948934</td>\n",
              "      <td>0.428118</td>\n",
              "      <td>1.120631</td>\n",
              "      <td>-3.807864</td>\n",
              "      <td>...</td>\n",
              "      <td>1.943465</td>\n",
              "      <td>-1.015455</td>\n",
              "      <td>0.057504</td>\n",
              "      <td>-0.649709</td>\n",
              "      <td>-0.415267</td>\n",
              "      <td>-0.051634</td>\n",
              "      <td>-1.206921</td>\n",
              "      <td>-1.085339</td>\n",
              "      <td>40.80</td>\n",
              "      <td>0</td>\n",
              "    </tr>\n",
              "    <tr>\n",
              "      <th>8</th>\n",
              "      <td>8</td>\n",
              "      <td>7.0</td>\n",
              "      <td>-0.894286</td>\n",
              "      <td>0.286157</td>\n",
              "      <td>-0.113192</td>\n",
              "      <td>-0.271526</td>\n",
              "      <td>2.669599</td>\n",
              "      <td>3.721818</td>\n",
              "      <td>0.370145</td>\n",
              "      <td>0.851084</td>\n",
              "      <td>...</td>\n",
              "      <td>-0.073425</td>\n",
              "      <td>-0.268092</td>\n",
              "      <td>-0.204233</td>\n",
              "      <td>1.011592</td>\n",
              "      <td>0.373205</td>\n",
              "      <td>-0.384157</td>\n",
              "      <td>0.011747</td>\n",
              "      <td>0.142404</td>\n",
              "      <td>93.20</td>\n",
              "      <td>0</td>\n",
              "    </tr>\n",
              "    <tr>\n",
              "      <th>9</th>\n",
              "      <td>9</td>\n",
              "      <td>9.0</td>\n",
              "      <td>-0.338262</td>\n",
              "      <td>1.119593</td>\n",
              "      <td>1.044367</td>\n",
              "      <td>-0.222187</td>\n",
              "      <td>0.499361</td>\n",
              "      <td>-0.246761</td>\n",
              "      <td>0.651583</td>\n",
              "      <td>0.069539</td>\n",
              "      <td>...</td>\n",
              "      <td>-0.246914</td>\n",
              "      <td>-0.633753</td>\n",
              "      <td>-0.120794</td>\n",
              "      <td>-0.385050</td>\n",
              "      <td>-0.069733</td>\n",
              "      <td>0.094199</td>\n",
              "      <td>0.246219</td>\n",
              "      <td>0.083076</td>\n",
              "      <td>3.68</td>\n",
              "      <td>0</td>\n",
              "    </tr>\n",
              "  </tbody>\n",
              "</table>\n",
              "<p>10 rows × 32 columns</p>\n",
              "</div>\n",
              "      <button class=\"colab-df-convert\" onclick=\"convertToInteractive('df-2f24b73e-9b83-4c78-ab33-8a5b2d4f6ed8')\"\n",
              "              title=\"Convert this dataframe to an interactive table.\"\n",
              "              style=\"display:none;\">\n",
              "        \n",
              "  <svg xmlns=\"http://www.w3.org/2000/svg\" height=\"24px\"viewBox=\"0 0 24 24\"\n",
              "       width=\"24px\">\n",
              "    <path d=\"M0 0h24v24H0V0z\" fill=\"none\"/>\n",
              "    <path d=\"M18.56 5.44l.94 2.06.94-2.06 2.06-.94-2.06-.94-.94-2.06-.94 2.06-2.06.94zm-11 1L8.5 8.5l.94-2.06 2.06-.94-2.06-.94L8.5 2.5l-.94 2.06-2.06.94zm10 10l.94 2.06.94-2.06 2.06-.94-2.06-.94-.94-2.06-.94 2.06-2.06.94z\"/><path d=\"M17.41 7.96l-1.37-1.37c-.4-.4-.92-.59-1.43-.59-.52 0-1.04.2-1.43.59L10.3 9.45l-7.72 7.72c-.78.78-.78 2.05 0 2.83L4 21.41c.39.39.9.59 1.41.59.51 0 1.02-.2 1.41-.59l7.78-7.78 2.81-2.81c.8-.78.8-2.07 0-2.86zM5.41 20L4 18.59l7.72-7.72 1.47 1.35L5.41 20z\"/>\n",
              "  </svg>\n",
              "      </button>\n",
              "      \n",
              "  <style>\n",
              "    .colab-df-container {\n",
              "      display:flex;\n",
              "      flex-wrap:wrap;\n",
              "      gap: 12px;\n",
              "    }\n",
              "\n",
              "    .colab-df-convert {\n",
              "      background-color: #E8F0FE;\n",
              "      border: none;\n",
              "      border-radius: 50%;\n",
              "      cursor: pointer;\n",
              "      display: none;\n",
              "      fill: #1967D2;\n",
              "      height: 32px;\n",
              "      padding: 0 0 0 0;\n",
              "      width: 32px;\n",
              "    }\n",
              "\n",
              "    .colab-df-convert:hover {\n",
              "      background-color: #E2EBFA;\n",
              "      box-shadow: 0px 1px 2px rgba(60, 64, 67, 0.3), 0px 1px 3px 1px rgba(60, 64, 67, 0.15);\n",
              "      fill: #174EA6;\n",
              "    }\n",
              "\n",
              "    [theme=dark] .colab-df-convert {\n",
              "      background-color: #3B4455;\n",
              "      fill: #D2E3FC;\n",
              "    }\n",
              "\n",
              "    [theme=dark] .colab-df-convert:hover {\n",
              "      background-color: #434B5C;\n",
              "      box-shadow: 0px 1px 3px 1px rgba(0, 0, 0, 0.15);\n",
              "      filter: drop-shadow(0px 1px 2px rgba(0, 0, 0, 0.3));\n",
              "      fill: #FFFFFF;\n",
              "    }\n",
              "  </style>\n",
              "\n",
              "      <script>\n",
              "        const buttonEl =\n",
              "          document.querySelector('#df-2f24b73e-9b83-4c78-ab33-8a5b2d4f6ed8 button.colab-df-convert');\n",
              "        buttonEl.style.display =\n",
              "          google.colab.kernel.accessAllowed ? 'block' : 'none';\n",
              "\n",
              "        async function convertToInteractive(key) {\n",
              "          const element = document.querySelector('#df-2f24b73e-9b83-4c78-ab33-8a5b2d4f6ed8');\n",
              "          const dataTable =\n",
              "            await google.colab.kernel.invokeFunction('convertToInteractive',\n",
              "                                                     [key], {});\n",
              "          if (!dataTable) return;\n",
              "\n",
              "          const docLinkHtml = 'Like what you see? Visit the ' +\n",
              "            '<a target=\"_blank\" href=https://colab.research.google.com/notebooks/data_table.ipynb>data table notebook</a>'\n",
              "            + ' to learn more about interactive tables.';\n",
              "          element.innerHTML = '';\n",
              "          dataTable['output_type'] = 'display_data';\n",
              "          await google.colab.output.renderOutput(dataTable, element);\n",
              "          const docLink = document.createElement('div');\n",
              "          docLink.innerHTML = docLinkHtml;\n",
              "          element.appendChild(docLink);\n",
              "        }\n",
              "      </script>\n",
              "    </div>\n",
              "  </div>\n",
              "  "
            ]
          },
          "metadata": {},
          "execution_count": 9
        }
      ],
      "source": [
        "df_unidos[:10]"
      ]
    },
    {
      "cell_type": "code",
      "execution_count": null,
      "id": "841ddaf4-5234-4382-af56-8eae3a674638",
      "metadata": {
        "colab": {
          "base_uri": "https://localhost:8080/"
        },
        "id": "841ddaf4-5234-4382-af56-8eae3a674638",
        "outputId": "f33dd1f1-2e9a-40ce-f2d8-c0adc2851bec"
      },
      "outputs": [
        {
          "output_type": "execute_result",
          "data": {
            "text/plain": [
              "Unnamed: 0      int64\n",
              "Time          float64\n",
              "V1            float64\n",
              "V2            float64\n",
              "V3            float64\n",
              "V4            float64\n",
              "V5            float64\n",
              "V6            float64\n",
              "V7            float64\n",
              "V8            float64\n",
              "V9            float64\n",
              "V10           float64\n",
              "V11           float64\n",
              "V12           float64\n",
              "V13           float64\n",
              "V14           float64\n",
              "V15           float64\n",
              "V16           float64\n",
              "V17           float64\n",
              "V18           float64\n",
              "V19           float64\n",
              "V20           float64\n",
              "V21           float64\n",
              "V22           float64\n",
              "V23           float64\n",
              "V24           float64\n",
              "V25           float64\n",
              "V26           float64\n",
              "V27           float64\n",
              "V28           float64\n",
              "Amount        float64\n",
              "Class           int64\n",
              "dtype: object"
            ]
          },
          "metadata": {},
          "execution_count": 10
        }
      ],
      "source": [
        "#1.3\n",
        "df_unidos.dtypes"
      ]
    },
    {
      "cell_type": "code",
      "execution_count": null,
      "id": "7a4a922b-2525-4c0f-bcd8-4520f4c34ac8",
      "metadata": {
        "colab": {
          "base_uri": "https://localhost:8080/"
        },
        "id": "7a4a922b-2525-4c0f-bcd8-4520f4c34ac8",
        "outputId": "1b9293aa-c8bf-4bcd-fb81-1b49c3c765ec"
      },
      "outputs": [
        {
          "output_type": "execute_result",
          "data": {
            "text/plain": [
              "Unnamed: 0    0\n",
              "Time          0\n",
              "V1            0\n",
              "V2            0\n",
              "V3            0\n",
              "V4            0\n",
              "V5            0\n",
              "V6            0\n",
              "V7            0\n",
              "V8            0\n",
              "V9            0\n",
              "V10           0\n",
              "V11           0\n",
              "V12           0\n",
              "V13           0\n",
              "V14           0\n",
              "V15           0\n",
              "V16           0\n",
              "V17           0\n",
              "V18           0\n",
              "V19           0\n",
              "V20           0\n",
              "V21           0\n",
              "V22           0\n",
              "V23           0\n",
              "V24           0\n",
              "V25           0\n",
              "V26           0\n",
              "V27           0\n",
              "V28           0\n",
              "Amount        0\n",
              "Class         0\n",
              "dtype: int64"
            ]
          },
          "metadata": {},
          "execution_count": 11
        }
      ],
      "source": [
        "# 1.4 chequeos de Null\n",
        "df_unidos.isna().sum()"
      ]
    },
    {
      "cell_type": "code",
      "execution_count": null,
      "id": "8b5d523d-455e-4b13-b40c-d8c0444acd93",
      "metadata": {
        "id": "8b5d523d-455e-4b13-b40c-d8c0444acd93"
      },
      "outputs": [],
      "source": [
        "#1.4 podemos ver que el dataSet no posee valores null"
      ]
    },
    {
      "cell_type": "markdown",
      "id": "b8e3ba7f",
      "metadata": {
        "id": "b8e3ba7f"
      },
      "source": [
        "### 2.  Exploración de los datos."
      ]
    },
    {
      "cell_type": "markdown",
      "id": "0eb2f3b6",
      "metadata": {
        "id": "0eb2f3b6"
      },
      "source": [
        "Ahora que ya tenemos nuestra muestra lista para el análisis, es hora de empeezar una exploración estadística con mayor detalle de las variables que componen la muestra. Nuevamente utilizaremos herrramientas que nos provee pandas para esto.\n",
        " 1. Obtenga los estadísticos básicos (media y promedio) de cada una de las columnas. Compare estos valores entre la columna de **time** y la columna **amount**.\n",
        " 2. Tomando en cuenta la columna amount y time ¿podemos decir que la distribución es simétrica en cada una de ellas? Explore esto para distintos conjuntos de valores, por ejemplo, dividiendo la variable con bines de valores de intervalos de 20 [20, 40, 80, 100, max_amount], para ver si la distribución es simétrica en alguno de los mismos.\n",
        " 3. Analizando la columna class (el target). ¿Cómo describirían  la distribución de la misma? Usen un gráfico para mostrar dicha distribución."
      ]
    },
    {
      "cell_type": "code",
      "execution_count": null,
      "id": "b541efe0",
      "metadata": {
        "colab": {
          "base_uri": "https://localhost:8080/",
          "height": 443
        },
        "id": "b541efe0",
        "outputId": "a599c646-cdd5-4860-8537-ca137144c744"
      },
      "outputs": [
        {
          "data": {
            "text/html": [
              "\n",
              "  <div id=\"df-f125a28e-3081-429e-b2ba-3305178bc132\">\n",
              "    <div class=\"colab-df-container\">\n",
              "      <div>\n",
              "<style scoped>\n",
              "    .dataframe tbody tr th:only-of-type {\n",
              "        vertical-align: middle;\n",
              "    }\n",
              "\n",
              "    .dataframe tbody tr th {\n",
              "        vertical-align: top;\n",
              "    }\n",
              "\n",
              "    .dataframe thead th {\n",
              "        text-align: right;\n",
              "    }\n",
              "</style>\n",
              "<table border=\"1\" class=\"dataframe\">\n",
              "  <thead>\n",
              "    <tr style=\"text-align: right;\">\n",
              "      <th></th>\n",
              "      <th>Unnamed: 0</th>\n",
              "      <th>Time</th>\n",
              "      <th>V1</th>\n",
              "      <th>V2</th>\n",
              "      <th>V3</th>\n",
              "      <th>V4</th>\n",
              "      <th>V5</th>\n",
              "      <th>V6</th>\n",
              "      <th>V7</th>\n",
              "      <th>V8</th>\n",
              "      <th>...</th>\n",
              "      <th>V21</th>\n",
              "      <th>V22</th>\n",
              "      <th>V23</th>\n",
              "      <th>V24</th>\n",
              "      <th>V25</th>\n",
              "      <th>V26</th>\n",
              "      <th>V27</th>\n",
              "      <th>V28</th>\n",
              "      <th>Amount</th>\n",
              "      <th>Class</th>\n",
              "    </tr>\n",
              "  </thead>\n",
              "  <tbody>\n",
              "    <tr>\n",
              "      <th>count</th>\n",
              "      <td>284807.000000</td>\n",
              "      <td>284807.000000</td>\n",
              "      <td>2.848070e+05</td>\n",
              "      <td>2.848070e+05</td>\n",
              "      <td>2.848070e+05</td>\n",
              "      <td>2.848070e+05</td>\n",
              "      <td>2.848070e+05</td>\n",
              "      <td>2.848070e+05</td>\n",
              "      <td>2.848070e+05</td>\n",
              "      <td>2.848070e+05</td>\n",
              "      <td>...</td>\n",
              "      <td>2.848070e+05</td>\n",
              "      <td>2.848070e+05</td>\n",
              "      <td>2.848070e+05</td>\n",
              "      <td>2.848070e+05</td>\n",
              "      <td>2.848070e+05</td>\n",
              "      <td>2.848070e+05</td>\n",
              "      <td>2.848070e+05</td>\n",
              "      <td>2.848070e+05</td>\n",
              "      <td>284807.000000</td>\n",
              "      <td>284807.000000</td>\n",
              "    </tr>\n",
              "    <tr>\n",
              "      <th>mean</th>\n",
              "      <td>142403.000000</td>\n",
              "      <td>94813.859575</td>\n",
              "      <td>3.922261e-15</td>\n",
              "      <td>5.619317e-16</td>\n",
              "      <td>-8.769470e-15</td>\n",
              "      <td>2.772356e-15</td>\n",
              "      <td>-1.549320e-15</td>\n",
              "      <td>2.019445e-15</td>\n",
              "      <td>-1.693800e-15</td>\n",
              "      <td>-1.988650e-16</td>\n",
              "      <td>...</td>\n",
              "      <td>1.460592e-16</td>\n",
              "      <td>7.960906e-16</td>\n",
              "      <td>5.242038e-16</td>\n",
              "      <td>4.461367e-15</td>\n",
              "      <td>1.438866e-15</td>\n",
              "      <td>1.704215e-15</td>\n",
              "      <td>-3.672395e-16</td>\n",
              "      <td>-1.228006e-16</td>\n",
              "      <td>88.349619</td>\n",
              "      <td>0.001727</td>\n",
              "    </tr>\n",
              "    <tr>\n",
              "      <th>std</th>\n",
              "      <td>82216.843396</td>\n",
              "      <td>47488.145955</td>\n",
              "      <td>1.958696e+00</td>\n",
              "      <td>1.651309e+00</td>\n",
              "      <td>1.516255e+00</td>\n",
              "      <td>1.415869e+00</td>\n",
              "      <td>1.380247e+00</td>\n",
              "      <td>1.332271e+00</td>\n",
              "      <td>1.237094e+00</td>\n",
              "      <td>1.194353e+00</td>\n",
              "      <td>...</td>\n",
              "      <td>7.345240e-01</td>\n",
              "      <td>7.257016e-01</td>\n",
              "      <td>6.244603e-01</td>\n",
              "      <td>6.056471e-01</td>\n",
              "      <td>5.212781e-01</td>\n",
              "      <td>4.822270e-01</td>\n",
              "      <td>4.036325e-01</td>\n",
              "      <td>3.300833e-01</td>\n",
              "      <td>250.120109</td>\n",
              "      <td>0.041527</td>\n",
              "    </tr>\n",
              "    <tr>\n",
              "      <th>min</th>\n",
              "      <td>0.000000</td>\n",
              "      <td>0.000000</td>\n",
              "      <td>-5.640751e+01</td>\n",
              "      <td>-7.271573e+01</td>\n",
              "      <td>-4.832559e+01</td>\n",
              "      <td>-5.683171e+00</td>\n",
              "      <td>-1.137433e+02</td>\n",
              "      <td>-2.616051e+01</td>\n",
              "      <td>-4.355724e+01</td>\n",
              "      <td>-7.321672e+01</td>\n",
              "      <td>...</td>\n",
              "      <td>-3.483038e+01</td>\n",
              "      <td>-1.093314e+01</td>\n",
              "      <td>-4.480774e+01</td>\n",
              "      <td>-2.836627e+00</td>\n",
              "      <td>-1.029540e+01</td>\n",
              "      <td>-2.604551e+00</td>\n",
              "      <td>-2.256568e+01</td>\n",
              "      <td>-1.543008e+01</td>\n",
              "      <td>0.000000</td>\n",
              "      <td>0.000000</td>\n",
              "    </tr>\n",
              "    <tr>\n",
              "      <th>25%</th>\n",
              "      <td>71201.500000</td>\n",
              "      <td>54201.500000</td>\n",
              "      <td>-9.203734e-01</td>\n",
              "      <td>-5.985499e-01</td>\n",
              "      <td>-8.903648e-01</td>\n",
              "      <td>-8.486401e-01</td>\n",
              "      <td>-6.915971e-01</td>\n",
              "      <td>-7.682956e-01</td>\n",
              "      <td>-5.540759e-01</td>\n",
              "      <td>-2.086297e-01</td>\n",
              "      <td>...</td>\n",
              "      <td>-2.283949e-01</td>\n",
              "      <td>-5.423504e-01</td>\n",
              "      <td>-1.618463e-01</td>\n",
              "      <td>-3.545861e-01</td>\n",
              "      <td>-3.171451e-01</td>\n",
              "      <td>-3.269839e-01</td>\n",
              "      <td>-7.083953e-02</td>\n",
              "      <td>-5.295979e-02</td>\n",
              "      <td>5.600000</td>\n",
              "      <td>0.000000</td>\n",
              "    </tr>\n",
              "    <tr>\n",
              "      <th>50%</th>\n",
              "      <td>142403.000000</td>\n",
              "      <td>84692.000000</td>\n",
              "      <td>1.810880e-02</td>\n",
              "      <td>6.548556e-02</td>\n",
              "      <td>1.798463e-01</td>\n",
              "      <td>-1.984653e-02</td>\n",
              "      <td>-5.433583e-02</td>\n",
              "      <td>-2.741871e-01</td>\n",
              "      <td>4.010308e-02</td>\n",
              "      <td>2.235804e-02</td>\n",
              "      <td>...</td>\n",
              "      <td>-2.945017e-02</td>\n",
              "      <td>6.781943e-03</td>\n",
              "      <td>-1.119293e-02</td>\n",
              "      <td>4.097606e-02</td>\n",
              "      <td>1.659350e-02</td>\n",
              "      <td>-5.213911e-02</td>\n",
              "      <td>1.342146e-03</td>\n",
              "      <td>1.124383e-02</td>\n",
              "      <td>22.000000</td>\n",
              "      <td>0.000000</td>\n",
              "    </tr>\n",
              "    <tr>\n",
              "      <th>75%</th>\n",
              "      <td>213604.500000</td>\n",
              "      <td>139320.500000</td>\n",
              "      <td>1.315642e+00</td>\n",
              "      <td>8.037239e-01</td>\n",
              "      <td>1.027196e+00</td>\n",
              "      <td>7.433413e-01</td>\n",
              "      <td>6.119264e-01</td>\n",
              "      <td>3.985649e-01</td>\n",
              "      <td>5.704361e-01</td>\n",
              "      <td>3.273459e-01</td>\n",
              "      <td>...</td>\n",
              "      <td>1.863772e-01</td>\n",
              "      <td>5.285536e-01</td>\n",
              "      <td>1.476421e-01</td>\n",
              "      <td>4.395266e-01</td>\n",
              "      <td>3.507156e-01</td>\n",
              "      <td>2.409522e-01</td>\n",
              "      <td>9.104512e-02</td>\n",
              "      <td>7.827995e-02</td>\n",
              "      <td>77.165000</td>\n",
              "      <td>0.000000</td>\n",
              "    </tr>\n",
              "    <tr>\n",
              "      <th>max</th>\n",
              "      <td>284806.000000</td>\n",
              "      <td>172792.000000</td>\n",
              "      <td>2.454930e+00</td>\n",
              "      <td>2.205773e+01</td>\n",
              "      <td>9.382558e+00</td>\n",
              "      <td>1.687534e+01</td>\n",
              "      <td>3.480167e+01</td>\n",
              "      <td>7.330163e+01</td>\n",
              "      <td>1.205895e+02</td>\n",
              "      <td>2.000721e+01</td>\n",
              "      <td>...</td>\n",
              "      <td>2.720284e+01</td>\n",
              "      <td>1.050309e+01</td>\n",
              "      <td>2.252841e+01</td>\n",
              "      <td>4.584549e+00</td>\n",
              "      <td>7.519589e+00</td>\n",
              "      <td>3.517346e+00</td>\n",
              "      <td>3.161220e+01</td>\n",
              "      <td>3.384781e+01</td>\n",
              "      <td>25691.160000</td>\n",
              "      <td>1.000000</td>\n",
              "    </tr>\n",
              "  </tbody>\n",
              "</table>\n",
              "<p>8 rows × 32 columns</p>\n",
              "</div>\n",
              "      <button class=\"colab-df-convert\" onclick=\"convertToInteractive('df-f125a28e-3081-429e-b2ba-3305178bc132')\"\n",
              "              title=\"Convert this dataframe to an interactive table.\"\n",
              "              style=\"display:none;\">\n",
              "        \n",
              "  <svg xmlns=\"http://www.w3.org/2000/svg\" height=\"24px\"viewBox=\"0 0 24 24\"\n",
              "       width=\"24px\">\n",
              "    <path d=\"M0 0h24v24H0V0z\" fill=\"none\"/>\n",
              "    <path d=\"M18.56 5.44l.94 2.06.94-2.06 2.06-.94-2.06-.94-.94-2.06-.94 2.06-2.06.94zm-11 1L8.5 8.5l.94-2.06 2.06-.94-2.06-.94L8.5 2.5l-.94 2.06-2.06.94zm10 10l.94 2.06.94-2.06 2.06-.94-2.06-.94-.94-2.06-.94 2.06-2.06.94z\"/><path d=\"M17.41 7.96l-1.37-1.37c-.4-.4-.92-.59-1.43-.59-.52 0-1.04.2-1.43.59L10.3 9.45l-7.72 7.72c-.78.78-.78 2.05 0 2.83L4 21.41c.39.39.9.59 1.41.59.51 0 1.02-.2 1.41-.59l7.78-7.78 2.81-2.81c.8-.78.8-2.07 0-2.86zM5.41 20L4 18.59l7.72-7.72 1.47 1.35L5.41 20z\"/>\n",
              "  </svg>\n",
              "      </button>\n",
              "      \n",
              "  <style>\n",
              "    .colab-df-container {\n",
              "      display:flex;\n",
              "      flex-wrap:wrap;\n",
              "      gap: 12px;\n",
              "    }\n",
              "\n",
              "    .colab-df-convert {\n",
              "      background-color: #E8F0FE;\n",
              "      border: none;\n",
              "      border-radius: 50%;\n",
              "      cursor: pointer;\n",
              "      display: none;\n",
              "      fill: #1967D2;\n",
              "      height: 32px;\n",
              "      padding: 0 0 0 0;\n",
              "      width: 32px;\n",
              "    }\n",
              "\n",
              "    .colab-df-convert:hover {\n",
              "      background-color: #E2EBFA;\n",
              "      box-shadow: 0px 1px 2px rgba(60, 64, 67, 0.3), 0px 1px 3px 1px rgba(60, 64, 67, 0.15);\n",
              "      fill: #174EA6;\n",
              "    }\n",
              "\n",
              "    [theme=dark] .colab-df-convert {\n",
              "      background-color: #3B4455;\n",
              "      fill: #D2E3FC;\n",
              "    }\n",
              "\n",
              "    [theme=dark] .colab-df-convert:hover {\n",
              "      background-color: #434B5C;\n",
              "      box-shadow: 0px 1px 3px 1px rgba(0, 0, 0, 0.15);\n",
              "      filter: drop-shadow(0px 1px 2px rgba(0, 0, 0, 0.3));\n",
              "      fill: #FFFFFF;\n",
              "    }\n",
              "  </style>\n",
              "\n",
              "      <script>\n",
              "        const buttonEl =\n",
              "          document.querySelector('#df-f125a28e-3081-429e-b2ba-3305178bc132 button.colab-df-convert');\n",
              "        buttonEl.style.display =\n",
              "          google.colab.kernel.accessAllowed ? 'block' : 'none';\n",
              "\n",
              "        async function convertToInteractive(key) {\n",
              "          const element = document.querySelector('#df-f125a28e-3081-429e-b2ba-3305178bc132');\n",
              "          const dataTable =\n",
              "            await google.colab.kernel.invokeFunction('convertToInteractive',\n",
              "                                                     [key], {});\n",
              "          if (!dataTable) return;\n",
              "\n",
              "          const docLinkHtml = 'Like what you see? Visit the ' +\n",
              "            '<a target=\"_blank\" href=https://colab.research.google.com/notebooks/data_table.ipynb>data table notebook</a>'\n",
              "            + ' to learn more about interactive tables.';\n",
              "          element.innerHTML = '';\n",
              "          dataTable['output_type'] = 'display_data';\n",
              "          await google.colab.output.renderOutput(dataTable, element);\n",
              "          const docLink = document.createElement('div');\n",
              "          docLink.innerHTML = docLinkHtml;\n",
              "          element.appendChild(docLink);\n",
              "        }\n",
              "      </script>\n",
              "    </div>\n",
              "  </div>\n",
              "  "
            ],
            "text/plain": [
              "          Unnamed: 0           Time            V1            V2            V3  \\\n",
              "count  284807.000000  284807.000000  2.848070e+05  2.848070e+05  2.848070e+05   \n",
              "mean   142403.000000   94813.859575  3.922261e-15  5.619317e-16 -8.769470e-15   \n",
              "std     82216.843396   47488.145955  1.958696e+00  1.651309e+00  1.516255e+00   \n",
              "min         0.000000       0.000000 -5.640751e+01 -7.271573e+01 -4.832559e+01   \n",
              "25%     71201.500000   54201.500000 -9.203734e-01 -5.985499e-01 -8.903648e-01   \n",
              "50%    142403.000000   84692.000000  1.810880e-02  6.548556e-02  1.798463e-01   \n",
              "75%    213604.500000  139320.500000  1.315642e+00  8.037239e-01  1.027196e+00   \n",
              "max    284806.000000  172792.000000  2.454930e+00  2.205773e+01  9.382558e+00   \n",
              "\n",
              "                 V4            V5            V6            V7            V8  \\\n",
              "count  2.848070e+05  2.848070e+05  2.848070e+05  2.848070e+05  2.848070e+05   \n",
              "mean   2.772356e-15 -1.549320e-15  2.019445e-15 -1.693800e-15 -1.988650e-16   \n",
              "std    1.415869e+00  1.380247e+00  1.332271e+00  1.237094e+00  1.194353e+00   \n",
              "min   -5.683171e+00 -1.137433e+02 -2.616051e+01 -4.355724e+01 -7.321672e+01   \n",
              "25%   -8.486401e-01 -6.915971e-01 -7.682956e-01 -5.540759e-01 -2.086297e-01   \n",
              "50%   -1.984653e-02 -5.433583e-02 -2.741871e-01  4.010308e-02  2.235804e-02   \n",
              "75%    7.433413e-01  6.119264e-01  3.985649e-01  5.704361e-01  3.273459e-01   \n",
              "max    1.687534e+01  3.480167e+01  7.330163e+01  1.205895e+02  2.000721e+01   \n",
              "\n",
              "       ...           V21           V22           V23           V24  \\\n",
              "count  ...  2.848070e+05  2.848070e+05  2.848070e+05  2.848070e+05   \n",
              "mean   ...  1.460592e-16  7.960906e-16  5.242038e-16  4.461367e-15   \n",
              "std    ...  7.345240e-01  7.257016e-01  6.244603e-01  6.056471e-01   \n",
              "min    ... -3.483038e+01 -1.093314e+01 -4.480774e+01 -2.836627e+00   \n",
              "25%    ... -2.283949e-01 -5.423504e-01 -1.618463e-01 -3.545861e-01   \n",
              "50%    ... -2.945017e-02  6.781943e-03 -1.119293e-02  4.097606e-02   \n",
              "75%    ...  1.863772e-01  5.285536e-01  1.476421e-01  4.395266e-01   \n",
              "max    ...  2.720284e+01  1.050309e+01  2.252841e+01  4.584549e+00   \n",
              "\n",
              "                V25           V26           V27           V28         Amount  \\\n",
              "count  2.848070e+05  2.848070e+05  2.848070e+05  2.848070e+05  284807.000000   \n",
              "mean   1.438866e-15  1.704215e-15 -3.672395e-16 -1.228006e-16      88.349619   \n",
              "std    5.212781e-01  4.822270e-01  4.036325e-01  3.300833e-01     250.120109   \n",
              "min   -1.029540e+01 -2.604551e+00 -2.256568e+01 -1.543008e+01       0.000000   \n",
              "25%   -3.171451e-01 -3.269839e-01 -7.083953e-02 -5.295979e-02       5.600000   \n",
              "50%    1.659350e-02 -5.213911e-02  1.342146e-03  1.124383e-02      22.000000   \n",
              "75%    3.507156e-01  2.409522e-01  9.104512e-02  7.827995e-02      77.165000   \n",
              "max    7.519589e+00  3.517346e+00  3.161220e+01  3.384781e+01   25691.160000   \n",
              "\n",
              "               Class  \n",
              "count  284807.000000  \n",
              "mean        0.001727  \n",
              "std         0.041527  \n",
              "min         0.000000  \n",
              "25%         0.000000  \n",
              "50%         0.000000  \n",
              "75%         0.000000  \n",
              "max         1.000000  \n",
              "\n",
              "[8 rows x 32 columns]"
            ]
          },
          "execution_count": 10,
          "metadata": {},
          "output_type": "execute_result"
        }
      ],
      "source": [
        "#2.1\n",
        "df_unidos.describe()"
      ]
    },
    {
      "cell_type": "code",
      "execution_count": null,
      "id": "de6ab0d3-faa0-4028-b38f-fb8e7fc61aba",
      "metadata": {
        "colab": {
          "base_uri": "https://localhost:8080/"
        },
        "id": "de6ab0d3-faa0-4028-b38f-fb8e7fc61aba",
        "outputId": "8f2a9a2c-e98d-4698-dd22-aeff1d3a960c"
      },
      "outputs": [
        {
          "output_type": "execute_result",
          "data": {
            "text/plain": [
              "count    284807.000000\n",
              "mean         88.349619\n",
              "std         250.120109\n",
              "min           0.000000\n",
              "25%           5.600000\n",
              "50%          22.000000\n",
              "75%          77.165000\n",
              "max       25691.160000\n",
              "Name: Amount, dtype: float64"
            ]
          },
          "metadata": {},
          "execution_count": 12
        }
      ],
      "source": [
        "df_unidos['Amount'].describe()"
      ]
    },
    {
      "cell_type": "code",
      "execution_count": null,
      "id": "ba636d67-65ac-4265-8874-d3b3b80be618",
      "metadata": {
        "colab": {
          "base_uri": "https://localhost:8080/"
        },
        "id": "ba636d67-65ac-4265-8874-d3b3b80be618",
        "outputId": "bea7d37a-64e7-459f-c62f-e263b16f4d7d"
      },
      "outputs": [
        {
          "output_type": "execute_result",
          "data": {
            "text/plain": [
              "count    284807.000000\n",
              "mean      94813.859575\n",
              "std       47488.145955\n",
              "min           0.000000\n",
              "25%       54201.500000\n",
              "50%       84692.000000\n",
              "75%      139320.500000\n",
              "max      172792.000000\n",
              "Name: Time, dtype: float64"
            ]
          },
          "metadata": {},
          "execution_count": 13
        }
      ],
      "source": [
        "df_unidos['Time'].describe()"
      ]
    },
    {
      "cell_type": "code",
      "execution_count": null,
      "id": "08a8be0f-9333-4ea9-a2c8-1703d44cbe76",
      "metadata": {
        "colab": {
          "base_uri": "https://localhost:8080/",
          "height": 311
        },
        "id": "08a8be0f-9333-4ea9-a2c8-1703d44cbe76",
        "outputId": "10608ff5-dddd-465d-8928-526a7bd72255"
      },
      "outputs": [
        {
          "output_type": "display_data",
          "data": {
            "text/plain": [
              "<Figure size 2160x360 with 1 Axes>"
            ],
            "image/png": "[encoded data removed]"
          },
          "metadata": {
            "needs_background": "light"
          }
        }
      ],
      "source": [
        "#2.2\n",
        "sns.displot(df_unidos['Time'], aspect=6, bins=20)\n",
        "plt.ticklabel_format(style='plain', axis='x')"
      ]
    },
    {
      "cell_type": "code",
      "execution_count": null,
      "id": "53ed6448-212f-49c7-8ddb-325bd1bd762c",
      "metadata": {
        "id": "53ed6448-212f-49c7-8ddb-325bd1bd762c"
      },
      "outputs": [],
      "source": [
        "dia=86400\n",
        "Dis=df_unidos['Time'].max()-dia\n"
      ]
    },
    {
      "cell_type": "code",
      "execution_count": null,
      "id": "d3ca8590-e033-4af0-856e-b919f866a453",
      "metadata": {
        "colab": {
          "base_uri": "https://localhost:8080/",
          "height": 311
        },
        "id": "d3ca8590-e033-4af0-856e-b919f866a453",
        "outputId": "82dc6d6d-5a98-4588-8f86-2b2cca3d4823"
      },
      "outputs": [
        {
          "output_type": "display_data",
          "data": {
            "text/plain": [
              "<Figure size 2160x360 with 1 Axes>"
            ],
            "image/png": "[encoded data removed]"
          },
          "metadata": {
            "needs_background": "light"
          }
        }
      ],
      "source": [
        "sns.displot(df_1['Time'], aspect=6, bins=20)\n",
        "plt.ticklabel_format(style='plain', axis='x')"
      ]
    },
    {
      "cell_type": "code",
      "execution_count": null,
      "id": "8ffa47a6-ce8e-41e3-92d3-37cb6e34c563",
      "metadata": {
        "colab": {
          "base_uri": "https://localhost:8080/"
        },
        "id": "8ffa47a6-ce8e-41e3-92d3-37cb6e34c563",
        "outputId": "fa4c905c-6838-48d3-a51d-fe2ecd736764"
      },
      "outputs": [
        {
          "output_type": "stream",
          "name": "stdout",
          "text": [
            "moda:  0    163152.0\n",
            "dtype: float64\n",
            "mediana:  84692.0\n",
            "promedio:  94813.85957508067\n"
          ]
        }
      ],
      "source": [
        "promedio=df_unidos['Time'].mean()\n",
        "mediana=df_unidos['Time'].median()\n",
        "moda=df_unidos['Time'].mode()\n",
        "print(\"moda: \", moda)\n",
        "print(\"mediana: \", mediana)\n",
        "print(\"promedio: \", promedio)\n",
        "\n",
        "\n"
      ]
    },
    {
      "cell_type": "markdown",
      "id": "393b95ff-eaf1-46a8-b965-3a6f3e8e66ed",
      "metadata": {
        "id": "393b95ff-eaf1-46a8-b965-3a6f3e8e66ed"
      },
      "source": [
        "* Podemos decir que Time es una serie asimetrica derecha, ya que las media, moda y mediana no son iguales"
      ]
    },
    {
      "cell_type": "code",
      "execution_count": null,
      "id": "cae1e769-5ced-481e-8196-3c0d2ded740b",
      "metadata": {
        "colab": {
          "base_uri": "https://localhost:8080/",
          "height": 311
        },
        "id": "cae1e769-5ced-481e-8196-3c0d2ded740b",
        "outputId": "2a31a26f-b567-4a13-aa02-e3180b280156"
      },
      "outputs": [
        {
          "output_type": "display_data",
          "data": {
            "text/plain": [
              "<Figure size 2160x360 with 1 Axes>"
            ],
            "image/png": "[encoded data removed]"
          },
          "metadata": {
            "needs_background": "light"
          }
        }
      ],
      "source": [
        "sns.displot(df_unidos['Amount'], aspect=6)\n",
        "plt.ticklabel_format(style='plain', axis='y')"
      ]
    },
    {
      "cell_type": "code",
      "execution_count": null,
      "id": "5349a48f-a3b4-4a42-91da-4aeccd5be59f",
      "metadata": {
        "colab": {
          "base_uri": "https://localhost:8080/"
        },
        "id": "5349a48f-a3b4-4a42-91da-4aeccd5be59f",
        "outputId": "3eaca49c-4c3c-4f7b-a7c5-de27aa7d7b86"
      },
      "outputs": [
        {
          "output_type": "execute_result",
          "data": {
            "text/plain": [
              "0.002       0.00000\n",
              "0.200       3.57000\n",
              "0.010       0.12000\n",
              "0.020       0.76000\n",
              "0.950     365.00000\n",
              "0.980     691.05760\n",
              "0.990    1017.97000\n",
              "0.995    1456.98770\n",
              "0.998    2199.38088\n",
              "Name: Amount, dtype: float64"
            ]
          },
          "metadata": {},
          "execution_count": 19
        }
      ],
      "source": [
        "df_unidos['Amount'].quantile([0.002,0.2,.01, .02,.95, .98, .99, .995, .998])"
      ]
    },
    {
      "cell_type": "code",
      "execution_count": null,
      "id": "f032c206-54fc-4287-8b20-a4ab7db96979",
      "metadata": {
        "colab": {
          "base_uri": "https://localhost:8080/"
        },
        "id": "f032c206-54fc-4287-8b20-a4ab7db96979",
        "outputId": "042f2e0a-a5ad-4820-9b53-db1a9e6d77be"
      },
      "outputs": [
        {
          "output_type": "stream",
          "name": "stdout",
          "text": [
            "284807\n",
            "283382\n"
          ]
        }
      ],
      "source": [
        "p=df_unidos['Amount'].quantile(.995) # cuantil 0.995\n",
        "a=df_unidos['Amount'].quantile(0.005) # cuantil 0.005\n",
        "\n",
        "print(len(df_unidos))\n",
        "df_unidos = df_unidos[df_unidos['Amount']<=p]\n",
        "df_unidos = df_unidos[df_unidos['Amount']>=a]\n",
        "print(len(df_unidos))"
      ]
    },
    {
      "cell_type": "code",
      "execution_count": null,
      "id": "5c3b1b77-d5a3-4475-8b33-7a8fc6f4b2dc",
      "metadata": {
        "colab": {
          "base_uri": "https://localhost:8080/"
        },
        "id": "5c3b1b77-d5a3-4475-8b33-7a8fc6f4b2dc",
        "outputId": "87feff73-1fa0-4297-e0df-d86d60544d19"
      },
      "outputs": [
        {
          "output_type": "execute_result",
          "data": {
            "text/plain": [
              "0.002       0.00000\n",
              "0.200       3.56000\n",
              "0.010       0.12000\n",
              "0.020       0.76000\n",
              "0.950     340.00000\n",
              "0.980     599.00000\n",
              "0.990     826.51000\n",
              "0.995    1019.07690\n",
              "0.998    1231.01904\n",
              "Name: Amount, dtype: float64"
            ]
          },
          "metadata": {},
          "execution_count": 21
        }
      ],
      "source": [
        "df_unidos['Amount'].quantile([0.002,0.2,.01, .02,.95, .98, .99, .995, .998])"
      ]
    },
    {
      "cell_type": "code",
      "execution_count": null,
      "id": "803ac07a-f3ee-4a2e-a5bd-a9c5cb07dadf",
      "metadata": {
        "colab": {
          "base_uri": "https://localhost:8080/",
          "height": 369
        },
        "id": "803ac07a-f3ee-4a2e-a5bd-a9c5cb07dadf",
        "outputId": "801873f6-8756-4b2f-c555-27c691ac61fe"
      },
      "outputs": [
        {
          "output_type": "display_data",
          "data": {
            "text/plain": [
              "<Figure size 1440x360 with 1 Axes>"
            ],
            "image/png": "[encoded data removed]"
          },
          "metadata": {
            "needs_background": "light"
          }
        }
      ],
      "source": [
        "sns.displot(df_unidos['Amount'], aspect=4, bins=15)\n",
        "plt.ticklabel_format(style='plain', axis='x')"
      ]
    },
    {
      "cell_type": "code",
      "execution_count": null,
      "id": "dfedea02-e29e-4927-a19c-620d42bb9a50",
      "metadata": {
        "colab": {
          "base_uri": "https://localhost:8080/"
        },
        "id": "dfedea02-e29e-4927-a19c-620d42bb9a50",
        "outputId": "ed84f104-6905-4f13-9190-27565b74898e"
      },
      "outputs": [
        {
          "output_type": "stream",
          "name": "stdout",
          "text": [
            "21.74\n",
            "76.43264071108294\n"
          ]
        }
      ],
      "source": [
        "promedio=df_unidos['Amount'].mean()\n",
        "mediana=df_unidos['Amount'].median()\n",
        "print(mediana)\n",
        "print(promedio)"
      ]
    },
    {
      "cell_type": "markdown",
      "id": "afe18ca4-b02d-47d1-a914-33c22c4b3f3b",
      "metadata": {
        "id": "afe18ca4-b02d-47d1-a914-33c22c4b3f3b"
      },
      "source": [
        "* Podemos apreciar que tiene una simetria derecha igual que la variable Time"
      ]
    },
    {
      "cell_type": "code",
      "execution_count": null,
      "id": "7f6a9e02-83df-4969-9e3c-264683497397",
      "metadata": {
        "colab": {
          "base_uri": "https://localhost:8080/",
          "height": 311
        },
        "id": "7f6a9e02-83df-4969-9e3c-264683497397",
        "outputId": "1479ac04-9931-43f2-dd0c-7caed14f01c3"
      },
      "outputs": [
        {
          "output_type": "display_data",
          "data": {
            "text/plain": [
              "<Figure size 2160x360 with 1 Axes>"
            ],
            "image/png": "[encoded data removed]"
          },
          "metadata": {
            "needs_background": "light"
          }
        }
      ],
      "source": [
        "sns.displot(df_unidos['Class'], aspect=6)\n",
        "plt.ticklabel_format(style='plain', axis='x')"
      ]
    },
    {
      "cell_type": "code",
      "execution_count": null,
      "id": "17a03199-ca41-4d6c-9f8b-adcd86c2b263",
      "metadata": {
        "colab": {
          "base_uri": "https://localhost:8080/",
          "height": 279
        },
        "id": "17a03199-ca41-4d6c-9f8b-adcd86c2b263",
        "outputId": "7f87089e-affa-495e-a494-8d1e6943f2d0"
      },
      "outputs": [
        {
          "output_type": "display_data",
          "data": {
            "text/plain": [
              "<Figure size 432x288 with 1 Axes>"
            ],
            "image/png": "[encoded data removed]"
          },
          "metadata": {
            "needs_background": "light"
          }
        }
      ],
      "source": [
        "#df_unidos.dispersion(x=df_unidos['Class'],y=df_unidos['Class'])\n",
        "pp=df_unidos.plot('Class','Amount',kind=\"scatter\")\n"
      ]
    },
    {
      "cell_type": "code",
      "execution_count": null,
      "id": "b9794366-6e81-4aaa-a779-561d30f55681",
      "metadata": {
        "colab": {
          "base_uri": "https://localhost:8080/"
        },
        "id": "b9794366-6e81-4aaa-a779-561d30f55681",
        "outputId": "a7ed57be-e100-4139-b9ef-86d8801ccb0c"
      },
      "outputs": [
        {
          "output_type": "execute_result",
          "data": {
            "text/plain": [
              "count    283382.000000\n",
              "mean          0.001726\n",
              "std           0.041504\n",
              "min           0.000000\n",
              "25%           0.000000\n",
              "50%           0.000000\n",
              "75%           0.000000\n",
              "max           1.000000\n",
              "Name: Class, dtype: float64"
            ]
          },
          "metadata": {},
          "execution_count": 26
        }
      ],
      "source": [
        "df_unidos['Class'].describe()"
      ]
    },
    {
      "cell_type": "code",
      "execution_count": null,
      "id": "de5cc841-1c0b-48f6-9de7-7104fb1a6545",
      "metadata": {
        "colab": {
          "base_uri": "https://localhost:8080/"
        },
        "id": "de5cc841-1c0b-48f6-9de7-7104fb1a6545",
        "outputId": "82db04c0-311a-4645-90f2-62f9fa1ed50b"
      },
      "outputs": [
        {
          "output_type": "stream",
          "name": "stdout",
          "text": [
            "283382\n"
          ]
        }
      ],
      "source": [
        "valores=df_unidos['Class'].count()\n",
        "print(valores)"
      ]
    },
    {
      "cell_type": "code",
      "execution_count": null,
      "id": "dd0774e0-eb0b-485b-9271-43ce5ba1cdc5",
      "metadata": {
        "colab": {
          "base_uri": "https://localhost:8080/",
          "height": 298
        },
        "id": "dd0774e0-eb0b-485b-9271-43ce5ba1cdc5",
        "outputId": "f5f95c4a-bdb0-407c-fc11-42047964af65"
      },
      "outputs": [
        {
          "output_type": "execute_result",
          "data": {
            "text/plain": [
              "      Unnamed: 0                                                         \\\n",
              "           count           mean           std    min      25%       50%   \n",
              "Class                                                                     \n",
              "0       282893.0  142477.564111  82214.243585    0.0  71329.0  142451.0   \n",
              "1          489.0  119143.112474  83139.587498  541.0  42784.0  119714.0   \n",
              "\n",
              "                               Time                ...       V28             \\\n",
              "            75%       max     count          mean  ...       75%        max   \n",
              "Class                                              ...                        \n",
              "0      213677.0  284806.0  282893.0  94851.041956  ...  0.076805  33.847808   \n",
              "1      189587.0  281674.0     489.0  80657.421268  ...  0.380246   1.779364   \n",
              "\n",
              "         Amount                                                             \n",
              "          count        mean         std  min   25%    50%     75%      max  \n",
              "Class                                                                       \n",
              "0      282893.0   76.371445  151.882873  0.0  5.49  21.75   75.65  1456.59  \n",
              "1         489.0  111.835358  219.553491  0.0  1.00   9.13  104.03  1402.16  \n",
              "\n",
              "[2 rows x 248 columns]"
            ],
            "text/html": [
              "\n",
              "  <div id=\"df-8aab78f6-1534-4f1e-ac9c-4f40e4b9cc60\">\n",
              "    <div class=\"colab-df-container\">\n",
              "      <div>\n",
              "<style scoped>\n",
              "    .dataframe tbody tr th:only-of-type {\n",
              "        vertical-align: middle;\n",
              "    }\n",
              "\n",
              "    .dataframe tbody tr th {\n",
              "        vertical-align: top;\n",
              "    }\n",
              "\n",
              "    .dataframe thead tr th {\n",
              "        text-align: left;\n",
              "    }\n",
              "\n",
              "    .dataframe thead tr:last-of-type th {\n",
              "        text-align: right;\n",
              "    }\n",
              "</style>\n",
              "<table border=\"1\" class=\"dataframe\">\n",
              "  <thead>\n",
              "    <tr>\n",
              "      <th></th>\n",
              "      <th colspan=\"8\" halign=\"left\">Unnamed: 0</th>\n",
              "      <th colspan=\"2\" halign=\"left\">Time</th>\n",
              "      <th>...</th>\n",
              "      <th colspan=\"2\" halign=\"left\">V28</th>\n",
              "      <th colspan=\"8\" halign=\"left\">Amount</th>\n",
              "    </tr>\n",
              "    <tr>\n",
              "      <th></th>\n",
              "      <th>count</th>\n",
              "      <th>mean</th>\n",
              "      <th>std</th>\n",
              "      <th>min</th>\n",
              "      <th>25%</th>\n",
              "      <th>50%</th>\n",
              "      <th>75%</th>\n",
              "      <th>max</th>\n",
              "      <th>count</th>\n",
              "      <th>mean</th>\n",
              "      <th>...</th>\n",
              "      <th>75%</th>\n",
              "      <th>max</th>\n",
              "      <th>count</th>\n",
              "      <th>mean</th>\n",
              "      <th>std</th>\n",
              "      <th>min</th>\n",
              "      <th>25%</th>\n",
              "      <th>50%</th>\n",
              "      <th>75%</th>\n",
              "      <th>max</th>\n",
              "    </tr>\n",
              "    <tr>\n",
              "      <th>Class</th>\n",
              "      <th></th>\n",
              "      <th></th>\n",
              "      <th></th>\n",
              "      <th></th>\n",
              "      <th></th>\n",
              "      <th></th>\n",
              "      <th></th>\n",
              "      <th></th>\n",
              "      <th></th>\n",
              "      <th></th>\n",
              "      <th></th>\n",
              "      <th></th>\n",
              "      <th></th>\n",
              "      <th></th>\n",
              "      <th></th>\n",
              "      <th></th>\n",
              "      <th></th>\n",
              "      <th></th>\n",
              "      <th></th>\n",
              "      <th></th>\n",
              "      <th></th>\n",
              "    </tr>\n",
              "  </thead>\n",
              "  <tbody>\n",
              "    <tr>\n",
              "      <th>0</th>\n",
              "      <td>282893.0</td>\n",
              "      <td>142477.564111</td>\n",
              "      <td>82214.243585</td>\n",
              "      <td>0.0</td>\n",
              "      <td>71329.0</td>\n",
              "      <td>142451.0</td>\n",
              "      <td>213677.0</td>\n",
              "      <td>284806.0</td>\n",
              "      <td>282893.0</td>\n",
              "      <td>94851.041956</td>\n",
              "      <td>...</td>\n",
              "      <td>0.076805</td>\n",
              "      <td>33.847808</td>\n",
              "      <td>282893.0</td>\n",
              "      <td>76.371445</td>\n",
              "      <td>151.882873</td>\n",
              "      <td>0.0</td>\n",
              "      <td>5.49</td>\n",
              "      <td>21.75</td>\n",
              "      <td>75.65</td>\n",
              "      <td>1456.59</td>\n",
              "    </tr>\n",
              "    <tr>\n",
              "      <th>1</th>\n",
              "      <td>489.0</td>\n",
              "      <td>119143.112474</td>\n",
              "      <td>83139.587498</td>\n",
              "      <td>541.0</td>\n",
              "      <td>42784.0</td>\n",
              "      <td>119714.0</td>\n",
              "      <td>189587.0</td>\n",
              "      <td>281674.0</td>\n",
              "      <td>489.0</td>\n",
              "      <td>80657.421268</td>\n",
              "      <td>...</td>\n",
              "      <td>0.380246</td>\n",
              "      <td>1.779364</td>\n",
              "      <td>489.0</td>\n",
              "      <td>111.835358</td>\n",
              "      <td>219.553491</td>\n",
              "      <td>0.0</td>\n",
              "      <td>1.00</td>\n",
              "      <td>9.13</td>\n",
              "      <td>104.03</td>\n",
              "      <td>1402.16</td>\n",
              "    </tr>\n",
              "  </tbody>\n",
              "</table>\n",
              "<p>2 rows × 248 columns</p>\n",
              "</div>\n",
              "      <button class=\"colab-df-convert\" onclick=\"convertToInteractive('df-8aab78f6-1534-4f1e-ac9c-4f40e4b9cc60')\"\n",
              "              title=\"Convert this dataframe to an interactive table.\"\n",
              "              style=\"display:none;\">\n",
              "        \n",
              "  <svg xmlns=\"http://www.w3.org/2000/svg\" height=\"24px\"viewBox=\"0 0 24 24\"\n",
              "       width=\"24px\">\n",
              "    <path d=\"M0 0h24v24H0V0z\" fill=\"none\"/>\n",
              "    <path d=\"M18.56 5.44l.94 2.06.94-2.06 2.06-.94-2.06-.94-.94-2.06-.94 2.06-2.06.94zm-11 1L8.5 8.5l.94-2.06 2.06-.94-2.06-.94L8.5 2.5l-.94 2.06-2.06.94zm10 10l.94 2.06.94-2.06 2.06-.94-2.06-.94-.94-2.06-.94 2.06-2.06.94z\"/><path d=\"M17.41 7.96l-1.37-1.37c-.4-.4-.92-.59-1.43-.59-.52 0-1.04.2-1.43.59L10.3 9.45l-7.72 7.72c-.78.78-.78 2.05 0 2.83L4 21.41c.39.39.9.59 1.41.59.51 0 1.02-.2 1.41-.59l7.78-7.78 2.81-2.81c.8-.78.8-2.07 0-2.86zM5.41 20L4 18.59l7.72-7.72 1.47 1.35L5.41 20z\"/>\n",
              "  </svg>\n",
              "      </button>\n",
              "      \n",
              "  <style>\n",
              "    .colab-df-container {\n",
              "      display:flex;\n",
              "      flex-wrap:wrap;\n",
              "      gap: 12px;\n",
              "    }\n",
              "\n",
              "    .colab-df-convert {\n",
              "      background-color: #E8F0FE;\n",
              "      border: none;\n",
              "      border-radius: 50%;\n",
              "      cursor: pointer;\n",
              "      display: none;\n",
              "      fill: #1967D2;\n",
              "      height: 32px;\n",
              "      padding: 0 0 0 0;\n",
              "      width: 32px;\n",
              "    }\n",
              "\n",
              "    .colab-df-convert:hover {\n",
              "      background-color: #E2EBFA;\n",
              "      box-shadow: 0px 1px 2px rgba(60, 64, 67, 0.3), 0px 1px 3px 1px rgba(60, 64, 67, 0.15);\n",
              "      fill: #174EA6;\n",
              "    }\n",
              "\n",
              "    [theme=dark] .colab-df-convert {\n",
              "      background-color: #3B4455;\n",
              "      fill: #D2E3FC;\n",
              "    }\n",
              "\n",
              "    [theme=dark] .colab-df-convert:hover {\n",
              "      background-color: #434B5C;\n",
              "      box-shadow: 0px 1px 3px 1px rgba(0, 0, 0, 0.15);\n",
              "      filter: drop-shadow(0px 1px 2px rgba(0, 0, 0, 0.3));\n",
              "      fill: #FFFFFF;\n",
              "    }\n",
              "  </style>\n",
              "\n",
              "      <script>\n",
              "        const buttonEl =\n",
              "          document.querySelector('#df-8aab78f6-1534-4f1e-ac9c-4f40e4b9cc60 button.colab-df-convert');\n",
              "        buttonEl.style.display =\n",
              "          google.colab.kernel.accessAllowed ? 'block' : 'none';\n",
              "\n",
              "        async function convertToInteractive(key) {\n",
              "          const element = document.querySelector('#df-8aab78f6-1534-4f1e-ac9c-4f40e4b9cc60');\n",
              "          const dataTable =\n",
              "            await google.colab.kernel.invokeFunction('convertToInteractive',\n",
              "                                                     [key], {});\n",
              "          if (!dataTable) return;\n",
              "\n",
              "          const docLinkHtml = 'Like what you see? Visit the ' +\n",
              "            '<a target=\"_blank\" href=https://colab.research.google.com/notebooks/data_table.ipynb>data table notebook</a>'\n",
              "            + ' to learn more about interactive tables.';\n",
              "          element.innerHTML = '';\n",
              "          dataTable['output_type'] = 'display_data';\n",
              "          await google.colab.output.renderOutput(dataTable, element);\n",
              "          const docLink = document.createElement('div');\n",
              "          docLink.innerHTML = docLinkHtml;\n",
              "          element.appendChild(docLink);\n",
              "        }\n",
              "      </script>\n",
              "    </div>\n",
              "  </div>\n",
              "  "
            ]
          },
          "metadata": {},
          "execution_count": 28
        }
      ],
      "source": [
        "df_unidos.groupby('Class').describe()"
      ]
    },
    {
      "cell_type": "code",
      "execution_count": null,
      "id": "96aa9260-1ebd-4b9a-af1a-15391f2ad1ac",
      "metadata": {
        "id": "96aa9260-1ebd-4b9a-af1a-15391f2ad1ac"
      },
      "outputs": [],
      "source": [
        ""
      ]
    },
    {
      "cell_type": "markdown",
      "id": "ad9df1da-8c38-479f-a210-736bd244af50",
      "metadata": {
        "id": "ad9df1da-8c38-479f-a210-736bd244af50"
      },
      "source": [
        "## 2.3\n",
        "* Por lo que se puede apreciar de la variable Class, tanto en los graficos como en el detalle de los valores, podemos decir que tienen una  distribución Bernoulli"
      ]
    },
    {
      "cell_type": "markdown",
      "id": "28afed52",
      "metadata": {
        "id": "28afed52"
      },
      "source": [
        "### 3. Gráficos comparativos y a lo largo del tiempo "
      ]
    },
    {
      "cell_type": "markdown",
      "id": "46982ec6",
      "metadata": {
        "id": "46982ec6"
      },
      "source": [
        "Una vez que ya hicimos esta visualización general de los datos de cada columna, es hora de empezar a buscar características específicas dentro de cada columna en relación a la clase que queremos encontrar: los pagos fraudulentos. \n",
        "Sin duda que un análisis exploratorio debe arrojar buenas intuiciones sobre el problema que queremos abordar específicamente. Así que una práctica interesante es tomar como pivot (eje) a cada una de las clases y comparar los comportamientos de las mismas dadas las mismas variables.\n",
        "1. Separar los pagos usando las dos clases. Elijan un tipo de tratamiento para los datos (pueden quitar outliers utilizando alguno de los criterios vistos en clase para limpiar valores extremos). Grafiquen en un boxenplot la distribución de estas dos clases en función de la variable **amount**. Para graficar los pagos no fraudulentos, por el tamaño de la muestra original, pueden usar una submuestra (pueden tomar por ejemplo una muestra aleatoria del 10% de los pagos o menos).\n",
        "2. ¿Qué conclusiones pueden observar de los gráficos anteriores? ¿Los pagos entre las dos clases se distribuyen de la misma manera? ¿Qué pueden observar en relación a la media y la mediana? Por ejemplo, en el percentil 75, ¿tenemos el mismo monto tanto en ambas clases? Pueden usar el concepto de cauntil y percentil para justificar sus obersvaciones.\n",
        "3. Grafiquen la distribución de los pagos positivos y negativos utilizando la variable **time**. En relación a dicha variable ¿cómo vemos que es la distribución de pagos fraudulentos y normales a lo largo del tiempo? A su criterio, esta variable ¿nos permite encontrar algún patrón dentro de la población? "
      ]
    },
    {
      "cell_type": "markdown",
      "id": "ERX71bDvZh1y",
      "metadata": {
        "id": "ERX71bDvZh1y"
      },
      "source": [
        "## 3.1 Separar los pagos usando las dos clases"
      ]
    },
    {
      "cell_type": "code",
      "execution_count": null,
      "id": "TidxRFqR1R5d",
      "metadata": {
        "colab": {
          "base_uri": "https://localhost:8080/",
          "height": 345
        },
        "id": "TidxRFqR1R5d",
        "outputId": "568d7fea-4070-4630-bf78-a3616ddf8f32"
      },
      "outputs": [
        {
          "output_type": "execute_result",
          "data": {
            "text/plain": [
              "              Amount           Time          Class\n",
              "count  283382.000000  283382.000000  283382.000000\n",
              "mean       76.432641   94826.549643       0.001726\n",
              "std       152.032157   47492.372328       0.041504\n",
              "min         0.000000       0.000000       0.000000\n",
              "25%         5.490000   54237.000000       0.000000\n",
              "50%        21.740000   84711.000000       0.000000\n",
              "75%        75.660000  139337.000000       0.000000\n",
              "max      1456.590000  172792.000000       1.000000"
            ],
            "text/html": [
              "\n",
              "  <div id=\"df-655bfc51-7280-46a4-a691-154145e30bce\">\n",
              "    <div class=\"colab-df-container\">\n",
              "      <div>\n",
              "<style scoped>\n",
              "    .dataframe tbody tr th:only-of-type {\n",
              "        vertical-align: middle;\n",
              "    }\n",
              "\n",
              "    .dataframe tbody tr th {\n",
              "        vertical-align: top;\n",
              "    }\n",
              "\n",
              "    .dataframe thead th {\n",
              "        text-align: right;\n",
              "    }\n",
              "</style>\n",
              "<table border=\"1\" class=\"dataframe\">\n",
              "  <thead>\n",
              "    <tr style=\"text-align: right;\">\n",
              "      <th></th>\n",
              "      <th>Amount</th>\n",
              "      <th>Time</th>\n",
              "      <th>Class</th>\n",
              "    </tr>\n",
              "  </thead>\n",
              "  <tbody>\n",
              "    <tr>\n",
              "      <th>count</th>\n",
              "      <td>283382.000000</td>\n",
              "      <td>283382.000000</td>\n",
              "      <td>283382.000000</td>\n",
              "    </tr>\n",
              "    <tr>\n",
              "      <th>mean</th>\n",
              "      <td>76.432641</td>\n",
              "      <td>94826.549643</td>\n",
              "      <td>0.001726</td>\n",
              "    </tr>\n",
              "    <tr>\n",
              "      <th>std</th>\n",
              "      <td>152.032157</td>\n",
              "      <td>47492.372328</td>\n",
              "      <td>0.041504</td>\n",
              "    </tr>\n",
              "    <tr>\n",
              "      <th>min</th>\n",
              "      <td>0.000000</td>\n",
              "      <td>0.000000</td>\n",
              "      <td>0.000000</td>\n",
              "    </tr>\n",
              "    <tr>\n",
              "      <th>25%</th>\n",
              "      <td>5.490000</td>\n",
              "      <td>54237.000000</td>\n",
              "      <td>0.000000</td>\n",
              "    </tr>\n",
              "    <tr>\n",
              "      <th>50%</th>\n",
              "      <td>21.740000</td>\n",
              "      <td>84711.000000</td>\n",
              "      <td>0.000000</td>\n",
              "    </tr>\n",
              "    <tr>\n",
              "      <th>75%</th>\n",
              "      <td>75.660000</td>\n",
              "      <td>139337.000000</td>\n",
              "      <td>0.000000</td>\n",
              "    </tr>\n",
              "    <tr>\n",
              "      <th>max</th>\n",
              "      <td>1456.590000</td>\n",
              "      <td>172792.000000</td>\n",
              "      <td>1.000000</td>\n",
              "    </tr>\n",
              "  </tbody>\n",
              "</table>\n",
              "</div>\n",
              "      <button class=\"colab-df-convert\" onclick=\"convertToInteractive('df-655bfc51-7280-46a4-a691-154145e30bce')\"\n",
              "              title=\"Convert this dataframe to an interactive table.\"\n",
              "              style=\"display:none;\">\n",
              "        \n",
              "  <svg xmlns=\"http://www.w3.org/2000/svg\" height=\"24px\"viewBox=\"0 0 24 24\"\n",
              "       width=\"24px\">\n",
              "    <path d=\"M0 0h24v24H0V0z\" fill=\"none\"/>\n",
              "    <path d=\"M18.56 5.44l.94 2.06.94-2.06 2.06-.94-2.06-.94-.94-2.06-.94 2.06-2.06.94zm-11 1L8.5 8.5l.94-2.06 2.06-.94-2.06-.94L8.5 2.5l-.94 2.06-2.06.94zm10 10l.94 2.06.94-2.06 2.06-.94-2.06-.94-.94-2.06-.94 2.06-2.06.94z\"/><path d=\"M17.41 7.96l-1.37-1.37c-.4-.4-.92-.59-1.43-.59-.52 0-1.04.2-1.43.59L10.3 9.45l-7.72 7.72c-.78.78-.78 2.05 0 2.83L4 21.41c.39.39.9.59 1.41.59.51 0 1.02-.2 1.41-.59l7.78-7.78 2.81-2.81c.8-.78.8-2.07 0-2.86zM5.41 20L4 18.59l7.72-7.72 1.47 1.35L5.41 20z\"/>\n",
              "  </svg>\n",
              "      </button>\n",
              "      \n",
              "  <style>\n",
              "    .colab-df-container {\n",
              "      display:flex;\n",
              "      flex-wrap:wrap;\n",
              "      gap: 12px;\n",
              "    }\n",
              "\n",
              "    .colab-df-convert {\n",
              "      background-color: #E8F0FE;\n",
              "      border: none;\n",
              "      border-radius: 50%;\n",
              "      cursor: pointer;\n",
              "      display: none;\n",
              "      fill: #1967D2;\n",
              "      height: 32px;\n",
              "      padding: 0 0 0 0;\n",
              "      width: 32px;\n",
              "    }\n",
              "\n",
              "    .colab-df-convert:hover {\n",
              "      background-color: #E2EBFA;\n",
              "      box-shadow: 0px 1px 2px rgba(60, 64, 67, 0.3), 0px 1px 3px 1px rgba(60, 64, 67, 0.15);\n",
              "      fill: #174EA6;\n",
              "    }\n",
              "\n",
              "    [theme=dark] .colab-df-convert {\n",
              "      background-color: #3B4455;\n",
              "      fill: #D2E3FC;\n",
              "    }\n",
              "\n",
              "    [theme=dark] .colab-df-convert:hover {\n",
              "      background-color: #434B5C;\n",
              "      box-shadow: 0px 1px 3px 1px rgba(0, 0, 0, 0.15);\n",
              "      filter: drop-shadow(0px 1px 2px rgba(0, 0, 0, 0.3));\n",
              "      fill: #FFFFFF;\n",
              "    }\n",
              "  </style>\n",
              "\n",
              "      <script>\n",
              "        const buttonEl =\n",
              "          document.querySelector('#df-655bfc51-7280-46a4-a691-154145e30bce button.colab-df-convert');\n",
              "        buttonEl.style.display =\n",
              "          google.colab.kernel.accessAllowed ? 'block' : 'none';\n",
              "\n",
              "        async function convertToInteractive(key) {\n",
              "          const element = document.querySelector('#df-655bfc51-7280-46a4-a691-154145e30bce');\n",
              "          const dataTable =\n",
              "            await google.colab.kernel.invokeFunction('convertToInteractive',\n",
              "                                                     [key], {});\n",
              "          if (!dataTable) return;\n",
              "\n",
              "          const docLinkHtml = 'Like what you see? Visit the ' +\n",
              "            '<a target=\"_blank\" href=https://colab.research.google.com/notebooks/data_table.ipynb>data table notebook</a>'\n",
              "            + ' to learn more about interactive tables.';\n",
              "          element.innerHTML = '';\n",
              "          dataTable['output_type'] = 'display_data';\n",
              "          await google.colab.output.renderOutput(dataTable, element);\n",
              "          const docLink = document.createElement('div');\n",
              "          docLink.innerHTML = docLinkHtml;\n",
              "          element.appendChild(docLink);\n",
              "        }\n",
              "      </script>\n",
              "    </div>\n",
              "  </div>\n",
              "  "
            ]
          },
          "metadata": {},
          "execution_count": 29
        }
      ],
      "source": [
        "df_columnas = df_unidos[[\"Amount\", \"Time\", \"Class\"]]\n",
        "df_columnas.describe()"
      ]
    },
    {
      "cell_type": "code",
      "execution_count": null,
      "id": "74d39ab5",
      "metadata": {
        "colab": {
          "base_uri": "https://localhost:8080/"
        },
        "id": "74d39ab5",
        "outputId": "4ca30ebd-97b6-47e2-dee3-02639aa868f5"
      },
      "outputs": [
        {
          "output_type": "execute_result",
          "data": {
            "text/plain": [
              "1    489\n",
              "Name: Class, dtype: int64"
            ]
          },
          "metadata": {},
          "execution_count": 30
        }
      ],
      "source": [
        "is_fraud = df_columnas.Class == 1\n",
        "\n",
        "groupFraud = df_columnas[is_fraud]\n",
        "groupValid = df_columnas[~is_fraud]\n",
        "\n",
        "groupFraud['Class'].value_counts()"
      ]
    },
    {
      "cell_type": "markdown",
      "id": "xmGZL4rIp3WD",
      "metadata": {
        "id": "xmGZL4rIp3WD"
      },
      "source": [
        "Arriba se separó la población segun su clase. La limpieza de outliers ya había sido hecha supra, en el punto 2. Abajo se decide tomar una muestra de ambas poblaciones, de 400 registros cada una:"
      ]
    },
    {
      "cell_type": "code",
      "execution_count": null,
      "id": "-xvDdOLz5Ldz",
      "metadata": {
        "id": "-xvDdOLz5Ldz"
      },
      "outputs": [],
      "source": [
        "alpha = 0.05\n",
        "n_fraud = 400\n",
        "n_valid = 400\n",
        "fraud_sample = groupFraud.sample(n_fraud, replace=False)\n",
        "valid_sample = groupValid.sample(n_valid, replace=False)"
      ]
    },
    {
      "cell_type": "code",
      "execution_count": null,
      "id": "gdercqyYmJF0",
      "metadata": {
        "colab": {
          "base_uri": "https://localhost:8080/",
          "height": 1000
        },
        "id": "gdercqyYmJF0",
        "outputId": "d1845b09-f039-41c5-a94d-f04f620fd58c"
      },
      "outputs": [
        {
          "output_type": "stream",
          "name": "stderr",
          "text": [
            "/usr/local/lib/python3.7/dist-packages/seaborn/distributions.py:2619: FutureWarning: `distplot` is a deprecated function and will be removed in a future version. Please adapt your code to use either `displot` (a figure-level function with similar flexibility) or `histplot` (an axes-level function for histograms).\n",
            "  warnings.warn(msg, FutureWarning)\n",
            "/usr/local/lib/python3.7/dist-packages/seaborn/distributions.py:2619: FutureWarning: `distplot` is a deprecated function and will be removed in a future version. Please adapt your code to use either `displot` (a figure-level function with similar flexibility) or `histplot` (an axes-level function for histograms).\n",
            "  warnings.warn(msg, FutureWarning)\n"
          ]
        },
        {
          "output_type": "execute_result",
          "data": {
            "text/plain": [
              "<matplotlib.axes._subplots.AxesSubplot at 0x7f0fae0c11d0>"
            ]
          },
          "metadata": {},
          "execution_count": 32
        },
        {
          "output_type": "display_data",
          "data": {
            "text/plain": [
              "<Figure size 1080x1080 with 1 Axes>"
            ],
            "image/png": "[encoded data removed]"
          },
          "metadata": {
            "needs_background": "light"
          }
        }
      ],
      "source": [
        "f,ax=plt.subplots(figsize=(15, 15))\n",
        "sns.distplot(fraud_sample)\n",
        "sns.distplot(valid_sample)"
      ]
    },
    {
      "cell_type": "markdown",
      "id": "OvwOC59CqzBl",
      "metadata": {
        "id": "OvwOC59CqzBl"
      },
      "source": [
        "Boxenplot de la distribucion de valores Amount segun su clase (0=pagos validos, 1= pagos fraudulentos):"
      ]
    },
    {
      "cell_type": "code",
      "execution_count": null,
      "id": "sC5GqstdqHeZ",
      "metadata": {
        "colab": {
          "base_uri": "https://localhost:8080/",
          "height": 464
        },
        "id": "sC5GqstdqHeZ",
        "outputId": "81acef96-857b-40a5-bf5d-d7dfe793d9bd"
      },
      "outputs": [
        {
          "output_type": "execute_result",
          "data": {
            "text/plain": [
              "<matplotlib.axes._subplots.AxesSubplot at 0x7f0fad8a6890>"
            ]
          },
          "metadata": {},
          "execution_count": 33
        },
        {
          "output_type": "display_data",
          "data": {
            "text/plain": [
              "<Figure size 504x504 with 1 Axes>"
            ],
            "image/png": "[encoded data removed]"
          },
          "metadata": {
            "needs_background": "light"
          }
        }
      ],
      "source": [
        "fig = plt.figure(figsize=(7, 7))\n",
        "sns.boxenplot(data = df_columnas, x = 'Class', y = 'Amount')"
      ]
    },
    {
      "cell_type": "markdown",
      "id": "kEizKNNupNou",
      "metadata": {
        "id": "kEizKNNupNou"
      },
      "source": [
        "## 3.2 Conclusiones de los graficos anteriores"
      ]
    },
    {
      "cell_type": "code",
      "execution_count": null,
      "id": "1Y9qH3AhnuY7",
      "metadata": {
        "colab": {
          "base_uri": "https://localhost:8080/"
        },
        "id": "1Y9qH3AhnuY7",
        "outputId": "919b5a88-1304-4b86-9a03-35ae80fadc5f"
      },
      "outputs": [
        {
          "output_type": "stream",
          "name": "stdout",
          "text": [
            "Varianza muestra poblacion fraude:  45805.226673120225\n",
            "Varianza muestra poblacion pagos validos:  17777.617936719304\n"
          ]
        }
      ],
      "source": [
        "print(\"Varianza muestra poblacion fraude: \", fraud_sample[\"Amount\"].var())\n",
        "print(\"Varianza muestra poblacion pagos validos: \", valid_sample[\"Amount\"].var())"
      ]
    },
    {
      "cell_type": "markdown",
      "id": "DiP_5_xFoXOj",
      "metadata": {
        "id": "DiP_5_xFoXOj"
      },
      "source": [
        "Al tener distinta varianza es necesario realizar un test de Welsh"
      ]
    },
    {
      "cell_type": "code",
      "execution_count": null,
      "id": "0nyFgH7k68Hu",
      "metadata": {
        "colab": {
          "base_uri": "https://localhost:8080/"
        },
        "id": "0nyFgH7k68Hu",
        "outputId": "c56e4a84-1a9c-4b79-b767-79eac2e2033e"
      },
      "outputs": [
        {
          "output_type": "execute_result",
          "data": {
            "text/plain": [
              "Ttest_indResult(statistic=2.8332496443660165, pvalue=0.004746697260210207)"
            ]
          },
          "metadata": {},
          "execution_count": 35
        }
      ],
      "source": [
        "import scipy\n",
        "import scipy.stats\n",
        "\n",
        "scipy.stats.ttest_ind(fraud_sample[\"Amount\"], valid_sample[\"Amount\"], equal_var = False)"
      ]
    },
    {
      "cell_type": "markdown",
      "id": "nvRCexuMkNRr",
      "metadata": {
        "id": "nvRCexuMkNRr"
      },
      "source": [
        "El p-valor que arroja el test T nos indica que las dos poblaciones no están distribuidas de igual forma."
      ]
    },
    {
      "cell_type": "markdown",
      "id": "e6H_rr90umja",
      "metadata": {
        "id": "e6H_rr90umja"
      },
      "source": [
        "## 3.3 distribución de los pagos positivos y negativos utilizando la variable time"
      ]
    },
    {
      "cell_type": "code",
      "execution_count": null,
      "id": "_f5PK7o5q9aL",
      "metadata": {
        "colab": {
          "base_uri": "https://localhost:8080/",
          "height": 542
        },
        "id": "_f5PK7o5q9aL",
        "outputId": "6f0e403a-9e92-45e4-ad90-a8d1862d1f0d"
      },
      "outputs": [
        {
          "output_type": "display_data",
          "data": {
            "text/html": [
              "<html>\n",
              "<head><meta charset=\"utf-8\" /></head>\n",
              "<body>\n",
              "    <div>            <script src=\"https://cdnjs.cloudflare.com/ajax/libs/mathjax/2.7.5/MathJax.js?config=TeX-AMS-MML_SVG\"></script><script type=\"text/javascript\">if (window.MathJax) {MathJax.Hub.Config({SVG: {font: \"STIX-Web\"}});}</script>                <script type=\"text/javascript\">window.PlotlyConfig = {MathJaxConfig: 'local'};</script>\n",
              "        <script src=\"https://cdn.plot.ly/plotly-2.8.3.min.js\"></script>                <div id=\"b3efd177-2c8d-4c46-ab53-59f0cda3a61e\" class=\"plotly-graph-div\" style=\"height:525px; width:100%;\"></div>            <script type=\"text/javascript\">                                    window.PLOTLYENV=window.PLOTLYENV || {};                                    if (document.getElementById(\"b3efd177-2c8d-4c46-ab53-59f0cda3a61e\")) {                    Plotly.newPlot(                        \"b3efd177-2c8d-4c46-ab53-59f0cda3a61e\",                        [{\"hovertemplate\":\"Time=%{x}<br>Amount=%{marker.size}<br>Class=%{marker.color}<extra></extra>\",\"legendgroup\":\"\",\"marker\":{\"color\":[1,1,1,1,1,1,1,1,1,1,1,1,1,1,1,1,1,1,1,1,1,1,1,1,1,1,1,1,1,1,1,1,1,1,1,1,1,1,1,1,1,1,1,1,1,1,1,1,1,1,1,1,1,1,1,1,1,1,1,1,1,1,1,1,1,1,1,1,1,1,1,1,1,1,1,1,1,1,1,1,1,1,1,1,1,1,1,1,1,1,1,1,1,1,1,1,1,1,1,1,1,1,1,1,1,1,1,1,1,1,1,1,1,1,1,1,1,1,1,1,1,1,1,1,1,1,1,1,1,1,1,1,1,1,1,1,1,1,1,1,1,1,1,1,1,1,1,1,1,1,1,1,1,1,1,1,1,1,1,1,1,1,1,1,1,1,1,1,1,1,1,1,1,1,1,1,1,1,1,1,1,1,1,1,1,1,1,1,1,1,1,1,1,1,1,1,1,1,1,1,1,1,1,1,1,1,1,1,1,1,1,1,1,1,1,1,1,1,1,1,1,1,1,1,1,1,1,1,1,1,1,1,1,1,1,1,1,1,1,1,1,1,1,1,1,1,1,1,1,1,1,1,1,1,1,1,1,1,1,1,1,1,1,1,1,1,1,1,1,1,1,1,1,1,1,1,1,1,1,1,1,1,1,1,1,1,1,1,1,1,1,1,1,1,1,1,1,1,1,1,1,1,1,1,1,1,1,1,1,1,1,1,1,1,1,1,1,1,1,1,1,1,1,1,1,1,1,1,1,1,1,1,1,1,1,1,1,1,1,1,1,1,1,1,1,1,1,1,1,1,1,1,1,1,1,1,1,1,1,1,1,1,1,1,1,1,1,1,1,1,1,1,1,1,1,1,1,1,1,1,1,1,1,1,1,1,1,1,1,1,1,1,1,1,1,1,1,1,1,1,0,0,0,0,0,0,0,0,0,0,0,0,0,0,0,0,0,0,0,0,0,0,0,0,0,0,0,0,0,0,0,0,0,0,0,0,0,0,0,0,0,0,0,0,0,0,0,0,0,0,0,0,0,0,0,0,0,0,0,0,0,0,0,0,0,0,0,0,0,0,0,0,0,0,0,0,0,0,0,0,0,0,0,0,0,0,0,0,0,0,0,0,0,0,0,0,0,0,0,0,0,0,0,0,0,0,0,0,0,0,0,0,0,0,0,0,0,0,0,0,0,0,0,0,0,0,0,0,0,0,0,0,0,0,0,0,0,0,0,0,0,0,0,0,0,0,0,0,0,0,0,0,0,0,0,0,0,0,0,0,0,0,0,0,0,0,0,0,0,0,0,0,0,0,0,0,0,0,0,0,0,0,0,0,0,0,0,0,0,0,0,0,0,0,0,0,0,0,0,0,0,0,0,0,0,0,0,0,0,0,0,0,0,0,0,0,0,0,0,0,0,0,0,0,0,0,0,0,0,0,0,0,0,0,0,0,0,0,0,0,0,0,0,0,0,0,0,0,0,0,0,0,0,0,0,0,0,0,0,0,0,0,0,0,0,0,0,0,0,0,0,0,0,0,0,0,0,0,0,0,0,0,0,0,0,0,0,0,0,0,0,0,0,0,0,0,0,0,0,0,0,0,0,0,0,0,0,0,0,0,0,0,0,0,0,0,0,0,0,0,0,0,0,0,0,0,0,0,0,0,0,0,0,0,0,0,0,0,0,0,0,0,0,0,0,0,0,0,0,0,0,0,0,0,0,0,0,0,0,0,0,0,0,0,0,0,0,0,0,0,0,0,0,0,0,0,0,0,0,0,0,0,0,0,0,0,0,0,0,0,0,0,0,0,0,0,0,0,0,0],\"coloraxis\":\"coloraxis\",\"size\":[1.0,80.9,1.0,7.58,1.0,240.77,99.99,52.69,219.8,0.76,0.0,175.9,1.0,2.27,35.0,130.44,1.18,1.0,0.77,16.48,99.99,0.0,2.22,104.03,0.01,1.0,39.45,99.99,0.76,99.99,60.0,0.76,723.21,57.73,254.76,1.0,19.73,1.0,0.76,88.23,0.92,5.3,1.0,153.46,1.0,53.95,4.97,172.32,119.74,30.3,11.4,1.18,99.99,1.0,316.06,1.0,0.76,1.18,18.0,0.76,237.26,39.9,1.0,99.99,144.62,1.0,0.77,122.68,8.54,6.62,22.47,139.9,99.99,723.21,0.77,45.51,802.52,19.95,1.0,1.0,18.98,549.06,1.0,0.0,290.18,1.0,1354.25,1.0,129.0,0.77,99.99,4.49,0.0,0.76,512.25,345.0,104.03,0.0,1.0,0.69,362.55,1.0,1.0,489.71,7.59,50.0,1.0,247.86,0.0,0.0,30.39,2.28,99.99,1.0,6.27,1.0,1.0,1.0,7.53,0.76,120.54,3.93,634.3,8.0,0.68,0.0,1.0,99.99,37.93,1.52,1.0,1.0,0.0,99.99,324.59,3.79,1.0,3.22,1096.99,1.0,0.76,1.0,1.0,99.99,0.76,76.94,108.51,1.59,118.3,94.82,454.82,0.0,357.95,0.01,170.92,1.0,44.9,0.0,0.01,30.31,4.56,1.0,19.04,1.0,261.87,1.0,1.0,360.0,2.28,34.12,4.87,33.76,0.38,296.0,766.36,426.4,1.0,239.93,30.14,23.36,42.53,59.68,0.68,512.25,99.85,78.0,444.17,45.48,1389.56,1.1,1.63,186.13,320.01,0.0,195.66,156.0,10.7,829.41,1.0,30.26,14.46,1.0,8.64,316.06,105.89,99.99,3.79,1.0,4.9,346.94,84.28,51.37,1.0,7.59,0.77,9.82,7.61,9.13,1.0,1.0,1.0,18.96,2.0,717.15,25.0,130.21,0.01,97.0,2.47,188.78,1.0,0.0,17.39,60.6,1.0,180.0,776.83,99.9,592.9,0.83,9.29,720.8,276.17,99.99,106.9,1.0,9.99,3.12,0.0,22.04,75.86,1.0,29.95,0.76,88.0,1.0,529.0,320.0,349.08,7.06,1.0,1.0,1.0,311.28,0.0,1.0,1.0,1.0,340.11,1.0,1.0,1.0,319.2,519.9,40.0,5.09,78.0,1402.16,1.0,0.0,124.53,2.0,99.99,106.55,1.0,730.86,99.99,1.0,1.0,1.0,99.99,0.0,245.0,1.0,273.01,0.77,0.68,83.38,1.0,98.01,127.14,7.52,1.0,2.28,571.48,99.99,1.79,1.0,144.8,6.99,1.0,1.0,1.0,390.0,1.0,24.9,635.1,0.0,1.0,8.3,0.0,0.0,1.75,2.0,667.55,17.06,19.59,187.11,227.3,252.92,99.99,5.0,1.0,0.83,99.99,3.79,101.5,0.76,1.59,1.0,1.0,0.76,0.01,3.14,4.69,0.77,9.21,12.31,77.89,111.7,59.0,179.66,1.0,1.0,648.0,1335.0,208.58,0.0,451.27,1.0,11.39,1.0,1.0,11.0,0.0,261.22,0.0,1.0,310.42,1.0,1.0,8.0,37.32,1.0,364.19,12.31,1.0,7.18,0.76,12.31,147.87,31.91,0.76,1.0,99.99,270.0,0.0,1.0,99.99,0.76,0.77,1.0,101.5,112.45,238.9,1.0,112.33,1.0,252.92,45.51,90.95,1.0,39.0,41.51,12.64,467.76,62.76,10.62,48.98,7.5,15.98,6.95,1.98,124.87,212.0,4.49,8.0,12.06,10.62,13.65,1.98,1.79,4.56,220.42,600.0,1.98,0.99,30.0,11.33,11.3,41.0,103.79,135.7,39.5,18.8,12.99,2.99,23.36,24.15,2.69,40.95,45.77,31.46,19.71,223.58,31.08,37.53,777.0,14.0,36.0,0.89,686.1,2.39,79.0,213.1,242.0,127.85,201.26,1.78,15.47,30.01,4.49,1.29,0.99,1.0,9.7,60.65,1.98,15.0,90.0,11.5,135.6,191.72,20.0,5.0,0.89,11.69,10.31,19.99,0.0,53.0,32.62,65.0,805.0,1.46,30.0,1.0,2.0,32.4,46.9,8.94,10.0,14.95,38.22,1.79,38.2,22.0,1.29,5.38,56.0,118.26,0.99,2.94,4.74,23.49,30.0,2.99,17.3,8.98,92.0,259.96,10.99,53.12,20.0,1.55,5.4,152.65,8.95,31.65,0.77,15.6,6.04,8.18,9.99,29.07,49.0,811.5,23.66,152.65,138.65,55.45,16.31,2.0,20.2,30.43,476.12,94.76,47.6,19.0,1.0,2.65,29.56,1.0,37.55,81.56,1.0,30.53,14.99,11.95,10.0,264.99,194.96,20.39,1.29,19.99,3.59,5.0,282.0,56.71,59.0,407.02,39.8,5.53,50.0,19.4,1.5,0.85,27.21,2.0,1.98,11.8,82.05,10.76,45.39,31.0,103.97,25.9,31.1,1.0,7.0,100.0,144.58,84.0,1.0,1.0,1.79,66.76,83.57,274.17,1.29,174.66,166.5,23.49,4.99,36.29,10.0,1.79,3.78,17.4,50.0,0.0,11.85,1.0,204.0,29.98,50.52,31.1,3.54,0.89,3.11,49.31,1.0,56.58,5.52,112.77,14.42,29.98,138.21,20.0,223.94,146.0,0.76,0.89,7.49,3.99,235.97,1.0,7.68,8.8,0.99,3.56,59.99,8.59,32.74,1.98,28.36,109.0,14.9,30.0,426.6,0.89,139.0,53.02,17.99,69.0,16.75,99.0,9.38,212.0,16.47,277.7,196.0,1.49,1.98,1.29,29.99,22.0,11.0,152.65,1.78,21.19,249.0,1.0,99.0,37.99,1.79,378.2,7.3,11.34,95.96,15.0,86.94,120.0,111.0,37.41,60.4,15.2,4.73,2.0,239.4,1.0,14.25,85.0,2.4,509.1,53.89,20.99,57.75,14.34,342.17,215.12,42.81,31.85,269.28,37.99,20.52,60.0,39.9,13.0,2.95,45.9,29.99,285.7,1.29,2.67,166.99,49.95,15.0,23.91,0.0,10.74,5.99,1.0,0.89,1.0,56.09,9.99,153.8,70.0,100.6,43.16,15.9,4.49,9.12,80.91,5.36,23.26,455.08,182.85,1.56,17.99,73.9,29.58,167.65,77.0,134.7,1.0,196.8,4.77,35.35,60.47,1.0,1.98,58.0,4.73,27.32,113.46,1.29,129.53,25.98,0.79,138.99,154.49,48.0,188.0,4.53,49.22,12.55,6.89,27.25,10.0,78.4,257.0,1295.0,69.0,9.86,8.94,149.5,6.05,257.8,89.99,61.48,74.2,30.0,93.5,7.68,134.9,54.99,148.0,6.0,128.0,270.84,9.98,21.48,12.95,705.0,8.49,31.98,19.5,34.99,158.12,103.6,38.0,10.62,213.04,12.92,104.45,0.89,1.29,31.99],\"sizemode\":\"area\",\"sizeref\":0.560864,\"symbol\":\"circle\"},\"mode\":\"markers\",\"name\":\"\",\"orientation\":\"v\",\"showlegend\":false,\"x\":[45463.0,129308.0,18399.0,47826.0,132688.0,85576.0,26863.0,91407.0,76575.0,40892.0,41233.0,128803.0,152098.0,103808.0,154493.0,55618.0,53076.0,152307.0,160665.0,73408.0,26899.0,149096.0,146026.0,93879.0,57007.0,93897.0,137211.0,28692.0,148468.0,28143.0,78725.0,154181.0,131024.0,151972.0,76826.0,93888.0,48884.0,46925.0,141925.0,41203.0,101051.0,41164.0,83934.0,56624.0,11092.0,41607.0,157207.0,41646.0,102676.0,29785.0,93965.0,88672.0,50808.0,7672.0,93853.0,129741.0,110547.0,146022.0,92092.0,35585.0,150139.0,166028.0,8886.0,26585.0,121238.0,44532.0,155359.0,148479.0,93824.0,62059.0,139107.0,41851.0,26556.0,139951.0,154657.0,159844.0,41743.0,166883.0,68207.0,102619.0,59385.0,67571.0,46057.0,64585.0,63578.0,7740.0,65385.0,42247.0,77154.0,155662.0,28726.0,141565.0,102480.0,47545.0,84204.0,135095.0,93879.0,102671.0,13323.0,139816.0,129764.0,8451.0,40086.0,67150.0,156710.0,150138.0,152165.0,153653.0,129371.0,53658.0,12095.0,102542.0,41791.0,7535.0,59669.0,17520.0,152036.0,68207.0,66037.0,53031.0,139767.0,17230.0,166831.0,53451.0,29526.0,142961.0,35899.0,27163.0,93904.0,41194.0,7519.0,8169.0,102669.0,51135.0,142280.0,70229.0,42474.0,125612.0,154309.0,46149.0,40918.0,14073.0,7551.0,26961.0,52934.0,74159.0,135102.0,148053.0,41237.0,155554.0,60353.0,85285.0,152802.0,102572.0,56098.0,91524.0,93853.0,12093.0,138894.0,93879.0,35926.0,94362.0,61646.0,11629.0,53937.0,94364.0,100924.0,49985.0,101313.0,41353.0,129222.0,94625.0,161154.0,158638.0,17838.0,71033.0,21662.0,4462.0,75033.0,27784.0,170348.0,41305.0,29531.0,84204.0,75851.0,93860.0,57027.0,94141.0,59011.0,149582.0,95559.0,109298.0,142394.0,406.0,141320.0,160243.0,151029.0,87883.0,8757.0,41204.0,35942.0,68207.0,97121.0,93853.0,118532.0,27219.0,17220.0,19762.0,160034.0,102622.0,135314.0,153761.0,14152.0,102625.0,155965.0,97235.0,35866.0,35906.0,76867.0,152058.0,68207.0,34634.0,149640.0,32745.0,126219.0,133958.0,93834.0,93920.0,152710.0,18675.0,45541.0,109297.0,149676.0,35771.0,94362.0,62080.0,39729.0,75978.0,140308.0,55614.0,150949.0,129095.0,129808.0,26931.0,77627.0,76845.0,41313.0,25095.0,84204.0,102318.0,93823.0,85573.0,75556.0,70828.0,43369.0,56806.0,472.0,67857.0,167338.0,155548.0,100298.0,68207.0,58067.0,74262.0,84204.0,7543.0,8408.0,128595.0,41138.0,143434.0,68207.0,42985.0,59777.0,52814.0,125200.0,58217.0,93860.0,62467.0,64412.0,32686.0,75581.0,129668.0,28658.0,41413.0,11131.0,28242.0,26523.0,20332.0,41870.0,7610.0,27252.0,153875.0,169966.0,21046.0,41397.0,146179.0,29753.0,41170.0,40742.0,65728.0,160895.0,56650.0,94362.0,100223.0,94952.0,25254.0,54846.0,57163.0,142840.0,90676.0,150494.0,8614.0,20011.0,169142.0,110087.0,43494.0,110617.0,148028.0,8415.0,139117.0,148074.0,125658.0,58199.0,85181.0,144808.0,115691.0,68357.0,156685.0,70071.0,85285.0,25231.0,56887.0,82289.0,55311.0,26833.0,17187.0,61108.0,47982.0,148053.0,69394.0,7526.0,41308.0,151916.0,155542.0,160537.0,157284.0,88737.0,37167.0,169351.0,36170.0,6986.0,12393.0,48533.0,134766.0,42988.0,133184.0,48380.0,165981.0,87202.0,143456.0,15817.0,96717.0,77202.0,123078.0,133731.0,91554.0,64443.0,91502.0,85867.0,76876.0,20931.0,146998.0,41285.0,20451.0,41505.0,165132.0,58060.0,129186.0,169347.0,84694.0,101597.0,65358.0,100501.0,77171.0,27187.0,58222.0,134928.0,8090.0,25198.0,148476.0,155054.0,160791.0,65936.0,53727.0,72327.0,77182.0,40919.0,40276.0,85285.0,123525.0,47248.0,163682.0,121257.0,72339.0,95837.0,35690.0,112822.0,138120.0,158859.0,25796.0,49501.0,60224.0,83610.0,103689.0,84411.0,161007.0,59860.0,121937.0,150860.0,37323.0,74879.0,127061.0,112717.0,82332.0,14233.0,78118.0,155222.0,120513.0,127369.0,56773.0,168725.0,116253.0,96577.0,69656.0,120753.0,157760.0,144969.0,139199.0,42845.0,132180.0,119067.0,39941.0,139097.0,132375.0,81164.0,139415.0,70494.0,29965.0,153523.0,71648.0,113706.0,126849.0,37464.0,134566.0,88412.0,51816.0,76387.0,117221.0,85723.0,85513.0,142626.0,91522.0,539.0,159576.0,79688.0,90391.0,143867.0,103179.0,51223.0,148458.0,64896.0,131389.0,75581.0,52666.0,51927.0,95853.0,132670.0,57857.0,30236.0,85571.0,162904.0,132378.0,64456.0,129513.0,161886.0,120753.0,51274.0,67670.0,139180.0,167249.0,165468.0,53374.0,10996.0,116983.0,96624.0,1880.0,111001.0,150550.0,169171.0,43596.0,134935.0,82250.0,128443.0,126407.0,66835.0,38549.0,118437.0,63993.0,87659.0,131214.0,40775.0,69150.0,91846.0,110184.0,84930.0,142602.0,38510.0,72503.0,144439.0,62501.0,161366.0,100290.0,136366.0,89092.0,35051.0,159224.0,64034.0,54148.0,121226.0,39069.0,65542.0,147893.0,53196.0,43865.0,59312.0,147796.0,15612.0,109839.0,76802.0,117044.0,150434.0,64794.0,113377.0,80007.0,33782.0,51496.0,49013.0,147775.0,141736.0,47608.0,74679.0,134234.0,116303.0,86464.0,151241.0,118293.0,39261.0,86573.0,123830.0,52972.0,119160.0,42529.0,111307.0,136675.0,75349.0,164674.0,31541.0,144446.0,46518.0,121797.0,66439.0,126945.0,61948.0,74457.0,114497.0,78833.0,130064.0,59762.0,63915.0,70741.0,73006.0,25059.0,52010.0,134445.0,76099.0,150002.0,137233.0,157930.0,107695.0,165923.0,167171.0,129293.0,68100.0,134032.0,127051.0,33181.0,135952.0,54183.0,48149.0,44225.0,147154.0,21563.0,77038.0,55026.0,65342.0,85539.0,44823.0,86343.0,57087.0,66017.0,93496.0,80324.0,75476.0,9569.0,158977.0,59027.0,156333.0,60500.0,2104.0,126589.0,130425.0,131037.0,78549.0,130521.0,129510.0,143159.0,161976.0,61791.0,86294.0,127123.0,172225.0,135245.0,57446.0,157984.0,128758.0,75517.0,135667.0,3000.0,54931.0,101402.0,115425.0,70131.0,36993.0,121048.0,161172.0,133562.0,117520.0,78587.0,124506.0,135651.0,131163.0,162589.0,131037.0,67932.0,46255.0,11461.0,134063.0,30798.0,144053.0,105215.0,125255.0,142022.0,123513.0,127330.0,129074.0,170394.0,156462.0,56512.0,149501.0,37253.0,94366.0,30292.0,141325.0,123119.0,119269.0,81801.0,3737.0,1153.0,67484.0,89737.0,43491.0,35456.0,148651.0,67879.0,144423.0,57347.0,150842.0,47590.0,147948.0,127365.0,104034.0,234.0,20358.0,155141.0,144525.0,164565.0,76962.0,55002.0,19700.0,45770.0,63468.0,118807.0,43902.0,26384.0,110031.0,75985.0,76180.0,151471.0,167538.0,153547.0,170997.0,50335.0,43789.0,57316.0,99940.0,25941.0,160431.0,37839.0,114258.0,133707.0,132620.0,93609.0,73933.0,139469.0,44465.0,116467.0,116218.0,40132.0,151442.0,42431.0,144779.0,132523.0,110199.0,76294.0,66468.0,65765.0,60011.0,73195.0,157297.0,109838.0,128487.0,64471.0,25897.0,66132.0,75630.0,118199.0,53076.0,142785.0,69773.0,67309.0,148186.0,67834.0,11173.0,139142.0,38080.0,72182.0,162565.0,158089.0,59079.0,48881.0,121830.0,122322.0,132304.0,161072.0,159944.0,167223.0,161293.0,125336.0,119679.0,153924.0,3522.0,148847.0,77432.0,74061.0,130068.0,37654.0,32981.0,122541.0,133171.0,57623.0,149635.0,50512.0,134945.0,130160.0,10981.0,50049.0,974.0,79645.0,97265.0,164088.0,144304.0,113610.0,130316.0,165831.0,135020.0,118869.0,43741.0,43100.0,128409.0,128836.0],\"xaxis\":\"x\",\"y\":[1.0,80.9,1.0,7.58,1.0,240.77,99.99,52.69,219.8,0.76,0.0,175.9,1.0,2.27,35.0,130.44,1.18,1.0,0.77,16.48,99.99,0.0,2.22,104.03,0.01,1.0,39.45,99.99,0.76,99.99,60.0,0.76,723.21,57.73,254.76,1.0,19.73,1.0,0.76,88.23,0.92,5.3,1.0,153.46,1.0,53.95,4.97,172.32,119.74,30.3,11.4,1.18,99.99,1.0,316.06,1.0,0.76,1.18,18.0,0.76,237.26,39.9,1.0,99.99,144.62,1.0,0.77,122.68,8.54,6.62,22.47,139.9,99.99,723.21,0.77,45.51,802.52,19.95,1.0,1.0,18.98,549.06,1.0,0.0,290.18,1.0,1354.25,1.0,129.0,0.77,99.99,4.49,0.0,0.76,512.25,345.0,104.03,0.0,1.0,0.69,362.55,1.0,1.0,489.71,7.59,50.0,1.0,247.86,0.0,0.0,30.39,2.28,99.99,1.0,6.27,1.0,1.0,1.0,7.53,0.76,120.54,3.93,634.3,8.0,0.68,0.0,1.0,99.99,37.93,1.52,1.0,1.0,0.0,99.99,324.59,3.79,1.0,3.22,1096.99,1.0,0.76,1.0,1.0,99.99,0.76,76.94,108.51,1.59,118.3,94.82,454.82,0.0,357.95,0.01,170.92,1.0,44.9,0.0,0.01,30.31,4.56,1.0,19.04,1.0,261.87,1.0,1.0,360.0,2.28,34.12,4.87,33.76,0.38,296.0,766.36,426.4,1.0,239.93,30.14,23.36,42.53,59.68,0.68,512.25,99.85,78.0,444.17,45.48,1389.56,1.1,1.63,186.13,320.01,0.0,195.66,156.0,10.7,829.41,1.0,30.26,14.46,1.0,8.64,316.06,105.89,99.99,3.79,1.0,4.9,346.94,84.28,51.37,1.0,7.59,0.77,9.82,7.61,9.13,1.0,1.0,1.0,18.96,2.0,717.15,25.0,130.21,0.01,97.0,2.47,188.78,1.0,0.0,17.39,60.6,1.0,180.0,776.83,99.9,592.9,0.83,9.29,720.8,276.17,99.99,106.9,1.0,9.99,3.12,0.0,22.04,75.86,1.0,29.95,0.76,88.0,1.0,529.0,320.0,349.08,7.06,1.0,1.0,1.0,311.28,0.0,1.0,1.0,1.0,340.11,1.0,1.0,1.0,319.2,519.9,40.0,5.09,78.0,1402.16,1.0,0.0,124.53,2.0,99.99,106.55,1.0,730.86,99.99,1.0,1.0,1.0,99.99,0.0,245.0,1.0,273.01,0.77,0.68,83.38,1.0,98.01,127.14,7.52,1.0,2.28,571.48,99.99,1.79,1.0,144.8,6.99,1.0,1.0,1.0,390.0,1.0,24.9,635.1,0.0,1.0,8.3,0.0,0.0,1.75,2.0,667.55,17.06,19.59,187.11,227.3,252.92,99.99,5.0,1.0,0.83,99.99,3.79,101.5,0.76,1.59,1.0,1.0,0.76,0.01,3.14,4.69,0.77,9.21,12.31,77.89,111.7,59.0,179.66,1.0,1.0,648.0,1335.0,208.58,0.0,451.27,1.0,11.39,1.0,1.0,11.0,0.0,261.22,0.0,1.0,310.42,1.0,1.0,8.0,37.32,1.0,364.19,12.31,1.0,7.18,0.76,12.31,147.87,31.91,0.76,1.0,99.99,270.0,0.0,1.0,99.99,0.76,0.77,1.0,101.5,112.45,238.9,1.0,112.33,1.0,252.92,45.51,90.95,1.0,39.0,41.51,12.64,467.76,62.76,10.62,48.98,7.5,15.98,6.95,1.98,124.87,212.0,4.49,8.0,12.06,10.62,13.65,1.98,1.79,4.56,220.42,600.0,1.98,0.99,30.0,11.33,11.3,41.0,103.79,135.7,39.5,18.8,12.99,2.99,23.36,24.15,2.69,40.95,45.77,31.46,19.71,223.58,31.08,37.53,777.0,14.0,36.0,0.89,686.1,2.39,79.0,213.1,242.0,127.85,201.26,1.78,15.47,30.01,4.49,1.29,0.99,1.0,9.7,60.65,1.98,15.0,90.0,11.5,135.6,191.72,20.0,5.0,0.89,11.69,10.31,19.99,0.0,53.0,32.62,65.0,805.0,1.46,30.0,1.0,2.0,32.4,46.9,8.94,10.0,14.95,38.22,1.79,38.2,22.0,1.29,5.38,56.0,118.26,0.99,2.94,4.74,23.49,30.0,2.99,17.3,8.98,92.0,259.96,10.99,53.12,20.0,1.55,5.4,152.65,8.95,31.65,0.77,15.6,6.04,8.18,9.99,29.07,49.0,811.5,23.66,152.65,138.65,55.45,16.31,2.0,20.2,30.43,476.12,94.76,47.6,19.0,1.0,2.65,29.56,1.0,37.55,81.56,1.0,30.53,14.99,11.95,10.0,264.99,194.96,20.39,1.29,19.99,3.59,5.0,282.0,56.71,59.0,407.02,39.8,5.53,50.0,19.4,1.5,0.85,27.21,2.0,1.98,11.8,82.05,10.76,45.39,31.0,103.97,25.9,31.1,1.0,7.0,100.0,144.58,84.0,1.0,1.0,1.79,66.76,83.57,274.17,1.29,174.66,166.5,23.49,4.99,36.29,10.0,1.79,3.78,17.4,50.0,0.0,11.85,1.0,204.0,29.98,50.52,31.1,3.54,0.89,3.11,49.31,1.0,56.58,5.52,112.77,14.42,29.98,138.21,20.0,223.94,146.0,0.76,0.89,7.49,3.99,235.97,1.0,7.68,8.8,0.99,3.56,59.99,8.59,32.74,1.98,28.36,109.0,14.9,30.0,426.6,0.89,139.0,53.02,17.99,69.0,16.75,99.0,9.38,212.0,16.47,277.7,196.0,1.49,1.98,1.29,29.99,22.0,11.0,152.65,1.78,21.19,249.0,1.0,99.0,37.99,1.79,378.2,7.3,11.34,95.96,15.0,86.94,120.0,111.0,37.41,60.4,15.2,4.73,2.0,239.4,1.0,14.25,85.0,2.4,509.1,53.89,20.99,57.75,14.34,342.17,215.12,42.81,31.85,269.28,37.99,20.52,60.0,39.9,13.0,2.95,45.9,29.99,285.7,1.29,2.67,166.99,49.95,15.0,23.91,0.0,10.74,5.99,1.0,0.89,1.0,56.09,9.99,153.8,70.0,100.6,43.16,15.9,4.49,9.12,80.91,5.36,23.26,455.08,182.85,1.56,17.99,73.9,29.58,167.65,77.0,134.7,1.0,196.8,4.77,35.35,60.47,1.0,1.98,58.0,4.73,27.32,113.46,1.29,129.53,25.98,0.79,138.99,154.49,48.0,188.0,4.53,49.22,12.55,6.89,27.25,10.0,78.4,257.0,1295.0,69.0,9.86,8.94,149.5,6.05,257.8,89.99,61.48,74.2,30.0,93.5,7.68,134.9,54.99,148.0,6.0,128.0,270.84,9.98,21.48,12.95,705.0,8.49,31.98,19.5,34.99,158.12,103.6,38.0,10.62,213.04,12.92,104.45,0.89,1.29,31.99],\"yaxis\":\"y\",\"type\":\"scatter\"}],                        {\"template\":{\"data\":{\"bar\":[{\"error_x\":{\"color\":\"#2a3f5f\"},\"error_y\":{\"color\":\"#2a3f5f\"},\"marker\":{\"line\":{\"color\":\"#E5ECF6\",\"width\":0.5},\"pattern\":{\"fillmode\":\"overlay\",\"size\":10,\"solidity\":0.2}},\"type\":\"bar\"}],\"barpolar\":[{\"marker\":{\"line\":{\"color\":\"#E5ECF6\",\"width\":0.5},\"pattern\":{\"fillmode\":\"overlay\",\"size\":10,\"solidity\":0.2}},\"type\":\"barpolar\"}],\"carpet\":[{\"aaxis\":{\"endlinecolor\":\"#2a3f5f\",\"gridcolor\":\"white\",\"linecolor\":\"white\",\"minorgridcolor\":\"white\",\"startlinecolor\":\"#2a3f5f\"},\"baxis\":{\"endlinecolor\":\"#2a3f5f\",\"gridcolor\":\"white\",\"linecolor\":\"white\",\"minorgridcolor\":\"white\",\"startlinecolor\":\"#2a3f5f\"},\"type\":\"carpet\"}],\"choropleth\":[{\"colorbar\":{\"outlinewidth\":0,\"ticks\":\"\"},\"type\":\"choropleth\"}],\"contour\":[{\"colorbar\":{\"outlinewidth\":0,\"ticks\":\"\"},\"colorscale\":[[0.0,\"#0d0887\"],[0.1111111111111111,\"#46039f\"],[0.2222222222222222,\"#7201a8\"],[0.3333333333333333,\"#9c179e\"],[0.4444444444444444,\"#bd3786\"],[0.5555555555555556,\"#d8576b\"],[0.6666666666666666,\"#ed7953\"],[0.7777777777777778,\"#fb9f3a\"],[0.8888888888888888,\"#fdca26\"],[1.0,\"#f0f921\"]],\"type\":\"contour\"}],\"contourcarpet\":[{\"colorbar\":{\"outlinewidth\":0,\"ticks\":\"\"},\"type\":\"contourcarpet\"}],\"heatmap\":[{\"colorbar\":{\"outlinewidth\":0,\"ticks\":\"\"},\"colorscale\":[[0.0,\"#0d0887\"],[0.1111111111111111,\"#46039f\"],[0.2222222222222222,\"#7201a8\"],[0.3333333333333333,\"#9c179e\"],[0.4444444444444444,\"#bd3786\"],[0.5555555555555556,\"#d8576b\"],[0.6666666666666666,\"#ed7953\"],[0.7777777777777778,\"#fb9f3a\"],[0.8888888888888888,\"#fdca26\"],[1.0,\"#f0f921\"]],\"type\":\"heatmap\"}],\"heatmapgl\":[{\"colorbar\":{\"outlinewidth\":0,\"ticks\":\"\"},\"colorscale\":[[0.0,\"#0d0887\"],[0.1111111111111111,\"#46039f\"],[0.2222222222222222,\"#7201a8\"],[0.3333333333333333,\"#9c179e\"],[0.4444444444444444,\"#bd3786\"],[0.5555555555555556,\"#d8576b\"],[0.6666666666666666,\"#ed7953\"],[0.7777777777777778,\"#fb9f3a\"],[0.8888888888888888,\"#fdca26\"],[1.0,\"#f0f921\"]],\"type\":\"heatmapgl\"}],\"histogram\":[{\"marker\":{\"pattern\":{\"fillmode\":\"overlay\",\"size\":10,\"solidity\":0.2}},\"type\":\"histogram\"}],\"histogram2d\":[{\"colorbar\":{\"outlinewidth\":0,\"ticks\":\"\"},\"colorscale\":[[0.0,\"#0d0887\"],[0.1111111111111111,\"#46039f\"],[0.2222222222222222,\"#7201a8\"],[0.3333333333333333,\"#9c179e\"],[0.4444444444444444,\"#bd3786\"],[0.5555555555555556,\"#d8576b\"],[0.6666666666666666,\"#ed7953\"],[0.7777777777777778,\"#fb9f3a\"],[0.8888888888888888,\"#fdca26\"],[1.0,\"#f0f921\"]],\"type\":\"histogram2d\"}],\"histogram2dcontour\":[{\"colorbar\":{\"outlinewidth\":0,\"ticks\":\"\"},\"colorscale\":[[0.0,\"#0d0887\"],[0.1111111111111111,\"#46039f\"],[0.2222222222222222,\"#7201a8\"],[0.3333333333333333,\"#9c179e\"],[0.4444444444444444,\"#bd3786\"],[0.5555555555555556,\"#d8576b\"],[0.6666666666666666,\"#ed7953\"],[0.7777777777777778,\"#fb9f3a\"],[0.8888888888888888,\"#fdca26\"],[1.0,\"#f0f921\"]],\"type\":\"histogram2dcontour\"}],\"mesh3d\":[{\"colorbar\":{\"outlinewidth\":0,\"ticks\":\"\"},\"type\":\"mesh3d\"}],\"parcoords\":[{\"line\":{\"colorbar\":{\"outlinewidth\":0,\"ticks\":\"\"}},\"type\":\"parcoords\"}],\"pie\":[{\"automargin\":true,\"type\":\"pie\"}],\"scatter\":[{\"marker\":{\"colorbar\":{\"outlinewidth\":0,\"ticks\":\"\"}},\"type\":\"scatter\"}],\"scatter3d\":[{\"line\":{\"colorbar\":{\"outlinewidth\":0,\"ticks\":\"\"}},\"marker\":{\"colorbar\":{\"outlinewidth\":0,\"ticks\":\"\"}},\"type\":\"scatter3d\"}],\"scattercarpet\":[{\"marker\":{\"colorbar\":{\"outlinewidth\":0,\"ticks\":\"\"}},\"type\":\"scattercarpet\"}],\"scattergeo\":[{\"marker\":{\"colorbar\":{\"outlinewidth\":0,\"ticks\":\"\"}},\"type\":\"scattergeo\"}],\"scattergl\":[{\"marker\":{\"colorbar\":{\"outlinewidth\":0,\"ticks\":\"\"}},\"type\":\"scattergl\"}],\"scattermapbox\":[{\"marker\":{\"colorbar\":{\"outlinewidth\":0,\"ticks\":\"\"}},\"type\":\"scattermapbox\"}],\"scatterpolar\":[{\"marker\":{\"colorbar\":{\"outlinewidth\":0,\"ticks\":\"\"}},\"type\":\"scatterpolar\"}],\"scatterpolargl\":[{\"marker\":{\"colorbar\":{\"outlinewidth\":0,\"ticks\":\"\"}},\"type\":\"scatterpolargl\"}],\"scatterternary\":[{\"marker\":{\"colorbar\":{\"outlinewidth\":0,\"ticks\":\"\"}},\"type\":\"scatterternary\"}],\"surface\":[{\"colorbar\":{\"outlinewidth\":0,\"ticks\":\"\"},\"colorscale\":[[0.0,\"#0d0887\"],[0.1111111111111111,\"#46039f\"],[0.2222222222222222,\"#7201a8\"],[0.3333333333333333,\"#9c179e\"],[0.4444444444444444,\"#bd3786\"],[0.5555555555555556,\"#d8576b\"],[0.6666666666666666,\"#ed7953\"],[0.7777777777777778,\"#fb9f3a\"],[0.8888888888888888,\"#fdca26\"],[1.0,\"#f0f921\"]],\"type\":\"surface\"}],\"table\":[{\"cells\":{\"fill\":{\"color\":\"#EBF0F8\"},\"line\":{\"color\":\"white\"}},\"header\":{\"fill\":{\"color\":\"#C8D4E3\"},\"line\":{\"color\":\"white\"}},\"type\":\"table\"}]},\"layout\":{\"annotationdefaults\":{\"arrowcolor\":\"#2a3f5f\",\"arrowhead\":0,\"arrowwidth\":1},\"autotypenumbers\":\"strict\",\"coloraxis\":{\"colorbar\":{\"outlinewidth\":0,\"ticks\":\"\"}},\"colorscale\":{\"diverging\":[[0,\"#8e0152\"],[0.1,\"#c51b7d\"],[0.2,\"#de77ae\"],[0.3,\"#f1b6da\"],[0.4,\"#fde0ef\"],[0.5,\"#f7f7f7\"],[0.6,\"#e6f5d0\"],[0.7,\"#b8e186\"],[0.8,\"#7fbc41\"],[0.9,\"#4d9221\"],[1,\"#276419\"]],\"sequential\":[[0.0,\"#0d0887\"],[0.1111111111111111,\"#46039f\"],[0.2222222222222222,\"#7201a8\"],[0.3333333333333333,\"#9c179e\"],[0.4444444444444444,\"#bd3786\"],[0.5555555555555556,\"#d8576b\"],[0.6666666666666666,\"#ed7953\"],[0.7777777777777778,\"#fb9f3a\"],[0.8888888888888888,\"#fdca26\"],[1.0,\"#f0f921\"]],\"sequentialminus\":[[0.0,\"#0d0887\"],[0.1111111111111111,\"#46039f\"],[0.2222222222222222,\"#7201a8\"],[0.3333333333333333,\"#9c179e\"],[0.4444444444444444,\"#bd3786\"],[0.5555555555555556,\"#d8576b\"],[0.6666666666666666,\"#ed7953\"],[0.7777777777777778,\"#fb9f3a\"],[0.8888888888888888,\"#fdca26\"],[1.0,\"#f0f921\"]]},\"colorway\":[\"#636efa\",\"#EF553B\",\"#00cc96\",\"#ab63fa\",\"#FFA15A\",\"#19d3f3\",\"#FF6692\",\"#B6E880\",\"#FF97FF\",\"#FECB52\"],\"font\":{\"color\":\"#2a3f5f\"},\"geo\":{\"bgcolor\":\"white\",\"lakecolor\":\"white\",\"landcolor\":\"#E5ECF6\",\"showlakes\":true,\"showland\":true,\"subunitcolor\":\"white\"},\"hoverlabel\":{\"align\":\"left\"},\"hovermode\":\"closest\",\"mapbox\":{\"style\":\"light\"},\"paper_bgcolor\":\"white\",\"plot_bgcolor\":\"#E5ECF6\",\"polar\":{\"angularaxis\":{\"gridcolor\":\"white\",\"linecolor\":\"white\",\"ticks\":\"\"},\"bgcolor\":\"#E5ECF6\",\"radialaxis\":{\"gridcolor\":\"white\",\"linecolor\":\"white\",\"ticks\":\"\"}},\"scene\":{\"xaxis\":{\"backgroundcolor\":\"#E5ECF6\",\"gridcolor\":\"white\",\"gridwidth\":2,\"linecolor\":\"white\",\"showbackground\":true,\"ticks\":\"\",\"zerolinecolor\":\"white\"},\"yaxis\":{\"backgroundcolor\":\"#E5ECF6\",\"gridcolor\":\"white\",\"gridwidth\":2,\"linecolor\":\"white\",\"showbackground\":true,\"ticks\":\"\",\"zerolinecolor\":\"white\"},\"zaxis\":{\"backgroundcolor\":\"#E5ECF6\",\"gridcolor\":\"white\",\"gridwidth\":2,\"linecolor\":\"white\",\"showbackground\":true,\"ticks\":\"\",\"zerolinecolor\":\"white\"}},\"shapedefaults\":{\"line\":{\"color\":\"#2a3f5f\"}},\"ternary\":{\"aaxis\":{\"gridcolor\":\"white\",\"linecolor\":\"white\",\"ticks\":\"\"},\"baxis\":{\"gridcolor\":\"white\",\"linecolor\":\"white\",\"ticks\":\"\"},\"bgcolor\":\"#E5ECF6\",\"caxis\":{\"gridcolor\":\"white\",\"linecolor\":\"white\",\"ticks\":\"\"}},\"title\":{\"x\":0.05},\"xaxis\":{\"automargin\":true,\"gridcolor\":\"white\",\"linecolor\":\"white\",\"ticks\":\"\",\"title\":{\"standoff\":15},\"zerolinecolor\":\"white\",\"zerolinewidth\":2},\"yaxis\":{\"automargin\":true,\"gridcolor\":\"white\",\"linecolor\":\"white\",\"ticks\":\"\",\"title\":{\"standoff\":15},\"zerolinecolor\":\"white\",\"zerolinewidth\":2}}},\"xaxis\":{\"anchor\":\"y\",\"domain\":[0.0,1.0],\"title\":{\"text\":\"Time\"}},\"yaxis\":{\"anchor\":\"x\",\"domain\":[0.0,1.0],\"title\":{\"text\":\"Amount\"}},\"coloraxis\":{\"colorbar\":{\"title\":{\"text\":\"Class\"}},\"colorscale\":[[0.0,\"#0d0887\"],[0.1111111111111111,\"#46039f\"],[0.2222222222222222,\"#7201a8\"],[0.3333333333333333,\"#9c179e\"],[0.4444444444444444,\"#bd3786\"],[0.5555555555555556,\"#d8576b\"],[0.6666666666666666,\"#ed7953\"],[0.7777777777777778,\"#fb9f3a\"],[0.8888888888888888,\"#fdca26\"],[1.0,\"#f0f921\"]]},\"legend\":{\"tracegroupgap\":0,\"itemsizing\":\"constant\"},\"margin\":{\"t\":60}},                        {\"responsive\": true}                    ).then(function(){\n",
              "                            \n",
              "var gd = document.getElementById('b3efd177-2c8d-4c46-ab53-59f0cda3a61e');\n",
              "var x = new MutationObserver(function (mutations, observer) {{\n",
              "        var display = window.getComputedStyle(gd).display;\n",
              "        if (!display || display === 'none') {{\n",
              "            console.log([gd, 'removed!']);\n",
              "            Plotly.purge(gd);\n",
              "            observer.disconnect();\n",
              "        }}\n",
              "}});\n",
              "\n",
              "// Listen for the removal of the full notebook cells\n",
              "var notebookContainer = gd.closest('#notebook-container');\n",
              "if (notebookContainer) {{\n",
              "    x.observe(notebookContainer, {childList: true});\n",
              "}}\n",
              "\n",
              "// Listen for the clearing of the current output cell\n",
              "var outputEl = gd.closest('.output');\n",
              "if (outputEl) {{\n",
              "    x.observe(outputEl, {childList: true});\n",
              "}}\n",
              "\n",
              "                        })                };                            </script>        </div>\n",
              "</body>\n",
              "</html>"
            ]
          },
          "metadata": {}
        }
      ],
      "source": [
        "import plotly.express as px\n",
        "\n",
        "df_muestras = pd.concat([fraud_sample, valid_sample])\n",
        "fig = px.scatter(df_muestras, y=\"Amount\", x=\"Time\", color='Class',\n",
        "                 size='Amount', size_max=50)\n",
        "fig.show()"
      ]
    },
    {
      "cell_type": "markdown",
      "id": "cb723260",
      "metadata": {
        "id": "cb723260"
      },
      "source": [
        "### 4. Algunas consideraciones de negocios. \n",
        "Supongamos ahora que sus contrapartes de negocios del la entidad financiera quieren entender algunas particularidades de estos pagos fraudulentos. Utilicemos algunos de los conceptos que definimos anterioremente para poder trasmitir algunas características sencillas de la clase fradulenta de pagos.\n",
        "1. Presenten el monto total de fraude versus el monto total de transacciones. ¿Cuál es el porcentaje de fraude para este dataset?\n",
        "2. Sus contrapartes de negocios quieren saber ahora cómo se comporta el fraude en relación al monto. Separando el monto de dinero en intervalos de dinero de [0-10] llamado montos bajos, de [10-30] como montos intermedios-bajos, [30-50] como montos intermedios-altos, y [+50] como montos altos, expliciten en cuál de ellos se encuentra concentrado la mayoría de las instancias fraude y en cual de ellos se concentra la mayor cantidad de dinero perdido por fraude. Estas dos medidas, ¿coinciden? ¿Podemos decir si pensamos de esta forma el problema que la mayor pérdida de dinero se da necesariamente allí donde hay mayor cantidad de fraude?  "
      ]
    },
    {
      "cell_type": "code",
      "execution_count": null,
      "id": "fb1b1212-516c-4391-86a5-222d031096bc",
      "metadata": {
        "colab": {
          "base_uri": "https://localhost:8080/"
        },
        "id": "fb1b1212-516c-4391-86a5-222d031096bc",
        "outputId": "830154bc-61a1-4f39-e9e7-d1ed25972c6f"
      },
      "outputs": [
        {
          "output_type": "stream",
          "name": "stdout",
          "text": [
            "Monto total de fraude:  60127.97\n",
            "Monto total de pagos validos:  25102462.04\n",
            "Porcentaje de fraude: % 0.23953017000558724\n"
          ]
        }
      ],
      "source": [
        "df_unidos2=pd.concat([df_1,df_2], ignore_index=True)\n",
        "\n",
        "df_columnas2 = df_unidos2[[\"Amount\", \"Time\", \"Class\"]]\n",
        "is_fraud = df_columnas2.Class == 1\n",
        "groupFraud2 = df_columnas2[is_fraud]\n",
        "groupValid2 = df_columnas2[~is_fraud]\n",
        "fraudAmount = groupFraud2[\"Amount\"].sum()\n",
        "print(\"Monto total de fraude: \", fraudAmount)\n",
        "\n",
        "validAmount = groupValid2[\"Amount\"].sum()\n",
        "print(\"Monto total de pagos validos: \", validAmount)\n",
        "\n",
        "fraudPercentage = fraudAmount/validAmount * 100\n",
        "print(\"Porcentaje de fraude: %\", fraudPercentage)"
      ]
    },
    {
      "cell_type": "code",
      "execution_count": null,
      "id": "9910c3af-2195-4db6-a39c-a1c49e509205",
      "metadata": {
        "colab": {
          "base_uri": "https://localhost:8080/"
        },
        "id": "9910c3af-2195-4db6-a39c-a1c49e509205",
        "outputId": "6ec9a1b3-dfe9-417a-ae34-3841fc462abd"
      },
      "outputs": [
        {
          "output_type": "stream",
          "name": "stdout",
          "text": [
            "Suma valores fraude de 0 a 10:  458.90000000000003\n",
            "Suma valores efectivos de 0 a 10:  359917.05\n",
            "Cantidad de frecuencia fraudulentas:  249\n"
          ]
        }
      ],
      "source": [
        "firstTen = df_columnas2[df_columnas2[\"Amount\"] < 10]\n",
        "\n",
        "is_fraud = firstTen.Class == 1\n",
        "groupFraud3 = firstTen[is_fraud]\n",
        "groupValid3 = firstTen[~is_fraud]\n",
        "\n",
        "print(\"Suma valores fraude de 0 a 10: \", groupFraud3[\"Amount\"].sum())\n",
        "print(\"Suma valores efectivos de 0 a 10: \", groupValid3[\"Amount\"].sum())\n",
        "print(\"Cantidad de frecuencia fraudulentas: \",groupFraud3.Class.count())"
      ]
    },
    {
      "cell_type": "code",
      "execution_count": null,
      "id": "c9105242-142a-413a-8da6-f86c448d06c9",
      "metadata": {
        "colab": {
          "base_uri": "https://localhost:8080/"
        },
        "id": "c9105242-142a-413a-8da6-f86c448d06c9",
        "outputId": "f3a15156-247c-49d0-b7b8-08d5212926c1"
      },
      "outputs": [
        {
          "output_type": "stream",
          "name": "stdout",
          "text": [
            "Suma valores fraude de 10 a 30:  497.1599999999999\n",
            "Suma valores efectivos de 10 a 30:  1173367.82\n",
            "Cantidad de frecuencia fraudulentas:  28\n"
          ]
        }
      ],
      "source": [
        "inBetween = df_columnas2[df_columnas2[\"Amount\"].between(10,30)]\n",
        "\n",
        "is_fraud = inBetween.Class == 1\n",
        "groupFraud4 = inBetween[is_fraud]\n",
        "groupValid4 = inBetween[~is_fraud]\n",
        "\n",
        "print(\"Suma valores fraude de 10 a 30: \", groupFraud4[\"Amount\"].sum())\n",
        "print(\"Suma valores efectivos de 10 a 30: \", groupValid4[\"Amount\"].sum())\n",
        "print(\"Cantidad de frecuencia fraudulentas: \",groupFraud4.Class.count())"
      ]
    },
    {
      "cell_type": "code",
      "execution_count": null,
      "id": "58761639-df1f-4fa3-afa3-399b142a7b4b",
      "metadata": {
        "colab": {
          "base_uri": "https://localhost:8080/"
        },
        "id": "58761639-df1f-4fa3-afa3-399b142a7b4b",
        "outputId": "f8cdd22b-20eb-4041-81bd-fc6031b9092f"
      },
      "outputs": [
        {
          "output_type": "stream",
          "name": "stdout",
          "text": [
            "Suma valores fraude de 30 a 50:  1117.8700000000001\n",
            "Suma valores efectivos de 30 a 50:  1241489.43\n",
            "Cantidad de frecuencia fraudulentas:  29\n"
          ]
        }
      ],
      "source": [
        "inBetween3050 = df_columnas2[df_columnas2[\"Amount\"].between(30,50)]\n",
        "\n",
        "is_fraud = inBetween3050.Class == 1\n",
        "groupFraud5 = inBetween3050[is_fraud]\n",
        "groupValid5 = inBetween3050[~is_fraud]\n",
        "\n",
        "print(\"Suma valores fraude de 30 a 50: \", groupFraud5[\"Amount\"].sum())\n",
        "print(\"Suma valores efectivos de 30 a 50: \", groupValid5[\"Amount\"].sum())\n",
        "print(\"Cantidad de frecuencia fraudulentas: \",groupFraud5.Class.count())"
      ]
    },
    {
      "cell_type": "code",
      "execution_count": null,
      "id": "34358bad-c74d-491b-83e2-26c99e2fbbb6",
      "metadata": {
        "colab": {
          "base_uri": "https://localhost:8080/"
        },
        "id": "34358bad-c74d-491b-83e2-26c99e2fbbb6",
        "outputId": "14bc3b9f-42b6-4f48-89a2-147d3b6b96c6"
      },
      "outputs": [
        {
          "output_type": "stream",
          "name": "stdout",
          "text": [
            "Suma valores fraude mayores a 50:  58054.04\n",
            "Suma valores efectivos mayores a 50:  22358047.739999995\n",
            "Cantidad de frecuencia fraudulentas:  186\n"
          ]
        }
      ],
      "source": [
        "last50 = df_columnas2[df_columnas2[\"Amount\"] > 50]\n",
        "\n",
        "is_fraud = last50.Class == 1\n",
        "groupFraud6 = last50[is_fraud]\n",
        "groupValid6 = last50[~is_fraud]\n",
        "\n",
        "print(\"Suma valores fraude mayores a 50: \", groupFraud6[\"Amount\"].sum())\n",
        "print(\"Suma valores efectivos mayores a 50: \", groupValid6[\"Amount\"].sum())\n",
        "print(\"Cantidad de frecuencia fraudulentas: \",groupFraud6.Class.count())"
      ]
    },
    {
      "cell_type": "markdown",
      "id": "b928d8e4-42f6-4f45-b9dc-aea7fb3be462",
      "metadata": {
        "id": "b928d8e4-42f6-4f45-b9dc-aea7fb3be462"
      },
      "source": [
        "**Las medidas no coinciden.Podemos ver que la mayoria de los fraudes son en un intervalo menor a 10, sin embargo el monto mayor de fraude esta en los intervalos mayores a 50.\n",
        "Las frecuencias son mayores y de menor monto, ya que suponemos que estan probando he intentado ver si la tarjeta pasa la comprobacion, una vez que pasa la utilizan para realizar una compra superior, por eso los montos son mas alto, pero tienen poca frecuencia. Aqui abajó se puede ver el porcentaje de estos fraudes sobre el total: **"
      ]
    },
    {
      "cell_type": "code",
      "execution_count": null,
      "id": "cd74a56b-c1cf-496d-9a87-bd59fd2fb2fd",
      "metadata": {
        "colab": {
          "base_uri": "https://localhost:8080/"
        },
        "id": "cd74a56b-c1cf-496d-9a87-bd59fd2fb2fd",
        "outputId": "fea40138-5fc2-449d-d11e-af080f925d1a"
      },
      "outputs": [
        {
          "output_type": "stream",
          "name": "stdout",
          "text": [
            "Porcentaje de monto de fraudes mayores de 50 sobre el total de fraudes: % 1.8591514065750099\n"
          ]
        }
      ],
      "source": [
        "last50percentage = groupFraud5[\"Amount\"].sum()/fraudAmount*100\n",
        "print(\"Porcentaje de monto de fraudes mayores de 50 sobre el total de fraudes: %\", last50percentage)"
      ]
    },
    {
      "cell_type": "code",
      "source": [
        "import plotly.graph_objs as go\n",
        "tags = ['0-10', '10-30', '30-50', '>50']\n",
        "amounts = [groupFraud3[\"Amount\"].sum(),\n",
        "           groupFraud4[\"Amount\"].sum(),\n",
        "           groupFraud5[\"Amount\"].sum(),\n",
        "           groupFraud6[\"Amount\"].sum()\n",
        "          ]\n",
        "data = [go.Bar(\n",
        "   x = tags,\n",
        "   y = amounts\n",
        ")]\n",
        "fig = go.Figure(data=data)\n",
        "fig.show()"
      ],
      "metadata": {
        "colab": {
          "base_uri": "https://localhost:8080/",
          "height": 542
        },
        "id": "67cB8eVfU5Z1",
        "outputId": "b64722b5-2977-45a6-dd57-6c4849632b60"
      },
      "id": "67cB8eVfU5Z1",
      "execution_count": null,
      "outputs": [
        {
          "output_type": "display_data",
          "data": {
            "text/html": [
              "<html>\n",
              "<head><meta charset=\"utf-8\" /></head>\n",
              "<body>\n",
              "    <div>            <script src=\"https://cdnjs.cloudflare.com/ajax/libs/mathjax/2.7.5/MathJax.js?config=TeX-AMS-MML_SVG\"></script><script type=\"text/javascript\">if (window.MathJax) {MathJax.Hub.Config({SVG: {font: \"STIX-Web\"}});}</script>                <script type=\"text/javascript\">window.PlotlyConfig = {MathJaxConfig: 'local'};</script>\n",
              "        <script src=\"https://cdn.plot.ly/plotly-2.8.3.min.js\"></script>                <div id=\"56a9a771-f49f-4b2e-9692-cb7636eb0615\" class=\"plotly-graph-div\" style=\"height:525px; width:100%;\"></div>            <script type=\"text/javascript\">                                    window.PLOTLYENV=window.PLOTLYENV || {};                                    if (document.getElementById(\"56a9a771-f49f-4b2e-9692-cb7636eb0615\")) {                    Plotly.newPlot(                        \"56a9a771-f49f-4b2e-9692-cb7636eb0615\",                        [{\"x\":[\"0-10\",\"10-30\",\"30-50\",\">50\"],\"y\":[458.90000000000003,497.1599999999999,1117.8700000000001,58054.04],\"type\":\"bar\"}],                        {\"template\":{\"data\":{\"bar\":[{\"error_x\":{\"color\":\"#2a3f5f\"},\"error_y\":{\"color\":\"#2a3f5f\"},\"marker\":{\"line\":{\"color\":\"#E5ECF6\",\"width\":0.5},\"pattern\":{\"fillmode\":\"overlay\",\"size\":10,\"solidity\":0.2}},\"type\":\"bar\"}],\"barpolar\":[{\"marker\":{\"line\":{\"color\":\"#E5ECF6\",\"width\":0.5},\"pattern\":{\"fillmode\":\"overlay\",\"size\":10,\"solidity\":0.2}},\"type\":\"barpolar\"}],\"carpet\":[{\"aaxis\":{\"endlinecolor\":\"#2a3f5f\",\"gridcolor\":\"white\",\"linecolor\":\"white\",\"minorgridcolor\":\"white\",\"startlinecolor\":\"#2a3f5f\"},\"baxis\":{\"endlinecolor\":\"#2a3f5f\",\"gridcolor\":\"white\",\"linecolor\":\"white\",\"minorgridcolor\":\"white\",\"startlinecolor\":\"#2a3f5f\"},\"type\":\"carpet\"}],\"choropleth\":[{\"colorbar\":{\"outlinewidth\":0,\"ticks\":\"\"},\"type\":\"choropleth\"}],\"contour\":[{\"colorbar\":{\"outlinewidth\":0,\"ticks\":\"\"},\"colorscale\":[[0.0,\"#0d0887\"],[0.1111111111111111,\"#46039f\"],[0.2222222222222222,\"#7201a8\"],[0.3333333333333333,\"#9c179e\"],[0.4444444444444444,\"#bd3786\"],[0.5555555555555556,\"#d8576b\"],[0.6666666666666666,\"#ed7953\"],[0.7777777777777778,\"#fb9f3a\"],[0.8888888888888888,\"#fdca26\"],[1.0,\"#f0f921\"]],\"type\":\"contour\"}],\"contourcarpet\":[{\"colorbar\":{\"outlinewidth\":0,\"ticks\":\"\"},\"type\":\"contourcarpet\"}],\"heatmap\":[{\"colorbar\":{\"outlinewidth\":0,\"ticks\":\"\"},\"colorscale\":[[0.0,\"#0d0887\"],[0.1111111111111111,\"#46039f\"],[0.2222222222222222,\"#7201a8\"],[0.3333333333333333,\"#9c179e\"],[0.4444444444444444,\"#bd3786\"],[0.5555555555555556,\"#d8576b\"],[0.6666666666666666,\"#ed7953\"],[0.7777777777777778,\"#fb9f3a\"],[0.8888888888888888,\"#fdca26\"],[1.0,\"#f0f921\"]],\"type\":\"heatmap\"}],\"heatmapgl\":[{\"colorbar\":{\"outlinewidth\":0,\"ticks\":\"\"},\"colorscale\":[[0.0,\"#0d0887\"],[0.1111111111111111,\"#46039f\"],[0.2222222222222222,\"#7201a8\"],[0.3333333333333333,\"#9c179e\"],[0.4444444444444444,\"#bd3786\"],[0.5555555555555556,\"#d8576b\"],[0.6666666666666666,\"#ed7953\"],[0.7777777777777778,\"#fb9f3a\"],[0.8888888888888888,\"#fdca26\"],[1.0,\"#f0f921\"]],\"type\":\"heatmapgl\"}],\"histogram\":[{\"marker\":{\"pattern\":{\"fillmode\":\"overlay\",\"size\":10,\"solidity\":0.2}},\"type\":\"histogram\"}],\"histogram2d\":[{\"colorbar\":{\"outlinewidth\":0,\"ticks\":\"\"},\"colorscale\":[[0.0,\"#0d0887\"],[0.1111111111111111,\"#46039f\"],[0.2222222222222222,\"#7201a8\"],[0.3333333333333333,\"#9c179e\"],[0.4444444444444444,\"#bd3786\"],[0.5555555555555556,\"#d8576b\"],[0.6666666666666666,\"#ed7953\"],[0.7777777777777778,\"#fb9f3a\"],[0.8888888888888888,\"#fdca26\"],[1.0,\"#f0f921\"]],\"type\":\"histogram2d\"}],\"histogram2dcontour\":[{\"colorbar\":{\"outlinewidth\":0,\"ticks\":\"\"},\"colorscale\":[[0.0,\"#0d0887\"],[0.1111111111111111,\"#46039f\"],[0.2222222222222222,\"#7201a8\"],[0.3333333333333333,\"#9c179e\"],[0.4444444444444444,\"#bd3786\"],[0.5555555555555556,\"#d8576b\"],[0.6666666666666666,\"#ed7953\"],[0.7777777777777778,\"#fb9f3a\"],[0.8888888888888888,\"#fdca26\"],[1.0,\"#f0f921\"]],\"type\":\"histogram2dcontour\"}],\"mesh3d\":[{\"colorbar\":{\"outlinewidth\":0,\"ticks\":\"\"},\"type\":\"mesh3d\"}],\"parcoords\":[{\"line\":{\"colorbar\":{\"outlinewidth\":0,\"ticks\":\"\"}},\"type\":\"parcoords\"}],\"pie\":[{\"automargin\":true,\"type\":\"pie\"}],\"scatter\":[{\"marker\":{\"colorbar\":{\"outlinewidth\":0,\"ticks\":\"\"}},\"type\":\"scatter\"}],\"scatter3d\":[{\"line\":{\"colorbar\":{\"outlinewidth\":0,\"ticks\":\"\"}},\"marker\":{\"colorbar\":{\"outlinewidth\":0,\"ticks\":\"\"}},\"type\":\"scatter3d\"}],\"scattercarpet\":[{\"marker\":{\"colorbar\":{\"outlinewidth\":0,\"ticks\":\"\"}},\"type\":\"scattercarpet\"}],\"scattergeo\":[{\"marker\":{\"colorbar\":{\"outlinewidth\":0,\"ticks\":\"\"}},\"type\":\"scattergeo\"}],\"scattergl\":[{\"marker\":{\"colorbar\":{\"outlinewidth\":0,\"ticks\":\"\"}},\"type\":\"scattergl\"}],\"scattermapbox\":[{\"marker\":{\"colorbar\":{\"outlinewidth\":0,\"ticks\":\"\"}},\"type\":\"scattermapbox\"}],\"scatterpolar\":[{\"marker\":{\"colorbar\":{\"outlinewidth\":0,\"ticks\":\"\"}},\"type\":\"scatterpolar\"}],\"scatterpolargl\":[{\"marker\":{\"colorbar\":{\"outlinewidth\":0,\"ticks\":\"\"}},\"type\":\"scatterpolargl\"}],\"scatterternary\":[{\"marker\":{\"colorbar\":{\"outlinewidth\":0,\"ticks\":\"\"}},\"type\":\"scatterternary\"}],\"surface\":[{\"colorbar\":{\"outlinewidth\":0,\"ticks\":\"\"},\"colorscale\":[[0.0,\"#0d0887\"],[0.1111111111111111,\"#46039f\"],[0.2222222222222222,\"#7201a8\"],[0.3333333333333333,\"#9c179e\"],[0.4444444444444444,\"#bd3786\"],[0.5555555555555556,\"#d8576b\"],[0.6666666666666666,\"#ed7953\"],[0.7777777777777778,\"#fb9f3a\"],[0.8888888888888888,\"#fdca26\"],[1.0,\"#f0f921\"]],\"type\":\"surface\"}],\"table\":[{\"cells\":{\"fill\":{\"color\":\"#EBF0F8\"},\"line\":{\"color\":\"white\"}},\"header\":{\"fill\":{\"color\":\"#C8D4E3\"},\"line\":{\"color\":\"white\"}},\"type\":\"table\"}]},\"layout\":{\"annotationdefaults\":{\"arrowcolor\":\"#2a3f5f\",\"arrowhead\":0,\"arrowwidth\":1},\"autotypenumbers\":\"strict\",\"coloraxis\":{\"colorbar\":{\"outlinewidth\":0,\"ticks\":\"\"}},\"colorscale\":{\"diverging\":[[0,\"#8e0152\"],[0.1,\"#c51b7d\"],[0.2,\"#de77ae\"],[0.3,\"#f1b6da\"],[0.4,\"#fde0ef\"],[0.5,\"#f7f7f7\"],[0.6,\"#e6f5d0\"],[0.7,\"#b8e186\"],[0.8,\"#7fbc41\"],[0.9,\"#4d9221\"],[1,\"#276419\"]],\"sequential\":[[0.0,\"#0d0887\"],[0.1111111111111111,\"#46039f\"],[0.2222222222222222,\"#7201a8\"],[0.3333333333333333,\"#9c179e\"],[0.4444444444444444,\"#bd3786\"],[0.5555555555555556,\"#d8576b\"],[0.6666666666666666,\"#ed7953\"],[0.7777777777777778,\"#fb9f3a\"],[0.8888888888888888,\"#fdca26\"],[1.0,\"#f0f921\"]],\"sequentialminus\":[[0.0,\"#0d0887\"],[0.1111111111111111,\"#46039f\"],[0.2222222222222222,\"#7201a8\"],[0.3333333333333333,\"#9c179e\"],[0.4444444444444444,\"#bd3786\"],[0.5555555555555556,\"#d8576b\"],[0.6666666666666666,\"#ed7953\"],[0.7777777777777778,\"#fb9f3a\"],[0.8888888888888888,\"#fdca26\"],[1.0,\"#f0f921\"]]},\"colorway\":[\"#636efa\",\"#EF553B\",\"#00cc96\",\"#ab63fa\",\"#FFA15A\",\"#19d3f3\",\"#FF6692\",\"#B6E880\",\"#FF97FF\",\"#FECB52\"],\"font\":{\"color\":\"#2a3f5f\"},\"geo\":{\"bgcolor\":\"white\",\"lakecolor\":\"white\",\"landcolor\":\"#E5ECF6\",\"showlakes\":true,\"showland\":true,\"subunitcolor\":\"white\"},\"hoverlabel\":{\"align\":\"left\"},\"hovermode\":\"closest\",\"mapbox\":{\"style\":\"light\"},\"paper_bgcolor\":\"white\",\"plot_bgcolor\":\"#E5ECF6\",\"polar\":{\"angularaxis\":{\"gridcolor\":\"white\",\"linecolor\":\"white\",\"ticks\":\"\"},\"bgcolor\":\"#E5ECF6\",\"radialaxis\":{\"gridcolor\":\"white\",\"linecolor\":\"white\",\"ticks\":\"\"}},\"scene\":{\"xaxis\":{\"backgroundcolor\":\"#E5ECF6\",\"gridcolor\":\"white\",\"gridwidth\":2,\"linecolor\":\"white\",\"showbackground\":true,\"ticks\":\"\",\"zerolinecolor\":\"white\"},\"yaxis\":{\"backgroundcolor\":\"#E5ECF6\",\"gridcolor\":\"white\",\"gridwidth\":2,\"linecolor\":\"white\",\"showbackground\":true,\"ticks\":\"\",\"zerolinecolor\":\"white\"},\"zaxis\":{\"backgroundcolor\":\"#E5ECF6\",\"gridcolor\":\"white\",\"gridwidth\":2,\"linecolor\":\"white\",\"showbackground\":true,\"ticks\":\"\",\"zerolinecolor\":\"white\"}},\"shapedefaults\":{\"line\":{\"color\":\"#2a3f5f\"}},\"ternary\":{\"aaxis\":{\"gridcolor\":\"white\",\"linecolor\":\"white\",\"ticks\":\"\"},\"baxis\":{\"gridcolor\":\"white\",\"linecolor\":\"white\",\"ticks\":\"\"},\"bgcolor\":\"#E5ECF6\",\"caxis\":{\"gridcolor\":\"white\",\"linecolor\":\"white\",\"ticks\":\"\"}},\"title\":{\"x\":0.05},\"xaxis\":{\"automargin\":true,\"gridcolor\":\"white\",\"linecolor\":\"white\",\"ticks\":\"\",\"title\":{\"standoff\":15},\"zerolinecolor\":\"white\",\"zerolinewidth\":2},\"yaxis\":{\"automargin\":true,\"gridcolor\":\"white\",\"linecolor\":\"white\",\"ticks\":\"\",\"title\":{\"standoff\":15},\"zerolinecolor\":\"white\",\"zerolinewidth\":2}}}},                        {\"responsive\": true}                    ).then(function(){\n",
              "                            \n",
              "var gd = document.getElementById('56a9a771-f49f-4b2e-9692-cb7636eb0615');\n",
              "var x = new MutationObserver(function (mutations, observer) {{\n",
              "        var display = window.getComputedStyle(gd).display;\n",
              "        if (!display || display === 'none') {{\n",
              "            console.log([gd, 'removed!']);\n",
              "            Plotly.purge(gd);\n",
              "            observer.disconnect();\n",
              "        }}\n",
              "}});\n",
              "\n",
              "// Listen for the removal of the full notebook cells\n",
              "var notebookContainer = gd.closest('#notebook-container');\n",
              "if (notebookContainer) {{\n",
              "    x.observe(notebookContainer, {childList: true});\n",
              "}}\n",
              "\n",
              "// Listen for the clearing of the current output cell\n",
              "var outputEl = gd.closest('.output');\n",
              "if (outputEl) {{\n",
              "    x.observe(outputEl, {childList: true});\n",
              "}}\n",
              "\n",
              "                        })                };                            </script>        </div>\n",
              "</body>\n",
              "</html>"
            ]
          },
          "metadata": {}
        }
      ]
    }
  ],
  "metadata": {
    "colab": {
      "collapsed_sections": [],
      "name": "primer_entrega_Mentoria_GRUPO1.ipynb",
      "provenance": []
    },
    "kernelspec": {
      "display_name": "Python 3 (ipykernel)",
      "language": "python",
      "name": "python3"
    },
    "language_info": {
      "codemirror_mode": {
        "name": "ipython",
        "version": 3
      },
      "file_extension": ".py",
      "mimetype": "text/x-python",
      "name": "python",
      "nbconvert_exporter": "python",
      "pygments_lexer": "ipython3",
      "version": "3.8.8"
    }
  },
  "nbformat": 4,
  "nbformat_minor": 5
}