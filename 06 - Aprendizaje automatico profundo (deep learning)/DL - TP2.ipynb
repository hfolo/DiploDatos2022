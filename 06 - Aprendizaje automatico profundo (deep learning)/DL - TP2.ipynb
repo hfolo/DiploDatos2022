{
 "cells": [
  {
   "cell_type": "markdown",
   "metadata": {
    "id": "UpYzXVatkYwn"
   },
   "source": [
    "**Diplomatura en Ciencia de Datos, Aprendizaje Automático y sus Aplicaciones**\n",
    "\n",
    "Integrantes:\n",
    "*   Candelaria Arpajou: mcarpajou@santafe-conicet.gov.ar\n",
    "*   Hugo Folonier: hugofolonier@gmail.com\n",
    "*   Gustavo Jaca: gustavojaca@gmail.com\n",
    "*   Nicolas Rosales: elnicorosales@gmail.com\n",
    "\n",
    "**Edición 2022**\n",
    "\n",
    "---\n",
    "# **Aprendizaje Profundo**\n",
    "## **Trabajo Práctico Nº1**"
   ]
  },
  {
   "cell_type": "markdown",
   "metadata": {
    "id": "lB_580RhgWjP"
   },
   "source": [
    "## Librerías"
   ]
  },
  {
   "cell_type": "code",
   "execution_count": null,
   "metadata": {
    "id": "PhX0iO4ilWFw"
   },
   "outputs": [],
   "source": [
    "import gzip\n",
    "import bz2\n",
    "import pandas as pd\n",
    "import numpy as np\n",
    "import torch\n",
    "import torch.optim as optim\n",
    "import torch.nn as nn\n",
    "import torch.nn.functional as F\n",
    "\n",
    "from gensim import corpora\n",
    "from gensim.parsing import preprocessing\n",
    "from sklearn.model_selection import train_test_split\n",
    "from sklearn.metrics import balanced_accuracy_score,classification_report\n",
    "from sklearn import metrics\n",
    "from torch.utils.data import Dataset, DataLoader, IterableDataset\n",
    "from tqdm.notebook import tqdm, trange\n",
    "\n",
    "import seaborn"
   ]
  },
  {
   "cell_type": "markdown",
   "metadata": {
    "id": "3NSiSo8ikYwy"
   },
   "source": [
    "### Uso de GPU en lugar de CPU"
   ]
  },
  {
   "cell_type": "code",
   "execution_count": null,
   "metadata": {
    "id": "Q787yCoFkYwz",
    "outputId": "37b847f7-80c9-47de-8d63-c75f0d23750b"
   },
   "outputs": [
    {
     "data": {
      "text/plain": [
       "device(type='cuda', index=0)"
      ]
     },
     "execution_count": 2,
     "metadata": {},
     "output_type": "execute_result"
    }
   ],
   "source": [
    "device = torch.device(\"cuda:0\" if torch.cuda.is_available() else \"cpu\")\n",
    "device"
   ]
  },
  {
   "cell_type": "markdown",
   "metadata": {
    "id": "P4O3dTwBkYw1"
   },
   "source": [
    "## Clases para Pre-procesado de los Datos"
   ]
  },
  {
   "cell_type": "code",
   "execution_count": null,
   "metadata": {
    "id": "og7XfQCdkYw1"
   },
   "outputs": [],
   "source": [
    "class MeLiChallengeDataset(Dataset): \n",
    "    def __init__(self, dataset, transform=None):\n",
    "        self.dataset = dataset\n",
    "        self.transform = transform\n",
    "    \n",
    "    def __len__(self):\n",
    "        return self.dataset.shape[0]\n",
    "\n",
    "    def __getitem__(self, item):\n",
    "        if torch.is_tensor(item):\n",
    "            item = item.tolist()\n",
    "        \n",
    "        item = {\n",
    "            \"data\": self.dataset.iloc[item][\"title\"],\n",
    "            \"target\": self.dataset.iloc[item][\"category\"]\n",
    "        }\n",
    "\n",
    "        if self.transform:\n",
    "            item = self.transform(item)\n",
    "        \n",
    "        return item"
   ]
  },
  {
   "cell_type": "code",
   "execution_count": null,
   "metadata": {
    "id": "jl32L64dkYw3"
   },
   "outputs": [],
   "source": [
    "class RawDataProcessor: # Genera el diccionario de lemmas a partir del texto \n",
    "    def __init__(self, \n",
    "                 dataset, \n",
    "                 ignore_header=True, \n",
    "                 filters=None, \n",
    "                 vocab_size=50000):\n",
    "        if filters:\n",
    "            self.filters = filters\n",
    "        else:\n",
    "            self.filters = [\n",
    "                lambda s: s.lower(),\n",
    "                preprocessing.strip_tags,\n",
    "                preprocessing.strip_punctuation,\n",
    "                preprocessing.strip_multiple_whitespaces,\n",
    "                preprocessing.strip_numeric,\n",
    "                preprocessing.remove_stopwords,\n",
    "                preprocessing.strip_short,\n",
    "            ]\n",
    "        \n",
    "        # Create dictionary based on all the reviews (with corresponding preprocessing)\n",
    "        # https://radimrehurek.com/gensim/corpora/dictionary.html\n",
    "        self.dictionary = corpora.Dictionary(\n",
    "            dataset[\"title\"].map(self._preprocess_string).tolist()\n",
    "        )\n",
    "        # Filter the dictionary with extremos words\n",
    "        # https://tedboy.github.io/nlps/generated/generated/gensim.corpora.Dictionary.filter_extremes.html?highlight=filter_extrem\n",
    "        self.dictionary.filter_extremes(no_below=2, no_above=1, keep_n=vocab_size) #no_below es el mínimo número de documentos donde debe estar el token para pasar el filtro.\n",
    "                                                                            # no_above es un porcentual, y elimina los tokens que estén en un porcentaje mayor al valor (1 es 100%). Es un valor entre 0 y 1 y estando en 1 no filtra nada... Esta pensado para eliminar los registros más repetidos\n",
    "        \n",
    "        # Make the indices continuous after some words have been removed\n",
    "        # https://tedboy.github.io/nlps/generated/generated/gensim.corpora.Dictionary.compactify.html\n",
    "        self.dictionary.compactify()\n",
    "        \n",
    "        # Add a couple of special tokens\n",
    "        self.dictionary.patch_with_special_tokens({\n",
    "            \"[PAD]\": 0,\n",
    "            \"[UNK]\": 1\n",
    "        })\n",
    "        self.idx_to_target = sorted(dataset[\"category\"].unique())\n",
    "        self.target_to_idx = {t: i for i, t in enumerate(self.idx_to_target)}\n",
    "\n",
    "\n",
    "    def _preprocess_string(self, string):\n",
    "        # https://radimrehurek.com/gensim/parsing/preprocessing.html#gensim.parsing.preprocessing.preprocess_string:~:text=gensim.parsing.preprocessing.preprocess_string\n",
    "        return preprocessing.preprocess_string(string, filters=self.filters)\n",
    "\n",
    "    def _sentence_to_indices(self, sentence):\n",
    "      # https://radimrehurek.com/gensim/corpora/dictionary.html#:~:text=doc2idx(document,via%20unknown_word_index.\n",
    "        return self.dictionary.doc2idx(sentence, unknown_word_index=1)\n",
    "    \n",
    "    def encode_data(self, data):\n",
    "        return self._sentence_to_indices(self._preprocess_string(data))\n",
    "    \n",
    "    def encode_target(self, target):\n",
    "        return self.target_to_idx[target]\n",
    "    \n",
    "    def __call__(self, item):\n",
    "        if isinstance(item[\"data\"], str):\n",
    "            data = self.encode_data(item[\"data\"])\n",
    "        else:\n",
    "            data = [self.encode_data(d) for d in item[\"data\"]]\n",
    "        \n",
    "        if isinstance(item[\"target\"], str):\n",
    "            target = self.encode_target(item[\"target\"])\n",
    "        else:\n",
    "            target = [self.encode_target(t) for t in item[\"target\"]]\n",
    "        \n",
    "        return {\n",
    "            \"data\": data,\n",
    "            \"target\": target\n",
    "        }"
   ]
  },
  {
   "cell_type": "code",
   "execution_count": null,
   "metadata": {
    "id": "1aqjwMuekYw6"
   },
   "outputs": [],
   "source": [
    "class PadSequences: # Completa con 0 los valores faltantes para obtener tensores de igual longitud\n",
    "    def __init__(self, pad_value=0, max_length=None, min_length=1):\n",
    "        assert max_length is None or min_length <= max_length\n",
    "        self.pad_value = pad_value\n",
    "        self.max_length = max_length\n",
    "        self.min_length = min_length\n",
    "\n",
    "    def __call__(self, items):\n",
    "        data, target = list(zip(*[(item[\"data\"], item[\"target\"]) for item in items]))\n",
    "        seq_lengths = [len(d) for d in data]\n",
    "\n",
    "        if self.max_length:\n",
    "            max_length = self.max_length\n",
    "            seq_lengths = [min(self.max_length, l) for l in seq_lengths]\n",
    "        else:\n",
    "            max_length = max(self.min_length, max(seq_lengths))\n",
    "\n",
    "        data = [d[:l] + [self.pad_value] * (max_length - l)\n",
    "                for d, l in zip(data, seq_lengths)]\n",
    "            \n",
    "        return {\n",
    "            \"data\": torch.LongTensor(data),\n",
    "            \"target\": torch.FloatTensor(target)\n",
    "        }"
   ]
  },
  {
   "cell_type": "markdown",
   "metadata": {
    "id": "DmVSIJnVkYw8"
   },
   "source": [
    "\n",
    "## Ingesta de Datos"
   ]
  },
  {
   "cell_type": "markdown",
   "metadata": {
    "id": "qjLLfYSnkYw8"
   },
   "source": [
    "### Dataset de Entrenamiento"
   ]
  },
  {
   "cell_type": "code",
   "execution_count": null,
   "metadata": {
    "id": "7N4cxVUMkYw9",
    "outputId": "ce17f1e7-7f53-48ee-ef2b-441e9b132653"
   },
   "outputs": [
    {
     "data": {
      "text/html": [
       "<div>\n",
       "<style scoped>\n",
       "    .dataframe tbody tr th:only-of-type {\n",
       "        vertical-align: middle;\n",
       "    }\n",
       "\n",
       "    .dataframe tbody tr th {\n",
       "        vertical-align: top;\n",
       "    }\n",
       "\n",
       "    .dataframe thead th {\n",
       "        text-align: right;\n",
       "    }\n",
       "</style>\n",
       "<table border=\"1\" class=\"dataframe\">\n",
       "  <thead>\n",
       "    <tr style=\"text-align: right;\">\n",
       "      <th></th>\n",
       "      <th>language</th>\n",
       "      <th>label_quality</th>\n",
       "      <th>title</th>\n",
       "      <th>category</th>\n",
       "      <th>split</th>\n",
       "      <th>tokenized_title</th>\n",
       "      <th>data</th>\n",
       "      <th>target</th>\n",
       "      <th>n_labels</th>\n",
       "      <th>size</th>\n",
       "    </tr>\n",
       "  </thead>\n",
       "  <tbody>\n",
       "    <tr>\n",
       "      <th>0</th>\n",
       "      <td>spanish</td>\n",
       "      <td>reliable</td>\n",
       "      <td>Casita Muñecas Barbies Pintadas</td>\n",
       "      <td>DOLLHOUSES</td>\n",
       "      <td>train</td>\n",
       "      <td>[casita, muñecas, barbies, pintadas]</td>\n",
       "      <td>[50001, 2, 50000, 3]</td>\n",
       "      <td>0</td>\n",
       "      <td>632</td>\n",
       "      <td>4895280</td>\n",
       "    </tr>\n",
       "    <tr>\n",
       "      <th>1</th>\n",
       "      <td>spanish</td>\n",
       "      <td>unreliable</td>\n",
       "      <td>Neceser Cromado Holográfico</td>\n",
       "      <td>TOILETRY_BAGS</td>\n",
       "      <td>train</td>\n",
       "      <td>[neceser, cromado, holográfico]</td>\n",
       "      <td>[6, 4, 5]</td>\n",
       "      <td>1</td>\n",
       "      <td>632</td>\n",
       "      <td>4895280</td>\n",
       "    </tr>\n",
       "    <tr>\n",
       "      <th>2</th>\n",
       "      <td>spanish</td>\n",
       "      <td>unreliable</td>\n",
       "      <td>Funda Asiento A Medida D20 Chevrolet</td>\n",
       "      <td>CAR_SEAT_COVERS</td>\n",
       "      <td>train</td>\n",
       "      <td>[funda, asiento, medida, chevrolet]</td>\n",
       "      <td>[9, 7, 10, 8]</td>\n",
       "      <td>2</td>\n",
       "      <td>632</td>\n",
       "      <td>4895280</td>\n",
       "    </tr>\n",
       "  </tbody>\n",
       "</table>\n",
       "</div>"
      ],
      "text/plain": [
       "  language label_quality                                 title  \\\n",
       "0  spanish      reliable       Casita Muñecas Barbies Pintadas   \n",
       "1  spanish    unreliable          Neceser Cromado Holográfico    \n",
       "2  spanish    unreliable  Funda Asiento A Medida D20 Chevrolet   \n",
       "\n",
       "          category  split                       tokenized_title  \\\n",
       "0       DOLLHOUSES  train  [casita, muñecas, barbies, pintadas]   \n",
       "1    TOILETRY_BAGS  train       [neceser, cromado, holográfico]   \n",
       "2  CAR_SEAT_COVERS  train   [funda, asiento, medida, chevrolet]   \n",
       "\n",
       "                   data  target  n_labels     size  \n",
       "0  [50001, 2, 50000, 3]       0       632  4895280  \n",
       "1             [6, 4, 5]       1       632  4895280  \n",
       "2         [9, 7, 10, 8]       2       632  4895280  "
      ]
     },
     "execution_count": 6,
     "metadata": {},
     "output_type": "execute_result"
    }
   ],
   "source": [
    "raw_dataset_train = pd.read_json('./data/meli-challenge-2019/spanish.train.jsonl.gz',lines = True)  # 4.895.280 filas\n",
    "#raw_dataset_train = pd.read_json('./data/meli-challenge-2019/spanish.validation.jsonl.gz',lines = True) # 1.223.820 filas\n",
    "#raw_dataset_train = pd.read_json('./data/meli-challenge-2019/spanish.test.jsonl.gz',lines = True) # 63.680 filas\n",
    "raw_dataset_train.head(3)"
   ]
  },
  {
   "cell_type": "code",
   "execution_count": null,
   "metadata": {
    "id": "AG9d0VRAkYw9",
    "outputId": "6bf082db-b1d6-4a74-ba07-e8a945fe6092"
   },
   "outputs": [
    {
     "name": "stdout",
     "output_type": "stream",
     "text": [
      "El dataset de entrenamiento tiene 4895280 entradas y 10 columnas\n"
     ]
    }
   ],
   "source": [
    "print(f'El dataset de entrenamiento tiene {raw_dataset_train.shape[0]} entradas y {raw_dataset_train.shape[1]} columnas')"
   ]
  },
  {
   "cell_type": "code",
   "execution_count": null,
   "metadata": {
    "id": "DhKLhc05kYw-"
   },
   "outputs": [],
   "source": [
    "mini_dataset_train = raw_dataset_train[['title','category','data']].copy() #mini DF con las columnas que necesitamos\n",
    "#mini_dataset_train.head(3)"
   ]
  },
  {
   "cell_type": "code",
   "execution_count": null,
   "metadata": {
    "id": "AuulaxYCkYw_",
    "outputId": "c32eda37-7991-45bb-c563-37c8bc0628b9"
   },
   "outputs": [
    {
     "data": {
      "text/html": [
       "<div>\n",
       "<style scoped>\n",
       "    .dataframe tbody tr th:only-of-type {\n",
       "        vertical-align: middle;\n",
       "    }\n",
       "\n",
       "    .dataframe tbody tr th {\n",
       "        vertical-align: top;\n",
       "    }\n",
       "\n",
       "    .dataframe thead th {\n",
       "        text-align: right;\n",
       "    }\n",
       "</style>\n",
       "<table border=\"1\" class=\"dataframe\">\n",
       "  <thead>\n",
       "    <tr style=\"text-align: right;\">\n",
       "      <th></th>\n",
       "      <th>title</th>\n",
       "      <th>category</th>\n",
       "      <th>data</th>\n",
       "      <th>title_length</th>\n",
       "      <th>data_length</th>\n",
       "    </tr>\n",
       "  </thead>\n",
       "  <tbody>\n",
       "    <tr>\n",
       "      <th>3454941</th>\n",
       "      <td>Bateria 5200mah Para Sony Vaio Vpc Series Vgp-...</td>\n",
       "      <td>LAPTOP_BATTERIES</td>\n",
       "      <td>[15, 149, 665, 1851, 16675, 1207, 8811, 1925, ...</td>\n",
       "      <td>120</td>\n",
       "      <td>20</td>\n",
       "    </tr>\n",
       "    <tr>\n",
       "      <th>770177</th>\n",
       "      <td>Bateria Para Sony Vaio Vgp-bps13 Vgp-bps13a Vg...</td>\n",
       "      <td>LAPTOP_BATTERIES</td>\n",
       "      <td>[15, 665, 1851, 8811, 1925, 8811, 8808, 8811, ...</td>\n",
       "      <td>120</td>\n",
       "      <td>20</td>\n",
       "    </tr>\n",
       "    <tr>\n",
       "      <th>2567432</th>\n",
       "      <td>Bateria Para Sony Vaio Pcg Vgn-ar Vgn-nr Vgn-s...</td>\n",
       "      <td>LAPTOP_BATTERIES</td>\n",
       "      <td>[15, 665, 1851, 16444, 1852, 1852, 1852, 1852,...</td>\n",
       "      <td>120</td>\n",
       "      <td>19</td>\n",
       "    </tr>\n",
       "  </tbody>\n",
       "</table>\n",
       "</div>"
      ],
      "text/plain": [
       "                                                     title          category  \\\n",
       "3454941  Bateria 5200mah Para Sony Vaio Vpc Series Vgp-...  LAPTOP_BATTERIES   \n",
       "770177   Bateria Para Sony Vaio Vgp-bps13 Vgp-bps13a Vg...  LAPTOP_BATTERIES   \n",
       "2567432  Bateria Para Sony Vaio Pcg Vgn-ar Vgn-nr Vgn-s...  LAPTOP_BATTERIES   \n",
       "\n",
       "                                                      data  title_length  \\\n",
       "3454941  [15, 149, 665, 1851, 16675, 1207, 8811, 1925, ...           120   \n",
       "770177   [15, 665, 1851, 8811, 1925, 8811, 8808, 8811, ...           120   \n",
       "2567432  [15, 665, 1851, 16444, 1852, 1852, 1852, 1852,...           120   \n",
       "\n",
       "         data_length  \n",
       "3454941           20  \n",
       "770177            20  \n",
       "2567432           19  "
      ]
     },
     "execution_count": 9,
     "metadata": {},
     "output_type": "execute_result"
    }
   ],
   "source": [
    "# Esto solo agrega dos variables de observación con el largo de la descripción y la cantidad de tokens que tiene el DF inicialmente\n",
    "mini_dataset_train['title_length'] = mini_dataset_train['title'].apply(lambda x: len(x))\n",
    "mini_dataset_train['data_length'] = mini_dataset_train['data'].apply(lambda x: len(x))\n",
    "#mini_dataset_train.sort_values(by='title_length', ascending=False).head(3)\n",
    "mini_dataset_train.sort_values(by='data_length', ascending=False).head(3)"
   ]
  },
  {
   "cell_type": "markdown",
   "metadata": {
    "id": "g5zpRsJUkYw_"
   },
   "source": [
    "### Dataset de Validación"
   ]
  },
  {
   "cell_type": "code",
   "execution_count": null,
   "metadata": {
    "id": "h48MjYgSkYxA",
    "outputId": "e874f361-dde0-4cd5-b076-a7ab914d38bd"
   },
   "outputs": [
    {
     "data": {
      "text/html": [
       "<div>\n",
       "<style scoped>\n",
       "    .dataframe tbody tr th:only-of-type {\n",
       "        vertical-align: middle;\n",
       "    }\n",
       "\n",
       "    .dataframe tbody tr th {\n",
       "        vertical-align: top;\n",
       "    }\n",
       "\n",
       "    .dataframe thead th {\n",
       "        text-align: right;\n",
       "    }\n",
       "</style>\n",
       "<table border=\"1\" class=\"dataframe\">\n",
       "  <thead>\n",
       "    <tr style=\"text-align: right;\">\n",
       "      <th></th>\n",
       "      <th>language</th>\n",
       "      <th>label_quality</th>\n",
       "      <th>title</th>\n",
       "      <th>category</th>\n",
       "      <th>split</th>\n",
       "      <th>tokenized_title</th>\n",
       "      <th>data</th>\n",
       "      <th>target</th>\n",
       "      <th>n_labels</th>\n",
       "      <th>size</th>\n",
       "    </tr>\n",
       "  </thead>\n",
       "  <tbody>\n",
       "    <tr>\n",
       "      <th>0</th>\n",
       "      <td>spanish</td>\n",
       "      <td>unreliable</td>\n",
       "      <td>Metal Biela Dw10 Hdi 2.0</td>\n",
       "      <td>ENGINE_BEARINGS</td>\n",
       "      <td>validation</td>\n",
       "      <td>[metal, biela, hdi]</td>\n",
       "      <td>[457, 1480, 3450]</td>\n",
       "      <td>88</td>\n",
       "      <td>632</td>\n",
       "      <td>1223820</td>\n",
       "    </tr>\n",
       "    <tr>\n",
       "      <th>1</th>\n",
       "      <td>spanish</td>\n",
       "      <td>unreliable</td>\n",
       "      <td>Repuestos Martillo Rotoprcutor Bosch Gshsce Po...</td>\n",
       "      <td>ELECTRIC_DEMOLITION_HAMMERS</td>\n",
       "      <td>validation</td>\n",
       "      <td>[repuestos, martillo, rotoprcutor, bosch, gshs...</td>\n",
       "      <td>[3119, 892, 1, 767, 1, 9337]</td>\n",
       "      <td>174</td>\n",
       "      <td>632</td>\n",
       "      <td>1223820</td>\n",
       "    </tr>\n",
       "    <tr>\n",
       "      <th>2</th>\n",
       "      <td>spanish</td>\n",
       "      <td>unreliable</td>\n",
       "      <td>Pesca Caña Pejerrey Colony Brava 3m Fibra De V...</td>\n",
       "      <td>FISHING_RODS</td>\n",
       "      <td>validation</td>\n",
       "      <td>[pesca, caña, pejerrey, colony, brava, fibra, ...</td>\n",
       "      <td>[700, 990, 2057, 3990, 3670, 1737, 1153, 6568]</td>\n",
       "      <td>313</td>\n",
       "      <td>632</td>\n",
       "      <td>1223820</td>\n",
       "    </tr>\n",
       "  </tbody>\n",
       "</table>\n",
       "</div>"
      ],
      "text/plain": [
       "  language label_quality                                              title  \\\n",
       "0  spanish    unreliable                           Metal Biela Dw10 Hdi 2.0   \n",
       "1  spanish    unreliable  Repuestos Martillo Rotoprcutor Bosch Gshsce Po...   \n",
       "2  spanish    unreliable  Pesca Caña Pejerrey Colony Brava 3m Fibra De V...   \n",
       "\n",
       "                      category       split  \\\n",
       "0              ENGINE_BEARINGS  validation   \n",
       "1  ELECTRIC_DEMOLITION_HAMMERS  validation   \n",
       "2                 FISHING_RODS  validation   \n",
       "\n",
       "                                     tokenized_title  \\\n",
       "0                                [metal, biela, hdi]   \n",
       "1  [repuestos, martillo, rotoprcutor, bosch, gshs...   \n",
       "2  [pesca, caña, pejerrey, colony, brava, fibra, ...   \n",
       "\n",
       "                                             data  target  n_labels     size  \n",
       "0                               [457, 1480, 3450]      88       632  1223820  \n",
       "1                    [3119, 892, 1, 767, 1, 9337]     174       632  1223820  \n",
       "2  [700, 990, 2057, 3990, 3670, 1737, 1153, 6568]     313       632  1223820  "
      ]
     },
     "execution_count": 10,
     "metadata": {},
     "output_type": "execute_result"
    }
   ],
   "source": [
    "raw_dataset_val = pd.read_json('./data/meli-challenge-2019/spanish.validation.jsonl.gz',lines = True) # 1.223.820 filas\n",
    "#raw_dataset_val = pd.read_json('./data/meli-challenge-2019/spanish.test.jsonl.gz',lines = True) # 63.680 filas\n",
    "raw_dataset_val.head(3)"
   ]
  },
  {
   "cell_type": "code",
   "execution_count": null,
   "metadata": {
    "id": "nShZv5fJkYxA",
    "outputId": "c2919ad9-6043-4c82-f3ce-bd17bdc8dbcf"
   },
   "outputs": [
    {
     "name": "stdout",
     "output_type": "stream",
     "text": [
      "El dataset de validación tiene 1223820 entradas y 10 columnas\n"
     ]
    }
   ],
   "source": [
    "print(f'El dataset de validación tiene {raw_dataset_val.shape[0]} entradas y {raw_dataset_val.shape[1]} columnas')"
   ]
  },
  {
   "cell_type": "code",
   "execution_count": null,
   "metadata": {
    "id": "n_6iN9ipkYxB"
   },
   "outputs": [],
   "source": [
    "mini_dataset_val = raw_dataset_val[['title','category','data']].copy() #mini DF con las columnas que necesitamos\n",
    "#mini_dataset_val.head(3)"
   ]
  },
  {
   "cell_type": "code",
   "execution_count": null,
   "metadata": {
    "id": "HWv9TyTekYxB",
    "outputId": "2ee5a046-6c72-48c8-dd03-564dda015655"
   },
   "outputs": [
    {
     "data": {
      "text/html": [
       "<div>\n",
       "<style scoped>\n",
       "    .dataframe tbody tr th:only-of-type {\n",
       "        vertical-align: middle;\n",
       "    }\n",
       "\n",
       "    .dataframe tbody tr th {\n",
       "        vertical-align: top;\n",
       "    }\n",
       "\n",
       "    .dataframe thead th {\n",
       "        text-align: right;\n",
       "    }\n",
       "</style>\n",
       "<table border=\"1\" class=\"dataframe\">\n",
       "  <thead>\n",
       "    <tr style=\"text-align: right;\">\n",
       "      <th></th>\n",
       "      <th>title</th>\n",
       "      <th>category</th>\n",
       "      <th>data</th>\n",
       "      <th>title_length</th>\n",
       "      <th>data_length</th>\n",
       "    </tr>\n",
       "  </thead>\n",
       "  <tbody>\n",
       "    <tr>\n",
       "      <th>172878</th>\n",
       "      <td>Juego Set Kit Bosch 100 Pzs Mechas Widia Metal...</td>\n",
       "      <td>DRILL_BITS</td>\n",
       "      <td>[258, 489, 521, 767, 12039, 847, 3563, 457, 16...</td>\n",
       "      <td>119</td>\n",
       "      <td>18</td>\n",
       "    </tr>\n",
       "    <tr>\n",
       "      <th>617765</th>\n",
       "      <td>Bateria 6 Celdas Vgp-bps24 Para Sony Vaio Vgp-...</td>\n",
       "      <td>LAPTOP_BATTERIES</td>\n",
       "      <td>[15, 9917, 8811, 1925, 665, 1851, 8811, 23132,...</td>\n",
       "      <td>120</td>\n",
       "      <td>18</td>\n",
       "    </tr>\n",
       "    <tr>\n",
       "      <th>1217764</th>\n",
       "      <td>Campera Honda Hrc Troy Lee Designs Moto Atv Qu...</td>\n",
       "      <td>MOTORCYCLE_JACKETS</td>\n",
       "      <td>[181, 834, 36204, 14192, 7486, 5119, 1744, 574...</td>\n",
       "      <td>120</td>\n",
       "      <td>18</td>\n",
       "    </tr>\n",
       "  </tbody>\n",
       "</table>\n",
       "</div>"
      ],
      "text/plain": [
       "                                                     title  \\\n",
       "172878   Juego Set Kit Bosch 100 Pzs Mechas Widia Metal...   \n",
       "617765   Bateria 6 Celdas Vgp-bps24 Para Sony Vaio Vgp-...   \n",
       "1217764  Campera Honda Hrc Troy Lee Designs Moto Atv Qu...   \n",
       "\n",
       "                   category  \\\n",
       "172878           DRILL_BITS   \n",
       "617765     LAPTOP_BATTERIES   \n",
       "1217764  MOTORCYCLE_JACKETS   \n",
       "\n",
       "                                                      data  title_length  \\\n",
       "172878   [258, 489, 521, 767, 12039, 847, 3563, 457, 16...           119   \n",
       "617765   [15, 9917, 8811, 1925, 665, 1851, 8811, 23132,...           120   \n",
       "1217764  [181, 834, 36204, 14192, 7486, 5119, 1744, 574...           120   \n",
       "\n",
       "         data_length  \n",
       "172878            18  \n",
       "617765            18  \n",
       "1217764           18  "
      ]
     },
     "execution_count": 13,
     "metadata": {},
     "output_type": "execute_result"
    }
   ],
   "source": [
    "# Esto solo agrega dos variables de observación con el largo de la descripción y la cantidad de tokens que tiene el DF inicialmente\n",
    "mini_dataset_val['title_length'] = mini_dataset_val['title'].apply(lambda x: len(x))\n",
    "mini_dataset_val['data_length'] = mini_dataset_val['data'].apply(lambda x: len(x))\n",
    "#mini_dataset_val.sort_values(by='title_length', ascending=False).head(3)\n",
    "mini_dataset_val.sort_values(by='data_length', ascending=False).head(3)"
   ]
  },
  {
   "cell_type": "markdown",
   "metadata": {
    "id": "p3D_EnvMkYxC"
   },
   "source": [
    "### Dataset de Test"
   ]
  },
  {
   "cell_type": "code",
   "execution_count": null,
   "metadata": {
    "id": "cQelb5L5kYxC",
    "outputId": "75680748-0f64-4fd9-e932-c3e1e3ab5f56"
   },
   "outputs": [
    {
     "data": {
      "text/html": [
       "<div>\n",
       "<style scoped>\n",
       "    .dataframe tbody tr th:only-of-type {\n",
       "        vertical-align: middle;\n",
       "    }\n",
       "\n",
       "    .dataframe tbody tr th {\n",
       "        vertical-align: top;\n",
       "    }\n",
       "\n",
       "    .dataframe thead th {\n",
       "        text-align: right;\n",
       "    }\n",
       "</style>\n",
       "<table border=\"1\" class=\"dataframe\">\n",
       "  <thead>\n",
       "    <tr style=\"text-align: right;\">\n",
       "      <th></th>\n",
       "      <th>language</th>\n",
       "      <th>label_quality</th>\n",
       "      <th>title</th>\n",
       "      <th>category</th>\n",
       "      <th>split</th>\n",
       "      <th>tokenized_title</th>\n",
       "      <th>data</th>\n",
       "      <th>target</th>\n",
       "      <th>n_labels</th>\n",
       "      <th>size</th>\n",
       "    </tr>\n",
       "  </thead>\n",
       "  <tbody>\n",
       "    <tr>\n",
       "      <th>0</th>\n",
       "      <td>spanish</td>\n",
       "      <td>reliable</td>\n",
       "      <td>Mochilas Maternales Bolsos Bebe Simil Cuero Ma...</td>\n",
       "      <td>DIAPER_BAGS</td>\n",
       "      <td>test</td>\n",
       "      <td>[mochilas, maternales, bolsos, bebe, simil, cu...</td>\n",
       "      <td>[5650, 5271, 5268, 915, 2724, 375, 37363]</td>\n",
       "      <td>318</td>\n",
       "      <td>632</td>\n",
       "      <td>63680</td>\n",
       "    </tr>\n",
       "    <tr>\n",
       "      <th>1</th>\n",
       "      <td>spanish</td>\n",
       "      <td>reliable</td>\n",
       "      <td>Bolso Maternal/bebe Incluye Cambiador + Correa...</td>\n",
       "      <td>DIAPER_BAGS</td>\n",
       "      <td>test</td>\n",
       "      <td>[bolso, maternal, bebe, incluye, cambiador, co...</td>\n",
       "      <td>[502, 2742, 915, 3031, 2740, 1840, 4635]</td>\n",
       "      <td>318</td>\n",
       "      <td>632</td>\n",
       "      <td>63680</td>\n",
       "    </tr>\n",
       "    <tr>\n",
       "      <th>2</th>\n",
       "      <td>spanish</td>\n",
       "      <td>reliable</td>\n",
       "      <td>Mochila Maternal Land  + Gancho Envio Gratis-cc</td>\n",
       "      <td>DIAPER_BAGS</td>\n",
       "      <td>test</td>\n",
       "      <td>[mochila, maternal, land, gancho, envio, gratis]</td>\n",
       "      <td>[337, 2742, 2741, 3303, 211, 1429]</td>\n",
       "      <td>318</td>\n",
       "      <td>632</td>\n",
       "      <td>63680</td>\n",
       "    </tr>\n",
       "  </tbody>\n",
       "</table>\n",
       "</div>"
      ],
      "text/plain": [
       "  language label_quality                                              title  \\\n",
       "0  spanish      reliable  Mochilas Maternales Bolsos Bebe Simil Cuero Ma...   \n",
       "1  spanish      reliable  Bolso Maternal/bebe Incluye Cambiador + Correa...   \n",
       "2  spanish      reliable    Mochila Maternal Land  + Gancho Envio Gratis-cc   \n",
       "\n",
       "      category split                                    tokenized_title  \\\n",
       "0  DIAPER_BAGS  test  [mochilas, maternales, bolsos, bebe, simil, cu...   \n",
       "1  DIAPER_BAGS  test  [bolso, maternal, bebe, incluye, cambiador, co...   \n",
       "2  DIAPER_BAGS  test   [mochila, maternal, land, gancho, envio, gratis]   \n",
       "\n",
       "                                        data  target  n_labels   size  \n",
       "0  [5650, 5271, 5268, 915, 2724, 375, 37363]     318       632  63680  \n",
       "1   [502, 2742, 915, 3031, 2740, 1840, 4635]     318       632  63680  \n",
       "2         [337, 2742, 2741, 3303, 211, 1429]     318       632  63680  "
      ]
     },
     "execution_count": 14,
     "metadata": {},
     "output_type": "execute_result"
    }
   ],
   "source": [
    "raw_dataset_test = pd.read_json('./data/meli-challenge-2019/spanish.test.jsonl.gz',lines = True) # 1.223.820 filas\n",
    "raw_dataset_test.head(3)"
   ]
  },
  {
   "cell_type": "code",
   "execution_count": null,
   "metadata": {
    "id": "KOqEW3m3kYxC",
    "outputId": "b9e8dabf-4a86-47f7-b2af-e6da4bbbc595"
   },
   "outputs": [
    {
     "name": "stdout",
     "output_type": "stream",
     "text": [
      "El dataset de test tiene 63680 entradas y 10 columnas\n"
     ]
    }
   ],
   "source": [
    "print(f'El dataset de test tiene {raw_dataset_test.shape[0]} entradas y {raw_dataset_test.shape[1]} columnas')"
   ]
  },
  {
   "cell_type": "code",
   "execution_count": null,
   "metadata": {
    "id": "e4PyQxK7kYxD"
   },
   "outputs": [],
   "source": [
    "mini_dataset_test = raw_dataset_test[['title','category','data']].copy() #mini DF con las columnas que necesitamos\n",
    "#mini_dataset_test.head(3)"
   ]
  },
  {
   "cell_type": "code",
   "execution_count": null,
   "metadata": {
    "id": "JrBCO_tLkYxD",
    "outputId": "fdc04aff-4017-478d-8830-13e1b07a9584"
   },
   "outputs": [
    {
     "data": {
      "text/html": [
       "<div>\n",
       "<style scoped>\n",
       "    .dataframe tbody tr th:only-of-type {\n",
       "        vertical-align: middle;\n",
       "    }\n",
       "\n",
       "    .dataframe tbody tr th {\n",
       "        vertical-align: top;\n",
       "    }\n",
       "\n",
       "    .dataframe thead th {\n",
       "        text-align: right;\n",
       "    }\n",
       "</style>\n",
       "<table border=\"1\" class=\"dataframe\">\n",
       "  <thead>\n",
       "    <tr style=\"text-align: right;\">\n",
       "      <th></th>\n",
       "      <th>title</th>\n",
       "      <th>category</th>\n",
       "      <th>data</th>\n",
       "      <th>title_length</th>\n",
       "      <th>data_length</th>\n",
       "    </tr>\n",
       "  </thead>\n",
       "  <tbody>\n",
       "    <tr>\n",
       "      <th>4803</th>\n",
       "      <td>Buzo Anti Social Social Club Trap Rap Hip Hop ...</td>\n",
       "      <td>SWEATSHIRTS_AND_HOODIES</td>\n",
       "      <td>[574, 827, 23435, 23435, 2835, 3294, 12197, 16...</td>\n",
       "      <td>60</td>\n",
       "      <td>12</td>\n",
       "    </tr>\n",
       "    <tr>\n",
       "      <th>49244</th>\n",
       "      <td>Jenga Yenga Shenga Jng Top Toys Juego Mesa Tip...</td>\n",
       "      <td>BOARD_GAMES</td>\n",
       "      <td>[27469, 27471, 1, 5151, 1253, 2851, 258, 236, ...</td>\n",
       "      <td>57</td>\n",
       "      <td>11</td>\n",
       "    </tr>\n",
       "    <tr>\n",
       "      <th>10547</th>\n",
       "      <td>Fei Lun Fx176c1 Cámara Drone Fpv Wifi Gps Rtf ...</td>\n",
       "      <td>DRONES</td>\n",
       "      <td>[48008, 28395, 31581, 85, 3004, 4960, 304, 244...</td>\n",
       "      <td>60</td>\n",
       "      <td>11</td>\n",
       "    </tr>\n",
       "  </tbody>\n",
       "</table>\n",
       "</div>"
      ],
      "text/plain": [
       "                                                   title  \\\n",
       "4803   Buzo Anti Social Social Club Trap Rap Hip Hop ...   \n",
       "49244  Jenga Yenga Shenga Jng Top Toys Juego Mesa Tip...   \n",
       "10547  Fei Lun Fx176c1 Cámara Drone Fpv Wifi Gps Rtf ...   \n",
       "\n",
       "                      category  \\\n",
       "4803   SWEATSHIRTS_AND_HOODIES   \n",
       "49244              BOARD_GAMES   \n",
       "10547                   DRONES   \n",
       "\n",
       "                                                    data  title_length  \\\n",
       "4803   [574, 827, 23435, 23435, 2835, 3294, 12197, 16...            60   \n",
       "49244  [27469, 27471, 1, 5151, 1253, 2851, 258, 236, ...            57   \n",
       "10547  [48008, 28395, 31581, 85, 3004, 4960, 304, 244...            60   \n",
       "\n",
       "       data_length  \n",
       "4803            12  \n",
       "49244           11  \n",
       "10547           11  "
      ]
     },
     "execution_count": 17,
     "metadata": {},
     "output_type": "execute_result"
    }
   ],
   "source": [
    "# Esto solo agrega dos variables de observación con el largo de la descripción y la cantidad de tokens que tiene el DF inicialmente\n",
    "mini_dataset_test['title_length'] = mini_dataset_test['title'].apply(lambda x: len(x))\n",
    "mini_dataset_test['data_length'] = mini_dataset_test['data'].apply(lambda x: len(x))\n",
    "#mini_dataset_test.sort_values(by='title_length', ascending=False).head(3)\n",
    "mini_dataset_test.sort_values(by='data_length', ascending=False).head(3)"
   ]
  },
  {
   "cell_type": "markdown",
   "metadata": {
    "id": "1yALGo-ikYxE"
   },
   "source": [
    "### Generamos un Diccionario Único"
   ]
  },
  {
   "cell_type": "code",
   "execution_count": null,
   "metadata": {
    "id": "bH-xU5u3kYxE",
    "outputId": "4c9e9963-e457-4df7-b0db-9340809ee26b"
   },
   "outputs": [
    {
     "data": {
      "text/html": [
       "<div>\n",
       "<style scoped>\n",
       "    .dataframe tbody tr th:only-of-type {\n",
       "        vertical-align: middle;\n",
       "    }\n",
       "\n",
       "    .dataframe tbody tr th {\n",
       "        vertical-align: top;\n",
       "    }\n",
       "\n",
       "    .dataframe thead th {\n",
       "        text-align: right;\n",
       "    }\n",
       "</style>\n",
       "<table border=\"1\" class=\"dataframe\">\n",
       "  <thead>\n",
       "    <tr style=\"text-align: right;\">\n",
       "      <th></th>\n",
       "      <th>title</th>\n",
       "      <th>category</th>\n",
       "      <th>data</th>\n",
       "      <th>title_length</th>\n",
       "      <th>data_length</th>\n",
       "    </tr>\n",
       "  </thead>\n",
       "  <tbody>\n",
       "    <tr>\n",
       "      <th>0</th>\n",
       "      <td>Casita Muñecas Barbies Pintadas</td>\n",
       "      <td>DOLLHOUSES</td>\n",
       "      <td>[50001, 2, 50000, 3]</td>\n",
       "      <td>31</td>\n",
       "      <td>4</td>\n",
       "    </tr>\n",
       "    <tr>\n",
       "      <th>1</th>\n",
       "      <td>Neceser Cromado Holográfico</td>\n",
       "      <td>TOILETRY_BAGS</td>\n",
       "      <td>[6, 4, 5]</td>\n",
       "      <td>28</td>\n",
       "      <td>3</td>\n",
       "    </tr>\n",
       "    <tr>\n",
       "      <th>2</th>\n",
       "      <td>Funda Asiento A Medida D20 Chevrolet</td>\n",
       "      <td>CAR_SEAT_COVERS</td>\n",
       "      <td>[9, 7, 10, 8]</td>\n",
       "      <td>36</td>\n",
       "      <td>4</td>\n",
       "    </tr>\n",
       "  </tbody>\n",
       "</table>\n",
       "</div>"
      ],
      "text/plain": [
       "                                  title         category  \\\n",
       "0       Casita Muñecas Barbies Pintadas       DOLLHOUSES   \n",
       "1          Neceser Cromado Holográfico     TOILETRY_BAGS   \n",
       "2  Funda Asiento A Medida D20 Chevrolet  CAR_SEAT_COVERS   \n",
       "\n",
       "                   data  title_length  data_length  \n",
       "0  [50001, 2, 50000, 3]            31            4  \n",
       "1             [6, 4, 5]            28            3  \n",
       "2         [9, 7, 10, 8]            36            4  "
      ]
     },
     "execution_count": 18,
     "metadata": {},
     "output_type": "execute_result"
    }
   ],
   "source": [
    "df_total = pd.concat([mini_dataset_train, mini_dataset_val, mini_dataset_test], ignore_index=True)\n",
    "df_total.head(3)"
   ]
  },
  {
   "cell_type": "code",
   "execution_count": null,
   "metadata": {
    "id": "mlRuoUTgkYxF"
   },
   "outputs": [],
   "source": [
    "# Es una instancia del RawDataPorcessor para los datos de entrenamiento\n",
    "pre_process_total = RawDataProcessor(df_total)"
   ]
  },
  {
   "cell_type": "code",
   "execution_count": null,
   "metadata": {
    "id": "ciwelrS1kYxF",
    "outputId": "2a440704-ebc7-4d00-9adb-f51f7ecb3a3b"
   },
   "outputs": [
    {
     "name": "stdout",
     "output_type": "stream",
     "text": [
      "Largo del Diccionario Completo: 50002\n",
      "\n"
     ]
    }
   ],
   "source": [
    "print(f'Largo del Diccionario Completo: {len(pre_process_total.dictionary)}\\n') # 15505"
   ]
  },
  {
   "cell_type": "markdown",
   "metadata": {
    "id": "Zjjn_Nv_kYxF"
   },
   "source": [
    "### Preprocessing"
   ]
  },
  {
   "cell_type": "code",
   "execution_count": null,
   "metadata": {
    "id": "ADBhERjQkYxF"
   },
   "outputs": [],
   "source": [
    "# Probamos con un diccionario único para todo el dataset\n",
    "processed_train = MeLiChallengeDataset(mini_dataset_train, transform=pre_process_total) \n",
    "processed_val = MeLiChallengeDataset(mini_dataset_val, transform=pre_process_total)\n",
    "processed_test = MeLiChallengeDataset(mini_dataset_test, transform=pre_process_total)"
   ]
  },
  {
   "cell_type": "code",
   "execution_count": null,
   "metadata": {
    "id": "8GVY7h4AkYxG"
   },
   "outputs": [],
   "source": [
    "EPOCHS = 10\n",
    "FILTERS_COUNT = 100\n",
    "FILTERS_LENGTH = [2, 3, 4]\n",
    "\n",
    "pad_sequences = PadSequences(min_length=max(FILTERS_LENGTH))\n",
    "train_loader = DataLoader(processed_train, batch_size=128, shuffle=True, collate_fn=pad_sequences, drop_last=False)\n",
    "val_loader = DataLoader(processed_val, batch_size=128, shuffle=True, collate_fn=pad_sequences, drop_last=False)\n",
    "test_loader = DataLoader(processed_test, batch_size=128, shuffle=True, collate_fn=pad_sequences, drop_last=False)"
   ]
  },
  {
   "cell_type": "code",
   "execution_count": null,
   "metadata": {
    "id": "zfLdAMrBkYxG",
    "outputId": "a3fd3cbc-5b4e-463c-8768-97ce9ce093f7"
   },
   "outputs": [
    {
     "name": "stdout",
     "output_type": "stream",
     "text": [
      "tensor([[ 593, 7186, 3673,  ...,    0,    0,    0],\n",
      "        [ 495, 1992,  475,  ...,    0,    0,    0],\n",
      "        [8801, 1287,   86,  ...,    0,    0,    0],\n",
      "        ...,\n",
      "        [9523,  940, 2120,  ...,    0,    0,    0],\n",
      "        [5887, 8289, 3541,  ...,    0,    0,    0],\n",
      "        [1344,  164, 2605,  ...,    0,    0,    0]])\n",
      "tensor([193., 547., 547., 600., 530., 503., 278.,  86., 431., 297.,  65., 416.,\n",
      "        120., 105., 420., 615., 168., 423., 247.,  37., 346.,  58., 188., 275.,\n",
      "        226., 102., 365., 524.,  95., 335., 352., 454., 482., 441., 477., 569.,\n",
      "        266., 577., 605., 187., 419., 537.,  25., 447., 178., 505., 546., 143.,\n",
      "        137., 587., 406., 605., 443., 119., 244., 306., 445., 618., 195., 372.,\n",
      "        150., 391., 488.,   3., 318., 481., 333., 631.,  45., 467., 146.,  42.,\n",
      "        118.,   3., 148.,   1., 500., 617., 296., 548., 516., 397., 477., 192.,\n",
      "        597., 321., 200., 333., 548.,   2., 265., 422., 523., 101.,  30.,   2.,\n",
      "        148., 566., 335.,  89., 260., 423., 603., 196., 215., 446., 241., 624.,\n",
      "        547., 543., 159., 220., 404., 124., 203., 404., 229., 114.,  47., 382.,\n",
      "        190., 476., 108., 551., 141., 312., 477., 276.])\n"
     ]
    }
   ],
   "source": [
    "print(iter(train_loader).next()['data'])\n",
    "print(iter(train_loader).next()['target'])"
   ]
  },
  {
   "cell_type": "code",
   "execution_count": null,
   "metadata": {
    "id": "wlRhx0AIkYxG",
    "outputId": "a4a15180-e076-4201-ed24-db1a8af86793"
   },
   "outputs": [
    {
     "name": "stdout",
     "output_type": "stream",
     "text": [
      "torch.Size([128, 11])\n",
      "torch.Size([128])\n"
     ]
    }
   ],
   "source": [
    "print(iter(train_loader).next()['data'].shape)\n",
    "print(iter(train_loader).next()['target'].shape)"
   ]
  },
  {
   "cell_type": "markdown",
   "metadata": {
    "id": "0PisbxVCkYxH"
   },
   "source": [
    "## Modelo"
   ]
  },
  {
   "cell_type": "code",
   "execution_count": null,
   "metadata": {
    "id": "XE8pujJgkYxH"
   },
   "outputs": [],
   "source": [
    "class SuperSimpleConv(nn.Module):\n",
    "    def __init__(self, \n",
    "                 pretrained_embeddings_path, \n",
    "                 dictionary,\n",
    "                 vector_size,\n",
    "                 freeze_embedings):\n",
    "        \n",
    "        # Inicializamos la matriz de embeddings        \n",
    "        super().__init__()\n",
    "        embeddings_matrix = torch.randn(len(dictionary), vector_size)\n",
    "        embeddings_matrix[0] = torch.zeros(vector_size)\n",
    "        \n",
    "        # Trabajamos con los embeddings preentrenados\n",
    "        with bz2.open(pretrained_embeddings_path, \"rt\") as fh:\n",
    "            for line in fh:\n",
    "                word, vector = line.strip().split(None, 1)\n",
    "                if word in dictionary.token2id:\n",
    "                    embeddings_matrix[dictionary.token2id[word]] = torch.FloatTensor([float(n) for n in vector.split()])\n",
    "                    \n",
    "        # Los guardamos en embeddings\n",
    "        self.embeddings = nn.Embedding.from_pretrained(embeddings_matrix, freeze=freeze_embedings, padding_idx=0)\n",
    "        \n",
    "        self.convs = []\n",
    "        for filter_lenght in FILTERS_LENGTH:\n",
    "            self.convs.append(\n",
    "                nn.Conv1d(vector_size, FILTERS_COUNT, filter_lenght) #(in_channels, out_channels, kernel_size)\n",
    "            )\n",
    "        self.convs = nn.ModuleList(self.convs)\n",
    "        self.fc = nn.Linear(FILTERS_COUNT * len(FILTERS_LENGTH), 2 ** 10)\n",
    "        self.output_layer = nn.Linear(2 ** 10, 632)\n",
    "        self.vector_size = vector_size\n",
    "    \n",
    "    @staticmethod\n",
    "    def conv_global_max_pool(x, conv):\n",
    "        return F.relu(conv(x).transpose(1, 2).max(1)[0])\n",
    "    \n",
    "    def forward(self, x):\n",
    "        x = self.embeddings(x).transpose(1, 2)  \n",
    "        x = [self.conv_global_max_pool(x, conv) for conv in self.convs]\n",
    "        x = torch.cat(x, dim=1)\n",
    "        x = F.relu(self.fc(x))\n",
    "        x = self.output_layer(x)  # Output Layer\n",
    "        return x"
   ]
  },
  {
   "cell_type": "code",
   "execution_count": null,
   "metadata": {
    "id": "CHNxXg8jkYxI"
   },
   "outputs": [],
   "source": [
    "# Instanciamos el Modelo con el embedding ya pre-entrenado\n",
    "model = SuperSimpleConv('./data/meli-challenge-2019/SBW-vectors-300-min5.txt.bz2',pre_process_total.dictionary, 300, True)\n",
    "#model.load_state_dict(torch.load(\"./data/modelo-conv.pth\"))  # Cargar un modelo ya entrenado si es necesario"
   ]
  },
  {
   "cell_type": "code",
   "execution_count": null,
   "metadata": {
    "id": "c0CHERwXkYxJ",
    "outputId": "895c6dd4-fdab-4ed1-9baf-4e624ab295b0"
   },
   "outputs": [
    {
     "data": {
      "text/plain": [
       "SuperSimpleConv(\n",
       "  (embeddings): Embedding(50002, 300, padding_idx=0)\n",
       "  (convs): ModuleList(\n",
       "    (0): Conv1d(300, 100, kernel_size=(2,), stride=(1,))\n",
       "    (1): Conv1d(300, 100, kernel_size=(3,), stride=(1,))\n",
       "    (2): Conv1d(300, 100, kernel_size=(4,), stride=(1,))\n",
       "  )\n",
       "  (fc): Linear(in_features=300, out_features=1024, bias=True)\n",
       "  (output_layer): Linear(in_features=1024, out_features=632, bias=True)\n",
       ")"
      ]
     },
     "execution_count": 27,
     "metadata": {},
     "output_type": "execute_result"
    }
   ],
   "source": [
    "# Para uso del GPU\n",
    "model.to(device)"
   ]
  },
  {
   "cell_type": "code",
   "execution_count": null,
   "metadata": {
    "id": "JMZoOd5QkYxJ"
   },
   "outputs": [],
   "source": [
    "# Modelo de loss y optimizador\n",
    "loss_function = nn.CrossEntropyLoss()\n",
    "#optimizer = optim.SGD(model.parameters(), lr=0.01, momentum=0.9)  # hiperparametros 1\n",
    "#optimizer = optim.SGD(model.parameters(), lr=0.01, momentum=0.5)  # hiperparametros 2\n",
    "optimizer = optim.SGD(model.parameters(), lr=0.05, momentum=0.9)  # hiperparametros 3"
   ]
  },
  {
   "cell_type": "markdown",
   "metadata": {
    "id": "wxs0uEA7kYxK"
   },
   "source": [
    "## Entrenamiento"
   ]
  },
  {
   "cell_type": "code",
   "execution_count": null,
   "metadata": {
    "colab": {
     "referenced_widgets": [
      "2439d9b06fb74298ae515f0f8d68146c",
      "85f1956a80ba449aad1a8c29706bd7d7",
      "36d79377dd7a47de9adf1af094b585bb",
      "409866bfea8e46039009669965475f92",
      "cf34a695e8d3411a8d00aae196d38e60",
      "29615c09e17640e282f0bbf80f5b7cb4",
      "09fe812575b740fb898d06af36434cb2",
      "d1c243a8656a4063a93e67d9eb614b3d",
      "ce46d8f96f314d95af305768defba51d",
      "0c431e7fcaa64b19867add207c6b9883",
      "0ad0e1003cc54f7a918698ffac1f26bd",
      "89fc66b1cc284c119d351690fcc6d22d",
      "ac8096e944534bedb5574c18c7903381",
      "b11d65200f724e0f8a2b43a7bd6bec39",
      "c6f0e795331c4233836ac1f2e100a341",
      "8a053d8d25b045b49812626646c7c659",
      "a54f1776e48e4903bdefd43c64e4f196",
      "42c9bc07f4d74cd8b396d83c383d66a7",
      "cab0129a10d3451287700c782bcb314f",
      "b424b1bbb37f43f5bbe7491e8a8afa89"
     ]
    },
    "id": "Ui5oaCxBkYxK",
    "outputId": "b90d2661-8a19-4866-c6c7-2298462e85d7"
   },
   "outputs": [
    {
     "data": {
      "application/vnd.jupyter.widget-view+json": {
       "model_id": "2439d9b06fb74298ae515f0f8d68146c",
       "version_major": 2,
       "version_minor": 0
      },
      "text/plain": [
       "  0%|          | 0/38245 [00:00<?, ?it/s]"
      ]
     },
     "metadata": {},
     "output_type": "display_data"
    },
    {
     "data": {
      "application/vnd.jupyter.widget-view+json": {
       "model_id": "85f1956a80ba449aad1a8c29706bd7d7",
       "version_major": 2,
       "version_minor": 0
      },
      "text/plain": [
       "  0%|          | 0/9562 [00:00<?, ?it/s]"
      ]
     },
     "metadata": {},
     "output_type": "display_data"
    },
    {
     "name": "stderr",
     "output_type": "stream",
     "text": [
      "/tmp/ipykernel_3119801/2683160660.py:50: FutureWarning: The frame.append method is deprecated and will be removed from pandas in a future version. Use pandas.concat instead.\n",
      "  df_datos=df_datos.append({'epoch' : epoch+1 ,\n"
     ]
    },
    {
     "data": {
      "application/vnd.jupyter.widget-view+json": {
       "model_id": "36d79377dd7a47de9adf1af094b585bb",
       "version_major": 2,
       "version_minor": 0
      },
      "text/plain": [
       "  0%|          | 0/38245 [00:00<?, ?it/s]"
      ]
     },
     "metadata": {},
     "output_type": "display_data"
    },
    {
     "data": {
      "application/vnd.jupyter.widget-view+json": {
       "model_id": "409866bfea8e46039009669965475f92",
       "version_major": 2,
       "version_minor": 0
      },
      "text/plain": [
       "  0%|          | 0/9562 [00:00<?, ?it/s]"
      ]
     },
     "metadata": {},
     "output_type": "display_data"
    },
    {
     "name": "stderr",
     "output_type": "stream",
     "text": [
      "/tmp/ipykernel_3119801/2683160660.py:50: FutureWarning: The frame.append method is deprecated and will be removed from pandas in a future version. Use pandas.concat instead.\n",
      "  df_datos=df_datos.append({'epoch' : epoch+1 ,\n"
     ]
    },
    {
     "data": {
      "application/vnd.jupyter.widget-view+json": {
       "model_id": "cf34a695e8d3411a8d00aae196d38e60",
       "version_major": 2,
       "version_minor": 0
      },
      "text/plain": [
       "  0%|          | 0/38245 [00:00<?, ?it/s]"
      ]
     },
     "metadata": {},
     "output_type": "display_data"
    },
    {
     "data": {
      "application/vnd.jupyter.widget-view+json": {
       "model_id": "29615c09e17640e282f0bbf80f5b7cb4",
       "version_major": 2,
       "version_minor": 0
      },
      "text/plain": [
       "  0%|          | 0/9562 [00:00<?, ?it/s]"
      ]
     },
     "metadata": {},
     "output_type": "display_data"
    },
    {
     "name": "stderr",
     "output_type": "stream",
     "text": [
      "/tmp/ipykernel_3119801/2683160660.py:50: FutureWarning: The frame.append method is deprecated and will be removed from pandas in a future version. Use pandas.concat instead.\n",
      "  df_datos=df_datos.append({'epoch' : epoch+1 ,\n"
     ]
    },
    {
     "data": {
      "application/vnd.jupyter.widget-view+json": {
       "model_id": "09fe812575b740fb898d06af36434cb2",
       "version_major": 2,
       "version_minor": 0
      },
      "text/plain": [
       "  0%|          | 0/38245 [00:00<?, ?it/s]"
      ]
     },
     "metadata": {},
     "output_type": "display_data"
    },
    {
     "data": {
      "application/vnd.jupyter.widget-view+json": {
       "model_id": "d1c243a8656a4063a93e67d9eb614b3d",
       "version_major": 2,
       "version_minor": 0
      },
      "text/plain": [
       "  0%|          | 0/9562 [00:00<?, ?it/s]"
      ]
     },
     "metadata": {},
     "output_type": "display_data"
    },
    {
     "name": "stderr",
     "output_type": "stream",
     "text": [
      "/tmp/ipykernel_3119801/2683160660.py:50: FutureWarning: The frame.append method is deprecated and will be removed from pandas in a future version. Use pandas.concat instead.\n",
      "  df_datos=df_datos.append({'epoch' : epoch+1 ,\n"
     ]
    },
    {
     "data": {
      "application/vnd.jupyter.widget-view+json": {
       "model_id": "ce46d8f96f314d95af305768defba51d",
       "version_major": 2,
       "version_minor": 0
      },
      "text/plain": [
       "  0%|          | 0/38245 [00:00<?, ?it/s]"
      ]
     },
     "metadata": {},
     "output_type": "display_data"
    },
    {
     "data": {
      "application/vnd.jupyter.widget-view+json": {
       "model_id": "0c431e7fcaa64b19867add207c6b9883",
       "version_major": 2,
       "version_minor": 0
      },
      "text/plain": [
       "  0%|          | 0/9562 [00:00<?, ?it/s]"
      ]
     },
     "metadata": {},
     "output_type": "display_data"
    },
    {
     "name": "stderr",
     "output_type": "stream",
     "text": [
      "/tmp/ipykernel_3119801/2683160660.py:50: FutureWarning: The frame.append method is deprecated and will be removed from pandas in a future version. Use pandas.concat instead.\n",
      "  df_datos=df_datos.append({'epoch' : epoch+1 ,\n"
     ]
    },
    {
     "data": {
      "application/vnd.jupyter.widget-view+json": {
       "model_id": "0ad0e1003cc54f7a918698ffac1f26bd",
       "version_major": 2,
       "version_minor": 0
      },
      "text/plain": [
       "  0%|          | 0/38245 [00:00<?, ?it/s]"
      ]
     },
     "metadata": {},
     "output_type": "display_data"
    },
    {
     "data": {
      "application/vnd.jupyter.widget-view+json": {
       "model_id": "89fc66b1cc284c119d351690fcc6d22d",
       "version_major": 2,
       "version_minor": 0
      },
      "text/plain": [
       "  0%|          | 0/9562 [00:00<?, ?it/s]"
      ]
     },
     "metadata": {},
     "output_type": "display_data"
    },
    {
     "name": "stderr",
     "output_type": "stream",
     "text": [
      "/tmp/ipykernel_3119801/2683160660.py:50: FutureWarning: The frame.append method is deprecated and will be removed from pandas in a future version. Use pandas.concat instead.\n",
      "  df_datos=df_datos.append({'epoch' : epoch+1 ,\n"
     ]
    },
    {
     "data": {
      "application/vnd.jupyter.widget-view+json": {
       "model_id": "ac8096e944534bedb5574c18c7903381",
       "version_major": 2,
       "version_minor": 0
      },
      "text/plain": [
       "  0%|          | 0/38245 [00:00<?, ?it/s]"
      ]
     },
     "metadata": {},
     "output_type": "display_data"
    },
    {
     "data": {
      "application/vnd.jupyter.widget-view+json": {
       "model_id": "b11d65200f724e0f8a2b43a7bd6bec39",
       "version_major": 2,
       "version_minor": 0
      },
      "text/plain": [
       "  0%|          | 0/9562 [00:00<?, ?it/s]"
      ]
     },
     "metadata": {},
     "output_type": "display_data"
    },
    {
     "name": "stderr",
     "output_type": "stream",
     "text": [
      "/tmp/ipykernel_3119801/2683160660.py:50: FutureWarning: The frame.append method is deprecated and will be removed from pandas in a future version. Use pandas.concat instead.\n",
      "  df_datos=df_datos.append({'epoch' : epoch+1 ,\n"
     ]
    },
    {
     "data": {
      "application/vnd.jupyter.widget-view+json": {
       "model_id": "c6f0e795331c4233836ac1f2e100a341",
       "version_major": 2,
       "version_minor": 0
      },
      "text/plain": [
       "  0%|          | 0/38245 [00:00<?, ?it/s]"
      ]
     },
     "metadata": {},
     "output_type": "display_data"
    },
    {
     "data": {
      "application/vnd.jupyter.widget-view+json": {
       "model_id": "8a053d8d25b045b49812626646c7c659",
       "version_major": 2,
       "version_minor": 0
      },
      "text/plain": [
       "  0%|          | 0/9562 [00:00<?, ?it/s]"
      ]
     },
     "metadata": {},
     "output_type": "display_data"
    },
    {
     "name": "stderr",
     "output_type": "stream",
     "text": [
      "/tmp/ipykernel_3119801/2683160660.py:50: FutureWarning: The frame.append method is deprecated and will be removed from pandas in a future version. Use pandas.concat instead.\n",
      "  df_datos=df_datos.append({'epoch' : epoch+1 ,\n"
     ]
    },
    {
     "data": {
      "application/vnd.jupyter.widget-view+json": {
       "model_id": "a54f1776e48e4903bdefd43c64e4f196",
       "version_major": 2,
       "version_minor": 0
      },
      "text/plain": [
       "  0%|          | 0/38245 [00:00<?, ?it/s]"
      ]
     },
     "metadata": {},
     "output_type": "display_data"
    },
    {
     "data": {
      "application/vnd.jupyter.widget-view+json": {
       "model_id": "42c9bc07f4d74cd8b396d83c383d66a7",
       "version_major": 2,
       "version_minor": 0
      },
      "text/plain": [
       "  0%|          | 0/9562 [00:00<?, ?it/s]"
      ]
     },
     "metadata": {},
     "output_type": "display_data"
    },
    {
     "name": "stderr",
     "output_type": "stream",
     "text": [
      "/tmp/ipykernel_3119801/2683160660.py:50: FutureWarning: The frame.append method is deprecated and will be removed from pandas in a future version. Use pandas.concat instead.\n",
      "  df_datos=df_datos.append({'epoch' : epoch+1 ,\n"
     ]
    },
    {
     "data": {
      "application/vnd.jupyter.widget-view+json": {
       "model_id": "cab0129a10d3451287700c782bcb314f",
       "version_major": 2,
       "version_minor": 0
      },
      "text/plain": [
       "  0%|          | 0/38245 [00:00<?, ?it/s]"
      ]
     },
     "metadata": {},
     "output_type": "display_data"
    },
    {
     "data": {
      "application/vnd.jupyter.widget-view+json": {
       "model_id": "b424b1bbb37f43f5bbe7491e8a8afa89",
       "version_major": 2,
       "version_minor": 0
      },
      "text/plain": [
       "  0%|          | 0/9562 [00:00<?, ?it/s]"
      ]
     },
     "metadata": {},
     "output_type": "display_data"
    },
    {
     "name": "stderr",
     "output_type": "stream",
     "text": [
      "/tmp/ipykernel_3119801/2683160660.py:50: FutureWarning: The frame.append method is deprecated and will be removed from pandas in a future version. Use pandas.concat instead.\n",
      "  df_datos=df_datos.append({'epoch' : epoch+1 ,\n"
     ]
    }
   ],
   "source": [
    "df_datos = pd.DataFrame(columns=['epoch','train_loss','val_loss','val_accuracy'])\n",
    "history = {'train_loss': [], 'val_loss': [], 'val_accuracy': []}\n",
    "for epoch in range(EPOCHS):\n",
    "    \n",
    "    model.train()\n",
    "    running_loss = 0.0\n",
    "    running_loss2 = []\n",
    "    pbar = tqdm(train_loader)\n",
    "    \n",
    "    for i, data in enumerate(pbar, 1):\n",
    "        \n",
    "        # get the inputs; data is a list of [inputs, labels]\n",
    "        inputs = data[\"data\"].to(device)\n",
    "        labels = data[\"target\"].to(device).to(torch.long)\n",
    "\n",
    "        # zero the parameter gradients\n",
    "        optimizer.zero_grad()\n",
    "\n",
    "        # forward + backward + optimize\n",
    "        outputs = model(inputs)\n",
    "        loss = loss_function(outputs, labels)\n",
    "        loss.backward()\n",
    "        optimizer.step()\n",
    "        running_loss2.append(loss.item())        \n",
    "\n",
    "        # print statistics\n",
    "        running_loss += loss.item()\n",
    "        if i > 0 and i % 50 == 0:    # print every 50 mini-batches\n",
    "            pbar.set_description(f\"[{epoch + 1}, {i}] loss: {running_loss / 50:.4g}\")\n",
    "            running_loss = 0.0\n",
    "    history['train_loss'].append((epoch, sum(running_loss2) / len(running_loss2)))\n",
    "\n",
    "    # At the end of the epoch, evaluate model on validation\n",
    "    model.eval();  # Activate evaluation mode\n",
    "    running_loss = 0.0\n",
    "    y_true = []\n",
    "    y_pred = []\n",
    "    with torch.no_grad():\n",
    "        p2bar = tqdm(val_loader)\n",
    "        for i, data in enumerate(p2bar, 1):\n",
    "            inputs = data[\"data\"].to(device)\n",
    "            labels = data[\"target\"]\n",
    "            outputs = model(inputs)\n",
    "            running_loss += loss_function(outputs, labels.to(device).to(torch.long)).item()\n",
    "            _, predicted = torch.max(outputs.data, 1)\n",
    "            y_true.extend(labels.numpy())\n",
    "            y_pred.extend(predicted.cpu().numpy())\n",
    "    history['val_accuracy'].append(balanced_accuracy_score(y_true, y_pred))\n",
    "    history['val_loss'].append((epoch, running_loss / i))\n",
    "    df_datos=df_datos.append({'epoch' : epoch+1 , \n",
    "                              'train_loss' : sum(running_loss2) / len(running_loss2),\n",
    "                              'val_loss' : running_loss / i,\n",
    "                              'val_accuracy' : balanced_accuracy_score(y_true, y_pred)} , ignore_index=True)\n",
    "    df_datos.to_csv('./data/datos_finales_conv-hip3.csv')\n",
    "    # Guardamos el modelo\n",
    "    torch.save(model.state_dict(), \"./data/modelo-conv-hip3.pth\")"
   ]
  },
  {
   "cell_type": "code",
   "execution_count": null,
   "metadata": {
    "id": "oBgM4sXikYxL"
   },
   "outputs": [],
   "source": [
    "# history['train_loss']"
   ]
  },
  {
   "cell_type": "code",
   "execution_count": null,
   "metadata": {
    "id": "TtuaTfOckYxL"
   },
   "outputs": [],
   "source": [
    "# history['val_loss']"
   ]
  },
  {
   "cell_type": "code",
   "execution_count": null,
   "metadata": {
    "id": "EIULqENpkYxL"
   },
   "outputs": [],
   "source": [
    "# history['val_accuracy']"
   ]
  },
  {
   "cell_type": "code",
   "execution_count": null,
   "metadata": {
    "id": "OZr1up9FkYxL"
   },
   "outputs": [],
   "source": [
    "#data = []\n",
    "#for epoch, (train_loss, val_loss) in enumerate(zip(\n",
    "#        history['train_loss'], history['val_loss'])):\n",
    "#    data.append((epoch, 'train', train_loss[1]))\n",
    "#    data.append((epoch, 'val', val_loss[1]))\n",
    "#data = pd.DataFrame(data=data, columns=['epoch', 'dataset', 'loss'])\n",
    "#seaborn.pointplot(\n",
    "#    data=data, x='epoch', y='loss', hue='dataset'\n",
    "#)"
   ]
  },
  {
   "cell_type": "markdown",
   "metadata": {
    "id": "nmrobHxXkYxL"
   },
   "source": [
    "## Validación"
   ]
  },
  {
   "cell_type": "code",
   "execution_count": null,
   "metadata": {
    "colab": {
     "referenced_widgets": [
      "a41e559a5dee4c2781407381232ca43b"
     ]
    },
    "id": "P75ezby-kYxM",
    "outputId": "dada5034-2d48-4032-fbc9-e49c5c2eaf86"
   },
   "outputs": [
    {
     "data": {
      "application/vnd.jupyter.widget-view+json": {
       "model_id": "a41e559a5dee4c2781407381232ca43b",
       "version_major": 2,
       "version_minor": 0
      },
      "text/plain": [
       "  0%|          | 0/498 [00:00<?, ?it/s]"
      ]
     },
     "metadata": {},
     "output_type": "display_data"
    }
   ],
   "source": [
    "model.eval()\n",
    "\n",
    "y_true = []\n",
    "y_pred = []\n",
    "\n",
    "p2bar = tqdm(test_loader)\n",
    "\n",
    "for batch in (p2bar):\n",
    "        \n",
    "    inputs = batch[\"data\"].to(device)\n",
    "    labels = batch[\"target\"]\n",
    "        \n",
    "    predict = model(inputs)\n",
    "    _, predict = torch.max(predict.data, 1)\n",
    "    \n",
    "    y_true.extend(labels.numpy())\n",
    "    y_pred.extend(predict.cpu().numpy())\n",
    "    \n",
    "y_true = np.array(y_true, dtype=int)"
   ]
  },
  {
   "cell_type": "code",
   "execution_count": null,
   "metadata": {
    "id": "2bZRHjsYkYxM",
    "outputId": "4f06fe9d-7704-487d-c471-3fc2782898cf"
   },
   "outputs": [
    {
     "name": "stdout",
     "output_type": "stream",
     "text": [
      "Largo del vector target: 63680\n",
      "Largo del vector Prediction: 63680\n"
     ]
    }
   ],
   "source": [
    "print(f'Largo del vector target: {len(y_true)}\\nLargo del vector Prediction: {len(y_pred)}')"
   ]
  },
  {
   "cell_type": "code",
   "execution_count": null,
   "metadata": {
    "id": "bOi3FSGbhvwZ",
    "outputId": "655f726b-b2ff-4117-d675-9f56d649a92d"
   },
   "outputs": [
    {
     "name": "stdout",
     "output_type": "stream",
     "text": [
      "              precision    recall  f1-score   support\n",
      "\n",
      "           0       0.86      0.73      0.79        98\n",
      "           1       0.86      0.93      0.89       100\n",
      "           2       0.69      0.76      0.72        98\n",
      "           3       0.34      0.62      0.44       102\n",
      "           4       0.85      0.93      0.89        99\n",
      "           5       0.89      0.72      0.80        98\n",
      "           6       0.99      0.94      0.96       100\n",
      "           7       0.88      0.95      0.91       100\n",
      "           8       0.66      0.88      0.76       101\n",
      "           9       0.83      0.92      0.87       104\n",
      "          10       0.59      0.81      0.68        98\n",
      "          11       0.66      0.82      0.73       101\n",
      "          12       0.82      0.62      0.70       102\n",
      "          13       0.99      0.70      0.82       107\n",
      "          14       0.78      0.74      0.76        99\n",
      "          15       0.53      0.69      0.60       100\n",
      "          16       0.84      0.67      0.75       104\n",
      "          17       0.99      0.93      0.96       100\n",
      "          18       0.95      0.86      0.90       100\n",
      "          19       0.96      0.78      0.86       101\n",
      "          20       0.42      0.57      0.48       101\n",
      "          21       0.56      0.21      0.30        97\n",
      "          22       0.95      0.95      0.95       111\n",
      "          23       0.83      0.87      0.85        99\n",
      "          24       0.70      0.79      0.74       101\n",
      "          25       0.87      0.85      0.86       101\n",
      "          26       0.92      0.93      0.93       101\n",
      "          27       0.98      0.90      0.94       119\n",
      "          28       0.98      0.77      0.86       107\n",
      "          29       0.62      0.98      0.76        99\n",
      "          30       0.83      0.83      0.83       100\n",
      "          31       0.99      0.93      0.96        95\n",
      "          32       0.94      0.63      0.75        97\n",
      "          33       0.91      0.89      0.90       100\n",
      "          34       0.97      0.87      0.92       100\n",
      "          35       0.83      0.90      0.86        99\n",
      "          36       0.82      0.84      0.83       100\n",
      "          37       0.77      0.84      0.80       100\n",
      "          38       0.47      0.89      0.62        99\n",
      "          39       0.67      0.80      0.73       105\n",
      "          40       0.82      0.74      0.78       101\n",
      "          41       0.85      0.92      0.88        99\n",
      "          42       0.66      0.75      0.70       101\n",
      "          43       0.92      0.22      0.36        99\n",
      "          44       0.80      0.82      0.81        99\n",
      "          45       0.72      0.76      0.74       102\n",
      "          46       0.78      0.80      0.79        98\n",
      "          47       0.85      0.94      0.89       100\n",
      "          48       0.91      0.76      0.83        98\n",
      "          49       0.93      0.77      0.84       103\n",
      "          50       0.92      0.79      0.85        97\n",
      "          51       0.85      0.70      0.77        97\n",
      "          52       0.48      0.79      0.60       101\n",
      "          53       0.92      0.87      0.89       121\n",
      "          54       0.68      0.79      0.73        86\n",
      "          55       0.74      0.89      0.81       101\n",
      "          56       0.62      0.82      0.70       100\n",
      "          57       0.49      0.80      0.61       108\n",
      "          58       0.91      0.86      0.89       100\n",
      "          59       0.96      0.81      0.88        98\n",
      "          60       0.79      0.86      0.82       101\n",
      "          61       0.92      0.80      0.86       101\n",
      "          62       0.84      0.78      0.81       101\n",
      "          63       0.59      0.57      0.58       100\n",
      "          64       0.69      0.90      0.78       104\n",
      "          65       0.70      0.70      0.70       102\n",
      "          66       0.86      0.95      0.90       100\n",
      "          67       0.82      0.87      0.84        97\n",
      "          68       0.67      0.72      0.70       100\n",
      "          69       0.87      0.93      0.90       100\n",
      "          70       0.91      0.70      0.79        98\n",
      "          71       0.94      0.81      0.87       102\n",
      "          72       0.69      0.65      0.67        99\n",
      "          73       0.82      0.60      0.70       101\n",
      "          74       0.91      0.52      0.66       100\n",
      "          75       0.58      0.85      0.69        98\n",
      "          76       0.98      0.90      0.94        94\n",
      "          77       0.57      0.78      0.66       102\n",
      "          78       0.75      0.78      0.77        99\n",
      "          79       0.89      0.80      0.84        97\n",
      "          80       0.50      0.80      0.62       102\n",
      "          81       0.65      0.92      0.76        99\n",
      "          82       0.91      0.59      0.72       103\n",
      "          83       0.88      0.81      0.84       103\n",
      "          84       0.71      0.57      0.63       101\n",
      "          85       0.71      0.86      0.78       103\n",
      "          86       0.82      0.74      0.78       100\n",
      "          87       0.55      0.54      0.54       100\n",
      "          88       0.98      0.78      0.87       102\n",
      "          89       0.83      0.80      0.81       101\n",
      "          90       0.16      0.52      0.25       102\n",
      "          91       0.65      0.65      0.65       101\n",
      "          92       0.75      0.90      0.82        92\n",
      "          93       0.83      0.73      0.78        98\n",
      "          94       0.95      0.94      0.94        93\n",
      "          95       0.77      0.75      0.76       110\n",
      "          96       0.96      0.80      0.88        92\n",
      "          97       1.00      0.67      0.80        98\n",
      "          98       0.91      0.98      0.94       101\n",
      "          99       0.87      0.84      0.85       108\n",
      "         100       0.77      0.66      0.71       110\n",
      "         101       0.91      0.86      0.89       103\n",
      "         102       0.74      0.83      0.78        98\n",
      "         103       0.68      0.75      0.71       102\n",
      "         104       0.62      0.66      0.64       100\n",
      "         105       0.78      0.84      0.81       100\n",
      "         106       0.94      0.87      0.91        94\n",
      "         107       0.85      0.64      0.73        99\n",
      "         108       0.75      0.77      0.76        97\n",
      "         109       0.80      0.74      0.77       100\n",
      "         110       0.83      0.96      0.89       100\n",
      "         111       0.84      0.76      0.80        99\n",
      "         112       0.97      0.70      0.81        84\n",
      "         113       0.76      0.63      0.69       114\n",
      "         114       0.80      0.84      0.82       100\n",
      "         115       0.85      0.94      0.90       100\n",
      "         116       0.78      0.96      0.86       100\n",
      "         117       0.67      0.68      0.67       100\n",
      "         118       0.92      0.92      0.92       101\n",
      "         119       0.92      0.86      0.89        99\n",
      "         120       0.92      0.90      0.91       100\n",
      "         121       0.98      0.88      0.92        96\n",
      "         122       0.74      0.82      0.78        98\n",
      "         123       0.54      0.70      0.61        99\n",
      "         124       0.71      0.83      0.77       121\n",
      "         125       0.88      0.88      0.88        96\n",
      "         126       0.89      0.78      0.83       101\n",
      "         127       0.82      0.84      0.83        99\n",
      "         128       0.86      0.89      0.88        99\n",
      "         129       0.61      0.71      0.65       101\n",
      "         130       0.81      0.88      0.84       116\n",
      "         131       0.96      0.91      0.93       100\n",
      "         132       0.61      0.73      0.67       100\n",
      "         133       0.89      0.76      0.82        98\n",
      "         134       1.00      0.88      0.94        94\n",
      "         135       0.65      0.76      0.70        99\n",
      "         136       0.68      0.73      0.70       104\n",
      "         137       0.97      0.98      0.97        99\n",
      "         138       0.98      0.83      0.90       100\n",
      "         139       0.98      0.93      0.95       101\n",
      "         140       0.72      0.84      0.78       106\n",
      "         141       0.85      0.83      0.84       103\n",
      "         142       1.00      0.94      0.97        95\n",
      "         143       0.94      0.80      0.86        98\n",
      "         144       0.87      0.75      0.80       102\n",
      "         145       0.73      0.78      0.75       100\n",
      "         146       0.52      0.55      0.53        99\n",
      "         147       0.42      0.72      0.53        97\n",
      "         148       0.80      0.67      0.73        97\n",
      "         149       0.76      0.84      0.80       100\n",
      "         150       0.85      0.94      0.89       101\n",
      "         151       0.75      0.60      0.66        99\n",
      "         152       0.81      0.91      0.86        98\n",
      "         153       0.94      0.83      0.88       100\n",
      "         154       0.90      0.80      0.85       100\n",
      "         155       0.92      0.68      0.78       100\n",
      "         156       0.74      0.71      0.72       102\n",
      "         157       0.86      0.82      0.84       100\n",
      "         158       0.72      0.89      0.80       102\n",
      "         159       0.95      0.85      0.90        87\n",
      "         160       0.90      0.63      0.74       103\n",
      "         161       0.97      0.86      0.91       111\n",
      "         162       0.89      0.89      0.89       100\n",
      "         163       0.66      0.77      0.71        97\n",
      "         164       0.70      0.72      0.71       101\n",
      "         165       0.88      0.84      0.86       100\n",
      "         166       0.93      0.55      0.69        99\n",
      "         167       0.65      0.78      0.71       100\n",
      "         168       0.92      0.78      0.84       100\n",
      "         169       0.83      0.87      0.85       103\n",
      "         170       0.58      0.59      0.59        93\n",
      "         171       0.92      0.91      0.91       107\n",
      "         172       0.58      0.71      0.64       100\n",
      "         173       0.83      0.65      0.73        98\n",
      "         174       0.91      0.96      0.94        99\n",
      "         175       0.48      0.75      0.58       100\n",
      "         176       0.77      0.70      0.73        98\n",
      "         177       0.59      0.87      0.71       102\n",
      "         178       0.92      0.82      0.87       100\n",
      "         179       0.97      0.71      0.82       104\n",
      "         180       0.83      0.05      0.09       103\n",
      "         181       0.98      0.78      0.87       117\n",
      "         182       0.71      0.51      0.59        91\n",
      "         183       0.88      0.38      0.53        97\n",
      "         184       0.68      0.61      0.65       109\n",
      "         185       1.00      0.31      0.47        97\n",
      "         186       0.69      0.18      0.28       101\n",
      "         187       0.93      0.86      0.90       100\n",
      "         188       0.80      0.77      0.79       100\n",
      "         189       0.51      0.59      0.55       102\n",
      "         190       0.84      0.93      0.88       100\n",
      "         191       0.82      0.81      0.81       100\n",
      "         192       0.91      0.70      0.79       100\n",
      "         193       0.70      0.75      0.72        96\n",
      "         194       0.65      0.84      0.73       100\n",
      "         195       0.94      0.80      0.86       100\n",
      "         196       0.79      0.83      0.81        99\n",
      "         197       0.98      0.90      0.94       101\n",
      "         198       0.83      0.79      0.81       101\n",
      "         199       0.95      0.76      0.85       101\n",
      "         200       0.92      0.95      0.93       102\n",
      "         201       0.93      0.79      0.85       100\n",
      "         202       0.98      0.65      0.78        91\n",
      "         203       0.50      0.76      0.60       100\n",
      "         204       0.67      0.68      0.67       100\n",
      "         205       0.63      0.83      0.72       102\n",
      "         206       0.80      0.84      0.82       110\n",
      "         207       0.62      0.77      0.69       102\n",
      "         208       0.77      0.62      0.69       101\n",
      "         209       0.96      0.88      0.92       101\n",
      "         210       0.92      0.80      0.86       101\n",
      "         211       0.79      0.87      0.83       101\n",
      "         212       0.88      0.38      0.53       101\n",
      "         213       0.75      0.87      0.80       126\n",
      "         214       0.96      0.65      0.78       110\n",
      "         215       0.82      0.84      0.83       100\n",
      "         216       0.86      0.87      0.86       105\n",
      "         217       0.90      0.66      0.76       105\n",
      "         218       0.80      0.84      0.82       117\n",
      "         219       0.80      0.93      0.86       108\n",
      "         220       0.74      0.85      0.79        60\n",
      "         221       0.90      0.80      0.84        98\n",
      "         222       0.41      0.84      0.55       101\n",
      "         223       0.85      0.99      0.92        95\n",
      "         224       0.49      0.52      0.50        97\n",
      "         225       0.90      0.77      0.83       113\n",
      "         226       0.67      0.80      0.73       100\n",
      "         227       0.82      0.80      0.81       102\n",
      "         228       0.78      0.52      0.62        95\n",
      "         229       0.99      0.74      0.85       104\n",
      "         230       0.65      0.94      0.77       100\n",
      "         231       0.79      0.66      0.72       102\n",
      "         232       0.64      0.72      0.68       105\n",
      "         233       0.62      0.75      0.68       103\n",
      "         234       0.76      0.76      0.76       100\n",
      "         235       0.50      0.61      0.55       103\n",
      "         236       0.94      0.73      0.82       100\n",
      "         237       0.65      0.85      0.74       101\n",
      "         238       0.99      0.89      0.93        89\n",
      "         239       0.89      0.84      0.87       109\n",
      "         240       0.88      0.92      0.90        99\n",
      "         241       0.95      0.83      0.89        96\n",
      "         242       0.96      0.94      0.95       109\n",
      "         243       0.63      0.80      0.70       100\n",
      "         244       0.63      0.67      0.65       100\n",
      "         245       0.54      0.85      0.66       100\n",
      "         246       0.99      0.92      0.95        97\n",
      "         247       0.71      0.74      0.73       101\n",
      "         248       0.95      0.65      0.77       108\n",
      "         249       0.98      0.95      0.96       100\n",
      "         250       0.87      0.76      0.81       103\n",
      "         251       0.82      0.83      0.83       101\n",
      "         252       0.95      0.83      0.89        99\n",
      "         253       0.94      0.77      0.85       100\n",
      "         254       0.89      0.84      0.86        99\n",
      "         255       0.65      0.77      0.71       100\n",
      "         256       0.93      0.76      0.83        99\n",
      "         257       0.82      0.85      0.84        99\n",
      "         258       0.78      0.61      0.69        95\n",
      "         259       0.88      0.82      0.85        98\n",
      "         260       0.88      0.84      0.86       111\n",
      "         261       0.73      0.80      0.77       100\n",
      "         262       0.82      0.92      0.87       101\n",
      "         263       0.60      0.55      0.58       100\n",
      "         264       0.91      0.85      0.88       101\n",
      "         265       0.92      0.94      0.93       115\n",
      "         266       0.81      0.80      0.80       103\n",
      "         267       0.87      0.96      0.91        89\n",
      "         268       0.92      0.82      0.87       103\n",
      "         269       0.81      0.81      0.81       105\n",
      "         270       0.74      0.75      0.75       101\n",
      "         271       0.94      0.79      0.86        98\n",
      "         272       0.91      0.87      0.89        99\n",
      "         273       0.95      0.87      0.91       100\n",
      "         274       0.97      0.90      0.93        99\n",
      "         275       0.96      0.90      0.93        99\n",
      "         276       0.82      0.81      0.82       101\n",
      "         277       0.81      0.34      0.48        99\n",
      "         278       0.86      0.52      0.65        99\n",
      "         279       0.59      0.89      0.71        99\n",
      "         280       0.83      0.91      0.86        53\n",
      "         281       0.88      0.52      0.65        98\n",
      "         282       0.90      0.65      0.75        99\n",
      "         283       0.60      0.70      0.65       100\n",
      "         284       0.80      0.90      0.84       105\n",
      "         285       0.88      0.94      0.91        99\n",
      "         286       0.94      0.57      0.71       113\n",
      "         287       0.90      0.90      0.90       100\n",
      "         288       0.58      0.75      0.66       103\n",
      "         289       0.65      0.64      0.64       100\n",
      "         290       0.51      0.67      0.58       100\n",
      "         291       0.94      0.87      0.90        89\n",
      "         292       0.67      0.58      0.62       100\n",
      "         293       0.98      0.80      0.88       106\n",
      "         294       0.64      0.71      0.67       102\n",
      "         295       0.82      0.63      0.71       103\n",
      "         296       0.91      0.79      0.84        99\n",
      "         297       0.83      0.91      0.87       100\n",
      "         298       0.43      0.70      0.54       101\n",
      "         299       0.82      0.89      0.85       101\n",
      "         300       0.39      0.84      0.53       104\n",
      "         301       0.96      0.79      0.87       100\n",
      "         302       0.96      0.88      0.92       110\n",
      "         303       0.88      0.90      0.89        99\n",
      "         304       0.96      0.67      0.79        99\n",
      "         305       0.82      0.68      0.74        99\n",
      "         306       0.58      0.76      0.66       100\n",
      "         307       0.92      0.80      0.85        99\n",
      "         308       0.78      0.78      0.78       112\n",
      "         309       0.99      0.85      0.91        92\n",
      "         310       0.90      0.84      0.87        97\n",
      "         311       0.98      0.81      0.88       103\n",
      "         312       0.93      0.55      0.69        97\n",
      "         313       0.99      0.67      0.80       110\n",
      "         314       0.83      0.95      0.89        81\n",
      "         315       0.99      0.69      0.81        96\n",
      "         316       0.87      0.75      0.80       103\n",
      "         317       0.96      0.78      0.86        98\n",
      "         318       1.00      0.82      0.90        94\n",
      "         319       0.78      0.83      0.80       112\n",
      "         320       0.94      0.48      0.64       104\n",
      "         321       0.80      0.73      0.77        98\n",
      "         322       0.72      0.78      0.75       104\n",
      "         323       1.00      0.77      0.87        98\n",
      "         324       0.87      0.71      0.78       100\n",
      "         325       0.68      0.66      0.67        96\n",
      "         326       0.66      0.59      0.62       100\n",
      "         327       0.89      0.80      0.84       100\n",
      "         328       0.84      0.75      0.79       101\n",
      "         329       0.73      0.81      0.77        99\n",
      "         330       0.68      0.67      0.67       114\n",
      "         331       0.87      0.43      0.57        96\n",
      "         332       0.80      0.80      0.80        98\n",
      "         333       0.74      0.75      0.75       102\n",
      "         334       0.97      0.89      0.92        97\n",
      "         335       0.74      0.94      0.83        99\n",
      "         336       0.94      0.76      0.84        99\n",
      "         337       0.78      0.79      0.78       101\n",
      "         338       0.73      0.79      0.76       100\n",
      "         339       0.75      0.87      0.81       100\n",
      "         340       0.89      0.79      0.84        96\n",
      "         341       0.94      0.87      0.90       104\n",
      "         342       1.00      0.91      0.95       100\n",
      "         343       0.80      0.71      0.75       100\n",
      "         344       0.94      0.92      0.93        99\n",
      "         345       0.74      0.81      0.77       101\n",
      "         346       0.69      0.58      0.63        98\n",
      "         347       0.71      0.75      0.73       102\n",
      "         348       0.85      0.84      0.85       101\n",
      "         349       0.95      0.36      0.52       101\n",
      "         350       1.00      0.84      0.91        92\n",
      "         351       0.81      0.84      0.82        98\n",
      "         352       0.68      0.90      0.77       100\n",
      "         353       0.89      0.69      0.78        97\n",
      "         354       0.65      0.81      0.72        98\n",
      "         355       0.61      0.78      0.69        95\n",
      "         356       0.91      0.81      0.86        99\n",
      "         357       0.64      0.76      0.70       101\n",
      "         358       0.75      0.83      0.79       100\n",
      "         359       0.43      0.77      0.55       101\n",
      "         360       0.90      0.45      0.60       104\n",
      "         361       0.99      0.63      0.77       112\n",
      "         362       0.88      0.65      0.75       100\n",
      "         363       0.85      0.82      0.84       100\n",
      "         364       0.95      0.88      0.91       102\n",
      "         365       0.62      0.76      0.68       100\n",
      "         366       0.99      0.76      0.86       100\n",
      "         367       0.72      0.86      0.78       100\n",
      "         368       0.85      0.80      0.82        99\n",
      "         369       0.91      0.78      0.84       100\n",
      "         370       0.99      0.96      0.98       103\n",
      "         371       0.87      0.78      0.82       102\n",
      "         372       0.82      0.89      0.85       100\n",
      "         373       0.77      0.77      0.77       102\n",
      "         374       0.89      0.85      0.87       100\n",
      "         375       0.81      0.92      0.86       109\n",
      "         376       0.80      0.86      0.83       102\n",
      "         377       0.98      0.88      0.92        98\n",
      "         378       0.94      0.77      0.85       105\n",
      "         379       0.67      0.85      0.75       100\n",
      "         380       0.71      0.75      0.73       109\n",
      "         381       0.96      0.68      0.80       100\n",
      "         382       0.87      0.87      0.87       112\n",
      "         383       0.82      0.50      0.62       102\n",
      "         384       0.96      0.70      0.81        98\n",
      "         385       0.77      0.74      0.76       101\n",
      "         386       0.87      0.87      0.87       101\n",
      "         387       0.78      0.87      0.82       100\n",
      "         388       0.93      0.61      0.74       109\n",
      "         389       0.58      0.78      0.66       101\n",
      "         390       0.90      0.55      0.68        97\n",
      "         391       0.94      0.83      0.89       102\n",
      "         392       0.48      0.78      0.60       100\n",
      "         393       0.74      0.62      0.67        99\n",
      "         394       0.89      0.73      0.80        99\n",
      "         395       0.92      0.41      0.57       114\n",
      "         396       0.89      0.85      0.87       100\n",
      "         397       0.86      0.83      0.85       100\n",
      "         398       1.00      0.36      0.53        99\n",
      "         399       0.58      0.84      0.68       116\n",
      "         400       0.85      0.74      0.79       108\n",
      "         401       0.65      0.50      0.57       109\n",
      "         402       0.59      0.89      0.71       100\n",
      "         403       0.64      0.54      0.58       106\n",
      "         404       0.89      0.67      0.76        99\n",
      "         405       0.33      0.14      0.19       101\n",
      "         406       0.84      0.99      0.91       107\n",
      "         407       0.59      0.91      0.72        98\n",
      "         408       0.74      0.82      0.78       100\n",
      "         409       0.52      0.68      0.59       102\n",
      "         410       0.94      0.80      0.87        96\n",
      "         411       0.76      0.87      0.81       100\n",
      "         412       0.90      0.74      0.81       112\n",
      "         413       0.59      0.87      0.70        98\n",
      "         414       0.78      0.73      0.76       100\n",
      "         415       0.77      0.62      0.69       100\n",
      "         416       0.63      0.65      0.64        98\n",
      "         417       0.95      0.92      0.93       101\n",
      "         418       0.63      0.90      0.74       100\n",
      "         419       0.78      0.88      0.83       118\n",
      "         420       1.00      0.87      0.93        97\n",
      "         421       0.45      0.78      0.57       123\n",
      "         422       0.88      0.88      0.88       100\n",
      "         423       0.60      0.81      0.69       100\n",
      "         424       0.92      0.90      0.91        93\n",
      "         425       0.93      0.81      0.87       101\n",
      "         426       0.54      0.59      0.56        97\n",
      "         427       0.91      0.78      0.84        99\n",
      "         428       0.99      0.68      0.80        97\n",
      "         429       0.77      0.68      0.72       110\n",
      "         430       0.73      0.91      0.81        80\n",
      "         431       0.84      0.75      0.79       100\n",
      "         432       0.99      0.90      0.94       100\n",
      "         433       0.75      0.82      0.79       101\n",
      "         434       0.86      0.91      0.88       100\n",
      "         435       0.80      0.85      0.83       100\n",
      "         436       1.00      0.78      0.87        94\n",
      "         437       0.79      0.85      0.82       113\n",
      "         438       0.69      0.78      0.73       100\n",
      "         439       0.53      0.58      0.55       100\n",
      "         440       0.95      0.81      0.87        99\n",
      "         441       0.53      0.85      0.65       100\n",
      "         442       0.92      0.87      0.90        99\n",
      "         443       0.84      0.69      0.76       113\n",
      "         444       0.57      0.64      0.60        97\n",
      "         445       0.64      0.75      0.69       104\n",
      "         446       0.71      0.75      0.73       106\n",
      "         447       0.88      0.82      0.85       102\n",
      "         448       0.88      0.88      0.88       105\n",
      "         449       0.67      0.67      0.67        94\n",
      "         450       0.72      0.87      0.79       101\n",
      "         451       0.93      0.83      0.88       102\n",
      "         452       0.92      0.89      0.90       100\n",
      "         453       0.95      0.75      0.84        93\n",
      "         454       0.84      0.87      0.85       100\n",
      "         455       0.81      0.88      0.85       100\n",
      "         456       0.75      0.75      0.75       113\n",
      "         457       0.83      0.70      0.76       109\n",
      "         458       0.91      0.85      0.88        97\n",
      "         459       0.93      0.69      0.79        99\n",
      "         460       0.90      0.82      0.86       101\n",
      "         461       0.95      0.63      0.76        94\n",
      "         462       0.96      0.98      0.97       100\n",
      "         463       0.98      0.85      0.91       100\n",
      "         464       0.99      0.83      0.90       100\n",
      "         465       0.72      0.78      0.75       100\n",
      "         466       0.79      0.57      0.66       110\n",
      "         467       0.90      0.84      0.87       110\n",
      "         468       0.71      0.82      0.76        99\n",
      "         469       0.94      0.64      0.76       101\n",
      "         470       0.95      0.58      0.72        96\n",
      "         471       0.89      0.95      0.92       101\n",
      "         472       0.79      0.82      0.80        98\n",
      "         473       0.91      0.91      0.91        95\n",
      "         474       0.94      0.81      0.87        95\n",
      "         475       0.61      0.75      0.67       100\n",
      "         476       0.98      0.85      0.91        99\n",
      "         477       0.91      0.93      0.92       100\n",
      "         478       0.83      0.75      0.79       134\n",
      "         479       0.95      0.92      0.93       101\n",
      "         480       0.95      0.84      0.89        98\n",
      "         481       0.79      0.85      0.82       103\n",
      "         482       0.70      0.92      0.80       100\n",
      "         483       0.96      0.75      0.84       100\n",
      "         484       0.49      0.70      0.58       101\n",
      "         485       0.69      0.84      0.76        98\n",
      "         486       0.84      0.91      0.87        98\n",
      "         487       0.83      0.92      0.87       100\n",
      "         488       0.89      0.82      0.85       100\n",
      "         489       0.92      0.82      0.87       110\n",
      "         490       0.81      0.96      0.88       100\n",
      "         491       0.84      0.82      0.83       108\n",
      "         492       0.96      0.88      0.92       100\n",
      "         493       0.83      0.92      0.87       102\n",
      "         494       0.81      0.74      0.77       108\n",
      "         495       0.72      0.82      0.77       109\n",
      "         496       0.66      0.73      0.69        99\n",
      "         497       0.85      0.81      0.83       100\n",
      "         498       0.95      0.55      0.69        99\n",
      "         499       0.93      0.88      0.90       100\n",
      "         500       0.76      0.76      0.76        98\n",
      "         501       0.92      0.82      0.87       100\n",
      "         502       0.99      0.93      0.96       106\n",
      "         503       0.73      0.65      0.69       102\n",
      "         504       0.91      0.80      0.85        99\n",
      "         505       0.59      0.88      0.71       100\n",
      "         506       0.76      0.70      0.73       100\n",
      "         507       0.54      0.72      0.62        99\n",
      "         508       0.89      0.85      0.87       100\n",
      "         509       0.94      0.86      0.90       101\n",
      "         510       0.89      0.63      0.74       101\n",
      "         511       0.73      0.94      0.82       100\n",
      "         512       0.86      0.73      0.79       100\n",
      "         513       0.84      0.89      0.86        99\n",
      "         514       0.81      0.76      0.78       108\n",
      "         515       0.65      0.59      0.62       101\n",
      "         516       0.69      0.90      0.78        99\n",
      "         517       0.54      0.70      0.61        99\n",
      "         518       0.97      0.69      0.81        97\n",
      "         519       0.99      0.81      0.89       100\n",
      "         520       0.79      0.55      0.65       101\n",
      "         521       0.56      0.68      0.61       120\n",
      "         522       0.12      0.14      0.13       100\n",
      "         523       0.97      0.87      0.92       100\n",
      "         524       0.92      0.95      0.94        84\n",
      "         525       0.12      0.69      0.20       105\n",
      "         526       0.82      0.49      0.62        95\n",
      "         527       0.87      0.82      0.84       112\n",
      "         528       0.92      0.83      0.87        99\n",
      "         529       0.82      0.59      0.69       100\n",
      "         530       0.80      0.76      0.78       107\n",
      "         531       0.72      0.73      0.72       113\n",
      "         532       0.77      0.84      0.80       104\n",
      "         533       0.93      0.79      0.85        95\n",
      "         534       0.93      0.59      0.72        91\n",
      "         535       0.89      0.84      0.86        97\n",
      "         536       0.78      0.60      0.68       101\n",
      "         537       0.76      0.85      0.80       118\n",
      "         538       0.84      0.95      0.89        99\n",
      "         539       0.96      0.93      0.94       100\n",
      "         540       0.69      0.65      0.67       102\n",
      "         541       0.99      0.86      0.92        94\n",
      "         542       0.90      0.93      0.92       101\n",
      "         543       0.76      0.89      0.82       100\n",
      "         544       0.78      0.86      0.82        97\n",
      "         545       0.72      0.75      0.73       102\n",
      "         546       0.50      0.76      0.60       100\n",
      "         547       0.75      0.71      0.73        99\n",
      "         548       0.43      0.62      0.51       104\n",
      "         549       0.71      0.75      0.73       126\n",
      "         550       0.97      0.88      0.92        96\n",
      "         551       0.72      0.84      0.78        99\n",
      "         552       0.96      0.73      0.83       103\n",
      "         553       0.90      0.99      0.94       106\n",
      "         554       0.74      0.72      0.73       110\n",
      "         555       0.80      0.63      0.71       101\n",
      "         556       0.96      0.71      0.82       105\n",
      "         557       0.92      0.83      0.87       100\n",
      "         558       0.70      0.75      0.72       108\n",
      "         559       0.95      0.55      0.70       115\n",
      "         560       0.80      0.84      0.82       100\n",
      "         561       0.99      0.69      0.81        95\n",
      "         562       0.79      0.84      0.81       100\n",
      "         563       0.79      0.88      0.83       100\n",
      "         564       0.92      0.70      0.80        94\n",
      "         565       0.51      0.75      0.61       101\n",
      "         566       0.99      0.79      0.88        98\n",
      "         567       0.96      0.71      0.81        95\n",
      "         568       0.86      0.85      0.86       101\n",
      "         569       0.88      0.77      0.82        98\n",
      "         570       0.80      0.81      0.80       108\n",
      "         571       0.80      0.86      0.83       100\n",
      "         572       0.97      0.76      0.85       100\n",
      "         573       0.76      0.82      0.79       100\n",
      "         574       0.67      0.72      0.70       100\n",
      "         575       0.92      0.85      0.89       100\n",
      "         576       0.99      0.90      0.94        97\n",
      "         577       0.58      0.83      0.68       101\n",
      "         578       0.92      0.78      0.85        91\n",
      "         579       0.76      0.58      0.66       100\n",
      "         580       0.70      0.69      0.69        99\n",
      "         581       0.83      0.72      0.77        95\n",
      "         582       0.83      0.83      0.83       101\n",
      "         583       0.61      0.64      0.63       111\n",
      "         584       0.81      0.77      0.79       101\n",
      "         585       0.80      0.85      0.82        99\n",
      "         586       0.83      0.78      0.80       100\n",
      "         587       0.68      0.83      0.75        99\n",
      "         588       0.74      0.68      0.71       103\n",
      "         589       0.82      0.93      0.87       100\n",
      "         590       0.93      0.51      0.66       109\n",
      "         591       0.82      0.62      0.71        99\n",
      "         592       0.94      0.76      0.84       100\n",
      "         593       0.73      0.66      0.69        99\n",
      "         594       0.90      0.56      0.69        96\n",
      "         595       0.74      0.77      0.75       100\n",
      "         596       0.91      0.83      0.87       100\n",
      "         597       0.79      0.79      0.79        99\n",
      "         598       0.74      0.79      0.76       100\n",
      "         599       0.81      0.77      0.79       111\n",
      "         600       0.67      0.79      0.72       100\n",
      "         601       0.84      0.82      0.83        68\n",
      "         602       0.78      0.76      0.77        97\n",
      "         603       0.91      0.65      0.76        89\n",
      "         604       0.62      0.78      0.69       101\n",
      "         605       0.62      0.83      0.71       100\n",
      "         606       0.99      0.82      0.90        99\n",
      "         607       0.97      0.79      0.87        99\n",
      "         608       0.81      0.90      0.85        99\n",
      "         609       0.74      0.75      0.74       103\n",
      "         610       0.98      0.93      0.95       100\n",
      "         611       0.95      0.85      0.90       101\n",
      "         612       0.86      0.80      0.83       101\n",
      "         613       0.80      0.81      0.81       105\n",
      "         614       0.79      0.86      0.83       102\n",
      "         615       0.89      0.92      0.91       105\n",
      "         616       0.98      0.84      0.90        98\n",
      "         617       0.86      0.98      0.92       106\n",
      "         618       0.80      0.86      0.83       100\n",
      "         619       0.78      0.95      0.86        99\n",
      "         620       0.62      0.86      0.72        99\n",
      "         621       0.93      0.86      0.89       101\n",
      "         622       0.91      0.86      0.89        99\n",
      "         623       0.78      0.80      0.79       103\n",
      "         624       0.84      0.92      0.88       101\n",
      "         625       0.87      0.73      0.79       106\n",
      "         626       0.93      0.99      0.96        79\n",
      "         627       0.98      0.91      0.94       103\n",
      "         628       0.93      0.69      0.79       102\n",
      "         629       0.77      0.74      0.75        99\n",
      "         630       0.72      0.82      0.76        99\n",
      "         631       0.74      0.83      0.78       100\n",
      "\n",
      "    accuracy                           0.78     63680\n",
      "   macro avg       0.81      0.78      0.78     63680\n",
      "weighted avg       0.81      0.78      0.78     63680\n",
      "\n"
     ]
    }
   ],
   "source": [
    "print(classification_report(y_true, y_pred, labels=np.unique(y_pred)))\n",
    "\n",
    "# Hiperparametros 1:  lr=0.01 momentum = 0.9\n",
    "#     accuracy                           0.85     63680\n",
    "#    macro avg       0.86      0.85      0.85     63680\n",
    "# weighted avg       0.86      0.85      0.85     63680\n",
    "\n",
    "# Hiperparametros 2:  lr=0.01 momentum = 0.5\n",
    "#     accuracy                           0.83     63680\n",
    "#    macro avg       0.85      0.83      0.83     63680\n",
    "# weighted avg       0.85      0.83      0.83     63680\n",
    "\n",
    "# Hiperparametros 3:  lr=0.05 momentum = 0.9\n",
    "#     accuracy                           0.78     63680\n",
    "#    macro avg       0.81      0.78      0.78     63680\n",
    "# weighted avg       0.81      0.78      0.78     63680"
   ]
  },
  {
   "cell_type": "markdown",
   "metadata": {
    "id": "emjWh5f3kYxN"
   },
   "source": [
    "## Bloques para generar gráficos"
   ]
  },
  {
   "cell_type": "code",
   "execution_count": 2,
   "metadata": {
    "executionInfo": {
     "elapsed": 496,
     "status": "ok",
     "timestamp": 1670181632120,
     "user": {
      "displayName": "hugo folonier",
      "userId": "02772557454346180373"
     },
     "user_tz": 180
    },
    "id": "Hg22LsSCkYxN"
   },
   "outputs": [],
   "source": [
    "import pandas as pd\n",
    "import seaborn\n",
    "import matplotlib.pyplot as plt\n",
    "\n",
    "df_MLP1=pd.read_csv('datos_finales_MLP-hip1.csv')\n",
    "df_conv1=pd.read_csv('datos_finales_conv-hip1.csv')\n",
    "df_MLP2=pd.read_csv('datos_finales_MLP-hip2.csv')\n",
    "df_conv2=pd.read_csv('datos_finales_conv-hip2.csv')\n",
    "df_MLP3=pd.read_csv('datos_finales_MLP-hip3.csv')\n",
    "df_conv3=pd.read_csv('datos_finales_conv-hip3.csv')"
   ]
  },
  {
   "cell_type": "code",
   "execution_count": 7,
   "metadata": {
    "colab": {
     "base_uri": "https://localhost:8080/",
     "height": 295
    },
    "executionInfo": {
     "elapsed": 631,
     "status": "ok",
     "timestamp": 1670181733476,
     "user": {
      "displayName": "hugo folonier",
      "userId": "02772557454346180373"
     },
     "user_tz": 180
    },
    "id": "dyFOVEYSkYxN",
    "outputId": "255aa255-f6fd-474f-bbfe-c7657e5a09f5"
   },
   "outputs": [
    {
     "data": {
      "image/png": "[encoded data removed]",
      "text/plain": [
       "<Figure size 432x288 with 1 Axes>"
      ]
     },
     "metadata": {
      "needs_background": "light"
     },
     "output_type": "display_data"
    }
   ],
   "source": [
    "plt.plot(df_MLP3['epoch'], df_MLP3['train_loss'], marker='.',color='blue', label='train')\n",
    "plt.plot(df_MLP3['epoch'], df_MLP3['val_loss'], marker='.',color='orange', label='val')\n",
    "plt.legend(loc='best', facecolor='w', fontsize=12)\n",
    "plt.title('Red Neuronal Lineal: lr = 0.05, momentum = 0.9', fontdict=None, loc='center', pad=None)\n",
    "plt.xlabel('Epoch')\n",
    "plt.ylabel('Loss')\n",
    "plt.savefig(\"MLP-loss-hip3.jpg\")\n",
    "plt.show()\n"
   ]
  },
  {
   "cell_type": "code",
   "execution_count": 11,
   "metadata": {
    "colab": {
     "base_uri": "https://localhost:8080/",
     "height": 295
    },
    "executionInfo": {
     "elapsed": 23,
     "status": "ok",
     "timestamp": 1670181820438,
     "user": {
      "displayName": "hugo folonier",
      "userId": "02772557454346180373"
     },
     "user_tz": 180
    },
    "id": "Pe3xCXJqkYxN",
    "outputId": "716e2e51-6a20-4348-a3ea-3641099a7422"
   },
   "outputs": [
    {
     "data": {
      "image/png": "[encoded data removed]",
      "text/plain": [
       "<Figure size 432x288 with 1 Axes>"
      ]
     },
     "metadata": {
      "needs_background": "light"
     },
     "output_type": "display_data"
    }
   ],
   "source": [
    "plt.plot(df_conv3['epoch'], df_conv3['train_loss'], marker='.',color='blue', label='train')\n",
    "plt.plot(df_conv3['epoch'], df_conv3['val_loss'], marker='.',color='orange', label='val')\n",
    "plt.legend(loc='best', facecolor='w', fontsize=12)\n",
    "plt.title('Red Neuronal Convolucional: lr = 0.05, momentum = 0.9', fontdict=None, loc='center', pad=None)\n",
    "plt.xlabel('Epoch')\n",
    "plt.ylabel('Loss')\n",
    "plt.savefig(\"conv-loss-hip3.jpg\")\n",
    "plt.show()"
   ]
  },
  {
   "cell_type": "code",
   "execution_count": 17,
   "metadata": {
    "colab": {
     "base_uri": "https://localhost:8080/",
     "height": 295
    },
    "executionInfo": {
     "elapsed": 581,
     "status": "ok",
     "timestamp": 1670182170087,
     "user": {
      "displayName": "hugo folonier",
      "userId": "02772557454346180373"
     },
     "user_tz": 180
    },
    "id": "jzafZ_P-kYxO",
    "outputId": "d5d1bced-2207-4dc4-82e0-94e5d422ebe2"
   },
   "outputs": [
    {
     "data": {
      "image/png": "[encoded data removed]",
      "text/plain": [
       "<Figure size 432x288 with 1 Axes>"
      ]
     },
     "metadata": {
      "needs_background": "light"
     },
     "output_type": "display_data"
    }
   ],
   "source": [
    "plt.plot(df_MLP1['val_accuracy'], marker='.',color='blue', label='lr = 0.01, momentum = 0.9')\n",
    "plt.plot(df_MLP2['val_accuracy'], marker='.',color='red', label='lr = 0.01, momentum = 0.5')\n",
    "plt.plot(df_MLP3['val_accuracy'], marker='.',color='green', label='lr = 0.05, momentum = 0.9')\n",
    "plt.legend(loc='best', facecolor='w', fontsize=12)\n",
    "plt.title('Accuracy-MLP', fontdict=None, loc='center', pad=None)\n",
    "plt.xlabel('Epoch')\n",
    "plt.ylabel('Accuracy')\n",
    "plt.savefig(\"accuracyMLP.jpg\")\n",
    "plt.show()"
   ]
  },
  {
   "cell_type": "code",
   "execution_count": 18,
   "metadata": {
    "colab": {
     "base_uri": "https://localhost:8080/",
     "height": 295
    },
    "executionInfo": {
     "elapsed": 602,
     "status": "ok",
     "timestamp": 1670182176904,
     "user": {
      "displayName": "hugo folonier",
      "userId": "02772557454346180373"
     },
     "user_tz": 180
    },
    "id": "4ofOjlI-kYxO",
    "outputId": "426f6ad2-ed32-48ca-cf4a-6ea76eb3666b"
   },
   "outputs": [
    {
     "data": {
      "image/png": "[encoded data removed]",
      "text/plain": [
       "<Figure size 432x288 with 1 Axes>"
      ]
     },
     "metadata": {
      "needs_background": "light"
     },
     "output_type": "display_data"
    }
   ],
   "source": [
    "plt.plot(df_conv1['val_accuracy'], marker='.',color='blue', label='lr = 0.01, momentum = 0.9')\n",
    "plt.plot(df_conv2['val_accuracy'], marker='.',color='red', label='lr = 0.01, momentum = 0.5')\n",
    "plt.plot(df_conv3['val_accuracy'], marker='.',color='green', label='lr = 0.05, momentum = 0.9')\n",
    "plt.legend(loc='best', facecolor='w', fontsize=12)\n",
    "plt.title('Accuracy-conv', fontdict=None, loc='center', pad=None)\n",
    "plt.xlabel('Epoch')\n",
    "plt.ylabel('Accuracy ')\n",
    "plt.savefig(\"accuracyconv.jpg\")\n",
    "plt.show()"
   ]
  },
  {
   "cell_type": "code",
   "execution_count": null,
   "metadata": {
    "id": "qQoL-M0Ym1L6"
   },
   "outputs": [],
   "source": []
  }
 ],
 "metadata": {
  "accelerator": "GPU",
  "colab": {
   "provenance": []
  },
  "gpuClass": "standard",
  "kernelspec": {
   "display_name": "Python 3 (ipykernel)",
   "language": "python",
   "name": "python3"
  },
  "language_info": {
   "codemirror_mode": {
    "name": "ipython",
    "version": 3
   },
   "file_extension": ".py",
   "mimetype": "text/x-python",
   "name": "python",
   "nbconvert_exporter": "python",
   "pygments_lexer": "ipython3",
   "version": "3.9.12"
  },
  "rise": {
   "scroll": true
  },
  "widgets": {
   "application/vnd.jupyter.widget-state+json": {}
  }
 },
 "nbformat": 4,
 "nbformat_minor": 1
}
