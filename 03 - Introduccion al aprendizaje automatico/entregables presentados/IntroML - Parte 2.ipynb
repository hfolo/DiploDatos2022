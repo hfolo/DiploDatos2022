{
  "cells": [
    {
      "cell_type": "markdown",
      "source": [
        "\n",
        "**Diplomatura en Ciencia de Datos, Aprendizaje Automático y sus Aplicaciones**\n",
        "\n",
        "\n",
        "---\n",
        "\n",
        "\n",
        "Integrantes:\n",
        "*   Candelaria Arpajou: mcarpajou@santafe-conicet.gov.ar\n",
        "*   Hugo Folonier: hugofolonier@gmail.com\n",
        "*   Gustavo Jaca: gustavojaca@gmail.com\n",
        "\n",
        "**Edición 2022**\n",
        "\n",
        "---\n",
        "## Trabajo práctico entregable - Parte 2"
      ],
      "metadata": {
        "id": "fX0vFFEBP7p6"
      }
    },
    {
      "cell_type": "markdown",
      "metadata": {
        "id": "GAURz5s1nQxD"
      },
      "source": [
        "# Laboratorio 2: Armado de un esquema de aprendizaje automático\n",
        "\n",
        "En el laboratorio final se espera que puedan poner en práctica los conocimientos adquiridos en el curso, trabajando con un conjunto de datos de clasificación.\n",
        "\n",
        "El objetivo es que se introduzcan en el desarrollo de un esquema para hacer tareas de aprendizaje automático: selección de un modelo, ajuste de hiperparámetros y evaluación.\n",
        "\n",
        "El conjunto de datos a utilizar está en `./data/loan_data.csv`. Si abren el archivo verán que al principio (las líneas que empiezan con `#`) describen el conjunto de datos y sus atributos (incluyendo el atributo de etiqueta o clase).\n",
        "\n",
        "Se espera que hagan uso de las herramientas vistas en el curso. Se espera que hagan uso especialmente de las herramientas brindadas por `scikit-learn`."
      ]
    },
    {
      "cell_type": "code",
      "execution_count": 100,
      "metadata": {
        "id": "eOcPRY9QnQxI"
      },
      "outputs": [],
      "source": [
        "import numpy as np\n",
        "import pandas as pd\n",
        "import matplotlib.pyplot as plt\n",
        "import seaborn as sns\n",
        "\n",
        "# TODO: Agregar las librerías que hagan falta\n",
        "from sklearn.model_selection import train_test_split"
      ]
    },
    {
      "cell_type": "markdown",
      "metadata": {
        "id": "j6q4bEZznQxK"
      },
      "source": [
        "## Carga de datos y división en entrenamiento y evaluación\n",
        "\n",
        "La celda siguiente se encarga de la carga de datos (haciendo uso de pandas). Estos serán los que se trabajarán en el resto del laboratorio."
      ]
    },
    {
      "cell_type": "code",
      "source": [
        "url = \"https://raw.githubusercontent.com/DiploDatos/IntroduccionAprendizajeAutomatico/master/data/loan_data.csv\"\n",
        "dataset = pd.read_csv(url, comment=\"#\")"
      ],
      "metadata": {
        "id": "Gr6hwdELv6Gz"
      },
      "execution_count": 101,
      "outputs": []
    },
    {
      "cell_type": "code",
      "execution_count": 102,
      "metadata": {
        "id": "mQjzpYOKnQxL"
      },
      "outputs": [],
      "source": [
        "# División entre instancias y etiquetas\n",
        "X, y = dataset.iloc[:, 1:], dataset.TARGET\n",
        "\n",
        "# división entre entrenamiento y evaluación\n",
        "X_train, X_test, y_train, y_test = train_test_split(X, y, test_size=0.2, random_state=0)"
      ]
    },
    {
      "cell_type": "code",
      "source": [
        "X_train.shape,X_test.shape"
      ],
      "metadata": {
        "colab": {
          "base_uri": "https://localhost:8080/"
        },
        "id": "V51rvyVE4tow",
        "outputId": "1f5640d8-9894-468f-c654-99fadb376cb0"
      },
      "execution_count": 103,
      "outputs": [
        {
          "output_type": "execute_result",
          "data": {
            "text/plain": [
              "((1483, 10), (371, 10))"
            ]
          },
          "metadata": {},
          "execution_count": 103
        }
      ]
    },
    {
      "cell_type": "code",
      "source": [
        "y_train.shape, y_test.shape"
      ],
      "metadata": {
        "colab": {
          "base_uri": "https://localhost:8080/"
        },
        "id": "6kPXkdVK4zJG",
        "outputId": "2b757bbb-e054-46c8-fddf-e02d90993c5f"
      },
      "execution_count": 104,
      "outputs": [
        {
          "output_type": "execute_result",
          "data": {
            "text/plain": [
              "((1483,), (371,))"
            ]
          },
          "metadata": {},
          "execution_count": 104
        }
      ]
    },
    {
      "cell_type": "markdown",
      "metadata": {
        "id": "SkW-OXMSnQxL"
      },
      "source": [
        "\n",
        "Documentación:\n",
        "\n",
        "- https://scikit-learn.org/stable/modules/generated/sklearn.model_selection.train_test_split.html"
      ]
    },
    {
      "cell_type": "markdown",
      "source": [
        "## Ejercicio 1: Descripción de los Datos y la Tarea\n",
        "\n",
        "Responder las siguientes preguntas:\n",
        "\n",
        "**1. ¿De qué se trata el conjunto de datos?**\n",
        "\n",
        "Se trata de una base de datos de créditos hipotecarios otorgados por un banco, para la cual se ha incluido una etiqueta \"resultado\" que indica si el cliente o beneficiario del crédito incumplió con el pago o tuvo algún tipo de irregularidad. Se busca, a partir de estos datos ya categorizados, poder encontrar un patrón que permita identificar estadísticamente un potencial riesgo de mora al entregar un crédito hipotecario.\n",
        "\n",
        "**2. ¿Cuál es la variable objetivo que hay que predecir? ¿Qué significado tiene?**\n",
        "\n",
        "La variable objetivo es el primer campo *TARGET*. Es una variable binaria que indica en los casos positivos (True) aquellos en los que el cliente en algún momento dejó de pagar el crédito, y en los negativos (False) aquellos clientes que siempre pagaron.\n",
        "\n",
        "**3. ¿Qué información (atributos) hay disponible para hacer la predicción?**\n",
        "\n",
        "Hay 10 variables numéricas, que indican atributos del préstamo (valor neto, valor adeudado sobre el monto total del crédito, porcentaje respecto al valor de la propiedad), otros indican un score crediticio del tomador y otros hablan de la capacidad de pago y la antiguedad laboral de la persona.\n",
        "\n",
        "**4. ¿Qué atributos imagina ud. que son los más determinantes para la predicción?**\n",
        "\n",
        "Estimamos, sin ver los datos, que el scoring crediticio debería ayudar mucho en la predicción, así como el ratio de la deuda sobre los ingresos (como variable que refleje la capacidad de pago)."
      ],
      "metadata": {
        "id": "Alq3JP5CwZhJ"
      }
    },
    {
      "cell_type": "code",
      "source": [
        "dataset"
      ],
      "metadata": {
        "colab": {
          "base_uri": "https://localhost:8080/",
          "height": 424
        },
        "id": "EjdmkeABpuIE",
        "outputId": "d0064f0d-685d-4bfc-cfc4-c3c887cc8d93"
      },
      "execution_count": 105,
      "outputs": [
        {
          "output_type": "execute_result",
          "data": {
            "text/plain": [
              "      TARGET   LOAN   MORTDUE     VALUE   YOJ  DEROG  DELINQ       CLAGE  \\\n",
              "0          0   4700   88026.0  115506.0   6.0    0.0     0.0  182.248332   \n",
              "1          0  19300   39926.0  101208.0   4.0    0.0     0.0  140.051638   \n",
              "2          0   5700   71556.0   79538.0   2.0    0.0     0.0   92.643085   \n",
              "3          0  13000   44875.0   57713.0   0.0    1.0     0.0  184.990324   \n",
              "4          0  19300   72752.0  106084.0  11.0    0.0     0.0  193.707100   \n",
              "...      ...    ...       ...       ...   ...    ...     ...         ...   \n",
              "1849       1  53400  228236.0  305514.0   6.0    0.0     0.0   11.148069   \n",
              "1850       1  53600  235895.0  299772.0   5.0    0.0     0.0  112.748282   \n",
              "1851       1  53600  208197.0  297280.0   4.0    1.0     1.0  160.485251   \n",
              "1852       1  65500  205156.0  290239.0   2.0    0.0     0.0   98.808206   \n",
              "1853       1  77400   87651.0  224630.0   9.0    0.0     2.0   73.469630   \n",
              "\n",
              "      NINQ  CLNO     DEBTINC  \n",
              "0      0.0  27.0   29.209023  \n",
              "1      0.0  14.0   31.545694  \n",
              "2      0.0  15.0   41.210012  \n",
              "3      1.0  12.0   28.602076  \n",
              "4      1.0  13.0   30.686106  \n",
              "...    ...   ...         ...  \n",
              "1849   0.0   2.0   34.558417  \n",
              "1850   7.0  22.0   44.945929  \n",
              "1851   2.0  29.0   41.646731  \n",
              "1852   1.0  21.0  144.189001  \n",
              "1853   3.0  13.0   40.929793  \n",
              "\n",
              "[1854 rows x 11 columns]"
            ],
            "text/html": [
              "\n",
              "  <div id=\"df-d2203b10-b0db-4b4a-ac76-4bc7afe34884\">\n",
              "    <div class=\"colab-df-container\">\n",
              "      <div>\n",
              "<style scoped>\n",
              "    .dataframe tbody tr th:only-of-type {\n",
              "        vertical-align: middle;\n",
              "    }\n",
              "\n",
              "    .dataframe tbody tr th {\n",
              "        vertical-align: top;\n",
              "    }\n",
              "\n",
              "    .dataframe thead th {\n",
              "        text-align: right;\n",
              "    }\n",
              "</style>\n",
              "<table border=\"1\" class=\"dataframe\">\n",
              "  <thead>\n",
              "    <tr style=\"text-align: right;\">\n",
              "      <th></th>\n",
              "      <th>TARGET</th>\n",
              "      <th>LOAN</th>\n",
              "      <th>MORTDUE</th>\n",
              "      <th>VALUE</th>\n",
              "      <th>YOJ</th>\n",
              "      <th>DEROG</th>\n",
              "      <th>DELINQ</th>\n",
              "      <th>CLAGE</th>\n",
              "      <th>NINQ</th>\n",
              "      <th>CLNO</th>\n",
              "      <th>DEBTINC</th>\n",
              "    </tr>\n",
              "  </thead>\n",
              "  <tbody>\n",
              "    <tr>\n",
              "      <th>0</th>\n",
              "      <td>0</td>\n",
              "      <td>4700</td>\n",
              "      <td>88026.0</td>\n",
              "      <td>115506.0</td>\n",
              "      <td>6.0</td>\n",
              "      <td>0.0</td>\n",
              "      <td>0.0</td>\n",
              "      <td>182.248332</td>\n",
              "      <td>0.0</td>\n",
              "      <td>27.0</td>\n",
              "      <td>29.209023</td>\n",
              "    </tr>\n",
              "    <tr>\n",
              "      <th>1</th>\n",
              "      <td>0</td>\n",
              "      <td>19300</td>\n",
              "      <td>39926.0</td>\n",
              "      <td>101208.0</td>\n",
              "      <td>4.0</td>\n",
              "      <td>0.0</td>\n",
              "      <td>0.0</td>\n",
              "      <td>140.051638</td>\n",
              "      <td>0.0</td>\n",
              "      <td>14.0</td>\n",
              "      <td>31.545694</td>\n",
              "    </tr>\n",
              "    <tr>\n",
              "      <th>2</th>\n",
              "      <td>0</td>\n",
              "      <td>5700</td>\n",
              "      <td>71556.0</td>\n",
              "      <td>79538.0</td>\n",
              "      <td>2.0</td>\n",
              "      <td>0.0</td>\n",
              "      <td>0.0</td>\n",
              "      <td>92.643085</td>\n",
              "      <td>0.0</td>\n",
              "      <td>15.0</td>\n",
              "      <td>41.210012</td>\n",
              "    </tr>\n",
              "    <tr>\n",
              "      <th>3</th>\n",
              "      <td>0</td>\n",
              "      <td>13000</td>\n",
              "      <td>44875.0</td>\n",
              "      <td>57713.0</td>\n",
              "      <td>0.0</td>\n",
              "      <td>1.0</td>\n",
              "      <td>0.0</td>\n",
              "      <td>184.990324</td>\n",
              "      <td>1.0</td>\n",
              "      <td>12.0</td>\n",
              "      <td>28.602076</td>\n",
              "    </tr>\n",
              "    <tr>\n",
              "      <th>4</th>\n",
              "      <td>0</td>\n",
              "      <td>19300</td>\n",
              "      <td>72752.0</td>\n",
              "      <td>106084.0</td>\n",
              "      <td>11.0</td>\n",
              "      <td>0.0</td>\n",
              "      <td>0.0</td>\n",
              "      <td>193.707100</td>\n",
              "      <td>1.0</td>\n",
              "      <td>13.0</td>\n",
              "      <td>30.686106</td>\n",
              "    </tr>\n",
              "    <tr>\n",
              "      <th>...</th>\n",
              "      <td>...</td>\n",
              "      <td>...</td>\n",
              "      <td>...</td>\n",
              "      <td>...</td>\n",
              "      <td>...</td>\n",
              "      <td>...</td>\n",
              "      <td>...</td>\n",
              "      <td>...</td>\n",
              "      <td>...</td>\n",
              "      <td>...</td>\n",
              "      <td>...</td>\n",
              "    </tr>\n",
              "    <tr>\n",
              "      <th>1849</th>\n",
              "      <td>1</td>\n",
              "      <td>53400</td>\n",
              "      <td>228236.0</td>\n",
              "      <td>305514.0</td>\n",
              "      <td>6.0</td>\n",
              "      <td>0.0</td>\n",
              "      <td>0.0</td>\n",
              "      <td>11.148069</td>\n",
              "      <td>0.0</td>\n",
              "      <td>2.0</td>\n",
              "      <td>34.558417</td>\n",
              "    </tr>\n",
              "    <tr>\n",
              "      <th>1850</th>\n",
              "      <td>1</td>\n",
              "      <td>53600</td>\n",
              "      <td>235895.0</td>\n",
              "      <td>299772.0</td>\n",
              "      <td>5.0</td>\n",
              "      <td>0.0</td>\n",
              "      <td>0.0</td>\n",
              "      <td>112.748282</td>\n",
              "      <td>7.0</td>\n",
              "      <td>22.0</td>\n",
              "      <td>44.945929</td>\n",
              "    </tr>\n",
              "    <tr>\n",
              "      <th>1851</th>\n",
              "      <td>1</td>\n",
              "      <td>53600</td>\n",
              "      <td>208197.0</td>\n",
              "      <td>297280.0</td>\n",
              "      <td>4.0</td>\n",
              "      <td>1.0</td>\n",
              "      <td>1.0</td>\n",
              "      <td>160.485251</td>\n",
              "      <td>2.0</td>\n",
              "      <td>29.0</td>\n",
              "      <td>41.646731</td>\n",
              "    </tr>\n",
              "    <tr>\n",
              "      <th>1852</th>\n",
              "      <td>1</td>\n",
              "      <td>65500</td>\n",
              "      <td>205156.0</td>\n",
              "      <td>290239.0</td>\n",
              "      <td>2.0</td>\n",
              "      <td>0.0</td>\n",
              "      <td>0.0</td>\n",
              "      <td>98.808206</td>\n",
              "      <td>1.0</td>\n",
              "      <td>21.0</td>\n",
              "      <td>144.189001</td>\n",
              "    </tr>\n",
              "    <tr>\n",
              "      <th>1853</th>\n",
              "      <td>1</td>\n",
              "      <td>77400</td>\n",
              "      <td>87651.0</td>\n",
              "      <td>224630.0</td>\n",
              "      <td>9.0</td>\n",
              "      <td>0.0</td>\n",
              "      <td>2.0</td>\n",
              "      <td>73.469630</td>\n",
              "      <td>3.0</td>\n",
              "      <td>13.0</td>\n",
              "      <td>40.929793</td>\n",
              "    </tr>\n",
              "  </tbody>\n",
              "</table>\n",
              "<p>1854 rows × 11 columns</p>\n",
              "</div>\n",
              "      <button class=\"colab-df-convert\" onclick=\"convertToInteractive('df-d2203b10-b0db-4b4a-ac76-4bc7afe34884')\"\n",
              "              title=\"Convert this dataframe to an interactive table.\"\n",
              "              style=\"display:none;\">\n",
              "        \n",
              "  <svg xmlns=\"http://www.w3.org/2000/svg\" height=\"24px\"viewBox=\"0 0 24 24\"\n",
              "       width=\"24px\">\n",
              "    <path d=\"M0 0h24v24H0V0z\" fill=\"none\"/>\n",
              "    <path d=\"M18.56 5.44l.94 2.06.94-2.06 2.06-.94-2.06-.94-.94-2.06-.94 2.06-2.06.94zm-11 1L8.5 8.5l.94-2.06 2.06-.94-2.06-.94L8.5 2.5l-.94 2.06-2.06.94zm10 10l.94 2.06.94-2.06 2.06-.94-2.06-.94-.94-2.06-.94 2.06-2.06.94z\"/><path d=\"M17.41 7.96l-1.37-1.37c-.4-.4-.92-.59-1.43-.59-.52 0-1.04.2-1.43.59L10.3 9.45l-7.72 7.72c-.78.78-.78 2.05 0 2.83L4 21.41c.39.39.9.59 1.41.59.51 0 1.02-.2 1.41-.59l7.78-7.78 2.81-2.81c.8-.78.8-2.07 0-2.86zM5.41 20L4 18.59l7.72-7.72 1.47 1.35L5.41 20z\"/>\n",
              "  </svg>\n",
              "      </button>\n",
              "      \n",
              "  <style>\n",
              "    .colab-df-container {\n",
              "      display:flex;\n",
              "      flex-wrap:wrap;\n",
              "      gap: 12px;\n",
              "    }\n",
              "\n",
              "    .colab-df-convert {\n",
              "      background-color: #E8F0FE;\n",
              "      border: none;\n",
              "      border-radius: 50%;\n",
              "      cursor: pointer;\n",
              "      display: none;\n",
              "      fill: #1967D2;\n",
              "      height: 32px;\n",
              "      padding: 0 0 0 0;\n",
              "      width: 32px;\n",
              "    }\n",
              "\n",
              "    .colab-df-convert:hover {\n",
              "      background-color: #E2EBFA;\n",
              "      box-shadow: 0px 1px 2px rgba(60, 64, 67, 0.3), 0px 1px 3px 1px rgba(60, 64, 67, 0.15);\n",
              "      fill: #174EA6;\n",
              "    }\n",
              "\n",
              "    [theme=dark] .colab-df-convert {\n",
              "      background-color: #3B4455;\n",
              "      fill: #D2E3FC;\n",
              "    }\n",
              "\n",
              "    [theme=dark] .colab-df-convert:hover {\n",
              "      background-color: #434B5C;\n",
              "      box-shadow: 0px 1px 3px 1px rgba(0, 0, 0, 0.15);\n",
              "      filter: drop-shadow(0px 1px 2px rgba(0, 0, 0, 0.3));\n",
              "      fill: #FFFFFF;\n",
              "    }\n",
              "  </style>\n",
              "\n",
              "      <script>\n",
              "        const buttonEl =\n",
              "          document.querySelector('#df-d2203b10-b0db-4b4a-ac76-4bc7afe34884 button.colab-df-convert');\n",
              "        buttonEl.style.display =\n",
              "          google.colab.kernel.accessAllowed ? 'block' : 'none';\n",
              "\n",
              "        async function convertToInteractive(key) {\n",
              "          const element = document.querySelector('#df-d2203b10-b0db-4b4a-ac76-4bc7afe34884');\n",
              "          const dataTable =\n",
              "            await google.colab.kernel.invokeFunction('convertToInteractive',\n",
              "                                                     [key], {});\n",
              "          if (!dataTable) return;\n",
              "\n",
              "          const docLinkHtml = 'Like what you see? Visit the ' +\n",
              "            '<a target=\"_blank\" href=https://colab.research.google.com/notebooks/data_table.ipynb>data table notebook</a>'\n",
              "            + ' to learn more about interactive tables.';\n",
              "          element.innerHTML = '';\n",
              "          dataTable['output_type'] = 'display_data';\n",
              "          await google.colab.output.renderOutput(dataTable, element);\n",
              "          const docLink = document.createElement('div');\n",
              "          docLink.innerHTML = docLinkHtml;\n",
              "          element.appendChild(docLink);\n",
              "        }\n",
              "      </script>\n",
              "    </div>\n",
              "  </div>\n",
              "  "
            ]
          },
          "metadata": {},
          "execution_count": 105
        }
      ]
    },
    {
      "cell_type": "code",
      "source": [
        "dataset.TARGET.value_counts()"
      ],
      "metadata": {
        "colab": {
          "base_uri": "https://localhost:8080/"
        },
        "id": "cDXJGLJCIWLD",
        "outputId": "26643679-c5f8-45dd-9a6e-834cef0fc60b"
      },
      "execution_count": 106,
      "outputs": [
        {
          "output_type": "execute_result",
          "data": {
            "text/plain": [
              "0    1545\n",
              "1     309\n",
              "Name: TARGET, dtype: int64"
            ]
          },
          "metadata": {},
          "execution_count": 106
        }
      ]
    },
    {
      "cell_type": "markdown",
      "source": [
        "Se ve que inicialmente las clases están desbalanceadas"
      ],
      "metadata": {
        "id": "QTCVVL_3ra3E"
      }
    },
    {
      "cell_type": "markdown",
      "metadata": {
        "id": "s44J-69_nQxM"
      },
      "source": [
        "## Ejercicio 2: Predicción con Modelos Lineales\n",
        "\n",
        "En este ejercicio se entrenarán modelos lineales de clasificación para predecir la variable objetivo.\n",
        "\n",
        "Para ello, deberán utilizar la clase SGDClassifier de scikit-learn.\n",
        "\n",
        "Documentación:\n",
        "- https://scikit-learn.org/stable/modules/sgd.html\n",
        "- https://scikit-learn.org/stable/modules/generated/sklearn.linear_model.SGDClassifier.html\n"
      ]
    },
    {
      "cell_type": "markdown",
      "metadata": {
        "id": "Ysh-lxKvnQxN"
      },
      "source": [
        "### Ejercicio 2.1: SGDClassifier con hiperparámetros por defecto\n",
        "\n",
        "Entrenar y evaluar el clasificador SGDClassifier usando los valores por omisión de scikit-learn para todos los parámetros. Únicamente **fijar la semilla aleatoria** para hacer repetible el experimento.\n",
        "\n",
        "Evaluar sobre el conjunto de **entrenamiento** y sobre el conjunto de **evaluación**, reportando:\n",
        "- Accuracy\n",
        "- Precision\n",
        "- Recall\n",
        "- F1\n",
        "- matriz de confusión"
      ]
    },
    {
      "cell_type": "markdown",
      "source": [
        "#### Resolución EJERCICIO 2.1"
      ],
      "metadata": {
        "id": "Dtp6EppY0WJ0"
      }
    },
    {
      "cell_type": "code",
      "source": [
        "from sklearn.linear_model import SGDClassifier\n",
        "from sklearn.preprocessing import StandardScaler\n",
        "from sklearn.pipeline import Pipeline\n",
        "from sklearn.metrics import accuracy_score, precision_score, recall_score,confusion_matrix,f1_score,roc_auc_score,roc_curve\n",
        "from sklearn.model_selection import GridSearchCV,cross_val_predict"
      ],
      "metadata": {
        "id": "4Ac38YWG0Vvx"
      },
      "execution_count": 107,
      "outputs": []
    },
    {
      "cell_type": "markdown",
      "source": [
        "En primer instancia, se arma un pipeline que incluye StandardScaler para el escalado de los datos y SGDClassifier como modelo clasificador. Inicialmente, solo se fija la semilla. "
      ],
      "metadata": {
        "id": "v1I7fe-eSco3"
      }
    },
    {
      "cell_type": "code",
      "source": [
        "SGD_model = Pipeline([['scaler',StandardScaler()],['SGD_class', SGDClassifier(random_state = 1234)]])\n",
        "SGD_model.fit(X_train,y_train)"
      ],
      "metadata": {
        "colab": {
          "base_uri": "https://localhost:8080/"
        },
        "id": "Xh7U10Gx0iKo",
        "outputId": "f54c4822-c1b6-4fb8-a711-c614bfce67cd"
      },
      "execution_count": 108,
      "outputs": [
        {
          "output_type": "execute_result",
          "data": {
            "text/plain": [
              "Pipeline(steps=[('scaler', StandardScaler()),\n",
              "                ['SGD_class', SGDClassifier(random_state=1234)]])"
            ]
          },
          "metadata": {},
          "execution_count": 108
        }
      ]
    },
    {
      "cell_type": "markdown",
      "source": [
        "Una vez entrenado el modelo, se procede a evaluar las métricas en el conjunto de entrenamiento y testeo."
      ],
      "metadata": {
        "id": "h8r6qdktS6D3"
      }
    },
    {
      "cell_type": "code",
      "source": [
        "# Predicción en el conjunto de entrenamiento\n",
        "y_pred_train = SGD_model.predict(X_train)"
      ],
      "metadata": {
        "id": "hG7WiMCSKGDP"
      },
      "execution_count": 109,
      "outputs": []
    },
    {
      "cell_type": "code",
      "source": [
        "print(f'Accuracy - TRAIN: {accuracy_score(y_train,y_pred_train):.03}')\n",
        "print(f'Precision - TRAIN: {precision_score(y_train,y_pred_train):.03}')\n",
        "print(f'Recall - TRAIN: {recall_score(y_train,y_pred_train):.03}')\n",
        "print(f'F1 - TRAIN: {f1_score(y_train,y_pred_train):.03}')\n",
        "print('Matriz de confusión - TRAIN:')\n",
        "cm = confusion_matrix(y_train.ravel(),y_pred_train)\n",
        "print(f'{cm}')"
      ],
      "metadata": {
        "colab": {
          "base_uri": "https://localhost:8080/"
        },
        "id": "gC8B5tyLKNEG",
        "outputId": "5702c089-690b-45a0-b260-8d76689a8fc5"
      },
      "execution_count": 110,
      "outputs": [
        {
          "output_type": "stream",
          "name": "stdout",
          "text": [
            "Accuracy - TRAIN: 0.856\n",
            "Precision - TRAIN: 0.69\n",
            "Recall - TRAIN: 0.275\n",
            "F1 - TRAIN: 0.393\n",
            "Matriz de confusión - TRAIN:\n",
            "[[1201   31]\n",
            " [ 182   69]]\n"
          ]
        }
      ]
    },
    {
      "cell_type": "code",
      "source": [
        "ax = sns.heatmap(cm, annot=True, fmt='d', annot_kws={'fontsize': 12}, cmap='Blues',cbar=False)\n",
        "ax.set_title('Confusion Matrix\\n');\n",
        "ax.set_xlabel('\\nPredicted Values')\n",
        "ax.set_ylabel('Actual Values');\n",
        "ax.xaxis.set_ticklabels(['Predicted 0','Predicted 1'])\n",
        "ax.yaxis.set_ticklabels(['Actual 0', 'Actual 1'])\n",
        "\n",
        "plt.show()"
      ],
      "metadata": {
        "colab": {
          "base_uri": "https://localhost:8080/",
          "height": 322
        },
        "id": "x42fqga_xmte",
        "outputId": "cb8acc5f-ff89-491d-c64a-a36752ca2613"
      },
      "execution_count": 111,
      "outputs": [
        {
          "output_type": "display_data",
          "data": {
            "text/plain": [
              "<Figure size 432x288 with 1 Axes>"
            ],
            "image/png": "[encoded data removed]"
          },
          "metadata": {
            "needs_background": "light"
          }
        }
      ]
    },
    {
      "cell_type": "code",
      "source": [
        "# Predicción en conjuntode testeo\n",
        "y_pred = SGD_model.predict(X_test)"
      ],
      "metadata": {
        "id": "nmLCMuUZ45Pk"
      },
      "execution_count": 112,
      "outputs": []
    },
    {
      "cell_type": "code",
      "source": [
        "print(f'Accuracy - TEST: {accuracy_score(y_test,y_pred):.03}')\n",
        "print(f'Precision - TEST: {precision_score(y_test,y_pred):.03}')\n",
        "print(f'Recall - TEST: {recall_score(y_test,y_pred):.03}')\n",
        "print(f'F1 - TEST: {f1_score(y_test,y_pred):.03}')\n",
        "print('Matriz de confusión - TEST:')\n",
        "cm_test = confusion_matrix(y_test.ravel(),y_pred)\n",
        "print(f'{cm_test}')"
      ],
      "metadata": {
        "colab": {
          "base_uri": "https://localhost:8080/"
        },
        "id": "WQ_FV9sm7zhc",
        "outputId": "7e230749-de17-47de-b970-dd44a20413e1"
      },
      "execution_count": 113,
      "outputs": [
        {
          "output_type": "stream",
          "name": "stdout",
          "text": [
            "Accuracy - TEST: 0.86\n",
            "Precision - TEST: 0.625\n",
            "Recall - TEST: 0.259\n",
            "F1 - TEST: 0.366\n",
            "Matriz de confusión - TEST:\n",
            "[[304   9]\n",
            " [ 43  15]]\n"
          ]
        }
      ]
    },
    {
      "cell_type": "code",
      "source": [
        "ax = sns.heatmap(cm_test, annot=True, fmt='d', annot_kws={'fontsize': 12}, cmap='Blues',cbar=False)\n",
        "ax.set_title('Confusion Matrix\\n');\n",
        "ax.set_xlabel('\\nPredicted Values')\n",
        "ax.set_ylabel('Actual Values');\n",
        "ax.xaxis.set_ticklabels(['Predicted 0','Predicted 1'])\n",
        "ax.yaxis.set_ticklabels(['Actual 0', 'Actual 1'])\n",
        "\n",
        "plt.show()"
      ],
      "metadata": {
        "colab": {
          "base_uri": "https://localhost:8080/",
          "height": 322
        },
        "id": "L-tkBc912GFf",
        "outputId": "e9f60878-e76f-48d8-f99d-3e03ec828c7a"
      },
      "execution_count": 114,
      "outputs": [
        {
          "output_type": "display_data",
          "data": {
            "text/plain": [
              "<Figure size 432x288 with 1 Axes>"
            ],
            "image/png": "[encoded data removed]"
          },
          "metadata": {
            "needs_background": "light"
          }
        }
      ]
    },
    {
      "cell_type": "markdown",
      "source": [
        "**Conclusión**\n",
        "\n",
        "Del análisis de las métricas en el conjunto de testeo se desprende que, si bien el modelo presenta un accuracy elevado, no es muy eficiente debido a que las demás métricas no poseen valores superiores al 65%. En otras palabras, si bien son correctas el 86% de las predicciones totales (acuracy = 86%), a la hora de identificar los casos positivos (clientes que dejarán de pagar el préstamo) el modelo solo acierta el 63% de las veces (precision = 63%), y para los casos negativos (clientes que siempre pagarán el préstamo), solo el 26% (recall = 26%). Por otro lado, el F1-score es bastante bajo (F1 = 37%), lo que es otro indicio de que el modelo no predice correctamente. \n",
        "Una posible razón de esto podría deberse a que las clases se encuentran desbalanceadas."
      ],
      "metadata": {
        "id": "xOoTmh0BzECg"
      }
    },
    {
      "cell_type": "markdown",
      "metadata": {
        "id": "8pY1q7P8nQxO"
      },
      "source": [
        "### Ejercicio 2.2: Ajuste de Hiperparámetros\n",
        "\n",
        "Seleccionar valores para los hiperparámetros principales del SGDClassifier. Como mínimo, probar diferentes funciones de loss, tasas de entrenamiento y tasas de regularización.\n",
        "\n",
        "Para ello, usar grid-search y 5-fold cross-validation sobre el conjunto de entrenamiento para explorar muchas combinaciones posibles de valores.\n",
        "\n",
        "Reportar accuracy promedio y varianza para todas las configuraciones.\n",
        "\n",
        "Para la mejor configuración encontrada, evaluar sobre el conjunto de **entrenamiento** y sobre el conjunto de **evaluación**, reportando:\n",
        "- Accuracy\n",
        "- Precision\n",
        "- Recall\n",
        "- F1\n",
        "- matriz de confusión\n",
        "\n",
        "Documentación:\n",
        "- https://scikit-learn.org/stable/modules/grid_search.html\n",
        "- https://scikit-learn.org/stable/modules/generated/sklearn.model_selection.GridSearchCV.html"
      ]
    },
    {
      "cell_type": "markdown",
      "source": [
        "#### Resolución EJERCICIO 2.2"
      ],
      "metadata": {
        "id": "4D766njDJDhZ"
      }
    },
    {
      "cell_type": "markdown",
      "source": [
        "Se construye el modelo con GridSearchCV para evaluar el rendimiento de los diferentes hiperparámetros y así encontrar el mejor modelo"
      ],
      "metadata": {
        "id": "C8aIecZOb0Ab"
      }
    },
    {
      "cell_type": "code",
      "source": [
        "loss_funcs = ['hinge','log','squared_hinge','perceptron','squared_error'] # 5 valores pesibles \n",
        "tipo_entr = ['optimal','constant','invscaling','adaptive'] # 4 valores posibles \n",
        "tasas_entr = [1e-6,1e-5,1e-4,1e-3] # 4 valores posibles \n",
        "tasas_reg = [0.001,0.005,0.01,0.05] # 4 valores posibles \n",
        "print(f'El GridSearchCV evalúa {len(loss_funcs)*len(tipo_entr)*len(tasas_entr)*len(tasas_reg)} alternativas diferentes (5x4x4x4)')"
      ],
      "metadata": {
        "colab": {
          "base_uri": "https://localhost:8080/"
        },
        "id": "fN7Xd5WePll3",
        "outputId": "9724ff9d-c6b8-4d99-b789-478a2754f7bc"
      },
      "execution_count": 115,
      "outputs": [
        {
          "output_type": "stream",
          "name": "stdout",
          "text": [
            "El GridSearchCV evalúa 320 alternativas diferentes (5x4x4x4)\n"
          ]
        }
      ]
    },
    {
      "cell_type": "code",
      "source": [
        "hiperparametros = {'SGD_class__loss': loss_funcs, 'SGD_class__learning_rate': tipo_entr,\n",
        "                   'SGD_class__eta0': tasas_entr,'SGD_class__alpha': tasas_reg}\n",
        "SGD_Grid = GridSearchCV(SGD_model,hiperparametros,refit=True,cv = 5,scoring='accuracy')\n",
        "SGD_Grid.fit(X_train,y_train)"
      ],
      "metadata": {
        "colab": {
          "base_uri": "https://localhost:8080/"
        },
        "id": "fhnGpHYtRpeN",
        "outputId": "3673bd6a-fad8-4b80-a715-88865a76a6f0"
      },
      "execution_count": 116,
      "outputs": [
        {
          "output_type": "stream",
          "name": "stderr",
          "text": [
            "/usr/local/lib/python3.7/dist-packages/sklearn/linear_model/_stochastic_gradient.py:700: ConvergenceWarning: Maximum number of iteration reached before convergence. Consider increasing max_iter to improve the fit.\n",
            "  ConvergenceWarning,\n",
            "/usr/local/lib/python3.7/dist-packages/sklearn/linear_model/_stochastic_gradient.py:700: ConvergenceWarning: Maximum number of iteration reached before convergence. Consider increasing max_iter to improve the fit.\n",
            "  ConvergenceWarning,\n",
            "/usr/local/lib/python3.7/dist-packages/sklearn/linear_model/_stochastic_gradient.py:700: ConvergenceWarning: Maximum number of iteration reached before convergence. Consider increasing max_iter to improve the fit.\n",
            "  ConvergenceWarning,\n",
            "/usr/local/lib/python3.7/dist-packages/sklearn/linear_model/_stochastic_gradient.py:700: ConvergenceWarning: Maximum number of iteration reached before convergence. Consider increasing max_iter to improve the fit.\n",
            "  ConvergenceWarning,\n",
            "/usr/local/lib/python3.7/dist-packages/sklearn/linear_model/_stochastic_gradient.py:700: ConvergenceWarning: Maximum number of iteration reached before convergence. Consider increasing max_iter to improve the fit.\n",
            "  ConvergenceWarning,\n",
            "/usr/local/lib/python3.7/dist-packages/sklearn/linear_model/_stochastic_gradient.py:700: ConvergenceWarning: Maximum number of iteration reached before convergence. Consider increasing max_iter to improve the fit.\n",
            "  ConvergenceWarning,\n",
            "/usr/local/lib/python3.7/dist-packages/sklearn/linear_model/_stochastic_gradient.py:700: ConvergenceWarning: Maximum number of iteration reached before convergence. Consider increasing max_iter to improve the fit.\n",
            "  ConvergenceWarning,\n",
            "/usr/local/lib/python3.7/dist-packages/sklearn/linear_model/_stochastic_gradient.py:700: ConvergenceWarning: Maximum number of iteration reached before convergence. Consider increasing max_iter to improve the fit.\n",
            "  ConvergenceWarning,\n",
            "/usr/local/lib/python3.7/dist-packages/sklearn/linear_model/_stochastic_gradient.py:700: ConvergenceWarning: Maximum number of iteration reached before convergence. Consider increasing max_iter to improve the fit.\n",
            "  ConvergenceWarning,\n",
            "/usr/local/lib/python3.7/dist-packages/sklearn/linear_model/_stochastic_gradient.py:700: ConvergenceWarning: Maximum number of iteration reached before convergence. Consider increasing max_iter to improve the fit.\n",
            "  ConvergenceWarning,\n",
            "/usr/local/lib/python3.7/dist-packages/sklearn/linear_model/_stochastic_gradient.py:700: ConvergenceWarning: Maximum number of iteration reached before convergence. Consider increasing max_iter to improve the fit.\n",
            "  ConvergenceWarning,\n",
            "/usr/local/lib/python3.7/dist-packages/sklearn/linear_model/_stochastic_gradient.py:700: ConvergenceWarning: Maximum number of iteration reached before convergence. Consider increasing max_iter to improve the fit.\n",
            "  ConvergenceWarning,\n",
            "/usr/local/lib/python3.7/dist-packages/sklearn/linear_model/_stochastic_gradient.py:700: ConvergenceWarning: Maximum number of iteration reached before convergence. Consider increasing max_iter to improve the fit.\n",
            "  ConvergenceWarning,\n",
            "/usr/local/lib/python3.7/dist-packages/sklearn/linear_model/_stochastic_gradient.py:700: ConvergenceWarning: Maximum number of iteration reached before convergence. Consider increasing max_iter to improve the fit.\n",
            "  ConvergenceWarning,\n",
            "/usr/local/lib/python3.7/dist-packages/sklearn/linear_model/_stochastic_gradient.py:700: ConvergenceWarning: Maximum number of iteration reached before convergence. Consider increasing max_iter to improve the fit.\n",
            "  ConvergenceWarning,\n",
            "/usr/local/lib/python3.7/dist-packages/sklearn/linear_model/_stochastic_gradient.py:700: ConvergenceWarning: Maximum number of iteration reached before convergence. Consider increasing max_iter to improve the fit.\n",
            "  ConvergenceWarning,\n",
            "/usr/local/lib/python3.7/dist-packages/sklearn/linear_model/_stochastic_gradient.py:700: ConvergenceWarning: Maximum number of iteration reached before convergence. Consider increasing max_iter to improve the fit.\n",
            "  ConvergenceWarning,\n",
            "/usr/local/lib/python3.7/dist-packages/sklearn/linear_model/_stochastic_gradient.py:700: ConvergenceWarning: Maximum number of iteration reached before convergence. Consider increasing max_iter to improve the fit.\n",
            "  ConvergenceWarning,\n",
            "/usr/local/lib/python3.7/dist-packages/sklearn/linear_model/_stochastic_gradient.py:700: ConvergenceWarning: Maximum number of iteration reached before convergence. Consider increasing max_iter to improve the fit.\n",
            "  ConvergenceWarning,\n",
            "/usr/local/lib/python3.7/dist-packages/sklearn/linear_model/_stochastic_gradient.py:700: ConvergenceWarning: Maximum number of iteration reached before convergence. Consider increasing max_iter to improve the fit.\n",
            "  ConvergenceWarning,\n"
          ]
        },
        {
          "output_type": "execute_result",
          "data": {
            "text/plain": [
              "GridSearchCV(cv=5,\n",
              "             estimator=Pipeline(steps=[('scaler', StandardScaler()),\n",
              "                                       ['SGD_class',\n",
              "                                        SGDClassifier(random_state=1234)]]),\n",
              "             param_grid={'SGD_class__alpha': [0.001, 0.005, 0.01, 0.05],\n",
              "                         'SGD_class__eta0': [1e-06, 1e-05, 0.0001, 0.001],\n",
              "                         'SGD_class__learning_rate': ['optimal', 'constant',\n",
              "                                                      'invscaling',\n",
              "                                                      'adaptive'],\n",
              "                         'SGD_class__loss': ['hinge', 'log', 'squared_hinge',\n",
              "                                             'perceptron', 'squared_error']},\n",
              "             scoring='accuracy')"
            ]
          },
          "metadata": {},
          "execution_count": 116
        }
      ]
    },
    {
      "cell_type": "code",
      "source": [
        "#SGD_Grid .get_params().keys()"
      ],
      "metadata": {
        "id": "Rsh6hxqrQRY7"
      },
      "execution_count": 117,
      "outputs": []
    },
    {
      "cell_type": "markdown",
      "source": [
        "Se imprime la media y la varianza del accuracy de cada modelo"
      ],
      "metadata": {
        "id": "-G2qAVW_cLkC"
      }
    },
    {
      "cell_type": "code",
      "source": [
        "modelos = SGD_Grid.cv_results_['params']\n",
        "for indx,modelo in enumerate(modelos):\n",
        "  mean = round(SGD_Grid.cv_results_['mean_test_score'][indx],4)\n",
        "  var = round((SGD_Grid.cv_results_['std_test_score'][indx])**2,4)\n",
        "  print(f'{indx+1}{modelo} Acc_mean:{mean} Acc_var:{var}')"
      ],
      "metadata": {
        "colab": {
          "base_uri": "https://localhost:8080/"
        },
        "id": "EC8lWn5WHeVe",
        "outputId": "3add94ff-65be-4e77-cd6e-1126f2080868"
      },
      "execution_count": 118,
      "outputs": [
        {
          "output_type": "stream",
          "name": "stdout",
          "text": [
            "1{'SGD_class__alpha': 0.001, 'SGD_class__eta0': 1e-06, 'SGD_class__learning_rate': 'optimal', 'SGD_class__loss': 'hinge'} Acc_mean:0.8699 Acc_var:0.0\n",
            "2{'SGD_class__alpha': 0.001, 'SGD_class__eta0': 1e-06, 'SGD_class__learning_rate': 'optimal', 'SGD_class__loss': 'log'} Acc_mean:0.8699 Acc_var:0.0001\n",
            "3{'SGD_class__alpha': 0.001, 'SGD_class__eta0': 1e-06, 'SGD_class__learning_rate': 'optimal', 'SGD_class__loss': 'squared_hinge'} Acc_mean:0.8227 Acc_var:0.0008\n",
            "4{'SGD_class__alpha': 0.001, 'SGD_class__eta0': 1e-06, 'SGD_class__learning_rate': 'optimal', 'SGD_class__loss': 'perceptron'} Acc_mean:0.8233 Acc_var:0.0012\n",
            "5{'SGD_class__alpha': 0.001, 'SGD_class__eta0': 1e-06, 'SGD_class__learning_rate': 'optimal', 'SGD_class__loss': 'squared_error'} Acc_mean:0.8591 Acc_var:0.0\n",
            "6{'SGD_class__alpha': 0.001, 'SGD_class__eta0': 1e-06, 'SGD_class__learning_rate': 'constant', 'SGD_class__loss': 'hinge'} Acc_mean:0.8557 Acc_var:0.0001\n",
            "7{'SGD_class__alpha': 0.001, 'SGD_class__eta0': 1e-06, 'SGD_class__learning_rate': 'constant', 'SGD_class__loss': 'log'} Acc_mean:0.8557 Acc_var:0.0001\n",
            "8{'SGD_class__alpha': 0.001, 'SGD_class__eta0': 1e-06, 'SGD_class__learning_rate': 'constant', 'SGD_class__loss': 'squared_hinge'} Acc_mean:0.8591 Acc_var:0.0001\n",
            "9{'SGD_class__alpha': 0.001, 'SGD_class__eta0': 1e-06, 'SGD_class__learning_rate': 'constant', 'SGD_class__loss': 'perceptron'} Acc_mean:0.7997 Acc_var:0.0005\n",
            "10{'SGD_class__alpha': 0.001, 'SGD_class__eta0': 1e-06, 'SGD_class__learning_rate': 'constant', 'SGD_class__loss': 'squared_error'} Acc_mean:0.8557 Acc_var:0.0001\n",
            "11{'SGD_class__alpha': 0.001, 'SGD_class__eta0': 1e-06, 'SGD_class__learning_rate': 'invscaling', 'SGD_class__loss': 'hinge'} Acc_mean:0.8564 Acc_var:0.0002\n",
            "12{'SGD_class__alpha': 0.001, 'SGD_class__eta0': 1e-06, 'SGD_class__learning_rate': 'invscaling', 'SGD_class__loss': 'log'} Acc_mean:0.8564 Acc_var:0.0002\n",
            "13{'SGD_class__alpha': 0.001, 'SGD_class__eta0': 1e-06, 'SGD_class__learning_rate': 'invscaling', 'SGD_class__loss': 'squared_hinge'} Acc_mean:0.8564 Acc_var:0.0002\n",
            "14{'SGD_class__alpha': 0.001, 'SGD_class__eta0': 1e-06, 'SGD_class__learning_rate': 'invscaling', 'SGD_class__loss': 'perceptron'} Acc_mean:0.801 Acc_var:0.0008\n",
            "15{'SGD_class__alpha': 0.001, 'SGD_class__eta0': 1e-06, 'SGD_class__learning_rate': 'invscaling', 'SGD_class__loss': 'squared_error'} Acc_mean:0.8564 Acc_var:0.0002\n",
            "16{'SGD_class__alpha': 0.001, 'SGD_class__eta0': 1e-06, 'SGD_class__learning_rate': 'adaptive', 'SGD_class__loss': 'hinge'} Acc_mean:0.8557 Acc_var:0.0001\n",
            "17{'SGD_class__alpha': 0.001, 'SGD_class__eta0': 1e-06, 'SGD_class__learning_rate': 'adaptive', 'SGD_class__loss': 'log'} Acc_mean:0.8557 Acc_var:0.0001\n",
            "18{'SGD_class__alpha': 0.001, 'SGD_class__eta0': 1e-06, 'SGD_class__learning_rate': 'adaptive', 'SGD_class__loss': 'squared_hinge'} Acc_mean:0.8591 Acc_var:0.0001\n",
            "19{'SGD_class__alpha': 0.001, 'SGD_class__eta0': 1e-06, 'SGD_class__learning_rate': 'adaptive', 'SGD_class__loss': 'perceptron'} Acc_mean:0.7997 Acc_var:0.0005\n",
            "20{'SGD_class__alpha': 0.001, 'SGD_class__eta0': 1e-06, 'SGD_class__learning_rate': 'adaptive', 'SGD_class__loss': 'squared_error'} Acc_mean:0.8557 Acc_var:0.0001\n",
            "21{'SGD_class__alpha': 0.001, 'SGD_class__eta0': 1e-05, 'SGD_class__learning_rate': 'optimal', 'SGD_class__loss': 'hinge'} Acc_mean:0.8699 Acc_var:0.0\n",
            "22{'SGD_class__alpha': 0.001, 'SGD_class__eta0': 1e-05, 'SGD_class__learning_rate': 'optimal', 'SGD_class__loss': 'log'} Acc_mean:0.8699 Acc_var:0.0001\n",
            "23{'SGD_class__alpha': 0.001, 'SGD_class__eta0': 1e-05, 'SGD_class__learning_rate': 'optimal', 'SGD_class__loss': 'squared_hinge'} Acc_mean:0.8227 Acc_var:0.0008\n",
            "24{'SGD_class__alpha': 0.001, 'SGD_class__eta0': 1e-05, 'SGD_class__learning_rate': 'optimal', 'SGD_class__loss': 'perceptron'} Acc_mean:0.8233 Acc_var:0.0012\n",
            "25{'SGD_class__alpha': 0.001, 'SGD_class__eta0': 1e-05, 'SGD_class__learning_rate': 'optimal', 'SGD_class__loss': 'squared_error'} Acc_mean:0.8591 Acc_var:0.0\n",
            "26{'SGD_class__alpha': 0.001, 'SGD_class__eta0': 1e-05, 'SGD_class__learning_rate': 'constant', 'SGD_class__loss': 'hinge'} Acc_mean:0.8604 Acc_var:0.0001\n",
            "27{'SGD_class__alpha': 0.001, 'SGD_class__eta0': 1e-05, 'SGD_class__learning_rate': 'constant', 'SGD_class__loss': 'log'} Acc_mean:0.8571 Acc_var:0.0001\n",
            "28{'SGD_class__alpha': 0.001, 'SGD_class__eta0': 1e-05, 'SGD_class__learning_rate': 'constant', 'SGD_class__loss': 'squared_hinge'} Acc_mean:0.8597 Acc_var:0.0\n",
            "29{'SGD_class__alpha': 0.001, 'SGD_class__eta0': 1e-05, 'SGD_class__learning_rate': 'constant', 'SGD_class__loss': 'perceptron'} Acc_mean:0.7997 Acc_var:0.0005\n",
            "30{'SGD_class__alpha': 0.001, 'SGD_class__eta0': 1e-05, 'SGD_class__learning_rate': 'constant', 'SGD_class__loss': 'squared_error'} Acc_mean:0.8591 Acc_var:0.0001\n",
            "31{'SGD_class__alpha': 0.001, 'SGD_class__eta0': 1e-05, 'SGD_class__learning_rate': 'invscaling', 'SGD_class__loss': 'hinge'} Acc_mean:0.8564 Acc_var:0.0002\n",
            "32{'SGD_class__alpha': 0.001, 'SGD_class__eta0': 1e-05, 'SGD_class__learning_rate': 'invscaling', 'SGD_class__loss': 'log'} Acc_mean:0.8564 Acc_var:0.0002\n",
            "33{'SGD_class__alpha': 0.001, 'SGD_class__eta0': 1e-05, 'SGD_class__learning_rate': 'invscaling', 'SGD_class__loss': 'squared_hinge'} Acc_mean:0.8571 Acc_var:0.0002\n",
            "34{'SGD_class__alpha': 0.001, 'SGD_class__eta0': 1e-05, 'SGD_class__learning_rate': 'invscaling', 'SGD_class__loss': 'perceptron'} Acc_mean:0.801 Acc_var:0.0008\n",
            "35{'SGD_class__alpha': 0.001, 'SGD_class__eta0': 1e-05, 'SGD_class__learning_rate': 'invscaling', 'SGD_class__loss': 'squared_error'} Acc_mean:0.8564 Acc_var:0.0002\n",
            "36{'SGD_class__alpha': 0.001, 'SGD_class__eta0': 1e-05, 'SGD_class__learning_rate': 'adaptive', 'SGD_class__loss': 'hinge'} Acc_mean:0.8611 Acc_var:0.0\n",
            "37{'SGD_class__alpha': 0.001, 'SGD_class__eta0': 1e-05, 'SGD_class__learning_rate': 'adaptive', 'SGD_class__loss': 'log'} Acc_mean:0.8571 Acc_var:0.0001\n",
            "38{'SGD_class__alpha': 0.001, 'SGD_class__eta0': 1e-05, 'SGD_class__learning_rate': 'adaptive', 'SGD_class__loss': 'squared_hinge'} Acc_mean:0.8597 Acc_var:0.0\n",
            "39{'SGD_class__alpha': 0.001, 'SGD_class__eta0': 1e-05, 'SGD_class__learning_rate': 'adaptive', 'SGD_class__loss': 'perceptron'} Acc_mean:0.7957 Acc_var:0.0014\n",
            "40{'SGD_class__alpha': 0.001, 'SGD_class__eta0': 1e-05, 'SGD_class__learning_rate': 'adaptive', 'SGD_class__loss': 'squared_error'} Acc_mean:0.8591 Acc_var:0.0001\n",
            "41{'SGD_class__alpha': 0.001, 'SGD_class__eta0': 0.0001, 'SGD_class__learning_rate': 'optimal', 'SGD_class__loss': 'hinge'} Acc_mean:0.8699 Acc_var:0.0\n",
            "42{'SGD_class__alpha': 0.001, 'SGD_class__eta0': 0.0001, 'SGD_class__learning_rate': 'optimal', 'SGD_class__loss': 'log'} Acc_mean:0.8699 Acc_var:0.0001\n",
            "43{'SGD_class__alpha': 0.001, 'SGD_class__eta0': 0.0001, 'SGD_class__learning_rate': 'optimal', 'SGD_class__loss': 'squared_hinge'} Acc_mean:0.8227 Acc_var:0.0008\n",
            "44{'SGD_class__alpha': 0.001, 'SGD_class__eta0': 0.0001, 'SGD_class__learning_rate': 'optimal', 'SGD_class__loss': 'perceptron'} Acc_mean:0.8233 Acc_var:0.0012\n",
            "45{'SGD_class__alpha': 0.001, 'SGD_class__eta0': 0.0001, 'SGD_class__learning_rate': 'optimal', 'SGD_class__loss': 'squared_error'} Acc_mean:0.8591 Acc_var:0.0\n",
            "46{'SGD_class__alpha': 0.001, 'SGD_class__eta0': 0.0001, 'SGD_class__learning_rate': 'constant', 'SGD_class__loss': 'hinge'} Acc_mean:0.8591 Acc_var:0.0\n",
            "47{'SGD_class__alpha': 0.001, 'SGD_class__eta0': 0.0001, 'SGD_class__learning_rate': 'constant', 'SGD_class__loss': 'log'} Acc_mean:0.8591 Acc_var:0.0001\n",
            "48{'SGD_class__alpha': 0.001, 'SGD_class__eta0': 0.0001, 'SGD_class__learning_rate': 'constant', 'SGD_class__loss': 'squared_hinge'} Acc_mean:0.8638 Acc_var:0.0001\n",
            "49{'SGD_class__alpha': 0.001, 'SGD_class__eta0': 0.0001, 'SGD_class__learning_rate': 'constant', 'SGD_class__loss': 'perceptron'} Acc_mean:0.8071 Acc_var:0.0004\n",
            "50{'SGD_class__alpha': 0.001, 'SGD_class__eta0': 0.0001, 'SGD_class__learning_rate': 'constant', 'SGD_class__loss': 'squared_error'} Acc_mean:0.8604 Acc_var:0.0\n",
            "51{'SGD_class__alpha': 0.001, 'SGD_class__eta0': 0.0001, 'SGD_class__learning_rate': 'invscaling', 'SGD_class__loss': 'hinge'} Acc_mean:0.8564 Acc_var:0.0002\n",
            "52{'SGD_class__alpha': 0.001, 'SGD_class__eta0': 0.0001, 'SGD_class__learning_rate': 'invscaling', 'SGD_class__loss': 'log'} Acc_mean:0.8571 Acc_var:0.0002\n",
            "53{'SGD_class__alpha': 0.001, 'SGD_class__eta0': 0.0001, 'SGD_class__learning_rate': 'invscaling', 'SGD_class__loss': 'squared_hinge'} Acc_mean:0.855 Acc_var:0.0\n",
            "54{'SGD_class__alpha': 0.001, 'SGD_class__eta0': 0.0001, 'SGD_class__learning_rate': 'invscaling', 'SGD_class__loss': 'perceptron'} Acc_mean:0.8037 Acc_var:0.0009\n",
            "55{'SGD_class__alpha': 0.001, 'SGD_class__eta0': 0.0001, 'SGD_class__learning_rate': 'invscaling', 'SGD_class__loss': 'squared_error'} Acc_mean:0.8564 Acc_var:0.0002\n",
            "56{'SGD_class__alpha': 0.001, 'SGD_class__eta0': 0.0001, 'SGD_class__learning_rate': 'adaptive', 'SGD_class__loss': 'hinge'} Acc_mean:0.8591 Acc_var:0.0\n",
            "57{'SGD_class__alpha': 0.001, 'SGD_class__eta0': 0.0001, 'SGD_class__learning_rate': 'adaptive', 'SGD_class__loss': 'log'} Acc_mean:0.8597 Acc_var:0.0\n",
            "58{'SGD_class__alpha': 0.001, 'SGD_class__eta0': 0.0001, 'SGD_class__learning_rate': 'adaptive', 'SGD_class__loss': 'squared_hinge'} Acc_mean:0.8638 Acc_var:0.0001\n",
            "59{'SGD_class__alpha': 0.001, 'SGD_class__eta0': 0.0001, 'SGD_class__learning_rate': 'adaptive', 'SGD_class__loss': 'perceptron'} Acc_mean:0.7821 Acc_var:0.0019\n",
            "60{'SGD_class__alpha': 0.001, 'SGD_class__eta0': 0.0001, 'SGD_class__learning_rate': 'adaptive', 'SGD_class__loss': 'squared_error'} Acc_mean:0.8604 Acc_var:0.0\n",
            "61{'SGD_class__alpha': 0.001, 'SGD_class__eta0': 0.001, 'SGD_class__learning_rate': 'optimal', 'SGD_class__loss': 'hinge'} Acc_mean:0.8699 Acc_var:0.0\n",
            "62{'SGD_class__alpha': 0.001, 'SGD_class__eta0': 0.001, 'SGD_class__learning_rate': 'optimal', 'SGD_class__loss': 'log'} Acc_mean:0.8699 Acc_var:0.0001\n",
            "63{'SGD_class__alpha': 0.001, 'SGD_class__eta0': 0.001, 'SGD_class__learning_rate': 'optimal', 'SGD_class__loss': 'squared_hinge'} Acc_mean:0.8227 Acc_var:0.0008\n",
            "64{'SGD_class__alpha': 0.001, 'SGD_class__eta0': 0.001, 'SGD_class__learning_rate': 'optimal', 'SGD_class__loss': 'perceptron'} Acc_mean:0.8233 Acc_var:0.0012\n",
            "65{'SGD_class__alpha': 0.001, 'SGD_class__eta0': 0.001, 'SGD_class__learning_rate': 'optimal', 'SGD_class__loss': 'squared_error'} Acc_mean:0.8591 Acc_var:0.0\n",
            "66{'SGD_class__alpha': 0.001, 'SGD_class__eta0': 0.001, 'SGD_class__learning_rate': 'constant', 'SGD_class__loss': 'hinge'} Acc_mean:0.8624 Acc_var:0.0\n",
            "67{'SGD_class__alpha': 0.001, 'SGD_class__eta0': 0.001, 'SGD_class__learning_rate': 'constant', 'SGD_class__loss': 'log'} Acc_mean:0.8678 Acc_var:0.0001\n",
            "68{'SGD_class__alpha': 0.001, 'SGD_class__eta0': 0.001, 'SGD_class__learning_rate': 'constant', 'SGD_class__loss': 'squared_hinge'} Acc_mean:0.8638 Acc_var:0.0001\n",
            "69{'SGD_class__alpha': 0.001, 'SGD_class__eta0': 0.001, 'SGD_class__learning_rate': 'constant', 'SGD_class__loss': 'perceptron'} Acc_mean:0.7545 Acc_var:0.0031\n",
            "70{'SGD_class__alpha': 0.001, 'SGD_class__eta0': 0.001, 'SGD_class__learning_rate': 'constant', 'SGD_class__loss': 'squared_error'} Acc_mean:0.8618 Acc_var:0.0\n",
            "71{'SGD_class__alpha': 0.001, 'SGD_class__eta0': 0.001, 'SGD_class__learning_rate': 'invscaling', 'SGD_class__loss': 'hinge'} Acc_mean:0.8571 Acc_var:0.0001\n",
            "72{'SGD_class__alpha': 0.001, 'SGD_class__eta0': 0.001, 'SGD_class__learning_rate': 'invscaling', 'SGD_class__loss': 'log'} Acc_mean:0.8557 Acc_var:0.0\n",
            "73{'SGD_class__alpha': 0.001, 'SGD_class__eta0': 0.001, 'SGD_class__learning_rate': 'invscaling', 'SGD_class__loss': 'squared_hinge'} Acc_mean:0.8591 Acc_var:0.0001\n",
            "74{'SGD_class__alpha': 0.001, 'SGD_class__eta0': 0.001, 'SGD_class__learning_rate': 'invscaling', 'SGD_class__loss': 'perceptron'} Acc_mean:0.801 Acc_var:0.001\n",
            "75{'SGD_class__alpha': 0.001, 'SGD_class__eta0': 0.001, 'SGD_class__learning_rate': 'invscaling', 'SGD_class__loss': 'squared_error'} Acc_mean:0.8584 Acc_var:0.0001\n",
            "76{'SGD_class__alpha': 0.001, 'SGD_class__eta0': 0.001, 'SGD_class__learning_rate': 'adaptive', 'SGD_class__loss': 'hinge'} Acc_mean:0.8645 Acc_var:0.0001\n",
            "77{'SGD_class__alpha': 0.001, 'SGD_class__eta0': 0.001, 'SGD_class__learning_rate': 'adaptive', 'SGD_class__loss': 'log'} Acc_mean:0.8678 Acc_var:0.0001\n",
            "78{'SGD_class__alpha': 0.001, 'SGD_class__eta0': 0.001, 'SGD_class__learning_rate': 'adaptive', 'SGD_class__loss': 'squared_hinge'} Acc_mean:0.8658 Acc_var:0.0\n",
            "79{'SGD_class__alpha': 0.001, 'SGD_class__eta0': 0.001, 'SGD_class__learning_rate': 'adaptive', 'SGD_class__loss': 'perceptron'} Acc_mean:0.7667 Acc_var:0.0008\n",
            "80{'SGD_class__alpha': 0.001, 'SGD_class__eta0': 0.001, 'SGD_class__learning_rate': 'adaptive', 'SGD_class__loss': 'squared_error'} Acc_mean:0.8611 Acc_var:0.0\n",
            "81{'SGD_class__alpha': 0.005, 'SGD_class__eta0': 1e-06, 'SGD_class__learning_rate': 'optimal', 'SGD_class__loss': 'hinge'} Acc_mean:0.8699 Acc_var:0.0001\n",
            "82{'SGD_class__alpha': 0.005, 'SGD_class__eta0': 1e-06, 'SGD_class__learning_rate': 'optimal', 'SGD_class__loss': 'log'} Acc_mean:0.8712 Acc_var:0.0001\n",
            "83{'SGD_class__alpha': 0.005, 'SGD_class__eta0': 1e-06, 'SGD_class__learning_rate': 'optimal', 'SGD_class__loss': 'squared_hinge'} Acc_mean:0.8638 Acc_var:0.0001\n",
            "84{'SGD_class__alpha': 0.005, 'SGD_class__eta0': 1e-06, 'SGD_class__learning_rate': 'optimal', 'SGD_class__loss': 'perceptron'} Acc_mean:0.791 Acc_var:0.0025\n",
            "85{'SGD_class__alpha': 0.005, 'SGD_class__eta0': 1e-06, 'SGD_class__learning_rate': 'optimal', 'SGD_class__loss': 'squared_error'} Acc_mean:0.8564 Acc_var:0.0001\n",
            "86{'SGD_class__alpha': 0.005, 'SGD_class__eta0': 1e-06, 'SGD_class__learning_rate': 'constant', 'SGD_class__loss': 'hinge'} Acc_mean:0.8557 Acc_var:0.0001\n",
            "87{'SGD_class__alpha': 0.005, 'SGD_class__eta0': 1e-06, 'SGD_class__learning_rate': 'constant', 'SGD_class__loss': 'log'} Acc_mean:0.8557 Acc_var:0.0001\n",
            "88{'SGD_class__alpha': 0.005, 'SGD_class__eta0': 1e-06, 'SGD_class__learning_rate': 'constant', 'SGD_class__loss': 'squared_hinge'} Acc_mean:0.8591 Acc_var:0.0001\n",
            "89{'SGD_class__alpha': 0.005, 'SGD_class__eta0': 1e-06, 'SGD_class__learning_rate': 'constant', 'SGD_class__loss': 'perceptron'} Acc_mean:0.7997 Acc_var:0.0005\n",
            "90{'SGD_class__alpha': 0.005, 'SGD_class__eta0': 1e-06, 'SGD_class__learning_rate': 'constant', 'SGD_class__loss': 'squared_error'} Acc_mean:0.8557 Acc_var:0.0001\n",
            "91{'SGD_class__alpha': 0.005, 'SGD_class__eta0': 1e-06, 'SGD_class__learning_rate': 'invscaling', 'SGD_class__loss': 'hinge'} Acc_mean:0.8564 Acc_var:0.0002\n",
            "92{'SGD_class__alpha': 0.005, 'SGD_class__eta0': 1e-06, 'SGD_class__learning_rate': 'invscaling', 'SGD_class__loss': 'log'} Acc_mean:0.8564 Acc_var:0.0002\n",
            "93{'SGD_class__alpha': 0.005, 'SGD_class__eta0': 1e-06, 'SGD_class__learning_rate': 'invscaling', 'SGD_class__loss': 'squared_hinge'} Acc_mean:0.8564 Acc_var:0.0002\n",
            "94{'SGD_class__alpha': 0.005, 'SGD_class__eta0': 1e-06, 'SGD_class__learning_rate': 'invscaling', 'SGD_class__loss': 'perceptron'} Acc_mean:0.801 Acc_var:0.0008\n",
            "95{'SGD_class__alpha': 0.005, 'SGD_class__eta0': 1e-06, 'SGD_class__learning_rate': 'invscaling', 'SGD_class__loss': 'squared_error'} Acc_mean:0.8564 Acc_var:0.0002\n",
            "96{'SGD_class__alpha': 0.005, 'SGD_class__eta0': 1e-06, 'SGD_class__learning_rate': 'adaptive', 'SGD_class__loss': 'hinge'} Acc_mean:0.8557 Acc_var:0.0001\n",
            "97{'SGD_class__alpha': 0.005, 'SGD_class__eta0': 1e-06, 'SGD_class__learning_rate': 'adaptive', 'SGD_class__loss': 'log'} Acc_mean:0.8557 Acc_var:0.0001\n",
            "98{'SGD_class__alpha': 0.005, 'SGD_class__eta0': 1e-06, 'SGD_class__learning_rate': 'adaptive', 'SGD_class__loss': 'squared_hinge'} Acc_mean:0.8591 Acc_var:0.0001\n",
            "99{'SGD_class__alpha': 0.005, 'SGD_class__eta0': 1e-06, 'SGD_class__learning_rate': 'adaptive', 'SGD_class__loss': 'perceptron'} Acc_mean:0.7997 Acc_var:0.0005\n",
            "100{'SGD_class__alpha': 0.005, 'SGD_class__eta0': 1e-06, 'SGD_class__learning_rate': 'adaptive', 'SGD_class__loss': 'squared_error'} Acc_mean:0.8557 Acc_var:0.0001\n",
            "101{'SGD_class__alpha': 0.005, 'SGD_class__eta0': 1e-05, 'SGD_class__learning_rate': 'optimal', 'SGD_class__loss': 'hinge'} Acc_mean:0.8699 Acc_var:0.0001\n",
            "102{'SGD_class__alpha': 0.005, 'SGD_class__eta0': 1e-05, 'SGD_class__learning_rate': 'optimal', 'SGD_class__loss': 'log'} Acc_mean:0.8712 Acc_var:0.0001\n",
            "103{'SGD_class__alpha': 0.005, 'SGD_class__eta0': 1e-05, 'SGD_class__learning_rate': 'optimal', 'SGD_class__loss': 'squared_hinge'} Acc_mean:0.8638 Acc_var:0.0001\n",
            "104{'SGD_class__alpha': 0.005, 'SGD_class__eta0': 1e-05, 'SGD_class__learning_rate': 'optimal', 'SGD_class__loss': 'perceptron'} Acc_mean:0.791 Acc_var:0.0025\n",
            "105{'SGD_class__alpha': 0.005, 'SGD_class__eta0': 1e-05, 'SGD_class__learning_rate': 'optimal', 'SGD_class__loss': 'squared_error'} Acc_mean:0.8564 Acc_var:0.0001\n",
            "106{'SGD_class__alpha': 0.005, 'SGD_class__eta0': 1e-05, 'SGD_class__learning_rate': 'constant', 'SGD_class__loss': 'hinge'} Acc_mean:0.8604 Acc_var:0.0001\n",
            "107{'SGD_class__alpha': 0.005, 'SGD_class__eta0': 1e-05, 'SGD_class__learning_rate': 'constant', 'SGD_class__loss': 'log'} Acc_mean:0.8571 Acc_var:0.0001\n",
            "108{'SGD_class__alpha': 0.005, 'SGD_class__eta0': 1e-05, 'SGD_class__learning_rate': 'constant', 'SGD_class__loss': 'squared_hinge'} Acc_mean:0.8597 Acc_var:0.0\n",
            "109{'SGD_class__alpha': 0.005, 'SGD_class__eta0': 1e-05, 'SGD_class__learning_rate': 'constant', 'SGD_class__loss': 'perceptron'} Acc_mean:0.8071 Acc_var:0.0004\n",
            "110{'SGD_class__alpha': 0.005, 'SGD_class__eta0': 1e-05, 'SGD_class__learning_rate': 'constant', 'SGD_class__loss': 'squared_error'} Acc_mean:0.8591 Acc_var:0.0001\n",
            "111{'SGD_class__alpha': 0.005, 'SGD_class__eta0': 1e-05, 'SGD_class__learning_rate': 'invscaling', 'SGD_class__loss': 'hinge'} Acc_mean:0.8564 Acc_var:0.0002\n",
            "112{'SGD_class__alpha': 0.005, 'SGD_class__eta0': 1e-05, 'SGD_class__learning_rate': 'invscaling', 'SGD_class__loss': 'log'} Acc_mean:0.8564 Acc_var:0.0002\n",
            "113{'SGD_class__alpha': 0.005, 'SGD_class__eta0': 1e-05, 'SGD_class__learning_rate': 'invscaling', 'SGD_class__loss': 'squared_hinge'} Acc_mean:0.8571 Acc_var:0.0002\n",
            "114{'SGD_class__alpha': 0.005, 'SGD_class__eta0': 1e-05, 'SGD_class__learning_rate': 'invscaling', 'SGD_class__loss': 'perceptron'} Acc_mean:0.8037 Acc_var:0.0009\n",
            "115{'SGD_class__alpha': 0.005, 'SGD_class__eta0': 1e-05, 'SGD_class__learning_rate': 'invscaling', 'SGD_class__loss': 'squared_error'} Acc_mean:0.8564 Acc_var:0.0002\n",
            "116{'SGD_class__alpha': 0.005, 'SGD_class__eta0': 1e-05, 'SGD_class__learning_rate': 'adaptive', 'SGD_class__loss': 'hinge'} Acc_mean:0.8611 Acc_var:0.0\n",
            "117{'SGD_class__alpha': 0.005, 'SGD_class__eta0': 1e-05, 'SGD_class__learning_rate': 'adaptive', 'SGD_class__loss': 'log'} Acc_mean:0.8571 Acc_var:0.0001\n",
            "118{'SGD_class__alpha': 0.005, 'SGD_class__eta0': 1e-05, 'SGD_class__learning_rate': 'adaptive', 'SGD_class__loss': 'squared_hinge'} Acc_mean:0.8597 Acc_var:0.0\n",
            "119{'SGD_class__alpha': 0.005, 'SGD_class__eta0': 1e-05, 'SGD_class__learning_rate': 'adaptive', 'SGD_class__loss': 'perceptron'} Acc_mean:0.8045 Acc_var:0.0015\n",
            "120{'SGD_class__alpha': 0.005, 'SGD_class__eta0': 1e-05, 'SGD_class__learning_rate': 'adaptive', 'SGD_class__loss': 'squared_error'} Acc_mean:0.8591 Acc_var:0.0001\n",
            "121{'SGD_class__alpha': 0.005, 'SGD_class__eta0': 0.0001, 'SGD_class__learning_rate': 'optimal', 'SGD_class__loss': 'hinge'} Acc_mean:0.8699 Acc_var:0.0001\n",
            "122{'SGD_class__alpha': 0.005, 'SGD_class__eta0': 0.0001, 'SGD_class__learning_rate': 'optimal', 'SGD_class__loss': 'log'} Acc_mean:0.8712 Acc_var:0.0001\n",
            "123{'SGD_class__alpha': 0.005, 'SGD_class__eta0': 0.0001, 'SGD_class__learning_rate': 'optimal', 'SGD_class__loss': 'squared_hinge'} Acc_mean:0.8638 Acc_var:0.0001\n",
            "124{'SGD_class__alpha': 0.005, 'SGD_class__eta0': 0.0001, 'SGD_class__learning_rate': 'optimal', 'SGD_class__loss': 'perceptron'} Acc_mean:0.791 Acc_var:0.0025\n",
            "125{'SGD_class__alpha': 0.005, 'SGD_class__eta0': 0.0001, 'SGD_class__learning_rate': 'optimal', 'SGD_class__loss': 'squared_error'} Acc_mean:0.8564 Acc_var:0.0001\n",
            "126{'SGD_class__alpha': 0.005, 'SGD_class__eta0': 0.0001, 'SGD_class__learning_rate': 'constant', 'SGD_class__loss': 'hinge'} Acc_mean:0.8591 Acc_var:0.0\n",
            "127{'SGD_class__alpha': 0.005, 'SGD_class__eta0': 0.0001, 'SGD_class__learning_rate': 'constant', 'SGD_class__loss': 'log'} Acc_mean:0.8604 Acc_var:0.0001\n",
            "128{'SGD_class__alpha': 0.005, 'SGD_class__eta0': 0.0001, 'SGD_class__learning_rate': 'constant', 'SGD_class__loss': 'squared_hinge'} Acc_mean:0.8638 Acc_var:0.0001\n",
            "129{'SGD_class__alpha': 0.005, 'SGD_class__eta0': 0.0001, 'SGD_class__learning_rate': 'constant', 'SGD_class__loss': 'perceptron'} Acc_mean:0.8084 Acc_var:0.0024\n",
            "130{'SGD_class__alpha': 0.005, 'SGD_class__eta0': 0.0001, 'SGD_class__learning_rate': 'constant', 'SGD_class__loss': 'squared_error'} Acc_mean:0.8604 Acc_var:0.0\n",
            "131{'SGD_class__alpha': 0.005, 'SGD_class__eta0': 0.0001, 'SGD_class__learning_rate': 'invscaling', 'SGD_class__loss': 'hinge'} Acc_mean:0.8564 Acc_var:0.0002\n",
            "132{'SGD_class__alpha': 0.005, 'SGD_class__eta0': 0.0001, 'SGD_class__learning_rate': 'invscaling', 'SGD_class__loss': 'log'} Acc_mean:0.8571 Acc_var:0.0002\n",
            "133{'SGD_class__alpha': 0.005, 'SGD_class__eta0': 0.0001, 'SGD_class__learning_rate': 'invscaling', 'SGD_class__loss': 'squared_hinge'} Acc_mean:0.855 Acc_var:0.0\n",
            "134{'SGD_class__alpha': 0.005, 'SGD_class__eta0': 0.0001, 'SGD_class__learning_rate': 'invscaling', 'SGD_class__loss': 'perceptron'} Acc_mean:0.7902 Acc_var:0.0021\n",
            "135{'SGD_class__alpha': 0.005, 'SGD_class__eta0': 0.0001, 'SGD_class__learning_rate': 'invscaling', 'SGD_class__loss': 'squared_error'} Acc_mean:0.8564 Acc_var:0.0002\n",
            "136{'SGD_class__alpha': 0.005, 'SGD_class__eta0': 0.0001, 'SGD_class__learning_rate': 'adaptive', 'SGD_class__loss': 'hinge'} Acc_mean:0.8591 Acc_var:0.0\n",
            "137{'SGD_class__alpha': 0.005, 'SGD_class__eta0': 0.0001, 'SGD_class__learning_rate': 'adaptive', 'SGD_class__loss': 'log'} Acc_mean:0.8604 Acc_var:0.0001\n",
            "138{'SGD_class__alpha': 0.005, 'SGD_class__eta0': 0.0001, 'SGD_class__learning_rate': 'adaptive', 'SGD_class__loss': 'squared_hinge'} Acc_mean:0.8638 Acc_var:0.0001\n",
            "139{'SGD_class__alpha': 0.005, 'SGD_class__eta0': 0.0001, 'SGD_class__learning_rate': 'adaptive', 'SGD_class__loss': 'perceptron'} Acc_mean:0.7795 Acc_var:0.001\n",
            "140{'SGD_class__alpha': 0.005, 'SGD_class__eta0': 0.0001, 'SGD_class__learning_rate': 'adaptive', 'SGD_class__loss': 'squared_error'} Acc_mean:0.8604 Acc_var:0.0\n",
            "141{'SGD_class__alpha': 0.005, 'SGD_class__eta0': 0.001, 'SGD_class__learning_rate': 'optimal', 'SGD_class__loss': 'hinge'} Acc_mean:0.8699 Acc_var:0.0001\n",
            "142{'SGD_class__alpha': 0.005, 'SGD_class__eta0': 0.001, 'SGD_class__learning_rate': 'optimal', 'SGD_class__loss': 'log'} Acc_mean:0.8712 Acc_var:0.0001\n",
            "143{'SGD_class__alpha': 0.005, 'SGD_class__eta0': 0.001, 'SGD_class__learning_rate': 'optimal', 'SGD_class__loss': 'squared_hinge'} Acc_mean:0.8638 Acc_var:0.0001\n",
            "144{'SGD_class__alpha': 0.005, 'SGD_class__eta0': 0.001, 'SGD_class__learning_rate': 'optimal', 'SGD_class__loss': 'perceptron'} Acc_mean:0.791 Acc_var:0.0025\n",
            "145{'SGD_class__alpha': 0.005, 'SGD_class__eta0': 0.001, 'SGD_class__learning_rate': 'optimal', 'SGD_class__loss': 'squared_error'} Acc_mean:0.8564 Acc_var:0.0001\n",
            "146{'SGD_class__alpha': 0.005, 'SGD_class__eta0': 0.001, 'SGD_class__learning_rate': 'constant', 'SGD_class__loss': 'hinge'} Acc_mean:0.8597 Acc_var:0.0001\n",
            "147{'SGD_class__alpha': 0.005, 'SGD_class__eta0': 0.001, 'SGD_class__learning_rate': 'constant', 'SGD_class__loss': 'log'} Acc_mean:0.8672 Acc_var:0.0001\n",
            "148{'SGD_class__alpha': 0.005, 'SGD_class__eta0': 0.001, 'SGD_class__learning_rate': 'constant', 'SGD_class__loss': 'squared_hinge'} Acc_mean:0.8638 Acc_var:0.0001\n",
            "149{'SGD_class__alpha': 0.005, 'SGD_class__eta0': 0.001, 'SGD_class__learning_rate': 'constant', 'SGD_class__loss': 'perceptron'} Acc_mean:0.7747 Acc_var:0.0025\n",
            "150{'SGD_class__alpha': 0.005, 'SGD_class__eta0': 0.001, 'SGD_class__learning_rate': 'constant', 'SGD_class__loss': 'squared_error'} Acc_mean:0.8618 Acc_var:0.0\n",
            "151{'SGD_class__alpha': 0.005, 'SGD_class__eta0': 0.001, 'SGD_class__learning_rate': 'invscaling', 'SGD_class__loss': 'hinge'} Acc_mean:0.8571 Acc_var:0.0001\n",
            "152{'SGD_class__alpha': 0.005, 'SGD_class__eta0': 0.001, 'SGD_class__learning_rate': 'invscaling', 'SGD_class__loss': 'log'} Acc_mean:0.8557 Acc_var:0.0\n",
            "153{'SGD_class__alpha': 0.005, 'SGD_class__eta0': 0.001, 'SGD_class__learning_rate': 'invscaling', 'SGD_class__loss': 'squared_hinge'} Acc_mean:0.8591 Acc_var:0.0001\n",
            "154{'SGD_class__alpha': 0.005, 'SGD_class__eta0': 0.001, 'SGD_class__learning_rate': 'invscaling', 'SGD_class__loss': 'perceptron'} Acc_mean:0.7747 Acc_var:0.0015\n",
            "155{'SGD_class__alpha': 0.005, 'SGD_class__eta0': 0.001, 'SGD_class__learning_rate': 'invscaling', 'SGD_class__loss': 'squared_error'} Acc_mean:0.8584 Acc_var:0.0001\n",
            "156{'SGD_class__alpha': 0.005, 'SGD_class__eta0': 0.001, 'SGD_class__learning_rate': 'adaptive', 'SGD_class__loss': 'hinge'} Acc_mean:0.8631 Acc_var:0.0\n",
            "157{'SGD_class__alpha': 0.005, 'SGD_class__eta0': 0.001, 'SGD_class__learning_rate': 'adaptive', 'SGD_class__loss': 'log'} Acc_mean:0.8672 Acc_var:0.0001\n",
            "158{'SGD_class__alpha': 0.005, 'SGD_class__eta0': 0.001, 'SGD_class__learning_rate': 'adaptive', 'SGD_class__loss': 'squared_hinge'} Acc_mean:0.8658 Acc_var:0.0\n",
            "159{'SGD_class__alpha': 0.005, 'SGD_class__eta0': 0.001, 'SGD_class__learning_rate': 'adaptive', 'SGD_class__loss': 'perceptron'} Acc_mean:0.791 Acc_var:0.003\n",
            "160{'SGD_class__alpha': 0.005, 'SGD_class__eta0': 0.001, 'SGD_class__learning_rate': 'adaptive', 'SGD_class__loss': 'squared_error'} Acc_mean:0.8611 Acc_var:0.0\n",
            "161{'SGD_class__alpha': 0.01, 'SGD_class__eta0': 1e-06, 'SGD_class__learning_rate': 'optimal', 'SGD_class__loss': 'hinge'} Acc_mean:0.8678 Acc_var:0.0\n",
            "162{'SGD_class__alpha': 0.01, 'SGD_class__eta0': 1e-06, 'SGD_class__learning_rate': 'optimal', 'SGD_class__loss': 'log'} Acc_mean:0.8712 Acc_var:0.0001\n",
            "163{'SGD_class__alpha': 0.01, 'SGD_class__eta0': 1e-06, 'SGD_class__learning_rate': 'optimal', 'SGD_class__loss': 'squared_hinge'} Acc_mean:0.8658 Acc_var:0.0\n",
            "164{'SGD_class__alpha': 0.01, 'SGD_class__eta0': 1e-06, 'SGD_class__learning_rate': 'optimal', 'SGD_class__loss': 'perceptron'} Acc_mean:0.7808 Acc_var:0.0012\n",
            "165{'SGD_class__alpha': 0.01, 'SGD_class__eta0': 1e-06, 'SGD_class__learning_rate': 'optimal', 'SGD_class__loss': 'squared_error'} Acc_mean:0.8577 Acc_var:0.0001\n",
            "166{'SGD_class__alpha': 0.01, 'SGD_class__eta0': 1e-06, 'SGD_class__learning_rate': 'constant', 'SGD_class__loss': 'hinge'} Acc_mean:0.8557 Acc_var:0.0001\n",
            "167{'SGD_class__alpha': 0.01, 'SGD_class__eta0': 1e-06, 'SGD_class__learning_rate': 'constant', 'SGD_class__loss': 'log'} Acc_mean:0.8557 Acc_var:0.0001\n",
            "168{'SGD_class__alpha': 0.01, 'SGD_class__eta0': 1e-06, 'SGD_class__learning_rate': 'constant', 'SGD_class__loss': 'squared_hinge'} Acc_mean:0.8591 Acc_var:0.0001\n",
            "169{'SGD_class__alpha': 0.01, 'SGD_class__eta0': 1e-06, 'SGD_class__learning_rate': 'constant', 'SGD_class__loss': 'perceptron'} Acc_mean:0.7997 Acc_var:0.0005\n",
            "170{'SGD_class__alpha': 0.01, 'SGD_class__eta0': 1e-06, 'SGD_class__learning_rate': 'constant', 'SGD_class__loss': 'squared_error'} Acc_mean:0.8557 Acc_var:0.0001\n",
            "171{'SGD_class__alpha': 0.01, 'SGD_class__eta0': 1e-06, 'SGD_class__learning_rate': 'invscaling', 'SGD_class__loss': 'hinge'} Acc_mean:0.8564 Acc_var:0.0002\n",
            "172{'SGD_class__alpha': 0.01, 'SGD_class__eta0': 1e-06, 'SGD_class__learning_rate': 'invscaling', 'SGD_class__loss': 'log'} Acc_mean:0.8564 Acc_var:0.0002\n",
            "173{'SGD_class__alpha': 0.01, 'SGD_class__eta0': 1e-06, 'SGD_class__learning_rate': 'invscaling', 'SGD_class__loss': 'squared_hinge'} Acc_mean:0.8564 Acc_var:0.0002\n",
            "174{'SGD_class__alpha': 0.01, 'SGD_class__eta0': 1e-06, 'SGD_class__learning_rate': 'invscaling', 'SGD_class__loss': 'perceptron'} Acc_mean:0.801 Acc_var:0.0008\n",
            "175{'SGD_class__alpha': 0.01, 'SGD_class__eta0': 1e-06, 'SGD_class__learning_rate': 'invscaling', 'SGD_class__loss': 'squared_error'} Acc_mean:0.8564 Acc_var:0.0002\n",
            "176{'SGD_class__alpha': 0.01, 'SGD_class__eta0': 1e-06, 'SGD_class__learning_rate': 'adaptive', 'SGD_class__loss': 'hinge'} Acc_mean:0.8557 Acc_var:0.0001\n",
            "177{'SGD_class__alpha': 0.01, 'SGD_class__eta0': 1e-06, 'SGD_class__learning_rate': 'adaptive', 'SGD_class__loss': 'log'} Acc_mean:0.8557 Acc_var:0.0001\n",
            "178{'SGD_class__alpha': 0.01, 'SGD_class__eta0': 1e-06, 'SGD_class__learning_rate': 'adaptive', 'SGD_class__loss': 'squared_hinge'} Acc_mean:0.8591 Acc_var:0.0001\n",
            "179{'SGD_class__alpha': 0.01, 'SGD_class__eta0': 1e-06, 'SGD_class__learning_rate': 'adaptive', 'SGD_class__loss': 'perceptron'} Acc_mean:0.7997 Acc_var:0.0005\n",
            "180{'SGD_class__alpha': 0.01, 'SGD_class__eta0': 1e-06, 'SGD_class__learning_rate': 'adaptive', 'SGD_class__loss': 'squared_error'} Acc_mean:0.8557 Acc_var:0.0001\n",
            "181{'SGD_class__alpha': 0.01, 'SGD_class__eta0': 1e-05, 'SGD_class__learning_rate': 'optimal', 'SGD_class__loss': 'hinge'} Acc_mean:0.8678 Acc_var:0.0\n",
            "182{'SGD_class__alpha': 0.01, 'SGD_class__eta0': 1e-05, 'SGD_class__learning_rate': 'optimal', 'SGD_class__loss': 'log'} Acc_mean:0.8712 Acc_var:0.0001\n",
            "183{'SGD_class__alpha': 0.01, 'SGD_class__eta0': 1e-05, 'SGD_class__learning_rate': 'optimal', 'SGD_class__loss': 'squared_hinge'} Acc_mean:0.8658 Acc_var:0.0\n",
            "184{'SGD_class__alpha': 0.01, 'SGD_class__eta0': 1e-05, 'SGD_class__learning_rate': 'optimal', 'SGD_class__loss': 'perceptron'} Acc_mean:0.7808 Acc_var:0.0012\n",
            "185{'SGD_class__alpha': 0.01, 'SGD_class__eta0': 1e-05, 'SGD_class__learning_rate': 'optimal', 'SGD_class__loss': 'squared_error'} Acc_mean:0.8577 Acc_var:0.0001\n",
            "186{'SGD_class__alpha': 0.01, 'SGD_class__eta0': 1e-05, 'SGD_class__learning_rate': 'constant', 'SGD_class__loss': 'hinge'} Acc_mean:0.8611 Acc_var:0.0\n",
            "187{'SGD_class__alpha': 0.01, 'SGD_class__eta0': 1e-05, 'SGD_class__learning_rate': 'constant', 'SGD_class__loss': 'log'} Acc_mean:0.8564 Acc_var:0.0001\n",
            "188{'SGD_class__alpha': 0.01, 'SGD_class__eta0': 1e-05, 'SGD_class__learning_rate': 'constant', 'SGD_class__loss': 'squared_hinge'} Acc_mean:0.8597 Acc_var:0.0\n",
            "189{'SGD_class__alpha': 0.01, 'SGD_class__eta0': 1e-05, 'SGD_class__learning_rate': 'constant', 'SGD_class__loss': 'perceptron'} Acc_mean:0.8071 Acc_var:0.0004\n",
            "190{'SGD_class__alpha': 0.01, 'SGD_class__eta0': 1e-05, 'SGD_class__learning_rate': 'constant', 'SGD_class__loss': 'squared_error'} Acc_mean:0.8591 Acc_var:0.0001\n",
            "191{'SGD_class__alpha': 0.01, 'SGD_class__eta0': 1e-05, 'SGD_class__learning_rate': 'invscaling', 'SGD_class__loss': 'hinge'} Acc_mean:0.8564 Acc_var:0.0002\n",
            "192{'SGD_class__alpha': 0.01, 'SGD_class__eta0': 1e-05, 'SGD_class__learning_rate': 'invscaling', 'SGD_class__loss': 'log'} Acc_mean:0.8564 Acc_var:0.0002\n",
            "193{'SGD_class__alpha': 0.01, 'SGD_class__eta0': 1e-05, 'SGD_class__learning_rate': 'invscaling', 'SGD_class__loss': 'squared_hinge'} Acc_mean:0.8571 Acc_var:0.0002\n",
            "194{'SGD_class__alpha': 0.01, 'SGD_class__eta0': 1e-05, 'SGD_class__learning_rate': 'invscaling', 'SGD_class__loss': 'perceptron'} Acc_mean:0.8037 Acc_var:0.0009\n",
            "195{'SGD_class__alpha': 0.01, 'SGD_class__eta0': 1e-05, 'SGD_class__learning_rate': 'invscaling', 'SGD_class__loss': 'squared_error'} Acc_mean:0.8564 Acc_var:0.0002\n",
            "196{'SGD_class__alpha': 0.01, 'SGD_class__eta0': 1e-05, 'SGD_class__learning_rate': 'adaptive', 'SGD_class__loss': 'hinge'} Acc_mean:0.8611 Acc_var:0.0\n",
            "197{'SGD_class__alpha': 0.01, 'SGD_class__eta0': 1e-05, 'SGD_class__learning_rate': 'adaptive', 'SGD_class__loss': 'log'} Acc_mean:0.8564 Acc_var:0.0001\n",
            "198{'SGD_class__alpha': 0.01, 'SGD_class__eta0': 1e-05, 'SGD_class__learning_rate': 'adaptive', 'SGD_class__loss': 'squared_hinge'} Acc_mean:0.8597 Acc_var:0.0\n",
            "199{'SGD_class__alpha': 0.01, 'SGD_class__eta0': 1e-05, 'SGD_class__learning_rate': 'adaptive', 'SGD_class__loss': 'perceptron'} Acc_mean:0.7984 Acc_var:0.0006\n",
            "200{'SGD_class__alpha': 0.01, 'SGD_class__eta0': 1e-05, 'SGD_class__learning_rate': 'adaptive', 'SGD_class__loss': 'squared_error'} Acc_mean:0.8591 Acc_var:0.0001\n",
            "201{'SGD_class__alpha': 0.01, 'SGD_class__eta0': 0.0001, 'SGD_class__learning_rate': 'optimal', 'SGD_class__loss': 'hinge'} Acc_mean:0.8678 Acc_var:0.0\n",
            "202{'SGD_class__alpha': 0.01, 'SGD_class__eta0': 0.0001, 'SGD_class__learning_rate': 'optimal', 'SGD_class__loss': 'log'} Acc_mean:0.8712 Acc_var:0.0001\n",
            "203{'SGD_class__alpha': 0.01, 'SGD_class__eta0': 0.0001, 'SGD_class__learning_rate': 'optimal', 'SGD_class__loss': 'squared_hinge'} Acc_mean:0.8658 Acc_var:0.0\n",
            "204{'SGD_class__alpha': 0.01, 'SGD_class__eta0': 0.0001, 'SGD_class__learning_rate': 'optimal', 'SGD_class__loss': 'perceptron'} Acc_mean:0.7808 Acc_var:0.0012\n",
            "205{'SGD_class__alpha': 0.01, 'SGD_class__eta0': 0.0001, 'SGD_class__learning_rate': 'optimal', 'SGD_class__loss': 'squared_error'} Acc_mean:0.8577 Acc_var:0.0001\n",
            "206{'SGD_class__alpha': 0.01, 'SGD_class__eta0': 0.0001, 'SGD_class__learning_rate': 'constant', 'SGD_class__loss': 'hinge'} Acc_mean:0.8591 Acc_var:0.0\n",
            "207{'SGD_class__alpha': 0.01, 'SGD_class__eta0': 0.0001, 'SGD_class__learning_rate': 'constant', 'SGD_class__loss': 'log'} Acc_mean:0.8604 Acc_var:0.0001\n",
            "208{'SGD_class__alpha': 0.01, 'SGD_class__eta0': 0.0001, 'SGD_class__learning_rate': 'constant', 'SGD_class__loss': 'squared_hinge'} Acc_mean:0.8638 Acc_var:0.0001\n",
            "209{'SGD_class__alpha': 0.01, 'SGD_class__eta0': 0.0001, 'SGD_class__learning_rate': 'constant', 'SGD_class__loss': 'perceptron'} Acc_mean:0.7545 Acc_var:0.0031\n",
            "210{'SGD_class__alpha': 0.01, 'SGD_class__eta0': 0.0001, 'SGD_class__learning_rate': 'constant', 'SGD_class__loss': 'squared_error'} Acc_mean:0.8604 Acc_var:0.0\n",
            "211{'SGD_class__alpha': 0.01, 'SGD_class__eta0': 0.0001, 'SGD_class__learning_rate': 'invscaling', 'SGD_class__loss': 'hinge'} Acc_mean:0.8564 Acc_var:0.0002\n",
            "212{'SGD_class__alpha': 0.01, 'SGD_class__eta0': 0.0001, 'SGD_class__learning_rate': 'invscaling', 'SGD_class__loss': 'log'} Acc_mean:0.8571 Acc_var:0.0002\n",
            "213{'SGD_class__alpha': 0.01, 'SGD_class__eta0': 0.0001, 'SGD_class__learning_rate': 'invscaling', 'SGD_class__loss': 'squared_hinge'} Acc_mean:0.855 Acc_var:0.0\n",
            "214{'SGD_class__alpha': 0.01, 'SGD_class__eta0': 0.0001, 'SGD_class__learning_rate': 'invscaling', 'SGD_class__loss': 'perceptron'} Acc_mean:0.801 Acc_var:0.001\n",
            "215{'SGD_class__alpha': 0.01, 'SGD_class__eta0': 0.0001, 'SGD_class__learning_rate': 'invscaling', 'SGD_class__loss': 'squared_error'} Acc_mean:0.8564 Acc_var:0.0002\n",
            "216{'SGD_class__alpha': 0.01, 'SGD_class__eta0': 0.0001, 'SGD_class__learning_rate': 'adaptive', 'SGD_class__loss': 'hinge'} Acc_mean:0.8591 Acc_var:0.0\n",
            "217{'SGD_class__alpha': 0.01, 'SGD_class__eta0': 0.0001, 'SGD_class__learning_rate': 'adaptive', 'SGD_class__loss': 'log'} Acc_mean:0.8604 Acc_var:0.0001\n",
            "218{'SGD_class__alpha': 0.01, 'SGD_class__eta0': 0.0001, 'SGD_class__learning_rate': 'adaptive', 'SGD_class__loss': 'squared_hinge'} Acc_mean:0.8645 Acc_var:0.0\n",
            "219{'SGD_class__alpha': 0.01, 'SGD_class__eta0': 0.0001, 'SGD_class__learning_rate': 'adaptive', 'SGD_class__loss': 'perceptron'} Acc_mean:0.7714 Acc_var:0.0014\n",
            "220{'SGD_class__alpha': 0.01, 'SGD_class__eta0': 0.0001, 'SGD_class__learning_rate': 'adaptive', 'SGD_class__loss': 'squared_error'} Acc_mean:0.8604 Acc_var:0.0\n",
            "221{'SGD_class__alpha': 0.01, 'SGD_class__eta0': 0.001, 'SGD_class__learning_rate': 'optimal', 'SGD_class__loss': 'hinge'} Acc_mean:0.8678 Acc_var:0.0\n",
            "222{'SGD_class__alpha': 0.01, 'SGD_class__eta0': 0.001, 'SGD_class__learning_rate': 'optimal', 'SGD_class__loss': 'log'} Acc_mean:0.8712 Acc_var:0.0001\n",
            "223{'SGD_class__alpha': 0.01, 'SGD_class__eta0': 0.001, 'SGD_class__learning_rate': 'optimal', 'SGD_class__loss': 'squared_hinge'} Acc_mean:0.8658 Acc_var:0.0\n",
            "224{'SGD_class__alpha': 0.01, 'SGD_class__eta0': 0.001, 'SGD_class__learning_rate': 'optimal', 'SGD_class__loss': 'perceptron'} Acc_mean:0.7808 Acc_var:0.0012\n",
            "225{'SGD_class__alpha': 0.01, 'SGD_class__eta0': 0.001, 'SGD_class__learning_rate': 'optimal', 'SGD_class__loss': 'squared_error'} Acc_mean:0.8577 Acc_var:0.0001\n",
            "226{'SGD_class__alpha': 0.01, 'SGD_class__eta0': 0.001, 'SGD_class__learning_rate': 'constant', 'SGD_class__loss': 'hinge'} Acc_mean:0.8591 Acc_var:0.0001\n",
            "227{'SGD_class__alpha': 0.01, 'SGD_class__eta0': 0.001, 'SGD_class__learning_rate': 'constant', 'SGD_class__loss': 'log'} Acc_mean:0.8658 Acc_var:0.0\n",
            "228{'SGD_class__alpha': 0.01, 'SGD_class__eta0': 0.001, 'SGD_class__learning_rate': 'constant', 'SGD_class__loss': 'squared_hinge'} Acc_mean:0.8631 Acc_var:0.0001\n",
            "229{'SGD_class__alpha': 0.01, 'SGD_class__eta0': 0.001, 'SGD_class__learning_rate': 'constant', 'SGD_class__loss': 'perceptron'} Acc_mean:0.7896 Acc_var:0.0015\n",
            "230{'SGD_class__alpha': 0.01, 'SGD_class__eta0': 0.001, 'SGD_class__learning_rate': 'constant', 'SGD_class__loss': 'squared_error'} Acc_mean:0.8618 Acc_var:0.0\n",
            "231{'SGD_class__alpha': 0.01, 'SGD_class__eta0': 0.001, 'SGD_class__learning_rate': 'invscaling', 'SGD_class__loss': 'hinge'} Acc_mean:0.8571 Acc_var:0.0001\n",
            "232{'SGD_class__alpha': 0.01, 'SGD_class__eta0': 0.001, 'SGD_class__learning_rate': 'invscaling', 'SGD_class__loss': 'log'} Acc_mean:0.8557 Acc_var:0.0\n",
            "233{'SGD_class__alpha': 0.01, 'SGD_class__eta0': 0.001, 'SGD_class__learning_rate': 'invscaling', 'SGD_class__loss': 'squared_hinge'} Acc_mean:0.8591 Acc_var:0.0001\n",
            "234{'SGD_class__alpha': 0.01, 'SGD_class__eta0': 0.001, 'SGD_class__learning_rate': 'invscaling', 'SGD_class__loss': 'perceptron'} Acc_mean:0.7741 Acc_var:0.0009\n",
            "235{'SGD_class__alpha': 0.01, 'SGD_class__eta0': 0.001, 'SGD_class__learning_rate': 'invscaling', 'SGD_class__loss': 'squared_error'} Acc_mean:0.8584 Acc_var:0.0001\n",
            "236{'SGD_class__alpha': 0.01, 'SGD_class__eta0': 0.001, 'SGD_class__learning_rate': 'adaptive', 'SGD_class__loss': 'hinge'} Acc_mean:0.8618 Acc_var:0.0\n",
            "237{'SGD_class__alpha': 0.01, 'SGD_class__eta0': 0.001, 'SGD_class__learning_rate': 'adaptive', 'SGD_class__loss': 'log'} Acc_mean:0.8665 Acc_var:0.0\n",
            "238{'SGD_class__alpha': 0.01, 'SGD_class__eta0': 0.001, 'SGD_class__learning_rate': 'adaptive', 'SGD_class__loss': 'squared_hinge'} Acc_mean:0.8658 Acc_var:0.0\n",
            "239{'SGD_class__alpha': 0.01, 'SGD_class__eta0': 0.001, 'SGD_class__learning_rate': 'adaptive', 'SGD_class__loss': 'perceptron'} Acc_mean:0.7721 Acc_var:0.0011\n",
            "240{'SGD_class__alpha': 0.01, 'SGD_class__eta0': 0.001, 'SGD_class__learning_rate': 'adaptive', 'SGD_class__loss': 'squared_error'} Acc_mean:0.8611 Acc_var:0.0\n",
            "241{'SGD_class__alpha': 0.05, 'SGD_class__eta0': 1e-06, 'SGD_class__learning_rate': 'optimal', 'SGD_class__loss': 'hinge'} Acc_mean:0.8591 Acc_var:0.0001\n",
            "242{'SGD_class__alpha': 0.05, 'SGD_class__eta0': 1e-06, 'SGD_class__learning_rate': 'optimal', 'SGD_class__loss': 'log'} Acc_mean:0.8577 Acc_var:0.0\n",
            "243{'SGD_class__alpha': 0.05, 'SGD_class__eta0': 1e-06, 'SGD_class__learning_rate': 'optimal', 'SGD_class__loss': 'squared_hinge'} Acc_mean:0.8206 Acc_var:0.0006\n",
            "244{'SGD_class__alpha': 0.05, 'SGD_class__eta0': 1e-06, 'SGD_class__learning_rate': 'optimal', 'SGD_class__loss': 'perceptron'} Acc_mean:0.8105 Acc_var:0.0021\n",
            "245{'SGD_class__alpha': 0.05, 'SGD_class__eta0': 1e-06, 'SGD_class__learning_rate': 'optimal', 'SGD_class__loss': 'squared_error'} Acc_mean:0.8537 Acc_var:0.0001\n",
            "246{'SGD_class__alpha': 0.05, 'SGD_class__eta0': 1e-06, 'SGD_class__learning_rate': 'constant', 'SGD_class__loss': 'hinge'} Acc_mean:0.8557 Acc_var:0.0001\n",
            "247{'SGD_class__alpha': 0.05, 'SGD_class__eta0': 1e-06, 'SGD_class__learning_rate': 'constant', 'SGD_class__loss': 'log'} Acc_mean:0.8557 Acc_var:0.0001\n",
            "248{'SGD_class__alpha': 0.05, 'SGD_class__eta0': 1e-06, 'SGD_class__learning_rate': 'constant', 'SGD_class__loss': 'squared_hinge'} Acc_mean:0.8591 Acc_var:0.0001\n",
            "249{'SGD_class__alpha': 0.05, 'SGD_class__eta0': 1e-06, 'SGD_class__learning_rate': 'constant', 'SGD_class__loss': 'perceptron'} Acc_mean:0.8071 Acc_var:0.0004\n",
            "250{'SGD_class__alpha': 0.05, 'SGD_class__eta0': 1e-06, 'SGD_class__learning_rate': 'constant', 'SGD_class__loss': 'squared_error'} Acc_mean:0.8557 Acc_var:0.0001\n",
            "251{'SGD_class__alpha': 0.05, 'SGD_class__eta0': 1e-06, 'SGD_class__learning_rate': 'invscaling', 'SGD_class__loss': 'hinge'} Acc_mean:0.8564 Acc_var:0.0002\n",
            "252{'SGD_class__alpha': 0.05, 'SGD_class__eta0': 1e-06, 'SGD_class__learning_rate': 'invscaling', 'SGD_class__loss': 'log'} Acc_mean:0.8564 Acc_var:0.0002\n",
            "253{'SGD_class__alpha': 0.05, 'SGD_class__eta0': 1e-06, 'SGD_class__learning_rate': 'invscaling', 'SGD_class__loss': 'squared_hinge'} Acc_mean:0.8564 Acc_var:0.0002\n",
            "254{'SGD_class__alpha': 0.05, 'SGD_class__eta0': 1e-06, 'SGD_class__learning_rate': 'invscaling', 'SGD_class__loss': 'perceptron'} Acc_mean:0.8037 Acc_var:0.0009\n",
            "255{'SGD_class__alpha': 0.05, 'SGD_class__eta0': 1e-06, 'SGD_class__learning_rate': 'invscaling', 'SGD_class__loss': 'squared_error'} Acc_mean:0.8564 Acc_var:0.0002\n",
            "256{'SGD_class__alpha': 0.05, 'SGD_class__eta0': 1e-06, 'SGD_class__learning_rate': 'adaptive', 'SGD_class__loss': 'hinge'} Acc_mean:0.8557 Acc_var:0.0001\n",
            "257{'SGD_class__alpha': 0.05, 'SGD_class__eta0': 1e-06, 'SGD_class__learning_rate': 'adaptive', 'SGD_class__loss': 'log'} Acc_mean:0.8557 Acc_var:0.0001\n",
            "258{'SGD_class__alpha': 0.05, 'SGD_class__eta0': 1e-06, 'SGD_class__learning_rate': 'adaptive', 'SGD_class__loss': 'squared_hinge'} Acc_mean:0.8591 Acc_var:0.0001\n",
            "259{'SGD_class__alpha': 0.05, 'SGD_class__eta0': 1e-06, 'SGD_class__learning_rate': 'adaptive', 'SGD_class__loss': 'perceptron'} Acc_mean:0.8071 Acc_var:0.0004\n",
            "260{'SGD_class__alpha': 0.05, 'SGD_class__eta0': 1e-06, 'SGD_class__learning_rate': 'adaptive', 'SGD_class__loss': 'squared_error'} Acc_mean:0.8557 Acc_var:0.0001\n",
            "261{'SGD_class__alpha': 0.05, 'SGD_class__eta0': 1e-05, 'SGD_class__learning_rate': 'optimal', 'SGD_class__loss': 'hinge'} Acc_mean:0.8591 Acc_var:0.0001\n",
            "262{'SGD_class__alpha': 0.05, 'SGD_class__eta0': 1e-05, 'SGD_class__learning_rate': 'optimal', 'SGD_class__loss': 'log'} Acc_mean:0.8577 Acc_var:0.0\n",
            "263{'SGD_class__alpha': 0.05, 'SGD_class__eta0': 1e-05, 'SGD_class__learning_rate': 'optimal', 'SGD_class__loss': 'squared_hinge'} Acc_mean:0.8206 Acc_var:0.0006\n",
            "264{'SGD_class__alpha': 0.05, 'SGD_class__eta0': 1e-05, 'SGD_class__learning_rate': 'optimal', 'SGD_class__loss': 'perceptron'} Acc_mean:0.8105 Acc_var:0.0021\n",
            "265{'SGD_class__alpha': 0.05, 'SGD_class__eta0': 1e-05, 'SGD_class__learning_rate': 'optimal', 'SGD_class__loss': 'squared_error'} Acc_mean:0.8537 Acc_var:0.0001\n",
            "266{'SGD_class__alpha': 0.05, 'SGD_class__eta0': 1e-05, 'SGD_class__learning_rate': 'constant', 'SGD_class__loss': 'hinge'} Acc_mean:0.8611 Acc_var:0.0\n",
            "267{'SGD_class__alpha': 0.05, 'SGD_class__eta0': 1e-05, 'SGD_class__learning_rate': 'constant', 'SGD_class__loss': 'log'} Acc_mean:0.8564 Acc_var:0.0001\n",
            "268{'SGD_class__alpha': 0.05, 'SGD_class__eta0': 1e-05, 'SGD_class__learning_rate': 'constant', 'SGD_class__loss': 'squared_hinge'} Acc_mean:0.8604 Acc_var:0.0\n",
            "269{'SGD_class__alpha': 0.05, 'SGD_class__eta0': 1e-05, 'SGD_class__learning_rate': 'constant', 'SGD_class__loss': 'perceptron'} Acc_mean:0.8084 Acc_var:0.0024\n",
            "270{'SGD_class__alpha': 0.05, 'SGD_class__eta0': 1e-05, 'SGD_class__learning_rate': 'constant', 'SGD_class__loss': 'squared_error'} Acc_mean:0.8591 Acc_var:0.0001\n",
            "271{'SGD_class__alpha': 0.05, 'SGD_class__eta0': 1e-05, 'SGD_class__learning_rate': 'invscaling', 'SGD_class__loss': 'hinge'} Acc_mean:0.8564 Acc_var:0.0002\n",
            "272{'SGD_class__alpha': 0.05, 'SGD_class__eta0': 1e-05, 'SGD_class__learning_rate': 'invscaling', 'SGD_class__loss': 'log'} Acc_mean:0.8564 Acc_var:0.0002\n",
            "273{'SGD_class__alpha': 0.05, 'SGD_class__eta0': 1e-05, 'SGD_class__learning_rate': 'invscaling', 'SGD_class__loss': 'squared_hinge'} Acc_mean:0.8571 Acc_var:0.0002\n",
            "274{'SGD_class__alpha': 0.05, 'SGD_class__eta0': 1e-05, 'SGD_class__learning_rate': 'invscaling', 'SGD_class__loss': 'perceptron'} Acc_mean:0.7902 Acc_var:0.0021\n",
            "275{'SGD_class__alpha': 0.05, 'SGD_class__eta0': 1e-05, 'SGD_class__learning_rate': 'invscaling', 'SGD_class__loss': 'squared_error'} Acc_mean:0.8564 Acc_var:0.0002\n",
            "276{'SGD_class__alpha': 0.05, 'SGD_class__eta0': 1e-05, 'SGD_class__learning_rate': 'adaptive', 'SGD_class__loss': 'hinge'} Acc_mean:0.8611 Acc_var:0.0\n",
            "277{'SGD_class__alpha': 0.05, 'SGD_class__eta0': 1e-05, 'SGD_class__learning_rate': 'adaptive', 'SGD_class__loss': 'log'} Acc_mean:0.8571 Acc_var:0.0001\n",
            "278{'SGD_class__alpha': 0.05, 'SGD_class__eta0': 1e-05, 'SGD_class__learning_rate': 'adaptive', 'SGD_class__loss': 'squared_hinge'} Acc_mean:0.8604 Acc_var:0.0\n",
            "279{'SGD_class__alpha': 0.05, 'SGD_class__eta0': 1e-05, 'SGD_class__learning_rate': 'adaptive', 'SGD_class__loss': 'perceptron'} Acc_mean:0.7843 Acc_var:0.0026\n",
            "280{'SGD_class__alpha': 0.05, 'SGD_class__eta0': 1e-05, 'SGD_class__learning_rate': 'adaptive', 'SGD_class__loss': 'squared_error'} Acc_mean:0.8591 Acc_var:0.0001\n",
            "281{'SGD_class__alpha': 0.05, 'SGD_class__eta0': 0.0001, 'SGD_class__learning_rate': 'optimal', 'SGD_class__loss': 'hinge'} Acc_mean:0.8591 Acc_var:0.0001\n",
            "282{'SGD_class__alpha': 0.05, 'SGD_class__eta0': 0.0001, 'SGD_class__learning_rate': 'optimal', 'SGD_class__loss': 'log'} Acc_mean:0.8577 Acc_var:0.0\n",
            "283{'SGD_class__alpha': 0.05, 'SGD_class__eta0': 0.0001, 'SGD_class__learning_rate': 'optimal', 'SGD_class__loss': 'squared_hinge'} Acc_mean:0.8206 Acc_var:0.0006\n",
            "284{'SGD_class__alpha': 0.05, 'SGD_class__eta0': 0.0001, 'SGD_class__learning_rate': 'optimal', 'SGD_class__loss': 'perceptron'} Acc_mean:0.8105 Acc_var:0.0021\n",
            "285{'SGD_class__alpha': 0.05, 'SGD_class__eta0': 0.0001, 'SGD_class__learning_rate': 'optimal', 'SGD_class__loss': 'squared_error'} Acc_mean:0.8537 Acc_var:0.0001\n",
            "286{'SGD_class__alpha': 0.05, 'SGD_class__eta0': 0.0001, 'SGD_class__learning_rate': 'constant', 'SGD_class__loss': 'hinge'} Acc_mean:0.8557 Acc_var:0.0\n",
            "287{'SGD_class__alpha': 0.05, 'SGD_class__eta0': 0.0001, 'SGD_class__learning_rate': 'constant', 'SGD_class__loss': 'log'} Acc_mean:0.8577 Acc_var:0.0\n",
            "288{'SGD_class__alpha': 0.05, 'SGD_class__eta0': 0.0001, 'SGD_class__learning_rate': 'constant', 'SGD_class__loss': 'squared_hinge'} Acc_mean:0.8624 Acc_var:0.0001\n",
            "289{'SGD_class__alpha': 0.05, 'SGD_class__eta0': 0.0001, 'SGD_class__learning_rate': 'constant', 'SGD_class__loss': 'perceptron'} Acc_mean:0.7747 Acc_var:0.0025\n",
            "290{'SGD_class__alpha': 0.05, 'SGD_class__eta0': 0.0001, 'SGD_class__learning_rate': 'constant', 'SGD_class__loss': 'squared_error'} Acc_mean:0.8604 Acc_var:0.0\n",
            "291{'SGD_class__alpha': 0.05, 'SGD_class__eta0': 0.0001, 'SGD_class__learning_rate': 'invscaling', 'SGD_class__loss': 'hinge'} Acc_mean:0.8564 Acc_var:0.0002\n",
            "292{'SGD_class__alpha': 0.05, 'SGD_class__eta0': 0.0001, 'SGD_class__learning_rate': 'invscaling', 'SGD_class__loss': 'log'} Acc_mean:0.8571 Acc_var:0.0002\n",
            "293{'SGD_class__alpha': 0.05, 'SGD_class__eta0': 0.0001, 'SGD_class__learning_rate': 'invscaling', 'SGD_class__loss': 'squared_hinge'} Acc_mean:0.855 Acc_var:0.0\n",
            "294{'SGD_class__alpha': 0.05, 'SGD_class__eta0': 0.0001, 'SGD_class__learning_rate': 'invscaling', 'SGD_class__loss': 'perceptron'} Acc_mean:0.7747 Acc_var:0.0015\n",
            "295{'SGD_class__alpha': 0.05, 'SGD_class__eta0': 0.0001, 'SGD_class__learning_rate': 'invscaling', 'SGD_class__loss': 'squared_error'} Acc_mean:0.8564 Acc_var:0.0002\n",
            "296{'SGD_class__alpha': 0.05, 'SGD_class__eta0': 0.0001, 'SGD_class__learning_rate': 'adaptive', 'SGD_class__loss': 'hinge'} Acc_mean:0.8557 Acc_var:0.0\n",
            "297{'SGD_class__alpha': 0.05, 'SGD_class__eta0': 0.0001, 'SGD_class__learning_rate': 'adaptive', 'SGD_class__loss': 'log'} Acc_mean:0.8577 Acc_var:0.0\n",
            "298{'SGD_class__alpha': 0.05, 'SGD_class__eta0': 0.0001, 'SGD_class__learning_rate': 'adaptive', 'SGD_class__loss': 'squared_hinge'} Acc_mean:0.8638 Acc_var:0.0001\n",
            "299{'SGD_class__alpha': 0.05, 'SGD_class__eta0': 0.0001, 'SGD_class__learning_rate': 'adaptive', 'SGD_class__loss': 'perceptron'} Acc_mean:0.764 Acc_var:0.0028\n",
            "300{'SGD_class__alpha': 0.05, 'SGD_class__eta0': 0.0001, 'SGD_class__learning_rate': 'adaptive', 'SGD_class__loss': 'squared_error'} Acc_mean:0.8604 Acc_var:0.0\n",
            "301{'SGD_class__alpha': 0.05, 'SGD_class__eta0': 0.001, 'SGD_class__learning_rate': 'optimal', 'SGD_class__loss': 'hinge'} Acc_mean:0.8591 Acc_var:0.0001\n",
            "302{'SGD_class__alpha': 0.05, 'SGD_class__eta0': 0.001, 'SGD_class__learning_rate': 'optimal', 'SGD_class__loss': 'log'} Acc_mean:0.8577 Acc_var:0.0\n",
            "303{'SGD_class__alpha': 0.05, 'SGD_class__eta0': 0.001, 'SGD_class__learning_rate': 'optimal', 'SGD_class__loss': 'squared_hinge'} Acc_mean:0.8206 Acc_var:0.0006\n",
            "304{'SGD_class__alpha': 0.05, 'SGD_class__eta0': 0.001, 'SGD_class__learning_rate': 'optimal', 'SGD_class__loss': 'perceptron'} Acc_mean:0.8105 Acc_var:0.0021\n",
            "305{'SGD_class__alpha': 0.05, 'SGD_class__eta0': 0.001, 'SGD_class__learning_rate': 'optimal', 'SGD_class__loss': 'squared_error'} Acc_mean:0.8537 Acc_var:0.0001\n",
            "306{'SGD_class__alpha': 0.05, 'SGD_class__eta0': 0.001, 'SGD_class__learning_rate': 'constant', 'SGD_class__loss': 'hinge'} Acc_mean:0.8543 Acc_var:0.0\n",
            "307{'SGD_class__alpha': 0.05, 'SGD_class__eta0': 0.001, 'SGD_class__learning_rate': 'constant', 'SGD_class__loss': 'log'} Acc_mean:0.8597 Acc_var:0.0\n",
            "308{'SGD_class__alpha': 0.05, 'SGD_class__eta0': 0.001, 'SGD_class__learning_rate': 'constant', 'SGD_class__loss': 'squared_hinge'} Acc_mean:0.8631 Acc_var:0.0\n",
            "309{'SGD_class__alpha': 0.05, 'SGD_class__eta0': 0.001, 'SGD_class__learning_rate': 'constant', 'SGD_class__loss': 'perceptron'} Acc_mean:0.7694 Acc_var:0.0002\n",
            "310{'SGD_class__alpha': 0.05, 'SGD_class__eta0': 0.001, 'SGD_class__learning_rate': 'constant', 'SGD_class__loss': 'squared_error'} Acc_mean:0.8604 Acc_var:0.0\n",
            "311{'SGD_class__alpha': 0.05, 'SGD_class__eta0': 0.001, 'SGD_class__learning_rate': 'invscaling', 'SGD_class__loss': 'hinge'} Acc_mean:0.8584 Acc_var:0.0001\n",
            "312{'SGD_class__alpha': 0.05, 'SGD_class__eta0': 0.001, 'SGD_class__learning_rate': 'invscaling', 'SGD_class__loss': 'log'} Acc_mean:0.8557 Acc_var:0.0\n",
            "313{'SGD_class__alpha': 0.05, 'SGD_class__eta0': 0.001, 'SGD_class__learning_rate': 'invscaling', 'SGD_class__loss': 'squared_hinge'} Acc_mean:0.8597 Acc_var:0.0001\n",
            "314{'SGD_class__alpha': 0.05, 'SGD_class__eta0': 0.001, 'SGD_class__learning_rate': 'invscaling', 'SGD_class__loss': 'perceptron'} Acc_mean:0.8219 Acc_var:0.0008\n",
            "315{'SGD_class__alpha': 0.05, 'SGD_class__eta0': 0.001, 'SGD_class__learning_rate': 'invscaling', 'SGD_class__loss': 'squared_error'} Acc_mean:0.8591 Acc_var:0.0001\n",
            "316{'SGD_class__alpha': 0.05, 'SGD_class__eta0': 0.001, 'SGD_class__learning_rate': 'adaptive', 'SGD_class__loss': 'hinge'} Acc_mean:0.8543 Acc_var:0.0\n",
            "317{'SGD_class__alpha': 0.05, 'SGD_class__eta0': 0.001, 'SGD_class__learning_rate': 'adaptive', 'SGD_class__loss': 'log'} Acc_mean:0.8597 Acc_var:0.0\n",
            "318{'SGD_class__alpha': 0.05, 'SGD_class__eta0': 0.001, 'SGD_class__learning_rate': 'adaptive', 'SGD_class__loss': 'squared_hinge'} Acc_mean:0.8658 Acc_var:0.0\n",
            "319{'SGD_class__alpha': 0.05, 'SGD_class__eta0': 0.001, 'SGD_class__learning_rate': 'adaptive', 'SGD_class__loss': 'perceptron'} Acc_mean:0.7445 Acc_var:0.0038\n",
            "320{'SGD_class__alpha': 0.05, 'SGD_class__eta0': 0.001, 'SGD_class__learning_rate': 'adaptive', 'SGD_class__loss': 'squared_error'} Acc_mean:0.8604 Acc_var:0.0\n"
          ]
        }
      ]
    },
    {
      "cell_type": "markdown",
      "source": [
        "Se busca el mejor modelo"
      ],
      "metadata": {
        "id": "vloMNA1hcsxp"
      }
    },
    {
      "cell_type": "code",
      "source": [
        "#SGD_model.get_params().keys()\n",
        "print('Los mejores hiperparámetros son:')\n",
        "SGD_Grid.best_params_"
      ],
      "metadata": {
        "colab": {
          "base_uri": "https://localhost:8080/"
        },
        "id": "BVUgVAHqU599",
        "outputId": "b1d136a4-f9a5-411e-c159-fbdcc72acfe2"
      },
      "execution_count": 119,
      "outputs": [
        {
          "output_type": "stream",
          "name": "stdout",
          "text": [
            "Los mejores hiperparámetros son:\n"
          ]
        },
        {
          "output_type": "execute_result",
          "data": {
            "text/plain": [
              "{'SGD_class__alpha': 0.005,\n",
              " 'SGD_class__eta0': 1e-06,\n",
              " 'SGD_class__learning_rate': 'optimal',\n",
              " 'SGD_class__loss': 'log'}"
            ]
          },
          "metadata": {},
          "execution_count": 119
        }
      ]
    },
    {
      "cell_type": "code",
      "source": [
        "max_accuracy = max(SGD_Grid.cv_results_['mean_test_score'])\n",
        "print(f'El accuracy del mejor modelo es {max_accuracy:.04}')\n",
        "accuracies = SGD_Grid.cv_results_['mean_test_score']"
      ],
      "metadata": {
        "id": "d5t4fR0scFb_",
        "colab": {
          "base_uri": "https://localhost:8080/"
        },
        "outputId": "07de05f6-434b-431f-d853-61004ef1de7e"
      },
      "execution_count": 120,
      "outputs": [
        {
          "output_type": "stream",
          "name": "stdout",
          "text": [
            "El accuracy del mejor modelo es 0.8712\n"
          ]
        }
      ]
    },
    {
      "cell_type": "markdown",
      "source": [
        "A continuación, se busca si hay otros modelos con el mismo valor de accuracy"
      ],
      "metadata": {
        "id": "LX-0RbrSc7sS"
      }
    },
    {
      "cell_type": "code",
      "source": [
        "# Se busca si hay mas de un modelo con dicho valor de accuracy\n",
        "accuracies = SGD_Grid.cv_results_['mean_test_score']\n",
        "indexes = np.where(accuracies == max_accuracy)\n",
        "print(f'Existen {len(indexes[0])} modelos con el máximo accuracy. Dichos modelos son: {indexes[0]+1}')"
      ],
      "metadata": {
        "colab": {
          "base_uri": "https://localhost:8080/"
        },
        "id": "xkv6vNEusxft",
        "outputId": "8174ad73-1608-45e6-e310-bb83aac209d7"
      },
      "execution_count": 121,
      "outputs": [
        {
          "output_type": "stream",
          "name": "stdout",
          "text": [
            "Existen 8 modelos con el máximo accuracy. Dichos modelos son: [ 82 102 122 142 162 182 202 222]\n"
          ]
        }
      ]
    },
    {
      "cell_type": "markdown",
      "source": [
        "El código a continuación permite establecer un ranking entre los modelos. Cabe destacar que los 8 modelos que presentan el mismo valor de accuracy poseen todos el primer puesto."
      ],
      "metadata": {
        "id": "I4SArQUsTeKE"
      }
    },
    {
      "cell_type": "code",
      "source": [
        "ranking = SGD_Grid.cv_results_['rank_test_score']\n",
        "for i,rank in enumerate(ranking):\n",
        "  print(f'Modelo:{i+1} - Ranking: {rank}')"
      ],
      "metadata": {
        "colab": {
          "base_uri": "https://localhost:8080/"
        },
        "id": "9uMvC2eGGt3R",
        "outputId": "f976631c-02de-42bd-8b3c-85a44d50dc2d"
      },
      "execution_count": 122,
      "outputs": [
        {
          "output_type": "stream",
          "name": "stdout",
          "text": [
            "Modelo:1 - Ranking: 17\n",
            "Modelo:2 - Ranking: 9\n",
            "Modelo:3 - Ranking: 253\n",
            "Modelo:4 - Ranking: 249\n",
            "Modelo:5 - Ranking: 100\n",
            "Modelo:6 - Ranking: 215\n",
            "Modelo:7 - Ranking: 215\n",
            "Modelo:8 - Ranking: 104\n",
            "Modelo:9 - Ranking: 284\n",
            "Modelo:10 - Ranking: 215\n",
            "Modelo:11 - Ranking: 166\n",
            "Modelo:12 - Ranking: 166\n",
            "Modelo:13 - Ranking: 166\n",
            "Modelo:14 - Ranking: 278\n",
            "Modelo:15 - Ranking: 166\n",
            "Modelo:16 - Ranking: 215\n",
            "Modelo:17 - Ranking: 215\n",
            "Modelo:18 - Ranking: 104\n",
            "Modelo:19 - Ranking: 284\n",
            "Modelo:20 - Ranking: 215\n",
            "Modelo:21 - Ranking: 17\n",
            "Modelo:22 - Ranking: 9\n",
            "Modelo:23 - Ranking: 253\n",
            "Modelo:24 - Ranking: 249\n",
            "Modelo:25 - Ranking: 100\n",
            "Modelo:26 - Ranking: 71\n",
            "Modelo:27 - Ranking: 158\n",
            "Modelo:28 - Ranking: 92\n",
            "Modelo:29 - Ranking: 284\n",
            "Modelo:30 - Ranking: 113\n",
            "Modelo:31 - Ranking: 166\n",
            "Modelo:32 - Ranking: 166\n",
            "Modelo:33 - Ranking: 150\n",
            "Modelo:34 - Ranking: 278\n",
            "Modelo:35 - Ranking: 166\n",
            "Modelo:36 - Ranking: 64\n",
            "Modelo:37 - Ranking: 158\n",
            "Modelo:38 - Ranking: 92\n",
            "Modelo:39 - Ranking: 292\n",
            "Modelo:40 - Ranking: 113\n",
            "Modelo:41 - Ranking: 17\n",
            "Modelo:42 - Ranking: 9\n",
            "Modelo:43 - Ranking: 253\n",
            "Modelo:44 - Ranking: 249\n",
            "Modelo:45 - Ranking: 100\n",
            "Modelo:46 - Ranking: 125\n",
            "Modelo:47 - Ranking: 113\n",
            "Modelo:48 - Ranking: 47\n",
            "Modelo:49 - Ranking: 268\n",
            "Modelo:50 - Ranking: 71\n",
            "Modelo:51 - Ranking: 197\n",
            "Modelo:52 - Ranking: 150\n",
            "Modelo:53 - Ranking: 239\n",
            "Modelo:54 - Ranking: 274\n",
            "Modelo:55 - Ranking: 197\n",
            "Modelo:56 - Ranking: 125\n",
            "Modelo:57 - Ranking: 92\n",
            "Modelo:58 - Ranking: 47\n",
            "Modelo:59 - Ranking: 302\n",
            "Modelo:60 - Ranking: 71\n",
            "Modelo:61 - Ranking: 17\n",
            "Modelo:62 - Ranking: 9\n",
            "Modelo:63 - Ranking: 253\n",
            "Modelo:64 - Ranking: 249\n",
            "Modelo:65 - Ranking: 100\n",
            "Modelo:66 - Ranking: 57\n",
            "Modelo:67 - Ranking: 21\n",
            "Modelo:68 - Ranking: 51\n",
            "Modelo:69 - Ranking: 318\n",
            "Modelo:70 - Ranking: 58\n",
            "Modelo:71 - Ranking: 158\n",
            "Modelo:72 - Ranking: 209\n",
            "Modelo:73 - Ranking: 113\n",
            "Modelo:74 - Ranking: 282\n",
            "Modelo:75 - Ranking: 136\n",
            "Modelo:76 - Ranking: 40\n",
            "Modelo:77 - Ranking: 21\n",
            "Modelo:78 - Ranking: 34\n",
            "Modelo:79 - Ranking: 316\n",
            "Modelo:80 - Ranking: 64\n",
            "Modelo:81 - Ranking: 13\n",
            "Modelo:82 - Ranking: 1\n",
            "Modelo:83 - Ranking: 41\n",
            "Modelo:84 - Ranking: 294\n",
            "Modelo:85 - Ranking: 205\n",
            "Modelo:86 - Ranking: 215\n",
            "Modelo:87 - Ranking: 215\n",
            "Modelo:88 - Ranking: 104\n",
            "Modelo:89 - Ranking: 284\n",
            "Modelo:90 - Ranking: 215\n",
            "Modelo:91 - Ranking: 166\n",
            "Modelo:92 - Ranking: 166\n",
            "Modelo:93 - Ranking: 166\n",
            "Modelo:94 - Ranking: 278\n",
            "Modelo:95 - Ranking: 166\n",
            "Modelo:96 - Ranking: 215\n",
            "Modelo:97 - Ranking: 215\n",
            "Modelo:98 - Ranking: 104\n",
            "Modelo:99 - Ranking: 284\n",
            "Modelo:100 - Ranking: 215\n",
            "Modelo:101 - Ranking: 13\n",
            "Modelo:102 - Ranking: 1\n",
            "Modelo:103 - Ranking: 41\n",
            "Modelo:104 - Ranking: 294\n",
            "Modelo:105 - Ranking: 205\n",
            "Modelo:106 - Ranking: 71\n",
            "Modelo:107 - Ranking: 158\n",
            "Modelo:108 - Ranking: 92\n",
            "Modelo:109 - Ranking: 268\n",
            "Modelo:110 - Ranking: 113\n",
            "Modelo:111 - Ranking: 166\n",
            "Modelo:112 - Ranking: 166\n",
            "Modelo:113 - Ranking: 150\n",
            "Modelo:114 - Ranking: 274\n",
            "Modelo:115 - Ranking: 166\n",
            "Modelo:116 - Ranking: 64\n",
            "Modelo:117 - Ranking: 158\n",
            "Modelo:118 - Ranking: 92\n",
            "Modelo:119 - Ranking: 273\n",
            "Modelo:120 - Ranking: 113\n",
            "Modelo:121 - Ranking: 13\n",
            "Modelo:122 - Ranking: 1\n",
            "Modelo:123 - Ranking: 41\n",
            "Modelo:124 - Ranking: 294\n",
            "Modelo:125 - Ranking: 205\n",
            "Modelo:126 - Ranking: 125\n",
            "Modelo:127 - Ranking: 83\n",
            "Modelo:128 - Ranking: 47\n",
            "Modelo:129 - Ranking: 266\n",
            "Modelo:130 - Ranking: 71\n",
            "Modelo:131 - Ranking: 197\n",
            "Modelo:132 - Ranking: 150\n",
            "Modelo:133 - Ranking: 239\n",
            "Modelo:134 - Ranking: 298\n",
            "Modelo:135 - Ranking: 197\n",
            "Modelo:136 - Ranking: 125\n",
            "Modelo:137 - Ranking: 83\n",
            "Modelo:138 - Ranking: 47\n",
            "Modelo:139 - Ranking: 307\n",
            "Modelo:140 - Ranking: 71\n",
            "Modelo:141 - Ranking: 13\n",
            "Modelo:142 - Ranking: 1\n",
            "Modelo:143 - Ranking: 41\n",
            "Modelo:144 - Ranking: 294\n",
            "Modelo:145 - Ranking: 205\n",
            "Modelo:146 - Ranking: 99\n",
            "Modelo:147 - Ranking: 27\n",
            "Modelo:148 - Ranking: 51\n",
            "Modelo:149 - Ranking: 310\n",
            "Modelo:150 - Ranking: 58\n",
            "Modelo:151 - Ranking: 158\n",
            "Modelo:152 - Ranking: 209\n",
            "Modelo:153 - Ranking: 113\n",
            "Modelo:154 - Ranking: 308\n",
            "Modelo:155 - Ranking: 136\n",
            "Modelo:156 - Ranking: 54\n",
            "Modelo:157 - Ranking: 27\n",
            "Modelo:158 - Ranking: 34\n",
            "Modelo:159 - Ranking: 293\n",
            "Modelo:160 - Ranking: 64\n",
            "Modelo:161 - Ranking: 23\n",
            "Modelo:162 - Ranking: 1\n",
            "Modelo:163 - Ranking: 30\n",
            "Modelo:164 - Ranking: 303\n",
            "Modelo:165 - Ranking: 146\n",
            "Modelo:166 - Ranking: 215\n",
            "Modelo:167 - Ranking: 215\n",
            "Modelo:168 - Ranking: 104\n",
            "Modelo:169 - Ranking: 284\n",
            "Modelo:170 - Ranking: 215\n",
            "Modelo:171 - Ranking: 166\n",
            "Modelo:172 - Ranking: 166\n",
            "Modelo:173 - Ranking: 166\n",
            "Modelo:174 - Ranking: 278\n",
            "Modelo:175 - Ranking: 166\n",
            "Modelo:176 - Ranking: 215\n",
            "Modelo:177 - Ranking: 215\n",
            "Modelo:178 - Ranking: 104\n",
            "Modelo:179 - Ranking: 284\n",
            "Modelo:180 - Ranking: 215\n",
            "Modelo:181 - Ranking: 23\n",
            "Modelo:182 - Ranking: 1\n",
            "Modelo:183 - Ranking: 30\n",
            "Modelo:184 - Ranking: 303\n",
            "Modelo:185 - Ranking: 146\n",
            "Modelo:186 - Ranking: 64\n",
            "Modelo:187 - Ranking: 194\n",
            "Modelo:188 - Ranking: 92\n",
            "Modelo:189 - Ranking: 268\n",
            "Modelo:190 - Ranking: 113\n",
            "Modelo:191 - Ranking: 166\n",
            "Modelo:192 - Ranking: 166\n",
            "Modelo:193 - Ranking: 150\n",
            "Modelo:194 - Ranking: 274\n",
            "Modelo:195 - Ranking: 166\n",
            "Modelo:196 - Ranking: 64\n",
            "Modelo:197 - Ranking: 194\n",
            "Modelo:198 - Ranking: 92\n",
            "Modelo:199 - Ranking: 291\n",
            "Modelo:200 - Ranking: 113\n",
            "Modelo:201 - Ranking: 23\n",
            "Modelo:202 - Ranking: 1\n",
            "Modelo:203 - Ranking: 30\n",
            "Modelo:204 - Ranking: 303\n",
            "Modelo:205 - Ranking: 146\n",
            "Modelo:206 - Ranking: 125\n",
            "Modelo:207 - Ranking: 83\n",
            "Modelo:208 - Ranking: 45\n",
            "Modelo:209 - Ranking: 318\n",
            "Modelo:210 - Ranking: 71\n",
            "Modelo:211 - Ranking: 197\n",
            "Modelo:212 - Ranking: 150\n",
            "Modelo:213 - Ranking: 239\n",
            "Modelo:214 - Ranking: 282\n",
            "Modelo:215 - Ranking: 197\n",
            "Modelo:216 - Ranking: 125\n",
            "Modelo:217 - Ranking: 83\n",
            "Modelo:218 - Ranking: 39\n",
            "Modelo:219 - Ranking: 314\n",
            "Modelo:220 - Ranking: 71\n",
            "Modelo:221 - Ranking: 23\n",
            "Modelo:222 - Ranking: 1\n",
            "Modelo:223 - Ranking: 30\n",
            "Modelo:224 - Ranking: 303\n",
            "Modelo:225 - Ranking: 146\n",
            "Modelo:226 - Ranking: 125\n",
            "Modelo:227 - Ranking: 34\n",
            "Modelo:228 - Ranking: 54\n",
            "Modelo:229 - Ranking: 300\n",
            "Modelo:230 - Ranking: 58\n",
            "Modelo:231 - Ranking: 158\n",
            "Modelo:232 - Ranking: 209\n",
            "Modelo:233 - Ranking: 113\n",
            "Modelo:234 - Ranking: 312\n",
            "Modelo:235 - Ranking: 136\n",
            "Modelo:236 - Ranking: 61\n",
            "Modelo:237 - Ranking: 29\n",
            "Modelo:238 - Ranking: 34\n",
            "Modelo:239 - Ranking: 313\n",
            "Modelo:240 - Ranking: 64\n",
            "Modelo:241 - Ranking: 132\n",
            "Modelo:242 - Ranking: 140\n",
            "Modelo:243 - Ranking: 258\n",
            "Modelo:244 - Ranking: 262\n",
            "Modelo:245 - Ranking: 245\n",
            "Modelo:246 - Ranking: 215\n",
            "Modelo:247 - Ranking: 215\n",
            "Modelo:248 - Ranking: 104\n",
            "Modelo:249 - Ranking: 268\n",
            "Modelo:250 - Ranking: 215\n",
            "Modelo:251 - Ranking: 166\n",
            "Modelo:252 - Ranking: 166\n",
            "Modelo:253 - Ranking: 166\n",
            "Modelo:254 - Ranking: 274\n",
            "Modelo:255 - Ranking: 166\n",
            "Modelo:256 - Ranking: 215\n",
            "Modelo:257 - Ranking: 215\n",
            "Modelo:258 - Ranking: 104\n",
            "Modelo:259 - Ranking: 268\n",
            "Modelo:260 - Ranking: 215\n",
            "Modelo:261 - Ranking: 132\n",
            "Modelo:262 - Ranking: 140\n",
            "Modelo:263 - Ranking: 258\n",
            "Modelo:264 - Ranking: 262\n",
            "Modelo:265 - Ranking: 245\n",
            "Modelo:266 - Ranking: 62\n",
            "Modelo:267 - Ranking: 194\n",
            "Modelo:268 - Ranking: 87\n",
            "Modelo:269 - Ranking: 266\n",
            "Modelo:270 - Ranking: 113\n",
            "Modelo:271 - Ranking: 166\n",
            "Modelo:272 - Ranking: 166\n",
            "Modelo:273 - Ranking: 150\n",
            "Modelo:274 - Ranking: 298\n",
            "Modelo:275 - Ranking: 166\n",
            "Modelo:276 - Ranking: 62\n",
            "Modelo:277 - Ranking: 158\n",
            "Modelo:278 - Ranking: 87\n",
            "Modelo:279 - Ranking: 301\n",
            "Modelo:280 - Ranking: 113\n",
            "Modelo:281 - Ranking: 132\n",
            "Modelo:282 - Ranking: 140\n",
            "Modelo:283 - Ranking: 258\n",
            "Modelo:284 - Ranking: 262\n",
            "Modelo:285 - Ranking: 245\n",
            "Modelo:286 - Ranking: 209\n",
            "Modelo:287 - Ranking: 140\n",
            "Modelo:288 - Ranking: 56\n",
            "Modelo:289 - Ranking: 310\n",
            "Modelo:290 - Ranking: 71\n",
            "Modelo:291 - Ranking: 197\n",
            "Modelo:292 - Ranking: 150\n",
            "Modelo:293 - Ranking: 239\n",
            "Modelo:294 - Ranking: 308\n",
            "Modelo:295 - Ranking: 197\n",
            "Modelo:296 - Ranking: 209\n",
            "Modelo:297 - Ranking: 140\n",
            "Modelo:298 - Ranking: 45\n",
            "Modelo:299 - Ranking: 317\n",
            "Modelo:300 - Ranking: 71\n",
            "Modelo:301 - Ranking: 132\n",
            "Modelo:302 - Ranking: 140\n",
            "Modelo:303 - Ranking: 258\n",
            "Modelo:304 - Ranking: 262\n",
            "Modelo:305 - Ranking: 245\n",
            "Modelo:306 - Ranking: 243\n",
            "Modelo:307 - Ranking: 89\n",
            "Modelo:308 - Ranking: 53\n",
            "Modelo:309 - Ranking: 315\n",
            "Modelo:310 - Ranking: 71\n",
            "Modelo:311 - Ranking: 136\n",
            "Modelo:312 - Ranking: 209\n",
            "Modelo:313 - Ranking: 91\n",
            "Modelo:314 - Ranking: 257\n",
            "Modelo:315 - Ranking: 104\n",
            "Modelo:316 - Ranking: 243\n",
            "Modelo:317 - Ranking: 89\n",
            "Modelo:318 - Ranking: 38\n",
            "Modelo:319 - Ranking: 320\n",
            "Modelo:320 - Ranking: 71\n"
          ]
        }
      ]
    },
    {
      "cell_type": "markdown",
      "source": [
        "Se elige trabajar con el modelo nº 82. Para ello, se imprime la media y la varianza del accuracy de dicho modelo."
      ],
      "metadata": {
        "id": "KbML8spVW6Lh"
      }
    },
    {
      "cell_type": "code",
      "source": [
        "print('Modelo 82')\n",
        "hiperparam_modelo_1 = SGD_Grid.cv_results_['params'][indexes[0][0]]\n",
        "print(hiperparam_modelo_1)\n",
        "std_accuracy_modelo1 = SGD_Grid.cv_results_['std_test_score'][indexes[0][0]]\n",
        "print(f'Mean Accuracy Modelo 82: {max_accuracy:.04} - Var Accuracy Modelo 82: {(std_accuracy_modelo1)**2:.04}')"
      ],
      "metadata": {
        "colab": {
          "base_uri": "https://localhost:8080/"
        },
        "id": "Hy5PILiCvVXU",
        "outputId": "103bb042-62e4-4682-87ee-bb0361ce6fd4"
      },
      "execution_count": 123,
      "outputs": [
        {
          "output_type": "stream",
          "name": "stdout",
          "text": [
            "Modelo 82\n",
            "{'SGD_class__alpha': 0.005, 'SGD_class__eta0': 1e-06, 'SGD_class__learning_rate': 'optimal', 'SGD_class__loss': 'log'}\n",
            "Mean Accuracy Modelo 82: 0.8712 - Var Accuracy Modelo 82: 0.0001282\n"
          ]
        }
      ]
    },
    {
      "cell_type": "markdown",
      "source": [
        "Se procede a calcular las otras métricas para dicho modelo exclusivamente, tanto en los datos de entrenamiento como en los de testeo."
      ],
      "metadata": {
        "id": "C7yAE-8LyKV9"
      }
    },
    {
      "cell_type": "code",
      "source": [
        "# Datos de entrenamiento\n",
        "from sklearn.model_selection import cross_val_score\n",
        "modelo1_ = Pipeline([['scaler',StandardScaler()],['SGD_class', SGDClassifier(random_state = 1234,\n",
        "                                                                              eta0 = 1e-6,\n",
        "                                                                              alpha = 0.005,\n",
        "                                                                              learning_rate = 'optimal',\n",
        "                                                                              loss = 'log')]])\n",
        "\n",
        "cv_modelo1_precision = cross_val_score(modelo1_,X_train,y_train,cv = 5, scoring = 'precision')\n",
        "modelo1_p_mean = cv_modelo1_precision.mean()\n",
        "modelo1_p_std = cv_modelo1_precision.std()\n",
        "\n",
        "cv_modelo1_recall = cross_val_score(modelo1_,X_train,y_train,cv = 5, scoring = 'recall')\n",
        "modelo1_r_mean = cv_modelo1_recall.mean()\n",
        "modelo1_r_std = cv_modelo1_recall.std()\n",
        "\n",
        "cv_modelo1_F1 = cross_val_score(modelo1_,X_train,y_train,cv = 5, scoring = 'f1')\n",
        "modelo1_F1_mean = cv_modelo1_F1.mean()\n",
        "modelo1_F1_std = cv_modelo1_F1.std()\n",
        "\n",
        "modelo1_.fit(X_train,y_train)\n",
        "y_pred_modelo1_train = modelo1_.predict(X_train)\n",
        "conf_matx_modelo1_train = confusion_matrix(y_train.ravel(),y_pred_modelo1_train)"
      ],
      "metadata": {
        "id": "xLL1G0L-vqv0"
      },
      "execution_count": 124,
      "outputs": []
    },
    {
      "cell_type": "code",
      "source": [
        "from tabulate import tabulate\n",
        "print('Datos de entrenamiento')\n",
        "print(f'Modelo: {hiperparam_modelo_1}')\n",
        "resumen = [[f'{max_accuracy:.04}',f'{(std_accuracy_modelo1)**2:.04}',f'{modelo1_p_mean:.04}',f'{(modelo1_p_std)**2:.04}',\n",
        "            f'{modelo1_r_mean}',f'{(modelo1_r_std)**2:.04}',f'{modelo1_F1_mean:.04}',f'{(modelo1_F1_std)**2:.04}',f'{conf_matx_modelo1_train}']]\n",
        "print(tabulate(resumen, headers = ['Acc_mean','Acc_var','Prec_mean','Prec_var','Rec_mean','Rec_var','F1_mean','F1_var','Conf_mtx']))"
      ],
      "metadata": {
        "colab": {
          "base_uri": "https://localhost:8080/"
        },
        "id": "-z2UBycM1AlK",
        "outputId": "1a587342-5930-4a2e-a1a0-a74ff0ce25f3"
      },
      "execution_count": 125,
      "outputs": [
        {
          "output_type": "stream",
          "name": "stdout",
          "text": [
            "Datos de entrenamiento\n",
            "Modelo: {'SGD_class__alpha': 0.005, 'SGD_class__eta0': 1e-06, 'SGD_class__learning_rate': 'optimal', 'SGD_class__loss': 'log'}\n",
            "  Acc_mean    Acc_var    Prec_mean    Prec_var    Rec_mean    Rec_var    F1_mean    F1_var  Conf_mtx\n",
            "----------  ---------  -----------  ----------  ----------  ---------  ---------  --------  -------------\n",
            "    0.8712  0.0001282       0.7903    0.007218    0.326745   0.001402     0.4617  0.002406  [[1215   17]\n",
            "                                                                                             [ 175   76]]\n"
          ]
        }
      ]
    },
    {
      "cell_type": "code",
      "source": [
        "# Datos de testeo\n",
        "cv_modelo1_accuracy_test = cross_val_score(modelo1_,X_test,y_test,cv = 5, scoring = 'accuracy')\n",
        "modelo1_a_mean_test = cv_modelo1_accuracy_test.mean()\n",
        "modelo1_a_std_test = cv_modelo1_accuracy_test.std()\n",
        "\n",
        "cv_modelo1_precision_test = cross_val_score(modelo1_,X_test,y_test,cv = 5, scoring = 'precision')\n",
        "modelo1_p_mean_test = cv_modelo1_precision_test.mean()\n",
        "modelo1_p_std_test = cv_modelo1_precision_test.std()\n",
        "\n",
        "cv_modelo1_recall_test = cross_val_score(modelo1_,X_test,y_test,cv = 5, scoring = 'recall')\n",
        "modelo1_r_mean_test = cv_modelo1_recall_test.mean()\n",
        "modelo1_r_std_test = cv_modelo1_recall_test.std()\n",
        "\n",
        "cv_modelo1_F1_test = cross_val_score(modelo1_,X_test,y_test,cv = 5, scoring = 'f1')\n",
        "modelo1_F1_mean_test = cv_modelo1_F1_test.mean()\n",
        "modelo1_F1_std_test = cv_modelo1_F1_test.std()\n",
        "\n",
        "y_pred_modelo1_test = modelo1_.predict(X_test)\n",
        "conf_matx_modelo1_test = confusion_matrix(y_test.ravel(),y_pred_modelo1_test)"
      ],
      "metadata": {
        "id": "MQrvcG4RhVDO"
      },
      "execution_count": 126,
      "outputs": []
    },
    {
      "cell_type": "code",
      "source": [
        "print('Datos de testeo')\n",
        "print(f'Modelo: {hiperparam_modelo_1}')\n",
        "resumen = [[f'{modelo1_a_mean_test:.04}',f'{(modelo1_a_std_test)**2:.04}',f'{modelo1_p_mean_test:.04}',f'{(modelo1_p_std_test)**2:.04}',\n",
        "            f'{modelo1_r_mean_test}',f'{(modelo1_r_std_test)**2:.04}',f'{modelo1_F1_mean_test:.04}',f'{(modelo1_F1_std_test)**2:.04}',f'{conf_matx_modelo1_test}']]\n",
        "print(tabulate(resumen, headers = ['Acc_mean','Acc_var','Prec_mean','Prec_var','Rec_mean','Rec_var','F1_mean','F1_var','Conf_mtx']))"
      ],
      "metadata": {
        "colab": {
          "base_uri": "https://localhost:8080/"
        },
        "id": "TSyWHJq3hVGG",
        "outputId": "1df3a4b4-cd4f-4977-e873-c5bcddfa2bd1"
      },
      "execution_count": 127,
      "outputs": [
        {
          "output_type": "stream",
          "name": "stdout",
          "text": [
            "Datos de testeo\n",
            "Modelo: {'SGD_class__alpha': 0.005, 'SGD_class__eta0': 1e-06, 'SGD_class__learning_rate': 'optimal', 'SGD_class__loss': 'log'}\n",
            "  Acc_mean    Acc_var    Prec_mean    Prec_var    Rec_mean    Rec_var    F1_mean    F1_var  Conf_mtx\n",
            "----------  ---------  -----------  ----------  ----------  ---------  ---------  --------  -----------\n",
            "    0.8814  0.0005294         0.83      0.0236    0.313636   0.006901     0.4506   0.01013  [[308   5]\n",
            "                                                                                             [ 42  16]]\n"
          ]
        }
      ]
    },
    {
      "cell_type": "markdown",
      "source": [
        "**Conclusión:**\n",
        "Comparando las diferentes métricas de los conjuntos de entrenamiento de los modelos del EJERCICIO 2.1 y EJERCICIO 2.2, se concluye que el ajuste de hiperparámetros mejora la performance del algoritmo. Si bien el accuracy no aumenta considerablemente (pasa de 85.6% en el modelo del EJERCICIO 2.1 a 87.12% en el modelo del EJERCICIO 2.2), sí se evidencia una mejora notable en las demás métricas, especialmente en la precision y el F1.\n"
      ],
      "metadata": {
        "id": "tq9rBybaa81q"
      }
    },
    {
      "cell_type": "markdown",
      "metadata": {
        "id": "uxEa31GmnQxP"
      },
      "source": [
        "## Ejercicio 3: Árboles de Decisión\n",
        "\n",
        "En este ejercicio se entrenarán árboles de decisión para predecir la variable objetivo.\n",
        "\n",
        "Para ello, deberán utilizar la clase DecisionTreeClassifier de scikit-learn.\n",
        "\n",
        "Documentación:\n",
        "- https://scikit-learn.org/stable/modules/tree.html\n",
        "  - https://scikit-learn.org/stable/modules/tree.html#tips-on-practical-use\n",
        "- https://scikit-learn.org/stable/modules/generated/sklearn.tree.DecisionTreeClassifier.html\n",
        "- https://scikit-learn.org/stable/auto_examples/tree/plot_unveil_tree_structure.html"
      ]
    },
    {
      "cell_type": "markdown",
      "metadata": {
        "id": "SLu-HFv8nQxQ"
      },
      "source": [
        "### Ejercicio 3.1: DecisionTreeClassifier con hiperparámetros por defecto\n",
        "\n",
        "Entrenar y evaluar el clasificador DecisionTreeClassifier usando los valores por omisión de scikit-learn para todos los parámetros. Únicamente **fijar la semilla aleatoria** para hacer repetible el experimento.\n",
        "\n",
        "Evaluar sobre el conjunto de **entrenamiento** y sobre el conjunto de **evaluación**, reportando:\n",
        "- Accuracy\n",
        "- Precision\n",
        "- Recall\n",
        "- F1\n",
        "- matriz de confusión\n"
      ]
    },
    {
      "cell_type": "markdown",
      "source": [
        "#### Resolución EJERCICIO 3.1"
      ],
      "metadata": {
        "id": "lZJ4f3BmgMX7"
      }
    },
    {
      "cell_type": "markdown",
      "source": [
        "Al igual que en ejercicio 2.1, solo se fija la semilla del modelo y se dejan el resto del los parámetros en su valor por defecto."
      ],
      "metadata": {
        "id": "csHZY1AQgW3u"
      }
    },
    {
      "cell_type": "code",
      "source": [
        "from sklearn.tree import DecisionTreeClassifier\n",
        "\n",
        "DTC_model = DecisionTreeClassifier(random_state = 1234)\n",
        "DTC_model.fit(X_train,y_train)"
      ],
      "metadata": {
        "colab": {
          "base_uri": "https://localhost:8080/"
        },
        "id": "mxLFEEm1fpzO",
        "outputId": "595add5e-0ec1-4295-8939-d01f969a4639"
      },
      "execution_count": 128,
      "outputs": [
        {
          "output_type": "execute_result",
          "data": {
            "text/plain": [
              "DecisionTreeClassifier(random_state=1234)"
            ]
          },
          "metadata": {},
          "execution_count": 128
        }
      ]
    },
    {
      "cell_type": "markdown",
      "source": [
        "Se predice sobre los datos de entrenamiento y se calculan las diferentes métricas."
      ],
      "metadata": {
        "id": "iYVFpi3UghGx"
      }
    },
    {
      "cell_type": "code",
      "source": [
        "y_pred_DTC_train = DTC_model.predict(X_train)"
      ],
      "metadata": {
        "id": "k5ZXp1wxy_lm"
      },
      "execution_count": 129,
      "outputs": []
    },
    {
      "cell_type": "code",
      "source": [
        "print(f'Accuracy - TRAIN: {accuracy_score(y_train,y_pred_DTC_train):.04}')\n",
        "print(f'Precision - TRAIN: {precision_score(y_train,y_pred_DTC_train):.04}')\n",
        "print(f'Recall - TRAIN: {recall_score(y_train,y_pred_DTC_train):.04}')\n",
        "print(f'F1 - TRAIN: {f1_score(y_train,y_pred_DTC_train):.04}')\n",
        "print('Matriz de confusión - TRAIN:')\n",
        "cm_dt = confusion_matrix(y_train.ravel(),y_pred_DTC_train)\n",
        "print(f'{cm_dt}')"
      ],
      "metadata": {
        "colab": {
          "base_uri": "https://localhost:8080/"
        },
        "id": "xOSEYR3XyqPU",
        "outputId": "4ca94fa1-eaa8-4cc3-b468-51c64b4f3c7d"
      },
      "execution_count": 130,
      "outputs": [
        {
          "output_type": "stream",
          "name": "stdout",
          "text": [
            "Accuracy - TRAIN: 1.0\n",
            "Precision - TRAIN: 1.0\n",
            "Recall - TRAIN: 1.0\n",
            "F1 - TRAIN: 1.0\n",
            "Matriz de confusión - TRAIN:\n",
            "[[1232    0]\n",
            " [   0  251]]\n"
          ]
        }
      ]
    },
    {
      "cell_type": "code",
      "source": [
        "ax = sns.heatmap(cm_dt, annot=True, fmt='d', annot_kws={'fontsize': 12}, cmap='Blues',cbar=False)\n",
        "ax.set_title('Confusion Matrix\\n');\n",
        "ax.set_xlabel('\\nPredicted Values')\n",
        "ax.set_ylabel('Actual Values');\n",
        "ax.xaxis.set_ticklabels(['Predicted 0','Predicted 1'])\n",
        "ax.yaxis.set_ticklabels(['Actual 0', 'Actual 1'])\n",
        "\n",
        "plt.show()"
      ],
      "metadata": {
        "colab": {
          "base_uri": "https://localhost:8080/",
          "height": 322
        },
        "id": "o4_2fAlng02p",
        "outputId": "a9cf3783-edac-436c-9de5-f544afdadbe1"
      },
      "execution_count": 131,
      "outputs": [
        {
          "output_type": "display_data",
          "data": {
            "text/plain": [
              "<Figure size 432x288 with 1 Axes>"
            ],
            "image/png": "[encoded data removed]"
          },
          "metadata": {
            "needs_background": "light"
          }
        }
      ]
    },
    {
      "cell_type": "code",
      "source": [
        "from sklearn.tree import plot_tree\n",
        "plt.figure(figsize=(20,10))\n",
        "plot_tree(DTC_model,filled=True,rounded=True,feature_names = X.columns)"
      ],
      "metadata": {
        "colab": {
          "base_uri": "https://localhost:8080/",
          "height": 1000
        },
        "id": "vTt7IDobzhN7",
        "outputId": "cb541699-8384-4c21-e3b4-981809e6fc15"
      },
      "execution_count": 132,
      "outputs": [
        {
          "output_type": "execute_result",
          "data": {
            "text/plain": [
              "[Text(0.8611260863882899, 0.9782608695652174, 'DEBTINC <= 43.681\\ngini = 0.281\\nsamples = 1483\\nvalue = [1232, 251]'),\n",
              " Text(0.7557096647716134, 0.9347826086956522, 'DELINQ <= 1.5\\ngini = 0.227\\nsamples = 1409\\nvalue = [1225, 184]'),\n",
              " Text(0.626429458276155, 0.8913043478260869, 'DEROG <= 1.5\\ngini = 0.189\\nsamples = 1313\\nvalue = [1174, 139]'),\n",
              " Text(0.4828791740181664, 0.8478260869565217, 'CLAGE <= 173.132\\ngini = 0.169\\nsamples = 1274\\nvalue = [1155, 119]'),\n",
              " Text(0.27524014899039406, 0.8043478260869565, 'VALUE <= 84241.5\\ngini = 0.249\\nsamples = 612\\nvalue = [523, 89]'),\n",
              " Text(0.16284388681957787, 0.7608695652173914, 'LOAN <= 16850.0\\ngini = 0.345\\nsamples = 257\\nvalue = [200, 57]'),\n",
              " Text(0.09148532967392015, 0.717391304347826, 'VALUE <= 50823.0\\ngini = 0.413\\nsamples = 168\\nvalue = [119, 49]'),\n",
              " Text(0.016728745997516826, 0.6739130434782609, 'CLAGE <= 69.725\\ngini = 0.499\\nsamples = 40\\nvalue = [21, 19]'),\n",
              " Text(0.008364372998758413, 0.6304347826086957, 'gini = 0.0\\nsamples = 10\\nvalue = [10, 0]'),\n",
              " Text(0.02509311899627524, 0.6304347826086957, 'LOAN <= 9700.0\\ngini = 0.464\\nsamples = 30\\nvalue = [11, 19]'),\n",
              " Text(0.016728745997516826, 0.5869565217391305, 'gini = 0.0\\nsamples = 13\\nvalue = [0, 13]'),\n",
              " Text(0.03345749199503365, 0.5869565217391305, 'CLAGE <= 123.703\\ngini = 0.457\\nsamples = 17\\nvalue = [11, 6]'),\n",
              " Text(0.02509311899627524, 0.5434782608695652, 'gini = 0.0\\nsamples = 10\\nvalue = [10, 0]'),\n",
              " Text(0.04182186499379207, 0.5434782608695652, 'MORTDUE <= 16958.5\\ngini = 0.245\\nsamples = 7\\nvalue = [1, 6]'),\n",
              " Text(0.03345749199503365, 0.5, 'gini = 0.0\\nsamples = 1\\nvalue = [1, 0]'),\n",
              " Text(0.05018623799255048, 0.5, 'gini = 0.0\\nsamples = 6\\nvalue = [0, 6]'),\n",
              " Text(0.16624191335032346, 0.6739130434782609, 'NINQ <= 4.0\\ngini = 0.359\\nsamples = 128\\nvalue = [98, 30]'),\n",
              " Text(0.14010324772920343, 0.6304347826086957, 'VALUE <= 82193.0\\ngini = 0.32\\nsamples = 120\\nvalue = [96, 24]'),\n",
              " Text(0.11291903548323858, 0.5869565217391305, 'YOJ <= 11.5\\ngini = 0.287\\nsamples = 115\\nvalue = [95, 20]'),\n",
              " Text(0.08364372998758414, 0.5434782608695652, 'CLAGE <= 82.263\\ngini = 0.225\\nsamples = 93\\nvalue = [81, 12]'),\n",
              " Text(0.0669149839900673, 0.5, 'LOAN <= 11050.0\\ngini = 0.48\\nsamples = 15\\nvalue = [9, 6]'),\n",
              " Text(0.05855061099130889, 0.45652173913043476, 'VALUE <= 77108.0\\ngini = 0.298\\nsamples = 11\\nvalue = [9, 2]'),\n",
              " Text(0.05018623799255048, 0.41304347826086957, 'VALUE <= 58440.0\\ngini = 0.18\\nsamples = 10\\nvalue = [9, 1]'),\n",
              " Text(0.04182186499379207, 0.3695652173913043, 'CLNO <= 16.0\\ngini = 0.5\\nsamples = 2\\nvalue = [1, 1]'),\n",
              " Text(0.03345749199503365, 0.32608695652173914, 'gini = 0.0\\nsamples = 1\\nvalue = [1, 0]'),\n",
              " Text(0.05018623799255048, 0.32608695652173914, 'gini = 0.0\\nsamples = 1\\nvalue = [0, 1]'),\n",
              " Text(0.05855061099130889, 0.3695652173913043, 'gini = 0.0\\nsamples = 8\\nvalue = [8, 0]'),\n",
              " Text(0.0669149839900673, 0.41304347826086957, 'gini = 0.0\\nsamples = 1\\nvalue = [0, 1]'),\n",
              " Text(0.07527935698882572, 0.45652173913043476, 'gini = 0.0\\nsamples = 4\\nvalue = [0, 4]'),\n",
              " Text(0.10037247598510096, 0.5, 'LOAN <= 10050.0\\ngini = 0.142\\nsamples = 78\\nvalue = [72, 6]'),\n",
              " Text(0.09200810298634254, 0.45652173913043476, 'MORTDUE <= 40475.5\\ngini = 0.266\\nsamples = 38\\nvalue = [32, 6]'),\n",
              " Text(0.08364372998758414, 0.41304347826086957, 'gini = 0.0\\nsamples = 1\\nvalue = [0, 1]'),\n",
              " Text(0.10037247598510096, 0.41304347826086957, 'CLNO <= 18.5\\ngini = 0.234\\nsamples = 37\\nvalue = [32, 5]'),\n",
              " Text(0.09200810298634254, 0.3695652173913043, 'gini = 0.0\\nsamples = 15\\nvalue = [15, 0]'),\n",
              " Text(0.10873684898385938, 0.3695652173913043, 'CLNO <= 21.5\\ngini = 0.351\\nsamples = 22\\nvalue = [17, 5]'),\n",
              " Text(0.09200810298634254, 0.32608695652173914, 'DEBTINC <= 37.903\\ngini = 0.494\\nsamples = 9\\nvalue = [5, 4]'),\n",
              " Text(0.08364372998758414, 0.2826086956521739, 'gini = 0.0\\nsamples = 4\\nvalue = [0, 4]'),\n",
              " Text(0.10037247598510096, 0.2826086956521739, 'gini = 0.0\\nsamples = 5\\nvalue = [5, 0]'),\n",
              " Text(0.1254655949813762, 0.32608695652173914, 'CLAGE <= 98.975\\ngini = 0.142\\nsamples = 13\\nvalue = [12, 1]'),\n",
              " Text(0.11710122198261778, 0.2826086956521739, 'DEBTINC <= 37.377\\ngini = 0.5\\nsamples = 2\\nvalue = [1, 1]'),\n",
              " Text(0.10873684898385938, 0.2391304347826087, 'gini = 0.0\\nsamples = 1\\nvalue = [0, 1]'),\n",
              " Text(0.1254655949813762, 0.2391304347826087, 'gini = 0.0\\nsamples = 1\\nvalue = [1, 0]'),\n",
              " Text(0.1338299679801346, 0.2826086956521739, 'gini = 0.0\\nsamples = 11\\nvalue = [11, 0]'),\n",
              " Text(0.10873684898385938, 0.45652173913043476, 'gini = 0.0\\nsamples = 40\\nvalue = [40, 0]'),\n",
              " Text(0.14219434097889302, 0.5434782608695652, 'LOAN <= 12100.0\\ngini = 0.463\\nsamples = 22\\nvalue = [14, 8]'),\n",
              " Text(0.1338299679801346, 0.5, 'YOJ <= 12.5\\ngini = 0.219\\nsamples = 16\\nvalue = [14, 2]'),\n",
              " Text(0.1254655949813762, 0.45652173913043476, 'gini = 0.0\\nsamples = 1\\nvalue = [0, 1]'),\n",
              " Text(0.14219434097889302, 0.45652173913043476, 'DEBTINC <= 30.076\\ngini = 0.124\\nsamples = 15\\nvalue = [14, 1]'),\n",
              " Text(0.1338299679801346, 0.41304347826086957, 'gini = 0.0\\nsamples = 1\\nvalue = [0, 1]'),\n",
              " Text(0.15055871397765144, 0.41304347826086957, 'gini = 0.0\\nsamples = 14\\nvalue = [14, 0]'),\n",
              " Text(0.15055871397765144, 0.5, 'gini = 0.0\\nsamples = 6\\nvalue = [0, 6]'),\n",
              " Text(0.16728745997516828, 0.5869565217391305, 'NINQ <= 0.5\\ngini = 0.32\\nsamples = 5\\nvalue = [1, 4]'),\n",
              " Text(0.15892308697640986, 0.5434782608695652, 'gini = 0.0\\nsamples = 4\\nvalue = [0, 4]'),\n",
              " Text(0.17565183297392667, 0.5434782608695652, 'gini = 0.0\\nsamples = 1\\nvalue = [1, 0]'),\n",
              " Text(0.1923805789714435, 0.6304347826086957, 'DEBTINC <= 32.558\\ngini = 0.375\\nsamples = 8\\nvalue = [2, 6]'),\n",
              " Text(0.1840162059726851, 0.5869565217391305, 'gini = 0.0\\nsamples = 2\\nvalue = [2, 0]'),\n",
              " Text(0.20074495197020192, 0.5869565217391305, 'gini = 0.0\\nsamples = 6\\nvalue = [0, 6]'),\n",
              " Text(0.23420244396523557, 0.717391304347826, 'CLAGE <= 64.167\\ngini = 0.164\\nsamples = 89\\nvalue = [81, 8]'),\n",
              " Text(0.21747369796771876, 0.6739130434782609, 'VALUE <= 55356.5\\ngini = 0.444\\nsamples = 15\\nvalue = [10, 5]'),\n",
              " Text(0.20910932496896034, 0.6304347826086957, 'gini = 0.0\\nsamples = 8\\nvalue = [8, 0]'),\n",
              " Text(0.22583807096647715, 0.6304347826086957, 'CLNO <= 14.0\\ngini = 0.408\\nsamples = 7\\nvalue = [2, 5]'),\n",
              " Text(0.21747369796771876, 0.5869565217391305, 'gini = 0.0\\nsamples = 4\\nvalue = [0, 4]'),\n",
              " Text(0.23420244396523557, 0.5869565217391305, 'VALUE <= 73259.0\\ngini = 0.444\\nsamples = 3\\nvalue = [2, 1]'),\n",
              " Text(0.22583807096647715, 0.5434782608695652, 'gini = 0.0\\nsamples = 2\\nvalue = [2, 0]'),\n",
              " Text(0.242566816963994, 0.5434782608695652, 'gini = 0.0\\nsamples = 1\\nvalue = [0, 1]'),\n",
              " Text(0.2509311899627524, 0.6739130434782609, 'LOAN <= 25800.0\\ngini = 0.078\\nsamples = 74\\nvalue = [71, 3]'),\n",
              " Text(0.242566816963994, 0.6304347826086957, 'gini = 0.0\\nsamples = 47\\nvalue = [47, 0]'),\n",
              " Text(0.2592955629615108, 0.6304347826086957, 'LOAN <= 26500.0\\ngini = 0.198\\nsamples = 27\\nvalue = [24, 3]'),\n",
              " Text(0.2509311899627524, 0.5869565217391305, 'gini = 0.0\\nsamples = 2\\nvalue = [0, 2]'),\n",
              " Text(0.2676599359602692, 0.5869565217391305, 'VALUE <= 80511.5\\ngini = 0.077\\nsamples = 25\\nvalue = [24, 1]'),\n",
              " Text(0.2592955629615108, 0.5434782608695652, 'gini = 0.0\\nsamples = 23\\nvalue = [23, 0]'),\n",
              " Text(0.27602430895902763, 0.5434782608695652, 'LOAN <= 29550.0\\ngini = 0.5\\nsamples = 2\\nvalue = [1, 1]'),\n",
              " Text(0.2676599359602692, 0.5, 'gini = 0.0\\nsamples = 1\\nvalue = [1, 0]'),\n",
              " Text(0.28438868195778605, 0.5, 'gini = 0.0\\nsamples = 1\\nvalue = [0, 1]'),\n",
              " Text(0.3876364111612102, 0.7608695652173914, 'CLAGE <= 62.536\\ngini = 0.164\\nsamples = 355\\nvalue = [323, 32]'),\n",
              " Text(0.3667254786643142, 0.717391304347826, 'YOJ <= 9.5\\ngini = 0.278\\nsamples = 6\\nvalue = [1, 5]'),\n",
              " Text(0.3583611056655558, 0.6739130434782609, 'gini = 0.0\\nsamples = 5\\nvalue = [0, 5]'),\n",
              " Text(0.3750898516630726, 0.6739130434782609, 'gini = 0.0\\nsamples = 1\\nvalue = [1, 0]'),\n",
              " Text(0.40854734365810624, 0.717391304347826, 'MORTDUE <= 197091.0\\ngini = 0.143\\nsamples = 349\\nvalue = [322, 27]'),\n",
              " Text(0.3918185976605894, 0.6739130434782609, 'CLNO <= 36.5\\ngini = 0.129\\nsamples = 345\\nvalue = [321, 24]'),\n",
              " Text(0.383454224661831, 0.6304347826086957, 'LOAN <= 7650.0\\ngini = 0.12\\nsamples = 343\\nvalue = [321, 22]'),\n",
              " Text(0.3178461739528197, 0.5869565217391305, 'DEBTINC <= 40.264\\ngini = 0.426\\nsamples = 13\\nvalue = [9, 4]'),\n",
              " Text(0.3094818009540613, 0.5434782608695652, 'MORTDUE <= 64312.0\\ngini = 0.298\\nsamples = 11\\nvalue = [9, 2]'),\n",
              " Text(0.3011174279553029, 0.5, 'gini = 0.0\\nsamples = 1\\nvalue = [0, 1]'),\n",
              " Text(0.3178461739528197, 0.5, 'VALUE <= 120473.5\\ngini = 0.18\\nsamples = 10\\nvalue = [9, 1]'),\n",
              " Text(0.3094818009540613, 0.45652173913043476, 'gini = 0.0\\nsamples = 9\\nvalue = [9, 0]'),\n",
              " Text(0.32621054695157814, 0.45652173913043476, 'gini = 0.0\\nsamples = 1\\nvalue = [0, 1]'),\n",
              " Text(0.32621054695157814, 0.5434782608695652, 'gini = 0.0\\nsamples = 2\\nvalue = [0, 2]'),\n",
              " Text(0.4490622753708423, 0.5869565217391305, 'MORTDUE <= 116215.0\\ngini = 0.103\\nsamples = 330\\nvalue = [312, 18]'),\n",
              " Text(0.40880873031431747, 0.5434782608695652, 'DEBTINC <= 42.24\\ngini = 0.073\\nsamples = 291\\nvalue = [280, 11]'),\n",
              " Text(0.3784878781938182, 0.5, 'DEROG <= 0.5\\ngini = 0.061\\nsamples = 286\\nvalue = [277, 9]'),\n",
              " Text(0.342939292949095, 0.45652173913043476, 'DEBTINC <= 19.78\\ngini = 0.043\\nsamples = 272\\nvalue = [266, 6]'),\n",
              " Text(0.3220283604521989, 0.41304347826086957, 'CLNO <= 15.5\\ngini = 0.5\\nsamples = 2\\nvalue = [1, 1]'),\n",
              " Text(0.3136639874534405, 0.3695652173913043, 'gini = 0.0\\nsamples = 1\\nvalue = [1, 0]'),\n",
              " Text(0.3303927334509573, 0.3695652173913043, 'gini = 0.0\\nsamples = 1\\nvalue = [0, 1]'),\n",
              " Text(0.363850225445991, 0.41304347826086957, 'CLNO <= 35.5\\ngini = 0.036\\nsamples = 270\\nvalue = [265, 5]'),\n",
              " Text(0.34712147944847416, 0.3695652173913043, 'DEBTINC <= 36.037\\ngini = 0.03\\nsamples = 267\\nvalue = [263, 4]'),\n",
              " Text(0.33875710644971574, 0.32608695652173914, 'gini = 0.0\\nsamples = 167\\nvalue = [167, 0]'),\n",
              " Text(0.3554858524472326, 0.32608695652173914, 'DEBTINC <= 36.054\\ngini = 0.077\\nsamples = 100\\nvalue = [96, 4]'),\n",
              " Text(0.34712147944847416, 0.2826086956521739, 'gini = 0.0\\nsamples = 1\\nvalue = [0, 1]'),\n",
              " Text(0.363850225445991, 0.2826086956521739, 'YOJ <= 17.5\\ngini = 0.059\\nsamples = 99\\nvalue = [96, 3]'),\n",
              " Text(0.34712147944847416, 0.2391304347826087, 'YOJ <= 3.5\\ngini = 0.042\\nsamples = 94\\nvalue = [92, 2]'),\n",
              " Text(0.33875710644971574, 0.1956521739130435, 'YOJ <= 2.5\\ngini = 0.124\\nsamples = 30\\nvalue = [28, 2]'),\n",
              " Text(0.3303927334509573, 0.15217391304347827, 'gini = 0.0\\nsamples = 19\\nvalue = [19, 0]'),\n",
              " Text(0.34712147944847416, 0.15217391304347827, 'MORTDUE <= 92975.5\\ngini = 0.298\\nsamples = 11\\nvalue = [9, 2]'),\n",
              " Text(0.33875710644971574, 0.10869565217391304, 'CLAGE <= 88.205\\ngini = 0.18\\nsamples = 10\\nvalue = [9, 1]'),\n",
              " Text(0.3303927334509573, 0.06521739130434782, 'NINQ <= 1.0\\ngini = 0.444\\nsamples = 3\\nvalue = [2, 1]'),\n",
              " Text(0.3220283604521989, 0.021739130434782608, 'gini = 0.0\\nsamples = 1\\nvalue = [0, 1]'),\n",
              " Text(0.33875710644971574, 0.021739130434782608, 'gini = 0.0\\nsamples = 2\\nvalue = [2, 0]'),\n",
              " Text(0.34712147944847416, 0.06521739130434782, 'gini = 0.0\\nsamples = 7\\nvalue = [7, 0]'),\n",
              " Text(0.3554858524472326, 0.10869565217391304, 'gini = 0.0\\nsamples = 1\\nvalue = [0, 1]'),\n",
              " Text(0.3554858524472326, 0.1956521739130435, 'gini = 0.0\\nsamples = 64\\nvalue = [64, 0]'),\n",
              " Text(0.38057897144350783, 0.2391304347826087, 'DELINQ <= 0.5\\ngini = 0.32\\nsamples = 5\\nvalue = [4, 1]'),\n",
              " Text(0.3722145984447494, 0.1956521739130435, 'gini = 0.0\\nsamples = 4\\nvalue = [4, 0]'),\n",
              " Text(0.38894334444226625, 0.1956521739130435, 'gini = 0.0\\nsamples = 1\\nvalue = [0, 1]'),\n",
              " Text(0.38057897144350783, 0.3695652173913043, 'LOAN <= 23300.0\\ngini = 0.444\\nsamples = 3\\nvalue = [2, 1]'),\n",
              " Text(0.3722145984447494, 0.32608695652173914, 'gini = 0.0\\nsamples = 1\\nvalue = [0, 1]'),\n",
              " Text(0.38894334444226625, 0.32608695652173914, 'gini = 0.0\\nsamples = 2\\nvalue = [2, 0]'),\n",
              " Text(0.41403646343854145, 0.45652173913043476, 'CLNO <= 23.0\\ngini = 0.337\\nsamples = 14\\nvalue = [11, 3]'),\n",
              " Text(0.40567209043978303, 0.41304347826086957, 'YOJ <= 2.5\\ngini = 0.48\\nsamples = 5\\nvalue = [2, 3]'),\n",
              " Text(0.3973077174410246, 0.3695652173913043, 'gini = 0.0\\nsamples = 2\\nvalue = [2, 0]'),\n",
              " Text(0.41403646343854145, 0.3695652173913043, 'gini = 0.0\\nsamples = 3\\nvalue = [0, 3]'),\n",
              " Text(0.42240083643729986, 0.41304347826086957, 'gini = 0.0\\nsamples = 9\\nvalue = [9, 0]'),\n",
              " Text(0.4391295824348167, 0.5, 'VALUE <= 116081.5\\ngini = 0.48\\nsamples = 5\\nvalue = [3, 2]'),\n",
              " Text(0.4307652094360583, 0.45652173913043476, 'gini = 0.0\\nsamples = 2\\nvalue = [0, 2]'),\n",
              " Text(0.4474939554335751, 0.45652173913043476, 'gini = 0.0\\nsamples = 3\\nvalue = [3, 0]'),\n",
              " Text(0.4893158204273672, 0.5434782608695652, 'VALUE <= 166063.0\\ngini = 0.295\\nsamples = 39\\nvalue = [32, 7]'),\n",
              " Text(0.4725870744298504, 0.5, 'DEBTINC <= 34.647\\ngini = 0.5\\nsamples = 12\\nvalue = [6, 6]'),\n",
              " Text(0.46422270143109196, 0.45652173913043476, 'CLNO <= 17.0\\ngini = 0.375\\nsamples = 8\\nvalue = [6, 2]'),\n",
              " Text(0.45585832843233354, 0.41304347826086957, 'gini = 0.0\\nsamples = 2\\nvalue = [0, 2]'),\n",
              " Text(0.4725870744298504, 0.41304347826086957, 'gini = 0.0\\nsamples = 6\\nvalue = [6, 0]'),\n",
              " Text(0.4809514474286088, 0.45652173913043476, 'gini = 0.0\\nsamples = 4\\nvalue = [0, 4]'),\n",
              " Text(0.506044566424884, 0.5, 'NINQ <= 4.0\\ngini = 0.071\\nsamples = 27\\nvalue = [26, 1]'),\n",
              " Text(0.49768019342612557, 0.45652173913043476, 'gini = 0.0\\nsamples = 26\\nvalue = [26, 0]'),\n",
              " Text(0.5144089394236424, 0.45652173913043476, 'gini = 0.0\\nsamples = 1\\nvalue = [0, 1]'),\n",
              " Text(0.4001829706593478, 0.6304347826086957, 'gini = 0.0\\nsamples = 2\\nvalue = [0, 2]'),\n",
              " Text(0.4252760896556231, 0.6739130434782609, 'CLAGE <= 135.13\\ngini = 0.375\\nsamples = 4\\nvalue = [1, 3]'),\n",
              " Text(0.41691171665686466, 0.6304347826086957, 'gini = 0.0\\nsamples = 1\\nvalue = [1, 0]'),\n",
              " Text(0.4336404626543815, 0.6304347826086957, 'gini = 0.0\\nsamples = 3\\nvalue = [0, 3]'),\n",
              " Text(0.6905181990459387, 0.8043478260869565, 'DEBTINC <= 12.867\\ngini = 0.087\\nsamples = 662\\nvalue = [632, 30]'),\n",
              " Text(0.6821538260471803, 0.7608695652173914, 'gini = 0.0\\nsamples = 2\\nvalue = [0, 2]'),\n",
              " Text(0.6988825720446972, 0.7608695652173914, 'CLAGE <= 898.665\\ngini = 0.081\\nsamples = 660\\nvalue = [632, 28]'),\n",
              " Text(0.6905181990459387, 0.717391304347826, 'VALUE <= 492238.5\\ngini = 0.079\\nsamples = 659\\nvalue = [632, 27]'),\n",
              " Text(0.6821538260471803, 0.6739130434782609, 'DELINQ <= 0.5\\ngini = 0.076\\nsamples = 658\\nvalue = [632, 26]'),\n",
              " Text(0.5853754165849834, 0.6304347826086957, 'VALUE <= 47415.0\\ngini = 0.059\\nsamples = 587\\nvalue = [569, 18]'),\n",
              " Text(0.5227733124224009, 0.5869565217391305, 'MORTDUE <= 30098.5\\ngini = 0.278\\nsamples = 18\\nvalue = [15, 3]'),\n",
              " Text(0.5144089394236424, 0.5434782608695652, 'gini = 0.0\\nsamples = 14\\nvalue = [14, 0]'),\n",
              " Text(0.5311376854211592, 0.5434782608695652, 'LOAN <= 7000.0\\ngini = 0.375\\nsamples = 4\\nvalue = [1, 3]'),\n",
              " Text(0.5227733124224009, 0.5, 'gini = 0.0\\nsamples = 1\\nvalue = [1, 0]'),\n",
              " Text(0.5395020584199177, 0.5, 'gini = 0.0\\nsamples = 3\\nvalue = [0, 3]'),\n",
              " Text(0.6479775207475659, 0.5869565217391305, 'CLNO <= 39.0\\ngini = 0.051\\nsamples = 569\\nvalue = [554, 15]'),\n",
              " Text(0.6006665359733385, 0.5434782608695652, 'MORTDUE <= 159932.5\\ngini = 0.04\\nsamples = 533\\nvalue = [522, 11]'),\n",
              " Text(0.5562308044174344, 0.5, 'LOAN <= 18550.0\\ngini = 0.027\\nsamples = 503\\nvalue = [496, 7]'),\n",
              " Text(0.532183232046004, 0.45652173913043476, 'LOAN <= 6800.0\\ngini = 0.007\\nsamples = 273\\nvalue = [272, 1]'),\n",
              " Text(0.5238188590472457, 0.41304347826086957, 'YOJ <= 5.5\\ngini = 0.153\\nsamples = 12\\nvalue = [11, 1]'),\n",
              " Text(0.5154544860484872, 0.3695652173913043, 'LOAN <= 6450.0\\ngini = 0.5\\nsamples = 2\\nvalue = [1, 1]'),\n",
              " Text(0.5070901130497288, 0.32608695652173914, 'gini = 0.0\\nsamples = 1\\nvalue = [1, 0]'),\n",
              " Text(0.5238188590472457, 0.32608695652173914, 'gini = 0.0\\nsamples = 1\\nvalue = [0, 1]'),\n",
              " Text(0.532183232046004, 0.3695652173913043, 'gini = 0.0\\nsamples = 10\\nvalue = [10, 0]'),\n",
              " Text(0.5405476050447625, 0.41304347826086957, 'gini = 0.0\\nsamples = 261\\nvalue = [261, 0]'),\n",
              " Text(0.580278376788865, 0.45652173913043476, 'VALUE <= 63249.0\\ngini = 0.051\\nsamples = 230\\nvalue = [224, 6]'),\n",
              " Text(0.5572763510422792, 0.41304347826086957, 'LOAN <= 26000.0\\ngini = 0.346\\nsamples = 9\\nvalue = [7, 2]'),\n",
              " Text(0.5489119780435209, 0.3695652173913043, 'NINQ <= 0.5\\ngini = 0.444\\nsamples = 3\\nvalue = [1, 2]'),\n",
              " Text(0.5405476050447625, 0.32608695652173914, 'gini = 0.0\\nsamples = 2\\nvalue = [0, 2]'),\n",
              " Text(0.5572763510422792, 0.32608695652173914, 'gini = 0.0\\nsamples = 1\\nvalue = [1, 0]'),\n",
              " Text(0.5656407240410377, 0.3695652173913043, 'gini = 0.0\\nsamples = 6\\nvalue = [6, 0]'),\n",
              " Text(0.6032804025354506, 0.41304347826086957, 'LOAN <= 18650.0\\ngini = 0.036\\nsamples = 221\\nvalue = [217, 4]'),\n",
              " Text(0.5823694700385545, 0.3695652173913043, 'CLNO <= 19.0\\ngini = 0.444\\nsamples = 3\\nvalue = [2, 1]'),\n",
              " Text(0.5740050970397961, 0.32608695652173914, 'gini = 0.0\\nsamples = 2\\nvalue = [2, 0]'),\n",
              " Text(0.5907338430373129, 0.32608695652173914, 'gini = 0.0\\nsamples = 1\\nvalue = [0, 1]'),\n",
              " Text(0.6241913350323466, 0.3695652173913043, 'CLNO <= 34.5\\ngini = 0.027\\nsamples = 218\\nvalue = [215, 3]'),\n",
              " Text(0.6074625890348297, 0.32608695652173914, 'CLNO <= 14.5\\ngini = 0.01\\nsamples = 200\\nvalue = [199, 1]'),\n",
              " Text(0.5990982160360714, 0.2826086956521739, 'CLNO <= 13.5\\ngini = 0.105\\nsamples = 18\\nvalue = [17, 1]'),\n",
              " Text(0.5907338430373129, 0.2391304347826087, 'gini = 0.0\\nsamples = 17\\nvalue = [17, 0]'),\n",
              " Text(0.6074625890348297, 0.2391304347826087, 'gini = 0.0\\nsamples = 1\\nvalue = [0, 1]'),\n",
              " Text(0.6158269620335882, 0.2826086956521739, 'gini = 0.0\\nsamples = 182\\nvalue = [182, 0]'),\n",
              " Text(0.6409200810298634, 0.32608695652173914, 'CLAGE <= 252.413\\ngini = 0.198\\nsamples = 18\\nvalue = [16, 2]'),\n",
              " Text(0.6325557080311051, 0.2826086956521739, 'gini = 0.0\\nsamples = 14\\nvalue = [14, 0]'),\n",
              " Text(0.6492844540286219, 0.2826086956521739, 'DEBTINC <= 37.102\\ngini = 0.5\\nsamples = 4\\nvalue = [2, 2]'),\n",
              " Text(0.6409200810298634, 0.2391304347826087, 'gini = 0.0\\nsamples = 2\\nvalue = [0, 2]'),\n",
              " Text(0.6576488270273803, 0.2391304347826087, 'gini = 0.0\\nsamples = 2\\nvalue = [2, 0]'),\n",
              " Text(0.6451022675292426, 0.5, 'VALUE <= 227322.5\\ngini = 0.231\\nsamples = 30\\nvalue = [26, 4]'),\n",
              " Text(0.6283735215317258, 0.45652173913043476, 'DEBTINC <= 28.323\\ngini = 0.5\\nsamples = 6\\nvalue = [3, 3]'),\n",
              " Text(0.6200091485329674, 0.41304347826086957, 'gini = 0.0\\nsamples = 3\\nvalue = [3, 0]'),\n",
              " Text(0.6367378945304842, 0.41304347826086957, 'gini = 0.0\\nsamples = 3\\nvalue = [0, 3]'),\n",
              " Text(0.6618310135267594, 0.45652173913043476, 'DEBTINC <= 43.023\\ngini = 0.08\\nsamples = 24\\nvalue = [23, 1]'),\n",
              " Text(0.6534666405280011, 0.41304347826086957, 'gini = 0.0\\nsamples = 23\\nvalue = [23, 0]'),\n",
              " Text(0.6701953865255179, 0.41304347826086957, 'gini = 0.0\\nsamples = 1\\nvalue = [0, 1]'),\n",
              " Text(0.6952885055217931, 0.5434782608695652, 'DEBTINC <= 25.441\\ngini = 0.198\\nsamples = 36\\nvalue = [32, 4]'),\n",
              " Text(0.6869241325230347, 0.5, 'gini = 0.0\\nsamples = 1\\nvalue = [0, 1]'),\n",
              " Text(0.7036528785205515, 0.5, 'YOJ <= 25.5\\ngini = 0.157\\nsamples = 35\\nvalue = [32, 3]'),\n",
              " Text(0.6952885055217931, 0.45652173913043476, 'LOAN <= 26900.0\\ngini = 0.111\\nsamples = 34\\nvalue = [32, 2]'),\n",
              " Text(0.6869241325230347, 0.41304347826086957, 'gini = 0.0\\nsamples = 30\\nvalue = [30, 0]'),\n",
              " Text(0.7036528785205515, 0.41304347826086957, 'CLNO <= 41.5\\ngini = 0.5\\nsamples = 4\\nvalue = [2, 2]'),\n",
              " Text(0.6952885055217931, 0.3695652173913043, 'gini = 0.0\\nsamples = 2\\nvalue = [2, 0]'),\n",
              " Text(0.71201725151931, 0.3695652173913043, 'gini = 0.0\\nsamples = 2\\nvalue = [0, 2]'),\n",
              " Text(0.71201725151931, 0.45652173913043476, 'gini = 0.0\\nsamples = 1\\nvalue = [0, 1]'),\n",
              " Text(0.7789322355093773, 0.6304347826086957, 'DEBTINC <= 43.153\\ngini = 0.2\\nsamples = 71\\nvalue = [63, 8]'),\n",
              " Text(0.7705678625106188, 0.5869565217391305, 'DEROG <= 0.5\\ngini = 0.18\\nsamples = 70\\nvalue = [63, 7]'),\n",
              " Text(0.753839116513102, 0.5434782608695652, 'DEBTINC <= 35.745\\ngini = 0.144\\nsamples = 64\\nvalue = [59, 5]'),\n",
              " Text(0.7454747435143436, 0.5, 'DEBTINC <= 34.596\\ngini = 0.251\\nsamples = 34\\nvalue = [29, 5]'),\n",
              " Text(0.7371103705155851, 0.45652173913043476, 'VALUE <= 45633.5\\ngini = 0.17\\nsamples = 32\\nvalue = [29, 3]'),\n",
              " Text(0.7287459975168268, 0.41304347826086957, 'gini = 0.0\\nsamples = 1\\nvalue = [0, 1]'),\n",
              " Text(0.7454747435143436, 0.41304347826086957, 'DEBTINC <= 22.709\\ngini = 0.121\\nsamples = 31\\nvalue = [29, 2]'),\n",
              " Text(0.7287459975168268, 0.3695652173913043, 'CLAGE <= 207.68\\ngini = 0.375\\nsamples = 4\\nvalue = [3, 1]'),\n",
              " Text(0.7203816245180683, 0.32608695652173914, 'gini = 0.0\\nsamples = 1\\nvalue = [0, 1]'),\n",
              " Text(0.7371103705155851, 0.32608695652173914, 'gini = 0.0\\nsamples = 3\\nvalue = [3, 0]'),\n",
              " Text(0.7622034895118605, 0.3695652173913043, 'CLNO <= 31.5\\ngini = 0.071\\nsamples = 27\\nvalue = [26, 1]'),\n",
              " Text(0.753839116513102, 0.32608695652173914, 'gini = 0.0\\nsamples = 23\\nvalue = [23, 0]'),\n",
              " Text(0.7705678625106188, 0.32608695652173914, 'CLAGE <= 252.213\\ngini = 0.375\\nsamples = 4\\nvalue = [3, 1]'),\n",
              " Text(0.7622034895118605, 0.2826086956521739, 'gini = 0.0\\nsamples = 1\\nvalue = [0, 1]'),\n",
              " Text(0.7789322355093773, 0.2826086956521739, 'gini = 0.0\\nsamples = 3\\nvalue = [3, 0]'),\n",
              " Text(0.753839116513102, 0.45652173913043476, 'gini = 0.0\\nsamples = 2\\nvalue = [0, 2]'),\n",
              " Text(0.7622034895118605, 0.5, 'gini = 0.0\\nsamples = 30\\nvalue = [30, 0]'),\n",
              " Text(0.7872966085081357, 0.5434782608695652, 'DEBTINC <= 34.343\\ngini = 0.444\\nsamples = 6\\nvalue = [4, 2]'),\n",
              " Text(0.7789322355093773, 0.5, 'gini = 0.0\\nsamples = 4\\nvalue = [4, 0]'),\n",
              " Text(0.7956609815068941, 0.5, 'gini = 0.0\\nsamples = 2\\nvalue = [0, 2]'),\n",
              " Text(0.7872966085081357, 0.5869565217391305, 'gini = 0.0\\nsamples = 1\\nvalue = [0, 1]'),\n",
              " Text(0.6988825720446972, 0.6739130434782609, 'gini = 0.0\\nsamples = 1\\nvalue = [0, 1]'),\n",
              " Text(0.7072469450434555, 0.717391304347826, 'gini = 0.0\\nsamples = 1\\nvalue = [0, 1]'),\n",
              " Text(0.7699797425341436, 0.8478260869565217, 'CLAGE <= 179.345\\ngini = 0.5\\nsamples = 39\\nvalue = [19, 20]'),\n",
              " Text(0.7490688100372476, 0.8043478260869565, 'LOAN <= 16950.0\\ngini = 0.426\\nsamples = 26\\nvalue = [8, 18]'),\n",
              " Text(0.7323400640397307, 0.7608695652173914, 'MORTDUE <= 61826.0\\ngini = 0.486\\nsamples = 12\\nvalue = [7, 5]'),\n",
              " Text(0.7239756910409724, 0.717391304347826, 'gini = 0.0\\nsamples = 5\\nvalue = [0, 5]'),\n",
              " Text(0.7407044370384892, 0.717391304347826, 'gini = 0.0\\nsamples = 7\\nvalue = [7, 0]'),\n",
              " Text(0.7657975560347644, 0.7608695652173914, 'MORTDUE <= 103516.0\\ngini = 0.133\\nsamples = 14\\nvalue = [1, 13]'),\n",
              " Text(0.757433183036006, 0.717391304347826, 'gini = 0.0\\nsamples = 12\\nvalue = [0, 12]'),\n",
              " Text(0.7741619290335229, 0.717391304347826, 'DEROG <= 2.5\\ngini = 0.5\\nsamples = 2\\nvalue = [1, 1]'),\n",
              " Text(0.7657975560347644, 0.6739130434782609, 'gini = 0.0\\nsamples = 1\\nvalue = [1, 0]'),\n",
              " Text(0.7825263020322812, 0.6739130434782609, 'gini = 0.0\\nsamples = 1\\nvalue = [0, 1]'),\n",
              " Text(0.7908906750310397, 0.8043478260869565, 'YOJ <= 1.5\\ngini = 0.26\\nsamples = 13\\nvalue = [11, 2]'),\n",
              " Text(0.7825263020322812, 0.7608695652173914, 'gini = 0.0\\nsamples = 1\\nvalue = [0, 1]'),\n",
              " Text(0.7992550480297981, 0.7608695652173914, 'CLAGE <= 349.751\\ngini = 0.153\\nsamples = 12\\nvalue = [11, 1]'),\n",
              " Text(0.7908906750310397, 0.717391304347826, 'gini = 0.0\\nsamples = 11\\nvalue = [11, 0]'),\n",
              " Text(0.8076194210285564, 0.717391304347826, 'gini = 0.0\\nsamples = 1\\nvalue = [0, 1]'),\n",
              " Text(0.8849898712670718, 0.8913043478260869, 'DELINQ <= 3.5\\ngini = 0.498\\nsamples = 96\\nvalue = [51, 45]'),\n",
              " Text(0.8619878455204861, 0.8478260869565217, 'VALUE <= 152376.0\\ngini = 0.463\\nsamples = 77\\nvalue = [49, 28]'),\n",
              " Text(0.8536234725217278, 0.8043478260869565, 'CLAGE <= 153.816\\ngini = 0.435\\nsamples = 72\\nvalue = [49, 23]'),\n",
              " Text(0.8327125400248317, 0.7608695652173914, 'YOJ <= 4.5\\ngini = 0.499\\nsamples = 25\\nvalue = [12, 13]'),\n",
              " Text(0.8243481670260733, 0.717391304347826, 'VALUE <= 126349.5\\ngini = 0.32\\nsamples = 15\\nvalue = [12, 3]'),\n",
              " Text(0.8159837940273149, 0.6739130434782609, 'CLAGE <= 29.293\\ngini = 0.142\\nsamples = 13\\nvalue = [12, 1]'),\n",
              " Text(0.8076194210285564, 0.6304347826086957, 'gini = 0.0\\nsamples = 1\\nvalue = [0, 1]'),\n",
              " Text(0.8243481670260733, 0.6304347826086957, 'gini = 0.0\\nsamples = 12\\nvalue = [12, 0]'),\n",
              " Text(0.8327125400248317, 0.6739130434782609, 'gini = 0.0\\nsamples = 2\\nvalue = [0, 2]'),\n",
              " Text(0.8410769130235901, 0.717391304347826, 'gini = 0.0\\nsamples = 10\\nvalue = [0, 10]'),\n",
              " Text(0.8745344050186238, 0.7608695652173914, 'YOJ <= 8.0\\ngini = 0.335\\nsamples = 47\\nvalue = [37, 10]'),\n",
              " Text(0.857805659021107, 0.717391304347826, 'CLAGE <= 206.87\\ngini = 0.488\\nsamples = 19\\nvalue = [11, 8]'),\n",
              " Text(0.8494412860223486, 0.6739130434782609, 'MORTDUE <= 40302.0\\ngini = 0.391\\nsamples = 15\\nvalue = [11, 4]'),\n",
              " Text(0.8410769130235901, 0.6304347826086957, 'gini = 0.0\\nsamples = 2\\nvalue = [0, 2]'),\n",
              " Text(0.857805659021107, 0.6304347826086957, 'YOJ <= 6.5\\ngini = 0.26\\nsamples = 13\\nvalue = [11, 2]'),\n",
              " Text(0.8494412860223486, 0.5869565217391305, 'gini = 0.0\\nsamples = 10\\nvalue = [10, 0]'),\n",
              " Text(0.8661700320198654, 0.5869565217391305, 'CLAGE <= 171.848\\ngini = 0.444\\nsamples = 3\\nvalue = [1, 2]'),\n",
              " Text(0.857805659021107, 0.5434782608695652, 'gini = 0.0\\nsamples = 1\\nvalue = [1, 0]'),\n",
              " Text(0.8745344050186238, 0.5434782608695652, 'gini = 0.0\\nsamples = 2\\nvalue = [0, 2]'),\n",
              " Text(0.8661700320198654, 0.6739130434782609, 'gini = 0.0\\nsamples = 4\\nvalue = [0, 4]'),\n",
              " Text(0.8912631510161406, 0.717391304347826, 'LOAN <= 27950.0\\ngini = 0.133\\nsamples = 28\\nvalue = [26, 2]'),\n",
              " Text(0.8828987780173823, 0.6739130434782609, 'LOAN <= 23950.0\\ngini = 0.071\\nsamples = 27\\nvalue = [26, 1]'),\n",
              " Text(0.8745344050186238, 0.6304347826086957, 'gini = 0.0\\nsamples = 24\\nvalue = [24, 0]'),\n",
              " Text(0.8912631510161406, 0.6304347826086957, 'LOAN <= 26400.0\\ngini = 0.444\\nsamples = 3\\nvalue = [2, 1]'),\n",
              " Text(0.8828987780173823, 0.5869565217391305, 'gini = 0.0\\nsamples = 1\\nvalue = [0, 1]'),\n",
              " Text(0.8996275240148991, 0.5869565217391305, 'gini = 0.0\\nsamples = 2\\nvalue = [2, 0]'),\n",
              " Text(0.8996275240148991, 0.6739130434782609, 'gini = 0.0\\nsamples = 1\\nvalue = [0, 1]'),\n",
              " Text(0.8703522185192446, 0.8043478260869565, 'gini = 0.0\\nsamples = 5\\nvalue = [0, 5]'),\n",
              " Text(0.9079918970136575, 0.8478260869565217, 'VALUE <= 66953.5\\ngini = 0.188\\nsamples = 19\\nvalue = [2, 17]'),\n",
              " Text(0.8996275240148991, 0.8043478260869565, 'MORTDUE <= 32655.5\\ngini = 0.444\\nsamples = 3\\nvalue = [2, 1]'),\n",
              " Text(0.8912631510161406, 0.7608695652173914, 'gini = 0.0\\nsamples = 1\\nvalue = [0, 1]'),\n",
              " Text(0.9079918970136575, 0.7608695652173914, 'gini = 0.0\\nsamples = 2\\nvalue = [2, 0]'),\n",
              " Text(0.9163562700124158, 0.8043478260869565, 'gini = 0.0\\nsamples = 16\\nvalue = [0, 16]'),\n",
              " Text(0.9665425080049663, 0.9347826086956522, 'CLAGE <= 299.897\\ngini = 0.171\\nsamples = 74\\nvalue = [7, 67]'),\n",
              " Text(0.9498137620074495, 0.8913043478260869, 'DEBTINC <= 44.155\\ngini = 0.108\\nsamples = 70\\nvalue = [4, 66]'),\n",
              " Text(0.9414493890086911, 0.8478260869565217, 'CLNO <= 19.5\\ngini = 0.48\\nsamples = 10\\nvalue = [4, 6]'),\n",
              " Text(0.9330850160099327, 0.8043478260869565, 'gini = 0.0\\nsamples = 3\\nvalue = [3, 0]'),\n",
              " Text(0.9498137620074495, 0.8043478260869565, 'CLNO <= 31.5\\ngini = 0.245\\nsamples = 7\\nvalue = [1, 6]'),\n",
              " Text(0.9414493890086911, 0.7608695652173914, 'gini = 0.0\\nsamples = 5\\nvalue = [0, 5]'),\n",
              " Text(0.958178135006208, 0.7608695652173914, 'YOJ <= 7.5\\ngini = 0.5\\nsamples = 2\\nvalue = [1, 1]'),\n",
              " Text(0.9498137620074495, 0.717391304347826, 'gini = 0.0\\nsamples = 1\\nvalue = [0, 1]'),\n",
              " Text(0.9665425080049663, 0.717391304347826, 'gini = 0.0\\nsamples = 1\\nvalue = [1, 0]'),\n",
              " Text(0.958178135006208, 0.8478260869565217, 'gini = 0.0\\nsamples = 60\\nvalue = [0, 60]'),\n",
              " Text(0.9832712540024832, 0.8913043478260869, 'CLAGE <= 323.298\\ngini = 0.375\\nsamples = 4\\nvalue = [3, 1]'),\n",
              " Text(0.9749068810037248, 0.8478260869565217, 'gini = 0.0\\nsamples = 3\\nvalue = [3, 0]'),\n",
              " Text(0.9916356270012416, 0.8478260869565217, 'gini = 0.0\\nsamples = 1\\nvalue = [0, 1]')]"
            ]
          },
          "metadata": {},
          "execution_count": 132
        },
        {
          "output_type": "display_data",
          "data": {
            "text/plain": [
              "<Figure size 1440x720 with 1 Axes>"
            ],
            "image/png": "[encoded data removed]"
          },
          "metadata": {
            "needs_background": "light"
          }
        }
      ]
    },
    {
      "cell_type": "markdown",
      "source": [
        "Se procede de igual manera con los datos de testeo."
      ],
      "metadata": {
        "id": "ZI8RpaAt55rh"
      }
    },
    {
      "cell_type": "code",
      "source": [
        "y_pred_DTC_test = DTC_model.predict(X_test)"
      ],
      "metadata": {
        "id": "T-TCXxf85MG4"
      },
      "execution_count": 133,
      "outputs": []
    },
    {
      "cell_type": "code",
      "source": [
        "print(f'Accuracy - TEST: {accuracy_score(y_test,y_pred_DTC_test):.04}')\n",
        "print(f'Precision - TEST: {precision_score(y_test,y_pred_DTC_test):.04}')\n",
        "print(f'Recall - TEST: {recall_score(y_test,y_pred_DTC_test):.04}')\n",
        "print(f'F1 - TEST: {f1_score(y_test,y_pred_DTC_test):.04}')\n",
        "print('Matriz de confusión - TEST:')\n",
        "cm_dt_test = confusion_matrix(y_test.ravel(),y_pred_DTC_test)\n",
        "print(f'{cm_dt_test}')"
      ],
      "metadata": {
        "colab": {
          "base_uri": "https://localhost:8080/"
        },
        "id": "BE4mMaKc54xP",
        "outputId": "e0831b0a-62a4-4b94-a995-b24d358b6c5c"
      },
      "execution_count": 134,
      "outputs": [
        {
          "output_type": "stream",
          "name": "stdout",
          "text": [
            "Accuracy - TEST: 0.8949\n",
            "Precision - TEST: 0.6727\n",
            "Recall - TEST: 0.6379\n",
            "F1 - TEST: 0.6549\n",
            "Matriz de confusión - TEST:\n",
            "[[295  18]\n",
            " [ 21  37]]\n"
          ]
        }
      ]
    },
    {
      "cell_type": "code",
      "source": [
        "ax = sns.heatmap(cm_dt_test, annot=True, fmt='d', annot_kws={'fontsize': 12}, cmap='Blues',cbar=False)\n",
        "ax.set_title('Confusion Matrix\\n');\n",
        "ax.set_xlabel('\\nPredicted Values')\n",
        "ax.set_ylabel('Actual Values');\n",
        "ax.xaxis.set_ticklabels(['Predicted 0','Predicted 1'])\n",
        "ax.yaxis.set_ticklabels(['Actual 0', 'Actual 1'])\n",
        "\n",
        "plt.show()"
      ],
      "metadata": {
        "colab": {
          "base_uri": "https://localhost:8080/",
          "height": 322
        },
        "id": "WRLxiE1Rg-u5",
        "outputId": "76147dbf-80a9-4341-d064-352a42d6306e"
      },
      "execution_count": 135,
      "outputs": [
        {
          "output_type": "display_data",
          "data": {
            "text/plain": [
              "<Figure size 432x288 with 1 Axes>"
            ],
            "image/png": "[encoded data removed]"
          },
          "metadata": {
            "needs_background": "light"
          }
        }
      ]
    },
    {
      "cell_type": "markdown",
      "source": [
        "**Conclusión:** Si se dejan los hiperparámetros por defecto, se produce un sobreajuste de los datos. Esto se ve reflejado en el plot_tree del árbol y también en las métricas del conjunto de entrenamiento, las cuales son todas iguales a la unidad. \n",
        "Cuando se evalúa en el conjunto de testeo, se ve que dichas métricas empeoran considerablemente, lo que indica que el modelo sí sobreajusta los datos durante el entrenamiento. "
      ],
      "metadata": {
        "id": "ahWF2rzhhIuW"
      }
    },
    {
      "cell_type": "markdown",
      "metadata": {
        "id": "SF4kgxMNnQxQ"
      },
      "source": [
        "### Ejercicio 3.2: Ajuste de Hiperparámetros\n",
        "\n",
        "Seleccionar valores para los hiperparámetros principales del DecisionTreeClassifier. Como mínimo, probar diferentes criterios de partición (criterion), profundidad máxima del árbol (max_depth), y cantidad mínima de samples por hoja (min_samples_leaf).\n",
        "\n",
        "Para ello, usar grid-search y 5-fold cross-validation sobre el conjunto de entrenamiento para explorar muchas combinaciones posibles de valores.\n",
        "\n",
        "Reportar accuracy promedio y varianza para todas las configuraciones.\n",
        "\n",
        "Para la mejor configuración encontrada, evaluar sobre el conjunto de **entrenamiento** y sobre el conjunto de **evaluación**, reportando:\n",
        "- Accuracy\n",
        "- Precision\n",
        "- Recall\n",
        "- F1\n",
        "- matriz de confusión\n",
        "\n",
        "\n",
        "Documentación:\n",
        "- https://scikit-learn.org/stable/modules/grid_search.html\n",
        "- https://scikit-learn.org/stable/modules/generated/sklearn.model_selection.GridSearchCV.html"
      ]
    },
    {
      "cell_type": "markdown",
      "source": [
        "### EJERCICIO 3.2"
      ],
      "metadata": {
        "id": "QCC5Nj4F75nY"
      }
    },
    {
      "cell_type": "code",
      "source": [
        "# Existe un feature y un valor de ese feature que reduce de manera máxima el gini. Ahí se realiza el corte\n",
        "# El gini es una medida del grado de impureza del nodo.\n",
        "# Lo mismo ocurre con la entropía: Una celda pura tiene entropía cero\n",
        "criterion = ['gini', 'entropy']\n",
        "max_depth = [2,3,4,5]\n",
        "min_samples_leaf = [4,5,6,7,8]\n",
        "\n",
        "hiperparametros = {'criterion': criterion, 'max_depth': max_depth, 'min_samples_leaf': min_samples_leaf}\n",
        "DTC_Grid = GridSearchCV(DTC_model,hiperparametros,refit=True,cv = 5,scoring = 'accuracy')\n",
        "DTC_Grid.fit(X_train,y_train)"
      ],
      "metadata": {
        "colab": {
          "base_uri": "https://localhost:8080/"
        },
        "id": "uuWpp5Nv6Beu",
        "outputId": "5e791988-2ba9-4901-a047-4a35aee3083b"
      },
      "execution_count": 136,
      "outputs": [
        {
          "output_type": "execute_result",
          "data": {
            "text/plain": [
              "GridSearchCV(cv=5, estimator=DecisionTreeClassifier(random_state=1234),\n",
              "             param_grid={'criterion': ['gini', 'entropy'],\n",
              "                         'max_depth': [2, 3, 4, 5],\n",
              "                         'min_samples_leaf': [4, 5, 6, 7, 8]},\n",
              "             scoring='accuracy')"
            ]
          },
          "metadata": {},
          "execution_count": 136
        }
      ]
    },
    {
      "cell_type": "code",
      "source": [
        "DTC_Grid.best_params_"
      ],
      "metadata": {
        "colab": {
          "base_uri": "https://localhost:8080/"
        },
        "id": "MpySHjRp9Cjv",
        "outputId": "012e9025-edb6-45cc-e82f-a65bb9b6296e"
      },
      "execution_count": 137,
      "outputs": [
        {
          "output_type": "execute_result",
          "data": {
            "text/plain": [
              "{'criterion': 'gini', 'max_depth': 4, 'min_samples_leaf': 7}"
            ]
          },
          "metadata": {},
          "execution_count": 137
        }
      ]
    },
    {
      "cell_type": "code",
      "source": [
        "max_accuracy2 = max(DTC_Grid.cv_results_['mean_test_score'])\n",
        "accuracies2 = DTC_Grid.cv_results_['mean_test_score']\n",
        "index = np.where(accuracies2 == max_accuracy2)\n",
        "accuracy2_std = DTC_Grid.cv_results_['std_test_score'][index[0][0]]\n",
        "print(f'La accuracy del mejor modelo es {max_accuracy2:.04} y su varianza es {(accuracy2_std)**2:.04}')"
      ],
      "metadata": {
        "id": "X3zcRCd29G5F",
        "colab": {
          "base_uri": "https://localhost:8080/"
        },
        "outputId": "844fe917-63ea-4db7-be85-babe89e9f581"
      },
      "execution_count": 138,
      "outputs": [
        {
          "output_type": "stream",
          "name": "stdout",
          "text": [
            "La accuracy del mejor modelo es 0.88 y su varianza es 0.0002241\n"
          ]
        }
      ]
    },
    {
      "cell_type": "code",
      "source": [
        "# Se busca si hay mas de un modelo con dicho valor de accuracy\n",
        "indexes2 = np.where(accuracies2 == max_accuracy2)\n",
        "print(f'Existen {len(indexes2[0])} modelos con el máximo accuracy')"
      ],
      "metadata": {
        "colab": {
          "base_uri": "https://localhost:8080/"
        },
        "id": "B34SOcjDcUTB",
        "outputId": "c368c494-fc08-47c7-ac25-9342728c65c8"
      },
      "execution_count": 139,
      "outputs": [
        {
          "output_type": "stream",
          "name": "stdout",
          "text": [
            "Existen 2 modelos con el máximo accuracy\n"
          ]
        }
      ]
    },
    {
      "cell_type": "code",
      "source": [
        "modelo_DTC = DecisionTreeClassifier(random_state = 1234, criterion = 'gini',\n",
        "                                    max_depth= 4, min_samples_leaf= 7)\n",
        "\n",
        "\n",
        "cv_modelo_DTC_precision = cross_val_score(modelo_DTC,X_train,y_train,cv = 5, scoring = 'precision')\n",
        "modelo_DTC_p_mean = cv_modelo_DTC_precision.mean()\n",
        "modelo_DTC_p_std = cv_modelo_DTC_precision.std()\n",
        "\n",
        "cv_modelo_DTC_recall = cross_val_score(modelo_DTC,X_train,y_train,cv = 5, scoring = 'recall')\n",
        "modelo_DTC_r_mean = cv_modelo_DTC_recall.mean()\n",
        "modelo_DTC_r_std = cv_modelo_DTC_recall.std()\n",
        "\n",
        "cv_modelo_DTC_F1 = cross_val_score(modelo_DTC,X_train,y_train,cv = 5, scoring = 'f1')\n",
        "modelo_DTC_F1_mean = cv_modelo_DTC_F1.mean()\n",
        "modelo_DTC_F1_std = cv_modelo_DTC_F1.std()\n",
        "\n",
        "modelo_DTC.fit(X_train,y_train)\n",
        "y_pred_modelo_DTC_train = modelo_DTC.predict(X_train)\n",
        "conf_matx_modelo_DTC_train = confusion_matrix(y_train.ravel(),y_pred_modelo_DTC_train)"
      ],
      "metadata": {
        "id": "6LNqvajpdT4B"
      },
      "execution_count": 140,
      "outputs": []
    },
    {
      "cell_type": "code",
      "source": [
        "print('Datos de entrenamiento')\n",
        "print(f'Modelo: {DTC_Grid.best_params_}')\n",
        "resumen = [[f'{max_accuracy2:.04}',f'{(accuracy2_std)**2:.04}',f'{modelo_DTC_p_mean:.04}',f'{(modelo_DTC_p_std)**2:.04}',\n",
        "            f'{modelo_DTC_r_mean}',f'{(modelo_DTC_r_std)**2:.04}',f'{modelo_DTC_F1_mean:.04}',f'{(modelo_DTC_F1_std)**2:.04}',\n",
        "            f'{conf_matx_modelo_DTC_train}']]\n",
        "print(tabulate(resumen, headers = ['Acc_mean','Acc_var','Prec_mean','Prec_var','Rec_mean','Rec_var','F1_mean','F1_var','Conf_mtx']))"
      ],
      "metadata": {
        "colab": {
          "base_uri": "https://localhost:8080/"
        },
        "id": "etHrNNu3fa3T",
        "outputId": "dc63d717-319b-4c2b-a085-7aec909eeb13"
      },
      "execution_count": 141,
      "outputs": [
        {
          "output_type": "stream",
          "name": "stdout",
          "text": [
            "Datos de entrenamiento\n",
            "Modelo: {'criterion': 'gini', 'max_depth': 4, 'min_samples_leaf': 7}\n",
            "  Acc_mean    Acc_var    Prec_mean    Prec_var    Rec_mean    Rec_var    F1_mean    F1_var  Conf_mtx\n",
            "----------  ---------  -----------  ----------  ----------  ---------  ---------  --------  -------------\n",
            "      0.88  0.0002241       0.8226     0.01007    0.378196   0.004684     0.5133  0.005626  [[1218   14]\n",
            "                                                                                             [ 143  108]]\n"
          ]
        }
      ]
    },
    {
      "cell_type": "code",
      "source": [
        "plt.figure(figsize=(20,10))\n",
        "plot_tree(modelo_DTC,filled=True,rounded=True,feature_names = X.columns)"
      ],
      "metadata": {
        "colab": {
          "base_uri": "https://localhost:8080/",
          "height": 974
        },
        "id": "SRdmf1wugsr_",
        "outputId": "761b27b6-f3ee-4fec-f5e4-c597bb3266d1"
      },
      "execution_count": 142,
      "outputs": [
        {
          "output_type": "execute_result",
          "data": {
            "text/plain": [
              "[Text(0.65, 0.9, 'DEBTINC <= 43.681\\ngini = 0.281\\nsamples = 1483\\nvalue = [1232, 251]'),\n",
              " Text(0.4, 0.7, 'DELINQ <= 1.5\\ngini = 0.227\\nsamples = 1409\\nvalue = [1225, 184]'),\n",
              " Text(0.2, 0.5, 'DEROG <= 1.5\\ngini = 0.189\\nsamples = 1313\\nvalue = [1174, 139]'),\n",
              " Text(0.1, 0.3, 'CLAGE <= 173.132\\ngini = 0.169\\nsamples = 1274\\nvalue = [1155, 119]'),\n",
              " Text(0.05, 0.1, 'gini = 0.249\\nsamples = 612\\nvalue = [523, 89]'),\n",
              " Text(0.15, 0.1, 'gini = 0.087\\nsamples = 662\\nvalue = [632, 30]'),\n",
              " Text(0.3, 0.3, 'CLAGE <= 179.345\\ngini = 0.5\\nsamples = 39\\nvalue = [19, 20]'),\n",
              " Text(0.25, 0.1, 'gini = 0.426\\nsamples = 26\\nvalue = [8, 18]'),\n",
              " Text(0.35, 0.1, 'gini = 0.26\\nsamples = 13\\nvalue = [11, 2]'),\n",
              " Text(0.6, 0.5, 'DELINQ <= 3.5\\ngini = 0.498\\nsamples = 96\\nvalue = [51, 45]'),\n",
              " Text(0.5, 0.3, 'VALUE <= 126358.5\\ngini = 0.463\\nsamples = 77\\nvalue = [49, 28]'),\n",
              " Text(0.45, 0.1, 'gini = 0.414\\nsamples = 65\\nvalue = [46, 19]'),\n",
              " Text(0.55, 0.1, 'gini = 0.375\\nsamples = 12\\nvalue = [3, 9]'),\n",
              " Text(0.7, 0.3, 'LOAN <= 11550.0\\ngini = 0.188\\nsamples = 19\\nvalue = [2, 17]'),\n",
              " Text(0.65, 0.1, 'gini = 0.408\\nsamples = 7\\nvalue = [2, 5]'),\n",
              " Text(0.75, 0.1, 'gini = 0.0\\nsamples = 12\\nvalue = [0, 12]'),\n",
              " Text(0.9, 0.7, 'DEBTINC <= 45.439\\ngini = 0.171\\nsamples = 74\\nvalue = [7, 67]'),\n",
              " Text(0.85, 0.5, 'CLNO <= 19.5\\ngini = 0.413\\nsamples = 24\\nvalue = [7, 17]'),\n",
              " Text(0.8, 0.3, 'gini = 0.444\\nsamples = 9\\nvalue = [6, 3]'),\n",
              " Text(0.9, 0.3, 'YOJ <= 8.5\\ngini = 0.124\\nsamples = 15\\nvalue = [1, 14]'),\n",
              " Text(0.85, 0.1, 'gini = 0.0\\nsamples = 8\\nvalue = [0, 8]'),\n",
              " Text(0.95, 0.1, 'gini = 0.245\\nsamples = 7\\nvalue = [1, 6]'),\n",
              " Text(0.95, 0.5, 'gini = 0.0\\nsamples = 50\\nvalue = [0, 50]')]"
            ]
          },
          "metadata": {},
          "execution_count": 142
        },
        {
          "output_type": "display_data",
          "data": {
            "text/plain": [
              "<Figure size 1440x720 with 1 Axes>"
            ],
            "image/png": "[encoded data removed]"
          },
          "metadata": {
            "needs_background": "light"
          }
        }
      ]
    },
    {
      "cell_type": "code",
      "source": [
        "cv_modelo_DTC_accuracy_test = cross_val_score(modelo_DTC,X_test,y_test,cv = 5, scoring = 'accuracy')\n",
        "modelo_DTC_a_mean_test = cv_modelo_DTC_accuracy_test.mean()\n",
        "modelo_DTC_a_std_test = cv_modelo_DTC_accuracy_test.std()\n",
        "\n",
        "cv_modelo_DTC_precision_test = cross_val_score(modelo_DTC,X_test,y_test,cv = 5, scoring = 'precision')\n",
        "modelo_DTC_p_mean_test = cv_modelo_DTC_precision_test.mean()\n",
        "modelo_DTC_p_std_test = cv_modelo_DTC_precision_test.std()\n",
        "\n",
        "cv_modelo_DTC_recall_test = cross_val_score(modelo_DTC,X_test,y_test,cv = 5, scoring = 'recall')\n",
        "modelo_DTC_r_mean_test = cv_modelo_DTC_recall_test.mean()\n",
        "modelo_DTC_r_std_test = cv_modelo_DTC_recall_test.std()\n",
        "\n",
        "cv_modelo_DTC_F1_test = cross_val_score(modelo_DTC,X_test,y_test,cv = 5, scoring = 'f1')\n",
        "modelo_DTC_F1_mean_test = cv_modelo_DTC_F1_test.mean()\n",
        "modelo_DTC_F1_std_test = cv_modelo_DTC_F1_test.std()\n",
        "\n",
        "modelo_DTC.fit(X_test,y_test)\n",
        "y_pred_modelo_DTC_test = modelo_DTC.predict(X_test)\n",
        "conf_matx_modelo_DTC_test = confusion_matrix(y_test.ravel(),y_pred_modelo_DTC_test)"
      ],
      "metadata": {
        "id": "_hej8TgBg19J"
      },
      "execution_count": 143,
      "outputs": []
    },
    {
      "cell_type": "code",
      "source": [
        "print('Datos de testeo')\n",
        "print(f'Modelo: {DTC_Grid.best_params_}')\n",
        "resumen = [[f'{modelo_DTC_a_mean_test:.04}',f'{(modelo_DTC_a_std_test)**2:.04}',f'{modelo_DTC_p_mean_test:.04}',f'{(modelo_DTC_p_std_test)**2:.04}',\n",
        "            f'{modelo_DTC_r_mean_test}',f'{(modelo_DTC_r_std_test)**2:.04}',f'{modelo_DTC_F1_mean_test:.04}',f'{(modelo_DTC_F1_std_test)**2:.04}',\n",
        "            f'{conf_matx_modelo_DTC_test}']]\n",
        "print(tabulate(resumen, headers = ['Acc_mean','Acc_var','Prec_mean','Prec_var','Rec_mean','Rec_var','F1_mean','F1_var','Conf_mtx']))"
      ],
      "metadata": {
        "colab": {
          "base_uri": "https://localhost:8080/"
        },
        "id": "pNUUVkt4j4nx",
        "outputId": "2d9f8757-e679-4e86-f499-2684739dbdcd"
      },
      "execution_count": 144,
      "outputs": [
        {
          "output_type": "stream",
          "name": "stdout",
          "text": [
            "Datos de testeo\n",
            "Modelo: {'criterion': 'gini', 'max_depth': 4, 'min_samples_leaf': 7}\n",
            "  Acc_mean    Acc_var    Prec_mean    Prec_var    Rec_mean    Rec_var    F1_mean    F1_var  Conf_mtx\n",
            "----------  ---------  -----------  ----------  ----------  ---------  ---------  --------  -----------\n",
            "     0.841  0.0006723       0.4961     0.01204    0.365152   0.009031     0.4153  0.008279  [[303  10]\n",
            "                                                                                             [ 27  31]]\n"
          ]
        }
      ]
    },
    {
      "cell_type": "markdown",
      "source": [
        "**Conclusión**\n",
        "\n",
        "El ajuste de hiperparámetros evita el sobreajuste del modelo, lo que se ve claramente al comparar las métricas en el conjunto de entrenamiento de los modelos del EJERCICIO 3.1 y EJERCICIO 3.2.\n",
        "\n",
        "Por otro lado, comparando las métricas de los modelos del EJERCICIO 2.2 y 3.2, se concluye que el DTClassifier es el mejor modelo. Si bien los valores de accuracy de ambos son muy similares (87.12% para el SGDClassifier y 88% para el DTClassifier), otras métricas como el Recall y el F1 son un 5% superiores en el caso del DTClassifier. "
      ],
      "metadata": {
        "id": "EKD_DS7rXWvj"
      }
    },
    {
      "cell_type": "code",
      "source": [
        "print('Datos de entrenamiento')\n",
        "print(f'Modelo: {hiperparam_modelo_1}')\n",
        "resumen = [[f'{max_accuracy:.04}',f'{(std_accuracy_modelo1)**2:.04}',f'{modelo1_p_mean:.04}',f'{(modelo1_p_std)**2:.04}',\n",
        "            f'{modelo1_r_mean}',f'{(modelo1_r_std)**2:.04}',f'{modelo1_F1_mean:.04}',f'{(modelo1_F1_std)**2:.04}',f'{conf_matx_modelo1_train}']]\n",
        "print(tabulate(resumen, headers = ['Acc_mean','Acc_var','Prec_mean','Prec_var','Rec_mean','Rec_var','F1_mean','F1_var','Conf_mtx']))\n",
        "\n",
        "print('Datos de entrenamiento')\n",
        "print(f'Modelo: {DTC_Grid.best_params_}')\n",
        "resumen = [[f'{max_accuracy2:.04}',f'{(accuracy2_std)**2:.04}',f'{modelo_DTC_p_mean:.04}',f'{(modelo_DTC_p_std)**2:.04}',\n",
        "            f'{modelo_DTC_r_mean}',f'{(modelo_DTC_r_std)**2:.04}',f'{modelo_DTC_F1_mean:.04}',f'{(modelo_DTC_F1_std)**2:.04}',\n",
        "            f'{conf_matx_modelo_DTC_train}']]\n",
        "print(tabulate(resumen, headers = ['Acc_mean','Acc_var','Prec_mean','Prec_var','Rec_mean','Rec_var','F1_mean','F1_var','Conf_mtx']))"
      ],
      "metadata": {
        "colab": {
          "base_uri": "https://localhost:8080/"
        },
        "id": "DxFiyZDNawmS",
        "outputId": "008d4b10-16ff-4dc4-b2b1-da27a35e4171"
      },
      "execution_count": 145,
      "outputs": [
        {
          "output_type": "stream",
          "name": "stdout",
          "text": [
            "Datos de entrenamiento\n",
            "Modelo: {'SGD_class__alpha': 0.005, 'SGD_class__eta0': 1e-06, 'SGD_class__learning_rate': 'optimal', 'SGD_class__loss': 'log'}\n",
            "  Acc_mean    Acc_var    Prec_mean    Prec_var    Rec_mean    Rec_var    F1_mean    F1_var  Conf_mtx\n",
            "----------  ---------  -----------  ----------  ----------  ---------  ---------  --------  -------------\n",
            "    0.8712  0.0001282       0.7903    0.007218    0.326745   0.001402     0.4617  0.002406  [[1215   17]\n",
            "                                                                                             [ 175   76]]\n",
            "Datos de entrenamiento\n",
            "Modelo: {'criterion': 'gini', 'max_depth': 4, 'min_samples_leaf': 7}\n",
            "  Acc_mean    Acc_var    Prec_mean    Prec_var    Rec_mean    Rec_var    F1_mean    F1_var  Conf_mtx\n",
            "----------  ---------  -----------  ----------  ----------  ---------  ---------  --------  -------------\n",
            "      0.88  0.0002241       0.8226     0.01007    0.378196   0.004684     0.5133  0.005626  [[1218   14]\n",
            "                                                                                             [ 143  108]]\n"
          ]
        }
      ]
    }
  ],
  "metadata": {
    "kernelspec": {
      "display_name": "Python 3",
      "language": "python",
      "name": "python3"
    },
    "language_info": {
      "codemirror_mode": {
        "name": "ipython",
        "version": 3
      },
      "file_extension": ".py",
      "mimetype": "text/x-python",
      "name": "python",
      "nbconvert_exporter": "python",
      "pygments_lexer": "ipython3",
      "version": "3.8.10"
    },
    "colab": {
      "name": "Lab 2.ipynb",
      "provenance": [],
      "collapsed_sections": []
    }
  },
  "nbformat": 4,
  "nbformat_minor": 0
}