{
  "nbformat": 4,
  "nbformat_minor": 0,
  "metadata": {
    "colab": {
      "name": "AyVD - Parte 1 - Ejercicio 1 - corregido.ipynb",
      "provenance": [],
      "collapsed_sections": []
    },
    "kernelspec": {
      "name": "python3",
      "display_name": "Python 3"
    },
    "language_info": {
      "name": "python"
    }
  },
  "cells": [
    {
      "cell_type": "markdown",
      "metadata": {
        "id": "LYvAOR2VzHmW"
      },
      "source": [
        "\n",
        "**Diplomatura en Ciencia de Datos, Aprendizaje Automático y sus Aplicaciones**\n",
        "---\n",
        "\n",
        "\n",
        "Integrantes:\n",
        "*   Candelaria Arpajou: mcarpajou@santafe-conicet.gov.ar\n",
        "*   Hugo Folonier: hugofolonier@gmail.com\n",
        "*   Gustavo Jaca: gustavojaca@gmail.com\n",
        "\n",
        "**Edición 2022**\n",
        "\n",
        "---\n",
        "## Trabajo práctico entregable - Parte 1"
      ]
    },
    {
      "cell_type": "code",
      "source": [
        "import io\n",
        "import matplotlib\n",
        "import matplotlib.pyplot as plt\n",
        "import numpy\n",
        "import pandas as pd\n",
        "import seaborn\n",
        "import plotly.express as px\n",
        "from pandas.core.frame import DataFrame\n",
        "from matplotlib import ticker as tick\n",
        "\n",
        "seaborn.set_context('talk')"
      ],
      "metadata": {
        "id": "gz02SjzKzHZ7"
      },
      "execution_count": null,
      "outputs": []
    },
    {
      "cell_type": "markdown",
      "metadata": {
        "id": "20Z616tc40h3"
      },
      "source": [
        "\n",
        "**Diplomatura en Ciencia de Datos, Aprendizaje Automático y sus Aplicaciones**\n",
        "\n",
        "**Edición 2022**\n",
        "\n",
        "---\n",
        "## Trabajo práctico entregable - Parte 1"
      ]
    },
    {
      "cell_type": "code",
      "source": [
        "url = 'https://cs.famaf.unc.edu.ar/~mteruel/datasets/diplodatos/sysarmy_survey_2020_processed.csv'\n",
        "df_original = pd.read_csv(url)\n",
        "df_copia = df_original.copy() #Copia del DataSet original\n",
        "df_copia[:5]"
      ],
      "metadata": {
        "id": "PgG_N4iYzL_i",
        "colab": {
          "base_uri": "https://localhost:8080/",
          "height": 456
        },
        "outputId": "815c9b93-b7f0-4353-94c1-ed9bde54275e"
      },
      "execution_count": null,
      "outputs": [
        {
          "output_type": "execute_result",
          "data": {
            "text/plain": [
              "  profile_gender  profile_age work_country                    work_province  \\\n",
              "0          Mujer           26    Argentina  Ciudad Autónoma de Buenos Aires   \n",
              "1         Hombre           29    Argentina                       Corrientes   \n",
              "2          Mujer           22    Argentina  Ciudad Autónoma de Buenos Aires   \n",
              "3         Hombre           39    Argentina                       Corrientes   \n",
              "4         Hombre           32    Argentina  Ciudad Autónoma de Buenos Aires   \n",
              "\n",
              "   profile_years_experience  work_years_in_company  \\\n",
              "0                       3.0                    3.0   \n",
              "1                       5.0                    2.0   \n",
              "2                       2.0                    0.0   \n",
              "3                      15.0                   15.0   \n",
              "4                       9.0                    6.0   \n",
              "\n",
              "   work_years_in_current_position  work_people_in_charge_of  \\\n",
              "0                             3.0                         0   \n",
              "1                             2.0                         4   \n",
              "2                             0.0                         0   \n",
              "3                            13.0                         5   \n",
              "4                             6.0                         0   \n",
              "\n",
              "  profile_studies_level profile_studies_level_state  ...  \\\n",
              "0         Universitario                    En curso  ...   \n",
              "1         Universitario                    En curso  ...   \n",
              "2            Secundario                  Completado  ...   \n",
              "3              Posgrado                  Incompleto  ...   \n",
              "4         Universitario                    En curso  ...   \n",
              "\n",
              "  work_has_violence_situations profile_sexual_orientation  \\\n",
              "0         En mi trabajo actual                 Homosexual   \n",
              "1                        Jamás               Heterosexual   \n",
              "2       En un trabajo anterior           Bisexual o queer   \n",
              "3         En mi trabajo actual               Heterosexual   \n",
              "4                        Jamás               Heterosexual   \n",
              "\n",
              "  profile_has_disabilities profile_has_disabilities_hiring_difficulties  \\\n",
              "0                      NaN                                          NaN   \n",
              "1                   Visual                                           No   \n",
              "2                      NaN                                           No   \n",
              "3                      NaN                                          NaN   \n",
              "4                      NaN                                          NaN   \n",
              "\n",
              "  company_employee_number                          company_main_activity  \\\n",
              "0                501-1000  Servicios / Consultoría de Software / Digital   \n",
              "1                 201-500                               Otras industrias   \n",
              "2               2001-5000                               Otras industrias   \n",
              "3                501-1000                               Otras industrias   \n",
              "4                   11-50  Servicios / Consultoría de Software / Digital   \n",
              "\n",
              "  company_recommended company_diversity_policies  \\\n",
              "0                   7                          2   \n",
              "1                   8                          9   \n",
              "2                   6                          9   \n",
              "3                   7                          6   \n",
              "4                   6                          6   \n",
              "\n",
              "                              company_extra_benefits  \\\n",
              "0  Capacitaciones y/o cursos, Comidas pagas / sub...   \n",
              "1  Horarios flexibles, Stock options / RSUs, Viát...   \n",
              "2  Clases de gimnasia online, Comidas pagas / sub...   \n",
              "3  Abono de celular, Capacitaciones y/o cursos, C...   \n",
              "4  Clases de idiomas, Horarios flexibles, Vacacio...   \n",
              "\n",
              "  company_best_companies_city  \n",
              "0                         NaN  \n",
              "1                         NaN  \n",
              "2                         NaN  \n",
              "3                         NaN  \n",
              "4                         NaN  \n",
              "\n",
              "[5 rows x 48 columns]"
            ],
            "text/html": [
              "\n",
              "  <div id=\"df-1d4bb673-526a-4172-9927-ab8c78b9c530\">\n",
              "    <div class=\"colab-df-container\">\n",
              "      <div>\n",
              "<style scoped>\n",
              "    .dataframe tbody tr th:only-of-type {\n",
              "        vertical-align: middle;\n",
              "    }\n",
              "\n",
              "    .dataframe tbody tr th {\n",
              "        vertical-align: top;\n",
              "    }\n",
              "\n",
              "    .dataframe thead th {\n",
              "        text-align: right;\n",
              "    }\n",
              "</style>\n",
              "<table border=\"1\" class=\"dataframe\">\n",
              "  <thead>\n",
              "    <tr style=\"text-align: right;\">\n",
              "      <th></th>\n",
              "      <th>profile_gender</th>\n",
              "      <th>profile_age</th>\n",
              "      <th>work_country</th>\n",
              "      <th>work_province</th>\n",
              "      <th>profile_years_experience</th>\n",
              "      <th>work_years_in_company</th>\n",
              "      <th>work_years_in_current_position</th>\n",
              "      <th>work_people_in_charge_of</th>\n",
              "      <th>profile_studies_level</th>\n",
              "      <th>profile_studies_level_state</th>\n",
              "      <th>...</th>\n",
              "      <th>work_has_violence_situations</th>\n",
              "      <th>profile_sexual_orientation</th>\n",
              "      <th>profile_has_disabilities</th>\n",
              "      <th>profile_has_disabilities_hiring_difficulties</th>\n",
              "      <th>company_employee_number</th>\n",
              "      <th>company_main_activity</th>\n",
              "      <th>company_recommended</th>\n",
              "      <th>company_diversity_policies</th>\n",
              "      <th>company_extra_benefits</th>\n",
              "      <th>company_best_companies_city</th>\n",
              "    </tr>\n",
              "  </thead>\n",
              "  <tbody>\n",
              "    <tr>\n",
              "      <th>0</th>\n",
              "      <td>Mujer</td>\n",
              "      <td>26</td>\n",
              "      <td>Argentina</td>\n",
              "      <td>Ciudad Autónoma de Buenos Aires</td>\n",
              "      <td>3.0</td>\n",
              "      <td>3.0</td>\n",
              "      <td>3.0</td>\n",
              "      <td>0</td>\n",
              "      <td>Universitario</td>\n",
              "      <td>En curso</td>\n",
              "      <td>...</td>\n",
              "      <td>En mi trabajo actual</td>\n",
              "      <td>Homosexual</td>\n",
              "      <td>NaN</td>\n",
              "      <td>NaN</td>\n",
              "      <td>501-1000</td>\n",
              "      <td>Servicios / Consultoría de Software / Digital</td>\n",
              "      <td>7</td>\n",
              "      <td>2</td>\n",
              "      <td>Capacitaciones y/o cursos, Comidas pagas / sub...</td>\n",
              "      <td>NaN</td>\n",
              "    </tr>\n",
              "    <tr>\n",
              "      <th>1</th>\n",
              "      <td>Hombre</td>\n",
              "      <td>29</td>\n",
              "      <td>Argentina</td>\n",
              "      <td>Corrientes</td>\n",
              "      <td>5.0</td>\n",
              "      <td>2.0</td>\n",
              "      <td>2.0</td>\n",
              "      <td>4</td>\n",
              "      <td>Universitario</td>\n",
              "      <td>En curso</td>\n",
              "      <td>...</td>\n",
              "      <td>Jamás</td>\n",
              "      <td>Heterosexual</td>\n",
              "      <td>Visual</td>\n",
              "      <td>No</td>\n",
              "      <td>201-500</td>\n",
              "      <td>Otras industrias</td>\n",
              "      <td>8</td>\n",
              "      <td>9</td>\n",
              "      <td>Horarios flexibles, Stock options / RSUs, Viát...</td>\n",
              "      <td>NaN</td>\n",
              "    </tr>\n",
              "    <tr>\n",
              "      <th>2</th>\n",
              "      <td>Mujer</td>\n",
              "      <td>22</td>\n",
              "      <td>Argentina</td>\n",
              "      <td>Ciudad Autónoma de Buenos Aires</td>\n",
              "      <td>2.0</td>\n",
              "      <td>0.0</td>\n",
              "      <td>0.0</td>\n",
              "      <td>0</td>\n",
              "      <td>Secundario</td>\n",
              "      <td>Completado</td>\n",
              "      <td>...</td>\n",
              "      <td>En un trabajo anterior</td>\n",
              "      <td>Bisexual o queer</td>\n",
              "      <td>NaN</td>\n",
              "      <td>No</td>\n",
              "      <td>2001-5000</td>\n",
              "      <td>Otras industrias</td>\n",
              "      <td>6</td>\n",
              "      <td>9</td>\n",
              "      <td>Clases de gimnasia online, Comidas pagas / sub...</td>\n",
              "      <td>NaN</td>\n",
              "    </tr>\n",
              "    <tr>\n",
              "      <th>3</th>\n",
              "      <td>Hombre</td>\n",
              "      <td>39</td>\n",
              "      <td>Argentina</td>\n",
              "      <td>Corrientes</td>\n",
              "      <td>15.0</td>\n",
              "      <td>15.0</td>\n",
              "      <td>13.0</td>\n",
              "      <td>5</td>\n",
              "      <td>Posgrado</td>\n",
              "      <td>Incompleto</td>\n",
              "      <td>...</td>\n",
              "      <td>En mi trabajo actual</td>\n",
              "      <td>Heterosexual</td>\n",
              "      <td>NaN</td>\n",
              "      <td>NaN</td>\n",
              "      <td>501-1000</td>\n",
              "      <td>Otras industrias</td>\n",
              "      <td>7</td>\n",
              "      <td>6</td>\n",
              "      <td>Abono de celular, Capacitaciones y/o cursos, C...</td>\n",
              "      <td>NaN</td>\n",
              "    </tr>\n",
              "    <tr>\n",
              "      <th>4</th>\n",
              "      <td>Hombre</td>\n",
              "      <td>32</td>\n",
              "      <td>Argentina</td>\n",
              "      <td>Ciudad Autónoma de Buenos Aires</td>\n",
              "      <td>9.0</td>\n",
              "      <td>6.0</td>\n",
              "      <td>6.0</td>\n",
              "      <td>0</td>\n",
              "      <td>Universitario</td>\n",
              "      <td>En curso</td>\n",
              "      <td>...</td>\n",
              "      <td>Jamás</td>\n",
              "      <td>Heterosexual</td>\n",
              "      <td>NaN</td>\n",
              "      <td>NaN</td>\n",
              "      <td>11-50</td>\n",
              "      <td>Servicios / Consultoría de Software / Digital</td>\n",
              "      <td>6</td>\n",
              "      <td>6</td>\n",
              "      <td>Clases de idiomas, Horarios flexibles, Vacacio...</td>\n",
              "      <td>NaN</td>\n",
              "    </tr>\n",
              "  </tbody>\n",
              "</table>\n",
              "<p>5 rows × 48 columns</p>\n",
              "</div>\n",
              "      <button class=\"colab-df-convert\" onclick=\"convertToInteractive('df-1d4bb673-526a-4172-9927-ab8c78b9c530')\"\n",
              "              title=\"Convert this dataframe to an interactive table.\"\n",
              "              style=\"display:none;\">\n",
              "        \n",
              "  <svg xmlns=\"http://www.w3.org/2000/svg\" height=\"24px\"viewBox=\"0 0 24 24\"\n",
              "       width=\"24px\">\n",
              "    <path d=\"M0 0h24v24H0V0z\" fill=\"none\"/>\n",
              "    <path d=\"M18.56 5.44l.94 2.06.94-2.06 2.06-.94-2.06-.94-.94-2.06-.94 2.06-2.06.94zm-11 1L8.5 8.5l.94-2.06 2.06-.94-2.06-.94L8.5 2.5l-.94 2.06-2.06.94zm10 10l.94 2.06.94-2.06 2.06-.94-2.06-.94-.94-2.06-.94 2.06-2.06.94z\"/><path d=\"M17.41 7.96l-1.37-1.37c-.4-.4-.92-.59-1.43-.59-.52 0-1.04.2-1.43.59L10.3 9.45l-7.72 7.72c-.78.78-.78 2.05 0 2.83L4 21.41c.39.39.9.59 1.41.59.51 0 1.02-.2 1.41-.59l7.78-7.78 2.81-2.81c.8-.78.8-2.07 0-2.86zM5.41 20L4 18.59l7.72-7.72 1.47 1.35L5.41 20z\"/>\n",
              "  </svg>\n",
              "      </button>\n",
              "      \n",
              "  <style>\n",
              "    .colab-df-container {\n",
              "      display:flex;\n",
              "      flex-wrap:wrap;\n",
              "      gap: 12px;\n",
              "    }\n",
              "\n",
              "    .colab-df-convert {\n",
              "      background-color: #E8F0FE;\n",
              "      border: none;\n",
              "      border-radius: 50%;\n",
              "      cursor: pointer;\n",
              "      display: none;\n",
              "      fill: #1967D2;\n",
              "      height: 32px;\n",
              "      padding: 0 0 0 0;\n",
              "      width: 32px;\n",
              "    }\n",
              "\n",
              "    .colab-df-convert:hover {\n",
              "      background-color: #E2EBFA;\n",
              "      box-shadow: 0px 1px 2px rgba(60, 64, 67, 0.3), 0px 1px 3px 1px rgba(60, 64, 67, 0.15);\n",
              "      fill: #174EA6;\n",
              "    }\n",
              "\n",
              "    [theme=dark] .colab-df-convert {\n",
              "      background-color: #3B4455;\n",
              "      fill: #D2E3FC;\n",
              "    }\n",
              "\n",
              "    [theme=dark] .colab-df-convert:hover {\n",
              "      background-color: #434B5C;\n",
              "      box-shadow: 0px 1px 3px 1px rgba(0, 0, 0, 0.15);\n",
              "      filter: drop-shadow(0px 1px 2px rgba(0, 0, 0, 0.3));\n",
              "      fill: #FFFFFF;\n",
              "    }\n",
              "  </style>\n",
              "\n",
              "      <script>\n",
              "        const buttonEl =\n",
              "          document.querySelector('#df-1d4bb673-526a-4172-9927-ab8c78b9c530 button.colab-df-convert');\n",
              "        buttonEl.style.display =\n",
              "          google.colab.kernel.accessAllowed ? 'block' : 'none';\n",
              "\n",
              "        async function convertToInteractive(key) {\n",
              "          const element = document.querySelector('#df-1d4bb673-526a-4172-9927-ab8c78b9c530');\n",
              "          const dataTable =\n",
              "            await google.colab.kernel.invokeFunction('convertToInteractive',\n",
              "                                                     [key], {});\n",
              "          if (!dataTable) return;\n",
              "\n",
              "          const docLinkHtml = 'Like what you see? Visit the ' +\n",
              "            '<a target=\"_blank\" href=https://colab.research.google.com/notebooks/data_table.ipynb>data table notebook</a>'\n",
              "            + ' to learn more about interactive tables.';\n",
              "          element.innerHTML = '';\n",
              "          dataTable['output_type'] = 'display_data';\n",
              "          await google.colab.output.renderOutput(dataTable, element);\n",
              "          const docLink = document.createElement('div');\n",
              "          docLink.innerHTML = docLinkHtml;\n",
              "          element.appendChild(docLink);\n",
              "        }\n",
              "      </script>\n",
              "    </div>\n",
              "  </div>\n",
              "  "
            ]
          },
          "metadata": {},
          "execution_count": 48
        }
      ]
    },
    {
      "cell_type": "markdown",
      "source": [
        "# Ejercicio 1 - Análisis descriptivo\n",
        "\n",
        "Responder a la pregunta: **¿Cuáles son los lenguajes de programación asociados a los mejores salarios?**\n",
        "\n",
        "Para ello:\n",
        "1. Seleccionar las columnas relevantes para analizar.\n",
        "2. Seleccionar las filas relevantes para analizar. Esto incluye la eliminación de valores extremos y erróneos, pero también puede enfocar el análisis en una sub-población. Por ejemplo, se pueden limitar a personas con un salario mayor que 10000 pesos, o a las personas que trabajan sólo en \"Data Science\", pero deben justificar su elección y reformular la pregunta inicial de ser necesario.\n",
        "  * Obtener una lista de los lenguajes de programación más populares. Decidir cuántos y cuáles seleccionan para incluir en el análisis.\n",
        "  * Para cada una de las otras columnas del punto anterior, elegir los rangos o valores seleccionan para incluir en el análisis.\n",
        "3. Seleccionar métricas que ayuden a responder la pregunta, y los métodos para analizarlas. Elegir UNA de las siguientes opciones:\n",
        "  * Comparar las distribuciones de salario para cada lenguaje utilizando visualizaciones. Como la visualización es el producto final, debe ser clara y mostrar información relevante.\n",
        "  * Comparar medidas de estadística descriptiva sobre la distribución de salario para cada lenguaje. Sean creativos, la estadística descriptiva nos permite decir cosas como: \"el 10% de los mejores sueldos los ganan, en su mayoría, programadores que saben kotlin!\" (donde *mayoría* es un término medio engañoso que sólo significa más del 50%). Para comparar múltiples lenguajes, les recomendamos usar también visualizaciones.\n",
        "  * Comparar probabilidades. Por ejemplo: \"Si sabés Python o Java, tenés un 30% más de chances de ganar arriba de 100K\".\n",
        "\n",
        "Si lo consideran necesario, realicen varias iteraciones. Es decir, si encuentran que las distribuciones de los lenguajes de programación que seleccionaron inicialmente no son muy diferentes, pueden re-hacer el análisis usando sólo los lenguajes de programación que son diferentes.\n",
        "\n"
      ],
      "metadata": {
        "id": "JXm-zHMtyohs"
      }
    },
    {
      "cell_type": "markdown",
      "source": [
        "### 1. Selección de las columnas relevantes para analizar."
      ],
      "metadata": {
        "id": "ikuSLxB4yrGb"
      }
    },
    {
      "cell_type": "code",
      "source": [
        "# Listado de todas las columnas presentes\n",
        "df_copia.columns"
      ],
      "metadata": {
        "colab": {
          "base_uri": "https://localhost:8080/"
        },
        "id": "EFCoNZT2zDzN",
        "outputId": "97ead245-c760-41a9-ef0c-45562e6b3b17"
      },
      "execution_count": null,
      "outputs": [
        {
          "output_type": "execute_result",
          "data": {
            "text/plain": [
              "Index(['profile_gender', 'profile_age', 'work_country', 'work_province',\n",
              "       'profile_years_experience', 'work_years_in_company',\n",
              "       'work_years_in_current_position', 'work_people_in_charge_of',\n",
              "       'profile_studies_level', 'profile_studies_level_state',\n",
              "       'profile_career', 'profile_university',\n",
              "       'profile_specialization_courses', 'profile_open_source_contributions',\n",
              "       'profile_programming_as_hobby', 'work_role', 'tools_platform',\n",
              "       'tools_programming_languages', 'tools_frameworks', 'tools_data_bases',\n",
              "       'tools_qa_testing', 'tools_IDEs', 'tools_work_pc_os',\n",
              "       'tools_cellphone_os', 'work_on_call_duty', 'salary_on_call_duty_charge',\n",
              "       'work_on_call_duty_charge_type', 'work_contract_type',\n",
              "       'salary_monthly_BRUTO', 'salary_monthly_NETO', 'salary_in_usd',\n",
              "       'salary_satisfaction', 'salary_comparison_last_semester',\n",
              "       'salary_has_bonus', 'salary_bonus_tied_to',\n",
              "       'salary_inflation_adjustment_2020',\n",
              "       'salary_percentage_inflation_adjustment_2020',\n",
              "       'salary_month_last_inflation_adjustment',\n",
              "       'work_has_violence_situations', 'profile_sexual_orientation',\n",
              "       'profile_has_disabilities',\n",
              "       'profile_has_disabilities_hiring_difficulties',\n",
              "       'company_employee_number', 'company_main_activity',\n",
              "       'company_recommended', 'company_diversity_policies',\n",
              "       'company_extra_benefits', 'company_best_companies_city'],\n",
              "      dtype='object')"
            ]
          },
          "metadata": {},
          "execution_count": 49
        }
      ]
    },
    {
      "cell_type": "code",
      "source": [
        "df_copia.tools_programming_languages"
      ],
      "metadata": {
        "colab": {
          "base_uri": "https://localhost:8080/"
        },
        "id": "2klR7CMAll6K",
        "outputId": "8bde16a2-11ff-456a-b419-2c03d24bbcdd"
      },
      "execution_count": null,
      "outputs": [
        {
          "output_type": "execute_result",
          "data": {
            "text/plain": [
              "0                                                 Ninguno\n",
              "1                                HTML, Javascript, Python\n",
              "2                                                 Ninguno\n",
              "3       Bash/Shell, C, CSS, HTML, Java, Javascript, PH...\n",
              "4                  CSS, HTML, Javascript, SQL, TypeScript\n",
              "                              ...                        \n",
              "6090    .NET, C#, COBOL, CSS, HTML, Javascript, PHP, S...\n",
              "6091                            Ninguno de los anteriores\n",
              "6092                            Ninguno de los anteriores\n",
              "6093     C, C++, HTML, Java, Javascript, PHP, Python, SQL\n",
              "6094                            Ninguno de los anteriores\n",
              "Name: tools_programming_languages, Length: 6095, dtype: object"
            ]
          },
          "metadata": {},
          "execution_count": 50
        }
      ]
    },
    {
      "cell_type": "code",
      "execution_count": null,
      "metadata": {
        "id": "AF9sXTy0yg-T"
      },
      "outputs": [],
      "source": [
        "relevant_columns = ['tools_programming_languages', 'salary_monthly_NETO','salary_monthly_BRUTO','profile_age']"
      ]
    },
    {
      "cell_type": "markdown",
      "source": [
        "A la hora de efectuar el análisis se incorporan las columnas de 'profile_age' y 'salary_monthly_BRUTO'. De esta manera, se busca responder la pregunta: **¿Cuáles son los lenguajes de programación asociados a los mejores salarios?** considerando los siguientes aspectos:\n",
        "- Edad de los programadores: se establece un rango etario entre 18 y 65 años. La cota inferior representa la edad con la que se obtiene la moyoría de edad en nuestro país. La persona ya puede, a partir de ese momento, tener un empleo formal, realizar aportes jubilatorios, etc. La cota superior representa la edad a partir de la cual los hombres ya pueden jubilarse. En el caso de las mujeres, este número es menor (60 años). Sin embargo, en el dataset no hay mujeres programadoras mayores a 60 años. En ralación a otros géneros, no se encontró información relevante referida a su edad jubilatoria. Por estas razones, se toma la edad de 65 años como límite superior. \n",
        "- Cociente salario NETO y salario BRUTO: se fija una relación salario neto - salario bruto de entre 0.6 y 1. Como ya es sabido, el salario neto no puede superar al bruto, razón por la cual la cota superior es 1. Por su parte, la cota inferior se establece en base a lo observado en la distribución de valores de la variable cociente Neto-Bruto."
      ],
      "metadata": {
        "id": "N-lVjh9Xy9rV"
      }
    },
    {
      "cell_type": "code",
      "source": [
        "df_copia['profile_gender'].unique()"
      ],
      "metadata": {
        "colab": {
          "base_uri": "https://localhost:8080/"
        },
        "id": "Oxl_aADQ7_K9",
        "outputId": "f59c838f-4750-4219-e9d8-090a426a4594"
      },
      "execution_count": null,
      "outputs": [
        {
          "output_type": "execute_result",
          "data": {
            "text/plain": [
              "array(['Mujer', 'Hombre', 'Otros'], dtype=object)"
            ]
          },
          "metadata": {},
          "execution_count": 52
        }
      ]
    },
    {
      "cell_type": "code",
      "source": [
        "len(df_copia[(df_copia['profile_gender'] == 'Mujer') & (df_copia['profile_age'] > 60)]) # No hay mujeres programadoras mayores de 60 años"
      ],
      "metadata": {
        "colab": {
          "base_uri": "https://localhost:8080/"
        },
        "id": "e0TM9K6-7Qz_",
        "outputId": "583ebf0d-54e0-42d4-e409-356be720878c"
      },
      "execution_count": null,
      "outputs": [
        {
          "output_type": "execute_result",
          "data": {
            "text/plain": [
              "0"
            ]
          },
          "metadata": {},
          "execution_count": 53
        }
      ]
    },
    {
      "cell_type": "code",
      "source": [
        "df_copia[(df_copia['profile_gender'] == 'Otros') & (df_copia['profile_age'] > 60)] # Solo una persona no binaria tiene más de 60 años"
      ],
      "metadata": {
        "colab": {
          "base_uri": "https://localhost:8080/",
          "height": 209
        },
        "id": "ndiK9aN28IXX",
        "outputId": "a0608ae3-ba2c-46f5-88ee-43b2ea446800"
      },
      "execution_count": null,
      "outputs": [
        {
          "output_type": "execute_result",
          "data": {
            "text/plain": [
              "     profile_gender  profile_age work_country  \\\n",
              "4099          Otros           64    Argentina   \n",
              "\n",
              "                        work_province  profile_years_experience  \\\n",
              "4099  Ciudad Autónoma de Buenos Aires                      30.0   \n",
              "\n",
              "      work_years_in_company  work_years_in_current_position  \\\n",
              "4099                   15.0                            10.0   \n",
              "\n",
              "      work_people_in_charge_of profile_studies_level  \\\n",
              "4099                       150             Doctorado   \n",
              "\n",
              "     profile_studies_level_state  ... work_has_violence_situations  \\\n",
              "4099                  Completado  ...                        Jamás   \n",
              "\n",
              "     profile_sexual_orientation profile_has_disabilities  \\\n",
              "4099          ¿Qué les importa?                   Mental   \n",
              "\n",
              "     profile_has_disabilities_hiring_difficulties company_employee_number  \\\n",
              "4099                                           No                  51-100   \n",
              "\n",
              "            company_main_activity company_recommended  \\\n",
              "4099  Producto basado en Software                   9   \n",
              "\n",
              "     company_diversity_policies  \\\n",
              "4099                         10   \n",
              "\n",
              "                                 company_extra_benefits  \\\n",
              "4099  Abono de celular, Abono de Internet, Capacitac...   \n",
              "\n",
              "     company_best_companies_city  \n",
              "4099                         NaN  \n",
              "\n",
              "[1 rows x 48 columns]"
            ],
            "text/html": [
              "\n",
              "  <div id=\"df-3fda10a6-53fe-40fb-9ec1-37b96c324e49\">\n",
              "    <div class=\"colab-df-container\">\n",
              "      <div>\n",
              "<style scoped>\n",
              "    .dataframe tbody tr th:only-of-type {\n",
              "        vertical-align: middle;\n",
              "    }\n",
              "\n",
              "    .dataframe tbody tr th {\n",
              "        vertical-align: top;\n",
              "    }\n",
              "\n",
              "    .dataframe thead th {\n",
              "        text-align: right;\n",
              "    }\n",
              "</style>\n",
              "<table border=\"1\" class=\"dataframe\">\n",
              "  <thead>\n",
              "    <tr style=\"text-align: right;\">\n",
              "      <th></th>\n",
              "      <th>profile_gender</th>\n",
              "      <th>profile_age</th>\n",
              "      <th>work_country</th>\n",
              "      <th>work_province</th>\n",
              "      <th>profile_years_experience</th>\n",
              "      <th>work_years_in_company</th>\n",
              "      <th>work_years_in_current_position</th>\n",
              "      <th>work_people_in_charge_of</th>\n",
              "      <th>profile_studies_level</th>\n",
              "      <th>profile_studies_level_state</th>\n",
              "      <th>...</th>\n",
              "      <th>work_has_violence_situations</th>\n",
              "      <th>profile_sexual_orientation</th>\n",
              "      <th>profile_has_disabilities</th>\n",
              "      <th>profile_has_disabilities_hiring_difficulties</th>\n",
              "      <th>company_employee_number</th>\n",
              "      <th>company_main_activity</th>\n",
              "      <th>company_recommended</th>\n",
              "      <th>company_diversity_policies</th>\n",
              "      <th>company_extra_benefits</th>\n",
              "      <th>company_best_companies_city</th>\n",
              "    </tr>\n",
              "  </thead>\n",
              "  <tbody>\n",
              "    <tr>\n",
              "      <th>4099</th>\n",
              "      <td>Otros</td>\n",
              "      <td>64</td>\n",
              "      <td>Argentina</td>\n",
              "      <td>Ciudad Autónoma de Buenos Aires</td>\n",
              "      <td>30.0</td>\n",
              "      <td>15.0</td>\n",
              "      <td>10.0</td>\n",
              "      <td>150</td>\n",
              "      <td>Doctorado</td>\n",
              "      <td>Completado</td>\n",
              "      <td>...</td>\n",
              "      <td>Jamás</td>\n",
              "      <td>¿Qué les importa?</td>\n",
              "      <td>Mental</td>\n",
              "      <td>No</td>\n",
              "      <td>51-100</td>\n",
              "      <td>Producto basado en Software</td>\n",
              "      <td>9</td>\n",
              "      <td>10</td>\n",
              "      <td>Abono de celular, Abono de Internet, Capacitac...</td>\n",
              "      <td>NaN</td>\n",
              "    </tr>\n",
              "  </tbody>\n",
              "</table>\n",
              "<p>1 rows × 48 columns</p>\n",
              "</div>\n",
              "      <button class=\"colab-df-convert\" onclick=\"convertToInteractive('df-3fda10a6-53fe-40fb-9ec1-37b96c324e49')\"\n",
              "              title=\"Convert this dataframe to an interactive table.\"\n",
              "              style=\"display:none;\">\n",
              "        \n",
              "  <svg xmlns=\"http://www.w3.org/2000/svg\" height=\"24px\"viewBox=\"0 0 24 24\"\n",
              "       width=\"24px\">\n",
              "    <path d=\"M0 0h24v24H0V0z\" fill=\"none\"/>\n",
              "    <path d=\"M18.56 5.44l.94 2.06.94-2.06 2.06-.94-2.06-.94-.94-2.06-.94 2.06-2.06.94zm-11 1L8.5 8.5l.94-2.06 2.06-.94-2.06-.94L8.5 2.5l-.94 2.06-2.06.94zm10 10l.94 2.06.94-2.06 2.06-.94-2.06-.94-.94-2.06-.94 2.06-2.06.94z\"/><path d=\"M17.41 7.96l-1.37-1.37c-.4-.4-.92-.59-1.43-.59-.52 0-1.04.2-1.43.59L10.3 9.45l-7.72 7.72c-.78.78-.78 2.05 0 2.83L4 21.41c.39.39.9.59 1.41.59.51 0 1.02-.2 1.41-.59l7.78-7.78 2.81-2.81c.8-.78.8-2.07 0-2.86zM5.41 20L4 18.59l7.72-7.72 1.47 1.35L5.41 20z\"/>\n",
              "  </svg>\n",
              "      </button>\n",
              "      \n",
              "  <style>\n",
              "    .colab-df-container {\n",
              "      display:flex;\n",
              "      flex-wrap:wrap;\n",
              "      gap: 12px;\n",
              "    }\n",
              "\n",
              "    .colab-df-convert {\n",
              "      background-color: #E8F0FE;\n",
              "      border: none;\n",
              "      border-radius: 50%;\n",
              "      cursor: pointer;\n",
              "      display: none;\n",
              "      fill: #1967D2;\n",
              "      height: 32px;\n",
              "      padding: 0 0 0 0;\n",
              "      width: 32px;\n",
              "    }\n",
              "\n",
              "    .colab-df-convert:hover {\n",
              "      background-color: #E2EBFA;\n",
              "      box-shadow: 0px 1px 2px rgba(60, 64, 67, 0.3), 0px 1px 3px 1px rgba(60, 64, 67, 0.15);\n",
              "      fill: #174EA6;\n",
              "    }\n",
              "\n",
              "    [theme=dark] .colab-df-convert {\n",
              "      background-color: #3B4455;\n",
              "      fill: #D2E3FC;\n",
              "    }\n",
              "\n",
              "    [theme=dark] .colab-df-convert:hover {\n",
              "      background-color: #434B5C;\n",
              "      box-shadow: 0px 1px 3px 1px rgba(0, 0, 0, 0.15);\n",
              "      filter: drop-shadow(0px 1px 2px rgba(0, 0, 0, 0.3));\n",
              "      fill: #FFFFFF;\n",
              "    }\n",
              "  </style>\n",
              "\n",
              "      <script>\n",
              "        const buttonEl =\n",
              "          document.querySelector('#df-3fda10a6-53fe-40fb-9ec1-37b96c324e49 button.colab-df-convert');\n",
              "        buttonEl.style.display =\n",
              "          google.colab.kernel.accessAllowed ? 'block' : 'none';\n",
              "\n",
              "        async function convertToInteractive(key) {\n",
              "          const element = document.querySelector('#df-3fda10a6-53fe-40fb-9ec1-37b96c324e49');\n",
              "          const dataTable =\n",
              "            await google.colab.kernel.invokeFunction('convertToInteractive',\n",
              "                                                     [key], {});\n",
              "          if (!dataTable) return;\n",
              "\n",
              "          const docLinkHtml = 'Like what you see? Visit the ' +\n",
              "            '<a target=\"_blank\" href=https://colab.research.google.com/notebooks/data_table.ipynb>data table notebook</a>'\n",
              "            + ' to learn more about interactive tables.';\n",
              "          element.innerHTML = '';\n",
              "          dataTable['output_type'] = 'display_data';\n",
              "          await google.colab.output.renderOutput(dataTable, element);\n",
              "          const docLink = document.createElement('div');\n",
              "          docLink.innerHTML = docLinkHtml;\n",
              "          element.appendChild(docLink);\n",
              "        }\n",
              "      </script>\n",
              "    </div>\n",
              "  </div>\n",
              "  "
            ]
          },
          "metadata": {},
          "execution_count": 54
        }
      ]
    },
    {
      "cell_type": "markdown",
      "source": [
        "### 2. Eliminación de outliers\n"
      ],
      "metadata": {
        "id": "zlKaBZXZvijp"
      }
    },
    {
      "cell_type": "markdown",
      "source": [
        "A continuación, se eliminan los outliers de las columnas seleccionadas. Seguidamente, se procede a elegir los lenguajes de programación más populares. Esta metodología permite seleccionar los lenguajes más populares provenientes de un DataFrame limpio, sin anomalías. Se evidenció durante la realización del práctico que si se procedía de manera inversa, es decir, en primer lugar elegir los lenguajes más populares para después eliminar anomalías, luego de esto último, los lenguajes más populares no eran los mismos que los determinados inicialmente. "
      ],
      "metadata": {
        "id": "0GXaVdzrd-Ww"
      }
    },
    {
      "cell_type": "markdown",
      "source": [
        "#### Eliminación de outliers en 'salary_monthly_NETO'"
      ],
      "metadata": {
        "id": "X3GTRuvu64nu"
      }
    },
    {
      "cell_type": "code",
      "source": [
        "min_salary_monthly_neto = df_copia['salary_monthly_NETO'].min()\n",
        "max_salary_monthly_neto = df_copia['salary_monthly_NETO'].max()\n",
        "print(f'El salario NETO mínimo de los programadores es {min_salary_monthly_neto}, mientras que el máximo es {max_salary_monthly_neto}')"
      ],
      "metadata": {
        "colab": {
          "base_uri": "https://localhost:8080/"
        },
        "id": "5yKuDI8e6-Fi",
        "outputId": "d0586a78-dd19-4e61-d187-8bd4580bdbe4"
      },
      "execution_count": null,
      "outputs": [
        {
          "output_type": "stream",
          "name": "stdout",
          "text": [
            "El salario NETO mínimo de los programadores es 1.0, mientras que el máximo es 2080000.0\n"
          ]
        }
      ]
    },
    {
      "cell_type": "markdown",
      "source": [
        "Identificación de valores nulos en la columna de salario NETO"
      ],
      "metadata": {
        "id": "Ae7mk9qxv7Cp"
      }
    },
    {
      "cell_type": "code",
      "source": [
        "df_copia['salary_monthly_NETO'].isnull().values.any() # Hay valores nulos"
      ],
      "metadata": {
        "colab": {
          "base_uri": "https://localhost:8080/"
        },
        "id": "stqGQuyvwOBd",
        "outputId": "5fe71e4e-9246-486a-acc9-465e9f1703df"
      },
      "execution_count": null,
      "outputs": [
        {
          "output_type": "execute_result",
          "data": {
            "text/plain": [
              "True"
            ]
          },
          "metadata": {},
          "execution_count": 56
        }
      ]
    },
    {
      "cell_type": "markdown",
      "source": [
        "Se procede a eliminar anomalías estableciendo un límite superior igual al percentil 96.5 y un límite inferior igual al percentil 3.5"
      ],
      "metadata": {
        "id": "qY-X4Muvvmjr"
      }
    },
    {
      "cell_type": "code",
      "source": [
        "k = 96.5\n",
        "limite_max = df_copia['salary_monthly_NETO'].quantile(k / 100)\n",
        "limite_min = df_copia['salary_monthly_NETO'].quantile((100-k)/100)\n",
        "print(f'El percentile {k} de la columna salary_monthly_NETO es {limite_max}')\n",
        "print(f'El percentile {100 - k} de la columna salary_montly_NETO es {limite_min}')\n",
        "\n",
        "plt.figure(figsize = (15,8))\n",
        "seaborn.boxenplot(x=df_copia['salary_monthly_NETO'])\n",
        "plt.axvline(limite_max, c = 'black', linestyle = 'dashed')\n",
        "plt.axvline(limite_min, c = 'black', linestyle = 'dashed')\n",
        "seaborn.despine()"
      ],
      "metadata": {
        "colab": {
          "base_uri": "https://localhost:8080/",
          "height": 554
        },
        "id": "5UOSEHv56HU2",
        "outputId": "239b50dc-6319-4097-decb-be72785d1933"
      },
      "execution_count": null,
      "outputs": [
        {
          "output_type": "stream",
          "name": "stdout",
          "text": [
            "El percentile 96.5 de la columna salary_monthly_NETO es 280000.0\n",
            "El percentile 3.5 de la columna salary_montly_NETO es 11261.00000000001\n"
          ]
        },
        {
          "output_type": "display_data",
          "data": {
            "text/plain": [
              "<Figure size 1080x576 with 1 Axes>"
            ],
            "image/png": "[encoded data removed]"
          },
          "metadata": {
            "needs_background": "light"
          }
        }
      ]
    },
    {
      "cell_type": "code",
      "source": [
        "seaborn.displot(df_copia['salary_monthly_NETO'], aspect = 2)\n",
        "plt.axvline(limite_max, c = 'black', linestyle = 'dashed')\n",
        "plt.axvline(limite_min, c = 'black', linestyle = 'dashed')\n",
        "plt.xlim(left = -0.1e6) # se corre el límite inferior de la gráfica para poder observar bien el corte\n",
        "plt.xlim(right = 1e6)\n",
        "plt.show()"
      ],
      "metadata": {
        "colab": {
          "base_uri": "https://localhost:8080/",
          "height": 352
        },
        "id": "7ZgjALV6KSVw",
        "outputId": "1cdb8bb2-1899-4c22-d7e5-38a34c93b5fe"
      },
      "execution_count": null,
      "outputs": [
        {
          "output_type": "display_data",
          "data": {
            "text/plain": [
              "<Figure size 720x360 with 1 Axes>"
            ],
            "image/png": "[encoded data removed]"
          },
          "metadata": {
            "needs_background": "light"
          }
        }
      ]
    },
    {
      "cell_type": "code",
      "source": [
        "fig = plt.figure(figsize = (8,6))\n",
        "seaborn.distplot(df_copia['salary_monthly_NETO'])\n",
        "plt.xlim(left = -0.1e6) # se corre el límite inferior de la gráfica para poder observar bien el corte\n",
        "plt.xlim(right = 1e6)\n",
        "plt.axvline(limite_max, c = 'black', linestyle = 'dashed')\n",
        "plt.axvline(limite_min, c = 'black', linestyle = 'dashed')\n",
        "plt.show()"
      ],
      "metadata": {
        "colab": {
          "base_uri": "https://localhost:8080/",
          "height": 482
        },
        "id": "1qQsb0Gkl49T",
        "outputId": "63d5f124-32d9-4515-f23c-659402607b09"
      },
      "execution_count": null,
      "outputs": [
        {
          "output_type": "stream",
          "name": "stderr",
          "text": [
            "/usr/local/lib/python3.7/dist-packages/seaborn/distributions.py:2619: FutureWarning: `distplot` is a deprecated function and will be removed in a future version. Please adapt your code to use either `displot` (a figure-level function with similar flexibility) or `histplot` (an axes-level function for histograms).\n",
            "  warnings.warn(msg, FutureWarning)\n"
          ]
        },
        {
          "output_type": "display_data",
          "data": {
            "text/plain": [
              "<Figure size 576x432 with 1 Axes>"
            ],
            "image/png": "[encoded data removed]"
          },
          "metadata": {
            "needs_background": "light"
          }
        }
      ]
    },
    {
      "cell_type": "code",
      "source": [
        "filtered_salary_neto = df_copia[(df_copia['salary_monthly_NETO'] < limite_max) & (df_copia['salary_monthly_NETO'] > limite_min)] "
      ],
      "metadata": {
        "id": "Rz4R_616or6u"
      },
      "execution_count": null,
      "outputs": []
    },
    {
      "cell_type": "markdown",
      "source": [
        "Gráfica de la distribución final del salario neto sin anomalías"
      ],
      "metadata": {
        "id": "gKw-GEE6sYXM"
      }
    },
    {
      "cell_type": "code",
      "source": [
        "plt.figure(figsize = (15,8))\n",
        "seaborn.displot(filtered_salary_neto['salary_monthly_NETO'], aspect = 2)\n",
        "plt.xlim(left = -0.1e6) # se corre el límite inferior de la gráfica para poder observar bien el corte\n",
        "plt.xlim(right = 1e6)\n",
        "plt.axvline(limite_max, c = 'black', linestyle = 'dashed')\n",
        "plt.axvline(limite_min, c = 'black', linestyle = 'dashed')\n",
        "plt.show()"
      ],
      "metadata": {
        "colab": {
          "base_uri": "https://localhost:8080/",
          "height": 369
        },
        "id": "9NFYajVLLr6t",
        "outputId": "205325cb-0de4-43a1-9768-9b31d88cafcf"
      },
      "execution_count": null,
      "outputs": [
        {
          "output_type": "display_data",
          "data": {
            "text/plain": [
              "<Figure size 1080x576 with 0 Axes>"
            ]
          },
          "metadata": {}
        },
        {
          "output_type": "display_data",
          "data": {
            "text/plain": [
              "<Figure size 720x360 with 1 Axes>"
            ],
            "image/png": "[encoded data removed]"
          },
          "metadata": {
            "needs_background": "light"
          }
        }
      ]
    },
    {
      "cell_type": "code",
      "source": [
        "plt.figure(figsize = (15,8))\n",
        "seaborn.displot(filtered_salary_neto['salary_monthly_NETO'], aspect = 2)\n",
        "plt.xlim(right = 0.3e6)\n",
        "plt.show()"
      ],
      "metadata": {
        "colab": {
          "base_uri": "https://localhost:8080/",
          "height": 369
        },
        "id": "DsG4LlECfP5-",
        "outputId": "3b33a1df-a32c-4536-a0fd-59928aed48d3"
      },
      "execution_count": null,
      "outputs": [
        {
          "output_type": "display_data",
          "data": {
            "text/plain": [
              "<Figure size 1080x576 with 0 Axes>"
            ]
          },
          "metadata": {}
        },
        {
          "output_type": "display_data",
          "data": {
            "text/plain": [
              "<Figure size 720x360 with 1 Axes>"
            ],
            "image/png": "[encoded data removed]"
          },
          "metadata": {
            "needs_background": "light"
          }
        }
      ]
    },
    {
      "cell_type": "code",
      "source": [
        "# Verificación de inexistencia de salarios nulos\n",
        "filtered_salary_neto['salary_monthly_NETO'].isnull().values.any()"
      ],
      "metadata": {
        "colab": {
          "base_uri": "https://localhost:8080/"
        },
        "id": "sd8x4iyWwG0h",
        "outputId": "2472ed71-ea8a-4853-9943-c4df277e056a"
      },
      "execution_count": null,
      "outputs": [
        {
          "output_type": "execute_result",
          "data": {
            "text/plain": [
              "False"
            ]
          },
          "metadata": {},
          "execution_count": 63
        }
      ]
    },
    {
      "cell_type": "markdown",
      "source": [
        "#### Eliminación de outliers en 'salary_monthly_BRUTO'"
      ],
      "metadata": {
        "id": "x89_ezZopBa-"
      }
    },
    {
      "cell_type": "code",
      "source": [
        "min_salary_monthly_bruto = filtered_salary_neto['salary_monthly_BRUTO'].min()\n",
        "max_salary_monthly_bruto = filtered_salary_neto['salary_monthly_BRUTO'].max()\n",
        "print(f'El salario BRUTO mínimo de los programadores es {min_salary_monthly_bruto}, mientras que el máximo es {max_salary_monthly_bruto}')"
      ],
      "metadata": {
        "colab": {
          "base_uri": "https://localhost:8080/"
        },
        "id": "SJZG9TXIpNTx",
        "outputId": "01cc53d0-4e4f-4586-a418-e023f75ae575"
      },
      "execution_count": null,
      "outputs": [
        {
          "output_type": "stream",
          "name": "stdout",
          "text": [
            "El salario BRUTO mínimo de los programadores es 1.0, mientras que el máximo es 2180000.0\n"
          ]
        }
      ]
    },
    {
      "cell_type": "markdown",
      "source": [
        "Para el caso del salario bruto, se procede a eliminar aquellos valores que sean menores al salario neto. Si son iguales, se considera que la persona no realiza aportes. Para ello se crea una variables nueva que toma el valor del cociente entre el salario NETO y el BRUTO"
      ],
      "metadata": {
        "id": "ay3pAKmEqk7M"
      }
    },
    {
      "cell_type": "code",
      "source": [
        "filtered_salary_neto['cociente_NETO_BRUTO'] = filtered_salary_neto['salary_monthly_NETO'] / filtered_salary_neto['salary_monthly_BRUTO']\n",
        "print(filtered_salary_neto['cociente_NETO_BRUTO'])"
      ],
      "metadata": {
        "colab": {
          "base_uri": "https://localhost:8080/"
        },
        "id": "fhOY9TxtpNeI",
        "outputId": "8cbd71be-b5a7-49ac-86a9-56f056d8753f"
      },
      "execution_count": null,
      "outputs": [
        {
          "output_type": "stream",
          "name": "stdout",
          "text": [
            "0       0.811321\n",
            "1       0.797468\n",
            "2       0.793750\n",
            "3       0.784615\n",
            "4       0.757143\n",
            "          ...   \n",
            "6088    0.818116\n",
            "6089    0.722222\n",
            "6090    0.979798\n",
            "6091    0.835294\n",
            "6094    0.764706\n",
            "Name: cociente_NETO_BRUTO, Length: 5470, dtype: float64\n"
          ]
        },
        {
          "output_type": "stream",
          "name": "stderr",
          "text": [
            "/usr/local/lib/python3.7/dist-packages/ipykernel_launcher.py:1: SettingWithCopyWarning: \n",
            "A value is trying to be set on a copy of a slice from a DataFrame.\n",
            "Try using .loc[row_indexer,col_indexer] = value instead\n",
            "\n",
            "See the caveats in the documentation: https://pandas.pydata.org/pandas-docs/stable/user_guide/indexing.html#returning-a-view-versus-a-copy\n",
            "  \"\"\"Entry point for launching an IPython kernel.\n"
          ]
        }
      ]
    },
    {
      "cell_type": "code",
      "source": [
        "seaborn.pairplot(data=filtered_salary_neto, y_vars=['salary_monthly_BRUTO'],x_vars=['salary_monthly_NETO'], aspect=2, height=4)\n",
        "plt.xticks(rotation=20)"
      ],
      "metadata": {
        "colab": {
          "base_uri": "https://localhost:8080/",
          "height": 351
        },
        "id": "QMiyG28kRkPJ",
        "outputId": "f3aa7e8a-0b4a-488a-9205-b41ddcef2a62"
      },
      "execution_count": null,
      "outputs": [
        {
          "output_type": "execute_result",
          "data": {
            "text/plain": [
              "(array([-50000.,      0.,  50000., 100000., 150000., 200000., 250000.,\n",
              "        300000.]), <a list of 8 Text major ticklabel objects>)"
            ]
          },
          "metadata": {},
          "execution_count": 66
        },
        {
          "output_type": "display_data",
          "data": {
            "text/plain": [
              "<Figure size 576x288 with 1 Axes>"
            ],
            "image/png": "[encoded data removed]"
          },
          "metadata": {
            "needs_background": "light"
          }
        }
      ]
    },
    {
      "cell_type": "markdown",
      "source": [
        "Al eliminar los outliers correspondientes a un cociente NETO-BRUTO mayor a la unidad se obtiene lo siguiente"
      ],
      "metadata": {
        "id": "9b16O9-qRoWf"
      }
    },
    {
      "cell_type": "code",
      "source": [
        "filtered_salary_bruto = filtered_salary_neto[(filtered_salary_neto['cociente_NETO_BRUTO'] < 1.0) & (filtered_salary_neto['cociente_NETO_BRUTO'] > 0)]\n",
        "seaborn.pairplot(data=filtered_salary_bruto, y_vars=['salary_monthly_BRUTO'],x_vars=['salary_monthly_NETO'], aspect=2, height=4)\n",
        "plt.xticks(rotation=20)"
      ],
      "metadata": {
        "colab": {
          "base_uri": "https://localhost:8080/",
          "height": 351
        },
        "id": "uSxZ1PsOwpxw",
        "outputId": "61b6bde1-f4a3-4f1f-d811-acf90e0aafd6"
      },
      "execution_count": null,
      "outputs": [
        {
          "output_type": "execute_result",
          "data": {
            "text/plain": [
              "(array([-50000.,      0.,  50000., 100000., 150000., 200000., 250000.,\n",
              "        300000.]), <a list of 8 Text major ticklabel objects>)"
            ]
          },
          "metadata": {},
          "execution_count": 67
        },
        {
          "output_type": "display_data",
          "data": {
            "text/plain": [
              "<Figure size 576x288 with 1 Axes>"
            ],
            "image/png": "[encoded data removed]"
          },
          "metadata": {
            "needs_background": "light"
          }
        }
      ]
    },
    {
      "cell_type": "code",
      "source": [
        "seaborn.displot(filtered_salary_bruto['cociente_NETO_BRUTO'], aspect = 2)"
      ],
      "metadata": {
        "colab": {
          "base_uri": "https://localhost:8080/",
          "height": 369
        },
        "id": "6BXnAXIsyEjG",
        "outputId": "20374f81-c7f4-41b1-ff45-a2163b45e63f"
      },
      "execution_count": null,
      "outputs": [
        {
          "output_type": "execute_result",
          "data": {
            "text/plain": [
              "<seaborn.axisgrid.FacetGrid at 0x7efc6c81e210>"
            ]
          },
          "metadata": {},
          "execution_count": 68
        },
        {
          "output_type": "display_data",
          "data": {
            "text/plain": [
              "<Figure size 720x360 with 1 Axes>"
            ],
            "image/png": "[encoded data removed]"
          },
          "metadata": {
            "needs_background": "light"
          }
        }
      ]
    },
    {
      "cell_type": "markdown",
      "source": [
        "Se toman como outliers inferiores los valores menores a 0.6 y se los elimina"
      ],
      "metadata": {
        "id": "X_5upjMP5SxP"
      }
    },
    {
      "cell_type": "code",
      "source": [
        "filtered_df = filtered_salary_bruto[filtered_salary_bruto['cociente_NETO_BRUTO'] > 0.6]\n",
        "seaborn.displot(filtered_df['cociente_NETO_BRUTO'], aspect = 2)"
      ],
      "metadata": {
        "colab": {
          "base_uri": "https://localhost:8080/",
          "height": 369
        },
        "id": "1sXq4dy3zDOV",
        "outputId": "ed85ef5c-cf5e-4b28-8ec7-3c41f0923bd8"
      },
      "execution_count": null,
      "outputs": [
        {
          "output_type": "execute_result",
          "data": {
            "text/plain": [
              "<seaborn.axisgrid.FacetGrid at 0x7efc6ae46410>"
            ]
          },
          "metadata": {},
          "execution_count": 69
        },
        {
          "output_type": "display_data",
          "data": {
            "text/plain": [
              "<Figure size 720x360 with 1 Axes>"
            ],
            "image/png": "[encoded data removed]"
          },
          "metadata": {
            "needs_background": "light"
          }
        }
      ]
    },
    {
      "cell_type": "markdown",
      "source": [
        "#### Outliers en 'profile_age'"
      ],
      "metadata": {
        "id": "9kQGmbIS2gCI"
      }
    },
    {
      "cell_type": "code",
      "source": [
        "min_profile_age = filtered_df['profile_age'].min()\n",
        "max_profile_age = filtered_df['profile_age'].max()\n",
        "print(f'La edad mínima de los programadores es {min_profile_age} años, mientras que la máxima es {max_profile_age} años')\n",
        "filtered_df['profile_age'].unique()"
      ],
      "metadata": {
        "colab": {
          "base_uri": "https://localhost:8080/"
        },
        "id": "qQp-xI1u2m4n",
        "outputId": "2f146829-eb9f-4539-8dcc-f0fe7b3d1dcd"
      },
      "execution_count": null,
      "outputs": [
        {
          "output_type": "stream",
          "name": "stdout",
          "text": [
            "La edad mínima de los programadores es 18 años, mientras que la máxima es 567 años\n"
          ]
        },
        {
          "output_type": "execute_result",
          "data": {
            "text/plain": [
              "array([ 26,  29,  22,  39,  32,  25,  33,  23,  40,  35,  34,  45,  42,\n",
              "        31,  24,  37,  41,  30,  28,  53,  21,  27,  43,  44,  38,  20,\n",
              "        47,  36,  19,  49,  52,  46,  50,  48,  56,  54,  51,  61,  57,\n",
              "        67,  55,  18,  58, 567,  65,  59,  60,  64,  62])"
            ]
          },
          "metadata": {},
          "execution_count": 70
        }
      ]
    },
    {
      "cell_type": "code",
      "source": [
        "plt.figure(figsize = (15,8))\n",
        "seaborn.boxenplot(x=filtered_df['profile_age'])"
      ],
      "metadata": {
        "colab": {
          "base_uri": "https://localhost:8080/",
          "height": 536
        },
        "id": "sQBjWwzcN7rn",
        "outputId": "071a70ca-3e80-4e4b-ce8f-59ab6f7488f6"
      },
      "execution_count": null,
      "outputs": [
        {
          "output_type": "execute_result",
          "data": {
            "text/plain": [
              "<matplotlib.axes._subplots.AxesSubplot at 0x7efc6ad41210>"
            ]
          },
          "metadata": {},
          "execution_count": 71
        },
        {
          "output_type": "display_data",
          "data": {
            "text/plain": [
              "<Figure size 1080x576 with 1 Axes>"
            ],
            "image/png": "[encoded data removed]"
          },
          "metadata": {
            "needs_background": "light"
          }
        }
      ]
    },
    {
      "cell_type": "markdown",
      "source": [
        "Para este caso se eliminan anomalias de edad estableciendo un límite superior de 65 años, valor máximo correspondiente a la edad jubilatoria en Argentina.\n",
        "\n",
        "En relación al límite inferior, se considera la mayoría de edad en Argentina, la cual es de 18 años. El valor mínimo de esta categoría  corresponde a dicha edad, por lo que no es necesario aplicar ningún filtro inferior.  "
      ],
      "metadata": {
        "id": "EwwjamTByF2s"
      }
    },
    {
      "cell_type": "code",
      "source": [
        "# Eliminación de anomalías en edades\n",
        "df = filtered_df[filtered_df['profile_age'] <= 65].copy() # redefino el nombre del dataset\n",
        "plt.figure(figsize = (15,8))\n",
        "seaborn.displot(df['profile_age'] , aspect = 2, bins = 20)\n",
        "plt.xlim(0,100)\n",
        "plt.axvline(65, color = 'black', linestyle = 'dashed')\n",
        "plt.axvline(18, color = 'black', linestyle = 'dashed')\n",
        "plt.show()"
      ],
      "metadata": {
        "id": "C2qqr1T9qb-d",
        "colab": {
          "base_uri": "https://localhost:8080/",
          "height": 369
        },
        "outputId": "5c57efc9-0c6e-4223-bcd9-c4b5dff1302b"
      },
      "execution_count": null,
      "outputs": [
        {
          "output_type": "display_data",
          "data": {
            "text/plain": [
              "<Figure size 1080x576 with 0 Axes>"
            ]
          },
          "metadata": {}
        },
        {
          "output_type": "display_data",
          "data": {
            "text/plain": [
              "<Figure size 720x360 with 1 Axes>"
            ],
            "image/png": "[encoded data removed]"
          },
          "metadata": {
            "needs_background": "light"
          }
        }
      ]
    },
    {
      "cell_type": "markdown",
      "source": [
        "### 3. Separación por lenguajes e identificación de lenguajes más populares"
      ],
      "metadata": {
        "id": "FqzC1GDLVXqf"
      }
    },
    {
      "cell_type": "code",
      "source": [
        "print(f'La longitud del DataFrame filtrado es {len(df)}') # Cantidad final de programadores luego de aplicar los filtros"
      ],
      "metadata": {
        "colab": {
          "base_uri": "https://localhost:8080/"
        },
        "id": "lePlmI5iXTfS",
        "outputId": "4d669429-a534-4b05-fa13-135c0ff327d1"
      },
      "execution_count": null,
      "outputs": [
        {
          "output_type": "stream",
          "name": "stdout",
          "text": [
            "La longitud del DataFrame filtrado es 5051\n"
          ]
        }
      ]
    },
    {
      "cell_type": "code",
      "source": [
        "# Convert the comma-separated string of languages to a list of string.\n",
        "# Remove 'ninguno de los anteriores' option, spaces and training commas.\n",
        "def split_languages(languages_str):\n",
        "  if not isinstance(languages_str, str):\n",
        "    return []\n",
        "  # Remove 'other' option\n",
        "  languages_str = languages_str.lower()\\\n",
        "    .replace('ninguno de los anteriores', '')\n",
        "  # Split string into list of items\n",
        "  # Remove spaces and commas for each item\n",
        "  return [lang.strip().replace(',', '')\n",
        "          for lang in languages_str.split()]\n",
        "\n",
        "# Create a new column with the list of languages\n",
        "df.loc[:, 'cured_programming_languages'] = df.tools_programming_languages\\\n",
        "    .apply(split_languages)\n",
        "if 'cured_programming_languages' not in relevant_columns:\n",
        "    relevant_columns.append('cured_programming_languages') \n",
        "\n",
        "# Duplicate each row of df for each programming language\n",
        "# mentioned in the response.\n",
        "# We only include in df_lang the columns we are going to analyze later, so we\n",
        "# don't duplicate innecesary information.\n",
        "df_lang = df.cured_programming_languages\\\n",
        "    .apply(pd.Series).stack()\\\n",
        "    .reset_index(level=-1, drop=True).to_frame()\\\n",
        "    .join(df[relevant_columns])\\\n",
        "    .rename(columns={0: 'programming_language'})\n",
        "# Horrible programming style! But a lot of data science code can be written with\n",
        "# as concatenations of functions (pipelines), and there's no elegant way of\n",
        "# doing that on Python.\n",
        "df_lang[:5]"
      ],
      "metadata": {
        "colab": {
          "base_uri": "https://localhost:8080/",
          "height": 206
        },
        "id": "o9d45masQL99",
        "outputId": "657a9fa4-8ce0-416a-f5bd-288b77605568"
      },
      "execution_count": null,
      "outputs": [
        {
          "output_type": "execute_result",
          "data": {
            "text/plain": [
              "  programming_language tools_programming_languages  salary_monthly_NETO  \\\n",
              "0              ninguno                     Ninguno              43000.0   \n",
              "1                 html    HTML, Javascript, Python              63000.0   \n",
              "1           javascript    HTML, Javascript, Python              63000.0   \n",
              "1               python    HTML, Javascript, Python              63000.0   \n",
              "2              ninguno                     Ninguno             127000.0   \n",
              "\n",
              "   salary_monthly_BRUTO  profile_age cured_programming_languages  \n",
              "0               53000.0           26                   [ninguno]  \n",
              "1               79000.0           29  [html, javascript, python]  \n",
              "1               79000.0           29  [html, javascript, python]  \n",
              "1               79000.0           29  [html, javascript, python]  \n",
              "2              160000.0           22                   [ninguno]  "
            ],
            "text/html": [
              "\n",
              "  <div id=\"df-77650b83-38c9-4e41-a3d9-072d5df2aedd\">\n",
              "    <div class=\"colab-df-container\">\n",
              "      <div>\n",
              "<style scoped>\n",
              "    .dataframe tbody tr th:only-of-type {\n",
              "        vertical-align: middle;\n",
              "    }\n",
              "\n",
              "    .dataframe tbody tr th {\n",
              "        vertical-align: top;\n",
              "    }\n",
              "\n",
              "    .dataframe thead th {\n",
              "        text-align: right;\n",
              "    }\n",
              "</style>\n",
              "<table border=\"1\" class=\"dataframe\">\n",
              "  <thead>\n",
              "    <tr style=\"text-align: right;\">\n",
              "      <th></th>\n",
              "      <th>programming_language</th>\n",
              "      <th>tools_programming_languages</th>\n",
              "      <th>salary_monthly_NETO</th>\n",
              "      <th>salary_monthly_BRUTO</th>\n",
              "      <th>profile_age</th>\n",
              "      <th>cured_programming_languages</th>\n",
              "    </tr>\n",
              "  </thead>\n",
              "  <tbody>\n",
              "    <tr>\n",
              "      <th>0</th>\n",
              "      <td>ninguno</td>\n",
              "      <td>Ninguno</td>\n",
              "      <td>43000.0</td>\n",
              "      <td>53000.0</td>\n",
              "      <td>26</td>\n",
              "      <td>[ninguno]</td>\n",
              "    </tr>\n",
              "    <tr>\n",
              "      <th>1</th>\n",
              "      <td>html</td>\n",
              "      <td>HTML, Javascript, Python</td>\n",
              "      <td>63000.0</td>\n",
              "      <td>79000.0</td>\n",
              "      <td>29</td>\n",
              "      <td>[html, javascript, python]</td>\n",
              "    </tr>\n",
              "    <tr>\n",
              "      <th>1</th>\n",
              "      <td>javascript</td>\n",
              "      <td>HTML, Javascript, Python</td>\n",
              "      <td>63000.0</td>\n",
              "      <td>79000.0</td>\n",
              "      <td>29</td>\n",
              "      <td>[html, javascript, python]</td>\n",
              "    </tr>\n",
              "    <tr>\n",
              "      <th>1</th>\n",
              "      <td>python</td>\n",
              "      <td>HTML, Javascript, Python</td>\n",
              "      <td>63000.0</td>\n",
              "      <td>79000.0</td>\n",
              "      <td>29</td>\n",
              "      <td>[html, javascript, python]</td>\n",
              "    </tr>\n",
              "    <tr>\n",
              "      <th>2</th>\n",
              "      <td>ninguno</td>\n",
              "      <td>Ninguno</td>\n",
              "      <td>127000.0</td>\n",
              "      <td>160000.0</td>\n",
              "      <td>22</td>\n",
              "      <td>[ninguno]</td>\n",
              "    </tr>\n",
              "  </tbody>\n",
              "</table>\n",
              "</div>\n",
              "      <button class=\"colab-df-convert\" onclick=\"convertToInteractive('df-77650b83-38c9-4e41-a3d9-072d5df2aedd')\"\n",
              "              title=\"Convert this dataframe to an interactive table.\"\n",
              "              style=\"display:none;\">\n",
              "        \n",
              "  <svg xmlns=\"http://www.w3.org/2000/svg\" height=\"24px\"viewBox=\"0 0 24 24\"\n",
              "       width=\"24px\">\n",
              "    <path d=\"M0 0h24v24H0V0z\" fill=\"none\"/>\n",
              "    <path d=\"M18.56 5.44l.94 2.06.94-2.06 2.06-.94-2.06-.94-.94-2.06-.94 2.06-2.06.94zm-11 1L8.5 8.5l.94-2.06 2.06-.94-2.06-.94L8.5 2.5l-.94 2.06-2.06.94zm10 10l.94 2.06.94-2.06 2.06-.94-2.06-.94-.94-2.06-.94 2.06-2.06.94z\"/><path d=\"M17.41 7.96l-1.37-1.37c-.4-.4-.92-.59-1.43-.59-.52 0-1.04.2-1.43.59L10.3 9.45l-7.72 7.72c-.78.78-.78 2.05 0 2.83L4 21.41c.39.39.9.59 1.41.59.51 0 1.02-.2 1.41-.59l7.78-7.78 2.81-2.81c.8-.78.8-2.07 0-2.86zM5.41 20L4 18.59l7.72-7.72 1.47 1.35L5.41 20z\"/>\n",
              "  </svg>\n",
              "      </button>\n",
              "      \n",
              "  <style>\n",
              "    .colab-df-container {\n",
              "      display:flex;\n",
              "      flex-wrap:wrap;\n",
              "      gap: 12px;\n",
              "    }\n",
              "\n",
              "    .colab-df-convert {\n",
              "      background-color: #E8F0FE;\n",
              "      border: none;\n",
              "      border-radius: 50%;\n",
              "      cursor: pointer;\n",
              "      display: none;\n",
              "      fill: #1967D2;\n",
              "      height: 32px;\n",
              "      padding: 0 0 0 0;\n",
              "      width: 32px;\n",
              "    }\n",
              "\n",
              "    .colab-df-convert:hover {\n",
              "      background-color: #E2EBFA;\n",
              "      box-shadow: 0px 1px 2px rgba(60, 64, 67, 0.3), 0px 1px 3px 1px rgba(60, 64, 67, 0.15);\n",
              "      fill: #174EA6;\n",
              "    }\n",
              "\n",
              "    [theme=dark] .colab-df-convert {\n",
              "      background-color: #3B4455;\n",
              "      fill: #D2E3FC;\n",
              "    }\n",
              "\n",
              "    [theme=dark] .colab-df-convert:hover {\n",
              "      background-color: #434B5C;\n",
              "      box-shadow: 0px 1px 3px 1px rgba(0, 0, 0, 0.15);\n",
              "      filter: drop-shadow(0px 1px 2px rgba(0, 0, 0, 0.3));\n",
              "      fill: #FFFFFF;\n",
              "    }\n",
              "  </style>\n",
              "\n",
              "      <script>\n",
              "        const buttonEl =\n",
              "          document.querySelector('#df-77650b83-38c9-4e41-a3d9-072d5df2aedd button.colab-df-convert');\n",
              "        buttonEl.style.display =\n",
              "          google.colab.kernel.accessAllowed ? 'block' : 'none';\n",
              "\n",
              "        async function convertToInteractive(key) {\n",
              "          const element = document.querySelector('#df-77650b83-38c9-4e41-a3d9-072d5df2aedd');\n",
              "          const dataTable =\n",
              "            await google.colab.kernel.invokeFunction('convertToInteractive',\n",
              "                                                     [key], {});\n",
              "          if (!dataTable) return;\n",
              "\n",
              "          const docLinkHtml = 'Like what you see? Visit the ' +\n",
              "            '<a target=\"_blank\" href=https://colab.research.google.com/notebooks/data_table.ipynb>data table notebook</a>'\n",
              "            + ' to learn more about interactive tables.';\n",
              "          element.innerHTML = '';\n",
              "          dataTable['output_type'] = 'display_data';\n",
              "          await google.colab.output.renderOutput(dataTable, element);\n",
              "          const docLink = document.createElement('div');\n",
              "          docLink.innerHTML = docLinkHtml;\n",
              "          element.appendChild(docLink);\n",
              "        }\n",
              "      </script>\n",
              "    </div>\n",
              "  </div>\n",
              "  "
            ]
          },
          "metadata": {},
          "execution_count": 74
        }
      ]
    },
    {
      "cell_type": "code",
      "source": [
        "print(f'La longitud del DataFrame extendido es {len(df_lang)}') "
      ],
      "metadata": {
        "colab": {
          "base_uri": "https://localhost:8080/"
        },
        "id": "7xkQ1T1AVLGq",
        "outputId": "135ed0e8-0e6f-4884-8c6e-371960de942e"
      },
      "execution_count": null,
      "outputs": [
        {
          "output_type": "stream",
          "name": "stdout",
          "text": [
            "La longitud del DataFrame extendido es 14777\n"
          ]
        }
      ]
    },
    {
      "cell_type": "code",
      "source": [
        "language_count = df_lang.programming_language.value_counts()\\\n",
        "    .reset_index()\\\n",
        "    .rename(columns={'index': 'language', 'programming_language': 'frequency'})\n",
        "lenguajes_total = language_count['language'].tolist() # lista de todos los lenguajes\n",
        "total_leguajes = len(language_count)\n",
        "print(f'La cantidad total de lenguajes de programación es {total_leguajes}')\n",
        "language_count"
      ],
      "metadata": {
        "id": "Dn5McEOcVW5D",
        "colab": {
          "base_uri": "https://localhost:8080/",
          "height": 441
        },
        "outputId": "c147fbf0-e3db-45e3-931e-d631687cf58d"
      },
      "execution_count": null,
      "outputs": [
        {
          "output_type": "stream",
          "name": "stdout",
          "text": [
            "La cantidad total de lenguajes de programación es 182\n"
          ]
        },
        {
          "output_type": "execute_result",
          "data": {
            "text/plain": [
              "       language  frequency\n",
              "0    javascript       2023\n",
              "1           sql       1805\n",
              "2          html       1491\n",
              "3          java       1247\n",
              "4        python       1225\n",
              "..          ...        ...\n",
              "177      adabas          1\n",
              "178     natural          1\n",
              "179     arduino          1\n",
              "180     graphql          1\n",
              "181   infobasic          1\n",
              "\n",
              "[182 rows x 2 columns]"
            ],
            "text/html": [
              "\n",
              "  <div id=\"df-a7792db2-4e35-4893-bd3f-6d49901b56cc\">\n",
              "    <div class=\"colab-df-container\">\n",
              "      <div>\n",
              "<style scoped>\n",
              "    .dataframe tbody tr th:only-of-type {\n",
              "        vertical-align: middle;\n",
              "    }\n",
              "\n",
              "    .dataframe tbody tr th {\n",
              "        vertical-align: top;\n",
              "    }\n",
              "\n",
              "    .dataframe thead th {\n",
              "        text-align: right;\n",
              "    }\n",
              "</style>\n",
              "<table border=\"1\" class=\"dataframe\">\n",
              "  <thead>\n",
              "    <tr style=\"text-align: right;\">\n",
              "      <th></th>\n",
              "      <th>language</th>\n",
              "      <th>frequency</th>\n",
              "    </tr>\n",
              "  </thead>\n",
              "  <tbody>\n",
              "    <tr>\n",
              "      <th>0</th>\n",
              "      <td>javascript</td>\n",
              "      <td>2023</td>\n",
              "    </tr>\n",
              "    <tr>\n",
              "      <th>1</th>\n",
              "      <td>sql</td>\n",
              "      <td>1805</td>\n",
              "    </tr>\n",
              "    <tr>\n",
              "      <th>2</th>\n",
              "      <td>html</td>\n",
              "      <td>1491</td>\n",
              "    </tr>\n",
              "    <tr>\n",
              "      <th>3</th>\n",
              "      <td>java</td>\n",
              "      <td>1247</td>\n",
              "    </tr>\n",
              "    <tr>\n",
              "      <th>4</th>\n",
              "      <td>python</td>\n",
              "      <td>1225</td>\n",
              "    </tr>\n",
              "    <tr>\n",
              "      <th>...</th>\n",
              "      <td>...</td>\n",
              "      <td>...</td>\n",
              "    </tr>\n",
              "    <tr>\n",
              "      <th>177</th>\n",
              "      <td>adabas</td>\n",
              "      <td>1</td>\n",
              "    </tr>\n",
              "    <tr>\n",
              "      <th>178</th>\n",
              "      <td>natural</td>\n",
              "      <td>1</td>\n",
              "    </tr>\n",
              "    <tr>\n",
              "      <th>179</th>\n",
              "      <td>arduino</td>\n",
              "      <td>1</td>\n",
              "    </tr>\n",
              "    <tr>\n",
              "      <th>180</th>\n",
              "      <td>graphql</td>\n",
              "      <td>1</td>\n",
              "    </tr>\n",
              "    <tr>\n",
              "      <th>181</th>\n",
              "      <td>infobasic</td>\n",
              "      <td>1</td>\n",
              "    </tr>\n",
              "  </tbody>\n",
              "</table>\n",
              "<p>182 rows × 2 columns</p>\n",
              "</div>\n",
              "      <button class=\"colab-df-convert\" onclick=\"convertToInteractive('df-a7792db2-4e35-4893-bd3f-6d49901b56cc')\"\n",
              "              title=\"Convert this dataframe to an interactive table.\"\n",
              "              style=\"display:none;\">\n",
              "        \n",
              "  <svg xmlns=\"http://www.w3.org/2000/svg\" height=\"24px\"viewBox=\"0 0 24 24\"\n",
              "       width=\"24px\">\n",
              "    <path d=\"M0 0h24v24H0V0z\" fill=\"none\"/>\n",
              "    <path d=\"M18.56 5.44l.94 2.06.94-2.06 2.06-.94-2.06-.94-.94-2.06-.94 2.06-2.06.94zm-11 1L8.5 8.5l.94-2.06 2.06-.94-2.06-.94L8.5 2.5l-.94 2.06-2.06.94zm10 10l.94 2.06.94-2.06 2.06-.94-2.06-.94-.94-2.06-.94 2.06-2.06.94z\"/><path d=\"M17.41 7.96l-1.37-1.37c-.4-.4-.92-.59-1.43-.59-.52 0-1.04.2-1.43.59L10.3 9.45l-7.72 7.72c-.78.78-.78 2.05 0 2.83L4 21.41c.39.39.9.59 1.41.59.51 0 1.02-.2 1.41-.59l7.78-7.78 2.81-2.81c.8-.78.8-2.07 0-2.86zM5.41 20L4 18.59l7.72-7.72 1.47 1.35L5.41 20z\"/>\n",
              "  </svg>\n",
              "      </button>\n",
              "      \n",
              "  <style>\n",
              "    .colab-df-container {\n",
              "      display:flex;\n",
              "      flex-wrap:wrap;\n",
              "      gap: 12px;\n",
              "    }\n",
              "\n",
              "    .colab-df-convert {\n",
              "      background-color: #E8F0FE;\n",
              "      border: none;\n",
              "      border-radius: 50%;\n",
              "      cursor: pointer;\n",
              "      display: none;\n",
              "      fill: #1967D2;\n",
              "      height: 32px;\n",
              "      padding: 0 0 0 0;\n",
              "      width: 32px;\n",
              "    }\n",
              "\n",
              "    .colab-df-convert:hover {\n",
              "      background-color: #E2EBFA;\n",
              "      box-shadow: 0px 1px 2px rgba(60, 64, 67, 0.3), 0px 1px 3px 1px rgba(60, 64, 67, 0.15);\n",
              "      fill: #174EA6;\n",
              "    }\n",
              "\n",
              "    [theme=dark] .colab-df-convert {\n",
              "      background-color: #3B4455;\n",
              "      fill: #D2E3FC;\n",
              "    }\n",
              "\n",
              "    [theme=dark] .colab-df-convert:hover {\n",
              "      background-color: #434B5C;\n",
              "      box-shadow: 0px 1px 3px 1px rgba(0, 0, 0, 0.15);\n",
              "      filter: drop-shadow(0px 1px 2px rgba(0, 0, 0, 0.3));\n",
              "      fill: #FFFFFF;\n",
              "    }\n",
              "  </style>\n",
              "\n",
              "      <script>\n",
              "        const buttonEl =\n",
              "          document.querySelector('#df-a7792db2-4e35-4893-bd3f-6d49901b56cc button.colab-df-convert');\n",
              "        buttonEl.style.display =\n",
              "          google.colab.kernel.accessAllowed ? 'block' : 'none';\n",
              "\n",
              "        async function convertToInteractive(key) {\n",
              "          const element = document.querySelector('#df-a7792db2-4e35-4893-bd3f-6d49901b56cc');\n",
              "          const dataTable =\n",
              "            await google.colab.kernel.invokeFunction('convertToInteractive',\n",
              "                                                     [key], {});\n",
              "          if (!dataTable) return;\n",
              "\n",
              "          const docLinkHtml = 'Like what you see? Visit the ' +\n",
              "            '<a target=\"_blank\" href=https://colab.research.google.com/notebooks/data_table.ipynb>data table notebook</a>'\n",
              "            + ' to learn more about interactive tables.';\n",
              "          element.innerHTML = '';\n",
              "          dataTable['output_type'] = 'display_data';\n",
              "          await google.colab.output.renderOutput(dataTable, element);\n",
              "          const docLink = document.createElement('div');\n",
              "          docLink.innerHTML = docLinkHtml;\n",
              "          element.appendChild(docLink);\n",
              "        }\n",
              "      </script>\n",
              "    </div>\n",
              "  </div>\n",
              "  "
            ]
          },
          "metadata": {},
          "execution_count": 76
        }
      ]
    },
    {
      "cell_type": "markdown",
      "source": [
        "Se toma el 5.5% supeperior de la lista de todos los lenguajes de programación. Eso corresponde a los 10 lenguajes más populares."
      ],
      "metadata": {
        "id": "j09OoKOrX1gJ"
      }
    },
    {
      "cell_type": "code",
      "source": [
        "num = int(total_leguajes*0.055)\n",
        "print(f'Los {num} lenguajes más populares son: {lenguajes_total[:num]}')\n",
        "conteo_mas_populares = sum(language_count[:num]['frequency'])# los más populares\n",
        "conteo_menos_populares = sum(language_count[num:]['frequency'])# los menos populares\n",
        "print(f'La sumatoria de las frecuencias absolutas de los 10 lenguajes más populares es {conteo_mas_populares}')\n",
        "print(f'La sumatoria de las frecuencias absolutas de todos los lenguajes restantes es {conteo_menos_populares}')\n",
        "lenguaje_table = language_count[:num]\n",
        "lenguaje_table"
      ],
      "metadata": {
        "colab": {
          "base_uri": "https://localhost:8080/",
          "height": 415
        },
        "id": "aAht0Q7yWK3L",
        "outputId": "a5eb9b78-eb25-49b3-dd35-be9d8df4c55a"
      },
      "execution_count": null,
      "outputs": [
        {
          "output_type": "stream",
          "name": "stdout",
          "text": [
            "Los 10 lenguajes más populares son: ['javascript', 'sql', 'html', 'java', 'python', 'css', 'bash/shell', 'php', '.net', 'typescript']\n",
            "La sumatoria de las frecuencias absolutas de los 10 lenguajes más populares es 11635\n",
            "La sumatoria de las frecuencias absolutas de todos los lenguajes restantes es 3142\n"
          ]
        },
        {
          "output_type": "execute_result",
          "data": {
            "text/plain": [
              "     language  frequency\n",
              "0  javascript       2023\n",
              "1         sql       1805\n",
              "2        html       1491\n",
              "3        java       1247\n",
              "4      python       1225\n",
              "5         css       1001\n",
              "6  bash/shell        832\n",
              "7         php        700\n",
              "8        .net        685\n",
              "9  typescript        626"
            ],
            "text/html": [
              "\n",
              "  <div id=\"df-a55c52a2-0b81-492f-8d0c-afef6b704b30\">\n",
              "    <div class=\"colab-df-container\">\n",
              "      <div>\n",
              "<style scoped>\n",
              "    .dataframe tbody tr th:only-of-type {\n",
              "        vertical-align: middle;\n",
              "    }\n",
              "\n",
              "    .dataframe tbody tr th {\n",
              "        vertical-align: top;\n",
              "    }\n",
              "\n",
              "    .dataframe thead th {\n",
              "        text-align: right;\n",
              "    }\n",
              "</style>\n",
              "<table border=\"1\" class=\"dataframe\">\n",
              "  <thead>\n",
              "    <tr style=\"text-align: right;\">\n",
              "      <th></th>\n",
              "      <th>language</th>\n",
              "      <th>frequency</th>\n",
              "    </tr>\n",
              "  </thead>\n",
              "  <tbody>\n",
              "    <tr>\n",
              "      <th>0</th>\n",
              "      <td>javascript</td>\n",
              "      <td>2023</td>\n",
              "    </tr>\n",
              "    <tr>\n",
              "      <th>1</th>\n",
              "      <td>sql</td>\n",
              "      <td>1805</td>\n",
              "    </tr>\n",
              "    <tr>\n",
              "      <th>2</th>\n",
              "      <td>html</td>\n",
              "      <td>1491</td>\n",
              "    </tr>\n",
              "    <tr>\n",
              "      <th>3</th>\n",
              "      <td>java</td>\n",
              "      <td>1247</td>\n",
              "    </tr>\n",
              "    <tr>\n",
              "      <th>4</th>\n",
              "      <td>python</td>\n",
              "      <td>1225</td>\n",
              "    </tr>\n",
              "    <tr>\n",
              "      <th>5</th>\n",
              "      <td>css</td>\n",
              "      <td>1001</td>\n",
              "    </tr>\n",
              "    <tr>\n",
              "      <th>6</th>\n",
              "      <td>bash/shell</td>\n",
              "      <td>832</td>\n",
              "    </tr>\n",
              "    <tr>\n",
              "      <th>7</th>\n",
              "      <td>php</td>\n",
              "      <td>700</td>\n",
              "    </tr>\n",
              "    <tr>\n",
              "      <th>8</th>\n",
              "      <td>.net</td>\n",
              "      <td>685</td>\n",
              "    </tr>\n",
              "    <tr>\n",
              "      <th>9</th>\n",
              "      <td>typescript</td>\n",
              "      <td>626</td>\n",
              "    </tr>\n",
              "  </tbody>\n",
              "</table>\n",
              "</div>\n",
              "      <button class=\"colab-df-convert\" onclick=\"convertToInteractive('df-a55c52a2-0b81-492f-8d0c-afef6b704b30')\"\n",
              "              title=\"Convert this dataframe to an interactive table.\"\n",
              "              style=\"display:none;\">\n",
              "        \n",
              "  <svg xmlns=\"http://www.w3.org/2000/svg\" height=\"24px\"viewBox=\"0 0 24 24\"\n",
              "       width=\"24px\">\n",
              "    <path d=\"M0 0h24v24H0V0z\" fill=\"none\"/>\n",
              "    <path d=\"M18.56 5.44l.94 2.06.94-2.06 2.06-.94-2.06-.94-.94-2.06-.94 2.06-2.06.94zm-11 1L8.5 8.5l.94-2.06 2.06-.94-2.06-.94L8.5 2.5l-.94 2.06-2.06.94zm10 10l.94 2.06.94-2.06 2.06-.94-2.06-.94-.94-2.06-.94 2.06-2.06.94z\"/><path d=\"M17.41 7.96l-1.37-1.37c-.4-.4-.92-.59-1.43-.59-.52 0-1.04.2-1.43.59L10.3 9.45l-7.72 7.72c-.78.78-.78 2.05 0 2.83L4 21.41c.39.39.9.59 1.41.59.51 0 1.02-.2 1.41-.59l7.78-7.78 2.81-2.81c.8-.78.8-2.07 0-2.86zM5.41 20L4 18.59l7.72-7.72 1.47 1.35L5.41 20z\"/>\n",
              "  </svg>\n",
              "      </button>\n",
              "      \n",
              "  <style>\n",
              "    .colab-df-container {\n",
              "      display:flex;\n",
              "      flex-wrap:wrap;\n",
              "      gap: 12px;\n",
              "    }\n",
              "\n",
              "    .colab-df-convert {\n",
              "      background-color: #E8F0FE;\n",
              "      border: none;\n",
              "      border-radius: 50%;\n",
              "      cursor: pointer;\n",
              "      display: none;\n",
              "      fill: #1967D2;\n",
              "      height: 32px;\n",
              "      padding: 0 0 0 0;\n",
              "      width: 32px;\n",
              "    }\n",
              "\n",
              "    .colab-df-convert:hover {\n",
              "      background-color: #E2EBFA;\n",
              "      box-shadow: 0px 1px 2px rgba(60, 64, 67, 0.3), 0px 1px 3px 1px rgba(60, 64, 67, 0.15);\n",
              "      fill: #174EA6;\n",
              "    }\n",
              "\n",
              "    [theme=dark] .colab-df-convert {\n",
              "      background-color: #3B4455;\n",
              "      fill: #D2E3FC;\n",
              "    }\n",
              "\n",
              "    [theme=dark] .colab-df-convert:hover {\n",
              "      background-color: #434B5C;\n",
              "      box-shadow: 0px 1px 3px 1px rgba(0, 0, 0, 0.15);\n",
              "      filter: drop-shadow(0px 1px 2px rgba(0, 0, 0, 0.3));\n",
              "      fill: #FFFFFF;\n",
              "    }\n",
              "  </style>\n",
              "\n",
              "      <script>\n",
              "        const buttonEl =\n",
              "          document.querySelector('#df-a55c52a2-0b81-492f-8d0c-afef6b704b30 button.colab-df-convert');\n",
              "        buttonEl.style.display =\n",
              "          google.colab.kernel.accessAllowed ? 'block' : 'none';\n",
              "\n",
              "        async function convertToInteractive(key) {\n",
              "          const element = document.querySelector('#df-a55c52a2-0b81-492f-8d0c-afef6b704b30');\n",
              "          const dataTable =\n",
              "            await google.colab.kernel.invokeFunction('convertToInteractive',\n",
              "                                                     [key], {});\n",
              "          if (!dataTable) return;\n",
              "\n",
              "          const docLinkHtml = 'Like what you see? Visit the ' +\n",
              "            '<a target=\"_blank\" href=https://colab.research.google.com/notebooks/data_table.ipynb>data table notebook</a>'\n",
              "            + ' to learn more about interactive tables.';\n",
              "          element.innerHTML = '';\n",
              "          dataTable['output_type'] = 'display_data';\n",
              "          await google.colab.output.renderOutput(dataTable, element);\n",
              "          const docLink = document.createElement('div');\n",
              "          docLink.innerHTML = docLinkHtml;\n",
              "          element.appendChild(docLink);\n",
              "        }\n",
              "      </script>\n",
              "    </div>\n",
              "  </div>\n",
              "  "
            ]
          },
          "metadata": {},
          "execution_count": 77
        }
      ]
    },
    {
      "cell_type": "code",
      "source": [
        "interesting_languages = language_count['language'][:num].tolist() # lista de los lenguajes más populares\n",
        "filtered_df_lang = df_lang[df_lang.programming_language.isin(interesting_languages)].copy() # Nuevo DF con los lenguajes más populares\n",
        "print(f'La longitud del DataFrame extendido con los 10 lenguajes más populares es {len(filtered_df_lang)}')"
      ],
      "metadata": {
        "colab": {
          "base_uri": "https://localhost:8080/"
        },
        "id": "B-GMkia2Wnbk",
        "outputId": "c72ee641-71d8-413b-8d8d-e6acc85f2a31"
      },
      "execution_count": null,
      "outputs": [
        {
          "output_type": "stream",
          "name": "stdout",
          "text": [
            "La longitud del DataFrame extendido con los 10 lenguajes más populares es 11635\n"
          ]
        }
      ]
    },
    {
      "cell_type": "markdown",
      "source": [
        "Gráfica de barras de los lenguajes más populares (frecuencia absoluta y relativa)"
      ],
      "metadata": {
        "id": "ympT-uElWoNW"
      }
    },
    {
      "cell_type": "code",
      "source": [
        "fig, axes = plt.subplots(ncols=2, figsize=(20,6))\n",
        "ax = seaborn.countplot(filtered_df_lang.programming_language, order = interesting_languages,ax = axes[0])\n",
        "plt.ylabel('Fracuencia absoluta')\n",
        "\n",
        "ax = seaborn.countplot(filtered_df_lang.programming_language,order = interesting_languages,ax = axes[1])\n",
        "\n",
        "def adjust_y_axis(x, pos):\n",
        "  total_programadores = len(df)\n",
        "  fraccion= x / (total_programadores * 1.0)\n",
        "  return str(round(fraccion*100,2))+'%'\n",
        "\n",
        "ax.yaxis.set_major_formatter(tick.FuncFormatter(adjust_y_axis))\n",
        "ax.set_ylabel('Users [%]')\n",
        "\n",
        "for ax in axes:\n",
        "  ax.tick_params(labelrotation=45)"
      ],
      "metadata": {
        "colab": {
          "base_uri": "https://localhost:8080/",
          "height": 553
        },
        "id": "ZkJWp2o7WfF-",
        "outputId": "975d4100-e77c-42b9-d046-de045f209ba7"
      },
      "execution_count": null,
      "outputs": [
        {
          "output_type": "stream",
          "name": "stderr",
          "text": [
            "/usr/local/lib/python3.7/dist-packages/seaborn/_decorators.py:43: FutureWarning: Pass the following variable as a keyword arg: x. From version 0.12, the only valid positional argument will be `data`, and passing other arguments without an explicit keyword will result in an error or misinterpretation.\n",
            "  FutureWarning\n",
            "/usr/local/lib/python3.7/dist-packages/seaborn/_decorators.py:43: FutureWarning: Pass the following variable as a keyword arg: x. From version 0.12, the only valid positional argument will be `data`, and passing other arguments without an explicit keyword will result in an error or misinterpretation.\n",
            "  FutureWarning\n"
          ]
        },
        {
          "output_type": "display_data",
          "data": {
            "text/plain": [
              "<Figure size 1440x432 with 2 Axes>"
            ],
            "image/png": "[encoded data removed]"
          },
          "metadata": {
            "needs_background": "light"
          }
        }
      ]
    },
    {
      "cell_type": "markdown",
      "source": [
        "A continuación se determina el salario NETO medio a partir del DataFrame sin anomalías"
      ],
      "metadata": {
        "id": "YoOMWp8caGZG"
      }
    },
    {
      "cell_type": "code",
      "source": [
        "salario_medio = df['salary_monthly_NETO'].mean()\n",
        "print(f'El salario NETO medio es {salario_medio:.2f}')"
      ],
      "metadata": {
        "colab": {
          "base_uri": "https://localhost:8080/"
        },
        "id": "j9YeLHYJ6jVo",
        "outputId": "7eb08243-bff8-460d-8298-75d268302326"
      },
      "execution_count": null,
      "outputs": [
        {
          "output_type": "stream",
          "name": "stdout",
          "text": [
            "El salario NETO medio es 84300.19\n"
          ]
        }
      ]
    },
    {
      "cell_type": "markdown",
      "source": [
        "Por curiosidad, se calcula la probabilidad de cobrar más de la media y más de $100.000 o más.\n"
      ],
      "metadata": {
        "id": "zEuZv-rxahXO"
      }
    },
    {
      "cell_type": "code",
      "source": [
        "salary_above_mean = df['salary_monthly_NETO'] >= salario_medio # Teniendo en cuenta todos los lenguajes sin separación\n",
        "prob_salary_above_mean = len(df[salary_above_mean]) / len(df)\n",
        "print(f'La probabilidad de cobrar {salario_medio:.2f} o más es {prob_salary_above_mean:.3f}')"
      ],
      "metadata": {
        "colab": {
          "base_uri": "https://localhost:8080/"
        },
        "id": "fH1OjF2Aa0Y_",
        "outputId": "5604616a-53a1-4a52-8fcf-bca3cb99438f"
      },
      "execution_count": null,
      "outputs": [
        {
          "output_type": "stream",
          "name": "stdout",
          "text": [
            "La probabilidad de cobrar 84300.19 o más es 0.432\n"
          ]
        }
      ]
    },
    {
      "cell_type": "code",
      "source": [
        "salary_above_100k = df['salary_monthly_NETO'] >= 100000 # Teniendo en cuenta todos los lenguajes sin separación\n",
        "prob_salary_above_100k = len(df[salary_above_100k]) / len(df)\n",
        "print(f'La probabilidad de cobrar $100.000 o más es {prob_salary_above_100k:.3f}')"
      ],
      "metadata": {
        "colab": {
          "base_uri": "https://localhost:8080/"
        },
        "id": "VqEMEc_vafJS",
        "outputId": "d7e4096f-e6ac-46ef-f43a-ee9ddd718397"
      },
      "execution_count": null,
      "outputs": [
        {
          "output_type": "stream",
          "name": "stdout",
          "text": [
            "La probabilidad de cobrar $100.000 o más es 0.290\n"
          ]
        }
      ]
    },
    {
      "cell_type": "markdown",
      "source": [
        "Probabilidad condicional de cada uno de los lenguajes más populares: dado que el programador sabe uno de los lenguajes más populares, ¿cuál es la probabilidad de que cobre $100.000 o más?"
      ],
      "metadata": {
        "id": "sqCClROkkT4Y"
      }
    },
    {
      "cell_type": "code",
      "source": [
        "seaborn.catplot(data=filtered_df_lang[filtered_df_lang['salary_monthly_NETO'] >= 100000],order = interesting_languages, \n",
        "                y='salary_monthly_NETO',x='programming_language', height=4, aspect=2)\n",
        "plt.xticks(rotation = 45)\n",
        "plt.show()\n",
        "\n",
        "# Observación: Si bien todos los lenguajes alcanzan aproximadamente la misma altura, es decir, similares salarios netos, no presentan la misma cantidad\n",
        "# de puntos, siendo unos más \"poblados\" que otros"
      ],
      "metadata": {
        "id": "3Dk7BPalaet3",
        "colab": {
          "base_uri": "https://localhost:8080/",
          "height": 334
        },
        "outputId": "ec32ddd1-36a1-4ef0-b6a8-bba27c3a2499"
      },
      "execution_count": null,
      "outputs": [
        {
          "output_type": "display_data",
          "data": {
            "text/plain": [
              "<Figure size 576x288 with 1 Axes>"
            ],
            "image/png": "[encoded data removed]"
          },
          "metadata": {
            "needs_background": "light"
          }
        }
      ]
    },
    {
      "cell_type": "code",
      "source": [
        "probabilidades_condicionales = []\n",
        "for lenguaje in interesting_languages:\n",
        "    interseccion = len(filtered_df_lang[(filtered_df_lang['salary_monthly_NETO'] >= 100000) & (filtered_df_lang['programming_language'] == lenguaje)])\n",
        "    probabilidades_condicionales.append(interseccion/len(filtered_df_lang[filtered_df_lang['programming_language'] == lenguaje]))\n",
        "  \n",
        "prob_condicionales = DataFrame(zip(interesting_languages,probabilidades_condicionales),columns = ['Programming Language', 'Conditional Probability'])\n",
        "prob_condicionales"
      ],
      "metadata": {
        "colab": {
          "base_uri": "https://localhost:8080/",
          "height": 363
        },
        "id": "994AzSuPvasH",
        "outputId": "350d08ee-84ba-482c-f721-df134c407914"
      },
      "execution_count": null,
      "outputs": [
        {
          "output_type": "execute_result",
          "data": {
            "text/plain": [
              "  Programming Language  Conditional Probability\n",
              "0           javascript                 0.301038\n",
              "1                  sql                 0.277008\n",
              "2                 html                 0.245473\n",
              "3                 java                 0.380914\n",
              "4               python                 0.371429\n",
              "5                  css                 0.250749\n",
              "6           bash/shell                 0.391827\n",
              "7                  php                 0.287143\n",
              "8                 .net                 0.272993\n",
              "9           typescript                 0.349840"
            ],
            "text/html": [
              "\n",
              "  <div id=\"df-429ed85e-a980-4e75-8da4-43d72fed9627\">\n",
              "    <div class=\"colab-df-container\">\n",
              "      <div>\n",
              "<style scoped>\n",
              "    .dataframe tbody tr th:only-of-type {\n",
              "        vertical-align: middle;\n",
              "    }\n",
              "\n",
              "    .dataframe tbody tr th {\n",
              "        vertical-align: top;\n",
              "    }\n",
              "\n",
              "    .dataframe thead th {\n",
              "        text-align: right;\n",
              "    }\n",
              "</style>\n",
              "<table border=\"1\" class=\"dataframe\">\n",
              "  <thead>\n",
              "    <tr style=\"text-align: right;\">\n",
              "      <th></th>\n",
              "      <th>Programming Language</th>\n",
              "      <th>Conditional Probability</th>\n",
              "    </tr>\n",
              "  </thead>\n",
              "  <tbody>\n",
              "    <tr>\n",
              "      <th>0</th>\n",
              "      <td>javascript</td>\n",
              "      <td>0.301038</td>\n",
              "    </tr>\n",
              "    <tr>\n",
              "      <th>1</th>\n",
              "      <td>sql</td>\n",
              "      <td>0.277008</td>\n",
              "    </tr>\n",
              "    <tr>\n",
              "      <th>2</th>\n",
              "      <td>html</td>\n",
              "      <td>0.245473</td>\n",
              "    </tr>\n",
              "    <tr>\n",
              "      <th>3</th>\n",
              "      <td>java</td>\n",
              "      <td>0.380914</td>\n",
              "    </tr>\n",
              "    <tr>\n",
              "      <th>4</th>\n",
              "      <td>python</td>\n",
              "      <td>0.371429</td>\n",
              "    </tr>\n",
              "    <tr>\n",
              "      <th>5</th>\n",
              "      <td>css</td>\n",
              "      <td>0.250749</td>\n",
              "    </tr>\n",
              "    <tr>\n",
              "      <th>6</th>\n",
              "      <td>bash/shell</td>\n",
              "      <td>0.391827</td>\n",
              "    </tr>\n",
              "    <tr>\n",
              "      <th>7</th>\n",
              "      <td>php</td>\n",
              "      <td>0.287143</td>\n",
              "    </tr>\n",
              "    <tr>\n",
              "      <th>8</th>\n",
              "      <td>.net</td>\n",
              "      <td>0.272993</td>\n",
              "    </tr>\n",
              "    <tr>\n",
              "      <th>9</th>\n",
              "      <td>typescript</td>\n",
              "      <td>0.349840</td>\n",
              "    </tr>\n",
              "  </tbody>\n",
              "</table>\n",
              "</div>\n",
              "      <button class=\"colab-df-convert\" onclick=\"convertToInteractive('df-429ed85e-a980-4e75-8da4-43d72fed9627')\"\n",
              "              title=\"Convert this dataframe to an interactive table.\"\n",
              "              style=\"display:none;\">\n",
              "        \n",
              "  <svg xmlns=\"http://www.w3.org/2000/svg\" height=\"24px\"viewBox=\"0 0 24 24\"\n",
              "       width=\"24px\">\n",
              "    <path d=\"M0 0h24v24H0V0z\" fill=\"none\"/>\n",
              "    <path d=\"M18.56 5.44l.94 2.06.94-2.06 2.06-.94-2.06-.94-.94-2.06-.94 2.06-2.06.94zm-11 1L8.5 8.5l.94-2.06 2.06-.94-2.06-.94L8.5 2.5l-.94 2.06-2.06.94zm10 10l.94 2.06.94-2.06 2.06-.94-2.06-.94-.94-2.06-.94 2.06-2.06.94z\"/><path d=\"M17.41 7.96l-1.37-1.37c-.4-.4-.92-.59-1.43-.59-.52 0-1.04.2-1.43.59L10.3 9.45l-7.72 7.72c-.78.78-.78 2.05 0 2.83L4 21.41c.39.39.9.59 1.41.59.51 0 1.02-.2 1.41-.59l7.78-7.78 2.81-2.81c.8-.78.8-2.07 0-2.86zM5.41 20L4 18.59l7.72-7.72 1.47 1.35L5.41 20z\"/>\n",
              "  </svg>\n",
              "      </button>\n",
              "      \n",
              "  <style>\n",
              "    .colab-df-container {\n",
              "      display:flex;\n",
              "      flex-wrap:wrap;\n",
              "      gap: 12px;\n",
              "    }\n",
              "\n",
              "    .colab-df-convert {\n",
              "      background-color: #E8F0FE;\n",
              "      border: none;\n",
              "      border-radius: 50%;\n",
              "      cursor: pointer;\n",
              "      display: none;\n",
              "      fill: #1967D2;\n",
              "      height: 32px;\n",
              "      padding: 0 0 0 0;\n",
              "      width: 32px;\n",
              "    }\n",
              "\n",
              "    .colab-df-convert:hover {\n",
              "      background-color: #E2EBFA;\n",
              "      box-shadow: 0px 1px 2px rgba(60, 64, 67, 0.3), 0px 1px 3px 1px rgba(60, 64, 67, 0.15);\n",
              "      fill: #174EA6;\n",
              "    }\n",
              "\n",
              "    [theme=dark] .colab-df-convert {\n",
              "      background-color: #3B4455;\n",
              "      fill: #D2E3FC;\n",
              "    }\n",
              "\n",
              "    [theme=dark] .colab-df-convert:hover {\n",
              "      background-color: #434B5C;\n",
              "      box-shadow: 0px 1px 3px 1px rgba(0, 0, 0, 0.15);\n",
              "      filter: drop-shadow(0px 1px 2px rgba(0, 0, 0, 0.3));\n",
              "      fill: #FFFFFF;\n",
              "    }\n",
              "  </style>\n",
              "\n",
              "      <script>\n",
              "        const buttonEl =\n",
              "          document.querySelector('#df-429ed85e-a980-4e75-8da4-43d72fed9627 button.colab-df-convert');\n",
              "        buttonEl.style.display =\n",
              "          google.colab.kernel.accessAllowed ? 'block' : 'none';\n",
              "\n",
              "        async function convertToInteractive(key) {\n",
              "          const element = document.querySelector('#df-429ed85e-a980-4e75-8da4-43d72fed9627');\n",
              "          const dataTable =\n",
              "            await google.colab.kernel.invokeFunction('convertToInteractive',\n",
              "                                                     [key], {});\n",
              "          if (!dataTable) return;\n",
              "\n",
              "          const docLinkHtml = 'Like what you see? Visit the ' +\n",
              "            '<a target=\"_blank\" href=https://colab.research.google.com/notebooks/data_table.ipynb>data table notebook</a>'\n",
              "            + ' to learn more about interactive tables.';\n",
              "          element.innerHTML = '';\n",
              "          dataTable['output_type'] = 'display_data';\n",
              "          await google.colab.output.renderOutput(dataTable, element);\n",
              "          const docLink = document.createElement('div');\n",
              "          docLink.innerHTML = docLinkHtml;\n",
              "          element.appendChild(docLink);\n",
              "        }\n",
              "      </script>\n",
              "    </div>\n",
              "  </div>\n",
              "  "
            ]
          },
          "metadata": {},
          "execution_count": 84
        }
      ]
    },
    {
      "cell_type": "code",
      "source": [
        "frecc_rel = []\n",
        "for frecc_abs in lenguaje_table['frequency']:\n",
        "  frecc_rel.append(frecc_abs/len(df))"
      ],
      "metadata": {
        "id": "qTeL4DwyvbUH"
      },
      "execution_count": null,
      "outputs": []
    },
    {
      "cell_type": "code",
      "source": [
        "lenguaje_table['relative frequency'] = frecc_rel\n",
        "lenguaje_table['Cond. Probability'] = prob_condicionales['Conditional Probability']\n",
        "lenguaje_table"
      ],
      "metadata": {
        "id": "ErEYScooHrAd",
        "colab": {
          "base_uri": "https://localhost:8080/",
          "height": 571
        },
        "outputId": "dc0a4220-47b9-444c-f399-dd9508a3d673"
      },
      "execution_count": null,
      "outputs": [
        {
          "output_type": "stream",
          "name": "stderr",
          "text": [
            "/usr/local/lib/python3.7/dist-packages/ipykernel_launcher.py:1: SettingWithCopyWarning: \n",
            "A value is trying to be set on a copy of a slice from a DataFrame.\n",
            "Try using .loc[row_indexer,col_indexer] = value instead\n",
            "\n",
            "See the caveats in the documentation: https://pandas.pydata.org/pandas-docs/stable/user_guide/indexing.html#returning-a-view-versus-a-copy\n",
            "  \"\"\"Entry point for launching an IPython kernel.\n",
            "/usr/local/lib/python3.7/dist-packages/ipykernel_launcher.py:2: SettingWithCopyWarning: \n",
            "A value is trying to be set on a copy of a slice from a DataFrame.\n",
            "Try using .loc[row_indexer,col_indexer] = value instead\n",
            "\n",
            "See the caveats in the documentation: https://pandas.pydata.org/pandas-docs/stable/user_guide/indexing.html#returning-a-view-versus-a-copy\n",
            "  \n"
          ]
        },
        {
          "output_type": "execute_result",
          "data": {
            "text/plain": [
              "     language  frequency  relative frequency  Cond. Probability\n",
              "0  javascript       2023            0.400515           0.301038\n",
              "1         sql       1805            0.357355           0.277008\n",
              "2        html       1491            0.295189           0.245473\n",
              "3        java       1247            0.246882           0.380914\n",
              "4      python       1225            0.242526           0.371429\n",
              "5         css       1001            0.198179           0.250749\n",
              "6  bash/shell        832            0.164720           0.391827\n",
              "7         php        700            0.138586           0.287143\n",
              "8        .net        685            0.135617           0.272993\n",
              "9  typescript        626            0.123936           0.349840"
            ],
            "text/html": [
              "\n",
              "  <div id=\"df-ad431fb0-9627-430d-9650-cc97cabfd38e\">\n",
              "    <div class=\"colab-df-container\">\n",
              "      <div>\n",
              "<style scoped>\n",
              "    .dataframe tbody tr th:only-of-type {\n",
              "        vertical-align: middle;\n",
              "    }\n",
              "\n",
              "    .dataframe tbody tr th {\n",
              "        vertical-align: top;\n",
              "    }\n",
              "\n",
              "    .dataframe thead th {\n",
              "        text-align: right;\n",
              "    }\n",
              "</style>\n",
              "<table border=\"1\" class=\"dataframe\">\n",
              "  <thead>\n",
              "    <tr style=\"text-align: right;\">\n",
              "      <th></th>\n",
              "      <th>language</th>\n",
              "      <th>frequency</th>\n",
              "      <th>relative frequency</th>\n",
              "      <th>Cond. Probability</th>\n",
              "    </tr>\n",
              "  </thead>\n",
              "  <tbody>\n",
              "    <tr>\n",
              "      <th>0</th>\n",
              "      <td>javascript</td>\n",
              "      <td>2023</td>\n",
              "      <td>0.400515</td>\n",
              "      <td>0.301038</td>\n",
              "    </tr>\n",
              "    <tr>\n",
              "      <th>1</th>\n",
              "      <td>sql</td>\n",
              "      <td>1805</td>\n",
              "      <td>0.357355</td>\n",
              "      <td>0.277008</td>\n",
              "    </tr>\n",
              "    <tr>\n",
              "      <th>2</th>\n",
              "      <td>html</td>\n",
              "      <td>1491</td>\n",
              "      <td>0.295189</td>\n",
              "      <td>0.245473</td>\n",
              "    </tr>\n",
              "    <tr>\n",
              "      <th>3</th>\n",
              "      <td>java</td>\n",
              "      <td>1247</td>\n",
              "      <td>0.246882</td>\n",
              "      <td>0.380914</td>\n",
              "    </tr>\n",
              "    <tr>\n",
              "      <th>4</th>\n",
              "      <td>python</td>\n",
              "      <td>1225</td>\n",
              "      <td>0.242526</td>\n",
              "      <td>0.371429</td>\n",
              "    </tr>\n",
              "    <tr>\n",
              "      <th>5</th>\n",
              "      <td>css</td>\n",
              "      <td>1001</td>\n",
              "      <td>0.198179</td>\n",
              "      <td>0.250749</td>\n",
              "    </tr>\n",
              "    <tr>\n",
              "      <th>6</th>\n",
              "      <td>bash/shell</td>\n",
              "      <td>832</td>\n",
              "      <td>0.164720</td>\n",
              "      <td>0.391827</td>\n",
              "    </tr>\n",
              "    <tr>\n",
              "      <th>7</th>\n",
              "      <td>php</td>\n",
              "      <td>700</td>\n",
              "      <td>0.138586</td>\n",
              "      <td>0.287143</td>\n",
              "    </tr>\n",
              "    <tr>\n",
              "      <th>8</th>\n",
              "      <td>.net</td>\n",
              "      <td>685</td>\n",
              "      <td>0.135617</td>\n",
              "      <td>0.272993</td>\n",
              "    </tr>\n",
              "    <tr>\n",
              "      <th>9</th>\n",
              "      <td>typescript</td>\n",
              "      <td>626</td>\n",
              "      <td>0.123936</td>\n",
              "      <td>0.349840</td>\n",
              "    </tr>\n",
              "  </tbody>\n",
              "</table>\n",
              "</div>\n",
              "      <button class=\"colab-df-convert\" onclick=\"convertToInteractive('df-ad431fb0-9627-430d-9650-cc97cabfd38e')\"\n",
              "              title=\"Convert this dataframe to an interactive table.\"\n",
              "              style=\"display:none;\">\n",
              "        \n",
              "  <svg xmlns=\"http://www.w3.org/2000/svg\" height=\"24px\"viewBox=\"0 0 24 24\"\n",
              "       width=\"24px\">\n",
              "    <path d=\"M0 0h24v24H0V0z\" fill=\"none\"/>\n",
              "    <path d=\"M18.56 5.44l.94 2.06.94-2.06 2.06-.94-2.06-.94-.94-2.06-.94 2.06-2.06.94zm-11 1L8.5 8.5l.94-2.06 2.06-.94-2.06-.94L8.5 2.5l-.94 2.06-2.06.94zm10 10l.94 2.06.94-2.06 2.06-.94-2.06-.94-.94-2.06-.94 2.06-2.06.94z\"/><path d=\"M17.41 7.96l-1.37-1.37c-.4-.4-.92-.59-1.43-.59-.52 0-1.04.2-1.43.59L10.3 9.45l-7.72 7.72c-.78.78-.78 2.05 0 2.83L4 21.41c.39.39.9.59 1.41.59.51 0 1.02-.2 1.41-.59l7.78-7.78 2.81-2.81c.8-.78.8-2.07 0-2.86zM5.41 20L4 18.59l7.72-7.72 1.47 1.35L5.41 20z\"/>\n",
              "  </svg>\n",
              "      </button>\n",
              "      \n",
              "  <style>\n",
              "    .colab-df-container {\n",
              "      display:flex;\n",
              "      flex-wrap:wrap;\n",
              "      gap: 12px;\n",
              "    }\n",
              "\n",
              "    .colab-df-convert {\n",
              "      background-color: #E8F0FE;\n",
              "      border: none;\n",
              "      border-radius: 50%;\n",
              "      cursor: pointer;\n",
              "      display: none;\n",
              "      fill: #1967D2;\n",
              "      height: 32px;\n",
              "      padding: 0 0 0 0;\n",
              "      width: 32px;\n",
              "    }\n",
              "\n",
              "    .colab-df-convert:hover {\n",
              "      background-color: #E2EBFA;\n",
              "      box-shadow: 0px 1px 2px rgba(60, 64, 67, 0.3), 0px 1px 3px 1px rgba(60, 64, 67, 0.15);\n",
              "      fill: #174EA6;\n",
              "    }\n",
              "\n",
              "    [theme=dark] .colab-df-convert {\n",
              "      background-color: #3B4455;\n",
              "      fill: #D2E3FC;\n",
              "    }\n",
              "\n",
              "    [theme=dark] .colab-df-convert:hover {\n",
              "      background-color: #434B5C;\n",
              "      box-shadow: 0px 1px 3px 1px rgba(0, 0, 0, 0.15);\n",
              "      filter: drop-shadow(0px 1px 2px rgba(0, 0, 0, 0.3));\n",
              "      fill: #FFFFFF;\n",
              "    }\n",
              "  </style>\n",
              "\n",
              "      <script>\n",
              "        const buttonEl =\n",
              "          document.querySelector('#df-ad431fb0-9627-430d-9650-cc97cabfd38e button.colab-df-convert');\n",
              "        buttonEl.style.display =\n",
              "          google.colab.kernel.accessAllowed ? 'block' : 'none';\n",
              "\n",
              "        async function convertToInteractive(key) {\n",
              "          const element = document.querySelector('#df-ad431fb0-9627-430d-9650-cc97cabfd38e');\n",
              "          const dataTable =\n",
              "            await google.colab.kernel.invokeFunction('convertToInteractive',\n",
              "                                                     [key], {});\n",
              "          if (!dataTable) return;\n",
              "\n",
              "          const docLinkHtml = 'Like what you see? Visit the ' +\n",
              "            '<a target=\"_blank\" href=https://colab.research.google.com/notebooks/data_table.ipynb>data table notebook</a>'\n",
              "            + ' to learn more about interactive tables.';\n",
              "          element.innerHTML = '';\n",
              "          dataTable['output_type'] = 'display_data';\n",
              "          await google.colab.output.renderOutput(dataTable, element);\n",
              "          const docLink = document.createElement('div');\n",
              "          docLink.innerHTML = docLinkHtml;\n",
              "          element.appendChild(docLink);\n",
              "        }\n",
              "      </script>\n",
              "    </div>\n",
              "  </div>\n",
              "  "
            ]
          },
          "metadata": {},
          "execution_count": 86
        }
      ]
    },
    {
      "cell_type": "code",
      "source": [
        "fig= plt.figure(figsize=(10,8))\n",
        "seaborn.scatterplot(lenguaje_table['relative frequency'],lenguaje_table['Cond. Probability'],hue = lenguaje_table['language'], s = 200)\n",
        "plt.legend(loc = 'upper right',prop={'size': 10})"
      ],
      "metadata": {
        "id": "OgjAd0RMe7_7",
        "colab": {
          "base_uri": "https://localhost:8080/",
          "height": 590
        },
        "outputId": "c171891b-8f97-4795-bc94-08dc60553deb"
      },
      "execution_count": null,
      "outputs": [
        {
          "output_type": "stream",
          "name": "stderr",
          "text": [
            "/usr/local/lib/python3.7/dist-packages/seaborn/_decorators.py:43: FutureWarning: Pass the following variables as keyword args: x, y. From version 0.12, the only valid positional argument will be `data`, and passing other arguments without an explicit keyword will result in an error or misinterpretation.\n",
            "  FutureWarning\n"
          ]
        },
        {
          "output_type": "execute_result",
          "data": {
            "text/plain": [
              "<matplotlib.legend.Legend at 0x7efc6d409c90>"
            ]
          },
          "metadata": {},
          "execution_count": 87
        },
        {
          "output_type": "display_data",
          "data": {
            "text/plain": [
              "<Figure size 720x576 with 1 Axes>"
            ],
            "image/png": "[encoded data removed]"
          },
          "metadata": {
            "needs_background": "light"
          }
        }
      ]
    },
    {
      "cell_type": "markdown",
      "source": [
        "### Conclusión\n",
        "De los 10 lenguajes más populares, Bash/Shell, Java y Python son los que están asociados a los salarios netos más altos, entendidos como aquellos que superan los 100.000 pesos. De estos tres, Bash/Shell es el que más resalta en el sentido que si bien no es un lenguaje muy popular (tiene baja frecuencia relativa), aquellos programadores que lo usan tienen la probabilidad más alta de cobrar más de 100.000 pesos."
      ],
      "metadata": {
        "id": "89NvpfhCR6Nh"
      }
    },
    {
      "cell_type": "code",
      "source": [
        ""
      ],
      "metadata": {
        "id": "LLPdPXfWzVX1"
      },
      "execution_count": null,
      "outputs": []
    }
  ]
}